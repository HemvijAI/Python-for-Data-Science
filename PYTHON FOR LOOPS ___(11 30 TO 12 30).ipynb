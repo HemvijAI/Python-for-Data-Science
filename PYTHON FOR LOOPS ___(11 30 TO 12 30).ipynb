{
 "cells": [
  {
   "cell_type": "code",
   "execution_count": 4,
   "id": "18f5f693",
   "metadata": {},
   "outputs": [
    {
     "name": "stdout",
     "output_type": "stream",
     "text": [
      "1,2,3,4,5,6,7,8,9,10,11,12,13,14,15,16,17,18,19,20,"
     ]
    }
   ],
   "source": [
    "for i in range(1,21):\n",
    "    print(i , end=',')"
   ]
  },
  {
   "cell_type": "code",
   "execution_count": 17,
   "id": "2630556d",
   "metadata": {},
   "outputs": [
    {
     "name": "stdout",
     "output_type": "stream",
     "text": [
      "[4, 8, 12, 16, 20, 24, 28, 32, 36, 40, 44, 48, 52, 56, 60, 64, 68, 72, 76, 80]\n"
     ]
    }
   ],
   "source": [
    "x=list(range(21))\n",
    "x[:]=list(range(4,81,4))\n",
    "print(x)"
   ]
  },
  {
   "cell_type": "code",
   "execution_count": 20,
   "id": "3de4072b",
   "metadata": {},
   "outputs": [
    {
     "name": "stdout",
     "output_type": "stream",
     "text": [
      "square of: 4 is: (16,)\n",
      "lucky number\n",
      "square of: 5 is: (25,)\n",
      "square of: 6 is: (36,)\n",
      "square of: 7 is: (49,)\n",
      "square of: 8 is: (64,)\n"
     ]
    }
   ],
   "source": [
    "number=[1,2,3,4,5]\n",
    "for i in number:\n",
    "    i=i+3\n",
    "    square=i**2,\n",
    "    print('square of:',i , 'is:',square)\n",
    "    for j in square:\n",
    "        if j==16:\n",
    "            print('lucky number')"
   ]
  },
  {
   "cell_type": "code",
   "execution_count": 23,
   "id": "ea04a21e",
   "metadata": {},
   "outputs": [
    {
     "name": "stdout",
     "output_type": "stream",
     "text": [
      "square of: 4 is: list[16]\n"
     ]
    },
    {
     "ename": "TypeError",
     "evalue": "'types.GenericAlias' object is not iterable",
     "output_type": "error",
     "traceback": [
      "\u001b[1;31m---------------------------------------------------------------------------\u001b[0m",
      "\u001b[1;31mTypeError\u001b[0m                                 Traceback (most recent call last)",
      "Cell \u001b[1;32mIn[23], line 6\u001b[0m\n\u001b[0;32m      4\u001b[0m square\u001b[38;5;241m=\u001b[39m\u001b[38;5;28mlist\u001b[39m[(i\u001b[38;5;241m*\u001b[39m\u001b[38;5;241m*\u001b[39m\u001b[38;5;241m2\u001b[39m)]\n\u001b[0;32m      5\u001b[0m \u001b[38;5;28mprint\u001b[39m(\u001b[38;5;124m'\u001b[39m\u001b[38;5;124msquare of:\u001b[39m\u001b[38;5;124m'\u001b[39m,i , \u001b[38;5;124m'\u001b[39m\u001b[38;5;124mis:\u001b[39m\u001b[38;5;124m'\u001b[39m,square)\n\u001b[1;32m----> 6\u001b[0m \u001b[38;5;28;01mfor\u001b[39;00m j \u001b[38;5;129;01min\u001b[39;00m square:\n\u001b[0;32m      7\u001b[0m     \u001b[38;5;28;01mif\u001b[39;00m j\u001b[38;5;241m==\u001b[39m\u001b[38;5;241m16\u001b[39m:\n\u001b[0;32m      8\u001b[0m         \u001b[38;5;28mprint\u001b[39m(\u001b[38;5;124m'\u001b[39m\u001b[38;5;124mlucky number\u001b[39m\u001b[38;5;124m'\u001b[39m)\n",
      "\u001b[1;31mTypeError\u001b[0m: 'types.GenericAlias' object is not iterable"
     ]
    }
   ],
   "source": [
    "number=[1,2,3,4,5]\n",
    "for i in number:\n",
    "    i=i+3\n",
    "    square=list[(i**2)]\n",
    "    print('square of:',i , 'is:',square)\n",
    "    for j in square:\n",
    "        if j==16:\n",
    "            print('lucky number')"
   ]
  },
  {
   "cell_type": "code",
   "execution_count": 24,
   "id": "41345368",
   "metadata": {},
   "outputs": [
    {
     "name": "stdout",
     "output_type": "stream",
     "text": [
      "square of: 4 is: [16]\n",
      "lucky number\n",
      "square of: 5 is: [25]\n",
      "square of: 6 is: [36]\n",
      "square of: 7 is: [49]\n",
      "square of: 8 is: [64]\n"
     ]
    }
   ],
   "source": [
    "number=[1,2,3,4,5]\n",
    "for i in number:\n",
    "    i=i+3\n",
    "    square=list([(i**2)])\n",
    "    print('square of:',i , 'is:',square)\n",
    "    for j in square:\n",
    "        if j==16:\n",
    "            print('lucky number')"
   ]
  },
  {
   "cell_type": "code",
   "execution_count": 34,
   "id": "78dcb72a",
   "metadata": {},
   "outputs": [
    {
     "name": "stdout",
     "output_type": "stream",
     "text": [
      "2\n",
      "6\n",
      "12\n",
      "20\n",
      "30\n",
      "42\n",
      "56\n",
      "72\n",
      "90\n",
      "110\n",
      "110\n"
     ]
    }
   ],
   "source": [
    "sum=0\n",
    "for i in range(2,22,2):\n",
    "    sum=sum+i\n",
    "    print(sum)\n",
    "print(sum)"
   ]
  },
  {
   "cell_type": "code",
   "execution_count": 39,
   "id": "cf461ff6",
   "metadata": {},
   "outputs": [
    {
     "name": "stdout",
     "output_type": "stream",
     "text": [
      "green\n",
      "g\n",
      "ggg\n",
      "r\n",
      "rrr\n",
      "e\n",
      "eee\n",
      "e\n",
      "eee\n",
      "n\n",
      "nnn\n",
      "y\n",
      "yyy\n",
      "e\n",
      "eee\n",
      "l\n",
      "lll\n",
      "l\n",
      "lll\n",
      "o\n",
      "ooo\n",
      "w\n",
      "www\n",
      "r\n",
      "rrr\n",
      "e\n",
      "eee\n",
      "d\n",
      "ddd\n",
      "ddd\n"
     ]
    }
   ],
   "source": [
    "x=['green','yellow','red']\n",
    "for i in x:\n",
    "    if i=='green':\n",
    "        print(i)\n",
    "    for j in i:\n",
    "        print(j)\n",
    "        for k in j:\n",
    "            if k!='yellow':\n",
    "                print(k*3)\n",
    "print(k*3)                "
   ]
  },
  {
   "cell_type": "code",
   "execution_count": null,
   "id": "983491e3",
   "metadata": {},
   "outputs": [],
   "source": [
    "colours=['green','yellow','red']\n",
    "for colour in x:\n",
    "    if colour=='green':\n",
    "        print(colour)\n",
    "    for i in colour:\n",
    "        print(i)\n",
    "        for j in i:\n",
    "            if j!='yellow':\n",
    "                print(j*3)\n",
    "print(j*3) "
   ]
  },
  {
   "cell_type": "code",
   "execution_count": 38,
   "id": "baf4afe4",
   "metadata": {},
   "outputs": [
    {
     "name": "stdout",
     "output_type": "stream",
     "text": [
      "green\n",
      "g\n",
      "ggg\n",
      "r\n",
      "rrr\n",
      "e\n",
      "eee\n",
      "e\n",
      "eee\n",
      "n\n",
      "nnn\n",
      "y\n",
      "yyy\n",
      "e\n",
      "eee\n",
      "l\n",
      "lll\n",
      "l\n",
      "lll\n",
      "o\n",
      "ooo\n",
      "w\n",
      "www\n",
      "r\n",
      "rrr\n",
      "e\n",
      "eee\n",
      "d\n",
      "ddd\n",
      "ddd\n"
     ]
    }
   ],
   "source": [
    "colours=['green','yellow','red']\n",
    "for colour in x:\n",
    "    if colour=='green':\n",
    "        print(colour)\n",
    "    for i in colour:\n",
    "        print(i)\n",
    "        for j in i:\n",
    "            if j!='yellow':\n",
    "                print(j*3)\n",
    "print(j*3)                "
   ]
  },
  {
   "cell_type": "code",
   "execution_count": null,
   "id": "26001a8e",
   "metadata": {},
   "outputs": [],
   "source": []
  },
  {
   "cell_type": "code",
   "execution_count": null,
   "id": "6db953bb",
   "metadata": {},
   "outputs": [],
   "source": []
  }
 ],
 "metadata": {
  "kernelspec": {
   "display_name": "Python 3 (ipykernel)",
   "language": "python",
   "name": "python3"
  },
  "language_info": {
   "codemirror_mode": {
    "name": "ipython",
    "version": 3
   },
   "file_extension": ".py",
   "mimetype": "text/x-python",
   "name": "python",
   "nbconvert_exporter": "python",
   "pygments_lexer": "ipython3",
   "version": "3.10.9"
  }
 },
 "nbformat": 4,
 "nbformat_minor": 5
}
