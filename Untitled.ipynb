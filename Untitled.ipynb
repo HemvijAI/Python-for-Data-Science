{
 "cells": [
  {
   "cell_type": "code",
   "execution_count": 2,
   "id": "8b8d75af",
   "metadata": {},
   "outputs": [
    {
     "name": "stdout",
     "output_type": "stream",
     "text": [
      "even number;45\n",
      "odd number;43\n",
      "4543\n"
     ]
    }
   ],
   "source": [
    "\n",
    "\n",
    "b=input(\"even number;\")\n",
    "c=input(\"odd number;\") \n",
    "r=b+c\n",
    "print(r)        \n",
    "\n"
   ]
  },
  {
   "cell_type": "code",
   "execution_count": 5,
   "id": "931f1cdc",
   "metadata": {},
   "outputs": [
    {
     "name": "stdout",
     "output_type": "stream",
     "text": [
      "how/b)\n"
     ]
    }
   ],
   "source": [
    "print(\"how/b)\")\n",
    "\n",
    " "
   ]
  },
  {
   "cell_type": "code",
   "execution_count": 7,
   "id": "5784c8a2",
   "metadata": {},
   "outputs": [
    {
     "name": "stdout",
     "output_type": "stream",
     "text": [
      "how\b\n"
     ]
    }
   ],
   "source": [
    "print(\"how\\b\")  "
   ]
  },
  {
   "cell_type": "code",
   "execution_count": 9,
   "id": "570f69e4",
   "metadata": {},
   "outputs": [
    {
     "name": "stdout",
     "output_type": "stream",
     "text": [
      "this\b\n"
     ]
    }
   ],
   "source": [
    "print(\"this\\b\")"
   ]
  },
  {
   "cell_type": "code",
   "execution_count": 10,
   "id": "a6500790",
   "metadata": {},
   "outputs": [
    {
     "name": "stdout",
     "output_type": "stream",
     "text": [
      "hello myname is\n",
      " priyanshu negi\n"
     ]
    }
   ],
   "source": [
    "print(\"hello myname is\\n priyanshu negi\")"
   ]
  },
  {
   "cell_type": "code",
   "execution_count": null,
   "id": "0fee8c16",
   "metadata": {},
   "outputs": [],
   "source": [
    "\n"
   ]
  },
  {
   "cell_type": "code",
   "execution_count": null,
   "id": "789639c7",
   "metadata": {},
   "outputs": [],
   "source": []
  },
  {
   "cell_type": "code",
   "execution_count": 11,
   "id": "f96672ce",
   "metadata": {},
   "outputs": [
    {
     "name": "stdout",
     "output_type": "stream",
     "text": [
      "employ namesuresh\n",
      "entercompany namevltas\n"
     ]
    }
   ],
   "source": [
    "name=input(\"employ name\")\n",
    "salary=input(\"entercompany name\")\n",
    "#display all values on screen\n"
   ]
  },
  {
   "cell_type": "code",
   "execution_count": null,
   "id": "c3156999",
   "metadata": {},
   "outputs": [],
   "source": []
  }
 ],
 "metadata": {
  "kernelspec": {
   "display_name": "Python 3 (ipykernel)",
   "language": "python",
   "name": "python3"
  },
  "language_info": {
   "codemirror_mode": {
    "name": "ipython",
    "version": 3
   },
   "file_extension": ".py",
   "mimetype": "text/x-python",
   "name": "python",
   "nbconvert_exporter": "python",
   "pygments_lexer": "ipython3",
   "version": "3.10.9"
  }
 },
 "nbformat": 4,
 "nbformat_minor": 5
}
