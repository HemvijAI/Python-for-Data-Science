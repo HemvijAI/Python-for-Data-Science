{
 "cells": [
  {
   "cell_type": "code",
   "execution_count": null,
   "id": "f3c33d30",
   "metadata": {},
   "outputs": [],
   "source": [
    "using docstring in function\n",
    "single line docstring"
   ]
  },
  {
   "cell_type": "code",
   "execution_count": null,
   "id": "923d9d50",
   "metadata": {},
   "outputs": [],
   "source": [
    "\n",
    "25-3-23\n"
   ]
  },
  {
   "cell_type": "code",
   "execution_count": 3,
   "id": "bf8b1975",
   "metadata": {
    "scrolled": true
   },
   "outputs": [
    {
     "data": {
      "text/plain": [
       "[2, 4, 6]"
      ]
     },
     "execution_count": 3,
     "metadata": {},
     "output_type": "execute_result"
    }
   ],
   "source": [
    "# filter(function,iterable)\n",
    "list(filter(lambda x:x%2==0,(1,2,3,4,5,6)))"
   ]
  },
  {
   "cell_type": "code",
   "execution_count": null,
   "id": "8b40698b",
   "metadata": {},
   "outputs": [],
   "source": []
  },
  {
   "cell_type": "code",
   "execution_count": 5,
   "id": "7aa8e2e9",
   "metadata": {},
   "outputs": [
    {
     "data": {
      "text/plain": [
       "[]"
      ]
     },
     "execution_count": 5,
     "metadata": {},
     "output_type": "execute_result"
    }
   ],
   "source": [
    "list(filter(lambda x:None,(1,2,3,4,5,6)))"
   ]
  },
  {
   "cell_type": "code",
   "execution_count": 8,
   "id": "20367be5",
   "metadata": {},
   "outputs": [
    {
     "name": "stdout",
     "output_type": "stream",
     "text": [
      "result is: [4, 5, 6, 10, 11]\n"
     ]
    }
   ],
   "source": [
    "# map(function,iterable)\n",
    "#take a function as a first argument and applies it to each of theelement of the iterable\n",
    "list1=[2,3,4,8,9]\n",
    "list2=list(map(lambda x:x+2,list1))\n",
    "print(\"result is:\",list2"
   ]
  },
  {
   "cell_type": "code",
   "execution_count": null,
   "id": "62c029e3",
   "metadata": {},
   "outputs": [],
   "source": []
  },
  {
   "cell_type": "code",
   "execution_count": 9,
   "id": "ffea1241",
   "metadata": {},
   "outputs": [
    {
     "name": "stdout",
     "output_type": "stream",
     "text": [
      "result is: ['data science', 'data science', 'data science', 'data science', 'data science']\n"
     ]
    }
   ],
   "source": [
    "list1=[2,3,4,8,9]\n",
    "list2=list(map(lambda x:\"data science\",list1))\n",
    "print(\"resultl is:\",list2)"
   ]
  },
  {
   "cell_type": "code",
   "execution_count": 10,
   "id": "42d4485c",
   "metadata": {},
   "outputs": [
    {
     "name": "stdout",
     "output_type": "stream",
     "text": [
      "8\n"
     ]
    }
   ],
   "source": [
    "x=8\n",
    "if(x%2==0):print(x)"
   ]
  },
  {
   "cell_type": "code",
   "execution_count": null,
   "id": "fb648c6b",
   "metadata": {},
   "outputs": [],
   "source": [
    "variabel length arguments or arbitary arguments\n",
    "when we need to pass multiple arguments to the function we can use variable length argument 21 july "
   ]
  },
  {
   "cell_type": "code",
   "execution_count": null,
   "id": "6c619e91",
   "metadata": {},
   "outputs": [],
   "source": [
    "26/3/2023"
   ]
  },
  {
   "cell_type": "code",
   "execution_count": null,
   "id": "617010fe",
   "metadata": {},
   "outputs": [],
   "source": [
    "object oriented programing\n",
    "every object has the following properties\n",
    "1 identity:every object must be uniquely idntified\n",
    "2 state : an object has attributes that represent the represent the state of an object\n",
    "3:behavior:an object has methods that represent its behavior\n",
    "\n",
    "object is an instance of a class\n",
    "\n",
    "class is a blueprint or code template for object creation . using a class you can create as many\n",
    "objects as you want."
   ]
  },
  {
   "cell_type": "code",
   "execution_count": 5,
   "id": "85213312",
   "metadata": {},
   "outputs": [
    {
     "data": {
      "text/plain": [
       "'this is a docstring.i have created a class,'"
      ]
     },
     "execution_count": 5,
     "metadata": {},
     "output_type": "execute_result"
    }
   ],
   "source": [
    "# creating a class\n",
    "class class_name:\n",
    "    \"\"\"this is a docstring.i have created a class,\"\"\"\n",
    "    \n",
    "class_name.__doc__ "
   ]
  },
  {
   "cell_type": "markdown",
   "id": "e51c27eb",
   "metadata": {},
   "source": [
    "27/7/23"
   ]
  },
  {
   "cell_type": "raw",
   "id": "8617db46",
   "metadata": {},
   "source": [
    "#arbitary postional argument\n",
    "def average(*numbers):  #numbers is a tuple\n",
    "    print(numbers)\n",
    "    sum=0\n",
    "    for x in numbers:\n",
    "        sum=sum+x\n",
    "    print(sum/len(numbers)\n",
    "average(9,4,12)     "
   ]
  },
  {
   "cell_type": "code",
   "execution_count": 3,
   "id": "d6e7e3f9",
   "metadata": {},
   "outputs": [
    {
     "name": "stdout",
     "output_type": "stream",
     "text": [
      "{'math': 56, 'english': 61, 'science': 73}\n",
      "math\n",
      "math = 56\n",
      "english\n",
      "english = 61\n",
      "science\n",
      "science = 73\n"
     ]
    }
   ],
   "source": [
    "#arbitary keyword arguments\n",
    "def my_func(**key_word):  # key_word is a dictionary\n",
    "    print(key_word)\n",
    "    for sub in key_word:\n",
    "        print(sub)\n",
    "        #get argument value\n",
    "        sub_marks=key_word[sub]\n",
    "        print(sub,\"=\",sub_marks)\n",
    "#pass multiple keyword arguments\n",
    "my_func(math=56,english=61,science=73)\n"
   ]
  },
  {
   "cell_type": "code",
   "execution_count": 1,
   "id": "40224a20",
   "metadata": {},
   "outputs": [
    {
     "name": "stdout",
     "output_type": "stream",
     "text": [
      "(9, 4, 12)\n",
      "11\n",
      "7\n",
      "-5\n"
     ]
    }
   ],
   "source": [
    "#arbitary postional arguments\n",
    "def average (*numbers):      #numbers is a tuple\n",
    "    print(numbers)\n",
    "    sum=20\n",
    "    for x in numbers:\n",
    "        sum=sum-x\n",
    "        print(sum)\n",
    "average(9,4,12)        "
   ]
  },
  {
   "cell_type": "code",
   "execution_count": 3,
   "id": "3d412051",
   "metadata": {},
   "outputs": [
    {
     "ename": "TypeError",
     "evalue": "testing() takes 0 positional arguments but 1 was given",
     "output_type": "error",
     "traceback": [
      "\u001b[1;31m---------------------------------------------------------------------------\u001b[0m",
      "\u001b[1;31mTypeError\u001b[0m                                 Traceback (most recent call last)",
      "Cell \u001b[1;32mIn[3], line 5\u001b[0m\n\u001b[0;32m      3\u001b[0m         \u001b[38;5;28;01mreturn\u001b[39;00m \u001b[38;5;124m\"\u001b[39m\u001b[38;5;124mhello world\u001b[39m\u001b[38;5;124m\"\u001b[39m\n\u001b[0;32m      4\u001b[0m     \u001b[38;5;28;01mreturn\u001b[39;00m testing(x\u001b[38;5;241m-\u001b[39m\u001b[38;5;241m1\u001b[39m)   \n\u001b[1;32m----> 5\u001b[0m \u001b[43mtesting\u001b[49m\u001b[43m(\u001b[49m\u001b[38;5;241;43m15\u001b[39;49m\u001b[43m)\u001b[49m\n",
      "\u001b[1;31mTypeError\u001b[0m: testing() takes 0 positional arguments but 1 was given"
     ]
    }
   ],
   "source": [
    "def testing():\n",
    "    if x==10:\n",
    "        return \"hello world\"\n",
    "    return testing(x-1)   \n",
    "testing(15)    \n",
    "   "
   ]
  },
  {
   "cell_type": "code",
   "execution_count": null,
   "id": "076de442",
   "metadata": {},
   "outputs": [],
   "source": [
    "recursion"
   ]
  },
  {
   "cell_type": "code",
   "execution_count": null,
   "id": "82a2738f",
   "metadata": {},
   "outputs": [],
   "source": [
    "while true:\n",
    "    pass"
   ]
  },
  {
   "cell_type": "code",
   "execution_count": 1,
   "id": "0ea8e029",
   "metadata": {},
   "outputs": [],
   "source": [
    "def get_message(msg,q=35):\n",
    "    print(msg,q)\n",
    "    get_message"
   ]
  },
  {
   "cell_type": "code",
   "execution_count": null,
   "id": "9027895e",
   "metadata": {},
   "outputs": [],
   "source": [
    "date 20 july 2023"
   ]
  },
  {
   "cell_type": "code",
   "execution_count": 3,
   "id": "6029ce8c",
   "metadata": {},
   "outputs": [
    {
     "name": "stdout",
     "output_type": "stream",
     "text": [
      "hi 78\n"
     ]
    }
   ],
   "source": [
    "def get_message(msg,q=35):\n",
    "    print(msg,q)\n",
    "get_message(\"hi\",q=78)    "
   ]
  },
  {
   "cell_type": "code",
   "execution_count": null,
   "id": "49344049",
   "metadata": {},
   "outputs": [],
   "source": [
    "nonlocal variables"
   ]
  },
  {
   "cell_type": "code",
   "execution_count": 2,
   "id": "ad938618",
   "metadata": {},
   "outputs": [
    {
     "name": "stdout",
     "output_type": "stream",
     "text": [
      "67\n",
      "89\n"
     ]
    }
   ],
   "source": [
    "def outer():\n",
    "    w=89\n",
    "    def inner():\n",
    "        \n",
    "        w=67\n",
    "        print(w)\n",
    "    inner()\n",
    "    print(w)\n",
    "outer()         "
   ]
  },
  {
   "cell_type": "code",
   "execution_count": 3,
   "id": "389211ab",
   "metadata": {},
   "outputs": [
    {
     "name": "stdout",
     "output_type": "stream",
     "text": [
      "67\n",
      "67\n"
     ]
    }
   ],
   "source": [
    "def outer():\n",
    "    w=89\n",
    "    def inner():\n",
    "        nonlocal w\n",
    "        w=67\n",
    "        print(w)\n",
    "    inner()\n",
    "    print(w)\n",
    "outer()    "
   ]
  },
  {
   "cell_type": "code",
   "execution_count": 1,
   "id": "49f95b02",
   "metadata": {},
   "outputs": [
    {
     "name": "stdout",
     "output_type": "stream",
     "text": [
      "88\n"
     ]
    },
    {
     "ename": "NameError",
     "evalue": "name 'a' is not defined",
     "output_type": "error",
     "traceback": [
      "\u001b[1;31m---------------------------------------------------------------------------\u001b[0m",
      "\u001b[1;31mNameError\u001b[0m                                 Traceback (most recent call last)",
      "Cell \u001b[1;32mIn[1], line 6\u001b[0m\n\u001b[0;32m      4\u001b[0m     \u001b[38;5;28mprint\u001b[39m(\u001b[38;5;28msum\u001b[39m)\n\u001b[0;32m      5\u001b[0m show_result()\n\u001b[1;32m----> 6\u001b[0m \u001b[38;5;28mprint\u001b[39m(\u001b[43ma\u001b[49m)\n",
      "\u001b[1;31mNameError\u001b[0m: name 'a' is not defined"
     ]
    }
   ],
   "source": [
    "def show_result():\n",
    "    a=10\n",
    "    sum=a+78\n",
    "    print(sum)\n",
    "show_result()\n",
    "print(a)"
   ]
  },
  {
   "cell_type": "code",
   "execution_count": 4,
   "id": "e4e2a094",
   "metadata": {},
   "outputs": [
    {
     "name": "stdout",
     "output_type": "stream",
     "text": [
      "67\n",
      "67\n"
     ]
    }
   ],
   "source": [
    "def outer():\n",
    "    w=89\n",
    "    def inner():\n",
    "        nonlocal w\n",
    "        w=67\n",
    "        print(w)\n",
    "    inner()\n",
    "    print(w)\n",
    "outer()    "
   ]
  },
  {
   "cell_type": "code",
   "execution_count": 5,
   "id": "a6440f5f",
   "metadata": {},
   "outputs": [
    {
     "ename": "SyntaxError",
     "evalue": "no binding for nonlocal 'x' found (777945740.py, line 4)",
     "output_type": "error",
     "traceback": [
      "\u001b[1;36m  Cell \u001b[1;32mIn[5], line 4\u001b[1;36m\u001b[0m\n\u001b[1;33m    nonlocal x\u001b[0m\n\u001b[1;37m    ^\u001b[0m\n\u001b[1;31mSyntaxError\u001b[0m\u001b[1;31m:\u001b[0m no binding for nonlocal 'x' found\n"
     ]
    }
   ],
   "source": [
    "def outer():\n",
    "    #x=12\n",
    "    def inner():\n",
    "        nonlocal x\n",
    "        x=23\n",
    "        print(x)\n",
    "    inner()\n",
    "    print(x)\n",
    "outer()    "
   ]
  },
  {
   "cell_type": "code",
   "execution_count": null,
   "id": "88be20c3",
   "metadata": {},
   "outputs": [],
   "source": [
    "#argument vs parameters"
   ]
  },
  {
   "cell_type": "code",
   "execution_count": 6,
   "id": "4a3c0357",
   "metadata": {},
   "outputs": [
    {
     "data": {
      "text/plain": [
       "112"
      ]
     },
     "execution_count": 6,
     "metadata": {},
     "output_type": "execute_result"
    }
   ],
   "source": [
    "def my_func(x,y): #here x and y are the parameters\n",
    "    return x+y\n",
    "my_func(45,67) #here 45 and67 are the argument"
   ]
  },
  {
   "cell_type": "code",
   "execution_count": null,
   "id": "eac3c686",
   "metadata": {},
   "outputs": [],
   "source": []
  },
  {
   "cell_type": "code",
   "execution_count": null,
   "id": "5d75aaab",
   "metadata": {},
   "outputs": [],
   "source": [
    "python function argument\n",
    "1 positional arguments\n",
    "2keyword arguments\n",
    "3 default arguments\n",
    "4variable length arguments\n",
    "positional arguments are arguments that are passed to function in proper positional order"
   ]
  },
  {
   "cell_type": "code",
   "execution_count": 8,
   "id": "954ab692",
   "metadata": {},
   "outputs": [
    {
     "data": {
      "text/plain": [
       "44"
      ]
     },
     "execution_count": 8,
     "metadata": {},
     "output_type": "execute_result"
    }
   ],
   "source": [
    "def calc(p,q):\n",
    "    diff=p-q\n",
    "    return diff\n",
    "calc(89,45)# p=89, q=45"
   ]
  },
  {
   "cell_type": "code",
   "execution_count": 7,
   "id": "0a4093ca",
   "metadata": {},
   "outputs": [
    {
     "ename": "TypeError",
     "evalue": "my_function() takes 0 positional arguments but 1 was given",
     "output_type": "error",
     "traceback": [
      "\u001b[1;31m---------------------------------------------------------------------------\u001b[0m",
      "\u001b[1;31mTypeError\u001b[0m                                 Traceback (most recent call last)",
      "Cell \u001b[1;32mIn[7], line 3\u001b[0m\n\u001b[0;32m      1\u001b[0m \u001b[38;5;28;01mdef\u001b[39;00m \u001b[38;5;21mmy_function\u001b[39m():\n\u001b[0;32m      2\u001b[0m     \u001b[38;5;28;01mpass\u001b[39;00m\n\u001b[1;32m----> 3\u001b[0m \u001b[43mmy_function\u001b[49m\u001b[43m(\u001b[49m\u001b[38;5;241;43m56\u001b[39;49m\u001b[43m)\u001b[49m\n",
      "\u001b[1;31mTypeError\u001b[0m: my_function() takes 0 positional arguments but 1 was given"
     ]
    }
   ],
   "source": [
    "def my_function():\n",
    "    pass\n",
    "my_function(56)"
   ]
  },
  {
   "cell_type": "code",
   "execution_count": 9,
   "id": "511cdd37",
   "metadata": {},
   "outputs": [
    {
     "data": {
      "text/plain": [
       "-44"
      ]
     },
     "execution_count": 9,
     "metadata": {},
     "output_type": "execute_result"
    }
   ],
   "source": [
    "calc(45,89)   #p=45 and q=89"
   ]
  },
  {
   "cell_type": "code",
   "execution_count": null,
   "id": "55bba3a9",
   "metadata": {},
   "outputs": [],
   "source": [
    "def show result():\n",
    "    \"\"\"let us understrand and docstrings\"\"\"\n",
    "    print(\"this is a test program\")\n"
   ]
  },
  {
   "cell_type": "code",
   "execution_count": 10,
   "id": "b04c4b2d",
   "metadata": {},
   "outputs": [
    {
     "ename": "TypeError",
     "evalue": "calc() takes 2 positional arguments but 3 were given",
     "output_type": "error",
     "traceback": [
      "\u001b[1;31m---------------------------------------------------------------------------\u001b[0m",
      "\u001b[1;31mTypeError\u001b[0m                                 Traceback (most recent call last)",
      "Cell \u001b[1;32mIn[10], line 1\u001b[0m\n\u001b[1;32m----> 1\u001b[0m \u001b[43mcalc\u001b[49m\u001b[43m(\u001b[49m\u001b[38;5;241;43m89\u001b[39;49m\u001b[43m,\u001b[49m\u001b[38;5;241;43m45\u001b[39;49m\u001b[43m,\u001b[49m\u001b[38;5;241;43m56\u001b[39;49m\u001b[43m)\u001b[49m\n",
      "\u001b[1;31mTypeError\u001b[0m: calc() takes 2 positional arguments but 3 were given"
     ]
    }
   ],
   "source": [
    "calc(89,45,56)"
   ]
  },
  {
   "cell_type": "code",
   "execution_count": 5,
   "id": "27bd8903",
   "metadata": {},
   "outputs": [
    {
     "name": "stdout",
     "output_type": "stream",
     "text": [
      "hello word\n",
      "hello word\n",
      "hi\n"
     ]
    }
   ],
   "source": [
    "x=\"hello word\"\n",
    "print(x)\n",
    "def print_result():\n",
    "    x=\"hi\"\n",
    "    print(x)\n",
    "    \n",
    "print(x)    \n",
    "print_result()\n",
    "    "
   ]
  },
  {
   "cell_type": "code",
   "execution_count": 11,
   "id": "44b4d7cc",
   "metadata": {},
   "outputs": [
    {
     "ename": "TypeError",
     "evalue": "calc() takes 2 positional arguments but 3 were given",
     "output_type": "error",
     "traceback": [
      "\u001b[1;31m---------------------------------------------------------------------------\u001b[0m",
      "\u001b[1;31mTypeError\u001b[0m                                 Traceback (most recent call last)",
      "Cell \u001b[1;32mIn[11], line 1\u001b[0m\n\u001b[1;32m----> 1\u001b[0m \u001b[43mcalc\u001b[49m\u001b[43m(\u001b[49m\u001b[38;5;241;43m89\u001b[39;49m\u001b[43m,\u001b[49m\u001b[38;5;241;43m45\u001b[39;49m\u001b[43m,\u001b[49m\u001b[38;5;241;43m56\u001b[39;49m\u001b[43m)\u001b[49m\n",
      "\u001b[1;31mTypeError\u001b[0m: calc() takes 2 positional arguments but 3 were given"
     ]
    }
   ],
   "source": [
    "calc(89,45,56)"
   ]
  },
  {
   "cell_type": "code",
   "execution_count": 6,
   "id": "0e14fe19",
   "metadata": {},
   "outputs": [
    {
     "name": "stdout",
     "output_type": "stream",
     "text": [
      "hello wrold\n"
     ]
    }
   ],
   "source": [
    "x=\"hello wrold\"\n",
    "print(x)"
   ]
  },
  {
   "cell_type": "code",
   "execution_count": null,
   "id": "a1ec5e41",
   "metadata": {},
   "outputs": [],
   "source": [
    "key word arguments\n",
    "1 values get assigned to the parameters by their name(keyword)\n",
    "2 here the order of the arguments does not matter"
   ]
  },
  {
   "cell_type": "code",
   "execution_count": 12,
   "id": "de51a616",
   "metadata": {},
   "outputs": [
    {
     "data": {
      "text/plain": [
       "8"
      ]
     },
     "execution_count": 12,
     "metadata": {},
     "output_type": "execute_result"
    }
   ],
   "source": [
    "def calc(p,q):\n",
    "    diff=p-q\n",
    "    return diff\n",
    "calc (p=10,q=2)"
   ]
  },
  {
   "cell_type": "code",
   "execution_count": 7,
   "id": "b7fc64e7",
   "metadata": {},
   "outputs": [
    {
     "name": "stdout",
     "output_type": "stream",
     "text": [
      "hello world\n",
      "hi\n"
     ]
    }
   ],
   "source": [
    "x=\"hello world\"\n",
    "def print_result():\n",
    "    x=\"hi\"\n",
    "    print(x)\n",
    "print(x)\n",
    "print_result()"
   ]
  },
  {
   "cell_type": "code",
   "execution_count": 13,
   "id": "38c587c8",
   "metadata": {},
   "outputs": [
    {
     "data": {
      "text/plain": [
       "8"
      ]
     },
     "execution_count": 13,
     "metadata": {},
     "output_type": "execute_result"
    }
   ],
   "source": [
    "calc(q=2,p=10)"
   ]
  },
  {
   "cell_type": "code",
   "execution_count": 5,
   "id": "80cbf04d",
   "metadata": {},
   "outputs": [
    {
     "ename": "NameError",
     "evalue": "name 'show_result' is not defined",
     "output_type": "error",
     "traceback": [
      "\u001b[1;31m---------------------------------------------------------------------------\u001b[0m",
      "\u001b[1;31mNameError\u001b[0m                                 Traceback (most recent call last)",
      "Cell \u001b[1;32mIn[5], line 1\u001b[0m\n\u001b[1;32m----> 1\u001b[0m \u001b[43mshow_result\u001b[49m\u001b[38;5;241m.\u001b[39m_doc_\n",
      "\u001b[1;31mNameError\u001b[0m: name 'show_result' is not defined"
     ]
    }
   ],
   "source": [
    "show_result._doc_"
   ]
  },
  {
   "cell_type": "code",
   "execution_count": 14,
   "id": "a5c4ab93",
   "metadata": {},
   "outputs": [
    {
     "ename": "TypeError",
     "evalue": "calc() got an unexpected keyword argument 'a'",
     "output_type": "error",
     "traceback": [
      "\u001b[1;31m---------------------------------------------------------------------------\u001b[0m",
      "\u001b[1;31mTypeError\u001b[0m                                 Traceback (most recent call last)",
      "Cell \u001b[1;32mIn[14], line 1\u001b[0m\n\u001b[1;32m----> 1\u001b[0m \u001b[43mcalc\u001b[49m\u001b[43m(\u001b[49m\u001b[43ma\u001b[49m\u001b[38;5;241;43m=\u001b[39;49m\u001b[38;5;241;43m10\u001b[39;49m\u001b[43m,\u001b[49m\u001b[43mb\u001b[49m\u001b[38;5;241;43m=\u001b[39;49m\u001b[38;5;241;43m2\u001b[39;49m\u001b[43m)\u001b[49m\n",
      "\u001b[1;31mTypeError\u001b[0m: calc() got an unexpected keyword argument 'a'"
     ]
    }
   ],
   "source": [
    "calc(a=10,b=2)"
   ]
  },
  {
   "cell_type": "code",
   "execution_count": null,
   "id": "2284b353",
   "metadata": {},
   "outputs": [],
   "source": [
    "defult argument\n",
    "take the default value during the function call if we do not pass them"
   ]
  },
  {
   "cell_type": "code",
   "execution_count": 16,
   "id": "9d8d8935",
   "metadata": {},
   "outputs": [
    {
     "ename": "SyntaxError",
     "evalue": "invalid syntax (2663602030.py, line 1)",
     "output_type": "error",
     "traceback": [
      "\u001b[1;36m  Cell \u001b[1;32mIn[16], line 1\u001b[1;36m\u001b[0m\n\u001b[1;33m    def_message(msg=\"hello word\"):\u001b[0m\n\u001b[1;37m                                 ^\u001b[0m\n\u001b[1;31mSyntaxError\u001b[0m\u001b[1;31m:\u001b[0m invalid syntax\n"
     ]
    }
   ],
   "source": [
    "def_message(msg=\"hello word\"):\n",
    "    print(msg)\n",
    "    \n",
    "get_message(\"Hi\",\"hello\")\n"
   ]
  },
  {
   "cell_type": "code",
   "execution_count": 18,
   "id": "1c277347",
   "metadata": {},
   "outputs": [
    {
     "name": "stdout",
     "output_type": "stream",
     "text": [
      "HI\n"
     ]
    }
   ],
   "source": [
    "def get_message(msg=\"hello world\",q=35):\n",
    "    print(msg)\n",
    "get_message(\"HI\")    "
   ]
  },
  {
   "cell_type": "code",
   "execution_count": 8,
   "id": "755d9d26",
   "metadata": {},
   "outputs": [
    {
     "name": "stdout",
     "output_type": "stream",
     "text": [
      "11\n",
      "10\n",
      "11\n"
     ]
    }
   ],
   "source": [
    "def addition(x,y):\n",
    "    sum=x+y\n",
    "    return sum\n",
    "print(addition(1,10))\n",
    "print(addition(4,6))\n",
    "print(addition(3,8))"
   ]
  },
  {
   "cell_type": "code",
   "execution_count": null,
   "id": "5aab190c",
   "metadata": {},
   "outputs": [],
   "source": []
  },
  {
   "cell_type": "code",
   "execution_count": null,
   "id": "78950d21",
   "metadata": {},
   "outputs": [],
   "source": []
  },
  {
   "cell_type": "code",
   "execution_count": null,
   "id": "30808e2b",
   "metadata": {},
   "outputs": [],
   "source": [
    "help(print)\n",
    "help "
   ]
  },
  {
   "cell_type": "code",
   "execution_count": null,
   "id": "07b00b9d",
   "metadata": {},
   "outputs": [],
   "source": [
    "non local variable"
   ]
  },
  {
   "cell_type": "code",
   "execution_count": 9,
   "id": "125877a1",
   "metadata": {},
   "outputs": [
    {
     "name": "stdout",
     "output_type": "stream",
     "text": [
      "67\n",
      "89\n"
     ]
    }
   ],
   "source": [
    "def outer():\n",
    "    w=89\n",
    "    def inner():\n",
    "        w=67\n",
    "        print(w)\n",
    "    inner()\n",
    "    print(w)\n",
    "outer()    \n",
    "          "
   ]
  },
  {
   "cell_type": "code",
   "execution_count": null,
   "id": "8f667583",
   "metadata": {},
   "outputs": [],
   "source": [
    "multi_ line docstring\n",
    "-"
   ]
  },
  {
   "cell_type": "code",
   "execution_count": null,
   "id": "95ccad9e",
   "metadata": {},
   "outputs": [],
   "source": []
  },
  {
   "cell_type": "code",
   "execution_count": 7,
   "id": "c8c2e393",
   "metadata": {},
   "outputs": [],
   "source": [
    "def show_result():\n",
    "    \"\"\"let us understand and docstring\n",
    "    \n",
    "    iam using this function to understand about docstring\n",
    "    docstrings are used to document function\"\"\"\n",
    "    print(\"this is a test program\")\n",
    "    \n",
    "    "
   ]
  },
  {
   "cell_type": "code",
   "execution_count": 8,
   "id": "356f7f73",
   "metadata": {},
   "outputs": [
    {
     "name": "stdout",
     "output_type": "stream",
     "text": [
      "let us understand and docstring\n",
      "    \n",
      "    iam using this function to understand about docstring\n",
      "    docstrings are used to document function\n"
     ]
    }
   ],
   "source": [
    "print (show_result.__doc__)\n"
   ]
  },
  {
   "cell_type": "code",
   "execution_count": 9,
   "id": "06264e3b",
   "metadata": {},
   "outputs": [
    {
     "name": "stdout",
     "output_type": "stream",
     "text": [
      "Help on function show_result in module __main__:\n",
      "\n",
      "show_result()\n",
      "    let us understand and docstring\n",
      "    \n",
      "    iam using this function to understand about docstring\n",
      "    docstrings are used to document function\n",
      "\n"
     ]
    }
   ],
   "source": [
    "help(show_result)"
   ]
  },
  {
   "cell_type": "code",
   "execution_count": 3,
   "id": "8025c75e",
   "metadata": {},
   "outputs": [
    {
     "ename": "NameError",
     "evalue": "name 'calculator' is not defined",
     "output_type": "error",
     "traceback": [
      "\u001b[1;31m---------------------------------------------------------------------------\u001b[0m",
      "\u001b[1;31mNameError\u001b[0m                                 Traceback (most recent call last)",
      "Cell \u001b[1;32mIn[3], line 1\u001b[0m\n\u001b[1;32m----> 1\u001b[0m y\u001b[38;5;241m=\u001b[39m\u001b[43mcalculator\u001b[49m(\u001b[38;5;124m\"\u001b[39m\u001b[38;5;124m8*4\u001b[39m\u001b[38;5;124m\"\u001b[39m)\n\u001b[0;32m      2\u001b[0m \u001b[38;5;28mprint\u001b[39m(y)\n",
      "\u001b[1;31mNameError\u001b[0m: name 'calculator' is not defined"
     ]
    }
   ],
   "source": [
    "scope range how much"
   ]
  },
  {
   "cell_type": "code",
   "execution_count": 14,
   "id": "0dfcfbed",
   "metadata": {},
   "outputs": [
    {
     "name": "stdout",
     "output_type": "stream",
     "text": [
      "T is python\n",
      "the value of t is python\n"
     ]
    },
    {
     "ename": "NameError",
     "evalue": "name 'u' is not defined",
     "output_type": "error",
     "traceback": [
      "\u001b[1;31m---------------------------------------------------------------------------\u001b[0m",
      "\u001b[1;31mNameError\u001b[0m                                 Traceback (most recent call last)",
      "Cell \u001b[1;32mIn[14], line 9\u001b[0m\n\u001b[0;32m      6\u001b[0m scope_var()\n\u001b[0;32m      7\u001b[0m \u001b[38;5;28mprint\u001b[39m(\u001b[38;5;124m\"\u001b[39m\u001b[38;5;124mthe value of t is\u001b[39m\u001b[38;5;124m\"\u001b[39m,t) \n\u001b[1;32m----> 9\u001b[0m \u001b[38;5;28mprint\u001b[39m(\u001b[38;5;124m\"\u001b[39m\u001b[38;5;124mthe value of u is\u001b[39m\u001b[38;5;124m\"\u001b[39m,\u001b[43mu\u001b[49m)\n",
      "\u001b[1;31mNameError\u001b[0m: name 'u' is not defined"
     ]
    }
   ],
   "source": [
    "t=\"python\"      #global\n",
    "\n",
    "def scope_var():\n",
    "    u=\"analytics\"  #local\n",
    "    print(\"T is\",t) \n",
    "scope_var()\n",
    "print(\"the value of t is\",t) \n",
    "\n",
    "print(\"the value of u is\",u)"
   ]
  },
  {
   "cell_type": "code",
   "execution_count": 15,
   "id": "bfe295c6",
   "metadata": {},
   "outputs": [
    {
     "ename": "UnboundLocalError",
     "evalue": "local variable 'u' referenced before assignment",
     "output_type": "error",
     "traceback": [
      "\u001b[1;31m---------------------------------------------------------------------------\u001b[0m",
      "\u001b[1;31mUnboundLocalError\u001b[0m                         Traceback (most recent call last)",
      "Cell \u001b[1;32mIn[15], line 8\u001b[0m\n\u001b[0;32m      6\u001b[0m     \u001b[38;5;28mprint\u001b[39m(u)\n\u001b[0;32m      7\u001b[0m     \u001b[38;5;28mprint\u001b[39m(\u001b[38;5;124m\"\u001b[39m\u001b[38;5;124mT is\u001b[39m\u001b[38;5;124m\"\u001b[39m,t) \n\u001b[1;32m----> 8\u001b[0m \u001b[43mscope_var\u001b[49m\u001b[43m(\u001b[49m\u001b[43m)\u001b[49m\n\u001b[0;32m      9\u001b[0m \u001b[38;5;28mprint\u001b[39m(\u001b[38;5;124m\"\u001b[39m\u001b[38;5;124mthe value of t is\u001b[39m\u001b[38;5;124m\"\u001b[39m,t) \n\u001b[0;32m     11\u001b[0m \u001b[38;5;28mprint\u001b[39m(\u001b[38;5;124m\"\u001b[39m\u001b[38;5;124mthe value of u is\u001b[39m\u001b[38;5;124m\"\u001b[39m,u)\n",
      "Cell \u001b[1;32mIn[15], line 4\u001b[0m, in \u001b[0;36mscope_var\u001b[1;34m()\u001b[0m\n\u001b[0;32m      3\u001b[0m \u001b[38;5;28;01mdef\u001b[39;00m \u001b[38;5;21mscope_var\u001b[39m():\n\u001b[1;32m----> 4\u001b[0m     \u001b[38;5;28mprint\u001b[39m(\u001b[38;5;124m\"\u001b[39m\u001b[38;5;124mvalue of u inside function before declaring it as local is\u001b[39m\u001b[38;5;124m\"\u001b[39m,\u001b[43mu\u001b[49m)\n\u001b[0;32m      5\u001b[0m     u\u001b[38;5;241m=\u001b[39m\u001b[38;5;124m\"\u001b[39m\u001b[38;5;124mdata science\u001b[39m\u001b[38;5;124m\"\u001b[39m  \u001b[38;5;66;03m#local\u001b[39;00m\n\u001b[0;32m      6\u001b[0m     \u001b[38;5;28mprint\u001b[39m(u)\n",
      "\u001b[1;31mUnboundLocalError\u001b[0m: local variable 'u' referenced before assignment"
     ]
    }
   ],
   "source": [
    "t=\"python\"      #global\n",
    "u=\"analytics\"\n",
    "def scope_var():\n",
    "    print(\"value of u inside function before declaring it as local is\",u)\n",
    "    u=\"data science\"  #local\n",
    "    print(u)\n",
    "    print(\"T is\",t) \n",
    "scope_var()\n",
    "print(\"the value of t is\",t) \n",
    "\n",
    "print(\"the value of u is\",u)"
   ]
  },
  {
   "cell_type": "code",
   "execution_count": 3,
   "id": "8e272234",
   "metadata": {},
   "outputs": [
    {
     "name": "stdout",
     "output_type": "stream",
     "text": [
      "inside function is  78\n",
      "x outside function is 78\n"
     ]
    }
   ],
   "source": [
    "#creating a global variable inside a function\n",
    "def test_global():\n",
    "    global x\n",
    "    x=78\n",
    "    print(\"inside function is \",x)\n",
    "    \n",
    "test_global()\n",
    "print(\"x outside function is\",x)"
   ]
  },
  {
   "cell_type": "code",
   "execution_count": 5,
   "id": "37e3ae7c",
   "metadata": {},
   "outputs": [
    {
     "ename": "SyntaxError",
     "evalue": "invalid syntax (60266911.py, line 2)",
     "output_type": "error",
     "traceback": [
      "\u001b[1;36m  Cell \u001b[1;32mIn[5], line 2\u001b[1;36m\u001b[0m\n\u001b[1;33m    global x=78\u001b[0m\n\u001b[1;37m            ^\u001b[0m\n\u001b[1;31mSyntaxError\u001b[0m\u001b[1;31m:\u001b[0m invalid syntax\n"
     ]
    }
   ],
   "source": [
    "def test_global():\n",
    "    global x=78\n",
    "    \n",
    "    print(\"x inside function is\",x)\n",
    "    \n",
    "test_global()\n",
    "print(\"x outside function is\",x)"
   ]
  },
  {
   "cell_type": "markdown",
   "id": "8fb5bdf4",
   "metadata": {
    "scrolled": true
   },
   "source": [
    "ex=\"heiio word\n",
    "\n",
    "\n",
    "\n",
    "\n",
    "ex.ends with('')??"
   ]
  },
  {
   "cell_type": "code",
   "execution_count": null,
   "id": "5e05cff3",
   "metadata": {},
   "outputs": [],
   "source": [
    "def calculator(a,b):\n",
    "    "
   ]
  },
  {
   "cell_type": "code",
   "execution_count": 1,
   "id": "2c4d1b93",
   "metadata": {},
   "outputs": [
    {
     "name": "stdout",
     "output_type": "stream",
     "text": [
      "123\n",
      "None\n"
     ]
    }
   ],
   "source": [
    "def add(a,b):\n",
    "    sum = a+b\n",
    "    print(sum)\n",
    "print(add(45,78))    "
   ]
  },
  {
   "cell_type": "code",
   "execution_count": 1,
   "id": "6536c631",
   "metadata": {},
   "outputs": [
    {
     "name": "stdout",
     "output_type": "stream",
     "text": [
      "data science is amazing\n"
     ]
    }
   ],
   "source": [
    "def first_function():\n",
    "    print(\"data science is amazing\")\n",
    "first_function()    "
   ]
  },
  {
   "cell_type": "code",
   "execution_count": 2,
   "id": "e4bc1cc1",
   "metadata": {},
   "outputs": [
    {
     "ename": "NameError",
     "evalue": "name 'none' is not defined",
     "output_type": "error",
     "traceback": [
      "\u001b[1;31m---------------------------------------------------------------------------\u001b[0m",
      "\u001b[1;31mNameError\u001b[0m                                 Traceback (most recent call last)",
      "Cell \u001b[1;32mIn[2], line 1\u001b[0m\n\u001b[1;32m----> 1\u001b[0m \u001b[38;5;28mprint\u001b[39m(\u001b[43mnone\u001b[49m)\n",
      "\u001b[1;31mNameError\u001b[0m: name 'none' is not defined"
     ]
    }
   ],
   "source": [
    "print(none)"
   ]
  },
  {
   "cell_type": "code",
   "execution_count": 2,
   "id": "2823c12a",
   "metadata": {},
   "outputs": [
    {
     "name": "stdout",
     "output_type": "stream",
     "text": [
      "9\n",
      "10\n",
      "11\n",
      "12\n",
      "13\n",
      "14\n"
     ]
    }
   ],
   "source": [
    "x=9\n",
    "while x<15:\n",
    "    print(x)\n",
    "    x=x+1"
   ]
  },
  {
   "cell_type": "code",
   "execution_count": 3,
   "id": "6cb2c186",
   "metadata": {},
   "outputs": [
    {
     "name": "stdout",
     "output_type": "stream",
     "text": [
      "None\n"
     ]
    }
   ],
   "source": [
    "print(None)"
   ]
  },
  {
   "cell_type": "code",
   "execution_count": null,
   "id": "5cee8e28",
   "metadata": {},
   "outputs": [],
   "source": [
    "function areva block of code defined with a name function provide reuseability\n",
    "type of function \n",
    "1 built in function or predefined function\n",
    "2 user defined function\n",
    "creating a function\n",
    "def first _function():\n",
    "    print (\"data science is amazing\")\n",
    "first_function    "
   ]
  },
  {
   "cell_type": "code",
   "execution_count": 4,
   "id": "a582b734",
   "metadata": {},
   "outputs": [
    {
     "name": "stdout",
     "output_type": "stream",
     "text": [
      "22\n"
     ]
    },
    {
     "ename": "TypeError",
     "evalue": "unsupported operand type(s) for *: 'NoneType' and 'int'",
     "output_type": "error",
     "traceback": [
      "\u001b[1;31m---------------------------------------------------------------------------\u001b[0m",
      "\u001b[1;31mTypeError\u001b[0m                                 Traceback (most recent call last)",
      "Cell \u001b[1;32mIn[4], line 1\u001b[0m\n\u001b[1;32m----> 1\u001b[0m \u001b[38;5;28mprint\u001b[39m(\u001b[43madd\u001b[49m\u001b[43m(\u001b[49m\u001b[38;5;241;43m10\u001b[39;49m\u001b[43m,\u001b[49m\u001b[38;5;241;43m12\u001b[39;49m\u001b[43m)\u001b[49m\u001b[38;5;241;43m*\u001b[39;49m\u001b[38;5;241;43m2\u001b[39;49m)\n",
      "\u001b[1;31mTypeError\u001b[0m: unsupported operand type(s) for *: 'NoneType' and 'int'"
     ]
    }
   ],
   "source": [
    "print(add(10,12)*2)"
   ]
  },
  {
   "cell_type": "code",
   "execution_count": 2,
   "id": "dc94fc37",
   "metadata": {},
   "outputs": [
    {
     "name": "stdout",
     "output_type": "stream",
     "text": [
      "data science is amazing\n",
      "12\n"
     ]
    }
   ],
   "source": [
    "def first_function(x):\n",
    "    print(\"data science is amazing\")\n",
    "    print(x)\n",
    "first_function(12)#function is called and a value is passed\n",
    "\n",
    "    "
   ]
  },
  {
   "cell_type": "code",
   "execution_count": 5,
   "id": "b7b0a87e",
   "metadata": {},
   "outputs": [
    {
     "name": "stdout",
     "output_type": "stream",
     "text": [
      "h\n",
      "None\n"
     ]
    }
   ],
   "source": [
    "print(print(\"h\"))"
   ]
  },
  {
   "cell_type": "code",
   "execution_count": null,
   "id": "23117de6",
   "metadata": {},
   "outputs": [],
   "source": [
    "f0r i in range(1,8):\n",
    "    for j in range"
   ]
  },
  {
   "cell_type": "code",
   "execution_count": 6,
   "id": "2092ba04",
   "metadata": {},
   "outputs": [
    {
     "name": "stdout",
     "output_type": "stream",
     "text": [
      "h\n",
      "None\n",
      "None\n"
     ]
    }
   ],
   "source": [
    "print(print(print(\"h\")))"
   ]
  },
  {
   "cell_type": "code",
   "execution_count": 6,
   "id": "165c4c8f",
   "metadata": {},
   "outputs": [
    {
     "name": "stdout",
     "output_type": "stream",
     "text": [
      "str\n",
      "67\n"
     ]
    }
   ],
   "source": [
    "def second_function(x,y):\n",
    "    print(x)\n",
    "    print(y)\n",
    "second_function(\"str\",67)    "
   ]
  },
  {
   "cell_type": "code",
   "execution_count": 4,
   "id": "fa5ea5c2",
   "metadata": {},
   "outputs": [
    {
     "name": "stdout",
     "output_type": "stream",
     "text": [
      "9\n",
      "10\n",
      "11\n",
      "12\n",
      "13\n",
      "14\n"
     ]
    }
   ],
   "source": [
    "x=9\n",
    "while x<15:\n",
    "    print(x)\n",
    "    x=x+1"
   ]
  },
  {
   "cell_type": "code",
   "execution_count": 12,
   "id": "4e592e2d",
   "metadata": {},
   "outputs": [
    {
     "name": "stdout",
     "output_type": "stream",
     "text": [
      "68\n"
     ]
    }
   ],
   "source": [
    "#returing value from a function\n",
    "\n",
    "\n",
    "def calculator(x,y):\n",
    "    a=x+y\n",
    "    return a  \n",
    "\n",
    "b=calculator(23,45)\n",
    "print(b)"
   ]
  },
  {
   "cell_type": "code",
   "execution_count": 2,
   "id": "12a9f667",
   "metadata": {},
   "outputs": [
    {
     "ename": "IndentationError",
     "evalue": "unindent does not match any outer indentation level (<tokenize>, line 4)",
     "output_type": "error",
     "traceback": [
      "\u001b[1;36m  File \u001b[1;32m<tokenize>:4\u001b[1;36m\u001b[0m\n\u001b[1;33m    print()\u001b[0m\n\u001b[1;37m    ^\u001b[0m\n\u001b[1;31mIndentationError\u001b[0m\u001b[1;31m:\u001b[0m unindent does not match any outer indentation level\n"
     ]
    }
   ],
   "source": [
    "for i in range(3,6):\n",
    "    for j in range (2,i):\n",
    "        print(\"*\",end='')\n",
    "     print()   "
   ]
  },
  {
   "cell_type": "code",
   "execution_count": 13,
   "id": "8100176f",
   "metadata": {},
   "outputs": [
    {
     "name": "stdout",
     "output_type": "stream",
     "text": [
      "70\n"
     ]
    }
   ],
   "source": [
    "def calculator (x,y):\n",
    "    a=x+y\n",
    "    return a\n",
    "b=calculator(23,45)+2\n",
    "print(b)"
   ]
  },
  {
   "cell_type": "code",
   "execution_count": 7,
   "id": "60004fd9",
   "metadata": {},
   "outputs": [
    {
     "name": "stdout",
     "output_type": "stream",
     "text": [
      "[1, 2, 3]\n",
      "[2, 3]\n",
      "[3]\n",
      "[]\n",
      "[1, 2, 3]\n",
      "[2, 3]\n",
      "[3]\n",
      "[]\n",
      "[1, 2, 3]\n",
      "[2, 3]\n",
      "[3]\n",
      "[]\n"
     ]
    }
   ],
   "source": [
    "i=1\n",
    "while i<4:\n",
    "    lst=[1,2,3]\n",
    "    x=1\n",
    "    print(lst)\n",
    "    while lst!=[]:\n",
    "        lst.remove(x)\n",
    "        print(lst)\n",
    "        x=x+1\n",
    "    i=i+1    "
   ]
  },
  {
   "cell_type": "code",
   "execution_count": 14,
   "id": "95b492ce",
   "metadata": {},
   "outputs": [
    {
     "ename": "SyntaxError",
     "evalue": "invalid syntax (174820927.py, line 7)",
     "output_type": "error",
     "traceback": [
      "\u001b[1;36m  Cell \u001b[1;32mIn[14], line 7\u001b[1;36m\u001b[0m\n\u001b[1;33m    we are adding numbers\u001b[0m\n\u001b[1;37m       ^\u001b[0m\n\u001b[1;31mSyntaxError\u001b[0m\u001b[1;31m:\u001b[0m invalid syntax\n"
     ]
    }
   ],
   "source": [
    "def my_fun(x,y):\n",
    "    print(\"we are adding numbers\")\n",
    "    a=x+y\n",
    "    return a\n",
    "print(\"hello world\")\n",
    "my_func(12,23)\n",
    "we are adding numbers"
   ]
  },
  {
   "cell_type": "code",
   "execution_count": 5,
   "id": "ec71d6e2",
   "metadata": {},
   "outputs": [
    {
     "name": "stdout",
     "output_type": "stream",
     "text": [
      "\n",
      "*\n",
      "**\n",
      "***\n",
      "****\n",
      "*****\n",
      "******\n",
      "*******\n",
      "********\n",
      "*********\n"
     ]
    }
   ],
   "source": [
    "\n",
    "\n",
    "for i in range (1,11):\n",
    "    for j in range (1,i):\n",
    "        print(\"*\",end='')\n",
    "    print()\n",
    "    \n",
    "    \n",
    "    "
   ]
  },
  {
   "cell_type": "code",
   "execution_count": 15,
   "id": "6ca13003",
   "metadata": {},
   "outputs": [
    {
     "name": "stdout",
     "output_type": "stream",
     "text": [
      "xyz\n",
      "None\n"
     ]
    }
   ],
   "source": [
    "def func():\n",
    "    print(\"xyz\")\n",
    "x=func()\n",
    "print(x)"
   ]
  },
  {
   "cell_type": "code",
   "execution_count": 8,
   "id": "d5126620",
   "metadata": {},
   "outputs": [
    {
     "ename": "SyntaxError",
     "evalue": "invalid syntax (3814145995.py, line 2)",
     "output_type": "error",
     "traceback": [
      "\u001b[1;36m  Cell \u001b[1;32mIn[8], line 2\u001b[1;36m\u001b[0m\n\u001b[1;33m    for j in range{1,i}:\u001b[0m\n\u001b[1;37m                  ^\u001b[0m\n\u001b[1;31mSyntaxError\u001b[0m\u001b[1;31m:\u001b[0m invalid syntax\n"
     ]
    }
   ],
   "source": [
    "for i in range (1,12):\n",
    "    for j in range{i,1}:\n",
    "        print(end='',\"*\")\n",
    "    print()    "
   ]
  },
  {
   "cell_type": "code",
   "execution_count": 16,
   "id": "1d9c6c80",
   "metadata": {},
   "outputs": [
    {
     "name": "stdout",
     "output_type": "stream",
     "text": [
      "hello\n",
      "None\n"
     ]
    }
   ],
   "source": [
    "print(print(\"hello\"))"
   ]
  },
  {
   "cell_type": "code",
   "execution_count": 17,
   "id": "5194d292",
   "metadata": {},
   "outputs": [
    {
     "name": "stdout",
     "output_type": "stream",
     "text": [
      "xyz\n",
      "78\n",
      "the value of x is None\n"
     ]
    }
   ],
   "source": [
    "def func(a):\n",
    "    print(\"xyz\")\n",
    "    print(a)\n",
    "x=func(78)\n",
    "print(\"the value of x is\",x)\n",
    "    "
   ]
  },
  {
   "cell_type": "code",
   "execution_count": 7,
   "id": "b2b749b9",
   "metadata": {},
   "outputs": [
    {
     "name": "stdout",
     "output_type": "stream",
     "text": [
      "0\n",
      "1\n",
      "2\n",
      "i am breaking it\n",
      "0\n",
      "1\n",
      "2\n",
      "i am breaking it\n",
      "0\n",
      "1\n",
      "2\n",
      "i am breaking it\n",
      "0\n",
      "1\n",
      "2\n",
      "i am breaking it\n",
      "0\n",
      "1\n",
      "2\n",
      "i am breaking it\n",
      "0\n",
      "1\n",
      "2\n",
      "i am breaking it\n",
      "0\n",
      "1\n",
      "2\n",
      "i am breaking it\n",
      "0\n",
      "1\n",
      "2\n",
      "i am breaking it\n",
      "0\n",
      "1\n",
      "2\n",
      "i am breaking it\n",
      "0\n",
      "1\n",
      "2\n",
      "i am breaking it\n",
      "0\n",
      "1\n",
      "2\n",
      "i am breaking it\n",
      "0\n",
      "1\n",
      "2\n",
      "i am breaking it\n"
     ]
    }
   ],
   "source": [
    "for x in range(3):\n",
    "    for y in range(4):\n",
    "        for z in range(5):\n",
    "            if z>2:\n",
    "                print(\"i am breaking it\")\n",
    "                break\n",
    "            print(z)\n",
    "    \n",
    "    "
   ]
  },
  {
   "cell_type": "code",
   "execution_count": 18,
   "id": "6a2ad684",
   "metadata": {},
   "outputs": [
    {
     "name": "stdout",
     "output_type": "stream",
     "text": [
      "xyz\n",
      "78\n",
      "the value of xis 78\n"
     ]
    }
   ],
   "source": [
    "def func(a):\n",
    "    print(\"xyz\")\n",
    "    print(a)\n",
    "    return a\n",
    "x=func(78)\n",
    "print(\"the value of xis\",x)"
   ]
  },
  {
   "cell_type": "code",
   "execution_count": 6,
   "id": "38c3ff48",
   "metadata": {},
   "outputs": [
    {
     "name": "stdout",
     "output_type": "stream",
     "text": [
      "**\n",
      "**\n",
      "**\n",
      "**\n",
      "**\n"
     ]
    }
   ],
   "source": [
    "for a in range(5):\n",
    "    for b in range(7,9):\n",
    "        print(\"*\",end='')\n",
    "    print()    "
   ]
  },
  {
   "cell_type": "code",
   "execution_count": 21,
   "id": "b9c9e3af",
   "metadata": {},
   "outputs": [
    {
     "name": "stdout",
     "output_type": "stream",
     "text": [
      "xyz\n",
      "78\n",
      "the value of x is None\n"
     ]
    }
   ],
   "source": [
    "def func(a):\n",
    "    print(\"xyz\")\n",
    "    print(a)\n",
    "x=func(78)\n",
    "print(\"the value of x is\",x)"
   ]
  },
  {
   "cell_type": "code",
   "execution_count": 13,
   "id": "054fe899",
   "metadata": {},
   "outputs": [
    {
     "ename": "IndentationError",
     "evalue": "expected an indented block after 'for' statement on line 1 (4089695513.py, line 2)",
     "output_type": "error",
     "traceback": [
      "\u001b[1;36m  Cell \u001b[1;32mIn[13], line 2\u001b[1;36m\u001b[0m\n\u001b[1;33m    print(b*b)\u001b[0m\n\u001b[1;37m    ^\u001b[0m\n\u001b[1;31mIndentationError\u001b[0m\u001b[1;31m:\u001b[0m expected an indented block after 'for' statement on line 1\n"
     ]
    }
   ],
   "source": [
    "for b in range(6,7,8):\n",
    "print(b*b)"
   ]
  },
  {
   "cell_type": "code",
   "execution_count": 22,
   "id": "6ac30972",
   "metadata": {},
   "outputs": [
    {
     "name": "stdout",
     "output_type": "stream",
     "text": [
      "hello\n",
      "None\n"
     ]
    }
   ],
   "source": [
    "print(print(\"hello\"))"
   ]
  },
  {
   "cell_type": "code",
   "execution_count": 10,
   "id": "c8f8a3e8",
   "metadata": {},
   "outputs": [
    {
     "name": "stdout",
     "output_type": "stream",
     "text": [
      "\n",
      "*\n",
      "**\n",
      "***\n",
      "****\n",
      "*****\n"
     ]
    }
   ],
   "source": [
    "for i in range(3,9):\n",
    "    for j in range(3,i):\n",
    "        print(\"*\",end='')\n",
    "    print()          "
   ]
  },
  {
   "cell_type": "code",
   "execution_count": 23,
   "id": "8c775994",
   "metadata": {},
   "outputs": [
    {
     "name": "stdout",
     "output_type": "stream",
     "text": [
      "hello\n"
     ]
    }
   ],
   "source": [
    "print(\"hello\")"
   ]
  },
  {
   "cell_type": "code",
   "execution_count": 8,
   "id": "23fca1eb",
   "metadata": {},
   "outputs": [
    {
     "name": "stdout",
     "output_type": "stream",
     "text": [
      "*\n",
      "*\n",
      "*\n",
      "*\n"
     ]
    }
   ],
   "source": [
    "for i in range(1,5):\n",
    "    print(\"*\")"
   ]
  },
  {
   "cell_type": "code",
   "execution_count": 24,
   "id": "b50dd01c",
   "metadata": {},
   "outputs": [
    {
     "name": "stdout",
     "output_type": "stream",
     "text": [
      "hello\n",
      "None\n"
     ]
    }
   ],
   "source": [
    "print(print(\"hello\"))"
   ]
  },
  {
   "cell_type": "markdown",
   "id": "ce36ac69",
   "metadata": {},
   "source": [
    "continue\n",
    "the continue statement skips the current iteration of the loopand  jump to the next iteration"
   ]
  },
  {
   "cell_type": "code",
   "execution_count": 27,
   "id": "6aba4647",
   "metadata": {},
   "outputs": [
    {
     "name": "stdout",
     "output_type": "stream",
     "text": [
      "None\n"
     ]
    }
   ],
   "source": [
    "print(None)"
   ]
  },
  {
   "cell_type": "code",
   "execution_count": 13,
   "id": "a105de4a",
   "metadata": {},
   "outputs": [
    {
     "name": "stdout",
     "output_type": "stream",
     "text": [
      "1\n",
      "python\n",
      "2\n",
      "python\n",
      "4\n",
      "python\n"
     ]
    }
   ],
   "source": [
    "\n",
    "for x in {1,2,3,4}:\n",
    "    if x==3:\n",
    "        continue\n",
    "    print(x)\n",
    "    print(\"python\")   \n",
    "    \n",
    "    \n",
    "    \n",
    "    "
   ]
  },
  {
   "cell_type": "code",
   "execution_count": 3,
   "id": "3e1736fd",
   "metadata": {},
   "outputs": [
    {
     "name": "stdout",
     "output_type": "stream",
     "text": [
      "hello python\n"
     ]
    }
   ],
   "source": [
    "print(\"hello\",end=\" \")\n",
    "print(\"python\")"
   ]
  },
  {
   "cell_type": "code",
   "execution_count": 14,
   "id": "88843417",
   "metadata": {},
   "outputs": [
    {
     "name": "stdout",
     "output_type": "stream",
     "text": [
      "0\n",
      "1\n",
      "2\n",
      "3\n",
      "4\n"
     ]
    }
   ],
   "source": [
    "for x in range(5):\n",
    "    print(x)\n",
    "    continue\n",
    "    print(x+1)"
   ]
  },
  {
   "cell_type": "code",
   "execution_count": 13,
   "id": "fbdd66cb",
   "metadata": {},
   "outputs": [
    {
     "name": "stdout",
     "output_type": "stream",
     "text": [
      "*\n",
      "*\n",
      "*\n"
     ]
    }
   ],
   "source": [
    "for b in (\"*\",\"*\",\"*\"):         \n",
    "    print(b)\n",
    "    "
   ]
  },
  {
   "cell_type": "code",
   "execution_count": null,
   "id": "6e4831b5",
   "metadata": {},
   "outputs": [],
   "source": [
    "pass\n",
    "the pass statement does nothing it is used to create an empty block that may be useful in the future"
   ]
  },
  {
   "cell_type": "code",
   "execution_count": 15,
   "id": "83ef9093",
   "metadata": {},
   "outputs": [],
   "source": [
    "for x in range(10):\n",
    "    continue"
   ]
  },
  {
   "cell_type": "code",
   "execution_count": 14,
   "id": "d9d36caa",
   "metadata": {},
   "outputs": [
    {
     "name": "stdout",
     "output_type": "stream",
     "text": [
      "*\n",
      "*\n",
      "*\n",
      "*\n",
      "*\n"
     ]
    }
   ],
   "source": [
    "for b in(\"*\",\"*\",\"*\",\"*\",\"*\"):\n",
    "    print(b)"
   ]
  },
  {
   "cell_type": "code",
   "execution_count": 16,
   "id": "75fed526",
   "metadata": {},
   "outputs": [],
   "source": [
    "for x in range(10):\n",
    "    pass"
   ]
  },
  {
   "cell_type": "code",
   "execution_count": 15,
   "id": "0d75e957",
   "metadata": {},
   "outputs": [
    {
     "name": "stdout",
     "output_type": "stream",
     "text": [
      "*\n",
      "*\n",
      "*\n",
      "*\n",
      "*\n"
     ]
    }
   ],
   "source": [
    "for i in range(5):\n",
    "    print(\"*\")"
   ]
  },
  {
   "cell_type": "code",
   "execution_count": 17,
   "id": "f7c074cb",
   "metadata": {},
   "outputs": [],
   "source": [
    "for t in range(4):\n",
    "    continue"
   ]
  },
  {
   "cell_type": "code",
   "execution_count": 19,
   "id": "06156b27",
   "metadata": {},
   "outputs": [
    {
     "name": "stdout",
     "output_type": "stream",
     "text": [
      "hello\n",
      "hello\n",
      "hello\n",
      "hello\n",
      "hello\n"
     ]
    }
   ],
   "source": [
    "for x in range(5):\n",
    "    pass\n",
    "    print(\"hello\")"
   ]
  },
  {
   "cell_type": "code",
   "execution_count": 24,
   "id": "df913057",
   "metadata": {},
   "outputs": [
    {
     "name": "stdout",
     "output_type": "stream",
     "text": [
      "1\n",
      "2\n",
      "3\n",
      "hello world\n"
     ]
    }
   ],
   "source": [
    "for x in range(1,5):\n",
    "    if x>3:\n",
    "        break\n",
    "    print(x)\n",
    "    \n",
    "print(\"hello world\")"
   ]
  },
  {
   "cell_type": "code",
   "execution_count": 20,
   "id": "bf795cf0",
   "metadata": {},
   "outputs": [
    {
     "ename": "SyntaxError",
     "evalue": "invalid syntax (3922630718.py, line 1)",
     "output_type": "error",
     "traceback": [
      "\u001b[1;36m  Cell \u001b[1;32mIn[20], line 1\u001b[1;36m\u001b[0m\n\u001b[1;33m    for t inrange (4):\u001b[0m\n\u001b[1;37m          ^\u001b[0m\n\u001b[1;31mSyntaxError\u001b[0m\u001b[1;31m:\u001b[0m invalid syntax\n"
     ]
    }
   ],
   "source": [
    "for t inrange (4):\n",
    "    continue\n",
    "    print(\"big data\")"
   ]
  },
  {
   "cell_type": "code",
   "execution_count": 27,
   "id": "db13647e",
   "metadata": {},
   "outputs": [
    {
     "name": "stdout",
     "output_type": "stream",
     "text": [
      "[0]\n",
      "[0, 1]\n",
      "[0, 1, 2]\n",
      "[0, 1, 2, 3]\n"
     ]
    }
   ],
   "source": [
    "\n",
    "lst=[]\n",
    "for x in range(0,4):\n",
    "    lst.append(x)\n",
    "    print(lst)"
   ]
  },
  {
   "cell_type": "code",
   "execution_count": 25,
   "id": "5335ea20",
   "metadata": {},
   "outputs": [
    {
     "name": "stdout",
     "output_type": "stream",
     "text": [
      "0\n",
      "1\n",
      "2\n"
     ]
    }
   ],
   "source": [
    "for q in range(4):\n",
    "    if q==3:\n",
    "        continue\n",
    "    print(q)   "
   ]
  },
  {
   "cell_type": "code",
   "execution_count": 32,
   "id": "f5842dbb",
   "metadata": {},
   "outputs": [
    {
     "name": "stdout",
     "output_type": "stream",
     "text": [
      "1\n",
      "2\n",
      "3\n"
     ]
    }
   ],
   "source": [
    "for x in range(1,5):\n",
    "    if x>3:\n",
    "        break\n",
    "    print(x)"
   ]
  },
  {
   "cell_type": "code",
   "execution_count": 1,
   "id": "1ac74b6d",
   "metadata": {},
   "outputs": [
    {
     "name": "stdout",
     "output_type": "stream",
     "text": [
      "\n",
      "None\n"
     ]
    }
   ],
   "source": [
    "print(print())"
   ]
  },
  {
   "cell_type": "code",
   "execution_count": 24,
   "id": "d159d281",
   "metadata": {},
   "outputs": [
    {
     "ename": "SyntaxError",
     "evalue": "invalid syntax (1640047699.py, line 1)",
     "output_type": "error",
     "traceback": [
      "\u001b[1;36m  Cell \u001b[1;32mIn[24], line 1\u001b[1;36m\u001b[0m\n\u001b[1;33m    y=6:\u001b[0m\n\u001b[1;37m       ^\u001b[0m\n\u001b[1;31mSyntaxError\u001b[0m\u001b[1;31m:\u001b[0m invalid syntax\n"
     ]
    }
   ],
   "source": [
    "y=6:\n",
    "if y>4:\n",
    "  break\n",
    "print(\"xyz\")\n"
   ]
  },
  {
   "cell_type": "code",
   "execution_count": 2,
   "id": "a8203e9c",
   "metadata": {},
   "outputs": [
    {
     "ename": "SyntaxError",
     "evalue": "unmatched ')' (2981601170.py, line 1)",
     "output_type": "error",
     "traceback": [
      "\u001b[1;36m  Cell \u001b[1;32mIn[2], line 1\u001b[1;36m\u001b[0m\n\u001b[1;33m    print(\"hello\"))\u001b[0m\n\u001b[1;37m                  ^\u001b[0m\n\u001b[1;31mSyntaxError\u001b[0m\u001b[1;31m:\u001b[0m unmatched ')'\n"
     ]
    }
   ],
   "source": [
    "print(\"hello\"))"
   ]
  },
  {
   "cell_type": "code",
   "execution_count": 29,
   "id": "832be6af",
   "metadata": {},
   "outputs": [
    {
     "name": "stdout",
     "output_type": "stream",
     "text": [
      "0\n",
      "1\n",
      "2\n"
     ]
    }
   ],
   "source": [
    "# here it breaks the innermost loop\n",
    "for y in range(3):\n",
    "    if y>2:\n",
    "        print(\"i am breaking it\")\n",
    "        break\n",
    "    \n",
    "    \n",
    "    \n",
    "    \n",
    "    \n",
    "    \n",
    "    \n",
    "    \n",
    "    \n",
    "    \n",
    "    \n",
    "    \n",
    "    \n",
    "    \n",
    "    \n",
    "    \n",
    "    \n",
    "    \n",
    "    \n",
    "    \n",
    "    \n",
    "    \n",
    "    \n",
    "    \n",
    "    \n",
    "    \n",
    "    \n",
    "    \n",
    "    \n",
    "    \n",
    "    \n",
    "    \n",
    "    \n",
    "    \n",
    "    \n",
    "    \n",
    "    \n",
    "    \n",
    "    \n",
    "    \n",
    "    \n",
    "    \n",
    "    \n",
    "    \n",
    "    \n",
    "    \n",
    "    \n",
    "    \n",
    "    \n",
    "    \n",
    "    \n",
    "    \n",
    "    \n",
    "    \n",
    "    \n",
    "    \n",
    "    \n",
    "    \n",
    "    \n",
    "    \n",
    "    \n",
    "    \n",
    "    \n",
    "    \n",
    "    \n",
    "    \n",
    "    \n",
    "    \n",
    "    \n",
    "    \n",
    "    \n",
    "    \n",
    "    \n",
    "    \n",
    "    \n",
    "    \n",
    "    \n",
    "    \n",
    "    \n",
    "    \n",
    "    \n",
    "    \n",
    "    \n",
    "    \n",
    "    \n",
    "    \n",
    "    \n",
    "    \n",
    "    \n",
    "    \n",
    "    \n",
    "    \n",
    "    \n",
    "    \n",
    "    \n",
    "    \n",
    "    \n",
    "    \n",
    "    \n",
    "    \n",
    "    \n",
    "    \n",
    "    \n",
    "    \n",
    "    \n",
    "    \n",
    "    \n",
    "    \n",
    "    \n",
    "    \n",
    "    \n",
    "    \n",
    "    \n",
    "    \n",
    "    \n",
    "    \n",
    "    \n",
    "    \n",
    "    \n",
    "    \n",
    "    \n",
    "    \n",
    "    \n",
    "    \n",
    "    \n",
    "    \n",
    "    \n",
    "    \n",
    "    \n",
    "    \n",
    "    \n",
    "    \n",
    "    \n",
    "    \n",
    "    \n",
    "    print(y)"
   ]
  },
  {
   "cell_type": "code",
   "execution_count": 3,
   "id": "a8778c12",
   "metadata": {},
   "outputs": [
    {
     "name": "stdout",
     "output_type": "stream",
     "text": [
      "hello\n",
      "None\n"
     ]
    }
   ],
   "source": [
    "print(print(\"hello\"))"
   ]
  },
  {
   "cell_type": "code",
   "execution_count": null,
   "id": "2a54db81",
   "metadata": {},
   "outputs": [],
   "source": [
    "\n",
    "\n",
    "\n",
    "\n",
    "\n",
    "\n",
    "\n",
    "\n",
    "\n",
    "\n",
    "\n",
    "\n",
    "\n",
    "\n",
    "\n",
    "\n",
    "\n",
    "\n",
    "\n",
    "\n",
    "\n",
    "\n",
    "\n",
    "\n",
    "\n",
    "\n",
    "\n",
    "\n",
    "\n",
    "\n",
    "\n",
    "\n",
    "\n",
    "\n",
    "\n",
    "\n",
    "\n",
    "\n",
    "\n",
    "\n",
    "\n",
    "\n",
    "\n",
    "\n",
    "\n",
    "\n",
    "\n",
    "\n",
    "\n",
    "\n",
    "\n",
    "\n",
    "\n",
    "\n",
    "\n",
    "\n",
    "\n",
    "\n",
    "\n",
    "\n",
    "\n",
    "\n",
    "\n",
    "\n",
    "\n",
    "\n",
    "\n",
    "\n",
    "\n",
    "\n",
    "\n",
    "\n"
   ]
  },
  {
   "cell_type": "code",
   "execution_count": 5,
   "id": "fef844ff",
   "metadata": {},
   "outputs": [
    {
     "name": "stdout",
     "output_type": "stream",
     "text": [
      "\n"
     ]
    }
   ],
   "source": [
    "print()"
   ]
  },
  {
   "cell_type": "code",
   "execution_count": 6,
   "id": "69c8e3b2",
   "metadata": {},
   "outputs": [
    {
     "name": "stdout",
     "output_type": "stream",
     "text": [
      "hello  word\n"
     ]
    }
   ],
   "source": [
    "print(\"hello  word\")"
   ]
  },
  {
   "cell_type": "code",
   "execution_count": 30,
   "id": "ce7c36b4",
   "metadata": {},
   "outputs": [
    {
     "name": "stdout",
     "output_type": "stream",
     "text": [
      "i am breaking it\n",
      "3\n",
      "i am breaking it\n",
      "3\n",
      "i am breaking it\n",
      "3\n",
      "i am breaking it\n",
      "3\n",
      "i am breaking it\n",
      "3\n",
      "i am breaking it\n",
      "3\n",
      "i am breaking it\n",
      "3\n",
      "i am breaking it\n",
      "3\n",
      "i am breaking it\n",
      "3\n",
      "i am breaking it\n",
      "3\n",
      "i am breaking it\n",
      "3\n",
      "i am breaking it\n",
      "3\n"
     ]
    }
   ],
   "source": [
    "for x in range(3):\n",
    "    for y in range(4):\n",
    "        for z in range(5):\n",
    "            if z>2:\n",
    "                print(\"i am breaking it\")\n",
    "                break\n",
    "        print(z)"
   ]
  },
  {
   "cell_type": "code",
   "execution_count": 9,
   "id": "c06d0988",
   "metadata": {},
   "outputs": [],
   "source": [
    "def print_a(a):\n",
    "    print(a)"
   ]
  },
  {
   "cell_type": "code",
   "execution_count": 1,
   "id": "251e5765",
   "metadata": {},
   "outputs": [
    {
     "name": "stdout",
     "output_type": "stream",
     "text": [
      "32\n",
      "\n",
      "1\n",
      "22\n",
      "333\n",
      "4444\n",
      "55555\n",
      "666666\n",
      "7777777\n",
      "88888888\n",
      "999999999\n",
      "10101010101010101010\n",
      "1111111111111111111111\n",
      "121212121212121212121212\n",
      "13131313131313131313131313\n",
      "1414141414141414141414141414\n",
      "151515151515151515151515151515\n",
      "16161616161616161616161616161616\n",
      "1717171717171717171717171717171717\n",
      "181818181818181818181818181818181818\n",
      "19191919191919191919191919191919191919\n",
      "2020202020202020202020202020202020202020\n",
      "212121212121212121212121212121212121212121\n",
      "22222222222222222222222222222222222222222222\n",
      "2323232323232323232323232323232323232323232323\n",
      "242424242424242424242424242424242424242424242424\n",
      "25252525252525252525252525252525252525252525252525\n",
      "2626262626262626262626262626262626262626262626262626\n",
      "272727272727272727272727272727272727272727272727272727\n",
      "28282828282828282828282828282828282828282828282828282828\n",
      "2929292929292929292929292929292929292929292929292929292929\n",
      "303030303030303030303030303030303030303030303030303030303030\n",
      "31313131313131313131313131313131313131313131313131313131313131\n"
     ]
    }
   ],
   "source": [
    "#  printing pattern\n",
    "f= list (range(int(input())))\n",
    "for e in f:\n",
    "    g=str(e)\n",
    "    print(e*g)"
   ]
  },
  {
   "cell_type": "code",
   "execution_count": 11,
   "id": "b2d7f08b",
   "metadata": {},
   "outputs": [
    {
     "data": {
      "text/plain": [
       "123"
      ]
     },
     "execution_count": 11,
     "metadata": {},
     "output_type": "execute_result"
    }
   ],
   "source": [
    "def add(a,b):\n",
    "    sum=a+b\n",
    "    return sum\n",
    "add(45,78)"
   ]
  },
  {
   "cell_type": "code",
   "execution_count": 4,
   "id": "8d655a35",
   "metadata": {},
   "outputs": [
    {
     "ename": "IndentationError",
     "evalue": "unexpected indent (1037054934.py, line 2)",
     "output_type": "error",
     "traceback": [
      "\u001b[1;36m  Cell \u001b[1;32mIn[4], line 2\u001b[1;36m\u001b[0m\n\u001b[1;33m    for a in range(1,11):\u001b[0m\n\u001b[1;37m    ^\u001b[0m\n\u001b[1;31mIndentationError\u001b[0m\u001b[1;31m:\u001b[0m unexpected indent\n"
     ]
    }
   ],
   "source": [
    "\n",
    "num =(1,11)\n",
    "    for a in range(1,11):\n",
    "    print(num,\"x\" = =num*a)"
   ]
  },
  {
   "cell_type": "code",
   "execution_count": 13,
   "id": "03c4575c",
   "metadata": {},
   "outputs": [
    {
     "name": "stdout",
     "output_type": "stream",
     "text": [
      "44\n"
     ]
    }
   ],
   "source": [
    "print(add(10,12)*2)"
   ]
  },
  {
   "cell_type": "code",
   "execution_count": null,
   "id": "2362db36",
   "metadata": {},
   "outputs": [],
   "source": [
    "  \n",
    "\n",
    "\n",
    "\n",
    "\n",
    "\n",
    "\n",
    "\n",
    "\n",
    "\n",
    "\n",
    "\n",
    "\n",
    "\n",
    "\n",
    "\n",
    "\n",
    "\n"
   ]
  },
  {
   "cell_type": "code",
   "execution_count": 14,
   "id": "5248c766",
   "metadata": {},
   "outputs": [
    {
     "name": "stdout",
     "output_type": "stream",
     "text": [
      "h\n"
     ]
    }
   ],
   "source": [
    "print(\"h\")"
   ]
  },
  {
   "cell_type": "code",
   "execution_count": 5,
   "id": "f4ac72d9",
   "metadata": {},
   "outputs": [
    {
     "name": "stdout",
     "output_type": "stream",
     "text": [
      "start44\n",
      "stop66\n",
      "660\n"
     ]
    }
   ],
   "source": [
    "r=int(input(\"start\"))\n",
    "e=int(input(\"stop\"))\n",
    "sum=0\n",
    "for q in range (r,e+1,2):\n",
    "    if q%2==0:\n",
    "        sum=sum+q\n",
    "print(sum)"
   ]
  },
  {
   "cell_type": "code",
   "execution_count": 15,
   "id": "814a422d",
   "metadata": {},
   "outputs": [
    {
     "name": "stdout",
     "output_type": "stream",
     "text": [
      "h\n",
      "None\n"
     ]
    }
   ],
   "source": [
    "print(print(\"h\"))"
   ]
  },
  {
   "cell_type": "code",
   "execution_count": 2,
   "id": "37b1b92e",
   "metadata": {},
   "outputs": [
    {
     "ename": "SyntaxError",
     "evalue": "invalid syntax (3903129809.py, line 2)",
     "output_type": "error",
     "traceback": [
      "\u001b[1;36m  Cell \u001b[1;32mIn[2], line 2\u001b[1;36m\u001b[0m\n\u001b[1;33m    ifx==8:\u001b[0m\n\u001b[1;37m          ^\u001b[0m\n\u001b[1;31mSyntaxError\u001b[0m\u001b[1;31m:\u001b[0m invalid syntax\n"
     ]
    }
   ],
   "source": [
    "x=8\n",
    "ifx==8:\n",
    "    print(\"x is\",x)"
   ]
  },
  {
   "cell_type": "code",
   "execution_count": 16,
   "id": "1b69494d",
   "metadata": {},
   "outputs": [
    {
     "name": "stdout",
     "output_type": "stream",
     "text": [
      "h\n",
      "None\n",
      "None\n"
     ]
    }
   ],
   "source": [
    "print(print(print(\"h\")))"
   ]
  },
  {
   "cell_type": "code",
   "execution_count": null,
   "id": "9e43cd09",
   "metadata": {},
   "outputs": [],
   "source": [
    "nested for loops\n",
    "#print the mutltication table of 2"
   ]
  },
  {
   "cell_type": "code",
   "execution_count": 18,
   "id": "bd32e197",
   "metadata": {},
   "outputs": [
    {
     "name": "stdout",
     "output_type": "stream",
     "text": [
      "123\n",
      "None\n"
     ]
    }
   ],
   "source": [
    "def add(a,b):\n",
    "    sum=a+b\n",
    "    print(sum)\n",
    "print (add(45,78))    "
   ]
  },
  {
   "cell_type": "code",
   "execution_count": null,
   "id": "1d0dacb0",
   "metadata": {},
   "outputs": [],
   "source": [
    "t=int(input(\"enter the number:\"))\n",
    "w=1,2\n",
    "for e in w:\n",
    "    print()"
   ]
  },
  {
   "cell_type": "code",
   "execution_count": 20,
   "id": "8955baf8",
   "metadata": {},
   "outputs": [
    {
     "ename": "IndentationError",
     "evalue": "unindent does not match any outer indentation level (<tokenize>, line 4)",
     "output_type": "error",
     "traceback": [
      "\u001b[1;36m  File \u001b[1;32m<tokenize>:4\u001b[1;36m\u001b[0m\n\u001b[1;33m    print(add(45,78))\u001b[0m\n\u001b[1;37m    ^\u001b[0m\n\u001b[1;31mIndentationError\u001b[0m\u001b[1;31m:\u001b[0m unindent does not match any outer indentation level\n"
     ]
    }
   ],
   "source": [
    "def add(a,b):\n",
    "    sum=a+b\n",
    "    print(sum)\n",
    " print(add(45,78))   "
   ]
  },
  {
   "cell_type": "code",
   "execution_count": 6,
   "id": "19bb4acf",
   "metadata": {},
   "outputs": [
    {
     "name": "stdout",
     "output_type": "stream",
     "text": [
      "2 x 1 = 2\n",
      "2 x 2 = 4\n",
      "2 x 3 = 6\n",
      "2 x 4 = 8\n",
      "2 x 5 = 10\n",
      "2 x 6 = 12\n",
      "2 x 7 = 14\n",
      "2 x 8 = 16\n",
      "2 x 9 = 18\n",
      "2 x 10 = 20\n"
     ]
    }
   ],
   "source": [
    "#print the multiplication table of 2\n",
    "for x in range(1,11):\n",
    "    print(2,\"x\",x,\"=\",x*2)"
   ]
  },
  {
   "cell_type": "code",
   "execution_count": 4,
   "id": "1afcca01",
   "metadata": {},
   "outputs": [
    {
     "ename": "SyntaxError",
     "evalue": "invalid syntax (3746820043.py, line 6)",
     "output_type": "error",
     "traceback": [
      "\u001b[1;36m  Cell \u001b[1;32mIn[4], line 6\u001b[1;36m\u001b[0m\n\u001b[1;33m    else:\u001b[0m\n\u001b[1;37m    ^\u001b[0m\n\u001b[1;31mSyntaxError\u001b[0m\u001b[1;31m:\u001b[0m invalid syntax\n"
     ]
    }
   ],
   "source": [
    "x=10\n",
    "if x==8:\n",
    "    print(\"x is\",x)\n",
    "else:\n",
    "    print(\"x is\",x)\n",
    "    else:\n",
    "        print(\"x is not 10\")\n",
    "        elif x==10:\n",
    "            print(\"x is \",x)\n"
   ]
  },
  {
   "cell_type": "code",
   "execution_count": 19,
   "id": "034a3ab6",
   "metadata": {},
   "outputs": [
    {
     "ename": "SyntaxError",
     "evalue": "unterminated string literal (detected at line 3) (2812193375.py, line 3)",
     "output_type": "error",
     "traceback": [
      "\u001b[1;36m  Cell \u001b[1;32mIn[19], line 3\u001b[1;36m\u001b[0m\n\u001b[1;33m    print( x,\"x\",x\"==x*2,x*3,x*4,x*5,x*6,x*7)\u001b[0m\n\u001b[1;37m                  ^\u001b[0m\n\u001b[1;31mSyntaxError\u001b[0m\u001b[1;31m:\u001b[0m unterminated string literal (detected at line 3)\n"
     ]
    }
   ],
   "source": [
    "# print the multiplication table of 2,3,4,5,6,7\n",
    "for x in range (2,7):\n",
    "    print( x,\"x\",x\"==x*2,x*3,x*4,x*5,x*6,x*7)\n",
    "    \n",
    "    \n",
    "    \n"
   ]
  },
  {
   "cell_type": "code",
   "execution_count": 5,
   "id": "63a26853",
   "metadata": {},
   "outputs": [
    {
     "name": "stdout",
     "output_type": "stream",
     "text": [
      "sum of all even numbers 0\n",
      "sum of all even numbers 2\n",
      "sum of all even numbers 2\n",
      "sum of all even numbers 6\n",
      "sum of all even numbers 6\n",
      "sum of all even numbers 12\n",
      "sum of all even numbers 12\n",
      "sum of all even numbers 20\n",
      "sum of all even numbers 20\n",
      "sum of all even numbers 30\n",
      "sum of all even numbers 30\n",
      "sum of all even numbers 42\n",
      "sum of all even numbers 42\n",
      "sum of all even numbers 56\n",
      "sum of all even numbers 56\n",
      "sum of all even numbers 72\n",
      "sum of all even numbers 72\n",
      "sum of all even numbers 90\n",
      "sum of all even numbers 90\n",
      "sum of all even numbers 110\n",
      "sum of all even numbers 110\n",
      "sum of all even numbers 132\n",
      "sum of all even numbers 132\n",
      "sum of all even numbers 156\n",
      "sum of all even numbers 156\n",
      "sum of all even numbers 182\n",
      "sum of all even numbers 182\n",
      "sum of all even numbers 210\n",
      "sum of all even numbers 210\n",
      "sum of all even numbers 240\n",
      "sum of all even numbers 240\n",
      "sum of all even numbers 272\n",
      "sum of all even numbers 272\n",
      "sum of all even numbers 306\n",
      "sum of all even numbers 306\n",
      "sum of all even numbers 342\n",
      "sum of all even numbers 342\n",
      "sum of all even numbers 380\n",
      "sum of all even numbers 380\n",
      "sum of all even numbers 420\n",
      "sum of all even numbers 420\n",
      "sum of all even numbers 462\n",
      "sum of all even numbers 462\n",
      "sum of all even numbers 506\n",
      "sum of all even numbers 506\n",
      "sum of all even numbers 552\n",
      "sum of all even numbers 552\n",
      "sum of all even numbers 600\n",
      "sum of all even numbers 600\n",
      "sum of all even numbers 650\n",
      "sum of all even numbers 650\n",
      "sum of all even numbers 702\n",
      "sum of all even numbers 702\n",
      "sum of all even numbers 756\n",
      "sum of all even numbers 756\n",
      "sum of all even numbers 812\n",
      "sum of all even numbers 812\n",
      "sum of all even numbers 870\n",
      "sum of all even numbers 870\n",
      "sum of all even numbers 930\n",
      "sum of all even numbers 930\n",
      "sum of all even numbers 992\n",
      "sum of all even numbers 992\n",
      "sum of all even numbers 1056\n",
      "sum of all even numbers 1056\n",
      "sum of all even numbers 1122\n",
      "sum of all even numbers 1122\n",
      "sum of all even numbers 1190\n",
      "sum of all even numbers 1190\n",
      "sum of all even numbers 1260\n",
      "sum of all even numbers 1260\n",
      "sum of all even numbers 1332\n",
      "sum of all even numbers 1332\n",
      "sum of all even numbers 1406\n",
      "sum of all even numbers 1406\n",
      "sum of all even numbers 1482\n",
      "sum of all even numbers 1482\n",
      "sum of all even numbers 1560\n",
      "sum of all even numbers 1560\n",
      "sum of all even numbers 1640\n",
      "sum of all even numbers 1640\n",
      "sum of all even numbers 1722\n",
      "sum of all even numbers 1722\n",
      "sum of all even numbers 1806\n",
      "sum of all even numbers 1806\n",
      "sum of all even numbers 1892\n",
      "sum of all even numbers 1892\n",
      "sum of all even numbers 1980\n",
      "sum of all even numbers 1980\n",
      "sum of all even numbers 2070\n",
      "sum of all even numbers 2070\n",
      "sum of all even numbers 2162\n",
      "sum of all even numbers 2162\n",
      "sum of all even numbers 2256\n",
      "sum of all even numbers 2256\n",
      "sum of all even numbers 2352\n",
      "sum of all even numbers 2352\n",
      "sum of all even numbers 2450\n",
      "sum of all even numbers 2450\n",
      "sum of all even numbers 2550\n"
     ]
    }
   ],
   "source": [
    "sum = 0\n",
    "for i in range (1,101):\n",
    "    if i%2==0:\n",
    "        sum+=i\n",
    "    print(\"sum of all even numbers\",sum)\n",
    "        \n",
    "        \n",
    "    \n",
    "        \n"
   ]
  },
  {
   "cell_type": "code",
   "execution_count": 6,
   "id": "deff140d",
   "metadata": {},
   "outputs": [
    {
     "name": "stdout",
     "output_type": "stream",
     "text": [
      "x is not 10\n",
      "x is 10\n"
     ]
    }
   ],
   "source": [
    "x=10\n",
    "if x==8:\n",
    "    print(\"x is not 10\")\n",
    "else:\n",
    "     print(\"x is not 10\")\n",
    "if x==10:\n",
    "    print(\"x is\",x )\n",
    "    "
   ]
  },
  {
   "cell_type": "code",
   "execution_count": 7,
   "id": "6c4de3ca",
   "metadata": {},
   "outputs": [
    {
     "ename": "IndentationError",
     "evalue": "unexpected indent (288257385.py, line 2)",
     "output_type": "error",
     "traceback": [
      "\u001b[1;36m  Cell \u001b[1;32mIn[7], line 2\u001b[1;36m\u001b[0m\n\u001b[1;33m    if i in range(1,101):\u001b[0m\n\u001b[1;37m    ^\u001b[0m\n\u001b[1;31mIndentationError\u001b[0m\u001b[1;31m:\u001b[0m unexpected indent\n"
     ]
    }
   ],
   "source": [
    "\n",
    "#print sum of even no from 1 to 100\n",
    "    if i in range(1,101):\n",
    "        if i%2==0:\n",
    "            sum+=i\n",
    "            print(\"sum of all even numbers\",sum)\n",
    "\n",
    "\n",
    "    \n",
    "\n",
    "        \n"
   ]
  },
  {
   "cell_type": "code",
   "execution_count": null,
   "id": "60910fdb",
   "metadata": {},
   "outputs": [],
   "source": [
    "# make a calculator\n",
    "n1=int"
   ]
  },
  {
   "cell_type": "code",
   "execution_count": 7,
   "id": "59b1e709",
   "metadata": {},
   "outputs": [
    {
     "name": "stdout",
     "output_type": "stream",
     "text": [
      "[1,2,3]\n",
      "[1, 2, 3]\n"
     ]
    },
    {
     "data": {
      "text/plain": [
       "list"
      ]
     },
     "execution_count": 7,
     "metadata": {},
     "output_type": "execute_result"
    }
   ],
   "source": [
    "x= eval(input())\n",
    "print(x)\n",
    "type(x)"
   ]
  },
  {
   "cell_type": "code",
   "execution_count": null,
   "id": "cb57fb29",
   "metadata": {},
   "outputs": [],
   "source": [
    "#\"\"\n",
    "a=int(input())\n",
    "if a%2==0:\n",
    "    print(\"a is an even number\")\n",
    "    else"
   ]
  },
  {
   "cell_type": "code",
   "execution_count": null,
   "id": "616bb30d",
   "metadata": {},
   "outputs": [],
   "source": [
    "# make a calculator\n",
    "n1=int()"
   ]
  },
  {
   "cell_type": "code",
   "execution_count": null,
   "id": "1b7ae967",
   "metadata": {},
   "outputs": [],
   "source": []
  },
  {
   "cell_type": "code",
   "execution_count": 11,
   "id": "ad057b89",
   "metadata": {},
   "outputs": [
    {
     "name": "stdout",
     "output_type": "stream",
     "text": [
      "student:5\n"
     ]
    },
    {
     "data": {
      "text/plain": [
       "'ee'"
      ]
     },
     "execution_count": 11,
     "metadata": {},
     "output_type": "execute_result"
    }
   ],
   "source": [
    "students={1:\"aa\",2:\"bb\",3:\"cc\",4:\"dd\",5:\"ee\",6:\"ff\",7:\"gg\",8:\"hh\",9:\"ii\",10:\"jj\"}\n",
    "x=int(input(\"student:\"))\n",
    "students[x]"
   ]
  },
  {
   "cell_type": "code",
   "execution_count": 16,
   "id": "8aa50c1a",
   "metadata": {},
   "outputs": [
    {
     "name": "stdout",
     "output_type": "stream",
     "text": [
      "10\n",
      "\n",
      "1\n",
      "22\n",
      "333\n",
      "4444\n",
      "55555\n",
      "666666\n",
      "7777777\n",
      "88888888\n",
      "999999999\n"
     ]
    }
   ],
   "source": [
    "# printing pattern\n",
    "f=list(range(int(input())))\n",
    "for e in f:\n",
    "    g=str(e)\n",
    "    print(e*g)"
   ]
  },
  {
   "cell_type": "code",
   "execution_count": 9,
   "id": "67c26c4a",
   "metadata": {},
   "outputs": [
    {
     "name": "stdout",
     "output_type": "stream",
     "text": [
      "enter a number between 0 and 11:9\n",
      "himanshu\n"
     ]
    }
   ],
   "source": [
    "\n",
    "a=int(input(\"enter a number between 0 and 11:\"))\n",
    "if a==1:\n",
    "        print(\"ishi\")\n",
    "elif a==2:\n",
    "        print(\"rohit\")\n",
    "elif a==3:\n",
    "        print(\"gaurav\")\n",
    "elif a==4:\n",
    "        print(\"rahul\")\n",
    "elif a==5:\n",
    "        print(\"arjun\")\n",
    "elif a==6:\n",
    "        print(\"bhumika\")\n",
    "elif a==7:\n",
    "        print(\"priyanshu\")\n",
    "elif a==8:\n",
    "        print(\"pushpander\")\n",
    "elif a==9:      \n",
    "        print(\"himanshu\")\n",
    "elif a==10:   \n",
    "        print(\"nitin\")\n",
    "else:\n",
    "        print(\"end\")"
   ]
  },
  {
   "cell_type": "code",
   "execution_count": 18,
   "id": "8fccbd5c",
   "metadata": {},
   "outputs": [
    {
     "name": "stdout",
     "output_type": "stream",
     "text": [
      "enter the number:8\n",
      "8 * 1 = 8\n",
      "8 * 2 = 16\n",
      "8 * 3 = 24\n",
      "8 * 4 = 32\n",
      "8 * 5 = 40\n",
      "8 * 6 = 48\n",
      "8 * 7 = 56\n",
      "8 * 8 = 64\n",
      "8 * 9 = 72\n",
      "8 * 10 = 80\n"
     ]
    }
   ],
   "source": [
    "t=int(input(\"enter the number:\"))\n",
    "w=1,2,3,4,5,6,7,8,9,10\n",
    "for e in w:\n",
    "    print(t,'*',e,'=',t*e)"
   ]
  },
  {
   "cell_type": "code",
   "execution_count": 11,
   "id": "8dfd8935",
   "metadata": {},
   "outputs": [
    {
     "name": "stdout",
     "output_type": "stream",
     "text": [
      "enter a number between 0 and 4:1\n",
      "rishi\n"
     ]
    }
   ],
   "source": [
    "a=int(input(\"enter a number between 0 and 4:\"))\n",
    "if a==1:\n",
    "    print(\"rishi\")\n",
    "elif a==2:\n",
    "    print(\"pawan\")\n",
    "elif a==3:\n",
    "    print(\"harish\")\n",
    "elif a==4:\n",
    "    print(\"ramesh\")\n",
    "else:\n",
    "    print(\"end\")\n"
   ]
  },
  {
   "cell_type": "code",
   "execution_count": 14,
   "id": "090bdc6a",
   "metadata": {},
   "outputs": [
    {
     "name": "stdout",
     "output_type": "stream",
     "text": [
      "5\n",
      "the no is odd\n"
     ]
    }
   ],
   "source": [
    "#program to check wheter anumber is odd or even\n",
    "a=int(input())\n",
    "if a%2==0:\n",
    "    print(\"the no is even\")\n",
    "else:\n",
    "        print(\"the no is odd\")"
   ]
  },
  {
   "cell_type": "code",
   "execution_count": 15,
   "id": "931e619c",
   "metadata": {},
   "outputs": [
    {
     "name": "stdout",
     "output_type": "stream",
     "text": [
      "127\n",
      "it is not apalindrome\n"
     ]
    }
   ],
   "source": [
    "#check wheter a number is apalindme numbere\n",
    "a=input()\n",
    "if a[::]==a[::-1]:\n",
    "    print(\"it is a palindrome\")\n",
    "else:\n",
    "    print(\"it is not apalindrome\")"
   ]
  },
  {
   "cell_type": "code",
   "execution_count": 16,
   "id": "684b498f",
   "metadata": {},
   "outputs": [
    {
     "data": {
      "text/plain": [
       "str"
      ]
     },
     "execution_count": 16,
     "metadata": {},
     "output_type": "execute_result"
    }
   ],
   "source": [
    "type(a)"
   ]
  },
  {
   "cell_type": "code",
   "execution_count": 17,
   "id": "57aaf2fa",
   "metadata": {},
   "outputs": [
    {
     "data": {
      "text/plain": [
       "'127'"
      ]
     },
     "execution_count": 17,
     "metadata": {},
     "output_type": "execute_result"
    }
   ],
   "source": [
    "a[::]"
   ]
  },
  {
   "cell_type": "code",
   "execution_count": 18,
   "id": "086797d1",
   "metadata": {},
   "outputs": [
    {
     "data": {
      "text/plain": [
       "'721'"
      ]
     },
     "execution_count": 18,
     "metadata": {},
     "output_type": "execute_result"
    }
   ],
   "source": [
    "a[::-1]"
   ]
  },
  {
   "cell_type": "code",
   "execution_count": 19,
   "id": "dc434d36",
   "metadata": {},
   "outputs": [
    {
     "data": {
      "text/plain": [
       "'87'"
      ]
     },
     "execution_count": 19,
     "metadata": {},
     "output_type": "execute_result"
    }
   ],
   "source": [
    "a=\"78\"\n",
    "a[::-1]\n",
    "    \n",
    "    \n",
    "\n"
   ]
  },
  {
   "cell_type": "code",
   "execution_count": 20,
   "id": "f4ab6310",
   "metadata": {},
   "outputs": [
    {
     "name": "stdout",
     "output_type": "stream",
     "text": [
      "121\n"
     ]
    },
    {
     "data": {
      "text/plain": [
       "True"
      ]
     },
     "execution_count": 20,
     "metadata": {},
     "output_type": "execute_result"
    }
   ],
   "source": [
    "a=\"121\"\n",
    "print(a[::-1])\n",
    "a==a[::-1]"
   ]
  },
  {
   "cell_type": "code",
   "execution_count": 31,
   "id": "a16a4d35",
   "metadata": {},
   "outputs": [
    {
     "name": "stdout",
     "output_type": "stream",
     "text": [
      "value for x45\n",
      "value for y67\n",
      "value for z76\n",
      "y>x<z\n"
     ]
    }
   ],
   "source": [
    "# nested if -else\n",
    "x=int(input(\"value for x\"))\n",
    "y=int(input(\"value for y\"))\n",
    "z= int(input(\"value for z\"))      \n",
    "x=23\n",
    "y=67 \n",
    "z=45\n",
    "if x>y: \n",
    "      if x>z:\n",
    "        print(\"x>y>z\")\n",
    "      else:  \n",
    "        print(\"y<x<z\")\n",
    "elif x==y:\n",
    "        if x>z:\n",
    "         print(\"y>x<z\")\n",
    "elif x<y:\n",
    "            if x>z:\n",
    "             print(\"y>x>z\")\n",
    "            else:\n",
    "                print(\"y>x<z\")"
   ]
  },
  {
   "cell_type": "code",
   "execution_count": null,
   "id": "19d57416",
   "metadata": {},
   "outputs": [],
   "source": [
    "#single line if -else"
   ]
  },
  {
   "cell_type": "code",
   "execution_count": 33,
   "id": "95d24f31",
   "metadata": {},
   "outputs": [
    {
     "name": "stdout",
     "output_type": "stream",
     "text": [
      "x<y\n"
     ]
    }
   ],
   "source": [
    "#single line if statement\n",
    "if x>y:print(\"x>y\")\n",
    "elif x==y: print(\"x==y\")\n",
    "else: print(\"x<y\")    "
   ]
  },
  {
   "cell_type": "code",
   "execution_count": 37,
   "id": "8d849115",
   "metadata": {},
   "outputs": [
    {
     "ename": "SyntaxError",
     "evalue": "invalid syntax (1635104213.py, line 1)",
     "output_type": "error",
     "traceback": [
      "\u001b[1;36m  Cell \u001b[1;32mIn[37], line 1\u001b[1;36m\u001b[0m\n\u001b[1;33m    (8+2)/2==6:\u001b[0m\n\u001b[1;37m              ^\u001b[0m\n\u001b[1;31mSyntaxError\u001b[0m\u001b[1;31m:\u001b[0m invalid syntax\n"
     ]
    }
   ],
   "source": [
    " (8+2)/2==6:\n",
    "   print(\"6\")\n",
    "else:\n",
    "    print()"
   ]
  },
  {
   "cell_type": "code",
   "execution_count": 35,
   "id": "e35a52e0",
   "metadata": {},
   "outputs": [
    {
     "data": {
      "text/plain": [
       "10.0"
      ]
     },
     "execution_count": 35,
     "metadata": {},
     "output_type": "execute_result"
    }
   ],
   "source": [
    "8+4/2"
   ]
  },
  {
   "cell_type": "code",
   "execution_count": 44,
   "id": "ff23abaf",
   "metadata": {},
   "outputs": [
    {
     "name": "stdout",
     "output_type": "stream",
     "text": [
      "6\n"
     ]
    }
   ],
   "source": [
    "if (8+4)/2==6:\n",
    "     print(\"6\")\n",
    "else:\n",
    "      print() \n",
    "\n"
   ]
  },
  {
   "cell_type": "code",
   "execution_count": 5,
   "id": "0f3a8c58",
   "metadata": {},
   "outputs": [
    {
     "name": "stdout",
     "output_type": "stream",
     "text": [
      "enter first number90\n",
      "enter second number78\n",
      "which operation do you want to perform+,-,*or/-\n",
      "168 7020 12 1.1538461538461537\n"
     ]
    }
   ],
   "source": [
    "# build a calculator\n",
    "x=int(input(\"enter first number\"))\n",
    "y=int(input(\"enter second number\"))\n",
    "z=input(\"which operation do you want to perform+,-,*or/\")\n",
    "print(x+y,x*y,x-y,x/y)"
   ]
  },
  {
   "cell_type": "code",
   "execution_count": null,
   "id": "707b06c8",
   "metadata": {},
   "outputs": [],
   "source": [
    "iterative statement\n",
    "loop\n",
    "loops are used to execute a block of code repeatedly\n",
    "for loop\n",
    "the for loop iterates over an iterable object\n",
    "1 for loops are also used when you have a block of code which you want to\n",
    "want to  repate a fixed number of item\n",
    "2 for loops are also used to perform the same set of operation for each item in an iterable\n",
    "3thus for loops reduce the code complexity and save time "
   ]
  },
  {
   "cell_type": "code",
   "execution_count": 7,
   "id": "9ebdd7fa",
   "metadata": {},
   "outputs": [
    {
     "name": "stdout",
     "output_type": "stream",
     "text": [
      "1\n",
      "2\n",
      "3\n",
      "4\n"
     ]
    }
   ],
   "source": [
    "# string,list,set,tuple,set,sictionary,range -iterable data type\n",
    "x={1,2,3,4}\n",
    "for a in x:\n",
    "    print(a)"
   ]
  },
  {
   "cell_type": "code",
   "execution_count": 11,
   "id": "43f0b1ca",
   "metadata": {},
   "outputs": [
    {
     "name": "stdout",
     "output_type": "stream",
     "text": [
      "78\n",
      "123\n",
      "34\n",
      "101\n"
     ]
    }
   ],
   "source": [
    "x=(78,123,34,101)\n",
    "for c in x:\n",
    "   print(c)"
   ]
  },
  {
   "cell_type": "code",
   "execution_count": null,
   "id": "a518bb19",
   "metadata": {},
   "outputs": [],
   "source": [
    "#print sum of all even number from 1to 10\n",
    "for 1 in range (2,11,2):"
   ]
  },
  {
   "cell_type": "code",
   "execution_count": 15,
   "id": "772eebd6",
   "metadata": {},
   "outputs": [
    {
     "name": "stdout",
     "output_type": "stream",
     "text": [
      "23\n",
      "44\n",
      "67\n",
      "87\n",
      "90\n"
     ]
    }
   ],
   "source": [
    "x=(23,44,67,87,90)\n",
    "for c in x:\n",
    "    print(c)"
   ]
  },
  {
   "cell_type": "code",
   "execution_count": null,
   "id": "9dde1270",
   "metadata": {},
   "outputs": [],
   "source": [
    "lterative statements\n",
    " loops\n",
    " for loop\n",
    "the for loop iterates over an iterable object\n",
    "1for loops are used when you have a block of code which you want to repeat afixed number of times\n",
    "2 for loops are also used to perform the same set of operation for each item in aniterable\n",
    "3thus for loops reduce the code the code complexity and save time\n"
   ]
  },
  {
   "cell_type": "code",
   "execution_count": 5,
   "id": "5d2af10d",
   "metadata": {},
   "outputs": [
    {
     "name": "stdout",
     "output_type": "stream",
     "text": [
      "0\n",
      "1\n",
      "2\n",
      "3\n"
     ]
    }
   ],
   "source": [
    "for x in range(0,4):\n",
    "    print(x)"
   ]
  },
  {
   "cell_type": "code",
   "execution_count": 6,
   "id": "bd973bde",
   "metadata": {},
   "outputs": [
    {
     "name": "stdout",
     "output_type": "stream",
     "text": [
      "3\n"
     ]
    }
   ],
   "source": [
    "list(range(0,4))\n",
    "print(x)"
   ]
  },
  {
   "cell_type": "code",
   "execution_count": 7,
   "id": "88566894",
   "metadata": {},
   "outputs": [
    {
     "name": "stdout",
     "output_type": "stream",
     "text": [
      "[0, 1, 2, 3]\n"
     ]
    }
   ],
   "source": [
    "x=list(range(0,4))\n",
    "print(x)"
   ]
  },
  {
   "cell_type": "code",
   "execution_count": 12,
   "id": "7fe2442b",
   "metadata": {},
   "outputs": [
    {
     "name": "stdout",
     "output_type": "stream",
     "text": [
      "1\n",
      "2\n",
      "3\n",
      "4\n",
      "[0, 1, 2, 3]\n"
     ]
    }
   ],
   "source": [
    "x=list(range(0,4))\n",
    "print(1)\n",
    "print(2)\n",
    "print(3)\n",
    "print(4)\n",
    "print(x)"
   ]
  },
  {
   "cell_type": "code",
   "execution_count": 13,
   "id": "9d2aeb0f",
   "metadata": {},
   "outputs": [
    {
     "name": "stdout",
     "output_type": "stream",
     "text": [
      "0\n",
      "1\n",
      "2\n",
      "3\n"
     ]
    }
   ],
   "source": [
    "y=range(0,4)\n",
    "print(y[0])\n",
    "print(y[1])\n",
    "print(y[2])\n",
    "print(y[3])"
   ]
  },
  {
   "cell_type": "code",
   "execution_count": 15,
   "id": "61b98c3c",
   "metadata": {},
   "outputs": [
    {
     "name": "stdout",
     "output_type": "stream",
     "text": [
      "0\n",
      "1\n",
      "2\n",
      "3\n"
     ]
    }
   ],
   "source": [
    "y=range(0,4)\n",
    "for x in y:\n",
    "    print(x)"
   ]
  },
  {
   "cell_type": "code",
   "execution_count": 17,
   "id": "9306ee42",
   "metadata": {},
   "outputs": [
    {
     "name": "stdout",
     "output_type": "stream",
     "text": [
      "0\n",
      "1\n",
      "2\n",
      "3\n",
      "4\n",
      "5\n"
     ]
    }
   ],
   "source": [
    "y=range(0,6)\n",
    "for x in y:\n",
    "    print(x)"
   ]
  },
  {
   "cell_type": "code",
   "execution_count": 19,
   "id": "6721e3cb",
   "metadata": {},
   "outputs": [
    {
     "name": "stdout",
     "output_type": "stream",
     "text": [
      "True\n",
      "six\n",
      "9\n"
     ]
    }
   ],
   "source": [
    "for x in[True,\"six\",9]:\n",
    "    print(x)"
   ]
  },
  {
   "cell_type": "code",
   "execution_count": 20,
   "id": "0daae361",
   "metadata": {},
   "outputs": [
    {
     "ename": "SyntaxError",
     "evalue": "expected ':' (3208458047.py, line 2)",
     "output_type": "error",
     "traceback": [
      "\u001b[1;36m  Cell \u001b[1;32mIn[20], line 2\u001b[1;36m\u001b[0m\n\u001b[1;33m    for x in range (1,11)\u001b[0m\n\u001b[1;37m                         ^\u001b[0m\n\u001b[1;31mSyntaxError\u001b[0m\u001b[1;31m:\u001b[0m expected ':'\n"
     ]
    }
   ],
   "source": [
    "#print sum of all even number for 1 to 10\n",
    "for x in range (1,11)\n",
    "sum=0\n",
    "for "
   ]
  },
  {
   "cell_type": "code",
   "execution_count": 2,
   "id": "8d65308e",
   "metadata": {},
   "outputs": [
    {
     "ename": "IndentationError",
     "evalue": "expected an indented block after 'for' statement on line 1 (1735465523.py, line 2)",
     "output_type": "error",
     "traceback": [
      "\u001b[1;36m  Cell \u001b[1;32mIn[2], line 2\u001b[1;36m\u001b[0m\n\u001b[1;33m    print(sum of even no)\u001b[0m\n\u001b[1;37m    ^\u001b[0m\n\u001b[1;31mIndentationError\u001b[0m\u001b[1;31m:\u001b[0m expected an indented block after 'for' statement on line 1\n"
     ]
    }
   ],
   "source": [
    "for val in range(\"0,10\"):\n",
    "print(sum of even no)"
   ]
  },
  {
   "cell_type": "code",
   "execution_count": 1,
   "id": "5529e624",
   "metadata": {},
   "outputs": [
    {
     "ename": "SyntaxError",
     "evalue": "invalid syntax. Perhaps you forgot a comma? (2850903438.py, line 1)",
     "output_type": "error",
     "traceback": [
      "\u001b[1;36m  Cell \u001b[1;32mIn[1], line 1\u001b[1;36m\u001b[0m\n\u001b[1;33m    for a in [0 to \"ten\"]:\u001b[0m\n\u001b[1;37m              ^\u001b[0m\n\u001b[1;31mSyntaxError\u001b[0m\u001b[1;31m:\u001b[0m invalid syntax. Perhaps you forgot a comma?\n"
     ]
    }
   ],
   "source": [
    "\n",
    "for a in [0 to \"ten\"]:\n",
    "print( sum even number range a )\n",
    "a"
   ]
  },
  {
   "cell_type": "code",
   "execution_count": 8,
   "id": "e9d4c9c2",
   "metadata": {},
   "outputs": [
    {
     "name": "stdout",
     "output_type": "stream",
     "text": [
      "1\n",
      "1\n",
      "4\n",
      "16\n",
      "7\n",
      "49\n"
     ]
    }
   ],
   "source": [
    "a=1\n",
    "for a in[1,4,7]:\n",
    "    print(a)\n",
    "    print(a*a)\n"
   ]
  },
  {
   "cell_type": "code",
   "execution_count": 3,
   "id": "641344af",
   "metadata": {},
   "outputs": [
    {
     "name": "stdout",
     "output_type": "stream",
     "text": [
      "sum of natural numbers<= 1 is 1\n",
      "sum of natural numbers<= 2 is 3\n",
      "sum of natural numbers<= 3 is 6\n",
      "sum of natural numbers<= 4 is 10\n",
      "sum of natural numbers<= 5 is 15\n",
      "sum of natural numbers<= 6 is 21\n",
      "sum of natural numbers<= 7 is 28\n"
     ]
    }
   ],
   "source": [
    "sum=0\n",
    "for n in range(1,8):\n",
    "    sum+=n\n",
    "    print(\"sum of natural numbers<=\",n,\"is\",sum)"
   ]
  },
  {
   "cell_type": "code",
   "execution_count": 9,
   "id": "9b3c09ff",
   "metadata": {},
   "outputs": [
    {
     "name": "stdout",
     "output_type": "stream",
     "text": [
      "3\n",
      "9\n",
      "6\n",
      "36\n",
      "7\n",
      "49\n"
     ]
    }
   ],
   "source": [
    "a=3\n",
    "for a in [3,6,7]:\n",
    "    print(a)\n",
    "    print(a*a)"
   ]
  },
  {
   "cell_type": "code",
   "execution_count": 10,
   "id": "888c7516",
   "metadata": {},
   "outputs": [
    {
     "name": "stdout",
     "output_type": "stream",
     "text": [
      "6\n",
      "0\n",
      "8\n",
      "0\n",
      "9\n",
      "1\n"
     ]
    }
   ],
   "source": [
    "a=8\n",
    "for a in[6,8,9]:\n",
    "    print(a)\n",
    "    print(a%2)"
   ]
  },
  {
   "cell_type": "code",
   "execution_count": 15,
   "id": "04a149cd",
   "metadata": {},
   "outputs": [
    {
     "name": "stdout",
     "output_type": "stream",
     "text": [
      "6\n",
      "0\n",
      "8\n",
      "2\n",
      "5\n",
      "2\n",
      "7\n",
      "1\n"
     ]
    }
   ],
   "source": [
    "a=5\n",
    "for a in [6,8,5,7]:\n",
    "    print(a)\n",
    "    print(a%3)\n"
   ]
  },
  {
   "cell_type": "code",
   "execution_count": 14,
   "id": "8233621d",
   "metadata": {},
   "outputs": [
    {
     "name": "stdout",
     "output_type": "stream",
     "text": [
      "9\n",
      "18\n",
      "10\n",
      "20\n",
      "13\n",
      "26\n",
      "14\n",
      "28\n",
      "17\n",
      "34\n",
      "17\n",
      "34\n"
     ]
    }
   ],
   "source": [
    "a=9\n",
    "for a in [9,10,13,14,17]:\n",
    "    print(a)\n",
    "    print(a+a)\n",
    "    \n",
    "    \n",
    "print(a)\n",
    "print(a+a)\n"
   ]
  },
  {
   "cell_type": "markdown",
   "id": "80171595",
   "metadata": {},
   "source": [
    " "
   ]
  },
  {
   "cell_type": "code",
   "execution_count": 16,
   "id": "846c9cc0",
   "metadata": {},
   "outputs": [
    {
     "name": "stdout",
     "output_type": "stream",
     "text": [
      "5\n",
      "0\n",
      "7\n",
      "2\n",
      "9\n",
      "4\n",
      "13\n",
      "3\n",
      "15\n",
      "0\n",
      "17\n",
      "2\n"
     ]
    }
   ],
   "source": [
    "a-3\n",
    "for a in [5,7,9,13,15,17]:\n",
    "    print(a)\n",
    "    print(a%5)\n"
   ]
  },
  {
   "cell_type": "code",
   "execution_count": 18,
   "id": "b51209bb",
   "metadata": {},
   "outputs": [
    {
     "name": "stdout",
     "output_type": "stream",
     "text": [
      "c\n",
      "l\n",
      "a\n",
      "m\n"
     ]
    }
   ],
   "source": [
    " \n",
    " for ch in \"clam\":\n",
    "    print(ch)\n",
    "    "
   ]
  },
  {
   "cell_type": "code",
   "execution_count": 21,
   "id": "cbbe6e18",
   "metadata": {},
   "outputs": [
    {
     "name": "stdout",
     "output_type": "stream",
     "text": [
      "216\n",
      "343\n",
      "512\n",
      "729\n"
     ]
    }
   ],
   "source": [
    "for v in [6,7,8,9]:\n",
    "    print(v*v*v)"
   ]
  },
  {
   "cell_type": "code",
   "execution_count": 23,
   "id": "a8c96875",
   "metadata": {},
   "outputs": [
    {
     "name": "stdout",
     "output_type": "stream",
     "text": [
      "1296\n",
      "33362176\n",
      "57289761\n",
      "35153041\n"
     ]
    }
   ],
   "source": [
    "for b in [6,76,87,77]:\n",
    "    print(b*b*b*b)\n"
   ]
  },
  {
   "cell_type": "code",
   "execution_count": 25,
   "id": "7d2a929c",
   "metadata": {},
   "outputs": [
    {
     "name": "stdout",
     "output_type": "stream",
     "text": [
      "2401\n",
      "59969536\n",
      "9150625\n",
      "4477456\n",
      "3748096\n"
     ]
    }
   ],
   "source": [
    "for n in [7,88,55,46,44]:\n",
    "    print(n*n*n*n)"
   ]
  },
  {
   "cell_type": "code",
   "execution_count": 27,
   "id": "f6e1049a",
   "metadata": {},
   "outputs": [
    {
     "name": "stdout",
     "output_type": "stream",
     "text": [
      "5 x 1 = 5\n",
      "5 x 2 = 10\n",
      "5 x 3 = 15\n",
      "5 x 4 = 20\n",
      "5 x 5 = 25\n",
      "5 x 6 = 30\n",
      "5 x 7 = 35\n",
      "5 x 8 = 40\n",
      "5 x 9 = 45\n",
      "5 x 10 = 50\n"
     ]
    }
   ],
   "source": [
    "num=5\n",
    "for a in range(1,11):\n",
    "    print(num,\"x\",a,\"=\",num*a)"
   ]
  },
  {
   "cell_type": "code",
   "execution_count": 28,
   "id": "810dcb8c",
   "metadata": {},
   "outputs": [
    {
     "name": "stdout",
     "output_type": "stream",
     "text": [
      "a +b +c +d +e +"
     ]
    }
   ],
   "source": [
    "for a in \"abcde\":\n",
    "    print(a,\"+\",end=\"\")"
   ]
  },
  {
   "cell_type": "code",
   "execution_count": 29,
   "id": "8b53fc91",
   "metadata": {},
   "outputs": [
    {
     "name": "stdout",
     "output_type": "stream",
     "text": [
      "a -b -c -d -e -f -"
     ]
    }
   ],
   "source": [
    "for a in\"abcdef\":\n",
    "    print(a,\"-\",end=\"\")\n"
   ]
  },
  {
   "cell_type": "code",
   "execution_count": 31,
   "id": "e1fe4fc2",
   "metadata": {},
   "outputs": [
    {
     "name": "stdout",
     "output_type": "stream",
     "text": [
      "a %, %d %, %u %, %r %, %e %, %i %, %o %"
     ]
    }
   ],
   "source": [
    "for a in \"a,d,u,r,e,i,o\":\n",
    "    print(a,\"%\",end=\"\")"
   ]
  },
  {
   "cell_type": "code",
   "execution_count": 32,
   "id": "e80b1396",
   "metadata": {},
   "outputs": [
    {
     "name": "stdout",
     "output_type": "stream",
     "text": [
      "a +b +c +d +e +"
     ]
    }
   ],
   "source": [
    "for a in \"abcde\":\n",
    "    print(a,\"+\",end=\"\")"
   ]
  },
  {
   "cell_type": "code",
   "execution_count": 5,
   "id": "fb5ff2b5",
   "metadata": {},
   "outputs": [
    {
     "name": "stdout",
     "output_type": "stream",
     "text": [
      "2\n",
      "6\n",
      "12\n",
      "20\n",
      "30\n",
      "40\n"
     ]
    }
   ],
   "source": [
    "sum=0\n",
    "for z in range (2,11,2):\n",
    "    sum +=z\n",
    "    print(sum)\n",
    "sum +=z\n",
    "print(sum)"
   ]
  },
  {
   "cell_type": "code",
   "execution_count": null,
   "id": "db24fbf1",
   "metadata": {},
   "outputs": [],
   "source": [
    "\n",
    "#ask the user for the range from which the even numbershould be printed#eg.10 to20,60to1000,70 to80"
   ]
  },
  {
   "cell_type": "code",
   "execution_count": null,
   "id": "a4f86817",
   "metadata": {},
   "outputs": [],
   "source": [
    "#squre each number number inside alist and finally print it:"
   ]
  },
  {
   "cell_type": "code",
   "execution_count": 18,
   "id": "164f5a76",
   "metadata": {},
   "outputs": [
    {
     "ename": "IndentationError",
     "evalue": "expected an indented block after 'for' statement on line 2 (3546564919.py, line 3)",
     "output_type": "error",
     "traceback": [
      "\u001b[1;36m  Cell \u001b[1;32mIn[18], line 3\u001b[1;36m\u001b[0m\n\u001b[1;33m    print(n*n)\u001b[0m\n\u001b[1;37m    ^\u001b[0m\n\u001b[1;31mIndentationError\u001b[0m\u001b[1;31m:\u001b[0m expected an indented block after 'for' statement on line 2\n"
     ]
    }
   ],
   "source": [
    "n=[2,3,4]\n",
    "for x in[n]:\n",
    "print(n*n)\n",
    "\n"
   ]
  },
  {
   "cell_type": "code",
   "execution_count": 31,
   "id": "3970fb47",
   "metadata": {},
   "outputs": [
    {
     "name": "stdout",
     "output_type": "stream",
     "text": [
      "4\n",
      "9\n",
      "16\n"
     ]
    }
   ],
   "source": [
    "x=[2,3,4] \n",
    "for a in x:\n",
    "    print(a*a)\n",
    "    \n",
    "    \n",
    "\n"
   ]
  },
  {
   "cell_type": "code",
   "execution_count": null,
   "id": "f7326700",
   "metadata": {},
   "outputs": [],
   "source": [
    "x=[1,2,3,4]"
   ]
  },
  {
   "cell_type": "code",
   "execution_count": null,
   "id": "7c40183b",
   "metadata": {},
   "outputs": [],
   "source": [
    "\n",
    "x=list range(1,10)"
   ]
  }
 ],
 "metadata": {
  "kernelspec": {
   "display_name": "Python 3 (ipykernel)",
   "language": "python",
   "name": "python3"
  },
  "language_info": {
   "codemirror_mode": {
    "name": "ipython",
    "version": 3
   },
   "file_extension": ".py",
   "mimetype": "text/x-python",
   "name": "python",
   "nbconvert_exporter": "python",
   "pygments_lexer": "ipython3",
   "version": "3.10.9"
  }
 },
 "nbformat": 4,
 "nbformat_minor": 5
}
