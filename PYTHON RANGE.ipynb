{
 "cells": [
  {
   "cell_type": "raw",
   "id": "f1faf4c6",
   "metadata": {},
   "source": [
    "range(start,stop,sequence)\n",
    "range has three \n",
    "two are optional *start(lower limit) and *stop(upper limit)               \n",
    "\n",
    "\n",
    "\n",
    "\n",
    "# step doesn't take the last value of upper limit\n",
    "# works only with the for loop\n"
   ]
  },
  {
   "cell_type": "code",
   "execution_count": 41,
   "id": "284459f8",
   "metadata": {},
   "outputs": [
    {
     "name": "stdout",
     "output_type": "stream",
     "text": [
      "0\n",
      "1\n",
      "2\n",
      "3\n",
      "4\n",
      "5\n",
      "6\n",
      "7\n",
      "8\n",
      "9\n"
     ]
    }
   ],
   "source": [
    "for i in range(10):\n",
    "    print(i)"
   ]
  },
  {
   "cell_type": "code",
   "execution_count": 42,
   "id": "db28ffee",
   "metadata": {},
   "outputs": [
    {
     "name": "stdout",
     "output_type": "stream",
     "text": [
      "0\n",
      "1\n",
      "2\n",
      "3\n",
      "4\n",
      "5\n",
      "6\n",
      "7\n",
      "8\n",
      "9\n"
     ]
    }
   ],
   "source": [
    "for i in range(10):\n",
    "    print(i)"
   ]
  },
  {
   "cell_type": "code",
   "execution_count": 43,
   "id": "dfbdd79f",
   "metadata": {},
   "outputs": [
    {
     "name": "stdout",
     "output_type": "stream",
     "text": [
      "0123456789"
     ]
    }
   ],
   "source": [
    "for i in range(10):\n",
    "    print(i,end='')"
   ]
  },
  {
   "cell_type": "code",
   "execution_count": 44,
   "id": "675ca9cc",
   "metadata": {},
   "outputs": [
    {
     "name": "stdout",
     "output_type": "stream",
     "text": [
      "0 1 2 3 4 5 6 7 8 9 "
     ]
    }
   ],
   "source": [
    "for i in range(10):\n",
    "    print(i,end=' ') "
   ]
  },
  {
   "cell_type": "code",
   "execution_count": 56,
   "id": "c9df262f",
   "metadata": {},
   "outputs": [
    {
     "name": "stdout",
     "output_type": "stream",
     "text": [
      "0123456789"
     ]
    }
   ],
   "source": [
    "for i in range(10):\n",
    "    print(i,end='''''') "
   ]
  },
  {
   "cell_type": "code",
   "execution_count": 62,
   "id": "f394e1fd",
   "metadata": {},
   "outputs": [],
   "source": [
    "for i in range(2,10,-1):\n",
    "     print(i,end='  ') "
   ]
  },
  {
   "cell_type": "code",
   "execution_count": 59,
   "id": "2ebd8c6b",
   "metadata": {},
   "outputs": [
    {
     "name": "stdout",
     "output_type": "stream",
     "text": [
      "10 9 8 7 6 5 4 3 2 "
     ]
    }
   ],
   "source": [
    "for i in range(10, 1,-1):\n",
    "    print(i,end=' ') "
   ]
  },
  {
   "cell_type": "code",
   "execution_count": 48,
   "id": "d7f9a3b2",
   "metadata": {},
   "outputs": [],
   "source": [
    "for i in range(-1):\n",
    "    print(i,end=' ') "
   ]
  },
  {
   "cell_type": "code",
   "execution_count": 49,
   "id": "c9ce03da",
   "metadata": {},
   "outputs": [
    {
     "name": "stdout",
     "output_type": "stream",
     "text": [
      "10 11 12 13 14 15 "
     ]
    }
   ],
   "source": [
    "for i in range(10, 16,1):\n",
    "    print(i,end=' ') "
   ]
  },
  {
   "cell_type": "code",
   "execution_count": 50,
   "id": "50aad985",
   "metadata": {},
   "outputs": [
    {
     "ename": "TypeError",
     "evalue": "'float' object cannot be interpreted as an integer",
     "output_type": "error",
     "traceback": [
      "\u001b[1;31m---------------------------------------------------------------------------\u001b[0m",
      "\u001b[1;31mTypeError\u001b[0m                                 Traceback (most recent call last)",
      "Cell \u001b[1;32mIn[50], line 1\u001b[0m\n\u001b[1;32m----> 1\u001b[0m \u001b[38;5;28;01mfor\u001b[39;00m i \u001b[38;5;129;01min\u001b[39;00m \u001b[38;5;28;43mrange\u001b[39;49m\u001b[43m(\u001b[49m\u001b[38;5;241;43m10.5\u001b[39;49m\u001b[43m,\u001b[49m\u001b[43m \u001b[49m\u001b[38;5;241;43m55.3\u001b[39;49m\u001b[43m,\u001b[49m\u001b[38;5;241;43m0.2\u001b[39;49m\u001b[43m)\u001b[49m:    \u001b[38;5;66;03m# range function only works with the integers\u001b[39;00m\n\u001b[0;32m      2\u001b[0m     \u001b[38;5;28mprint\u001b[39m(i,end\u001b[38;5;241m=\u001b[39m\u001b[38;5;124m'\u001b[39m\u001b[38;5;124m \u001b[39m\u001b[38;5;124m'\u001b[39m)\n",
      "\u001b[1;31mTypeError\u001b[0m: 'float' object cannot be interpreted as an integer"
     ]
    }
   ],
   "source": [
    "for i in range(10.5, 55.3,0.2):    # range function only works with the integers\n",
    "    print(i,end=' ') "
   ]
  },
  {
   "cell_type": "code",
   "execution_count": null,
   "id": "4d049d0b",
   "metadata": {},
   "outputs": [],
   "source": [
    "for i in range('a','z','s'):    # range function only works with the integers\n",
    "    print(i,end=' ') "
   ]
  },
  {
   "cell_type": "code",
   "execution_count": null,
   "id": "c84dd2ed",
   "metadata": {},
   "outputs": [],
   "source": [
    "for i in range('a','z','1'):    # range function only works with the integers\n",
    "    print(i,end=' ') "
   ]
  },
  {
   "cell_type": "code",
   "execution_count": 51,
   "id": "33fca90a",
   "metadata": {},
   "outputs": [
    {
     "ename": "ValueError",
     "evalue": "range() arg 3 must not be zero",
     "output_type": "error",
     "traceback": [
      "\u001b[1;31m---------------------------------------------------------------------------\u001b[0m",
      "\u001b[1;31mValueError\u001b[0m                                Traceback (most recent call last)",
      "Cell \u001b[1;32mIn[51], line 1\u001b[0m\n\u001b[1;32m----> 1\u001b[0m \u001b[38;5;28;01mfor\u001b[39;00m i \u001b[38;5;129;01min\u001b[39;00m \u001b[38;5;28;43mrange\u001b[39;49m\u001b[43m(\u001b[49m\u001b[38;5;241;43m1\u001b[39;49m\u001b[43m,\u001b[49m\u001b[38;5;241;43m12\u001b[39;49m\u001b[43m,\u001b[49m\u001b[38;5;241;43m0\u001b[39;49m\u001b[43m)\u001b[49m:    \u001b[38;5;66;03m# range function only works with the integers\u001b[39;00m\n\u001b[0;32m      2\u001b[0m     \u001b[38;5;28mprint\u001b[39m(i,end\u001b[38;5;241m=\u001b[39m\u001b[38;5;124m'\u001b[39m\u001b[38;5;124m \u001b[39m\u001b[38;5;124m'\u001b[39m)\n",
      "\u001b[1;31mValueError\u001b[0m: range() arg 3 must not be zero"
     ]
    }
   ],
   "source": [
    "for i in range(1,12,0):    # range function only works with the integers\n",
    "    print(i,end=' ') "
   ]
  },
  {
   "cell_type": "code",
   "execution_count": null,
   "id": "d095de13",
   "metadata": {},
   "outputs": [],
   "source": [
    "for i in range(1,12,2):  #range function only works with the integers\n",
    "    print('current value ofi',i) "
   ]
  },
  {
   "cell_type": "markdown",
   "id": "43a32b12",
   "metadata": {},
   "source": [
    "#### iterate a list using range() and for loop"
   ]
  },
  {
   "cell_type": "code",
   "execution_count": 52,
   "id": "5e15e507",
   "metadata": {},
   "outputs": [
    {
     "name": "stdout",
     "output_type": "stream",
     "text": [
      "paisa\n",
      "uma\n",
      "20\n",
      "30\n",
      "75.5\n",
      "34\n",
      "32\n"
     ]
    }
   ],
   "source": [
    "list1=['paisa','uma',20,30,75.5,34,32]\n",
    "for i in range(len(list1)):\n",
    "    print(list1[i])\n"
   ]
  },
  {
   "cell_type": "code",
   "execution_count": 53,
   "id": "2825015c",
   "metadata": {},
   "outputs": [
    {
     "name": "stdout",
     "output_type": "stream",
     "text": [
      "['paisa', 'uma', 34, 75.5]\n",
      "['paisa', 'uma', 34, 75.5]\n",
      "['paisa', 'uma', 34, 75.5]\n",
      "['paisa', 'uma', 34, 75.5]\n"
     ]
    }
   ],
   "source": [
    "list1=['paisa','uma',34,75.5]\n",
    "for i in range(len(list1)):\n",
    "    print(list1)"
   ]
  },
  {
   "cell_type": "code",
   "execution_count": 54,
   "id": "5e51bdcd",
   "metadata": {},
   "outputs": [
    {
     "name": "stdout",
     "output_type": "stream",
     "text": [
      "paisa uma 34 75.5 "
     ]
    }
   ],
   "source": [
    "list1=['paisa','uma',34,75.5]\n",
    "for i in range(len(list1)):\n",
    "    print(list1[i],end=' ')"
   ]
  },
  {
   "cell_type": "markdown",
   "id": "ec534a12",
   "metadata": {},
   "source": [
    "## reverse range"
   ]
  },
  {
   "cell_type": "code",
   "execution_count": 5,
   "id": "f2256e2e",
   "metadata": {},
   "outputs": [
    {
     "name": "stdout",
     "output_type": "stream",
     "text": [
      "10,9,8,7,"
     ]
    }
   ],
   "source": [
    "#### using neagative step\n",
    "for i in range(10,6,-1):\n",
    "    print(i,end=',')"
   ]
  },
  {
   "cell_type": "code",
   "execution_count": 7,
   "id": "fa46f96d",
   "metadata": {},
   "outputs": [],
   "source": [
    "#### using neagative step   #it gives no output\n",
    "for i in range(10,16,-1):\n",
    "    print(i,end=',')"
   ]
  },
  {
   "cell_type": "code",
   "execution_count": 9,
   "id": "4be170bb",
   "metadata": {},
   "outputs": [],
   "source": [
    "#### using neagative step   #it gives no output\n",
    "for i in range(13,1,1):\n",
    "    print(i,end=',')"
   ]
  },
  {
   "cell_type": "code",
   "execution_count": 3,
   "id": "28a7f076",
   "metadata": {},
   "outputs": [
    {
     "name": "stdout",
     "output_type": "stream",
     "text": [
      "10 9 8 7 6 5 4 3 2 "
     ]
    }
   ],
   "source": [
    "for i in range(10,1,-1):\n",
    "    print(i,end=' ') "
   ]
  },
  {
   "cell_type": "code",
   "execution_count": 19,
   "id": "f77e1df2",
   "metadata": {},
   "outputs": [
    {
     "name": "stdout",
     "output_type": "stream",
     "text": [
      "-1,"
     ]
    },
    {
     "ename": "TypeError",
     "evalue": "'NoneType' object is not iterable",
     "output_type": "error",
     "traceback": [
      "\u001b[1;31m---------------------------------------------------------------------------\u001b[0m",
      "\u001b[1;31mTypeError\u001b[0m                                 Traceback (most recent call last)",
      "Cell \u001b[1;32mIn[19], line 3\u001b[0m\n\u001b[0;32m      1\u001b[0m \u001b[38;5;66;03m#### using neagative step\u001b[39;00m\n\u001b[0;32m      2\u001b[0m \u001b[38;5;28;01mfor\u001b[39;00m i \u001b[38;5;129;01min\u001b[39;00m \u001b[38;5;28mrange\u001b[39m(\u001b[38;5;241m-\u001b[39m\u001b[38;5;241m1\u001b[39m,\u001b[38;5;241m-\u001b[39m\u001b[38;5;241m10\u001b[39m,\u001b[38;5;241m-\u001b[39m\u001b[38;5;241m1\u001b[39m):\n\u001b[1;32m----> 3\u001b[0m     \u001b[38;5;28;43mlist\u001b[39;49m\u001b[43m(\u001b[49m\u001b[38;5;28;43mprint\u001b[39;49m\u001b[43m(\u001b[49m\u001b[43mi\u001b[49m\u001b[43m,\u001b[49m\u001b[43mend\u001b[49m\u001b[38;5;241;43m=\u001b[39;49m\u001b[38;5;124;43m'\u001b[39;49m\u001b[38;5;124;43m,\u001b[39;49m\u001b[38;5;124;43m'\u001b[39;49m\u001b[43m)\u001b[49m\u001b[43m)\u001b[49m\n",
      "\u001b[1;31mTypeError\u001b[0m: 'NoneType' object is not iterable"
     ]
    }
   ],
   "source": [
    "#### using neagative step\n",
    "for i in range(-1,-10,-1):\n",
    "    print(i,end=',')\n",
    "    #### using neagative step\n",
    "x=list((i,end=','))"
   ]
  },
  {
   "cell_type": "code",
   "execution_count": 12,
   "id": "0592f722",
   "metadata": {},
   "outputs": [
    {
     "name": "stdout",
     "output_type": "stream",
     "text": [
      "1\n",
      "3\n",
      "5\n",
      "7\n",
      "9\n"
     ]
    },
    {
     "ename": "TypeError",
     "evalue": "'type' object is not iterable",
     "output_type": "error",
     "traceback": [
      "\u001b[1;31m---------------------------------------------------------------------------\u001b[0m",
      "\u001b[1;31mTypeError\u001b[0m                                 Traceback (most recent call last)",
      "Cell \u001b[1;32mIn[12], line 4\u001b[0m\n\u001b[0;32m      2\u001b[0m \u001b[38;5;28;01mfor\u001b[39;00m i \u001b[38;5;129;01min\u001b[39;00m \u001b[38;5;28mrange\u001b[39m(\u001b[38;5;241m1\u001b[39m,\u001b[38;5;241m10\u001b[39m,\u001b[38;5;241m2\u001b[39m):\n\u001b[0;32m      3\u001b[0m     \u001b[38;5;28mprint\u001b[39m(i)\n\u001b[1;32m----> 4\u001b[0m x\u001b[38;5;241m=\u001b[39m\u001b[38;5;28;43mlist\u001b[39;49m\u001b[43m(\u001b[49m\u001b[38;5;28;43mrange\u001b[39;49m\u001b[43m)\u001b[49m\n",
      "\u001b[1;31mTypeError\u001b[0m: 'type' object is not iterable"
     ]
    }
   ],
   "source": [
    "## convert range to list\n",
    "for i in range(1,10,2):\n",
    "    print(i)\n",
    "x=list(range)"
   ]
  },
  {
   "cell_type": "code",
   "execution_count": 16,
   "id": "df64987b",
   "metadata": {},
   "outputs": [
    {
     "name": "stdout",
     "output_type": "stream",
     "text": [
      "1\n",
      "3\n",
      "5\n",
      "7\n",
      "9\n",
      "2299489550832\n"
     ]
    },
    {
     "data": {
      "text/plain": [
       "int"
      ]
     },
     "execution_count": 16,
     "metadata": {},
     "output_type": "execute_result"
    }
   ],
   "source": [
    "## convert range to list\n",
    "for i in range(1,10,2):\n",
    "    print(i)\n",
    "print(id(i))\n",
    "type(i)"
   ]
  },
  {
   "cell_type": "code",
   "execution_count": 18,
   "id": "45ec83dd",
   "metadata": {},
   "outputs": [
    {
     "name": "stdout",
     "output_type": "stream",
     "text": [
      "-1,-2,-3,-4,-5,-6,-7,-8,-9,"
     ]
    },
    {
     "ename": "TypeError",
     "evalue": "list() takes no keyword arguments",
     "output_type": "error",
     "traceback": [
      "\u001b[1;31m---------------------------------------------------------------------------\u001b[0m",
      "\u001b[1;31mTypeError\u001b[0m                                 Traceback (most recent call last)",
      "Cell \u001b[1;32mIn[18], line 4\u001b[0m\n\u001b[0;32m      2\u001b[0m \u001b[38;5;28;01mfor\u001b[39;00m i \u001b[38;5;129;01min\u001b[39;00m \u001b[38;5;28mrange\u001b[39m(\u001b[38;5;241m-\u001b[39m\u001b[38;5;241m1\u001b[39m,\u001b[38;5;241m-\u001b[39m\u001b[38;5;241m10\u001b[39m,\u001b[38;5;241m-\u001b[39m\u001b[38;5;241m1\u001b[39m):\n\u001b[0;32m      3\u001b[0m     \u001b[38;5;28mprint\u001b[39m(i,end\u001b[38;5;241m=\u001b[39m\u001b[38;5;124m'\u001b[39m\u001b[38;5;124m,\u001b[39m\u001b[38;5;124m'\u001b[39m)\n\u001b[1;32m----> 4\u001b[0m x\u001b[38;5;241m=\u001b[39m\u001b[38;5;28;43mlist\u001b[39;49m\u001b[43m(\u001b[49m\u001b[43mi\u001b[49m\u001b[43m,\u001b[49m\u001b[43mend\u001b[49m\u001b[38;5;241;43m=\u001b[39;49m\u001b[38;5;124;43m'\u001b[39;49m\u001b[38;5;124;43m,\u001b[39;49m\u001b[38;5;124;43m'\u001b[39;49m\u001b[43m)\u001b[49m\n\u001b[0;32m      5\u001b[0m \u001b[38;5;28mprint\u001b[39m(x)\n",
      "\u001b[1;31mTypeError\u001b[0m: list() takes no keyword arguments"
     ]
    }
   ],
   "source": [
    "#### using neagative step\n",
    "for i in range(-1,-10,-1):\n",
    "    print(i,end=',')\n",
    "x=list(i,end=',')\n",
    "print(x)"
   ]
  },
  {
   "cell_type": "code",
   "execution_count": 2,
   "id": "933cd5a8",
   "metadata": {},
   "outputs": [
    {
     "name": "stdout",
     "output_type": "stream",
     "text": [
      "[1, 2, 3, 4, 5, 6, 7, 8, 9]\n",
      "1\n",
      "2\n",
      "3\n",
      "4\n",
      "5\n",
      "6\n",
      "7\n",
      "8\n",
      "9\n"
     ]
    }
   ],
   "source": [
    "list1=list(range(1,10,1))\n",
    "print(list1)\n",
    "for i in list1:\n",
    "    print(i)"
   ]
  },
  {
   "cell_type": "code",
   "execution_count": null,
   "id": "18153f26",
   "metadata": {},
   "outputs": [],
   "source": []
  },
  {
   "cell_type": "code",
   "execution_count": 3,
   "id": "3867829d",
   "metadata": {},
   "outputs": [
    {
     "name": "stdout",
     "output_type": "stream",
     "text": [
      "[1, 2, 3, 4, 5, 6, 7, 8, 9]\n",
      "1\n",
      "2\n",
      "3\n",
      "4\n",
      "5\n",
      "6\n",
      "7\n",
      "8\n",
      "9\n"
     ]
    }
   ],
   "source": [
    "list1=list(range(1,10,1))\n",
    "print(list1)\n",
    "for i in list1:\n",
    "    print(i)"
   ]
  },
  {
   "cell_type": "markdown",
   "id": "e8618bfa",
   "metadata": {},
   "source": [
    "###### accessing and modifying the items of a list using range:"
   ]
  },
  {
   "cell_type": "code",
   "execution_count": 8,
   "id": "90839f37",
   "metadata": {},
   "outputs": [
    {
     "name": "stdout",
     "output_type": "stream",
     "text": [
      "[20, 40, 60, 80, 100, 120, 140, 160, 180]\n"
     ]
    }
   ],
   "source": [
    "sample_list=list(range(10,100,10))\n",
    "for i in range(0,len(sample_list),1):\n",
    "    sample_list[i]=sample_list[i]*2\n",
    "print(sample_list)   "
   ]
  },
  {
   "cell_type": "code",
   "execution_count": 26,
   "id": "39e7a2ab",
   "metadata": {},
   "outputs": [
    {
     "name": "stdout",
     "output_type": "stream",
     "text": [
      "6\n",
      "[6, 4, 6, 8, 6, 12, 6, 9, 6, 9, 6, 9, 6, 6, 6, 6, 6, 6, 6, 6, 6, 8, 6, 8]\n",
      "4\n",
      "[6, 4, 6, 8, 6, 12, 6, 9, 6, 9, 6, 9, 6, 6, 6, 6, 6, 6, 6, 6, 6, 8, 6, 8]\n",
      "6\n",
      "[6, 4, 6, 8, 6, 12, 6, 9, 6, 9, 6, 9, 6, 6, 6, 6, 6, 6, 6, 6, 6, 8, 6, 8]\n",
      "8\n",
      "[6, 4, 6, 8, 6, 12, 6, 9, 6, 9, 6, 9, 6, 6, 6, 6, 6, 6, 6, 6, 6, 8, 6, 8]\n",
      "6\n",
      "[6, 4, 6, 8, 6, 12, 6, 9, 6, 9, 6, 9, 6, 6, 6, 6, 6, 6, 6, 6, 6, 8, 6, 8]\n",
      "12\n",
      "[6, 4, 6, 8, 6, 12, 6, 9, 6, 9, 6, 9, 6, 6, 6, 6, 6, 6, 6, 6, 6, 8, 6, 8]\n",
      "6\n",
      "[6, 4, 6, 8, 6, 12, 6, 9, 6, 9, 6, 9, 6, 6, 6, 6, 6, 6, 6, 6, 6, 8, 6, 8]\n",
      "9\n",
      "[6, 4, 6, 8, 6, 12, 6, 9, 6, 9, 6, 9, 6, 6, 6, 6, 6, 6, 6, 6, 6, 8, 6, 8]\n",
      "6\n",
      "[6, 4, 6, 8, 6, 12, 6, 9, 6, 9, 6, 9, 6, 6, 6, 6, 6, 6, 6, 6, 6, 8, 6, 8]\n",
      "9\n",
      "[6, 4, 6, 8, 6, 12, 6, 9, 6, 9, 6, 9, 6, 6, 6, 6, 6, 6, 6, 6, 6, 8, 6, 8]\n",
      "6\n",
      "[6, 4, 6, 8, 6, 12, 6, 9, 6, 9, 6, 9, 6, 6, 6, 6, 6, 6, 6, 6, 6, 8, 6, 8]\n",
      "9\n",
      "[6, 4, 6, 8, 6, 12, 6, 9, 6, 9, 6, 9, 6, 6, 6, 6, 6, 6, 6, 6, 6, 8, 6, 8]\n",
      "6\n",
      "[6, 4, 6, 8, 6, 12, 6, 9, 6, 9, 6, 9, 6, 6, 6, 6, 6, 6, 6, 6, 6, 8, 6, 8]\n",
      "6\n",
      "[6, 4, 6, 8, 6, 12, 6, 9, 6, 9, 6, 9, 6, 6, 6, 6, 6, 6, 6, 6, 6, 8, 6, 8]\n",
      "6\n",
      "[6, 4, 6, 8, 6, 12, 6, 9, 6, 9, 6, 9, 6, 6, 6, 6, 6, 6, 6, 6, 6, 8, 6, 8]\n",
      "6\n",
      "[6, 4, 6, 8, 6, 12, 6, 9, 6, 9, 6, 9, 6, 6, 6, 6, 6, 6, 6, 6, 6, 8, 6, 8]\n",
      "6\n",
      "[6, 4, 6, 8, 6, 12, 6, 9, 6, 9, 6, 9, 6, 6, 6, 6, 6, 6, 6, 6, 6, 8, 6, 8]\n",
      "6\n",
      "[6, 4, 6, 8, 6, 12, 6, 9, 6, 9, 6, 9, 6, 6, 6, 6, 6, 6, 6, 6, 6, 8, 6, 8]\n",
      "6\n",
      "[6, 4, 6, 8, 6, 12, 6, 9, 6, 9, 6, 9, 6, 6, 6, 6, 6, 6, 6, 6, 6, 8, 6, 8]\n",
      "6\n",
      "[6, 4, 6, 8, 6, 12, 6, 9, 6, 9, 6, 9, 6, 6, 6, 6, 6, 6, 6, 6, 6, 8, 6, 8]\n",
      "6\n",
      "[6, 4, 6, 8, 6, 12, 6, 9, 6, 9, 6, 9, 6, 6, 6, 6, 6, 6, 6, 6, 6, 8, 6, 8]\n",
      "8\n",
      "[6, 4, 6, 8, 6, 12, 6, 9, 6, 9, 6, 9, 6, 6, 6, 6, 6, 6, 6, 6, 6, 8, 6, 8]\n",
      "6\n",
      "[6, 4, 6, 8, 6, 12, 6, 9, 6, 9, 6, 9, 6, 6, 6, 6, 6, 6, 6, 6, 6, 8, 6, 8]\n",
      "8\n",
      "[6, 4, 6, 8, 6, 12, 6, 9, 6, 9, 6, 9, 6, 6, 6, 6, 6, 6, 6, 6, 6, 8, 6, 8]\n"
     ]
    }
   ],
   "source": [
    "my_list=[6,4,6,8,6,12,6,9,6,9,6,9,6,6,6,6,6,6,6,6,6,8,6,8]\n",
    "for x in my_list:\n",
    "    print(x)\n",
    "print(my_list)"
   ]
  },
  {
   "cell_type": "code",
   "execution_count": 69,
   "id": "109aaf59",
   "metadata": {},
   "outputs": [
    {
     "name": "stdout",
     "output_type": "stream",
     "text": [
      "[4, 8, 12, 9, 9, 9, 8, 6, 6, 6, 8]\n"
     ]
    }
   ],
   "source": [
    "my_list=[6,4,8,6,12,6,9,6,9,6,9,6,6,6,6,6,6,8,6,8]\n",
    "for x in my_list:\n",
    "    my_list.remove(6)\n",
    "    \n",
    "print(my_list)"
   ]
  },
  {
   "cell_type": "code",
   "execution_count": 63,
   "id": "671a9767",
   "metadata": {},
   "outputs": [
    {
     "ename": "ValueError",
     "evalue": "list.remove(x): x not in list",
     "output_type": "error",
     "traceback": [
      "\u001b[1;31m---------------------------------------------------------------------------\u001b[0m",
      "\u001b[1;31mValueError\u001b[0m                                Traceback (most recent call last)",
      "Cell \u001b[1;32mIn[63], line 3\u001b[0m\n\u001b[0;32m      1\u001b[0m my_list\u001b[38;5;241m=\u001b[39m[\u001b[38;5;241m6\u001b[39m,\u001b[38;5;241m4\u001b[39m,\u001b[38;5;241m6\u001b[39m,\u001b[38;5;241m8\u001b[39m,\u001b[38;5;241m6\u001b[39m,\u001b[38;5;241m12\u001b[39m,\u001b[38;5;241m6\u001b[39m,\u001b[38;5;241m9\u001b[39m,\u001b[38;5;241m6\u001b[39m,\u001b[38;5;241m9\u001b[39m,\u001b[38;5;241m6\u001b[39m,\u001b[38;5;241m9\u001b[39m,\u001b[38;5;241m6\u001b[39m,\u001b[38;5;241m6\u001b[39m,\u001b[38;5;241m6\u001b[39m,\u001b[38;5;241m6\u001b[39m,\u001b[38;5;241m6\u001b[39m,\u001b[38;5;241m6\u001b[39m,\u001b[38;5;241m6\u001b[39m,\u001b[38;5;241m6\u001b[39m,\u001b[38;5;241m6\u001b[39m,\u001b[38;5;241m8\u001b[39m,\u001b[38;5;241m6\u001b[39m,\u001b[38;5;241m8\u001b[39m]\n\u001b[0;32m      2\u001b[0m \u001b[38;5;28;01mfor\u001b[39;00m x \u001b[38;5;129;01min\u001b[39;00m my_list:\n\u001b[1;32m----> 3\u001b[0m     \u001b[43mmy_list\u001b[49m\u001b[38;5;241;43m.\u001b[39;49m\u001b[43mremove\u001b[49m\u001b[43m(\u001b[49m\u001b[38;5;241;43m4\u001b[39;49m\u001b[43m)\u001b[49m\n\u001b[0;32m      4\u001b[0m \u001b[38;5;28mprint\u001b[39m(my_list)\n",
      "\u001b[1;31mValueError\u001b[0m: list.remove(x): x not in list"
     ]
    }
   ],
   "source": [
    "my_list=[6,4,6,8,6,12,6,9,6,9,6,9,6,6,6,6,6,6,6,6,6,8,6,8]\n",
    "for x in my_list:\n",
    "    my_list.repla(4)\n",
    "print(my_list)"
   ]
  },
  {
   "cell_type": "code",
   "execution_count": 58,
   "id": "f6b3f15c",
   "metadata": {},
   "outputs": [
    {
     "ename": "ValueError",
     "evalue": "list.remove(x): x not in list",
     "output_type": "error",
     "traceback": [
      "\u001b[1;31m---------------------------------------------------------------------------\u001b[0m",
      "\u001b[1;31mValueError\u001b[0m                                Traceback (most recent call last)",
      "Cell \u001b[1;32mIn[58], line 3\u001b[0m\n\u001b[0;32m      1\u001b[0m my_list\u001b[38;5;241m=\u001b[39m[\u001b[38;5;241m9\u001b[39m,\u001b[38;5;241m6\u001b[39m,\u001b[38;5;241m4\u001b[39m,\u001b[38;5;241m6\u001b[39m,\u001b[38;5;241m8\u001b[39m,\u001b[38;5;241m6\u001b[39m,\u001b[38;5;241m12\u001b[39m,\u001b[38;5;241m6\u001b[39m,\u001b[38;5;241m9\u001b[39m,\u001b[38;5;241m9\u001b[39m,\u001b[38;5;241m6\u001b[39m,\u001b[38;5;241m9\u001b[39m,\u001b[38;5;241m6\u001b[39m,\u001b[38;5;241m9\u001b[39m,\u001b[38;5;241m6\u001b[39m,\u001b[38;5;241m6\u001b[39m,\u001b[38;5;241m6\u001b[39m,\u001b[38;5;241m6\u001b[39m,\u001b[38;5;241m6\u001b[39m,\u001b[38;5;241m6\u001b[39m,\u001b[38;5;241m6\u001b[39m,\u001b[38;5;241m6\u001b[39m,\u001b[38;5;241m6\u001b[39m,\u001b[38;5;241m8\u001b[39m,\u001b[38;5;241m6\u001b[39m,\u001b[38;5;241m8\u001b[39m]\n\u001b[0;32m      2\u001b[0m \u001b[38;5;28;01mfor\u001b[39;00m y \u001b[38;5;129;01min\u001b[39;00m my_list:\n\u001b[1;32m----> 3\u001b[0m     \u001b[43mmy_list\u001b[49m\u001b[38;5;241;43m.\u001b[39;49m\u001b[43mremove\u001b[49m\u001b[43m(\u001b[49m\u001b[38;5;241;43m9\u001b[39;49m\u001b[43m)\u001b[49m\n\u001b[0;32m      4\u001b[0m \u001b[38;5;28mprint\u001b[39m(my_list)\n",
      "\u001b[1;31mValueError\u001b[0m: list.remove(x): x not in list"
     ]
    }
   ],
   "source": [
    "my_list=[9,6,4,6,8,6,12,6,9,9,6,9,6,9,6,6,6,6,6,6,6,6,6,8,6,8]\n",
    "for y in my_list:\n",
    "    my_list.remove(9)\n",
    "print(my_list)"
   ]
  },
  {
   "cell_type": "code",
   "execution_count": 1,
   "id": "0dc29620",
   "metadata": {},
   "outputs": [
    {
     "name": "stdout",
     "output_type": "stream",
     "text": [
      "[4, 8, 12, 9, 9, 9, 8, 8]\n"
     ]
    }
   ],
   "source": [
    "my_list=[6,4,6,8,6,12,6,9,6,9,6,9,6,6,6,6,6,6,6,6,6,8,6,8]\n",
    "for y in my_list:\n",
    "    my_list.remove(6)\n",
    "    my_list.remove(6)\n",
    "print(my_list)"
   ]
  },
  {
   "cell_type": "code",
   "execution_count": 4,
   "id": "221c1f8a",
   "metadata": {},
   "outputs": [
    {
     "name": "stdout",
     "output_type": "stream",
     "text": [
      "[4, 8, 12, 9, 9, 9, 6, 6, 6, 8, 6, 8]\n"
     ]
    }
   ],
   "source": [
    "my_list=[6,4,6,8,6,12,6,9,6,9,6,9,6,6,6,6,6,6,6,6,6,8,6,8]\n",
    "for item in my_list:\n",
    "    my_list.remove(6)\n",
    "print(my_list)"
   ]
  },
  {
   "cell_type": "code",
   "execution_count": 15,
   "id": "ca6ca4d9",
   "metadata": {},
   "outputs": [
    {
     "name": "stdout",
     "output_type": "stream",
     "text": [
      "[4, 8, 12, 9, 9, 9, 8, 8]\n"
     ]
    }
   ],
   "source": [
    "my_list=[6,4,6,8,6,12,6,9,6,9,6,9,6,6,8,8,6]\n",
    "for item in my_list:\n",
    "    my_list.remove(6)\n",
    "print(my_list)"
   ]
  },
  {
   "cell_type": "code",
   "execution_count": 6,
   "id": "bce4201d",
   "metadata": {},
   "outputs": [
    {
     "ename": "ValueError",
     "evalue": "list.remove(x): x not in list",
     "output_type": "error",
     "traceback": [
      "\u001b[1;31m---------------------------------------------------------------------------\u001b[0m",
      "\u001b[1;31mValueError\u001b[0m                                Traceback (most recent call last)",
      "Cell \u001b[1;32mIn[6], line 3\u001b[0m\n\u001b[0;32m      1\u001b[0m my_list\u001b[38;5;241m=\u001b[39m[\u001b[38;5;241m8\u001b[39m,\u001b[38;5;241m4\u001b[39m,\u001b[38;5;241m8\u001b[39m,\u001b[38;5;241m8\u001b[39m,\u001b[38;5;241m8\u001b[39m,\u001b[38;5;241m12\u001b[39m,\u001b[38;5;241m8\u001b[39m,\u001b[38;5;241m9\u001b[39m,\u001b[38;5;241m8\u001b[39m,\u001b[38;5;241m9\u001b[39m,\u001b[38;5;241m8\u001b[39m,\u001b[38;5;241m9\u001b[39m,\u001b[38;5;241m8\u001b[39m,\u001b[38;5;241m8\u001b[39m,\u001b[38;5;241m8\u001b[39m,\u001b[38;5;241m8\u001b[39m,\u001b[38;5;241m8\u001b[39m,\u001b[38;5;241m8\u001b[39m,\u001b[38;5;241m8\u001b[39m,\u001b[38;5;241m8\u001b[39m,\u001b[38;5;241m8\u001b[39m,\u001b[38;5;241m8\u001b[39m,\u001b[38;5;241m8\u001b[39m,\u001b[38;5;241m8\u001b[39m,\u001b[38;5;241m6\u001b[39m]\n\u001b[0;32m      2\u001b[0m \u001b[38;5;28;01mfor\u001b[39;00m item \u001b[38;5;129;01min\u001b[39;00m my_list:\n\u001b[1;32m----> 3\u001b[0m     \u001b[43mmy_list\u001b[49m\u001b[38;5;241;43m.\u001b[39;49m\u001b[43mremove\u001b[49m\u001b[43m(\u001b[49m\u001b[38;5;241;43m6\u001b[39;49m\u001b[43m)\u001b[49m\n\u001b[0;32m      4\u001b[0m \u001b[38;5;28mprint\u001b[39m(my_list)\n",
      "\u001b[1;31mValueError\u001b[0m: list.remove(x): x not in list"
     ]
    }
   ],
   "source": [
    "my_list=[8,4,8,8,8,12,8,9,8,9,8,9,8,8,8,8,8,8,8,8,8,8,8,8,6]\n",
    "for item in my_list:\n",
    "    my_list.remove(6)\n",
    "print(my_list)"
   ]
  },
  {
   "cell_type": "code",
   "execution_count": 20,
   "id": "f87f8c9b",
   "metadata": {},
   "outputs": [
    {
     "name": "stdout",
     "output_type": "stream",
     "text": [
      "[4, 8, 8, 8, 12, 8, 9, 8, 9, 8, 9, 8, 8, 8, 8, 8, 6]\n",
      "[4, 8, 8, 12, 8, 9, 8, 9, 8, 9, 8, 8, 8, 8, 8, 6]\n",
      "[4, 8, 12, 8, 9, 8, 9, 8, 9, 8, 8, 8, 8, 8, 6]\n",
      "[4, 12, 8, 9, 8, 9, 8, 9, 8, 8, 8, 8, 8, 6]\n",
      "[4, 12, 9, 8, 9, 8, 9, 8, 8, 8, 8, 8, 6]\n",
      "[4, 12, 9, 9, 8, 9, 8, 8, 8, 8, 8, 6]\n",
      "[4, 12, 9, 9, 9, 8, 8, 8, 8, 8, 6]\n",
      "[4, 12, 9, 9, 9, 8, 8, 8, 8, 6]\n",
      "[4, 12, 9, 9, 9, 8, 8, 8, 6]\n",
      "[4, 12, 9, 9, 9, 8, 8, 6]\n",
      "[4, 12, 9, 9, 9, 8, 6]\n",
      "[4, 12, 9, 9, 9, 6]\n"
     ]
    }
   ],
   "source": [
    "my_list=[8,4,8,8,8,12,8,9,8,9,8,9,8,8,8,8,8,6]\n",
    "for item in my_list:\n",
    "    my_list.remove(8)\n",
    "    print(my_list)\n",
    "    my_list.remove(8)\n",
    "    print(my_list)"
   ]
  },
  {
   "cell_type": "code",
   "execution_count": 11,
   "id": "9866c2bf",
   "metadata": {},
   "outputs": [
    {
     "ename": "ValueError",
     "evalue": "list.remove(x): x not in list",
     "output_type": "error",
     "traceback": [
      "\u001b[1;31m---------------------------------------------------------------------------\u001b[0m",
      "\u001b[1;31mValueError\u001b[0m                                Traceback (most recent call last)",
      "Cell \u001b[1;32mIn[11], line 3\u001b[0m\n\u001b[0;32m      1\u001b[0m my_list\u001b[38;5;241m=\u001b[39m[\u001b[38;5;241m8\u001b[39m,\u001b[38;5;241m4\u001b[39m,\u001b[38;5;241m8\u001b[39m,\u001b[38;5;241m8\u001b[39m,\u001b[38;5;241m8\u001b[39m,\u001b[38;5;241m12\u001b[39m,\u001b[38;5;241m8\u001b[39m,\u001b[38;5;241m9\u001b[39m,\u001b[38;5;241m8\u001b[39m,\u001b[38;5;241m9\u001b[39m,\u001b[38;5;241m8\u001b[39m,\u001b[38;5;241m9\u001b[39m,\u001b[38;5;241m8\u001b[39m,\u001b[38;5;241m8\u001b[39m,\u001b[38;5;241m8\u001b[39m,\u001b[38;5;241m8\u001b[39m,\u001b[38;5;241m8\u001b[39m,\u001b[38;5;241m8\u001b[39m,\u001b[38;5;241m8\u001b[39m,\u001b[38;5;241m8\u001b[39m,\u001b[38;5;241m8\u001b[39m,\u001b[38;5;241m8\u001b[39m,\u001b[38;5;241m8\u001b[39m,\u001b[38;5;241m8\u001b[39m,\u001b[38;5;241m6\u001b[39m]\n\u001b[0;32m      2\u001b[0m \u001b[38;5;28;01mfor\u001b[39;00m item \u001b[38;5;129;01min\u001b[39;00m my_list:\n\u001b[1;32m----> 3\u001b[0m     \u001b[43mmy_list\u001b[49m\u001b[38;5;241;43m.\u001b[39;49m\u001b[43mremove\u001b[49m\u001b[43m(\u001b[49m\u001b[38;5;241;43m6\u001b[39;49m\u001b[43m)\u001b[49m\n\u001b[0;32m      4\u001b[0m \u001b[38;5;28mprint\u001b[39m(my_list)\n",
      "\u001b[1;31mValueError\u001b[0m: list.remove(x): x not in list"
     ]
    }
   ],
   "source": [
    "my_list=[8,4,8,8,8,12,8,9,8,9,8,9,8,8,8,8,8,8,8,8,8,8,8,8,6]\n",
    "for item in my_list:\n",
    "    my_list.remove(6)\n",
    "print(my_list)"
   ]
  },
  {
   "cell_type": "code",
   "execution_count": null,
   "id": "fcb610e5",
   "metadata": {},
   "outputs": [],
   "source": []
  },
  {
   "cell_type": "code",
   "execution_count": 10,
   "id": "4d0d4941",
   "metadata": {},
   "outputs": [
    {
     "name": "stdout",
     "output_type": "stream",
     "text": [
      "[4, 12, 9, 9, 9, 6]\n"
     ]
    }
   ],
   "source": [
    "my_list=[8,4,8,8,8,12,8,9,8,9,9,6,8]\n",
    "for item in my_list:\n",
    "    my_list.remove(8)\n",
    "print(my_list)"
   ]
  },
  {
   "cell_type": "code",
   "execution_count": null,
   "id": "18812f88",
   "metadata": {},
   "outputs": [],
   "source": []
  },
  {
   "cell_type": "markdown",
   "id": "0fd6acda",
   "metadata": {},
   "source": [
    "#### inclusive range"
   ]
  },
  {
   "cell_type": "code",
   "execution_count": 3,
   "id": "fd859999",
   "metadata": {},
   "outputs": [
    {
     "name": "stdout",
     "output_type": "stream",
     "text": [
      "1 2 3 4 5 6 7 8 9 10 11 "
     ]
    }
   ],
   "source": [
    "for i in range(1,12,1):f\n",
    "    print(i,end=' ') "
   ]
  },
  {
   "cell_type": "code",
   "execution_count": 5,
   "id": "3e90aac9",
   "metadata": {},
   "outputs": [
    {
     "ename": "TypeError",
     "evalue": "list() takes no keyword arguments",
     "output_type": "error",
     "traceback": [
      "\u001b[1;31m---------------------------------------------------------------------------\u001b[0m",
      "\u001b[1;31mTypeError\u001b[0m                                 Traceback (most recent call last)",
      "Cell \u001b[1;32mIn[5], line 2\u001b[0m\n\u001b[0;32m      1\u001b[0m \u001b[38;5;28;01mfor\u001b[39;00m i \u001b[38;5;129;01min\u001b[39;00m \u001b[38;5;28mrange\u001b[39m(\u001b[38;5;241m1\u001b[39m,\u001b[38;5;241m12\u001b[39m,\u001b[38;5;241m1\u001b[39m):\n\u001b[1;32m----> 2\u001b[0m     \u001b[38;5;28mprint\u001b[39m(\u001b[38;5;28;43mlist\u001b[39;49m\u001b[43m(\u001b[49m\u001b[43mi\u001b[49m\u001b[43m,\u001b[49m\u001b[43mend\u001b[49m\u001b[38;5;241;43m=\u001b[39;49m\u001b[38;5;124;43m'\u001b[39;49m\u001b[38;5;124;43m \u001b[39;49m\u001b[38;5;124;43m'\u001b[39;49m\u001b[43m)\u001b[49m)\n",
      "\u001b[1;31mTypeError\u001b[0m: list() takes no keyword arguments"
     ]
    }
   ],
   "source": [
    "for i in range(1,12,1):\n",
    "    print(list(i,end=' '))"
   ]
  },
  {
   "cell_type": "code",
   "execution_count": 11,
   "id": "6ea1bd49",
   "metadata": {},
   "outputs": [
    {
     "name": "stdout",
     "output_type": "stream",
     "text": [
      "[20, 40, 60, 80, 100, 120, 140, 160, 180]\n"
     ]
    }
   ],
   "source": [
    "sample_list=list(range(10,100,10))\n",
    "for i in range(0,len(sample_list),1):\n",
    "    \n",
    "    sample_list[i]=sample_list[i]*2\n",
    "print(sample_list)"
   ]
  },
  {
   "cell_type": "code",
   "execution_count": 17,
   "id": "c539c347",
   "metadata": {},
   "outputs": [
    {
     "name": "stdout",
     "output_type": "stream",
     "text": [
      "[10, 20, 30, 40, 50, 60, 70, 80, 90]\n",
      "[0, 1, 2, 3, 4, 5, 6, 7, 8]\n",
      "[20, 40, 60, 80, 100, 120, 140, 160, 180]\n"
     ]
    }
   ],
   "source": [
    "sample_list=list(range(10,100,10))\n",
    "print(sample_list)\n",
    "x=list(range(0,len(sample_list),1))\n",
    "print(x)\n",
    "for i in range(0,len(sample_list),1):\n",
    "    sample_list[i]=sample_list[i]*2\n",
    "print(sample_list)"
   ]
  },
  {
   "cell_type": "code",
   "execution_count": 14,
   "id": "6394829b",
   "metadata": {},
   "outputs": [
    {
     "name": "stdout",
     "output_type": "stream",
     "text": [
      "10 20 30 40 50 60 70 80 90 "
     ]
    }
   ],
   "source": [
    "for i in (range(10,100,10)):\n",
    "    print(i,end=' ')"
   ]
  },
  {
   "cell_type": "code",
   "execution_count": null,
   "id": "16c92f75",
   "metadata": {},
   "outputs": [],
   "source": []
  }
 ],
 "metadata": {
  "kernelspec": {
   "display_name": "Python 3 (ipykernel)",
   "language": "python",
   "name": "python3"
  },
  "language_info": {
   "codemirror_mode": {
    "name": "ipython",
    "version": 3
   },
   "file_extension": ".py",
   "mimetype": "text/x-python",
   "name": "python",
   "nbconvert_exporter": "python",
   "pygments_lexer": "ipython3",
   "version": "3.10.9"
  }
 },
 "nbformat": 4,
 "nbformat_minor": 5
}
