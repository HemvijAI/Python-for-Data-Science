{
 "cells": [
  {
   "cell_type": "code",
   "execution_count": 1,
   "id": "c63727a6",
   "metadata": {},
   "outputs": [
    {
     "ename": "NameError",
     "evalue": "name 'sunday' is not defined",
     "output_type": "error",
     "traceback": [
      "\u001b[1;31m---------------------------------------------------------------------------\u001b[0m",
      "\u001b[1;31mNameError\u001b[0m                                 Traceback (most recent call last)",
      "Cell \u001b[1;32mIn[1], line 1\u001b[0m\n\u001b[1;32m----> 1\u001b[0m example\u001b[38;5;241m=\u001b[39m\u001b[43msunday\u001b[49m\n\u001b[0;32m      2\u001b[0m \u001b[38;5;28mprint\u001b[39m([\u001b[38;5;241m2\u001b[39m])\n",
      "\u001b[1;31mNameError\u001b[0m: name 'sunday' is not defined"
     ]
    }
   ],
   "source": [
    "example=sunday\n",
    "print(#  [2])"
   ]
  },
  {
   "cell_type": "code",
   "execution_count": 3,
   "id": "5d5b3242",
   "metadata": {},
   "outputs": [
    {
     "data": {
      "text/plain": [
       "'python'"
      ]
     },
     "execution_count": 3,
     "metadata": {},
     "output_type": "execute_result"
    }
   ],
   "source": [
    "#string[start index:stop index)\n",
    "example=\"python is easy\"\n",
    "example[0:6]#\"print phythan\""
   ]
  },
  {
   "cell_type": "code",
   "execution_count": 8,
   "id": "6a755fb9",
   "metadata": {},
   "outputs": [
    {
     "data": {
      "text/plain": [
       "'python is easy'"
      ]
     },
     "execution_count": 8,
     "metadata": {},
     "output_type": "execute_result"
    }
   ],
   "source": [
    "example[0:25]#\"print easy\"\n",
    "       \n",
    "       \n",
    "       \n",
    "              "
   ]
  },
  {
   "cell_type": "code",
   "execution_count": 5,
   "id": "1855e1ce",
   "metadata": {},
   "outputs": [
    {
     "ename": "SyntaxError",
     "evalue": "invalid syntax (3874504363.py, line 1)",
     "output_type": "error",
     "traceback": [
      "\u001b[1;36m  Cell \u001b[1;32mIn[5], line 1\u001b[1;36m\u001b[0m\n\u001b[1;33m    example[10:20]\"print easy\"\u001b[0m\n\u001b[1;37m                  ^\u001b[0m\n\u001b[1;31mSyntaxError\u001b[0m\u001b[1;31m:\u001b[0m invalid syntax\n"
     ]
    }
   ],
   "source": [
    "example[10:20]\"print easy\""
   ]
  },
  {
   "cell_type": "code",
   "execution_count": 10,
   "id": "15c7a71d",
   "metadata": {},
   "outputs": [
    {
     "data": {
      "text/plain": [
       "'python i'"
      ]
     },
     "execution_count": 10,
     "metadata": {},
     "output_type": "execute_result"
    }
   ],
   "source": [
    "example[:8]# my name ram"
   ]
  },
  {
   "cell_type": "code",
   "execution_count": 11,
   "id": "f7e6bb0f",
   "metadata": {},
   "outputs": [
    {
     "data": {
      "text/plain": [
       "''"
      ]
     },
     "execution_count": 11,
     "metadata": {},
     "output_type": "execute_result"
    }
   ],
   "source": [
    "example[:0]#my name"
   ]
  },
  {
   "cell_type": "code",
   "execution_count": 15,
   "id": "329ecfec",
   "metadata": {},
   "outputs": [
    {
     "data": {
      "text/plain": [
       "'nd'"
      ]
     },
     "execution_count": 15,
     "metadata": {},
     "output_type": "execute_result"
    }
   ],
   "source": [
    "example=\"my country india\"\n",
    "example[-4:-2]#my country india"
   ]
  },
  {
   "cell_type": "code",
   "execution_count": 16,
   "id": "05baaa60",
   "metadata": {},
   "outputs": [
    {
     "data": {
      "text/plain": [
       "''"
      ]
     },
     "execution_count": 16,
     "metadata": {},
     "output_type": "execute_result"
    }
   ],
   "source": [
    "example=\"my country india\"\n",
    "example[-4:-5]#my country india"
   ]
  },
  {
   "cell_type": "markdown",
   "id": "ace1293c",
   "metadata": {},
   "source": []
  },
  {
   "cell_type": "code",
   "execution_count": 20,
   "id": "2b3f99b2",
   "metadata": {},
   "outputs": [
    {
     "data": {
      "text/plain": [
       "''"
      ]
     },
     "execution_count": 20,
     "metadata": {},
     "output_type": "execute_result"
    }
   ],
   "source": [
    "example=\"my dog colour is green\"\n",
    "example[-6:2]#my dog colour is green "
   ]
  },
  {
   "cell_type": "code",
   "execution_count": 21,
   "id": "69b74c5e",
   "metadata": {},
   "outputs": [
    {
     "name": "stdout",
     "output_type": "stream",
     "text": [
      "pytho\n"
     ]
    }
   ],
   "source": [
    "example=\"python is easy\"\n",
    "print (example[-15:-9])"
   ]
  },
  {
   "cell_type": "code",
   "execution_count": null,
   "id": "291c51a7",
   "metadata": {},
   "outputs": [],
   "source": []
  }
 ],
 "metadata": {
  "kernelspec": {
   "display_name": "Python 3 (ipykernel)",
   "language": "python",
   "name": "python3"
  },
  "language_info": {
   "codemirror_mode": {
    "name": "ipython",
    "version": 3
   },
   "file_extension": ".py",
   "mimetype": "text/x-python",
   "name": "python",
   "nbconvert_exporter": "python",
   "pygments_lexer": "ipython3",
   "version": "3.10.9"
  }
 },
 "nbformat": 4,
 "nbformat_minor": 5
}
