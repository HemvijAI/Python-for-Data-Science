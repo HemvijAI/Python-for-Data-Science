{
 "cells": [
  {
   "cell_type": "code",
   "execution_count": null,
   "id": "f2ce757d",
   "metadata": {},
   "outputs": [],
   "source": [
    "#data analysis\n",
    "#how to select a colum"
   ]
  },
  {
   "cell_type": "code",
   "execution_count": 1,
   "id": "43852f2f",
   "metadata": {},
   "outputs": [],
   "source": [
    "#mtcars.mpg.mean()"
   ]
  },
  {
   "cell_type": "code",
   "execution_count": 2,
   "id": "32c04dca",
   "metadata": {},
   "outputs": [],
   "source": [
    "#mtcars.mpg.median()"
   ]
  },
  {
   "cell_type": "code",
   "execution_count": null,
   "id": "9569152b",
   "metadata": {},
   "outputs": [],
   "source": [
    "mt cars.mpg.describe()\n"
   ]
  },
  {
   "cell_type": "code",
   "execution_count": null,
   "id": "2014a524",
   "metadata": {},
   "outputs": [],
   "source": [
    "#what is therelation netween mpg and wt#correlation (-1 to +1)\n",
    "#corr is -ve when 2 varible "
   ]
  },
  {
   "cell_type": "code",
   "execution_count": 3,
   "id": "4706b038",
   "metadata": {},
   "outputs": [
    {
     "ename": "NameError",
     "evalue": "name 'mtcars' is not defined",
     "output_type": "error",
     "traceback": [
      "\u001b[1;31m---------------------------------------------------------------------------\u001b[0m",
      "\u001b[1;31mNameError\u001b[0m                                 Traceback (most recent call last)",
      "Cell \u001b[1;32mIn[3], line 1\u001b[0m\n\u001b[1;32m----> 1\u001b[0m \u001b[43mmtcars\u001b[49m\u001b[38;5;241m.\u001b[39mcylnder\u001b[38;5;241m.\u001b[39mvalue_counts()\n",
      "\u001b[1;31mNameError\u001b[0m: name 'mtcars' is not defined"
     ]
    }
   ],
   "source": [
    "mtcars.cylnder.value_counts()"
   ]
  },
  {
   "cell_type": "code",
   "execution_count": null,
   "id": "834debfb",
   "metadata": {},
   "outputs": [],
   "source": [
    "#how many unique valuse\n",
    "mtcars.cyl.nuniqe{}\n",
    "#selecting theredorsbased some"
   ]
  }
 ],
 "metadata": {
  "kernelspec": {
   "display_name": "Python 3 (ipykernel)",
   "language": "python",
   "name": "python3"
  },
  "language_info": {
   "codemirror_mode": {
    "name": "ipython",
    "version": 3
   },
   "file_extension": ".py",
   "mimetype": "text/x-python",
   "name": "python",
   "nbconvert_exporter": "python",
   "pygments_lexer": "ipython3",
   "version": "3.10.9"
  }
 },
 "nbformat": 4,
 "nbformat_minor": 5
}
