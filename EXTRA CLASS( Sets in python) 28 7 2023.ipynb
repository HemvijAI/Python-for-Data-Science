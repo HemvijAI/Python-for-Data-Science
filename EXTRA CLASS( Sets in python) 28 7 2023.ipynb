{
 "cells": [
  {
   "cell_type": "markdown",
   "id": "ab5be5c4",
   "metadata": {},
   "source": [
    "# SETS IN PYTHON"
   ]
  },
  {
   "cell_type": "code",
   "execution_count": 2,
   "id": "871cc838",
   "metadata": {},
   "outputs": [
    {
     "name": "stdout",
     "output_type": "stream",
     "text": [
      "{2, 3, 4, 5, 6, 7, 8}\n"
     ]
    }
   ],
   "source": [
    "set={2,3,4,5,6,7,8}\n",
    "print(set)"
   ]
  },
  {
   "cell_type": "code",
   "execution_count": 6,
   "id": "852edd07",
   "metadata": {},
   "outputs": [
    {
     "ename": "TypeError",
     "evalue": "unhashable type: 'list'",
     "output_type": "error",
     "traceback": [
      "\u001b[1;31m---------------------------------------------------------------------------\u001b[0m",
      "\u001b[1;31mTypeError\u001b[0m                                 Traceback (most recent call last)",
      "Cell \u001b[1;32mIn[6], line 1\u001b[0m\n\u001b[1;32m----> 1\u001b[0m \u001b[38;5;28mset\u001b[39m\u001b[38;5;241m=\u001b[39m{\u001b[38;5;241m2\u001b[39m,\u001b[38;5;241m3\u001b[39m,\u001b[38;5;241m4\u001b[39m,\u001b[38;5;241m5\u001b[39m,\u001b[38;5;241m6\u001b[39m,\u001b[38;5;241m7\u001b[39m,\u001b[38;5;241m8\u001b[39m ,[\u001b[38;5;241m2\u001b[39m,\u001b[38;5;241m3\u001b[39m,\u001b[38;5;241m4\u001b[39m,\u001b[38;5;241m5\u001b[39m,\u001b[38;5;241m6\u001b[39m]} \u001b[38;5;66;03m# the characters in set must be of an immutable type.\u001b[39;00m\n\u001b[0;32m      2\u001b[0m \u001b[38;5;28mprint\u001b[39m(\u001b[38;5;28mset\u001b[39m)\n",
      "\u001b[1;31mTypeError\u001b[0m: unhashable type: 'list'"
     ]
    }
   ],
   "source": [
    "set={2,3,4,5,6,7,8 ,[2,3,4,5,6]} # the characters in set must be of an immutable type.\n",
    "print(set)                       # therefore , it does not accept the input of list , which is mutable"
   ]
  },
  {
   "cell_type": "code",
   "execution_count": 27,
   "id": "98f80251",
   "metadata": {},
   "outputs": [
    {
     "name": "stdout",
     "output_type": "stream",
     "text": [
      "{2, 3, 4, 5, 6, 7, 8}\n"
     ]
    }
   ],
   "source": [
    "set={2,3,4,5,6,7,8}       # unordered , mutable(but characters in set are immutable) \n",
    "print(set)                #no duplicacy , characters do not repeat"
   ]
  },
  {
   "cell_type": "code",
   "execution_count": 14,
   "id": "827e138c",
   "metadata": {},
   "outputs": [
    {
     "name": "stdout",
     "output_type": "stream",
     "text": [
      "(3, 4, 2, 5, 6, 8, 7)\n"
     ]
    }
   ],
   "source": [
    "set_=(3,4,2,5,6,8,7)\n",
    "print(set_)"
   ]
  },
  {
   "cell_type": "code",
   "execution_count": 15,
   "id": "1b66c3c6",
   "metadata": {},
   "outputs": [
    {
     "name": "stdout",
     "output_type": "stream",
     "text": [
      "{1, 34, 3, 5}\n"
     ]
    }
   ],
   "source": [
    "set_a= {1,1,1,1,3,34,5,5,5,5,5}\n",
    "print(set_a)"
   ]
  },
  {
   "cell_type": "code",
   "execution_count": 59,
   "id": "f1010c30",
   "metadata": {},
   "outputs": [
    {
     "name": "stdout",
     "output_type": "stream",
     "text": [
      "{1, 2, 3, 'suryansh'}\n"
     ]
    }
   ],
   "source": [
    "set_b={1,2,3,'suryansh'}\n",
    "print(set_b)"
   ]
  },
  {
   "cell_type": "code",
   "execution_count": 54,
   "id": "ab990c56",
   "metadata": {},
   "outputs": [],
   "source": [
    "set_a= {1,1,1,1,3,34,5,5,5,5,5}\n"
   ]
  },
  {
   "cell_type": "code",
   "execution_count": 37,
   "id": "0d2b234f",
   "metadata": {},
   "outputs": [],
   "source": [
    "set_a={1,1,1,1,3,34,5,5,5,5,5}\n"
   ]
  },
  {
   "cell_type": "code",
   "execution_count": 38,
   "id": "512a2e8b",
   "metadata": {},
   "outputs": [],
   "source": [
    "set_b={1,2,3,4,5,7,8}\n"
   ]
  },
  {
   "cell_type": "code",
   "execution_count": 42,
   "id": "3101ce90",
   "metadata": {},
   "outputs": [
    {
     "name": "stdout",
     "output_type": "stream",
     "text": [
      "False\n",
      "{32, 'suryansh', 5, 22}\n",
      "[22, 5, 32, 'suryansh']\n"
     ]
    }
   ],
   "source": [
    "set_b={22,5,32,'suryansh'}\n",
    "list_B=[22,5,32,'suryansh']\n",
    "print(set_b==list_B)\n",
    "print(set_b)\n",
    "print(list_B)"
   ]
  },
  {
   "cell_type": "code",
   "execution_count": 47,
   "id": "443c7db8",
   "metadata": {},
   "outputs": [
    {
     "name": "stdout",
     "output_type": "stream",
     "text": [
      "{'[20,3,3.5,55]'}\n"
     ]
    }
   ],
   "source": [
    "set_b={'[20,3,3.5,55]'}\n",
    "print(set_b)"
   ]
  },
  {
   "cell_type": "code",
   "execution_count": 50,
   "id": "428bd5dd",
   "metadata": {},
   "outputs": [
    {
     "name": "stdout",
     "output_type": "stream",
     "text": [
      "{}\n",
      "<class 'dict'>\n"
     ]
    }
   ],
   "source": [
    "set={}\n",
    "print(set)\n",
    "print(type(set))"
   ]
  },
  {
   "cell_type": "markdown",
   "id": "c1013274",
   "metadata": {},
   "source": [
    "#####  accessing items of a set"
   ]
  },
  {
   "cell_type": "code",
   "execution_count": 61,
   "id": "d20400f4",
   "metadata": {},
   "outputs": [
    {
     "name": "stdout",
     "output_type": "stream",
     "text": [
      "angels and demons\n",
      "harry potter\n",
      "atomic habits\n"
     ]
    }
   ],
   "source": [
    "book_set={'harry potter', 'angels and demons', 'atomic habits'}\n",
    "# if we want to access items in a set we use #for loop\n",
    "for book in book_set:\n",
    "    print(book)\n",
    "    "
   ]
  },
  {
   "cell_type": "code",
   "execution_count": 64,
   "id": "5f0c3467",
   "metadata": {},
   "outputs": [
    {
     "name": "stdout",
     "output_type": "stream",
     "text": [
      "{'angels and demons', 'harry potter', 'atomic habits'}\n"
     ]
    }
   ],
   "source": [
    "print(book_set)"
   ]
  },
  {
   "cell_type": "code",
   "execution_count": 67,
   "id": "3293626d",
   "metadata": {},
   "outputs": [
    {
     "ename": "SyntaxError",
     "evalue": "invalid syntax (3506219660.py, line 2)",
     "output_type": "error",
     "traceback": [
      "\u001b[1;36m  Cell \u001b[1;32mIn[67], line 2\u001b[1;36m\u001b[0m\n\u001b[1;33m    for harry potter in book_set_a\u001b[0m\n\u001b[1;37m              ^\u001b[0m\n\u001b[1;31mSyntaxError\u001b[0m\u001b[1;31m:\u001b[0m invalid syntax\n"
     ]
    }
   ],
   "source": [
    "book_set_a= {'harry potter','atomic habits','angels and demons'}\n",
    "for harry potter in book_set_a\n",
    "print(yes if True and no if False)"
   ]
  },
  {
   "cell_type": "code",
   "execution_count": null,
   "id": "7f0ad969",
   "metadata": {},
   "outputs": [],
   "source": []
  },
  {
   "cell_type": "markdown",
   "id": "a7248c55",
   "metadata": {},
   "source": [
    "# 31/7/2023"
   ]
  },
  {
   "cell_type": "code",
   "execution_count": 1,
   "id": "7c2f5639",
   "metadata": {},
   "outputs": [
    {
     "name": "stdout",
     "output_type": "stream",
     "text": [
      "{'black', 'white', 'red', 'orange'}\n"
     ]
    }
   ],
   "source": [
    "colour_set={'red','orange','purple','black','white'}\n",
    "colour_set.discard('purple')\n",
    "\n",
    "print(colour_set)"
   ]
  },
  {
   "cell_type": "code",
   "execution_count": null,
   "id": "0211c534",
   "metadata": {},
   "outputs": [],
   "source": []
  },
  {
   "cell_type": "code",
   "execution_count": null,
   "id": "8138af05",
   "metadata": {},
   "outputs": [],
   "source": []
  },
  {
   "cell_type": "code",
   "execution_count": null,
   "id": "5616400e",
   "metadata": {},
   "outputs": [],
   "source": []
  },
  {
   "cell_type": "code",
   "execution_count": null,
   "id": "b76dff6b",
   "metadata": {},
   "outputs": [],
   "source": []
  },
  {
   "cell_type": "code",
   "execution_count": null,
   "id": "44e7ca82",
   "metadata": {},
   "outputs": [],
   "source": []
  },
  {
   "cell_type": "code",
   "execution_count": null,
   "id": "eaadccf0",
   "metadata": {},
   "outputs": [],
   "source": []
  },
  {
   "cell_type": "code",
   "execution_count": null,
   "id": "f26dbd7c",
   "metadata": {},
   "outputs": [],
   "source": []
  },
  {
   "cell_type": "code",
   "execution_count": null,
   "id": "8ad91a10",
   "metadata": {},
   "outputs": [],
   "source": []
  },
  {
   "cell_type": "code",
   "execution_count": null,
   "id": "daa9bc70",
   "metadata": {},
   "outputs": [],
   "source": []
  },
  {
   "cell_type": "markdown",
   "id": "d9df8551",
   "metadata": {},
   "source": [
    "# adding items to a set \n",
    "add and \n",
    "update"
   ]
  },
  {
   "cell_type": "code",
   "execution_count": 68,
   "id": "cc878352",
   "metadata": {},
   "outputs": [
    {
     "ename": "NameError",
     "evalue": "name 'apple' is not defined",
     "output_type": "error",
     "traceback": [
      "\u001b[1;31m---------------------------------------------------------------------------\u001b[0m",
      "\u001b[1;31mNameError\u001b[0m                                 Traceback (most recent call last)",
      "Cell \u001b[1;32mIn[68], line 1\u001b[0m\n\u001b[1;32m----> 1\u001b[0m fruit_set\u001b[38;5;241m=\u001b[39m{\u001b[43mapple\u001b[49m,banana}\n",
      "\u001b[1;31mNameError\u001b[0m: name 'apple' is not defined"
     ]
    }
   ],
   "source": [
    "fruit_set={apple,banana'}"
   ]
  },
  {
   "cell_type": "code",
   "execution_count": null,
   "id": "18bfc793",
   "metadata": {},
   "outputs": [],
   "source": []
  },
  {
   "cell_type": "code",
   "execution_count": null,
   "id": "988c80dd",
   "metadata": {},
   "outputs": [],
   "source": []
  },
  {
   "cell_type": "code",
   "execution_count": null,
   "id": "c49404ba",
   "metadata": {},
   "outputs": [],
   "source": []
  },
  {
   "cell_type": "code",
   "execution_count": null,
   "id": "2f8202c0",
   "metadata": {},
   "outputs": [],
   "source": []
  },
  {
   "cell_type": "code",
   "execution_count": null,
   "id": "70b075be",
   "metadata": {},
   "outputs": [],
   "source": []
  },
  {
   "cell_type": "markdown",
   "id": "05e144ad",
   "metadata": {},
   "source": [
    "# remove items from a set\n"
   ]
  },
  {
   "cell_type": "markdown",
   "id": "02338d25",
   "metadata": {},
   "source": [
    "there are 5 methods to remove items from a set"
   ]
  },
  {
   "cell_type": "markdown",
   "id": "8dd69c0f",
   "metadata": {},
   "source": [
    "# .remove\n",
    "# .discard\n",
    "# .pop\n",
    "# .clear\n",
    "# del set"
   ]
  },
  {
   "cell_type": "code",
   "execution_count": null,
   "id": "498af36a",
   "metadata": {},
   "outputs": [],
   "source": []
  },
  {
   "cell_type": "markdown",
   "id": "bc962cf0",
   "metadata": {},
   "source": [
    "# set operations\n",
    "\n",
    "###### union of sets"
   ]
  },
  {
   "cell_type": "code",
   "execution_count": 6,
   "id": "3e174489",
   "metadata": {},
   "outputs": [
    {
     "name": "stdout",
     "output_type": "stream",
     "text": [
      "2500314589312\n",
      "2500314588640\n",
      "{'green', 'red', 'orange', 'yellow', 'violet', 'indigo', 'blue'}\n",
      "2500314588192 2500314588640 2500314589312\n"
     ]
    }
   ],
   "source": [
    "colour_set={'violet','indigo','blue','green','yellow'}\n",
    "print(id(colour_set))\n",
    "remaining_colours={'indigo','orange','red'}\n",
    "#union using     .union() method \n",
    "print(id(remaining_colours))\n",
    "vibgyor_colours=colour_set.union(remaining_colours)\n",
    "print(vibgyor_colours)\n",
    "print(id(vibgyor_colours),id(remaining_colours),id(colour_set))"
   ]
  },
  {
   "cell_type": "markdown",
   "id": "3eccdaff",
   "metadata": {},
   "source": [
    "###### intersection of set"
   ]
  },
  {
   "cell_type": "code",
   "execution_count": 8,
   "id": "00629f65",
   "metadata": {},
   "outputs": [
    {
     "name": "stdout",
     "output_type": "stream",
     "text": [
      "{'green', 'red', 'yellow', 'black', 'sky blue', 'dark green', 'violet', 'blue', 'orange', 'indigo'}\n"
     ]
    }
   ],
   "source": [
    "colour_set={'violet','indigo','blue','green','yellow'}\n",
    "remaining_colours={'indigo','orange','red'}\n",
    "extra_colour_set={'sky blue','dark green','black'}\n",
    "all_colours_set=vibgyor_colours.union(extra_colour_set)\n",
    "print(all_colours_set)\n"
   ]
  },
  {
   "cell_type": "code",
   "execution_count": 10,
   "id": "4d18e341",
   "metadata": {},
   "outputs": [
    {
     "name": "stdout",
     "output_type": "stream",
     "text": [
      "{'green', 'red', 'yellow', 'black', 'sky blue', 'dark green', 'violet', 'blue', 'orange', 'indigo'}\n"
     ]
    }
   ],
   "source": [
    "colour_set={'violet','indigo','blue','green','yellow'}\n",
    "remaining_colours={'indigo','orange','red'}\n",
    "extra_colour_set={'sky blue','dark green','black'}\n",
    "all_colours_set=colour_set.union(remaining_colours).union(extra_colour_set)\n",
    "print(all_colours_set)"
   ]
  },
  {
   "cell_type": "code",
   "execution_count": 15,
   "id": "7d2f5828",
   "metadata": {},
   "outputs": [
    {
     "name": "stdout",
     "output_type": "stream",
     "text": [
      "{'green', 'red', 'yellow', 'black', 'sky blue', 'dark green', 'violet', 'blue', 'orange', 'indigo'}\n",
      "{'green', 'red', 'yellow', 'black', 'sky blue', 'dark green', 'violet', 'blue', 'orange', 'indigo'}\n"
     ]
    }
   ],
   "source": [
    "all_colours_set=colour_set.union(remaining_colours).union(extra_colour_set)\n",
    "print(all_colours_set)\n",
    "print(all_colours_set.union(extra_colour_set))\n",
    "\n"
   ]
  },
  {
   "cell_type": "code",
   "execution_count": null,
   "id": "187a6f0e",
   "metadata": {},
   "outputs": [],
   "source": []
  },
  {
   "cell_type": "markdown",
   "id": "8e9559a8",
   "metadata": {},
   "source": [
    "#### intersection of sets"
   ]
  },
  {
   "cell_type": "code",
   "execution_count": 2,
   "id": "7de9bfb8",
   "metadata": {},
   "outputs": [
    {
     "name": "stdout",
     "output_type": "stream",
     "text": [
      "{'indigo'}\n"
     ]
    }
   ],
   "source": [
    "colour_set={'violet','indigo','blue','green','yellow'}\n",
    "remaining_colours={'indigo','orange','red'}\n",
    "common_colour_set=colour_set.intersection(remaining_colours)\n",
    "print(common_colour_set)"
   ]
  },
  {
   "cell_type": "markdown",
   "id": "b334ba33",
   "metadata": {},
   "source": [
    "#### extra work"
   ]
  },
  {
   "cell_type": "code",
   "execution_count": 21,
   "id": "6d49cfd0",
   "metadata": {},
   "outputs": [
    {
     "ename": "TypeError",
     "evalue": "unhashable type: 'set'",
     "output_type": "error",
     "traceback": [
      "\u001b[1;31m---------------------------------------------------------------------------\u001b[0m",
      "\u001b[1;31mTypeError\u001b[0m                                 Traceback (most recent call last)",
      "Cell \u001b[1;32mIn[21], line 1\u001b[0m\n\u001b[1;32m----> 1\u001b[0m \u001b[38;5;28mset\u001b[39m\u001b[38;5;241m=\u001b[39m{\u001b[38;5;241m1\u001b[39m,\u001b[38;5;241m2\u001b[39m,\u001b[38;5;241m3\u001b[39m,\u001b[38;5;241m4\u001b[39m,{\u001b[38;5;241m34\u001b[39m,\u001b[38;5;241m2\u001b[39m,\u001b[38;5;241m23\u001b[39m}}\n\u001b[0;32m      2\u001b[0m \u001b[38;5;28mprint\u001b[39m(\u001b[38;5;28mset\u001b[39m)\n",
      "\u001b[1;31mTypeError\u001b[0m: unhashable type: 'set'"
     ]
    }
   ],
   "source": [
    "set={1,2,3,4,{34,2,23}}\n",
    "print(set)"
   ]
  },
  {
   "cell_type": "code",
   "execution_count": 22,
   "id": "3ffa7336",
   "metadata": {},
   "outputs": [
    {
     "ename": "TypeError",
     "evalue": "unhashable type: 'list'",
     "output_type": "error",
     "traceback": [
      "\u001b[1;31m---------------------------------------------------------------------------\u001b[0m",
      "\u001b[1;31mTypeError\u001b[0m                                 Traceback (most recent call last)",
      "Cell \u001b[1;32mIn[22], line 1\u001b[0m\n\u001b[1;32m----> 1\u001b[0m \u001b[38;5;28mset\u001b[39m\u001b[38;5;241m=\u001b[39m{\u001b[38;5;241m1\u001b[39m,\u001b[38;5;241m2\u001b[39m,\u001b[38;5;241m3\u001b[39m,\u001b[38;5;241m4\u001b[39m,[\u001b[38;5;241m34\u001b[39m,\u001b[38;5;241m2\u001b[39m,\u001b[38;5;241m23\u001b[39m]}\n\u001b[0;32m      2\u001b[0m \u001b[38;5;28mprint\u001b[39m(\u001b[38;5;28mset\u001b[39m)\n",
      "\u001b[1;31mTypeError\u001b[0m: unhashable type: 'list'"
     ]
    }
   ],
   "source": [
    "set={1,2,3,4,[34,2,23]}\n",
    "print(set)"
   ]
  },
  {
   "cell_type": "markdown",
   "id": "d79b50c9",
   "metadata": {},
   "source": [
    "#### todays work on sets 8/2/2023"
   ]
  },
  {
   "cell_type": "markdown",
   "id": "e0dbf97b",
   "metadata": {},
   "source": [
    "## intersection update"
   ]
  },
  {
   "cell_type": "markdown",
   "id": "ba6ced6c",
   "metadata": {},
   "source": [
    "##### difference between intersection and intersection update\n",
    "in addition to the above intersection() method we have one more method called intersection_update().\n",
    "\n",
    "There are two key differnces between these two\n",
    "\n",
    "- intersection() will not update the origibnal set but intersection_update will update the original set with only common elements. \n",
    "- intersection will have a return value which is a new set with common elements between two or nmore sets\n",
    "where as intersection_update will have no return value because no new set is formed and as the set "
   ]
  },
  {
   "cell_type": "code",
   "execution_count": 8,
   "id": "161807a7",
   "metadata": {},
   "outputs": [
    {
     "name": "stdout",
     "output_type": "stream",
     "text": [
      "{'indigo'}\n",
      "1730745082912\n",
      "None\n",
      "140730942582464\n"
     ]
    }
   ],
   "source": [
    "colour_set={'violet','indigo','blue','green','yellow'}\n",
    "remaining_colours= {'indigo','orange','red'}\n",
    "colour_set=colour_set.intersection(remaining_colours)\n",
    "print(colour_set)\n",
    "print(id(colour_set))\n",
    "common_colour_set=colour_set.intersection_update(remaining_colours)\n",
    "print(common_colour_set)\n",
    "print(id(common_colour_set))\n"
   ]
  },
  {
   "cell_type": "code",
   "execution_count": 14,
   "id": "b3535994",
   "metadata": {},
   "outputs": [
    {
     "name": "stdout",
     "output_type": "stream",
     "text": [
      "1730746760800\n",
      "{'blue', 'yellow', 'violet', 'indigo', 'green'}\n",
      "{'indigo'}\n",
      "1730746760800\n",
      "{'indigo'}\n",
      "1730746760800\n"
     ]
    }
   ],
   "source": [
    "colour_set={'violet','indigo','blue','green','yellow'}\n",
    "remaining_colours= {'indigo','orange','red'}\n",
    "print(id(colour_set))\n",
    "print(colour_set)\n",
    "common_colour=colour_set.intersection(remaining_colours)\n",
    "print(common_colour)\n",
    "print(id(colour_set))\n",
    "colour_set.intersection_update(remaining_colours)\n",
    "print(colour_set)\n",
    "print(id(colour_set))\n",
    "\n",
    "\n",
    "\n",
    "\n",
    "\n"
   ]
  },
  {
   "cell_type": "code",
   "execution_count": null,
   "id": "171ba9b5",
   "metadata": {},
   "outputs": [],
   "source": [
    "colour_set={'violet','indigo','blue','green','yellow'}\n"
   ]
  },
  {
   "cell_type": "markdown",
   "id": "2b7929d1",
   "metadata": {},
   "source": [
    "## difference of sets"
   ]
  },
  {
   "cell_type": "code",
   "execution_count": 24,
   "id": "f79b4d7d",
   "metadata": {},
   "outputs": [
    {
     "name": "stdout",
     "output_type": "stream",
     "text": [
      "{'yellow', 'blue', 'violet', 'green'}\n",
      "{'yellow', 'blue', 'violet', 'green'}\n"
     ]
    }
   ],
   "source": [
    "colour_set={'violet','indigo','blue','green','yellow'}\n",
    "remaining_colours= {'indigo','orange','red'}\n",
    "print(colour_set-remaining_colours)\n",
    "print(colour_set.difference(remaining_colours))"
   ]
  },
  {
   "cell_type": "markdown",
   "id": "02e25e43",
   "metadata": {},
   "source": [
    "#### difference_update"
   ]
  },
  {
   "cell_type": "code",
   "execution_count": 26,
   "id": "98d5d086",
   "metadata": {},
   "outputs": [
    {
     "name": "stdout",
     "output_type": "stream",
     "text": [
      "{'blue', 'yellow', 'violet', 'indigo', 'green'}\n",
      "1730746760352\n",
      "{'blue', 'yellow', 'violet', 'green'}\n",
      "1730746760352\n"
     ]
    }
   ],
   "source": [
    "colour_set={'violet','indigo','blue','green','yellow'}\n",
    "print(colour_set)\n",
    "print(id(colour_set))\n",
    "remaining_colours= {'indigo','orange','red'}\n",
    "colour_set.difference_update(remaining_colours)\n",
    "print(colour_set)\n",
    "print(id(colour_set))\n"
   ]
  },
  {
   "cell_type": "code",
   "execution_count": 26,
   "id": "6c8514b1",
   "metadata": {},
   "outputs": [
    {
     "name": "stdout",
     "output_type": "stream",
     "text": [
      "{1, 2, 3, 4, 6, 7, 8}\n",
      "2618923170528\n",
      "{6, 7, 8}\n",
      "2618923170528\n"
     ]
    }
   ],
   "source": [
    "set_a={1,2,3,4,6,7,8}\n",
    "print(set_a)\n",
    "print(id(set_a))\n",
    "set_b={1,2,3,4,11,22,233,333,444}\n",
    "set_a.difference_update(set_b)\n",
    "print(set_a)\n",
    "print(id(set_a))\n"
   ]
  },
  {
   "cell_type": "code",
   "execution_count": 27,
   "id": "2b479b36",
   "metadata": {},
   "outputs": [
    {
     "name": "stdout",
     "output_type": "stream",
     "text": [
      "{1, 2, 3, 4, 6, 7, 8}\n",
      "2618923171200\n",
      "{1, 2, 3, 4, 6, 7, 8}\n",
      "2618923171200\n"
     ]
    }
   ],
   "source": [
    "set_a={1,2,3,4,6,7,8}\n",
    "print(set_a)\n",
    "print(id(set_a))\n",
    "set_b={1,2,3,4,11,22,233,333,444}\n",
    "set_c=set_a.difference(set_b)\n",
    "print(set_a)\n",
    "print(id(set_a))\n"
   ]
  },
  {
   "cell_type": "code",
   "execution_count": 28,
   "id": "2ed8f0a4",
   "metadata": {},
   "outputs": [
    {
     "name": "stdout",
     "output_type": "stream",
     "text": [
      "{1, 2, 3, 4, 6, 7, 8}\n",
      "2618921443712\n",
      "{8, 6, 7}\n",
      "{1, 2, 3, 4, 6, 7, 8}\n",
      "2618921443712\n"
     ]
    }
   ],
   "source": [
    "set_a={1,2,3,4,6,7,8}\n",
    "print(set_a)\n",
    "print(id(set_a))\n",
    "set_b={1,2,3,4,11,22,233,333,444}\n",
    "set_c=set_a.difference(set_b)\n",
    "print(set_c)\n",
    "print(set_a)\n",
    "print(id(set_a))\n"
   ]
  },
  {
   "cell_type": "code",
   "execution_count": null,
   "id": "de6f7efe",
   "metadata": {},
   "outputs": [],
   "source": []
  },
  {
   "cell_type": "markdown",
   "id": "941517d7",
   "metadata": {},
   "source": [
    "### symmetric difference of sets"
   ]
  },
  {
   "cell_type": "markdown",
   "id": "61f5d531",
   "metadata": {},
   "source": [
    "the symmetric differnce operation returns the elements that are unique in both sets."
   ]
  },
  {
   "cell_type": "markdown",
   "id": "ed6c72fb",
   "metadata": {},
   "source": [
    "This operation performed by using symmetric_difference() method or ^ .\n"
   ]
  },
  {
   "cell_type": "code",
   "execution_count": 35,
   "id": "866ce71e",
   "metadata": {},
   "outputs": [
    {
     "name": "stdout",
     "output_type": "stream",
     "text": [
      "{6, 7, 8, 233, 11, 333, 22, 444}\n"
     ]
    }
   ],
   "source": [
    "set_a={1,2,3,4,6,7,8}\n",
    "set_b={1,2,3,4,11,22,233,333,444}\n",
    "set_c= set_a.symmetric_difference(set_b)\n",
    "print(set_c)"
   ]
  },
  {
   "cell_type": "code",
   "execution_count": 33,
   "id": "0be3f8f2",
   "metadata": {},
   "outputs": [
    {
     "name": "stdout",
     "output_type": "stream",
     "text": [
      "{6, 7, 8, 233, 11, 333, 22, 444}\n"
     ]
    }
   ],
   "source": [
    "set_a={1,2,3,4,6,7,8}\n",
    "set_b={1,2,3,4,11,22,233,333,444}\n",
    "set_c=set_a^set_b\n",
    "print(set_c)"
   ]
  },
  {
   "cell_type": "code",
   "execution_count": 38,
   "id": "ffd38e53",
   "metadata": {},
   "outputs": [
    {
     "name": "stdout",
     "output_type": "stream",
     "text": [
      "{1, 2, 3, 4, 6, 7, 8}\n",
      "2618951682752\n",
      "{6, 7, 8, 233, 11, 333, 22, 444}\n",
      "None\n",
      "2618951682752\n",
      "140731285466816\n"
     ]
    }
   ],
   "source": [
    "set_a={1,2,3,4,6,7,8}\n",
    "print(set_a)\n",
    "print(id(set_a))\n",
    "set_b={1,2,3,4,11,22,233,333,444}\n",
    "set_c=set_a.symmetric_difference_update(set_b)\n",
    "print(set_a)\n",
    "print(set_c)\n",
    "print(id(set_a))\n",
    "print(id(set_c))"
   ]
  },
  {
   "cell_type": "markdown",
   "id": "1d1422df",
   "metadata": {},
   "source": [
    "#### subset and superset"
   ]
  },
  {
   "cell_type": "markdown",
   "id": "4ec89b7e",
   "metadata": {},
   "source": [
    "In python we can find if a set is a subset or superset of another set or not by using issubset() or\n",
    "is superset()."
   ]
  },
  {
   "cell_type": "code",
   "execution_count": 39,
   "id": "8d66bf6f",
   "metadata": {},
   "outputs": [
    {
     "ename": "SyntaxError",
     "evalue": "invalid syntax (2608763492.py, line 3)",
     "output_type": "error",
     "traceback": [
      "\u001b[1;36m  Cell \u001b[1;32mIn[39], line 3\u001b[1;36m\u001b[0m\n\u001b[1;33m    set_a issuperset(set_b)\u001b[0m\n\u001b[1;37m          ^\u001b[0m\n\u001b[1;31mSyntaxError\u001b[0m\u001b[1;31m:\u001b[0m invalid syntax\n"
     ]
    }
   ],
   "source": [
    "set_a={1,2,3,5,6,8,4}\n",
    "set_b={3,4,5}\n",
    "set_a issuperset(set_b)"
   ]
  },
  {
   "cell_type": "code",
   "execution_count": 47,
   "id": "56348a0a",
   "metadata": {},
   "outputs": [
    {
     "data": {
      "text/plain": [
       "True"
      ]
     },
     "execution_count": 47,
     "metadata": {},
     "output_type": "execute_result"
    }
   ],
   "source": [
    "set_a={1,2,3,5,6,8,4}\n",
    "set_b={3,4,5}\n",
    "set_b.issubset(set_a) "
   ]
  },
  {
   "cell_type": "code",
   "execution_count": 48,
   "id": "8e22a13d",
   "metadata": {},
   "outputs": [
    {
     "data": {
      "text/plain": [
       "False"
      ]
     },
     "execution_count": 48,
     "metadata": {},
     "output_type": "execute_result"
    }
   ],
   "source": [
    "set_a={1,2,3,5,6,8,4}\n",
    "set_b={3,4,5}\n",
    "set_a.issubset(set_b) "
   ]
  },
  {
   "cell_type": "code",
   "execution_count": 50,
   "id": "f8daa469",
   "metadata": {},
   "outputs": [
    {
     "data": {
      "text/plain": [
       "True"
      ]
     },
     "execution_count": 50,
     "metadata": {},
     "output_type": "execute_result"
    }
   ],
   "source": [
    "set={1,12,1232,123124}\n",
    "set.issubset(set)"
   ]
  },
  {
   "cell_type": "code",
   "execution_count": 53,
   "id": "0083885c",
   "metadata": {},
   "outputs": [
    {
     "data": {
      "text/plain": [
       "True"
      ]
     },
     "execution_count": 53,
     "metadata": {},
     "output_type": "execute_result"
    }
   ],
   "source": [
    "set={1,12,1232,123124}\n",
    "set.issuperset(set)"
   ]
  },
  {
   "cell_type": "code",
   "execution_count": 45,
   "id": "2bd15825",
   "metadata": {},
   "outputs": [
    {
     "data": {
      "text/plain": [
       "True"
      ]
     },
     "execution_count": 45,
     "metadata": {},
     "output_type": "execute_result"
    }
   ],
   "source": [
    "set_a={1,2,3,5,6,8,4}\n",
    "set_b={3,4,5}\n",
    "set_a.issuperset(set_b)"
   ]
  },
  {
   "cell_type": "code",
   "execution_count": 46,
   "id": "17958a13",
   "metadata": {},
   "outputs": [
    {
     "data": {
      "text/plain": [
       "False"
      ]
     },
     "execution_count": 46,
     "metadata": {},
     "output_type": "execute_result"
    }
   ],
   "source": [
    "set_a={1,2,3,5,6,8,4}\n",
    "set_b={3,4,5}\n",
    "set_b.issuperset(set_a)"
   ]
  },
  {
   "cell_type": "markdown",
   "id": "21bd2167",
   "metadata": {},
   "source": [
    "# sort of the set"
   ]
  },
  {
   "cell_type": "markdown",
   "id": "555ee83f",
   "metadata": {},
   "source": [
    "a set is unordered collection of data items, so there is no point in ordering it, if you want to sort it using sort()method but it will return list.\n",
    "sorted() returns list.\n"
   ]
  },
  {
   "cell_type": "code",
   "execution_count": 57,
   "id": "2ae9b852",
   "metadata": {},
   "outputs": [
    {
     "name": "stdout",
     "output_type": "stream",
     "text": [
      "[1, 2, 4, 5, 7, 54, 78, 945, 9232]\n"
     ]
    },
    {
     "data": {
      "text/plain": [
       "list"
      ]
     },
     "execution_count": 57,
     "metadata": {},
     "output_type": "execute_result"
    }
   ],
   "source": [
    "set={1,2,4,5,7,78,9232,945,54}\n",
    "list= sorted(set)\n",
    "print(list)\n",
    "type(sorted(set))\n"
   ]
  },
  {
   "cell_type": "code",
   "execution_count": 64,
   "id": "25f03e20",
   "metadata": {},
   "outputs": [
    {
     "name": "stdout",
     "output_type": "stream",
     "text": [
      "[1, 2, 13, 24, 25, 457]\n"
     ]
    }
   ],
   "source": [
    "set_a={1,2,13,24,25,457}\n",
    "sorted_list=sorted(set_a)\n",
    "print(sorted_list)"
   ]
  },
  {
   "cell_type": "code",
   "execution_count": null,
   "id": "569dd62d",
   "metadata": {},
   "outputs": [],
   "source": []
  },
  {
   "cell_type": "code",
   "execution_count": null,
   "id": "48c9cf7a",
   "metadata": {},
   "outputs": [],
   "source": []
  },
  {
   "cell_type": "code",
   "execution_count": null,
   "id": "d26e0d25",
   "metadata": {},
   "outputs": [],
   "source": []
  },
  {
   "cell_type": "code",
   "execution_count": null,
   "id": "1fa211ba",
   "metadata": {},
   "outputs": [],
   "source": []
  },
  {
   "cell_type": "markdown",
   "id": "1eb758b9",
   "metadata": {},
   "source": [
    "#### frozen set"
   ]
  },
  {
   "cell_type": "markdown",
   "id": "d573d242",
   "metadata": {},
   "source": [
    "- A frozen set is an immutable set . Frozen set is an unordered collection of immutable unique items.\n",
    "\n",
    "- We can create frozen set by using the frozenset() function , which takes a single iterable oject as a parameter.\n",
    "- example-"
   ]
  },
  {
   "cell_type": "code",
   "execution_count": 65,
   "id": "be37a705",
   "metadata": {},
   "outputs": [
    {
     "name": "stdout",
     "output_type": "stream",
     "text": [
      "frozenset({'lion', 'jaguar', 'cheetah', 'hyena'})\n"
     ]
    }
   ],
   "source": [
    "animals={'lion','cheetah','hyena','jaguar'}\n",
    "f_set=frozenset(animals)\n",
    "print(f_set)"
   ]
  },
  {
   "cell_type": "code",
   "execution_count": 66,
   "id": "e471c72a",
   "metadata": {},
   "outputs": [
    {
     "ename": "AttributeError",
     "evalue": "'frozenset' object has no attribute 'add'",
     "output_type": "error",
     "traceback": [
      "\u001b[1;31m---------------------------------------------------------------------------\u001b[0m",
      "\u001b[1;31mAttributeError\u001b[0m                            Traceback (most recent call last)",
      "Cell \u001b[1;32mIn[66], line 1\u001b[0m\n\u001b[1;32m----> 1\u001b[0m \u001b[43mf_set\u001b[49m\u001b[38;5;241;43m.\u001b[39;49m\u001b[43madd\u001b[49m(\u001b[38;5;124m'\u001b[39m\u001b[38;5;124msuar\u001b[39m\u001b[38;5;124m'\u001b[39m)\n",
      "\u001b[1;31mAttributeError\u001b[0m: 'frozenset' object has no attribute 'add'"
     ]
    }
   ],
   "source": [
    "f_set.add('suar')"
   ]
  },
  {
   "cell_type": "code",
   "execution_count": 70,
   "id": "064d9219",
   "metadata": {},
   "outputs": [
    {
     "name": "stdout",
     "output_type": "stream",
     "text": [
      "{32, 1, 2, 4, frozenset({'lion', 'jaguar', 'cheetah', 'hyena'}), 31244}\n"
     ]
    }
   ],
   "source": [
    "set_a={1,2,32,4,31244}\n",
    "set_a.add(f_set)\n",
    "print(set_a)"
   ]
  },
  {
   "cell_type": "markdown",
   "id": "f0c02c16",
   "metadata": {},
   "source": [
    "#### 04 08 2023"
   ]
  },
  {
   "cell_type": "markdown",
   "id": "a759f061",
   "metadata": {},
   "source": [
    "- In case we try to add a set to another set , we get hashable type error. (a hashable object is one whose value will not change during its life time . i.e. immutable objects are hashable , like string integer tuple . and therefore sets and list are unhashable.\n",
    "- to create a nested set we can add frozen set as an item of the outer set.The frozen set is again a set but it is immutable."
   ]
  },
  {
   "cell_type": "code",
   "execution_count": 4,
   "id": "bc5785e0",
   "metadata": {},
   "outputs": [
    {
     "name": "stdout",
     "output_type": "stream",
     "text": [
      "{frozenset({16, 11, 12, 13, 14, 15}), frozenset({1, 2, 3, 4, 6, 7, 8, 9})}\n"
     ]
    },
    {
     "data": {
      "text/plain": [
       "set"
      ]
     },
     "execution_count": 4,
     "metadata": {},
     "output_type": "execute_result"
    }
   ],
   "source": [
    "number={1,2,3,4,6,7,8,9}\n",
    "other_number={11,12,13,14,15,16}\n",
    "nested_set=set((frozenset(number),frozenset(other_number)))\n",
    "print(nested_set)\n",
    "type(nested_set)"
   ]
  }
 ],
 "metadata": {
  "kernelspec": {
   "display_name": "Python 3 (ipykernel)",
   "language": "python",
   "name": "python3"
  },
  "language_info": {
   "codemirror_mode": {
    "name": "ipython",
    "version": 3
   },
   "file_extension": ".py",
   "mimetype": "text/x-python",
   "name": "python",
   "nbconvert_exporter": "python",
   "pygments_lexer": "ipython3",
   "version": "3.10.9"
  }
 },
 "nbformat": 4,
 "nbformat_minor": 5
}
