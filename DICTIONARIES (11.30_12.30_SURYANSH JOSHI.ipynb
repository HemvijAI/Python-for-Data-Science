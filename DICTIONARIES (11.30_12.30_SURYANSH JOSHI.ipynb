{
 "cells": [
  {
   "cell_type": "markdown",
   "id": "cbe749de",
   "metadata": {},
   "source": [
    "## DICTIONARIES IN PYTHON"
   ]
  },
  {
   "cell_type": "markdown",
   "id": "24024722",
   "metadata": {},
   "source": [
    "- Updated on : August 04,2023\n",
    "- Dictionaries are ordered collections of unique values stored in  (Key-Value) pairs.\n",
    "- In python version 3.7 and onwards dictionaries are ordered. and 3.6 and earlier are unordered."
   ]
  },
  {
   "cell_type": "markdown",
   "id": "c1fa53d8",
   "metadata": {},
   "source": [
    "#### characterstics of dictionaries-"
   ]
  },
  {
   "cell_type": "markdown",
   "id": "4a5bc54e",
   "metadata": {},
   "source": [
    "- dictionaries are ordered (indedxing is possible)\n",
    "- ordered\n",
    "- unique (each value has a key , The keys in dictionaries are unique)\n",
    "- mutable"
   ]
  },
  {
   "cell_type": "markdown",
   "id": "d0b2c989",
   "metadata": {},
   "source": [
    "in dictionary we use curly brackets\n",
    ",same in sets as well"
   ]
  },
  {
   "cell_type": "code",
   "execution_count": 2,
   "id": "e7cd7cfc",
   "metadata": {},
   "outputs": [
    {
     "name": "stdout",
     "output_type": "stream",
     "text": [
      "{'name': 'khushi', 'country': 'usa', 'telephone': 1212}\n"
     ]
    }
   ],
   "source": [
    "person={'name': 'khushi', 'country':'usa', 'telephone':1212 }\n",
    "print(person)"
   ]
  },
  {
   "cell_type": "code",
   "execution_count": 5,
   "id": "80e4612a",
   "metadata": {},
   "outputs": [
    {
     "name": "stdout",
     "output_type": "stream",
     "text": [
      "{'name': 'suryanshh', 'country': 'usa', 'telephone': 1212}\n"
     ]
    }
   ],
   "source": [
    "person={'name': 'khushi', 'name':'suryanshh','country':'usa', 'telephone':1212 }\n",
    "print(person)"
   ]
  },
  {
   "cell_type": "code",
   "execution_count": 6,
   "id": "25b12151",
   "metadata": {},
   "outputs": [
    {
     "name": "stdout",
     "output_type": "stream",
     "text": [
      "{'name': {'khushi', 'suryansh'}, 'country': {'russia', 'usa'}, 'telephone': {123123, 1212}}\n"
     ]
    }
   ],
   "source": [
    "person={'name': {'khushi','suryansh'}, 'country':{'usa','russia'}, 'telephone':{1212,123123 }}\n",
    "print(person)"
   ]
  },
  {
   "cell_type": "code",
   "execution_count": 7,
   "id": "92470da4",
   "metadata": {},
   "outputs": [
    {
     "name": "stdout",
     "output_type": "stream",
     "text": [
      "{'name': ['khushi', 'suryansh'], 'country': {'russia', 'usa'}, 'telephone': {123123, 1212}}\n"
     ]
    }
   ],
   "source": [
    "person={'name': ['khushi','suryansh'], 'country':{'usa','russia'}, 'telephone':{1212,123123 }}\n",
    "print(person)"
   ]
  },
  {
   "cell_type": "code",
   "execution_count": 9,
   "id": "c92a7e91",
   "metadata": {},
   "outputs": [
    {
     "name": "stdout",
     "output_type": "stream",
     "text": [
      "{'name': [['khushi', 'suryansh']], 'country': {'russia', 'usa'}, 'telephone': {123123, 1212}}\n"
     ]
    }
   ],
   "source": [
    "person={'name':[['khushi','suryansh']] , 'country':{'usa','russia'}, 'telephone':{1212,123123 }}\n",
    "print(person)"
   ]
  },
  {
   "cell_type": "code",
   "execution_count": 16,
   "id": "eef210b5",
   "metadata": {},
   "outputs": [
    {
     "ename": "TypeError",
     "evalue": "unhashable type: 'list'",
     "output_type": "error",
     "traceback": [
      "\u001b[1;31m---------------------------------------------------------------------------\u001b[0m",
      "\u001b[1;31mTypeError\u001b[0m                                 Traceback (most recent call last)",
      "Cell \u001b[1;32mIn[16], line 1\u001b[0m\n\u001b[1;32m----> 1\u001b[0m person\u001b[38;5;241m=\u001b[39m{[\u001b[38;5;124m'\u001b[39m\u001b[38;5;124mname\u001b[39m\u001b[38;5;124m'\u001b[39m]:[[\u001b[38;5;124m'\u001b[39m\u001b[38;5;124mkhushi\u001b[39m\u001b[38;5;124m'\u001b[39m,\u001b[38;5;124m'\u001b[39m\u001b[38;5;124msuryansh\u001b[39m\u001b[38;5;124m'\u001b[39m]] , \u001b[38;5;124m'\u001b[39m\u001b[38;5;124mcountry\u001b[39m\u001b[38;5;124m'\u001b[39m:{\u001b[38;5;124m'\u001b[39m\u001b[38;5;124musa\u001b[39m\u001b[38;5;124m'\u001b[39m,\u001b[38;5;124m'\u001b[39m\u001b[38;5;124mrussia\u001b[39m\u001b[38;5;124m'\u001b[39m}, \u001b[38;5;124m'\u001b[39m\u001b[38;5;124mtelephone\u001b[39m\u001b[38;5;124m'\u001b[39m:{\u001b[38;5;241m1212\u001b[39m,\u001b[38;5;241m123123\u001b[39m }}\n\u001b[0;32m      2\u001b[0m \u001b[38;5;28mprint\u001b[39m(person)\n",
      "\u001b[1;31mTypeError\u001b[0m: unhashable type: 'list'"
     ]
    }
   ],
   "source": [
    "person={['name']:[['khushi','suryansh']] , 'country':{'usa','russia'}, 'telephone':{1212,123123 }}\n",
    "print(person)\n",
    "# immutable objects are hashable , like string integer tuple . "
   ]
  },
  {
   "cell_type": "markdown",
   "id": "e140ef7c",
   "metadata": {},
   "source": [
    "###### keys in dictionary must be unique and of immutable types of string,numbers or types."
   ]
  },
  {
   "cell_type": "code",
   "execution_count": 17,
   "id": "77c57424",
   "metadata": {},
   "outputs": [
    {
     "name": "stdout",
     "output_type": "stream",
     "text": [
      "{'name': {'khushi'}, 'country': {'russia', 'usa'}, 'telephone': {123123, 1212}}\n"
     ]
    }
   ],
   "source": [
    "person={'name': {'khushi','khushi'}, 'country':{'usa','russia'}, 'telephone':{1212,123123 }}\n",
    "print(person) # in value when set is there no duplicacy"
   ]
  },
  {
   "cell_type": "code",
   "execution_count": 2,
   "id": "dbb496a4",
   "metadata": {},
   "outputs": [
    {
     "name": "stdout",
     "output_type": "stream",
     "text": [
      "{'name': ('khushi', 'khushi'), 'country': {'usa', 'russia'}, 'telephone': {123123, 1212}}\n"
     ]
    }
   ],
   "source": [
    "person={'name': ('khushi','khushi'), 'country':{'usa','russia'}, 'telephone':{1212,123123 }}\n",
    "print(person) # in value when tuples there is duplicacy"
   ]
  },
  {
   "cell_type": "code",
   "execution_count": 21,
   "id": "eae825e0",
   "metadata": {},
   "outputs": [
    {
     "name": "stdout",
     "output_type": "stream",
     "text": [
      "{'name': ['khushi', 'khushi'], 'country': {'russia', 'usa'}, 'telephone': {123123, 1212}}\n"
     ]
    }
   ],
   "source": [
    "person={'name': ['khushi','khushi'], 'country':{'usa','russia'}, 'telephone':{1212,123123 }}\n",
    "print(person) ## in value when list is there is duplicacy"
   ]
  },
  {
   "cell_type": "code",
   "execution_count": 22,
   "id": "15c31485",
   "metadata": {},
   "outputs": [
    {
     "ename": "TypeError",
     "evalue": "unhashable type: 'set'",
     "output_type": "error",
     "traceback": [
      "\u001b[1;31m---------------------------------------------------------------------------\u001b[0m",
      "\u001b[1;31mTypeError\u001b[0m                                 Traceback (most recent call last)",
      "Cell \u001b[1;32mIn[22], line 1\u001b[0m\n\u001b[1;32m----> 1\u001b[0m person\u001b[38;5;241m=\u001b[39m{\u001b[38;5;124m'\u001b[39m\u001b[38;5;124mname\u001b[39m\u001b[38;5;124m'\u001b[39m: {{\u001b[38;5;124m'\u001b[39m\u001b[38;5;124mkhushi\u001b[39m\u001b[38;5;124m'\u001b[39m},\u001b[38;5;124m'\u001b[39m\u001b[38;5;124mkhushi\u001b[39m\u001b[38;5;124m'\u001b[39m}, \u001b[38;5;124m'\u001b[39m\u001b[38;5;124mcountry\u001b[39m\u001b[38;5;124m'\u001b[39m:{\u001b[38;5;124m'\u001b[39m\u001b[38;5;124musa\u001b[39m\u001b[38;5;124m'\u001b[39m,\u001b[38;5;124m'\u001b[39m\u001b[38;5;124mrussia\u001b[39m\u001b[38;5;124m'\u001b[39m}, \u001b[38;5;124m'\u001b[39m\u001b[38;5;124mtelephone\u001b[39m\u001b[38;5;124m'\u001b[39m:{\u001b[38;5;241m1212\u001b[39m,\u001b[38;5;241m123123\u001b[39m }}\n\u001b[0;32m      2\u001b[0m \u001b[38;5;28mprint\u001b[39m(person)\n",
      "\u001b[1;31mTypeError\u001b[0m: unhashable type: 'set'"
     ]
    }
   ],
   "source": [
    "person={'name': {{'khushi'},'khushi'}, 'country':{'usa','russia'}, 'telephone':{1212,123123 }}\n",
    "print(person) ## in set we can't give element as set."
   ]
  },
  {
   "cell_type": "code",
   "execution_count": 23,
   "id": "f5809067",
   "metadata": {},
   "outputs": [
    {
     "name": "stdout",
     "output_type": "stream",
     "text": [
      "{'name': [{'khushi'}, 'khushi'], 'country': {'russia', 'usa'}, 'telephone': {123123, 1212}}\n"
     ]
    }
   ],
   "source": [
    "person={'name': [{'khushi'},'khushi'], 'country':{'usa','russia'}, 'telephone':{1212,123123 }}\n",
    "print(person) ## in value when list is there is duplicacy ."
   ]
  },
  {
   "cell_type": "code",
   "execution_count": 32,
   "id": "6d478fa9",
   "metadata": {},
   "outputs": [
    {
     "ename": "AttributeError",
     "evalue": "'dict' object has no attribute 'add'",
     "output_type": "error",
     "traceback": [
      "\u001b[1;31m---------------------------------------------------------------------------\u001b[0m",
      "\u001b[1;31mAttributeError\u001b[0m                            Traceback (most recent call last)",
      "Cell \u001b[1;32mIn[32], line 2\u001b[0m\n\u001b[0;32m      1\u001b[0m person\u001b[38;5;241m=\u001b[39m{\u001b[38;5;124m'\u001b[39m\u001b[38;5;124mname\u001b[39m\u001b[38;5;124m'\u001b[39m: [\u001b[38;5;124m'\u001b[39m\u001b[38;5;124mkhushi\u001b[39m\u001b[38;5;124m'\u001b[39m], \u001b[38;5;124m'\u001b[39m\u001b[38;5;124mcountry\u001b[39m\u001b[38;5;124m'\u001b[39m:\u001b[38;5;124m'\u001b[39m\u001b[38;5;124musa\u001b[39m\u001b[38;5;124m'\u001b[39m, \u001b[38;5;124m'\u001b[39m\u001b[38;5;124mtelephone\u001b[39m\u001b[38;5;124m'\u001b[39m:\u001b[38;5;241m1212\u001b[39m }\n\u001b[1;32m----> 2\u001b[0m \u001b[38;5;28mprint\u001b[39m(\u001b[43mperson\u001b[49m\u001b[38;5;241;43m.\u001b[39;49m\u001b[43madd\u001b[49m(\u001b[38;5;124m'\u001b[39m\u001b[38;5;124msurya\u001b[39m\u001b[38;5;124m'\u001b[39m))\n",
      "\u001b[1;31mAttributeError\u001b[0m: 'dict' object has no attribute 'add'"
     ]
    }
   ],
   "source": [
    "person={'name': ['khushi'], 'country':'usa', 'telephone':1212 }\n",
    "print(person.add('surya'))"
   ]
  },
  {
   "cell_type": "code",
   "execution_count": 36,
   "id": "de297b01",
   "metadata": {},
   "outputs": [
    {
     "ename": "ValueError",
     "evalue": "dictionary update sequence element #0 has length 1; 2 is required",
     "output_type": "error",
     "traceback": [
      "\u001b[1;31m---------------------------------------------------------------------------\u001b[0m",
      "\u001b[1;31mValueError\u001b[0m                                Traceback (most recent call last)",
      "Cell \u001b[1;32mIn[36], line 2\u001b[0m\n\u001b[0;32m      1\u001b[0m person\u001b[38;5;241m=\u001b[39m{\u001b[38;5;124m'\u001b[39m\u001b[38;5;124mname\u001b[39m\u001b[38;5;124m'\u001b[39m: [\u001b[38;5;124m'\u001b[39m\u001b[38;5;124mkhushi\u001b[39m\u001b[38;5;124m'\u001b[39m], \u001b[38;5;124m'\u001b[39m\u001b[38;5;124mcountry\u001b[39m\u001b[38;5;124m'\u001b[39m:\u001b[38;5;124m'\u001b[39m\u001b[38;5;124musa\u001b[39m\u001b[38;5;124m'\u001b[39m, \u001b[38;5;124m'\u001b[39m\u001b[38;5;124mtelephone\u001b[39m\u001b[38;5;124m'\u001b[39m:\u001b[38;5;241m1212\u001b[39m }\n\u001b[1;32m----> 2\u001b[0m \u001b[38;5;28mprint\u001b[39m(\u001b[43mperson\u001b[49m\u001b[38;5;241;43m.\u001b[39;49m\u001b[43mupdate\u001b[49m\u001b[43m(\u001b[49m\u001b[38;5;124;43m'\u001b[39;49m\u001b[38;5;124;43msuryansh\u001b[39;49m\u001b[38;5;124;43m'\u001b[39;49m\u001b[43m)\u001b[49m)\n",
      "\u001b[1;31mValueError\u001b[0m: dictionary update sequence element #0 has length 1; 2 is required"
     ]
    }
   ],
   "source": [
    "person={'name': ['khushi'], 'country':'usa', 'telephone':1212 }\n",
    "print(person.update('suryansh'))"
   ]
  },
  {
   "cell_type": "code",
   "execution_count": 39,
   "id": "14064fb9",
   "metadata": {},
   "outputs": [
    {
     "ename": "TypeError",
     "evalue": "update expected at most 1 argument, got 2",
     "output_type": "error",
     "traceback": [
      "\u001b[1;31m---------------------------------------------------------------------------\u001b[0m",
      "\u001b[1;31mTypeError\u001b[0m                                 Traceback (most recent call last)",
      "Cell \u001b[1;32mIn[39], line 2\u001b[0m\n\u001b[0;32m      1\u001b[0m person\u001b[38;5;241m=\u001b[39m{\u001b[38;5;124m'\u001b[39m\u001b[38;5;124mname\u001b[39m\u001b[38;5;124m'\u001b[39m: [\u001b[38;5;124m'\u001b[39m\u001b[38;5;124mkhushi\u001b[39m\u001b[38;5;124m'\u001b[39m], \u001b[38;5;124m'\u001b[39m\u001b[38;5;124mcountry\u001b[39m\u001b[38;5;124m'\u001b[39m:\u001b[38;5;124m'\u001b[39m\u001b[38;5;124musa\u001b[39m\u001b[38;5;124m'\u001b[39m, \u001b[38;5;124m'\u001b[39m\u001b[38;5;124mtelephone\u001b[39m\u001b[38;5;124m'\u001b[39m:\u001b[38;5;241m1212\u001b[39m }\n\u001b[1;32m----> 2\u001b[0m \u001b[38;5;28mprint\u001b[39m(\u001b[43mperson\u001b[49m\u001b[38;5;241;43m.\u001b[39;49m\u001b[43mupdate\u001b[49m\u001b[43m(\u001b[49m\u001b[38;5;124;43m'\u001b[39;49m\u001b[38;5;124;43mdfh\u001b[39;49m\u001b[38;5;124;43m'\u001b[39;49m\u001b[43m,\u001b[49m\u001b[38;5;124;43m'\u001b[39;49m\u001b[38;5;124;43msuryansh\u001b[39;49m\u001b[38;5;124;43m'\u001b[39;49m\u001b[43m)\u001b[49m)\n",
      "\u001b[1;31mTypeError\u001b[0m: update expected at most 1 argument, got 2"
     ]
    }
   ],
   "source": [
    "person={'name': ['khushi'], 'country':'usa', 'telephone':1212 }\n",
    "print(person.update('dfh','suryansh'))"
   ]
  },
  {
   "cell_type": "code",
   "execution_count": 50,
   "id": "8f819a90",
   "metadata": {},
   "outputs": [
    {
     "ename": "ValueError",
     "evalue": "dictionary update sequence element #0 has length 1; 2 is required",
     "output_type": "error",
     "traceback": [
      "\u001b[1;31m---------------------------------------------------------------------------\u001b[0m",
      "\u001b[1;31mValueError\u001b[0m                                Traceback (most recent call last)",
      "Cell \u001b[1;32mIn[50], line 2\u001b[0m\n\u001b[0;32m      1\u001b[0m person\u001b[38;5;241m=\u001b[39m{\u001b[38;5;124m'\u001b[39m\u001b[38;5;124mname\u001b[39m\u001b[38;5;124m'\u001b[39m: [\u001b[38;5;124m'\u001b[39m\u001b[38;5;124mkhushi\u001b[39m\u001b[38;5;124m'\u001b[39m], \u001b[38;5;124m'\u001b[39m\u001b[38;5;124mcountry\u001b[39m\u001b[38;5;124m'\u001b[39m:\u001b[38;5;124m'\u001b[39m\u001b[38;5;124musa\u001b[39m\u001b[38;5;124m'\u001b[39m, \u001b[38;5;124m'\u001b[39m\u001b[38;5;124mtelephone\u001b[39m\u001b[38;5;124m'\u001b[39m:\u001b[38;5;241m1212\u001b[39m }\n\u001b[1;32m----> 2\u001b[0m \u001b[38;5;28mprint\u001b[39m(\u001b[43mperson\u001b[49m\u001b[38;5;241;43m.\u001b[39;49m\u001b[43mupdate\u001b[49m\u001b[43m(\u001b[49m\u001b[38;5;124;43m'\u001b[39;49m\u001b[38;5;124;43msuryansh\u001b[39;49m\u001b[38;5;124;43m'\u001b[39;49m\u001b[43m)\u001b[49m)\n",
      "\u001b[1;31mValueError\u001b[0m: dictionary update sequence element #0 has length 1; 2 is required"
     ]
    }
   ],
   "source": [
    "person={'name': ['khushi'], 'country':'usa', 'telephone':1212 }\n",
    "print(person.update('suryansh'))"
   ]
  },
  {
   "cell_type": "code",
   "execution_count": 40,
   "id": "ae146b42",
   "metadata": {},
   "outputs": [
    {
     "ename": "ValueError",
     "evalue": "dictionary update sequence element #0 has length 3; 2 is required",
     "output_type": "error",
     "traceback": [
      "\u001b[1;31m---------------------------------------------------------------------------\u001b[0m",
      "\u001b[1;31mValueError\u001b[0m                                Traceback (most recent call last)",
      "Cell \u001b[1;32mIn[40], line 2\u001b[0m\n\u001b[0;32m      1\u001b[0m person\u001b[38;5;241m=\u001b[39m{\u001b[38;5;124m'\u001b[39m\u001b[38;5;124mname\u001b[39m\u001b[38;5;124m'\u001b[39m: [\u001b[38;5;124m'\u001b[39m\u001b[38;5;124mkhushi\u001b[39m\u001b[38;5;124m'\u001b[39m], \u001b[38;5;124m'\u001b[39m\u001b[38;5;124mcountry\u001b[39m\u001b[38;5;124m'\u001b[39m:\u001b[38;5;124m'\u001b[39m\u001b[38;5;124musa\u001b[39m\u001b[38;5;124m'\u001b[39m, \u001b[38;5;124m'\u001b[39m\u001b[38;5;124mtelephone\u001b[39m\u001b[38;5;124m'\u001b[39m:\u001b[38;5;241m1212\u001b[39m }\n\u001b[1;32m----> 2\u001b[0m \u001b[38;5;28mprint\u001b[39m(\u001b[43mperson\u001b[49m\u001b[38;5;241;43m.\u001b[39;49m\u001b[43mupdate\u001b[49m\u001b[43m(\u001b[49m\u001b[43m(\u001b[49m\u001b[38;5;124;43m'\u001b[39;49m\u001b[38;5;124;43mdfh\u001b[39;49m\u001b[38;5;124;43m'\u001b[39;49m\u001b[43m,\u001b[49m\u001b[38;5;124;43m'\u001b[39;49m\u001b[38;5;124;43msuryansh\u001b[39;49m\u001b[38;5;124;43m'\u001b[39;49m\u001b[43m)\u001b[49m\u001b[43m)\u001b[49m)\n",
      "\u001b[1;31mValueError\u001b[0m: dictionary update sequence element #0 has length 3; 2 is required"
     ]
    }
   ],
   "source": [
    "person={'name': ['khushi'], 'country':'usa', 'telephone':1212 }\n",
    "print(person.update(('dfh','suryansh')))"
   ]
  },
  {
   "cell_type": "code",
   "execution_count": 42,
   "id": "6b4522a8",
   "metadata": {},
   "outputs": [
    {
     "name": "stderr",
     "output_type": "stream",
     "text": [
      "<>:2: SyntaxWarning: 'int' object is not callable; perhaps you missed a comma?\n",
      "<>:2: SyntaxWarning: 'int' object is not callable; perhaps you missed a comma?\n",
      "C:\\Users\\user\\AppData\\Local\\Temp\\ipykernel_8680\\3385816872.py:2: SyntaxWarning: 'int' object is not callable; perhaps you missed a comma?\n",
      "  print(person.update[1('suryansh')])\n",
      "C:\\Users\\user\\AppData\\Local\\Temp\\ipykernel_8680\\3385816872.py:2: SyntaxWarning: 'int' object is not callable; perhaps you missed a comma?\n",
      "  print(person.update[1('suryansh')])\n",
      "C:\\Users\\user\\AppData\\Local\\Temp\\ipykernel_8680\\3385816872.py:2: SyntaxWarning: 'int' object is not callable; perhaps you missed a comma?\n",
      "  print(person.update[1('suryansh')])\n",
      "C:\\Users\\user\\AppData\\Local\\Temp\\ipykernel_8680\\3385816872.py:2: SyntaxWarning: 'int' object is not callable; perhaps you missed a comma?\n",
      "  print(person.update[1('suryansh')])\n"
     ]
    },
    {
     "ename": "TypeError",
     "evalue": "'int' object is not callable",
     "output_type": "error",
     "traceback": [
      "\u001b[1;31m---------------------------------------------------------------------------\u001b[0m",
      "\u001b[1;31mTypeError\u001b[0m                                 Traceback (most recent call last)",
      "Cell \u001b[1;32mIn[42], line 2\u001b[0m\n\u001b[0;32m      1\u001b[0m person\u001b[38;5;241m=\u001b[39m{\u001b[38;5;124m'\u001b[39m\u001b[38;5;124mname\u001b[39m\u001b[38;5;124m'\u001b[39m: [\u001b[38;5;124m'\u001b[39m\u001b[38;5;124mkhushi\u001b[39m\u001b[38;5;124m'\u001b[39m], \u001b[38;5;124m'\u001b[39m\u001b[38;5;124mcountry\u001b[39m\u001b[38;5;124m'\u001b[39m:\u001b[38;5;124m'\u001b[39m\u001b[38;5;124musa\u001b[39m\u001b[38;5;124m'\u001b[39m, \u001b[38;5;124m'\u001b[39m\u001b[38;5;124mtelephone\u001b[39m\u001b[38;5;124m'\u001b[39m:\u001b[38;5;241m1212\u001b[39m }\n\u001b[1;32m----> 2\u001b[0m \u001b[38;5;28mprint\u001b[39m(person\u001b[38;5;241m.\u001b[39mupdate[\u001b[38;5;241;43m1\u001b[39;49m\u001b[43m(\u001b[49m\u001b[38;5;124;43m'\u001b[39;49m\u001b[38;5;124;43msuryansh\u001b[39;49m\u001b[38;5;124;43m'\u001b[39;49m\u001b[43m)\u001b[49m])\n",
      "\u001b[1;31mTypeError\u001b[0m: 'int' object is not callable"
     ]
    }
   ],
   "source": [
    "person={'name': ['khushi'], 'country':'usa', 'telephone':1212 }\n",
    "print(person.update[1('suryansh')])"
   ]
  },
  {
   "cell_type": "code",
   "execution_count": 43,
   "id": "b8b7c4f8",
   "metadata": {},
   "outputs": [
    {
     "name": "stderr",
     "output_type": "stream",
     "text": [
      "<>:2: SyntaxWarning: 'str' object is not callable; perhaps you missed a comma?\n",
      "<>:2: SyntaxWarning: 'str' object is not callable; perhaps you missed a comma?\n",
      "C:\\Users\\user\\AppData\\Local\\Temp\\ipykernel_8680\\1307511070.py:2: SyntaxWarning: 'str' object is not callable; perhaps you missed a comma?\n",
      "  print(person.update['name'('suryansh')])\n",
      "C:\\Users\\user\\AppData\\Local\\Temp\\ipykernel_8680\\1307511070.py:2: SyntaxWarning: 'str' object is not callable; perhaps you missed a comma?\n",
      "  print(person.update['name'('suryansh')])\n",
      "C:\\Users\\user\\AppData\\Local\\Temp\\ipykernel_8680\\1307511070.py:2: SyntaxWarning: 'str' object is not callable; perhaps you missed a comma?\n",
      "  print(person.update['name'('suryansh')])\n",
      "C:\\Users\\user\\AppData\\Local\\Temp\\ipykernel_8680\\1307511070.py:2: SyntaxWarning: 'str' object is not callable; perhaps you missed a comma?\n",
      "  print(person.update['name'('suryansh')])\n"
     ]
    },
    {
     "ename": "TypeError",
     "evalue": "'str' object is not callable",
     "output_type": "error",
     "traceback": [
      "\u001b[1;31m---------------------------------------------------------------------------\u001b[0m",
      "\u001b[1;31mTypeError\u001b[0m                                 Traceback (most recent call last)",
      "Cell \u001b[1;32mIn[43], line 2\u001b[0m\n\u001b[0;32m      1\u001b[0m person\u001b[38;5;241m=\u001b[39m{\u001b[38;5;124m'\u001b[39m\u001b[38;5;124mname\u001b[39m\u001b[38;5;124m'\u001b[39m: [\u001b[38;5;124m'\u001b[39m\u001b[38;5;124mkhushi\u001b[39m\u001b[38;5;124m'\u001b[39m], \u001b[38;5;124m'\u001b[39m\u001b[38;5;124mcountry\u001b[39m\u001b[38;5;124m'\u001b[39m:\u001b[38;5;124m'\u001b[39m\u001b[38;5;124musa\u001b[39m\u001b[38;5;124m'\u001b[39m, \u001b[38;5;124m'\u001b[39m\u001b[38;5;124mtelephone\u001b[39m\u001b[38;5;124m'\u001b[39m:\u001b[38;5;241m1212\u001b[39m }\n\u001b[1;32m----> 2\u001b[0m \u001b[38;5;28mprint\u001b[39m(person\u001b[38;5;241m.\u001b[39mupdate[\u001b[38;5;124;43m'\u001b[39;49m\u001b[38;5;124;43mname\u001b[39;49m\u001b[38;5;124;43m'\u001b[39;49m\u001b[43m(\u001b[49m\u001b[38;5;124;43m'\u001b[39;49m\u001b[38;5;124;43msuryansh\u001b[39;49m\u001b[38;5;124;43m'\u001b[39;49m\u001b[43m)\u001b[49m])\n",
      "\u001b[1;31mTypeError\u001b[0m: 'str' object is not callable"
     ]
    }
   ],
   "source": [
    "person={'name': ['khushi'], 'country':'usa', 'telephone':1212 }\n",
    "print(person.update['name'('suryansh')])"
   ]
  },
  {
   "cell_type": "code",
   "execution_count": 50,
   "id": "cc9035ca",
   "metadata": {},
   "outputs": [
    {
     "ename": "SyntaxError",
     "evalue": "incomplete input (1143417741.py, line 2)",
     "output_type": "error",
     "traceback": [
      "\u001b[1;36m  Cell \u001b[1;32mIn[50], line 2\u001b[1;36m\u001b[0m\n\u001b[1;33m    print(person('name'(1).update['name'('suryansh')])\u001b[0m\n\u001b[1;37m                                                      ^\u001b[0m\n\u001b[1;31mSyntaxError\u001b[0m\u001b[1;31m:\u001b[0m incomplete input\n"
     ]
    }
   ],
   "source": [
    "person={'name': ['khushi'], 'country':'usa', 'telephone':1212 }\n",
    "print(person('name'(1).update['name'('suryansh')])"
   ]
  },
  {
   "cell_type": "code",
   "execution_count": 8,
   "id": "56db0c5b",
   "metadata": {},
   "outputs": [
    {
     "name": "stdout",
     "output_type": "stream",
     "text": [
      "{'name': ['ok'], 'country': 'india', 'telephone': 1233}\n"
     ]
    }
   ],
   "source": [
    "person={'name':['khushi'],'country':['usa'],'telephone':1212 }\n",
    "another_person={'name':['ok'],'country':'india','telephone': 1233}\n",
    "person.update(another_person)\n",
    "print(person)"
   ]
  },
  {
   "cell_type": "code",
   "execution_count": 3,
   "id": "aca02e32",
   "metadata": {},
   "outputs": [
    {
     "data": {
      "text/plain": [
       "<function print>"
      ]
     },
     "execution_count": 3,
     "metadata": {},
     "output_type": "execute_result"
    }
   ],
   "source": [
    "print"
   ]
  },
  {
   "cell_type": "code",
   "execution_count": 37,
   "id": "3a027ff0",
   "metadata": {},
   "outputs": [
    {
     "ename": "SyntaxError",
     "evalue": "invalid syntax (842696609.py, line 2)",
     "output_type": "error",
     "traceback": [
      "\u001b[1;36m  Cell \u001b[1;32mIn[37], line 2\u001b[1;36m\u001b[0m\n\u001b[1;33m    print(person.update('name':'suryansh'))\u001b[0m\n\u001b[1;37m                              ^\u001b[0m\n\u001b[1;31mSyntaxError\u001b[0m\u001b[1;31m:\u001b[0m invalid syntax\n"
     ]
    }
   ],
   "source": [
    "person={'name': ['khushi'], 'country':'usa', 'telephone':1212 }\n",
    "print(person.update('name':'suryansh'))"
   ]
  },
  {
   "cell_type": "markdown",
   "id": "306dad59",
   "metadata": {},
   "source": [
    "# 7 08 2023"
   ]
  },
  {
   "cell_type": "markdown",
   "id": "4a43b1ea",
   "metadata": {},
   "source": [
    "#### dictionary has two items \n",
    "- key and \n",
    "- values."
   ]
  },
  {
   "cell_type": "markdown",
   "id": "3a85151f",
   "metadata": {},
   "source": [
    "in case we try to add a set to another set , we get hashable type error. (a hashable object is one whose value will not change during its life time . i.e. immutable objects are hashable , like string integer tuple . and therefore sets and list are unhashable."
   ]
  },
  {
   "cell_type": "markdown",
   "id": "b2f974dc",
   "metadata": {},
   "source": [
    "- a dictionary value can be of any type.\n",
    "- key must be of an immutable types."
   ]
  },
  {
   "cell_type": "code",
   "execution_count": 3,
   "id": "56a35a65",
   "metadata": {},
   "outputs": [
    {
     "ename": "TypeError",
     "evalue": "'dict' object is not callable",
     "output_type": "error",
     "traceback": [
      "\u001b[1;31m---------------------------------------------------------------------------\u001b[0m",
      "\u001b[1;31mTypeError\u001b[0m                                 Traceback (most recent call last)",
      "Cell \u001b[1;32mIn[3], line 2\u001b[0m\n\u001b[0;32m      1\u001b[0m person\u001b[38;5;241m=\u001b[39m{\u001b[38;5;124m'\u001b[39m\u001b[38;5;124mname\u001b[39m\u001b[38;5;124m'\u001b[39m: [\u001b[38;5;124m'\u001b[39m\u001b[38;5;124mkhushi\u001b[39m\u001b[38;5;124m'\u001b[39m], \u001b[38;5;124m'\u001b[39m\u001b[38;5;124mcountry\u001b[39m\u001b[38;5;124m'\u001b[39m:\u001b[38;5;124m'\u001b[39m\u001b[38;5;124musa\u001b[39m\u001b[38;5;124m'\u001b[39m, \u001b[38;5;124m'\u001b[39m\u001b[38;5;124mtelephone\u001b[39m\u001b[38;5;124m'\u001b[39m:\u001b[38;5;241m1212\u001b[39m }\n\u001b[1;32m----> 2\u001b[0m \u001b[38;5;28mprint\u001b[39m(\u001b[43mperson\u001b[49m\u001b[43m(\u001b[49m\u001b[38;5;124;43m'\u001b[39;49m\u001b[38;5;124;43mname\u001b[39;49m\u001b[38;5;124;43m'\u001b[39;49m\u001b[43m)\u001b[49m)\n",
      "\u001b[1;31mTypeError\u001b[0m: 'dict' object is not callable"
     ]
    }
   ],
   "source": [
    "person={'name': ['khushi'], 'country':'usa', 'telephone':1212 }\n",
    "print(person('name'))"
   ]
  },
  {
   "cell_type": "code",
   "execution_count": 4,
   "id": "5476bfd0",
   "metadata": {},
   "outputs": [
    {
     "name": "stdout",
     "output_type": "stream",
     "text": [
      "['khushi']\n"
     ]
    }
   ],
   "source": [
    "person={'name': ['khushi'], 'country':'usa', 'telephone':1212 }\n",
    "print(person['name'])      "
   ]
  },
  {
   "cell_type": "code",
   "execution_count": 6,
   "id": "fbade1f6",
   "metadata": {},
   "outputs": [
    {
     "name": "stdout",
     "output_type": "stream",
     "text": [
      "['khushi'] ['country']\n"
     ]
    }
   ],
   "source": [
    "person={'name': ['khushi'], 'country':'usa', 'telephone':1212 }\n",
    "print(person['name' ], ['country'])      "
   ]
  },
  {
   "cell_type": "code",
   "execution_count": 8,
   "id": "6e872d8d",
   "metadata": {},
   "outputs": [
    {
     "ename": "KeyError",
     "evalue": "('name', 'country')",
     "output_type": "error",
     "traceback": [
      "\u001b[1;31m---------------------------------------------------------------------------\u001b[0m",
      "\u001b[1;31mKeyError\u001b[0m                                  Traceback (most recent call last)",
      "Cell \u001b[1;32mIn[8], line 2\u001b[0m\n\u001b[0;32m      1\u001b[0m person\u001b[38;5;241m=\u001b[39m{\u001b[38;5;124m'\u001b[39m\u001b[38;5;124mname\u001b[39m\u001b[38;5;124m'\u001b[39m: [\u001b[38;5;124m'\u001b[39m\u001b[38;5;124mkhushi\u001b[39m\u001b[38;5;124m'\u001b[39m], \u001b[38;5;124m'\u001b[39m\u001b[38;5;124mcountry\u001b[39m\u001b[38;5;124m'\u001b[39m:\u001b[38;5;124m'\u001b[39m\u001b[38;5;124musa\u001b[39m\u001b[38;5;124m'\u001b[39m, \u001b[38;5;124m'\u001b[39m\u001b[38;5;124mtelephone\u001b[39m\u001b[38;5;124m'\u001b[39m:\u001b[38;5;241m1212\u001b[39m }\n\u001b[1;32m----> 2\u001b[0m \u001b[38;5;28mprint\u001b[39m(\u001b[43mperson\u001b[49m\u001b[43m[\u001b[49m\u001b[38;5;124;43m'\u001b[39;49m\u001b[38;5;124;43mname\u001b[39;49m\u001b[38;5;124;43m'\u001b[39;49m\u001b[43m,\u001b[49m\u001b[38;5;124;43m'\u001b[39;49m\u001b[38;5;124;43mcountry\u001b[39;49m\u001b[38;5;124;43m'\u001b[39;49m\u001b[43m]\u001b[49m)\n",
      "\u001b[1;31mKeyError\u001b[0m: ('name', 'country')"
     ]
    }
   ],
   "source": [
    "person={'name': ['khushi'], 'country':'usa', 'telephone':1212 }\n",
    "print(person['name','country'])  "
   ]
  },
  {
   "cell_type": "code",
   "execution_count": 10,
   "id": "81813105",
   "metadata": {},
   "outputs": [
    {
     "ename": "KeyError",
     "evalue": "'khushi'",
     "output_type": "error",
     "traceback": [
      "\u001b[1;31m---------------------------------------------------------------------------\u001b[0m",
      "\u001b[1;31mKeyError\u001b[0m                                  Traceback (most recent call last)",
      "Cell \u001b[1;32mIn[10], line 2\u001b[0m\n\u001b[0;32m      1\u001b[0m person\u001b[38;5;241m=\u001b[39m{\u001b[38;5;124m'\u001b[39m\u001b[38;5;124mname\u001b[39m\u001b[38;5;124m'\u001b[39m: [\u001b[38;5;124m'\u001b[39m\u001b[38;5;124mkhushi\u001b[39m\u001b[38;5;124m'\u001b[39m], \u001b[38;5;124m'\u001b[39m\u001b[38;5;124mcountry\u001b[39m\u001b[38;5;124m'\u001b[39m:\u001b[38;5;124m'\u001b[39m\u001b[38;5;124musa\u001b[39m\u001b[38;5;124m'\u001b[39m, \u001b[38;5;124m'\u001b[39m\u001b[38;5;124mtelephone\u001b[39m\u001b[38;5;124m'\u001b[39m:\u001b[38;5;241m1212\u001b[39m }\n\u001b[1;32m----> 2\u001b[0m \u001b[38;5;28mprint\u001b[39m(\u001b[43mperson\u001b[49m\u001b[43m[\u001b[49m\u001b[38;5;124;43m'\u001b[39;49m\u001b[38;5;124;43mkhushi\u001b[39;49m\u001b[38;5;124;43m'\u001b[39;49m\u001b[43m]\u001b[49m )\n",
      "\u001b[1;31mKeyError\u001b[0m: 'khushi'"
     ]
    }
   ],
   "source": [
    "person={'name': ['khushi'], 'country':'usa', 'telephone':1212 }\n",
    "print(person['khushi'] ) "
   ]
  },
  {
   "cell_type": "markdown",
   "id": "751b9ba5",
   "metadata": {},
   "source": [
    "#### get key values using key name in   .get()"
   ]
  },
  {
   "cell_type": "code",
   "execution_count": 22,
   "id": "39f9bc03",
   "metadata": {},
   "outputs": [
    {
     "name": "stdout",
     "output_type": "stream",
     "text": [
      "khushi\n"
     ]
    }
   ],
   "source": [
    "person={'name': 'khushi', 'country':'usa', 'telephone':1212 }\n",
    "print(person.get('name'))"
   ]
  },
  {
   "cell_type": "code",
   "execution_count": 24,
   "id": "a2e018d2",
   "metadata": {},
   "outputs": [
    {
     "name": "stdout",
     "output_type": "stream",
     "text": [
      "khushi\n"
     ]
    }
   ],
   "source": [
    "person={'name': 'khushi', 'country':'usa', 'telephone':1212 }\n",
    "print(person.get('name', 'country'))"
   ]
  },
  {
   "cell_type": "code",
   "execution_count": null,
   "id": "d85df251",
   "metadata": {},
   "outputs": [],
   "source": [
    "person={'name': 'khushi', 'country':'usa', 'telephone':1212 }\n",
    "print(person.get( 'country'))"
   ]
  },
  {
   "cell_type": "code",
   "execution_count": null,
   "id": "caee56f1",
   "metadata": {},
   "outputs": [],
   "source": []
  },
  {
   "cell_type": "code",
   "execution_count": 25,
   "id": "941dabc1",
   "metadata": {},
   "outputs": [
    {
     "ename": "SyntaxError",
     "evalue": "invalid syntax (3794573391.py, line 2)",
     "output_type": "error",
     "traceback": [
      "\u001b[1;36m  Cell \u001b[1;32mIn[25], line 2\u001b[1;36m\u001b[0m\n\u001b[1;33m    print(person.get('name':'khushi'))\u001b[0m\n\u001b[1;37m                           ^\u001b[0m\n\u001b[1;31mSyntaxError\u001b[0m\u001b[1;31m:\u001b[0m invalid syntax\n"
     ]
    }
   ],
   "source": [
    "person={'name': 'khushi', 'country':'usa', 'telephone':1212 }\n",
    "print(person.get('name':'khushi'))"
   ]
  },
  {
   "cell_type": "code",
   "execution_count": 21,
   "id": "e16cca5b",
   "metadata": {},
   "outputs": [
    {
     "name": "stdout",
     "output_type": "stream",
     "text": [
      "None\n"
     ]
    }
   ],
   "source": [
    "person={'name': 'khushi', 'country':'usa', 'telephone':1212 }\n",
    "print(person.get('khushi'))"
   ]
  },
  {
   "cell_type": "code",
   "execution_count": 16,
   "id": "840bf684",
   "metadata": {},
   "outputs": [
    {
     "ename": "TypeError",
     "evalue": "unhashable type: 'list'",
     "output_type": "error",
     "traceback": [
      "\u001b[1;31m---------------------------------------------------------------------------\u001b[0m",
      "\u001b[1;31mTypeError\u001b[0m                                 Traceback (most recent call last)",
      "Cell \u001b[1;32mIn[16], line 2\u001b[0m\n\u001b[0;32m      1\u001b[0m person\u001b[38;5;241m=\u001b[39m{\u001b[38;5;124m'\u001b[39m\u001b[38;5;124mname\u001b[39m\u001b[38;5;124m'\u001b[39m: [\u001b[38;5;124m'\u001b[39m\u001b[38;5;124mkhushi\u001b[39m\u001b[38;5;124m'\u001b[39m], \u001b[38;5;124m'\u001b[39m\u001b[38;5;124mcountry\u001b[39m\u001b[38;5;124m'\u001b[39m:\u001b[38;5;124m'\u001b[39m\u001b[38;5;124musa\u001b[39m\u001b[38;5;124m'\u001b[39m, \u001b[38;5;124m'\u001b[39m\u001b[38;5;124mtelephone\u001b[39m\u001b[38;5;124m'\u001b[39m:\u001b[38;5;241m1212\u001b[39m }\n\u001b[1;32m----> 2\u001b[0m \u001b[38;5;28mprint\u001b[39m(\u001b[43mperson\u001b[49m\u001b[38;5;241;43m.\u001b[39;49m\u001b[43mget\u001b[49m\u001b[43m(\u001b[49m\u001b[43m[\u001b[49m\u001b[38;5;124;43m'\u001b[39;49m\u001b[38;5;124;43mkhushi\u001b[39;49m\u001b[38;5;124;43m'\u001b[39;49m\u001b[43m]\u001b[49m\u001b[43m)\u001b[49m)\n",
      "\u001b[1;31mTypeError\u001b[0m: unhashable type: 'list'"
     ]
    }
   ],
   "source": [
    "person={'name': ['khushi'], 'country':'usa', 'telephone':1212 }\n",
    "print(person.get(['khushi']))   "
   ]
  },
  {
   "cell_type": "markdown",
   "id": "991ac9d0",
   "metadata": {},
   "source": [
    "##### dictionary methods"
   ]
  },
  {
   "cell_type": "markdown",
   "id": "ae3cbdd5",
   "metadata": {},
   "source": [
    "- keys() - returns the list of all keys present in dict.\n",
    "- values() - returns the list of all values in dict.\n",
    "- items() - returns all the items present in the dict. it will be inside tuple"
   ]
  },
  {
   "cell_type": "code",
   "execution_count": 23,
   "id": "6d948867",
   "metadata": {},
   "outputs": [
    {
     "name": "stdout",
     "output_type": "stream",
     "text": [
      "dict_keys(['name', 'country', 'telephone'])\n",
      "dict_values([['khushi'], 'usa', 1212])\n",
      "dict_items([('name', ['khushi']), ('country', 'usa'), ('telephone', 1212)])\n"
     ]
    }
   ],
   "source": [
    "person={'name': ['khushi'], 'country':'usa', 'telephone':1212 }\n",
    "print(person.keys())\n",
    "print(person.values())\n",
    "print(person.items())"
   ]
  },
  {
   "cell_type": "code",
   "execution_count": 28,
   "id": "21b8ed35",
   "metadata": {},
   "outputs": [
    {
     "name": "stdout",
     "output_type": "stream",
     "text": [
      "dict_keys(['name', 'country', 'telephone'])\n",
      "<class 'dict_keys'>\n",
      "dict_values([['khushi'], 'usa', 1212])\n",
      "<class 'dict_values'>\n",
      "dict_items([('name', ['khushi']), ('country', 'usa'), ('telephone', 1212)])\n",
      "<class 'dict_items'>\n"
     ]
    }
   ],
   "source": [
    "person={'name': ['khushi'], 'country':'usa', 'telephone':1212 }\n",
    "print(person.keys())\n",
    "print(type(person.keys()))\n",
    "print(person.values())\n",
    "print(type(person.values()))\n",
    "print(person.items())\n",
    "print(type(person.items()))"
   ]
  },
  {
   "cell_type": "code",
   "execution_count": null,
   "id": "cbf7909e",
   "metadata": {},
   "outputs": [],
   "source": []
  },
  {
   "cell_type": "markdown",
   "id": "d3694597",
   "metadata": {},
   "source": [
    "#### finding length of a dictionary."
   ]
  },
  {
   "cell_type": "code",
   "execution_count": 29,
   "id": "dda4d257",
   "metadata": {},
   "outputs": [
    {
     "name": "stdout",
     "output_type": "stream",
     "text": [
      "3\n"
     ]
    }
   ],
   "source": [
    "person={'name': ['khushi'], 'country':'usa', 'telephone':1212 }\n",
    "print(len(person))"
   ]
  },
  {
   "cell_type": "code",
   "execution_count": 32,
   "id": "dcc0bf72",
   "metadata": {},
   "outputs": [
    {
     "ename": "SyntaxError",
     "evalue": "':' expected after dictionary key (1881323921.py, line 1)",
     "output_type": "error",
     "traceback": [
      "\u001b[1;36m  Cell \u001b[1;32mIn[32], line 1\u001b[1;36m\u001b[0m\n\u001b[1;33m    person={'name': ['khushi','rera'], 'country':'usa','21', 'telephone':1212 }\u001b[0m\n\u001b[1;37m                                                          ^\u001b[0m\n\u001b[1;31mSyntaxError\u001b[0m\u001b[1;31m:\u001b[0m ':' expected after dictionary key\n"
     ]
    }
   ],
   "source": [
    "person={'name': ['khushi','rera'], 'country':'usa','21', 'telephone':1212 }\n",
    "print(len(person))"
   ]
  },
  {
   "cell_type": "code",
   "execution_count": 33,
   "id": "46ee248f",
   "metadata": {},
   "outputs": [
    {
     "name": "stdout",
     "output_type": "stream",
     "text": [
      "3\n"
     ]
    }
   ],
   "source": [
    "person={'name': ['khushi','rera'], 'country':('usa','21'), 'telephone':1212 }\n",
    "print(len(person))"
   ]
  },
  {
   "cell_type": "markdown",
   "id": "6150be88",
   "metadata": {},
   "source": [
    "### to add valus or key"
   ]
  },
  {
   "cell_type": "code",
   "execution_count": 35,
   "id": "ce027185",
   "metadata": {},
   "outputs": [
    {
     "name": "stdout",
     "output_type": "stream",
     "text": [
      "{'name': 'jyoti', 'country': 'usa', 'telephone': 12121, 'weight': 50, 'height': 6}\n"
     ]
    }
   ],
   "source": [
    "person={'name':'jyoti','country':'usa','telephone':12121}\n",
    "\n",
    "#adding keys to dict\n",
    "person['weight']=50\n",
    "person.update({'height':6})\n",
    "print(person)"
   ]
  },
  {
   "cell_type": "code",
   "execution_count": 37,
   "id": "1751d5a1",
   "metadata": {},
   "outputs": [
    {
     "name": "stdout",
     "output_type": "stream",
     "text": [
      "{'name': 'jyoti', 'country': 'usa', 'telephone': 12121, ('weight', 'ses'): 50}\n"
     ]
    }
   ],
   "source": [
    "person={'name':'jyoti','country':'usa','telephone':12121}\n",
    "person['weight','ses']=50\n",
    "print(person)\n"
   ]
  },
  {
   "cell_type": "code",
   "execution_count": 2,
   "id": "c4b49f06",
   "metadata": {},
   "outputs": [
    {
     "name": "stdout",
     "output_type": "stream",
     "text": [
      "{'name': 'jyoti', 'country': 'usa', 'telephone': 12121, ('weight', 'ses'): (50, {23})}\n"
     ]
    }
   ],
   "source": [
    "person={'name':'jyoti','country':'usa','telephone':12121}\n",
    "person['weight','ses']=(50),{23}\n",
    "print(person)"
   ]
  },
  {
   "cell_type": "code",
   "execution_count": 3,
   "id": "e496a85f",
   "metadata": {},
   "outputs": [
    {
     "name": "stdout",
     "output_type": "stream",
     "text": [
      "{'name': 'jyoti', 'country': 'usa', 'telephone': 12121, ('weight', 'ses'): (50, 23)}\n"
     ]
    }
   ],
   "source": [
    "person={'name':'jyoti','country':'usa','telephone':12121}\n",
    "person['weight','ses']=(50,23)\n",
    "print(person)\n"
   ]
  },
  {
   "cell_type": "code",
   "execution_count": null,
   "id": "eb4fd13a",
   "metadata": {},
   "outputs": [],
   "source": []
  },
  {
   "cell_type": "code",
   "execution_count": null,
   "id": "5bc74e71",
   "metadata": {},
   "outputs": [],
   "source": []
  },
  {
   "cell_type": "code",
   "execution_count": null,
   "id": "64bd9db7",
   "metadata": {},
   "outputs": [],
   "source": []
  },
  {
   "cell_type": "code",
   "execution_count": null,
   "id": "e03529d3",
   "metadata": {},
   "outputs": [],
   "source": []
  },
  {
   "cell_type": "code",
   "execution_count": null,
   "id": "7aa1fa4c",
   "metadata": {},
   "outputs": [],
   "source": []
  },
  {
   "cell_type": "code",
   "execution_count": 42,
   "id": "77d4dfdb",
   "metadata": {},
   "outputs": [
    {
     "ename": "TypeError",
     "evalue": "unhashable type: 'slice'",
     "output_type": "error",
     "traceback": [
      "\u001b[1;31m---------------------------------------------------------------------------\u001b[0m",
      "\u001b[1;31mTypeError\u001b[0m                                 Traceback (most recent call last)",
      "Cell \u001b[1;32mIn[42], line 2\u001b[0m\n\u001b[0;32m      1\u001b[0m person\u001b[38;5;241m=\u001b[39m{\u001b[38;5;124m'\u001b[39m\u001b[38;5;124mname\u001b[39m\u001b[38;5;124m'\u001b[39m:\u001b[38;5;124m'\u001b[39m\u001b[38;5;124mjyoti\u001b[39m\u001b[38;5;124m'\u001b[39m,\u001b[38;5;124m'\u001b[39m\u001b[38;5;124mcountry\u001b[39m\u001b[38;5;124m'\u001b[39m:\u001b[38;5;124m'\u001b[39m\u001b[38;5;124musa\u001b[39m\u001b[38;5;124m'\u001b[39m,\u001b[38;5;124m'\u001b[39m\u001b[38;5;124mtelephone\u001b[39m\u001b[38;5;124m'\u001b[39m:\u001b[38;5;241m12121\u001b[39m}\n\u001b[1;32m----> 2\u001b[0m person[\u001b[38;5;124m'\u001b[39m\u001b[38;5;124mweight\u001b[39m\u001b[38;5;124m'\u001b[39m:\u001b[38;5;124m'\u001b[39m\u001b[38;5;124mses\u001b[39m\u001b[38;5;124m'\u001b[39m]\u001b[38;5;241m=\u001b[39m\u001b[38;5;241m50\u001b[39m,\u001b[38;5;241m23\u001b[39m\n\u001b[0;32m      3\u001b[0m \u001b[38;5;28mprint\u001b[39m(person)\n",
      "\u001b[1;31mTypeError\u001b[0m: unhashable type: 'slice'"
     ]
    }
   ],
   "source": [
    "person={'name':'jyoti','country':'usa','telephone':12121}\n",
    "person['weight':'ses']=50,23\n",
    "print(person)"
   ]
  },
  {
   "cell_type": "code",
   "execution_count": 39,
   "id": "8f912986",
   "metadata": {},
   "outputs": [
    {
     "name": "stdout",
     "output_type": "stream",
     "text": [
      "{'name': 'jyoti', 'country': 'usa', 'telephone': 12121, ('weight', 'ses'): [50, 433]}\n"
     ]
    }
   ],
   "source": [
    "person={'name':'jyoti','country':'usa','telephone':12121}\n",
    "person['weight','ses']=[50,433]\n",
    "print(person)"
   ]
  },
  {
   "cell_type": "code",
   "execution_count": null,
   "id": "5951c8ff",
   "metadata": {},
   "outputs": [],
   "source": []
  },
  {
   "cell_type": "markdown",
   "id": "4b5bb689",
   "metadata": {},
   "source": [
    "####  we can add more than one key using the update method"
   ]
  },
  {
   "cell_type": "code",
   "execution_count": 24,
   "id": "45b8a7ec",
   "metadata": {},
   "outputs": [
    {
     "name": "stdout",
     "output_type": "stream",
     "text": [
      "{'name': 'jyoti', 'country': 'usa', 'telephone': 12121, 'height': 4, 'mass': 40}\n"
     ]
    }
   ],
   "source": [
    "person={'name':'jyoti','country':'usa','telephone':12121}\n",
    "person.update({'height':4,'mass':40})\n",
    "print(person)"
   ]
  },
  {
   "cell_type": "code",
   "execution_count": 41,
   "id": "f81da135",
   "metadata": {},
   "outputs": [
    {
     "name": "stdout",
     "output_type": "stream",
     "text": [
      "{'name': 'jyoti', 'country': 'usa', 'telephone': 12121, ('height', 'massss'): 4, 'mass': 40}\n"
     ]
    }
   ],
   "source": [
    "person={'name':'jyoti','country':'usa','telephone':12121}\n",
    "person.update({('height','massss'):4,'mass':40})\n",
    "print(person)"
   ]
  },
  {
   "cell_type": "code",
   "execution_count": 45,
   "id": "7f6cdd21",
   "metadata": {},
   "outputs": [
    {
     "name": "stdout",
     "output_type": "stream",
     "text": [
      "2195211779392\n",
      "{'name': 'jyoti', 'country': 'usa', 'telephone': 12121, ('height', 'massss'): 4, 'sasdss': 40, 'asdasd': 322}\n",
      "2195211779392\n"
     ]
    }
   ],
   "source": [
    "person={'name':'jyoti','country':'usa','telephone':12121}\n",
    "print(id(person))\n",
    "person.update({('height','massss'):4,'sasdss':40,'asdasd':322})\n",
    "print(person)   \n",
    "print(id(person))"
   ]
  },
  {
   "cell_type": "markdown",
   "id": "8542168d",
   "metadata": {},
   "source": [
    "#### .set default value to a key"
   ]
  },
  {
   "cell_type": "markdown",
   "id": "a4bf1f6e",
   "metadata": {},
   "source": [
    "using the .setdefault() method default value can be assigned to a key in the dictionary. In case the key does not exist already then the key will be inserted into the dictionary , and the value becomes the default value , and none will be inserted if a value is not mentioned \n"
   ]
  },
  {
   "cell_type": "markdown",
   "id": "29558a8e",
   "metadata": {},
   "source": [
    "In case the key exists , then it will return the value of a key."
   ]
  },
  {
   "cell_type": "code",
   "execution_count": 7,
   "id": "e4faf82f",
   "metadata": {},
   "outputs": [
    {
     "data": {
      "text/plain": [
       "'true'"
      ]
     },
     "execution_count": 7,
     "metadata": {},
     "output_type": "execute_result"
    }
   ],
   "source": [
    "dict = {'yes':('true'),'no':('False'),'yes/no':'either True or False'}\n"
   ]
  },
  {
   "cell_type": "code",
   "execution_count": 8,
   "id": "c57ffd46",
   "metadata": {},
   "outputs": [
    {
     "data": {
      "text/plain": [
       "'true'"
      ]
     },
     "execution_count": 8,
     "metadata": {},
     "output_type": "execute_result"
    }
   ],
   "source": [
    "dict = {'yes':('true'),'no':('False'),'yes/no':'either True or False'}\n",
    "dict.setdefault('yes','no')"
   ]
  },
  {
   "cell_type": "code",
   "execution_count": 9,
   "id": "66e2c1cb",
   "metadata": {},
   "outputs": [
    {
     "data": {
      "text/plain": [
       "'False'"
      ]
     },
     "execution_count": 9,
     "metadata": {},
     "output_type": "execute_result"
    }
   ],
   "source": [
    "dict = {'yes':('true'),'no':('False'),'yes/no':'either True or False'}\n",
    "dict.setdefault('no','yes')"
   ]
  },
  {
   "cell_type": "code",
   "execution_count": null,
   "id": "0a4c0c06",
   "metadata": {},
   "outputs": [],
   "source": [
    "dict = {'yes':('true'),'no':('False'),'yes/no':'either True or False'}\n",
    "dict.setdefault('yes')"
   ]
  },
  {
   "cell_type": "code",
   "execution_count": 13,
   "id": "8305edc1",
   "metadata": {},
   "outputs": [
    {
     "name": "stdout",
     "output_type": "stream",
     "text": [
      "None\n"
     ]
    }
   ],
   "source": [
    "dict = {'yes':('true'),'no':('False'),'yes/no':'either True or False'}\n",
    "print(dict.setdefault('ok'))"
   ]
  },
  {
   "cell_type": "code",
   "execution_count": 40,
   "id": "0dbfd157",
   "metadata": {},
   "outputs": [
    {
     "name": "stdout",
     "output_type": "stream",
     "text": [
      "{'yes': 'true', 'no': 'False', 'yes/no': 'either True or False', 'ok': None}\n"
     ]
    }
   ],
   "source": [
    "dict = {'yes':('true'),'no':('False'),'yes/no':'either True or False'}\n",
    "dict.setdefault('ok',)\n",
    "print(dict)"
   ]
  },
  {
   "cell_type": "code",
   "execution_count": 43,
   "id": "8f9a2349",
   "metadata": {},
   "outputs": [
    {
     "name": "stdout",
     "output_type": "stream",
     "text": [
      "{'yes': 'true', 'no': 'False', 'yes/no': 'either True or False', 'ok': None}\n"
     ]
    }
   ],
   "source": [
    "dict = {'yes':('true'),'no':('False'),'yes/no':'either True or False'}\n",
    "dict.setdefault('ok',                )\n",
    "print(dict)"
   ]
  },
  {
   "cell_type": "code",
   "execution_count": 42,
   "id": "eaa3ebe6",
   "metadata": {},
   "outputs": [
    {
     "name": "stdout",
     "output_type": "stream",
     "text": [
      "{'yes': 'true', 'no': 'False', 'yes/no': 'either True or False', 'ok': ''}\n"
     ]
    }
   ],
   "source": [
    "dict = {'yes':('true'),'no':('False'),'yes/no':'either True or False'}\n",
    "dict.setdefault('ok','')\n",
    "print(dict)"
   ]
  },
  {
   "cell_type": "code",
   "execution_count": 44,
   "id": "edfba575",
   "metadata": {},
   "outputs": [
    {
     "name": "stdout",
     "output_type": "stream",
     "text": [
      "{'yes': 'true', 'no': 'False', 'yes/no': 'either True or False', '': 1}\n"
     ]
    }
   ],
   "source": [
    "dict = {'yes':('true'),'no':('False'),'yes/no':'either True or False'}\n",
    "dict.setdefault('',1)\n",
    "print(dict)"
   ]
  },
  {
   "cell_type": "code",
   "execution_count": 57,
   "id": "2a78b9a5",
   "metadata": {},
   "outputs": [
    {
     "ename": "SyntaxError",
     "evalue": "invalid syntax (2779548607.py, line 2)",
     "output_type": "error",
     "traceback": [
      "\u001b[1;36m  Cell \u001b[1;32mIn[57], line 2\u001b[1;36m\u001b[0m\n\u001b[1;33m    dict.setdefault(  ,1)\u001b[0m\n\u001b[1;37m                      ^\u001b[0m\n\u001b[1;31mSyntaxError\u001b[0m\u001b[1;31m:\u001b[0m invalid syntax\n"
     ]
    }
   ],
   "source": [
    "dict = {'yes':('true'),'no':('False'),'yes/no':'either True or False'}\n",
    "dict.setdefault(  ,1)\n",
    "print(dict)"
   ]
  },
  {
   "cell_type": "code",
   "execution_count": 58,
   "id": "9428b2b8",
   "metadata": {},
   "outputs": [
    {
     "ename": "SyntaxError",
     "evalue": "invalid syntax (593496215.py, line 2)",
     "output_type": "error",
     "traceback": [
      "\u001b[1;36m  Cell \u001b[1;32mIn[58], line 2\u001b[1;36m\u001b[0m\n\u001b[1;33m    dict.setdefault(,1)\u001b[0m\n\u001b[1;37m                    ^\u001b[0m\n\u001b[1;31mSyntaxError\u001b[0m\u001b[1;31m:\u001b[0m invalid syntax\n"
     ]
    }
   ],
   "source": [
    "dict = {'yes':('true'),'no':('False'),'yes/no':'either True or False'}\n",
    "dict.setdefault(,1)\n",
    "print(dict)"
   ]
  },
  {
   "cell_type": "code",
   "execution_count": null,
   "id": "be431d37",
   "metadata": {},
   "outputs": [],
   "source": []
  },
  {
   "cell_type": "code",
   "execution_count": 45,
   "id": "0f6ea4b2",
   "metadata": {},
   "outputs": [
    {
     "name": "stdout",
     "output_type": "stream",
     "text": [
      "{'yes': 'true', 'no': 'False', 'yes/no': 'either True or False', (): 1}\n"
     ]
    }
   ],
   "source": [
    "dict = {'yes':('true'),'no':('False'),'yes/no':'either True or False'}\n",
    "dict.setdefault((),1)\n",
    "print(dict)"
   ]
  },
  {
   "cell_type": "code",
   "execution_count": 56,
   "id": "52e6cfb5",
   "metadata": {},
   "outputs": [
    {
     "ename": "SyntaxError",
     "evalue": "invalid syntax (593496215.py, line 2)",
     "output_type": "error",
     "traceback": [
      "\u001b[1;36m  Cell \u001b[1;32mIn[56], line 2\u001b[1;36m\u001b[0m\n\u001b[1;33m    dict.setdefault(,1)\u001b[0m\n\u001b[1;37m                    ^\u001b[0m\n\u001b[1;31mSyntaxError\u001b[0m\u001b[1;31m:\u001b[0m invalid syntax\n"
     ]
    }
   ],
   "source": [
    "dict = {'yes':('true'),'no':('False'),'yes/no':'either True or False'}\n",
    "dict.setdefault(,1)\n",
    "print(dict)"
   ]
  },
  {
   "cell_type": "code",
   "execution_count": 49,
   "id": "a29d4b3a",
   "metadata": {},
   "outputs": [
    {
     "ename": "TypeError",
     "evalue": "unhashable type: 'dict'",
     "output_type": "error",
     "traceback": [
      "\u001b[1;31m---------------------------------------------------------------------------\u001b[0m",
      "\u001b[1;31mTypeError\u001b[0m                                 Traceback (most recent call last)",
      "Cell \u001b[1;32mIn[49], line 2\u001b[0m\n\u001b[0;32m      1\u001b[0m \u001b[38;5;28mdict\u001b[39m \u001b[38;5;241m=\u001b[39m {\u001b[38;5;124m'\u001b[39m\u001b[38;5;124myes\u001b[39m\u001b[38;5;124m'\u001b[39m:(\u001b[38;5;124m'\u001b[39m\u001b[38;5;124mtrue\u001b[39m\u001b[38;5;124m'\u001b[39m),\u001b[38;5;124m'\u001b[39m\u001b[38;5;124mno\u001b[39m\u001b[38;5;124m'\u001b[39m:(\u001b[38;5;124m'\u001b[39m\u001b[38;5;124mFalse\u001b[39m\u001b[38;5;124m'\u001b[39m),\u001b[38;5;124m'\u001b[39m\u001b[38;5;124myes/no\u001b[39m\u001b[38;5;124m'\u001b[39m:\u001b[38;5;124m'\u001b[39m\u001b[38;5;124meither True or False\u001b[39m\u001b[38;5;124m'\u001b[39m}\n\u001b[1;32m----> 2\u001b[0m \u001b[38;5;28;43mdict\u001b[39;49m\u001b[38;5;241;43m.\u001b[39;49m\u001b[43msetdefault\u001b[49m\u001b[43m(\u001b[49m\u001b[43m{\u001b[49m\u001b[43m}\u001b[49m\u001b[43m,\u001b[49m\u001b[38;5;241;43m1\u001b[39;49m\u001b[43m)\u001b[49m\n\u001b[0;32m      3\u001b[0m \u001b[38;5;28mprint\u001b[39m(\u001b[38;5;28mdict\u001b[39m)\n",
      "\u001b[1;31mTypeError\u001b[0m: unhashable type: 'dict'"
     ]
    }
   ],
   "source": [
    "dict = {'yes':('true'),'no':('False'),'yes/no':'either True or False'}\n",
    "dict.setdefault({},1)\n",
    "print(dict)"
   ]
  },
  {
   "cell_type": "code",
   "execution_count": 50,
   "id": "3846f851",
   "metadata": {},
   "outputs": [
    {
     "ename": "TypeError",
     "evalue": "unhashable type: 'list'",
     "output_type": "error",
     "traceback": [
      "\u001b[1;31m---------------------------------------------------------------------------\u001b[0m",
      "\u001b[1;31mTypeError\u001b[0m                                 Traceback (most recent call last)",
      "Cell \u001b[1;32mIn[50], line 2\u001b[0m\n\u001b[0;32m      1\u001b[0m \u001b[38;5;28mdict\u001b[39m \u001b[38;5;241m=\u001b[39m {\u001b[38;5;124m'\u001b[39m\u001b[38;5;124myes\u001b[39m\u001b[38;5;124m'\u001b[39m:(\u001b[38;5;124m'\u001b[39m\u001b[38;5;124mtrue\u001b[39m\u001b[38;5;124m'\u001b[39m),\u001b[38;5;124m'\u001b[39m\u001b[38;5;124mno\u001b[39m\u001b[38;5;124m'\u001b[39m:(\u001b[38;5;124m'\u001b[39m\u001b[38;5;124mFalse\u001b[39m\u001b[38;5;124m'\u001b[39m),\u001b[38;5;124m'\u001b[39m\u001b[38;5;124myes/no\u001b[39m\u001b[38;5;124m'\u001b[39m:\u001b[38;5;124m'\u001b[39m\u001b[38;5;124meither True or False\u001b[39m\u001b[38;5;124m'\u001b[39m}\n\u001b[1;32m----> 2\u001b[0m \u001b[38;5;28;43mdict\u001b[39;49m\u001b[38;5;241;43m.\u001b[39;49m\u001b[43msetdefault\u001b[49m\u001b[43m(\u001b[49m\u001b[43m[\u001b[49m\u001b[43m]\u001b[49m\u001b[43m,\u001b[49m\u001b[38;5;241;43m1\u001b[39;49m\u001b[43m)\u001b[49m\n\u001b[0;32m      3\u001b[0m \u001b[38;5;28mprint\u001b[39m(\u001b[38;5;28mdict\u001b[39m)\n",
      "\u001b[1;31mTypeError\u001b[0m: unhashable type: 'list'"
     ]
    }
   ],
   "source": [
    "dict = {'yes':('true'),'no':('False'),'yes/no':'either True or False'}\n",
    "dict.setdefault([],1)\n",
    "print(dict)"
   ]
  },
  {
   "cell_type": "code",
   "execution_count": null,
   "id": "9a32dfe4",
   "metadata": {},
   "outputs": [],
   "source": []
  },
  {
   "cell_type": "code",
   "execution_count": null,
   "id": "d5c5ca39",
   "metadata": {},
   "outputs": [],
   "source": []
  },
  {
   "cell_type": "code",
   "execution_count": 14,
   "id": "4243a1e5",
   "metadata": {},
   "outputs": [
    {
     "ename": "SyntaxError",
     "evalue": "incomplete input (4080877578.py, line 2)",
     "output_type": "error",
     "traceback": [
      "\u001b[1;36m  Cell \u001b[1;32mIn[14], line 2\u001b[1;36m\u001b[0m\n\u001b[1;33m    print(dict.setdefault({'ok':4})\u001b[0m\n\u001b[1;37m                                   ^\u001b[0m\n\u001b[1;31mSyntaxError\u001b[0m\u001b[1;31m:\u001b[0m incomplete input\n"
     ]
    }
   ],
   "source": [
    "dict = {'yes':('true'),'no':('False'),'yes/no':'either True or False'}\n",
    "print(dict.setdefault({'ok':4})"
   ]
  },
  {
   "cell_type": "code",
   "execution_count": 18,
   "id": "5c999b08",
   "metadata": {},
   "outputs": [
    {
     "ename": "TypeError",
     "evalue": "unhashable type: 'dict'",
     "output_type": "error",
     "traceback": [
      "\u001b[1;31m---------------------------------------------------------------------------\u001b[0m",
      "\u001b[1;31mTypeError\u001b[0m                                 Traceback (most recent call last)",
      "Cell \u001b[1;32mIn[18], line 2\u001b[0m\n\u001b[0;32m      1\u001b[0m \u001b[38;5;28mdict\u001b[39m \u001b[38;5;241m=\u001b[39m {\u001b[38;5;124m'\u001b[39m\u001b[38;5;124myes\u001b[39m\u001b[38;5;124m'\u001b[39m:(\u001b[38;5;124m'\u001b[39m\u001b[38;5;124mtrue\u001b[39m\u001b[38;5;124m'\u001b[39m),\u001b[38;5;124m'\u001b[39m\u001b[38;5;124mno\u001b[39m\u001b[38;5;124m'\u001b[39m:(\u001b[38;5;124m'\u001b[39m\u001b[38;5;124mFalse\u001b[39m\u001b[38;5;124m'\u001b[39m),\u001b[38;5;124m'\u001b[39m\u001b[38;5;124myes/no\u001b[39m\u001b[38;5;124m'\u001b[39m:\u001b[38;5;124m'\u001b[39m\u001b[38;5;124meither True or False\u001b[39m\u001b[38;5;124m'\u001b[39m}\n\u001b[1;32m----> 2\u001b[0m \u001b[38;5;28;43mdict\u001b[39;49m\u001b[38;5;241;43m.\u001b[39;49m\u001b[43msetdefault\u001b[49m\u001b[43m(\u001b[49m\u001b[43m{\u001b[49m\u001b[43m(\u001b[49m\u001b[38;5;124;43m'\u001b[39;49m\u001b[38;5;124;43mok\u001b[39;49m\u001b[38;5;124;43m'\u001b[39;49m\u001b[43m)\u001b[49m\u001b[43m:\u001b[49m\u001b[38;5;241;43m4\u001b[39;49m\u001b[43m}\u001b[49m\u001b[43m)\u001b[49m\n",
      "\u001b[1;31mTypeError\u001b[0m: unhashable type: 'dict'"
     ]
    }
   ],
   "source": [
    "dict = {'yes':('true'),'no':('False'),'yes/no':'either True or False'}\n",
    "dict.setdefault({('ok'):4})"
   ]
  },
  {
   "cell_type": "code",
   "execution_count": 19,
   "id": "fd1bd993",
   "metadata": {},
   "outputs": [
    {
     "ename": "TypeError",
     "evalue": "unhashable type: 'list'",
     "output_type": "error",
     "traceback": [
      "\u001b[1;31m---------------------------------------------------------------------------\u001b[0m",
      "\u001b[1;31mTypeError\u001b[0m                                 Traceback (most recent call last)",
      "Cell \u001b[1;32mIn[19], line 2\u001b[0m\n\u001b[0;32m      1\u001b[0m \u001b[38;5;28mdict\u001b[39m \u001b[38;5;241m=\u001b[39m {\u001b[38;5;124m'\u001b[39m\u001b[38;5;124myes\u001b[39m\u001b[38;5;124m'\u001b[39m:(\u001b[38;5;124m'\u001b[39m\u001b[38;5;124mtrue\u001b[39m\u001b[38;5;124m'\u001b[39m),\u001b[38;5;124m'\u001b[39m\u001b[38;5;124mno\u001b[39m\u001b[38;5;124m'\u001b[39m:(\u001b[38;5;124m'\u001b[39m\u001b[38;5;124mFalse\u001b[39m\u001b[38;5;124m'\u001b[39m),\u001b[38;5;124m'\u001b[39m\u001b[38;5;124myes/no\u001b[39m\u001b[38;5;124m'\u001b[39m:\u001b[38;5;124m'\u001b[39m\u001b[38;5;124meither True or False\u001b[39m\u001b[38;5;124m'\u001b[39m}\n\u001b[1;32m----> 2\u001b[0m \u001b[38;5;28;43mdict\u001b[39;49m\u001b[38;5;241;43m.\u001b[39;49m\u001b[43msetdefault\u001b[49m\u001b[43m(\u001b[49m\u001b[43m[\u001b[49m\u001b[38;5;124;43m'\u001b[39;49m\u001b[38;5;124;43mok\u001b[39;49m\u001b[38;5;124;43m'\u001b[39;49m\u001b[43m]\u001b[49m\u001b[43m)\u001b[49m\n",
      "\u001b[1;31mTypeError\u001b[0m: unhashable type: 'list'"
     ]
    }
   ],
   "source": [
    "dict = {'yes':('true'),'no':('False'),'yes/no':'either True or False'}\n",
    "dict.setdefault(['ok'])"
   ]
  },
  {
   "cell_type": "code",
   "execution_count": 20,
   "id": "7b381ec5",
   "metadata": {},
   "outputs": [
    {
     "ename": "TypeError",
     "evalue": "unhashable type: 'set'",
     "output_type": "error",
     "traceback": [
      "\u001b[1;31m---------------------------------------------------------------------------\u001b[0m",
      "\u001b[1;31mTypeError\u001b[0m                                 Traceback (most recent call last)",
      "Cell \u001b[1;32mIn[20], line 2\u001b[0m\n\u001b[0;32m      1\u001b[0m \u001b[38;5;28mdict\u001b[39m \u001b[38;5;241m=\u001b[39m {\u001b[38;5;124m'\u001b[39m\u001b[38;5;124myes\u001b[39m\u001b[38;5;124m'\u001b[39m:(\u001b[38;5;124m'\u001b[39m\u001b[38;5;124mtrue\u001b[39m\u001b[38;5;124m'\u001b[39m),\u001b[38;5;124m'\u001b[39m\u001b[38;5;124mno\u001b[39m\u001b[38;5;124m'\u001b[39m:(\u001b[38;5;124m'\u001b[39m\u001b[38;5;124mFalse\u001b[39m\u001b[38;5;124m'\u001b[39m),\u001b[38;5;124m'\u001b[39m\u001b[38;5;124myes/no\u001b[39m\u001b[38;5;124m'\u001b[39m:\u001b[38;5;124m'\u001b[39m\u001b[38;5;124meither True or False\u001b[39m\u001b[38;5;124m'\u001b[39m}\n\u001b[1;32m----> 2\u001b[0m \u001b[38;5;28;43mdict\u001b[39;49m\u001b[38;5;241;43m.\u001b[39;49m\u001b[43msetdefault\u001b[49m\u001b[43m(\u001b[49m\u001b[43m{\u001b[49m\u001b[38;5;124;43m'\u001b[39;49m\u001b[38;5;124;43mok\u001b[39;49m\u001b[38;5;124;43m'\u001b[39;49m\u001b[43m}\u001b[49m\u001b[43m)\u001b[49m\n",
      "\u001b[1;31mTypeError\u001b[0m: unhashable type: 'set'"
     ]
    }
   ],
   "source": [
    "dict = {'yes':('true'),'no':('False'),'yes/no':'either True or False'}\n",
    "dict.setdefault({'ok'})"
   ]
  },
  {
   "cell_type": "code",
   "execution_count": null,
   "id": "576e09ed",
   "metadata": {},
   "outputs": [],
   "source": []
  },
  {
   "cell_type": "code",
   "execution_count": 11,
   "id": "8005c02a",
   "metadata": {},
   "outputs": [
    {
     "ename": "SyntaxError",
     "evalue": "invalid syntax (2483742173.py, line 2)",
     "output_type": "error",
     "traceback": [
      "\u001b[1;36m  Cell \u001b[1;32mIn[11], line 2\u001b[1;36m\u001b[0m\n\u001b[1;33m    dict.setdefault('ok':'ooo')\u001b[0m\n\u001b[1;37m                        ^\u001b[0m\n\u001b[1;31mSyntaxError\u001b[0m\u001b[1;31m:\u001b[0m invalid syntax\n"
     ]
    }
   ],
   "source": [
    "dict = {'yes':('true'),'no':('False'),'yes/no':'either True or False'}\n",
    "dict.setdefault('ok':'ooo')"
   ]
  },
  {
   "cell_type": "code",
   "execution_count": 26,
   "id": "cd28125a",
   "metadata": {},
   "outputs": [
    {
     "name": "stdout",
     "output_type": "stream",
     "text": [
      "{'yes': 'true', 'no': 'False', 'yes/no': 'either True or False'}\n"
     ]
    }
   ],
   "source": [
    "dict = {'yes':('true'),'no':('False'),'yes/no':'either True or False'}\n",
    "dict.setdefault('yes','no')\n",
    "print(dict)"
   ]
  },
  {
   "cell_type": "code",
   "execution_count": 27,
   "id": "9d72c1eb",
   "metadata": {},
   "outputs": [
    {
     "name": "stdout",
     "output_type": "stream",
     "text": [
      "{'yes': 'true', 'no': 'False', 'yes/no': 'either True or False', 'kk': 'oo'}\n"
     ]
    }
   ],
   "source": [
    "dict = {'yes':('true'),'no':('False'),'yes/no':'either True or False'}\n",
    "dict.setdefault('kk','oo')\n",
    "print(dict)"
   ]
  },
  {
   "cell_type": "code",
   "execution_count": 28,
   "id": "cedb7c67",
   "metadata": {},
   "outputs": [
    {
     "name": "stdout",
     "output_type": "stream",
     "text": [
      "{'yes': 'true', 'no': 'False', 'yes/no': 'either True or False'}\n"
     ]
    }
   ],
   "source": [
    "dict = {'yes':('true'),'no':('False'),'yes/no':'either True or False'}\n",
    "dict.setdefault('yes','dda')\n",
    "print(dict)"
   ]
  },
  {
   "cell_type": "code",
   "execution_count": 29,
   "id": "3789d6ce",
   "metadata": {},
   "outputs": [
    {
     "name": "stdout",
     "output_type": "stream",
     "text": [
      "{'yes': 'true', 'no': 'False', 'yes/no': 'either True or False', 'as': 'true'}\n"
     ]
    }
   ],
   "source": [
    "dict = {'yes':('true'),'no':('False'),'yes/no':'either True or False'}\n",
    "dict.setdefault('as','true')\n",
    "print(dict)"
   ]
  },
  {
   "cell_type": "code",
   "execution_count": 30,
   "id": "3f7dcf1d",
   "metadata": {},
   "outputs": [
    {
     "name": "stdout",
     "output_type": "stream",
     "text": [
      "{'yes': 'true', 'no': 'False', 'yes/no': 'either True or False', 'as': {'true', 21424, 23}}\n"
     ]
    }
   ],
   "source": [
    "dict = {'yes':('true'),'no':('False'),'yes/no':'either True or False'}\n",
    "dict.setdefault('as',{'true',23,23,21424})\n",
    "print(dict)"
   ]
  },
  {
   "cell_type": "code",
   "execution_count": 3,
   "id": "9db4da34",
   "metadata": {},
   "outputs": [
    {
     "name": "stdout",
     "output_type": "stream",
     "text": [
      "{'yes': 'true', 'no': 'False', 'yes/no': 'either True or False'}\n"
     ]
    }
   ],
   "source": [
    "dict = {'yes':('true'),'no':('False'),'yes/no':'either True or False'}\n",
    "dict.setdefault('yes',{'true',23,23,21424})\n",
    "print(dict)"
   ]
  },
  {
   "cell_type": "code",
   "execution_count": 2,
   "id": "920bc1da",
   "metadata": {},
   "outputs": [
    {
     "data": {
      "text/plain": [
       "'true'"
      ]
     },
     "execution_count": 2,
     "metadata": {},
     "output_type": "execute_result"
    }
   ],
   "source": [
    "dict = {'yes':('true'),'no':('False'),'yes/no':'either True or False'}\n",
    "dict.setdefault('yes',{'true',23,23,21424})\n"
   ]
  },
  {
   "cell_type": "code",
   "execution_count": 32,
   "id": "f8238de7",
   "metadata": {},
   "outputs": [
    {
     "ename": "TypeError",
     "evalue": "unhashable type: 'set'",
     "output_type": "error",
     "traceback": [
      "\u001b[1;31m---------------------------------------------------------------------------\u001b[0m",
      "\u001b[1;31mTypeError\u001b[0m                                 Traceback (most recent call last)",
      "Cell \u001b[1;32mIn[32], line 2\u001b[0m\n\u001b[0;32m      1\u001b[0m \u001b[38;5;28mdict\u001b[39m \u001b[38;5;241m=\u001b[39m {\u001b[38;5;124m'\u001b[39m\u001b[38;5;124myes\u001b[39m\u001b[38;5;124m'\u001b[39m:(\u001b[38;5;124m'\u001b[39m\u001b[38;5;124mtrue\u001b[39m\u001b[38;5;124m'\u001b[39m),\u001b[38;5;124m'\u001b[39m\u001b[38;5;124mno\u001b[39m\u001b[38;5;124m'\u001b[39m:(\u001b[38;5;124m'\u001b[39m\u001b[38;5;124mFalse\u001b[39m\u001b[38;5;124m'\u001b[39m),\u001b[38;5;124m'\u001b[39m\u001b[38;5;124myes/no\u001b[39m\u001b[38;5;124m'\u001b[39m:\u001b[38;5;124m'\u001b[39m\u001b[38;5;124meither True or False\u001b[39m\u001b[38;5;124m'\u001b[39m}\n\u001b[1;32m----> 2\u001b[0m \u001b[38;5;28;43mdict\u001b[39;49m\u001b[38;5;241;43m.\u001b[39;49m\u001b[43msetdefault\u001b[49m\u001b[43m(\u001b[49m\u001b[43m{\u001b[49m\u001b[38;5;124;43m'\u001b[39;49m\u001b[38;5;124;43mqwq\u001b[39;49m\u001b[38;5;124;43m'\u001b[39;49m\u001b[43m}\u001b[49m\u001b[43m,\u001b[49m\u001b[43m{\u001b[49m\u001b[38;5;124;43m'\u001b[39;49m\u001b[38;5;124;43mtrue\u001b[39;49m\u001b[38;5;124;43m'\u001b[39;49m\u001b[43m,\u001b[49m\u001b[38;5;241;43m23\u001b[39;49m\u001b[43m,\u001b[49m\u001b[38;5;241;43m23\u001b[39;49m\u001b[43m,\u001b[49m\u001b[38;5;241;43m21424\u001b[39;49m\u001b[43m}\u001b[49m\u001b[43m)\u001b[49m\n\u001b[0;32m      3\u001b[0m \u001b[38;5;28mprint\u001b[39m(\u001b[38;5;28mdict\u001b[39m)\n",
      "\u001b[1;31mTypeError\u001b[0m: unhashable type: 'set'"
     ]
    }
   ],
   "source": [
    "dict = {'yes':('true'),'no':('False'),'yes/no':'either True or False'}\n",
    "dict.setdefault({'qwq'},{'true',23,23,21424})\n",
    "print(dict)"
   ]
  },
  {
   "cell_type": "code",
   "execution_count": 33,
   "id": "e4216637",
   "metadata": {},
   "outputs": [
    {
     "name": "stdout",
     "output_type": "stream",
     "text": [
      "{'yes': 'true', 'no': 'False', 'yes/no': 'either True or False'}\n"
     ]
    }
   ],
   "source": [
    "dict = {'yes':('true'),'no':('False'),'yes/no':'either True or False'}\n",
    "dict.setdefault('no',{'true',23,23,21424})\n",
    "print(dict)"
   ]
  },
  {
   "cell_type": "markdown",
   "id": "295d938e",
   "metadata": {},
   "source": [
    "#### modify the values of the dictionary keys"
   ]
  },
  {
   "cell_type": "markdown",
   "id": "f34dbe19",
   "metadata": {},
   "source": [
    "we can modify the values of the existing dictionary keys by these-\n",
    "- using key name\n",
    "- update method"
   ]
  },
  {
   "cell_type": "code",
   "execution_count": 65,
   "id": "71192c67",
   "metadata": {},
   "outputs": [
    {
     "name": "stdout",
     "output_type": "stream",
     "text": [
      "{'yes': (12, 212), 'no': 'False', 'yes/no': 'either True or False'}\n"
     ]
    }
   ],
   "source": [
    "dict = {'yes':('true'),'no':('False'),'yes/no':'either True or False'}\n",
    "dict['yes']=12,212\n",
    "print(dict)"
   ]
  },
  {
   "cell_type": "code",
   "execution_count": 7,
   "id": "eae02697",
   "metadata": {},
   "outputs": [
    {
     "name": "stdout",
     "output_type": "stream",
     "text": [
      "{'yes': 'true', 'no': 'False', 'yes/no': 'either True or False', 'ok': 'true'}\n"
     ]
    }
   ],
   "source": [
    "dict = {'yes':('true'),'no':('False'),'yes/no':'either True or False'}\n",
    "dict['ok']='true'\n",
    "print(dict)"
   ]
  },
  {
   "cell_type": "code",
   "execution_count": 66,
   "id": "1657c124",
   "metadata": {},
   "outputs": [
    {
     "ename": "TypeError",
     "evalue": "unhashable type: 'slice'",
     "output_type": "error",
     "traceback": [
      "\u001b[1;31m---------------------------------------------------------------------------\u001b[0m",
      "\u001b[1;31mTypeError\u001b[0m                                 Traceback (most recent call last)",
      "Cell \u001b[1;32mIn[66], line 2\u001b[0m\n\u001b[0;32m      1\u001b[0m \u001b[38;5;28mdict\u001b[39m \u001b[38;5;241m=\u001b[39m {\u001b[38;5;124m'\u001b[39m\u001b[38;5;124myes\u001b[39m\u001b[38;5;124m'\u001b[39m:(\u001b[38;5;124m'\u001b[39m\u001b[38;5;124mtrue\u001b[39m\u001b[38;5;124m'\u001b[39m),\u001b[38;5;124m'\u001b[39m\u001b[38;5;124mno\u001b[39m\u001b[38;5;124m'\u001b[39m:(\u001b[38;5;124m'\u001b[39m\u001b[38;5;124mFalse\u001b[39m\u001b[38;5;124m'\u001b[39m),\u001b[38;5;124m'\u001b[39m\u001b[38;5;124myes/no\u001b[39m\u001b[38;5;124m'\u001b[39m:\u001b[38;5;124m'\u001b[39m\u001b[38;5;124meither True or False\u001b[39m\u001b[38;5;124m'\u001b[39m}\n\u001b[1;32m----> 2\u001b[0m \u001b[38;5;28mdict\u001b[39m[\u001b[38;5;124m'\u001b[39m\u001b[38;5;124myes\u001b[39m\u001b[38;5;124m'\u001b[39m:\u001b[38;5;124m'\u001b[39m\u001b[38;5;124myes/no\u001b[39m\u001b[38;5;124m'\u001b[39m]\u001b[38;5;241m=\u001b[39m\u001b[38;5;241m12\u001b[39m,\u001b[38;5;241m212\u001b[39m\n\u001b[0;32m      3\u001b[0m \u001b[38;5;28mprint\u001b[39m(\u001b[38;5;28mdict\u001b[39m)\n",
      "\u001b[1;31mTypeError\u001b[0m: unhashable type: 'slice'"
     ]
    }
   ],
   "source": [
    "dict = {'yes':('true'),'no':('False'),'yes/no':'either True or False'}\n",
    "dict['yes':'yes/no']=12,212\n",
    "print(dict)"
   ]
  },
  {
   "cell_type": "code",
   "execution_count": 67,
   "id": "83eac3da",
   "metadata": {},
   "outputs": [
    {
     "name": "stdout",
     "output_type": "stream",
     "text": [
      "{'yes': 'true', 'no': 'False', 'yes/no': 'either True or False', ('yes', 'yes/no'): (12, 212)}\n"
     ]
    }
   ],
   "source": [
    "dict = {'yes':('true'),'no':('False'),'yes/no':'either True or False'}\n",
    "dict['yes','yes/no']=12,212\n",
    "print(dict)"
   ]
  },
  {
   "cell_type": "code",
   "execution_count": 68,
   "id": "cf66998b",
   "metadata": {},
   "outputs": [
    {
     "name": "stdout",
     "output_type": "stream",
     "text": [
      "{'yes': 'true', 'no': 'False', 'yes/no': 'either True or False', ('yes', 'yes/no'): (12, 212)}\n"
     ]
    }
   ],
   "source": [
    "dict = {'yes':('true'),'no':('False'),'yes/no':'either True or False'}\n",
    "dict[('yes'),('yes/no')]=12,212\n",
    "print(dict)"
   ]
  },
  {
   "cell_type": "code",
   "execution_count": 72,
   "id": "38fb58d9",
   "metadata": {},
   "outputs": [
    {
     "ename": "KeyError",
     "evalue": "'yesss'",
     "output_type": "error",
     "traceback": [
      "\u001b[1;31m---------------------------------------------------------------------------\u001b[0m",
      "\u001b[1;31mKeyError\u001b[0m                                  Traceback (most recent call last)",
      "Cell \u001b[1;32mIn[72], line 2\u001b[0m\n\u001b[0;32m      1\u001b[0m \u001b[38;5;28mdict\u001b[39m \u001b[38;5;241m=\u001b[39m {\u001b[38;5;124m'\u001b[39m\u001b[38;5;124myes\u001b[39m\u001b[38;5;124m'\u001b[39m:(\u001b[38;5;124m'\u001b[39m\u001b[38;5;124mtrue\u001b[39m\u001b[38;5;124m'\u001b[39m),\u001b[38;5;124m'\u001b[39m\u001b[38;5;124mno\u001b[39m\u001b[38;5;124m'\u001b[39m:(\u001b[38;5;124m'\u001b[39m\u001b[38;5;124mFalse\u001b[39m\u001b[38;5;124m'\u001b[39m),\u001b[38;5;124m'\u001b[39m\u001b[38;5;124myes/no\u001b[39m\u001b[38;5;124m'\u001b[39m:\u001b[38;5;124m'\u001b[39m\u001b[38;5;124meither True or False\u001b[39m\u001b[38;5;124m'\u001b[39m}\n\u001b[1;32m----> 2\u001b[0m \u001b[38;5;28;43mdict\u001b[39;49m\u001b[43m[\u001b[49m\u001b[43m(\u001b[49m\u001b[38;5;124;43m'\u001b[39;49m\u001b[38;5;124;43myesss\u001b[39;49m\u001b[38;5;124;43m'\u001b[39;49m\u001b[43m)\u001b[49m\u001b[43m]\u001b[49m[\u001b[38;5;124m'\u001b[39m\u001b[38;5;124myeno\u001b[39m\u001b[38;5;124m'\u001b[39m]\u001b[38;5;241m=\u001b[39m\u001b[38;5;241m12\u001b[39m,\u001b[38;5;241m212\u001b[39m\n\u001b[0;32m      3\u001b[0m \u001b[38;5;28mprint\u001b[39m(\u001b[38;5;28mdict\u001b[39m)\n",
      "\u001b[1;31mKeyError\u001b[0m: 'yesss'"
     ]
    }
   ],
   "source": [
    "dict = {'yes':('true'),'no':('False'),'yes/no':'either True or False'}\n",
    "dict[('yesss')]['yeno']=12,212\n",
    "print(dict)"
   ]
  },
  {
   "cell_type": "code",
   "execution_count": 1,
   "id": "ff4d7dd3",
   "metadata": {},
   "outputs": [
    {
     "name": "stdout",
     "output_type": "stream",
     "text": [
      "[1, 257]\n"
     ]
    }
   ],
   "source": [
    "a=[1,257]\n",
    "print(a)"
   ]
  },
  {
   "cell_type": "markdown",
   "id": "bfd56aba",
   "metadata": {},
   "source": [
    "#### 16 8 2023"
   ]
  },
  {
   "cell_type": "markdown",
   "id": "a5ccecf6",
   "metadata": {},
   "source": [
    "##### removing items from a dictionary"
   ]
  },
  {
   "cell_type": "markdown",
   "id": "19567237",
   "metadata": {},
   "source": [
    "- pop(key[,d])\n",
    "- pop(item)\n",
    "- del key\n",
    "- clear()\n",
    "- del"
   ]
  },
  {
   "cell_type": "code",
   "execution_count": 2,
   "id": "8bdd8ddc",
   "metadata": {},
   "outputs": [
    {
     "name": "stdout",
     "output_type": "stream",
     "text": [
      "{'no': 'False', 'yes/no': 'either True or False'}\n"
     ]
    }
   ],
   "source": [
    "dict = {'yes':('true'),'no':('False'),'yes/no':'either True or False'}\n",
    "dict.pop('yes',['no'])\n",
    "print(dict)"
   ]
  },
  {
   "cell_type": "code",
   "execution_count": 4,
   "id": "01c37e60",
   "metadata": {},
   "outputs": [
    {
     "name": "stdout",
     "output_type": "stream",
     "text": [
      "{'no': 'False', 'yes/no': 'either True or False'}\n"
     ]
    }
   ],
   "source": [
    "dict = {'yes':('true'),'no':('False'),'yes/no':'either True or False'}\n",
    "dict.pop('yes')\n",
    "print(dict)"
   ]
  },
  {
   "cell_type": "code",
   "execution_count": 5,
   "id": "53b2cfc9",
   "metadata": {},
   "outputs": [
    {
     "name": "stdout",
     "output_type": "stream",
     "text": [
      "{'no': 'False', 'yes/no': 'either True or False'}\n"
     ]
    }
   ],
   "source": [
    "dict = {'yes':('true'),'no':('False'),'yes/no':'either True or False'}\n",
    "dict.pop('yes','no')\n",
    "print(dict)"
   ]
  },
  {
   "cell_type": "code",
   "execution_count": 8,
   "id": "74ce2643",
   "metadata": {},
   "outputs": [
    {
     "ename": "AttributeError",
     "evalue": "'str' object has no attribute 'pop'",
     "output_type": "error",
     "traceback": [
      "\u001b[1;31m---------------------------------------------------------------------------\u001b[0m",
      "\u001b[1;31mAttributeError\u001b[0m                            Traceback (most recent call last)",
      "Cell \u001b[1;32mIn[8], line 2\u001b[0m\n\u001b[0;32m      1\u001b[0m \u001b[38;5;28mdict\u001b[39m \u001b[38;5;241m=\u001b[39m {\u001b[38;5;124m'\u001b[39m\u001b[38;5;124myes\u001b[39m\u001b[38;5;124m'\u001b[39m:(\u001b[38;5;124m'\u001b[39m\u001b[38;5;124mtrue\u001b[39m\u001b[38;5;124m'\u001b[39m),\u001b[38;5;124m'\u001b[39m\u001b[38;5;124mno\u001b[39m\u001b[38;5;124m'\u001b[39m:(\u001b[38;5;124m'\u001b[39m\u001b[38;5;124mFalse\u001b[39m\u001b[38;5;124m'\u001b[39m),\u001b[38;5;124m'\u001b[39m\u001b[38;5;124myes/no\u001b[39m\u001b[38;5;124m'\u001b[39m:\u001b[38;5;124m'\u001b[39m\u001b[38;5;124meither True or False\u001b[39m\u001b[38;5;124m'\u001b[39m}\n\u001b[1;32m----> 2\u001b[0m \u001b[43m(\u001b[49m\u001b[38;5;28;43mdict\u001b[39;49m\u001b[38;5;241;43m.\u001b[39;49m\u001b[43mpop\u001b[49m\u001b[43m(\u001b[49m\u001b[38;5;124;43m'\u001b[39;49m\u001b[38;5;124;43myes\u001b[39;49m\u001b[38;5;124;43m'\u001b[39;49m\u001b[43m)\u001b[49m\u001b[43m)\u001b[49m\u001b[38;5;241;43m.\u001b[39;49m\u001b[43mpop\u001b[49m(\u001b[38;5;124m'\u001b[39m\u001b[38;5;124mno\u001b[39m\u001b[38;5;124m'\u001b[39m)\n\u001b[0;32m      3\u001b[0m \u001b[38;5;28mprint\u001b[39m(\u001b[38;5;28mdict\u001b[39m)\n",
      "\u001b[1;31mAttributeError\u001b[0m: 'str' object has no attribute 'pop'"
     ]
    }
   ],
   "source": [
    "dict = {'yes':('true'),'no':('False'),'yes/no':'either True or False'}\n",
    "(dict.pop('yes')).pop('no')\n",
    "print(dict)"
   ]
  },
  {
   "cell_type": "code",
   "execution_count": 3,
   "id": "e79880af",
   "metadata": {},
   "outputs": [
    {
     "ename": "TypeError",
     "evalue": "pop expected at most 2 arguments, got 4",
     "output_type": "error",
     "traceback": [
      "\u001b[1;31m---------------------------------------------------------------------------\u001b[0m",
      "\u001b[1;31mTypeError\u001b[0m                                 Traceback (most recent call last)",
      "Cell \u001b[1;32mIn[3], line 2\u001b[0m\n\u001b[0;32m      1\u001b[0m \u001b[38;5;28mdict\u001b[39m \u001b[38;5;241m=\u001b[39m {\u001b[38;5;124m'\u001b[39m\u001b[38;5;124myes\u001b[39m\u001b[38;5;124m'\u001b[39m:(\u001b[38;5;124m'\u001b[39m\u001b[38;5;124mtrue\u001b[39m\u001b[38;5;124m'\u001b[39m),\u001b[38;5;124m'\u001b[39m\u001b[38;5;124mno\u001b[39m\u001b[38;5;124m'\u001b[39m:(\u001b[38;5;124m'\u001b[39m\u001b[38;5;124mFalse\u001b[39m\u001b[38;5;124m'\u001b[39m),\u001b[38;5;124m'\u001b[39m\u001b[38;5;124myes/no\u001b[39m\u001b[38;5;124m'\u001b[39m:\u001b[38;5;124m'\u001b[39m\u001b[38;5;124meither True or False\u001b[39m\u001b[38;5;124m'\u001b[39m}\n\u001b[1;32m----> 2\u001b[0m \u001b[38;5;28;43mdict\u001b[39;49m\u001b[38;5;241;43m.\u001b[39;49m\u001b[43mpop\u001b[49m\u001b[43m(\u001b[49m\u001b[38;5;124;43m'\u001b[39;49m\u001b[38;5;124;43myes\u001b[39;49m\u001b[38;5;124;43m'\u001b[39;49m\u001b[43m,\u001b[49m\u001b[43m[\u001b[49m\u001b[38;5;124;43m'\u001b[39;49m\u001b[38;5;124;43mno\u001b[39;49m\u001b[38;5;124;43m'\u001b[39;49m\u001b[43m]\u001b[49m\u001b[43m,\u001b[49m\u001b[38;5;124;43m'\u001b[39;49m\u001b[38;5;124;43myes/no\u001b[39;49m\u001b[38;5;124;43m'\u001b[39;49m\u001b[43m,\u001b[49m\u001b[43m[\u001b[49m\u001b[38;5;124;43m'\u001b[39;49m\u001b[38;5;124;43meither True or False\u001b[39;49m\u001b[38;5;124;43m'\u001b[39;49m\u001b[43m]\u001b[49m\u001b[43m)\u001b[49m\n\u001b[0;32m      3\u001b[0m \u001b[38;5;28mprint\u001b[39m(\u001b[38;5;28mdict\u001b[39m)\n",
      "\u001b[1;31mTypeError\u001b[0m: pop expected at most 2 arguments, got 4"
     ]
    }
   ],
   "source": [
    "dict = {'yes':('true'),'no':('False'),'yes/no':'either True or False'}\n",
    "dict.pop('yes',['no'],'yes/no',['either True or False'])\n",
    "print(dict)"
   ]
  },
  {
   "cell_type": "code",
   "execution_count": null,
   "id": "e8828c23",
   "metadata": {},
   "outputs": [],
   "source": [
    "dict = {'yes':('true'),'no':('False'),'yes/no':'either True or False'}\n",
    "dict.pop('yes',['no']\n",
    "dict = {'yes':('true'),'no':('False'),'yes/no':'either True or False'}\n",
    "dict.pop('yes',['no'],'yes/no',['either True or False'])\n",
    "print(dict)\n",
    "print(dict)"
   ]
  },
  {
   "cell_type": "code",
   "execution_count": null,
   "id": "495924d8",
   "metadata": {},
   "outputs": [],
   "source": [
    "dict = {'yes':('true'),'no':('False'),'yes/no':'either True or False'}\n",
    "dict.pop('yes',['no'],'yes/no',['either True or False'])\n",
    "print(dict)"
   ]
  },
  {
   "cell_type": "code",
   "execution_count": 4,
   "id": "3c9399ea",
   "metadata": {},
   "outputs": [
    {
     "name": "stdout",
     "output_type": "stream",
     "text": [
      "{'yes': 'true', 'no': 'False', 'yes/no': 'either True or False'}\n"
     ]
    }
   ],
   "source": [
    "dict = {'yes':('true'),'no':('False'),'yes/no':'either True or False'}\n",
    "dict.pop('yessss' , ['true'])\n",
    "print(dict)"
   ]
  },
  {
   "cell_type": "code",
   "execution_count": 5,
   "id": "33115f0b",
   "metadata": {},
   "outputs": [
    {
     "name": "stdout",
     "output_type": "stream",
     "text": [
      "{'yes': 'true', 'no': 'False', 'yes/no': 'either True or False'}\n"
     ]
    }
   ],
   "source": [
    "dict = {'yes':('true'),'no':('False'),'yes/no':'either True or False'}\n",
    "dict.pop('' , ['true'])\n",
    "print(dict)"
   ]
  },
  {
   "cell_type": "code",
   "execution_count": 9,
   "id": "9688c901",
   "metadata": {},
   "outputs": [
    {
     "ename": "KeyError",
     "evalue": "'true'",
     "output_type": "error",
     "traceback": [
      "\u001b[1;31m---------------------------------------------------------------------------\u001b[0m",
      "\u001b[1;31mKeyError\u001b[0m                                  Traceback (most recent call last)",
      "Cell \u001b[1;32mIn[9], line 2\u001b[0m\n\u001b[0;32m      1\u001b[0m \u001b[38;5;28mdict\u001b[39m \u001b[38;5;241m=\u001b[39m {\u001b[38;5;124m'\u001b[39m\u001b[38;5;124myes\u001b[39m\u001b[38;5;124m'\u001b[39m:(\u001b[38;5;124m'\u001b[39m\u001b[38;5;124mtrue\u001b[39m\u001b[38;5;124m'\u001b[39m),\u001b[38;5;124m'\u001b[39m\u001b[38;5;124mno\u001b[39m\u001b[38;5;124m'\u001b[39m:(\u001b[38;5;124m'\u001b[39m\u001b[38;5;124mFalse\u001b[39m\u001b[38;5;124m'\u001b[39m),\u001b[38;5;124m'\u001b[39m\u001b[38;5;124myes/no\u001b[39m\u001b[38;5;124m'\u001b[39m:\u001b[38;5;124m'\u001b[39m\u001b[38;5;124meither True or False\u001b[39m\u001b[38;5;124m'\u001b[39m}\n\u001b[1;32m----> 2\u001b[0m \u001b[38;5;28;43mdict\u001b[39;49m\u001b[38;5;241;43m.\u001b[39;49m\u001b[43mpop\u001b[49m\u001b[43m(\u001b[49m\u001b[38;5;124;43m'\u001b[39;49m\u001b[38;5;124;43mtrue\u001b[39;49m\u001b[38;5;124;43m'\u001b[39;49m\u001b[43m)\u001b[49m\n\u001b[0;32m      3\u001b[0m \u001b[38;5;28mprint\u001b[39m(\u001b[38;5;28mdict\u001b[39m)\n",
      "\u001b[1;31mKeyError\u001b[0m: 'true'"
     ]
    }
   ],
   "source": [
    "dict = {'yes':('true'),'no':('False'),'yes/no':'either True or False'}\n",
    "dict.pop('true')\n",
    "print(dict)"
   ]
  },
  {
   "cell_type": "code",
   "execution_count": 20,
   "id": "9cbd57c7",
   "metadata": {},
   "outputs": [
    {
     "ename": "TypeError",
     "evalue": "unhashable type: 'dict'",
     "output_type": "error",
     "traceback": [
      "\u001b[1;31m---------------------------------------------------------------------------\u001b[0m",
      "\u001b[1;31mTypeError\u001b[0m                                 Traceback (most recent call last)",
      "Cell \u001b[1;32mIn[20], line 2\u001b[0m\n\u001b[0;32m      1\u001b[0m \u001b[38;5;28mdict\u001b[39m \u001b[38;5;241m=\u001b[39m {\u001b[38;5;124m'\u001b[39m\u001b[38;5;124myes\u001b[39m\u001b[38;5;124m'\u001b[39m:\u001b[38;5;124m'\u001b[39m\u001b[38;5;124mtrue\u001b[39m\u001b[38;5;124m'\u001b[39m,\u001b[38;5;124m'\u001b[39m\u001b[38;5;124mno\u001b[39m\u001b[38;5;124m'\u001b[39m:\u001b[38;5;124m'\u001b[39m\u001b[38;5;124mFalse\u001b[39m\u001b[38;5;124m'\u001b[39m,\u001b[38;5;124m'\u001b[39m\u001b[38;5;124myes/no\u001b[39m\u001b[38;5;124m'\u001b[39m:\u001b[38;5;124m'\u001b[39m\u001b[38;5;124meither True or False\u001b[39m\u001b[38;5;124m'\u001b[39m}\n\u001b[1;32m----> 2\u001b[0m \u001b[38;5;28;43mdict\u001b[39;49m\u001b[38;5;241;43m.\u001b[39;49m\u001b[43mpop\u001b[49m\u001b[43m(\u001b[49m\u001b[43m{\u001b[49m\u001b[38;5;124;43m'\u001b[39;49m\u001b[38;5;124;43myes\u001b[39;49m\u001b[38;5;124;43m'\u001b[39;49m\u001b[43m:\u001b[49m\u001b[38;5;124;43m'\u001b[39;49m\u001b[38;5;124;43mtrue\u001b[39;49m\u001b[38;5;124;43m'\u001b[39;49m\u001b[43m \u001b[49m\u001b[43m,\u001b[49m\u001b[38;5;124;43m'\u001b[39;49m\u001b[38;5;124;43mno\u001b[39;49m\u001b[38;5;124;43m'\u001b[39;49m\u001b[43m:\u001b[49m\u001b[43m \u001b[49m\u001b[38;5;124;43m'\u001b[39;49m\u001b[38;5;124;43mFalse\u001b[39;49m\u001b[38;5;124;43m'\u001b[39;49m\u001b[43m}\u001b[49m\u001b[43m)\u001b[49m\n\u001b[0;32m      3\u001b[0m \u001b[38;5;28mprint\u001b[39m(\u001b[38;5;28mdict\u001b[39m)\n",
      "\u001b[1;31mTypeError\u001b[0m: unhashable type: 'dict'"
     ]
    }
   ],
   "source": [
    "dict = {'yes':'true','no':'False','yes/no':'either True or False'}\n",
    "dict.pop({'yes':'true' ,'no': 'False'})\n",
    "print(dict)"
   ]
  },
  {
   "cell_type": "code",
   "execution_count": 3,
   "id": "77678727",
   "metadata": {},
   "outputs": [
    {
     "name": "stdout",
     "output_type": "stream",
     "text": [
      "2353924967936\n",
      "2353924967936\n",
      "{'no': 'False', 'yes/no': 'either True or False'}\n"
     ]
    }
   ],
   "source": [
    "dict1 = {'yes':'true','no':'False','yes/no':'either True or False'}\n",
    "print(id(dict1))\n",
    "del dict1['yes']\n",
    "print(id(dict1))\n",
    "print(dict1)"
   ]
  },
  {
   "cell_type": "code",
   "execution_count": 24,
   "id": "769083e0",
   "metadata": {},
   "outputs": [
    {
     "name": "stdout",
     "output_type": "stream",
     "text": [
      "{'no': 'False', 'yes/no': 'either True or False'}\n"
     ]
    }
   ],
   "source": [
    "dict = {'yes':'true','no':'False','yes/no':'either True or False'}\n",
    "dict.pop('yes', ['true'])\n",
    "print(dict)\n"
   ]
  },
  {
   "cell_type": "code",
   "execution_count": 27,
   "id": "2a1f40bf",
   "metadata": {},
   "outputs": [
    {
     "ename": "TypeError",
     "evalue": "unhashable type: 'set'",
     "output_type": "error",
     "traceback": [
      "\u001b[1;31m---------------------------------------------------------------------------\u001b[0m",
      "\u001b[1;31mTypeError\u001b[0m                                 Traceback (most recent call last)",
      "Cell \u001b[1;32mIn[27], line 2\u001b[0m\n\u001b[0;32m      1\u001b[0m \u001b[38;5;28mdict\u001b[39m \u001b[38;5;241m=\u001b[39m {\u001b[38;5;124m'\u001b[39m\u001b[38;5;124myes\u001b[39m\u001b[38;5;124m'\u001b[39m:\u001b[38;5;124m'\u001b[39m\u001b[38;5;124mtrue\u001b[39m\u001b[38;5;124m'\u001b[39m,\u001b[38;5;124m'\u001b[39m\u001b[38;5;124mno\u001b[39m\u001b[38;5;124m'\u001b[39m:\u001b[38;5;124m'\u001b[39m\u001b[38;5;124mFalse\u001b[39m\u001b[38;5;124m'\u001b[39m,\u001b[38;5;124m'\u001b[39m\u001b[38;5;124myes/no\u001b[39m\u001b[38;5;124m'\u001b[39m:\u001b[38;5;124m'\u001b[39m\u001b[38;5;124meither True or False\u001b[39m\u001b[38;5;124m'\u001b[39m}\n\u001b[1;32m----> 2\u001b[0m \u001b[38;5;28;43mdict\u001b[39;49m\u001b[38;5;241;43m.\u001b[39;49m\u001b[43mpop\u001b[49m\u001b[43m(\u001b[49m\u001b[43m{\u001b[49m\u001b[38;5;124;43m'\u001b[39;49m\u001b[38;5;124;43myes\u001b[39;49m\u001b[38;5;124;43m'\u001b[39;49m\u001b[43m,\u001b[49m\u001b[38;5;124;43m'\u001b[39;49m\u001b[38;5;124;43mno\u001b[39;49m\u001b[38;5;124;43m'\u001b[39;49m\u001b[43m}\u001b[49m\u001b[43m,\u001b[49m\u001b[43m \u001b[49m\u001b[43m[\u001b[49m\u001b[38;5;124;43m'\u001b[39;49m\u001b[38;5;124;43mtrue\u001b[39;49m\u001b[38;5;124;43m'\u001b[39;49m\u001b[43m,\u001b[49m\u001b[38;5;124;43m'\u001b[39;49m\u001b[38;5;124;43mFalse\u001b[39;49m\u001b[38;5;124;43m'\u001b[39;49m\u001b[43m]\u001b[49m\u001b[43m)\u001b[49m\n\u001b[0;32m      3\u001b[0m \u001b[38;5;28mprint\u001b[39m(\u001b[38;5;28mdict\u001b[39m)\n",
      "\u001b[1;31mTypeError\u001b[0m: unhashable type: 'set'"
     ]
    }
   ],
   "source": [
    "dict = {'yes':'true','no':'False','yes/no':'either True or False'}\n",
    "dict.pop({'yes','no'}, ['true','False'])\n",
    "print(dict)\n"
   ]
  },
  {
   "cell_type": "code",
   "execution_count": 19,
   "id": "35640723",
   "metadata": {},
   "outputs": [
    {
     "ename": "SyntaxError",
     "evalue": "cannot delete literal (2060835602.py, line 2)",
     "output_type": "error",
     "traceback": [
      "\u001b[1;36m  Cell \u001b[1;32mIn[19], line 2\u001b[1;36m\u001b[0m\n\u001b[1;33m    del'yes'\u001b[0m\n\u001b[1;37m       ^\u001b[0m\n\u001b[1;31mSyntaxError\u001b[0m\u001b[1;31m:\u001b[0m cannot delete literal\n"
     ]
    }
   ],
   "source": [
    "dict = {'yes':('true'),'no':('False'),'yes/no':'either True or False'}\n",
    "del 'yes'\n",
    "print(dict)"
   ]
  },
  {
   "cell_type": "code",
   "execution_count": 28,
   "id": "b07babbe",
   "metadata": {},
   "outputs": [
    {
     "name": "stdout",
     "output_type": "stream",
     "text": [
      "<class 'dict'>\n"
     ]
    }
   ],
   "source": [
    "dict = {'yes':('true'),'no':('False'),'yes/no':'either True or False'}\n",
    "del dict\n",
    "print(dict)"
   ]
  },
  {
   "cell_type": "code",
   "execution_count": 30,
   "id": "4e05492e",
   "metadata": {},
   "outputs": [
    {
     "name": "stdout",
     "output_type": "stream",
     "text": [
      "{}\n"
     ]
    }
   ],
   "source": [
    "dict = {'yes':('true'),'no':('False'),'yes/no':'either True or False'}\n",
    "dict.clear()\n",
    "print(dict)"
   ]
  },
  {
   "cell_type": "code",
   "execution_count": 32,
   "id": "993578b1",
   "metadata": {},
   "outputs": [
    {
     "ename": "TypeError",
     "evalue": "dict.clear() takes no arguments (2 given)",
     "output_type": "error",
     "traceback": [
      "\u001b[1;31m---------------------------------------------------------------------------\u001b[0m",
      "\u001b[1;31mTypeError\u001b[0m                                 Traceback (most recent call last)",
      "Cell \u001b[1;32mIn[32], line 2\u001b[0m\n\u001b[0;32m      1\u001b[0m \u001b[38;5;28mdict\u001b[39m \u001b[38;5;241m=\u001b[39m {\u001b[38;5;124m'\u001b[39m\u001b[38;5;124myes\u001b[39m\u001b[38;5;124m'\u001b[39m:(\u001b[38;5;124m'\u001b[39m\u001b[38;5;124mtrue\u001b[39m\u001b[38;5;124m'\u001b[39m),\u001b[38;5;124m'\u001b[39m\u001b[38;5;124mno\u001b[39m\u001b[38;5;124m'\u001b[39m:(\u001b[38;5;124m'\u001b[39m\u001b[38;5;124mFalse\u001b[39m\u001b[38;5;124m'\u001b[39m),\u001b[38;5;124m'\u001b[39m\u001b[38;5;124myes/no\u001b[39m\u001b[38;5;124m'\u001b[39m:\u001b[38;5;124m'\u001b[39m\u001b[38;5;124meither True or False\u001b[39m\u001b[38;5;124m'\u001b[39m}\n\u001b[1;32m----> 2\u001b[0m \u001b[38;5;28;43mdict\u001b[39;49m\u001b[38;5;241;43m.\u001b[39;49m\u001b[43mclear\u001b[49m\u001b[43m(\u001b[49m\u001b[38;5;124;43m'\u001b[39;49m\u001b[38;5;124;43myes\u001b[39;49m\u001b[38;5;124;43m'\u001b[39;49m\u001b[43m,\u001b[49m\u001b[43m[\u001b[49m\u001b[38;5;124;43m'\u001b[39;49m\u001b[38;5;124;43mno\u001b[39;49m\u001b[38;5;124;43m'\u001b[39;49m\u001b[43m]\u001b[49m\u001b[43m)\u001b[49m\n\u001b[0;32m      3\u001b[0m \u001b[38;5;28mprint\u001b[39m(\u001b[38;5;28mdict\u001b[39m)\n",
      "\u001b[1;31mTypeError\u001b[0m: dict.clear() takes no arguments (2 given)"
     ]
    }
   ],
   "source": [
    "dict = {'yes':('true'),'no':('False'),'yes/no':'either True or False'}\n",
    "dict.clear('yes',['no'])\n",
    "print(dict)"
   ]
  },
  {
   "cell_type": "code",
   "execution_count": 33,
   "id": "d31dfa1e",
   "metadata": {},
   "outputs": [
    {
     "ename": "TypeError",
     "evalue": "dict.clear() takes no arguments (1 given)",
     "output_type": "error",
     "traceback": [
      "\u001b[1;31m---------------------------------------------------------------------------\u001b[0m",
      "\u001b[1;31mTypeError\u001b[0m                                 Traceback (most recent call last)",
      "Cell \u001b[1;32mIn[33], line 2\u001b[0m\n\u001b[0;32m      1\u001b[0m \u001b[38;5;28mdict\u001b[39m \u001b[38;5;241m=\u001b[39m {\u001b[38;5;124m'\u001b[39m\u001b[38;5;124myes\u001b[39m\u001b[38;5;124m'\u001b[39m:(\u001b[38;5;124m'\u001b[39m\u001b[38;5;124mtrue\u001b[39m\u001b[38;5;124m'\u001b[39m),\u001b[38;5;124m'\u001b[39m\u001b[38;5;124mno\u001b[39m\u001b[38;5;124m'\u001b[39m:(\u001b[38;5;124m'\u001b[39m\u001b[38;5;124mFalse\u001b[39m\u001b[38;5;124m'\u001b[39m),\u001b[38;5;124m'\u001b[39m\u001b[38;5;124myes/no\u001b[39m\u001b[38;5;124m'\u001b[39m:\u001b[38;5;124m'\u001b[39m\u001b[38;5;124meither True or False\u001b[39m\u001b[38;5;124m'\u001b[39m}\n\u001b[1;32m----> 2\u001b[0m \u001b[38;5;28;43mdict\u001b[39;49m\u001b[38;5;241;43m.\u001b[39;49m\u001b[43mclear\u001b[49m\u001b[43m(\u001b[49m\u001b[38;5;124;43m'\u001b[39;49m\u001b[38;5;124;43myes\u001b[39;49m\u001b[38;5;124;43m'\u001b[39;49m\u001b[43m)\u001b[49m\n\u001b[0;32m      3\u001b[0m \u001b[38;5;28mprint\u001b[39m(\u001b[38;5;28mdict\u001b[39m)\n",
      "\u001b[1;31mTypeError\u001b[0m: dict.clear() takes no arguments (1 given)"
     ]
    }
   ],
   "source": [
    "dict = {'yes':('true'),'no':('False'),'yes/no':'either True or False'}\n",
    "dict.clear('yes')\n",
    "print(dict)"
   ]
  },
  {
   "cell_type": "code",
   "execution_count": 35,
   "id": "3b18a413",
   "metadata": {},
   "outputs": [
    {
     "ename": "NameError",
     "evalue": "name 'dict_1' is not defined",
     "output_type": "error",
     "traceback": [
      "\u001b[1;31m---------------------------------------------------------------------------\u001b[0m",
      "\u001b[1;31mNameError\u001b[0m                                 Traceback (most recent call last)",
      "Cell \u001b[1;32mIn[35], line 3\u001b[0m\n\u001b[0;32m      1\u001b[0m dict_1 \u001b[38;5;241m=\u001b[39m {\u001b[38;5;124m'\u001b[39m\u001b[38;5;124myes\u001b[39m\u001b[38;5;124m'\u001b[39m:(\u001b[38;5;124m'\u001b[39m\u001b[38;5;124mtrue\u001b[39m\u001b[38;5;124m'\u001b[39m),\u001b[38;5;124m'\u001b[39m\u001b[38;5;124mno\u001b[39m\u001b[38;5;124m'\u001b[39m:(\u001b[38;5;124m'\u001b[39m\u001b[38;5;124mFalse\u001b[39m\u001b[38;5;124m'\u001b[39m),\u001b[38;5;124m'\u001b[39m\u001b[38;5;124myes/no\u001b[39m\u001b[38;5;124m'\u001b[39m:\u001b[38;5;124m'\u001b[39m\u001b[38;5;124meither True or False\u001b[39m\u001b[38;5;124m'\u001b[39m}\n\u001b[0;32m      2\u001b[0m \u001b[38;5;28;01mdel\u001b[39;00m dict_1\n\u001b[1;32m----> 3\u001b[0m \u001b[38;5;28mprint\u001b[39m(\u001b[43mdict_1\u001b[49m)\n",
      "\u001b[1;31mNameError\u001b[0m: name 'dict_1' is not defined"
     ]
    }
   ],
   "source": [
    "dict_1 = {'yes':('true'),'no':('False'),'yes/no':'either True or False'}\n",
    "del dict_1\n",
    "print(dict_1)"
   ]
  },
  {
   "cell_type": "code",
   "execution_count": 36,
   "id": "836c130b",
   "metadata": {},
   "outputs": [
    {
     "ename": "NameError",
     "evalue": "name 'dict1' is not defined",
     "output_type": "error",
     "traceback": [
      "\u001b[1;31m---------------------------------------------------------------------------\u001b[0m",
      "\u001b[1;31mNameError\u001b[0m                                 Traceback (most recent call last)",
      "Cell \u001b[1;32mIn[36], line 2\u001b[0m\n\u001b[0;32m      1\u001b[0m dict_1 \u001b[38;5;241m=\u001b[39m {\u001b[38;5;124m'\u001b[39m\u001b[38;5;124myes\u001b[39m\u001b[38;5;124m'\u001b[39m:(\u001b[38;5;124m'\u001b[39m\u001b[38;5;124mtrue\u001b[39m\u001b[38;5;124m'\u001b[39m),\u001b[38;5;124m'\u001b[39m\u001b[38;5;124mno\u001b[39m\u001b[38;5;124m'\u001b[39m:(\u001b[38;5;124m'\u001b[39m\u001b[38;5;124mFalse\u001b[39m\u001b[38;5;124m'\u001b[39m),\u001b[38;5;124m'\u001b[39m\u001b[38;5;124myes/no\u001b[39m\u001b[38;5;124m'\u001b[39m:\u001b[38;5;124m'\u001b[39m\u001b[38;5;124meither True or False\u001b[39m\u001b[38;5;124m'\u001b[39m}\n\u001b[1;32m----> 2\u001b[0m \u001b[38;5;28;01mdel\u001b[39;00m dict1\n\u001b[0;32m      3\u001b[0m \u001b[38;5;28mprint\u001b[39m(dict1)\n",
      "\u001b[1;31mNameError\u001b[0m: name 'dict1' is not defined"
     ]
    }
   ],
   "source": [
    "dict_1 = {'yes':('true'),'no':('False'),'yes/no':'either True or False'}\n",
    "del dict1\n",
    "print(dict1)"
   ]
  },
  {
   "cell_type": "code",
   "execution_count": 1,
   "id": "6f841b0e",
   "metadata": {},
   "outputs": [
    {
     "ename": "SyntaxError",
     "evalue": "cannot delete literal (3509151134.py, line 2)",
     "output_type": "error",
     "traceback": [
      "\u001b[1;36m  Cell \u001b[1;32mIn[1], line 2\u001b[1;36m\u001b[0m\n\u001b[1;33m    del'yes'\u001b[0m\n\u001b[1;37m       ^\u001b[0m\n\u001b[1;31mSyntaxError\u001b[0m\u001b[1;31m:\u001b[0m cannot delete literal\n"
     ]
    }
   ],
   "source": [
    "dict_1 = {'yes':('true'),'no':('False'),'yes/no':'either True or False'}\n",
    "del'yes'\n",
    "print(dict1)"
   ]
  },
  {
   "cell_type": "code",
   "execution_count": null,
   "id": "ed1afb8a",
   "metadata": {},
   "outputs": [],
   "source": []
  },
  {
   "cell_type": "code",
   "execution_count": null,
   "id": "3eab7964",
   "metadata": {},
   "outputs": [],
   "source": []
  },
  {
   "cell_type": "markdown",
   "id": "fa3a2429",
   "metadata": {},
   "source": [
    "#### check whether a key exists in dict or not"
   ]
  },
  {
   "cell_type": "code",
   "execution_count": 40,
   "id": "d42cd5ec",
   "metadata": {},
   "outputs": [
    {
     "ename": "SyntaxError",
     "evalue": "invalid syntax (4262751052.py, line 4)",
     "output_type": "error",
     "traceback": [
      "\u001b[1;36m  Cell \u001b[1;32mIn[40], line 4\u001b[1;36m\u001b[0m\n\u001b[1;33m    else:\u001b[0m\n\u001b[1;37m    ^\u001b[0m\n\u001b[1;31mSyntaxError\u001b[0m\u001b[1;31m:\u001b[0m invalid syntax\n"
     ]
    }
   ],
   "source": [
    "dict_1 = {'yes':('true'),'no':('False'),'yes/no':'either True or False'}\n",
    "if 'yes' in dict_1 :\n",
    "    print('yes')\n",
    "    else:\n",
    "        print(no)"
   ]
  },
  {
   "cell_type": "code",
   "execution_count": null,
   "id": "b6d7f3d3",
   "metadata": {},
   "outputs": [],
   "source": []
  },
  {
   "cell_type": "code",
   "execution_count": null,
   "id": "ebda9dca",
   "metadata": {},
   "outputs": [],
   "source": []
  },
  {
   "cell_type": "markdown",
   "id": "1e58c43b",
   "metadata": {},
   "source": [
    "#### join two dictionaries"
   ]
  },
  {
   "cell_type": "code",
   "execution_count": 54,
   "id": "46449b31",
   "metadata": {},
   "outputs": [
    {
     "name": "stdout",
     "output_type": "stream",
     "text": [
      "{'yes': 'true', 'no': 'False', 'yes/no': 'either True or False', 'okk': 'siuu', 'sasa': 'rere'}\n"
     ]
    }
   ],
   "source": [
    "dict_1 = {'yes':('true'),'no':('False'),'yes/no':'either True or False'}\n",
    "dict_2 = {'okk':'siuu','sasa':'rere'}\n",
    "dict_1.update(dict_2)\n",
    "print(dict_1)"
   ]
  },
  {
   "cell_type": "code",
   "execution_count": 59,
   "id": "7d4fe4d6",
   "metadata": {},
   "outputs": [
    {
     "ename": "TypeError",
     "evalue": "'NoneType' object is not iterable",
     "output_type": "error",
     "traceback": [
      "\u001b[1;31m---------------------------------------------------------------------------\u001b[0m",
      "\u001b[1;31mTypeError\u001b[0m                                 Traceback (most recent call last)",
      "Cell \u001b[1;32mIn[59], line 5\u001b[0m\n\u001b[0;32m      3\u001b[0m dict_3 \u001b[38;5;241m=\u001b[39m {\u001b[38;5;124m'\u001b[39m\u001b[38;5;124mqwe\u001b[39m\u001b[38;5;124m'\u001b[39m:\u001b[38;5;124m'\u001b[39m\u001b[38;5;124mQWQ\u001b[39m\u001b[38;5;124m'\u001b[39m}\n\u001b[0;32m      4\u001b[0m dict_2\u001b[38;5;241m.\u001b[39mupdate(dict_3)\n\u001b[1;32m----> 5\u001b[0m \u001b[43mdict_1\u001b[49m\u001b[38;5;241;43m.\u001b[39;49m\u001b[43mupdate\u001b[49m\u001b[43m(\u001b[49m\u001b[43mdict_2\u001b[49m\u001b[38;5;241;43m.\u001b[39;49m\u001b[43mupdate\u001b[49m\u001b[43m(\u001b[49m\u001b[43mdict_3\u001b[49m\u001b[43m)\u001b[49m\u001b[43m)\u001b[49m\n\u001b[0;32m      6\u001b[0m \u001b[38;5;28mprint\u001b[39m(dict_1)\n",
      "\u001b[1;31mTypeError\u001b[0m: 'NoneType' object is not iterable"
     ]
    }
   ],
   "source": [
    "dict_1 = {'yes':('true'),'no':('False'),'yes/no':'either True or False'}\n",
    "dict_2 = {'okk':'siuu','sasa':'rere'}\n",
    "dict_3 = {'qwe':'QWQ'}\n",
    "dict_2.update(dict_3)\n",
    "dict_1.update(dict_2.update(dict_3))\n",
    "print(dict_1)"
   ]
  },
  {
   "cell_type": "code",
   "execution_count": 60,
   "id": "464bd0ce",
   "metadata": {},
   "outputs": [
    {
     "name": "stdout",
     "output_type": "stream",
     "text": [
      "{'yes': 'true', 'no': 'False', 'yes/no': 'either True or False', 'okk': 'siuu', 'sasa': 'rere', 'qwe': 'QWQ'}\n"
     ]
    }
   ],
   "source": [
    "dict_1 = {'yes':('true'),'no':('False'),'yes/no':'either True or False'}\n",
    "dict_2 = {'okk':'siuu','sasa':'rere'}\n",
    "dict_3 = {'qwe':'QWQ'}\n",
    "dict_2.update(dict_3)\n",
    "dict_1.update(dict_2)\n",
    "print(dict_1)"
   ]
  },
  {
   "cell_type": "markdown",
   "id": "e7fa8254",
   "metadata": {},
   "source": [
    "  ## kwarg method"
   ]
  },
  {
   "cell_type": "code",
   "execution_count": 64,
   "id": "116f1693",
   "metadata": {},
   "outputs": [
    {
     "name": "stdout",
     "output_type": "stream",
     "text": [
      "{'yes': 'true', 'no': 'False', 'yes/no': 'either True or False', 'okk': 'siuu', 'sasa': 'rere'}\n"
     ]
    }
   ],
   "source": [
    "dict_1 = {'yes':('true'),'no':('False'),'yes/no':'either True or False'}\n",
    "dict_2 = {'okk':'siuu','sasa':'rere'}\n",
    "dict_3 = {'qwe':'QWQ'}                                  ####kwarg method\n",
    "super_dict={**dict_1 , **dict_2 , **dict_1 }\n",
    "print(super_dict)"
   ]
  },
  {
   "cell_type": "code",
   "execution_count": 66,
   "id": "4fec713e",
   "metadata": {},
   "outputs": [
    {
     "name": "stdout",
     "output_type": "stream",
     "text": [
      "{'yes': 'true', 'no': 'False', 'yes/no': 'either True or False', 'okk': 'siuu', 'sasa': 'rere'}\n"
     ]
    }
   ],
   "source": [
    "dict_1 = {'yes':('true'),'no':('False'),'yes/no':'either True or False'}\n",
    "dict_2 = {'yes':('true'),'no':('False'),'okk':'siuu','sasa':'rere'}\n",
    "dict_1.update(dict_2)\n",
    "print(dict_1)"
   ]
  },
  {
   "cell_type": "markdown",
   "id": "b1069960",
   "metadata": {},
   "source": [
    "#### checking if key exists in a dict or not"
   ]
  },
  {
   "cell_type": "code",
   "execution_count": 65,
   "id": "84b75b03",
   "metadata": {},
   "outputs": [
    {
     "data": {
      "text/plain": [
       "'False'"
      ]
     },
     "execution_count": 65,
     "metadata": {},
     "output_type": "execute_result"
    }
   ],
   "source": [
    "dict = {'yes':('true'),'no':('False'),'yes/no':'either True or False'}\n",
    "dict.setdefault('no','yes')"
   ]
  },
  {
   "cell_type": "markdown",
   "id": "86793a9d",
   "metadata": {},
   "source": [
    "#### copying dictionaries "
   ]
  },
  {
   "cell_type": "code",
   "execution_count": 6,
   "id": "1edc5064",
   "metadata": {},
   "outputs": [
    {
     "name": "stdout",
     "output_type": "stream",
     "text": [
      "{'yes': 'true', 'no': 'False', 'yes/no': 'either True or False'}\n",
      "2681094477440\n",
      "{'yes': 'true', 'no': 'False', 'yes/no': 'either True or False'}\n",
      "2681094425216\n"
     ]
    }
   ],
   "source": [
    "dict0= {'yes':('true'),'no':('False'),'yes/no':'either True or False'}\n",
    "print(dict0)\n",
    "print(id(dict))\n",
    "dict1=dict0.copy()\n",
    "print(dict1)\n",
    "print(id(dict1))"
   ]
  },
  {
   "cell_type": "code",
   "execution_count": 2,
   "id": "ec1688e1",
   "metadata": {},
   "outputs": [
    {
     "name": "stdout",
     "output_type": "stream",
     "text": [
      "{'yes': 'true', 'no': 'False', 'yes/no': 'either True or False'}\n"
     ]
    }
   ],
   "source": [
    "dict0 = {'yes':('true'),'no':('False'),'yes/no':'either True or False'}\n",
    "dict2= dict (dict0)               #### copy dictionary using dict() CONSTRUCTOR\n",
    "print(dict2)"
   ]
  },
  {
   "cell_type": "code",
   "execution_count": 5,
   "id": "50a8ec45",
   "metadata": {},
   "outputs": [
    {
     "name": "stdout",
     "output_type": "stream",
     "text": [
      "{'yes': 'true', 'no': 'False', 'yes/no': 'either True or False'}\n"
     ]
    }
   ],
   "source": [
    "dict0 = {'yes':('true'),'no':('False'),'yes/no':'either True or False'}\n",
    "dict2= dict (dict0.items())               #### copy dictionary using dict() CONSTRUCTOR\n",
    "print(dict2)"
   ]
  },
  {
   "cell_type": "code",
   "execution_count": 3,
   "id": "bfde2122",
   "metadata": {},
   "outputs": [
    {
     "name": "stdout",
     "output_type": "stream",
     "text": [
      "dict_items([('yes', 'true'), ('no', 'False'), ('yes/no', 'either True or False')])\n"
     ]
    }
   ],
   "source": [
    "dict0 = {'yes':('true'),'no':('False'),'yes/no':'either True or False'}\n",
    "dict2= (dict0.items())               #### copy dictionary using dict() CONSTRUCTOR\n",
    "print(dict2)"
   ]
  },
  {
   "cell_type": "markdown",
   "id": "cc095adc",
   "metadata": {},
   "source": [
    "#### copy using assignment operators "
   ]
  },
  {
   "cell_type": "markdown",
   "id": "4cc5340b",
   "metadata": {},
   "source": [
    "we can simply use line '=' operator to create a copy\n",
    "note: when you set dict2=dict1 then dict 2 acts as a variable pointing towards the same data type dict , for which we used             variable dict 1 before ."
   ]
  },
  {
   "cell_type": "code",
   "execution_count": 30,
   "id": "1e760720",
   "metadata": {},
   "outputs": [
    {
     "name": "stdout",
     "output_type": "stream",
     "text": [
      "{'yes': 'true', 'no': 'False', 'yes/no': 'either True or False'}\n",
      "1778217961088\n",
      "{'yes': 'true', 'no': 'False', 'yes/no': 'either True or False'}\n",
      "1778217961088\n"
     ]
    }
   ],
   "source": [
    "dict0 = {'yes':('true'),'no':('False'),'yes/no':'either True or False'}\n",
    "print(dict0)\n",
    "print(id(dict0))\n",
    "dict1= dict0   \n",
    "print(dict1)\n",
    "print(id(dict1))"
   ]
  },
  {
   "cell_type": "markdown",
   "id": "4276bc88",
   "metadata": {},
   "source": [
    "##### nested dictionary"
   ]
  },
  {
   "cell_type": "code",
   "execution_count": 19,
   "id": "c10efc9d",
   "metadata": {},
   "outputs": [
    {
     "name": "stdout",
     "output_type": "stream",
     "text": [
      "{'keys': 'qwerty', 'sport': ('cricket', 'football', 'badminton'), 'social media': ('instagram', 'facebook'), 'the ogs': {'1st og': 'tupac', '2nd og': 'dr dre'}}\n"
     ]
    }
   ],
   "source": [
    "dict1={'keys':'qwerty','sport':('cricket','football','badminton'),'social media':('instagram','facebook')}\n",
    "dict1.update({'the ogs':{'1st og' : 'tupac','2nd og':'dr dre'}})\n",
    "print(dict1)"
   ]
  },
  {
   "cell_type": "code",
   "execution_count": 21,
   "id": "fddfdb91",
   "metadata": {},
   "outputs": [
    {
     "name": "stdout",
     "output_type": "stream",
     "text": [
      "{'keys': 'qwerty', 'sport': ('cricket', 'football', 'badminton'), 'the ogs': {'1st og': 'tupac', '2nd og': 'dr dre'}}\n"
     ]
    }
   ],
   "source": [
    "dict1={'keys':'qwerty','sport':('cricket','football','badminton')}\n",
    "dict1.update({'the ogs':{'1st og' : 'tupac','2nd og':'dr dre'}})\n",
    "print(dict1)"
   ]
  },
  {
   "cell_type": "code",
   "execution_count": 27,
   "id": "c96155c4",
   "metadata": {},
   "outputs": [
    {
     "data": {
      "text/plain": [
       "{'1st og': 'tupac', '2nd og': 'dr dre'}"
      ]
     },
     "execution_count": 27,
     "metadata": {},
     "output_type": "execute_result"
    }
   ],
   "source": [
    "dict1={'keys':'qwerty','sport':('cricket','football','badminton')}\n",
    "dict1.update({'the ogs':{'1st og' : 'tupac','2nd og':'dr dre'}})\n",
    "dict1.get('the ogs')\n"
   ]
  },
  {
   "cell_type": "code",
   "execution_count": 3,
   "id": "0879b7d0",
   "metadata": {},
   "outputs": [
    {
     "data": {
      "text/plain": [
       "'tupac'"
      ]
     },
     "execution_count": 3,
     "metadata": {},
     "output_type": "execute_result"
    }
   ],
   "source": [
    "dict1={'keys': 'qwerty','the ogs': {'1st og': 'tupac', '2nd og': 'dr dre'}}\n",
    "dict1.get('the ogs').get('1st og')\n"
   ]
  },
  {
   "cell_type": "code",
   "execution_count": 6,
   "id": "063f5fa9",
   "metadata": {},
   "outputs": [
    {
     "name": "stdout",
     "output_type": "stream",
     "text": [
      "None\n"
     ]
    }
   ],
   "source": [
    "dict1={'keys': 'qwerty','the ogs': {'1st og': 'tupac', '2nd og': 'dr dre'}}\n",
    "print(dict1.get('1st og')) # as it has no output and will get no new value , therefore it shows none"
   ]
  },
  {
   "cell_type": "code",
   "execution_count": 10,
   "id": "65abb6fb",
   "metadata": {},
   "outputs": [
    {
     "data": {
      "text/plain": [
       "('a', 'b', 'c', 'd')"
      ]
     },
     "execution_count": 10,
     "metadata": {},
     "output_type": "execute_result"
    }
   ],
   "source": [
    "dict1={'keys': 'qwerty','the ogs': {'1st group of ogs':{'lower level':('a','b','c','d')}, '2nd og group of ogs': 'dr dre'}}\n",
    "dict1.get('the ogs').get('1st group of ogs').get('lower level')\n"
   ]
  },
  {
   "cell_type": "code",
   "execution_count": 12,
   "id": "64059b35",
   "metadata": {},
   "outputs": [
    {
     "name": "stdout",
     "output_type": "stream",
     "text": [
      "{'keys': 'qwerty', 'the ogs': {'1st group of ogs': {'lower level': [12, 'c', 'd']}, '2nd og group of ogs': 'dr dre'}}\n"
     ]
    }
   ],
   "source": [
    "dict1={'keys': 'qwerty','the ogs': {'1st group of ogs':{'lower level':['a','b','c','d']}, '2nd og group of ogs': 'dr dre'}}\n",
    "dict1.get('the ogs').get('1st group of ogs').get('lower level')[0:2]=[12]\n",
    "print(dict1)"
   ]
  },
  {
   "cell_type": "code",
   "execution_count": 16,
   "id": "4f787cda",
   "metadata": {},
   "outputs": [
    {
     "data": {
      "text/plain": [
       "['a', 'b']"
      ]
     },
     "execution_count": 16,
     "metadata": {},
     "output_type": "execute_result"
    }
   ],
   "source": [
    "dict1={'keys': 'qwerty','the ogs': {'1st group of ogs':{'lower level':['a','b','c','d']}, '2nd og group of ogs': 'dr dre'}}\n",
    "dict1.get('the ogs').get('1st group of ogs').get('lower level')[0:2]\n"
   ]
  },
  {
   "cell_type": "code",
   "execution_count": 17,
   "id": "abcebb9c",
   "metadata": {},
   "outputs": [
    {
     "name": "stdout",
     "output_type": "stream",
     "text": [
      "['a', 'b']\n"
     ]
    }
   ],
   "source": [
    "dict1={'keys': 'qwerty','the ogs': {'1st group of ogs':{'lower level':['a','b','c','d']}, '2nd og group of ogs': 'dr dre'}}\n",
    "print(dict1.get('the ogs').get('1st group of ogs').get('lower level')[0:2])"
   ]
  },
  {
   "cell_type": "code",
   "execution_count": 18,
   "id": "4a2f22f7",
   "metadata": {},
   "outputs": [
    {
     "name": "stdout",
     "output_type": "stream",
     "text": [
      "{'keys': 'qwerty', 'the ogs': {'1st group of ogs': {'lower level': ['a', 'b', 'c', 'd', 'h', 'u', 'r', 'r', 'a', 'y', 'y', 'y']}, '2nd og group of ogs': 'dr dre'}}\n"
     ]
    }
   ],
   "source": [
    "dict1={'keys': 'qwerty','the ogs': {'1st group of ogs':{'lower level':['a','b','c','d']}, '2nd og group of ogs': 'dr dre'}}\n",
    "c=dict1.get('the ogs').get('1st group of ogs').get('lower level')\n",
    "c.extend('hurrayyy')\n",
    "print(dict1)"
   ]
  },
  {
   "cell_type": "code",
   "execution_count": 24,
   "id": "faaee79c",
   "metadata": {},
   "outputs": [
    {
     "name": "stdout",
     "output_type": "stream",
     "text": [
      "{'keys': 'qwerty', 'the ogs': {'1st group of ogs': {'lower level': ['a', 'b', 'c', 'd', 'hurrayyy', 'tr']}, '2nd og group of ogs': 'dr dre'}}\n"
     ]
    }
   ],
   "source": [
    "dict1={'keys': 'qwerty','the ogs': {'1st group of ogs':{'lower level':['a','b','c','d']}, '2nd og group of ogs': 'dr dre'}}\n",
    "c=dict1.get('the ogs').get('1st group of ogs').get('lower level')\n",
    "c.extend({'hurrayyy','tr','tr'})\n",
    "print(dict1)"
   ]
  },
  {
   "cell_type": "code",
   "execution_count": 25,
   "id": "880a38b5",
   "metadata": {},
   "outputs": [
    {
     "name": "stdout",
     "output_type": "stream",
     "text": [
      "{'keys': 'qwerty', 'the ogs': {'1st group of ogs': {'lower level': ['a', 'b', 'c', 'd', 'hurrayyy', 'tr', 'tr']}, '2nd og group of ogs': 'dr dre'}}\n"
     ]
    }
   ],
   "source": [
    "dict1={'keys': 'qwerty','the ogs': {'1st group of ogs':{'lower level':['a','b','c','d']}, '2nd og group of ogs': 'dr dre'}}\n",
    "c=dict1.get('the ogs').get('1st group of ogs').get('lower level')\n",
    "c.extend(['hurrayyy','tr','tr'])\n",
    "print(dict1)"
   ]
  },
  {
   "cell_type": "code",
   "execution_count": 1,
   "id": "1fa19713",
   "metadata": {},
   "outputs": [
    {
     "ename": "AttributeError",
     "evalue": "'NoneType' object has no attribute 'extend'",
     "output_type": "error",
     "traceback": [
      "\u001b[1;31m---------------------------------------------------------------------------\u001b[0m",
      "\u001b[1;31mAttributeError\u001b[0m                            Traceback (most recent call last)",
      "Cell \u001b[1;32mIn[1], line 3\u001b[0m\n\u001b[0;32m      1\u001b[0m dict1\u001b[38;5;241m=\u001b[39m{\u001b[38;5;124m'\u001b[39m\u001b[38;5;124mkeys\u001b[39m\u001b[38;5;124m'\u001b[39m: \u001b[38;5;124m'\u001b[39m\u001b[38;5;124mqwerty\u001b[39m\u001b[38;5;124m'\u001b[39m,\u001b[38;5;124m'\u001b[39m\u001b[38;5;124mthe ogs\u001b[39m\u001b[38;5;124m'\u001b[39m: {\u001b[38;5;124m'\u001b[39m\u001b[38;5;124m1st group of ogs\u001b[39m\u001b[38;5;124m'\u001b[39m:{\u001b[38;5;124m'\u001b[39m\u001b[38;5;124mlower level\u001b[39m\u001b[38;5;124m'\u001b[39m:[\u001b[38;5;124m'\u001b[39m\u001b[38;5;124ma\u001b[39m\u001b[38;5;124m'\u001b[39m,\u001b[38;5;124m'\u001b[39m\u001b[38;5;124mb\u001b[39m\u001b[38;5;124m'\u001b[39m,\u001b[38;5;124m'\u001b[39m\u001b[38;5;124mc\u001b[39m\u001b[38;5;124m'\u001b[39m,\u001b[38;5;124m'\u001b[39m\u001b[38;5;124md\u001b[39m\u001b[38;5;124m'\u001b[39m]}, \u001b[38;5;124m'\u001b[39m\u001b[38;5;124m2nd og group of ogs\u001b[39m\u001b[38;5;124m'\u001b[39m: \u001b[38;5;124m'\u001b[39m\u001b[38;5;124mdr dre\u001b[39m\u001b[38;5;124m'\u001b[39m}}\n\u001b[0;32m      2\u001b[0m c\u001b[38;5;241m=\u001b[39mdict1\u001b[38;5;241m.\u001b[39mget(\u001b[38;5;124m'\u001b[39m\u001b[38;5;124mthe ogs\u001b[39m\u001b[38;5;124m'\u001b[39m)\u001b[38;5;241m.\u001b[39mget(\u001b[38;5;124m'\u001b[39m\u001b[38;5;124m1st group of ogs\u001b[39m\u001b[38;5;124m'\u001b[39m)\u001b[38;5;241m.\u001b[39mget(\u001b[38;5;124m'\u001b[39m\u001b[38;5;124mlower level\u001b[39m\u001b[38;5;124m'\u001b[39m)\u001b[38;5;241m.\u001b[39mremove(\u001b[38;5;124m'\u001b[39m\u001b[38;5;124ma\u001b[39m\u001b[38;5;124m'\u001b[39m)\n\u001b[1;32m----> 3\u001b[0m \u001b[43mc\u001b[49m\u001b[38;5;241;43m.\u001b[39;49m\u001b[43mextend\u001b[49m([\u001b[38;5;124m'\u001b[39m\u001b[38;5;124mhurrayyy\u001b[39m\u001b[38;5;124m'\u001b[39m,\u001b[38;5;124m'\u001b[39m\u001b[38;5;124mtr\u001b[39m\u001b[38;5;124m'\u001b[39m,\u001b[38;5;124m'\u001b[39m\u001b[38;5;124mtr\u001b[39m\u001b[38;5;124m'\u001b[39m])\n\u001b[0;32m      4\u001b[0m \u001b[38;5;28mprint\u001b[39m(dict1)\n",
      "\u001b[1;31mAttributeError\u001b[0m: 'NoneType' object has no attribute 'extend'"
     ]
    }
   ],
   "source": [
    "dict1={'keys': 'qwerty','the ogs': {'1st group of ogs':{'lower level':['a','b','c','d']}, '2nd og group of ogs': 'dr dre'}}\n",
    "c=dict1.get('the ogs').get('1st group of ogs').get('lower level').remove('a')\n",
    "c.extend(['hurrayyy','tr','tr'])\n",
    "print(dict1)"
   ]
  },
  {
   "cell_type": "code",
   "execution_count": null,
   "id": "80166b08",
   "metadata": {},
   "outputs": [],
   "source": []
  }
 ],
 "metadata": {
  "kernelspec": {
   "display_name": "Python 3 (ipykernel)",
   "language": "python",
   "name": "python3"
  },
  "language_info": {
   "codemirror_mode": {
    "name": "ipython",
    "version": 3
   },
   "file_extension": ".py",
   "mimetype": "text/x-python",
   "name": "python",
   "nbconvert_exporter": "python",
   "pygments_lexer": "ipython3",
   "version": "3.10.9"
  }
 },
 "nbformat": 4,
 "nbformat_minor": 5
}
