{
 "cells": [
  {
   "cell_type": "code",
   "execution_count": 2,
   "id": "620b77f9",
   "metadata": {},
   "outputs": [],
   "source": [
    "\n",
    "def rest(a,b):\n",
    "    x=a*b\n",
    "    \n",
    "    print()\n",
    "\n",
    "    "
   ]
  },
  {
   "cell_type": "code",
   "execution_count": null,
   "id": "0971e532",
   "metadata": {},
   "outputs": [],
   "source": [
    "b=[1,4,5,6]\n",
    "\n",
    "    \n",
    "print()\n",
    "\n",
    "    \n",
    "    \n"
   ]
  },
  {
   "cell_type": "code",
   "execution_count": null,
   "id": "9d2d12d0",
   "metadata": {},
   "outputs": [],
   "source": []
  }
 ],
 "metadata": {
  "kernelspec": {
   "display_name": "Python 3 (ipykernel)",
   "language": "python",
   "name": "python3"
  },
  "language_info": {
   "codemirror_mode": {
    "name": "ipython",
    "version": 3
   },
   "file_extension": ".py",
   "mimetype": "text/x-python",
   "name": "python",
   "nbconvert_exporter": "python",
   "pygments_lexer": "ipython3",
   "version": "3.10.9"
  }
 },
 "nbformat": 4,
 "nbformat_minor": 5
}
