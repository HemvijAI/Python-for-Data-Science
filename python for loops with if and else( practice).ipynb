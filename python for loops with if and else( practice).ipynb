{
 "cells": [
  {
   "cell_type": "code",
   "execution_count": 1,
   "id": "501a8773",
   "metadata": {},
   "outputs": [
    {
     "name": "stdout",
     "output_type": "stream",
     "text": [
      "numbers smaller than 6\n",
      "numbers smaller than 6\n",
      "numbers smaller than 6\n",
      "numbers smaller than 6\n",
      "numbers smaller than 6\n",
      "numbers smaller than 6\n",
      "numbers greater than 6\n",
      "numbers greater than 6\n",
      "numbers greater than 6\n",
      "numbers greater than 6\n",
      "numbers greater than 6\n",
      "numbers greater than 6\n",
      "numbers greater than 6\n",
      "numbers greater than 6\n",
      "numbers greater than 6\n",
      "numbers greater than 6\n",
      "numbers greater than 6\n",
      "numbers greater than 6\n"
     ]
    }
   ],
   "source": [
    "list1=[1,2,3,4,5,6,7,8,9,10,11,12,13,14,15,16,17,18]\n",
    "for i in list1:\n",
    "    if i>6:\n",
    "        print('numbers greater than 6')\n",
    "    else:\n",
    "        print('numbers smaller than 6')"
   ]
  },
  {
   "cell_type": "code",
   "execution_count": 3,
   "id": "c0cadaaf",
   "metadata": {},
   "outputs": [
    {
     "name": "stdout",
     "output_type": "stream",
     "text": [
      "numbers smaller than 6\n",
      "numbers smaller than 6\n",
      "numbers smaller than 6\n",
      "numbers smaller than 6\n",
      "numbers smaller than 6\n",
      "numbers smaller than 6\n",
      "numbers greater than 6\n",
      "numbers greater than 6\n",
      "numbers greater than 6\n",
      "numbers greater than 6\n",
      "numbers greater than 6\n",
      "numbers greater than 6\n",
      "numbers greater than 6\n",
      "numbers greater than 6\n",
      "numbers greater than 6\n",
      "numbers greater than 6\n",
      "numbers greater than 6\n",
      "numbers greater than 6\n",
      "[7, 8, 9, 10, 11, 12, 13, 14, 15, 16, 17, 18]\n",
      "[1, 2, 3, 4, 5, 6]\n"
     ]
    }
   ],
   "source": [
    "list1=[1,2,3,4,5,6,7,8,9,10,11,12,13,14,15,16,17,18]\n",
    "a=[]\n",
    "b=[]\n",
    "for i in list1:\n",
    "    if i>6:\n",
    "        print('numbers greater than 6')\n",
    "        a.append(i)\n",
    "    else:\n",
    "        print('numbers smaller than 6')\n",
    "        b.append(i)\n",
    "print(a)\n",
    "print(b)"
   ]
  },
  {
   "cell_type": "code",
   "execution_count": 4,
   "id": "f06e0c8a",
   "metadata": {},
   "outputs": [
    {
     "name": "stdout",
     "output_type": "stream",
     "text": [
      "[7, 8, 9, 10, 11, 12, 13, 14, 15, 16, 17, 18]\n",
      "[1, 2, 3, 4, 5, 6]\n"
     ]
    }
   ],
   "source": [
    "list1=[1,2,3,4,5,6,7,8,9,10,11,12,13,14,15,16,17,18]\n",
    "a=[]\n",
    "b=[]\n",
    "for i in list1:\n",
    "    if i>6:\n",
    "        a.append(i)\n",
    "    else:\n",
    "        b.append(i)\n",
    "print(a)\n",
    "print(b)"
   ]
  },
  {
   "cell_type": "code",
   "execution_count": 16,
   "id": "8e121051",
   "metadata": {},
   "outputs": [
    {
     "name": "stdout",
     "output_type": "stream",
     "text": [
      "['sda', 'adad']\n",
      "[1, 2, 3, 4, 5, 6, 7, 8, 9, 10, 11, 12, 13, 14, 15.1, 16.2, 17, 18]\n",
      "[]\n"
     ]
    }
   ],
   "source": [
    "list1=[1,'sda','adad',2,3,4,5,6,7,8,9,10,11,12,13,14,15.1,16.2,17,18]\n",
    "a=[]\n",
    "b=[]\n",
    "c=[]\n",
    "for i in list1:\n",
    "    if type(i)==str:\n",
    "        a.append(i)\n",
    "        if type(i)==float:\n",
    "            c.append(i)\n",
    "        \n",
    "    else:\n",
    "        b.append(i)\n",
    "print(a)\n",
    "print(b) \n",
    "print(c)"
   ]
  },
  {
   "cell_type": "code",
   "execution_count": 21,
   "id": "63fa7382",
   "metadata": {},
   "outputs": [
    {
     "name": "stdout",
     "output_type": "stream",
     "text": [
      "[15.1, 16.2]\n",
      "[18]\n",
      "[]\n"
     ]
    }
   ],
   "source": [
    "list1=[1,'sda','adad',2,3,4,5,6,7,8,9,10,11,12,13,14,15.1,16.2,17,18]\n",
    "a=[]\n",
    "b=[]\n",
    "c=[]\n",
    "for i in list1:\n",
    "    if type(i)==float:\n",
    "        a.append(i)\n",
    "        if type(i)==str:\n",
    "            c.append(i)\n",
    "        \n",
    "else:\n",
    "        b.append(i)\n",
    "print(a)\n",
    "print(b) \n",
    "print(c)"
   ]
  },
  {
   "cell_type": "code",
   "execution_count": 22,
   "id": "5044601c",
   "metadata": {},
   "outputs": [
    {
     "name": "stdout",
     "output_type": "stream",
     "text": [
      "[15.1, 16.2]\n",
      "[1, 'sda', 'adad', 2, 3, 4, 5, 6, 7, 8, 9, 10, 11, 12, 13, 14, 17, 18]\n",
      "[]\n"
     ]
    }
   ],
   "source": [
    "list1=[1,'sda','adad',2,3,4,5,6,7,8,9,10,11,12,13,14,15.1,16.2,17,18]\n",
    "a=[]\n",
    "b=[]\n",
    "c=[]\n",
    "for i in list1:\n",
    "    if type(i)==float:\n",
    "        a.append(i)\n",
    "        if type(i)==str:\n",
    "            c.append(i)\n",
    "        \n",
    "    else:\n",
    "        b.append(i)\n",
    "print(a)\n",
    "print(b) \n",
    "print(c)"
   ]
  },
  {
   "cell_type": "code",
   "execution_count": 25,
   "id": "106d2e2a",
   "metadata": {},
   "outputs": [
    {
     "name": "stdout",
     "output_type": "stream",
     "text": [
      "[15.1, 16.2]\n",
      "[1, 'sda', 'adad', 2, 3, 4, 5, 6, 7, 8, 9, 10, 11, 12, 13, 14, 17, 18]\n",
      "[15.1, 16.2]\n"
     ]
    }
   ],
   "source": [
    "list1=[1,'sda','adad',2,3,4,5,6,7,8,9,10,11,12,13,14,15.1,16.2,17,18]\n",
    "a=[]\n",
    "b=[]\n",
    "c=[]\n",
    "for i in list1:\n",
    "    if type(i)==float:\n",
    "        a.append(i)\n",
    "        type(i)==str\n",
    "        c.append(i)\n",
    "        \n",
    "    else:\n",
    "        b.append(i)\n",
    "print(a)\n",
    "print(b) \n",
    "print(c)"
   ]
  },
  {
   "cell_type": "code",
   "execution_count": 20,
   "id": "dec91330",
   "metadata": {},
   "outputs": [
    {
     "name": "stdout",
     "output_type": "stream",
     "text": [
      "[15.1, 16.2]\n",
      "[1, 'sda', 'adad', 2, 3, 4, 5, 6, 7, 8, 9, 10, 11, 12, 13, 14, 17, 18]\n",
      "[]\n"
     ]
    }
   ],
   "source": [
    "list1=[1,'sda','adad',2,3,4,5,6,7,8,9,10,11,12,13,14,15.1,16.2,17,18]\n",
    "a=[]\n",
    "b=[]\n",
    "c=[]\n",
    "for i in list1:\n",
    "    if type(i)==float:\n",
    "        a.append(i)\n",
    "    else :\n",
    "        b.append(i)\n",
    "print(a)\n",
    "for a in b :\n",
    "    if type(a)==\n",
    "print(c)"
   ]
  },
  {
   "cell_type": "code",
   "execution_count": 30,
   "id": "a3b549f4",
   "metadata": {},
   "outputs": [
    {
     "name": "stdout",
     "output_type": "stream",
     "text": [
      "table of: 2\n",
      "2,4,6,8,10,12,14,16,18,20,"
     ]
    }
   ],
   "source": [
    "x=[1,2,3,4,5,6,7,8,9,10]\n",
    "number=int(input('table of: '))\n",
    "for i in x:\n",
    "    print(number*i,end=',')"
   ]
  },
  {
   "cell_type": "code",
   "execution_count": 33,
   "id": "c928f71d",
   "metadata": {},
   "outputs": [
    {
     "name": "stdout",
     "output_type": "stream",
     "text": [
      "table of: 2\n",
      "2 x 1 = 2\n",
      "2 x 2 = 4\n",
      "2 x 3 = 6\n",
      "2 x 4 = 8\n",
      "2 x 5 = 10\n",
      "2 x 6 = 12\n",
      "2 x 7 = 14\n",
      "2 x 8 = 16\n",
      "2 x 9 = 18\n",
      "2 x 10 = 20\n"
     ]
    }
   ],
   "source": [
    "x=[1,2,3,4,5,6,7,8,9,10]\n",
    "number=int(input('table of: '))\n",
    "for i in x:\n",
    "    print(number,'x',i,'=',number*i)"
   ]
  },
  {
   "cell_type": "code",
   "execution_count": null,
   "id": "7b8672e7",
   "metadata": {},
   "outputs": [],
   "source": [
    "list1=[1,'sda','adad',2,3,4,5,6,7,8,9,10,11,12,13,14,15.1,16.2,17,18]\n",
    "a=[]\n",
    "b=[]\n",
    "c=[]\n",
    "for i in list1:\n",
    "    if type(i)==float,len(i):\n",
    "        a.append(i)\n",
    "        if type(i)==str:\n",
    "            c.append(i)\n",
    "        \n",
    "    else:\n",
    "        b.append(i)\n",
    "print(a)\n",
    "print(b) \n",
    "print(c)"
   ]
  },
  {
   "cell_type": "code",
   "execution_count": 39,
   "id": "61a8dc87",
   "metadata": {},
   "outputs": [
    {
     "name": "stdout",
     "output_type": "stream",
     "text": [
      "[100, 10, 43, 20, 55, 56, 'Raj']\n",
      "[10, 55]\n"
     ]
    }
   ],
   "source": [
    "my_list=[10,55,20,10,55,\"Raj\",10,55,100,55,10,10,43,56,55,10,10,55]\n",
    "list_with_no_duplicates=list(set(my_list))\n",
    "print(list_with_no_duplicates)\n",
    "new_list=[]\n",
    "for x in my_list:\n",
    "    if my_list.count(x)>1:\n",
    "        new_list.append(x)\n",
    "repeating_element_list=list(set(new_list))\n",
    "print(repeating_element_list)\n",
    "\n",
    "        "
   ]
  },
  {
   "cell_type": "code",
   "execution_count": 9,
   "id": "e4c034e8",
   "metadata": {},
   "outputs": [
    {
     "name": "stdout",
     "output_type": "stream",
     "text": [
      "[100, 10, 43, 20, 55, 56, 'Raj']\n",
      "[10, 55]\n",
      "duplicates of number:55\n",
      "number of dupliate: 6\n"
     ]
    }
   ],
   "source": [
    "my_list=[10,55,20,10,55,\"Raj\",10,55,100,55,10,10,43,56,55,10,10,55]\n",
    "list_with_no_duplicates=list(set(my_list))\n",
    "print(list_with_no_duplicates)\n",
    "new_list=[]\n",
    "for x in my_list:\n",
    "    if my_list.count(x)>1:\n",
    "        new_list.append(x)\n",
    "repeating_element_list=list(set(new_list))\n",
    "print(repeating_element_list)\n",
    "x=int(input('duplicates of number:'))\n",
    "print('number of dupliate:',new_list.count(x))"
   ]
  },
  {
   "cell_type": "code",
   "execution_count": null,
   "id": "0f028d70",
   "metadata": {},
   "outputs": [],
   "source": [
    "list1=[1,'sda','adad',2,3,4,5,6,7,8,9,10,11,12,13,14,15.1,16.2,17,18]\n",
    "a=[]\n",
    "b=[]\n",
    "c=[]\n",
    "for i in list1:\n",
    "    if type(i)==float:\n",
    "        a.append(i)\n",
    "    else:\n",
    "        b.append(i)\n",
    "for i in list1:\n",
    "    if type(i)==str:\n",
    "print(a)\n",
    "print(b) \n",
    "print(c)"
   ]
  },
  {
   "cell_type": "markdown",
   "id": "49b1e1d5",
   "metadata": {},
   "source": [
    "Make a list and it should contain both strings and integers.Make a program so that it forms a separate list for strings and integers also it forms a separate list for strings whose length is >5.Also it forms a separate list for even numbers"
   ]
  },
  {
   "cell_type": "code",
   "execution_count": 2,
   "id": "c3bc67c3",
   "metadata": {
    "scrolled": true
   },
   "outputs": [
    {
     "name": "stdout",
     "output_type": "stream",
     "text": [
      "['21211212', '1312', '133131232']\n",
      "[1, 2, 3, 4, 5, 6]\n",
      "['21211212', '133131232']\n",
      "[2, 4, 6]\n"
     ]
    }
   ],
   "source": [
    "y=[1,2,3,4,5,6,'21211212','1312','133131232']\n",
    "z=[]\n",
    "a=[]\n",
    "b=[]\n",
    "c=[]\n",
    "for x in y:\n",
    "    if type(x)==str:\n",
    "        z.append(x)\n",
    "    else:\n",
    "        a.append(x)\n",
    "print(z)\n",
    "print(a)\n",
    "af=[]\n",
    "for pa in z:\n",
    "    if len(pa)>5:\n",
    "        af.append(pa)\n",
    "print(af)\n",
    "kad=[]\n",
    "for g in a:\n",
    "    if g%2==0:\n",
    "        kad.append(g)\n",
    "print(kad)    "
   ]
  },
  {
   "cell_type": "code",
   "execution_count": 17,
   "id": "bb4c8282",
   "metadata": {},
   "outputs": [
    {
     "name": "stdout",
     "output_type": "stream",
     "text": [
      "['21211212', '1312', '133131232']\n",
      "[1, 2, 3, 4, 5, 6]\n",
      "['21211212', '133131232']\n",
      "[2, 4, 6]\n"
     ]
    }
   ],
   "source": [
    "y=[1,2,3,4,5,6,'21211212','1312','133131232']\n",
    "z=[]\n",
    "a=[]\n",
    "b=[]\n",
    "c=[]\n",
    "for x in y:\n",
    "    if type(x)==str:\n",
    "        z.append(x)\n",
    "    else:\n",
    "        a.append(x)\n",
    "print(z)\n",
    "print(a)\n",
    "af=[]\n",
    "for pa in z:\n",
    "    if len(pa)>5:\n",
    "        af.append(pa)\n",
    "print(af)\n",
    "kad=[]\n",
    "for g in a:\n",
    "    if g%2==0:\n",
    "        kad.append(g)\n",
    "print(kad)    \n",
    "   \n",
    "    \n",
    "    "
   ]
  },
  {
   "cell_type": "code",
   "execution_count": 79,
   "id": "6bb6f14d",
   "metadata": {},
   "outputs": [
    {
     "data": {
      "text/plain": [
       "0"
      ]
     },
     "execution_count": 79,
     "metadata": {},
     "output_type": "execute_result"
    }
   ],
   "source": [
    "44%2"
   ]
  },
  {
   "cell_type": "code",
   "execution_count": 3,
   "id": "fa418b5d",
   "metadata": {},
   "outputs": [
    {
     "data": {
      "text/plain": [
       "1"
      ]
     },
     "execution_count": 3,
     "metadata": {},
     "output_type": "execute_result"
    }
   ],
   "source": [
    "3%2\n"
   ]
  },
  {
   "cell_type": "code",
   "execution_count": 8,
   "id": "8b8a72da",
   "metadata": {},
   "outputs": [
    {
     "data": {
      "text/plain": [
       "1"
      ]
     },
     "execution_count": 8,
     "metadata": {},
     "output_type": "execute_result"
    }
   ],
   "source": [
    "int(1.8)"
   ]
  },
  {
   "cell_type": "code",
   "execution_count": 30,
   "id": "5f62c4f7",
   "metadata": {},
   "outputs": [
    {
     "name": "stdout",
     "output_type": "stream",
     "text": [
      "[2, 3, 4, 23, 41, 4, 1]\n"
     ]
    }
   ],
   "source": [
    "list=[1,1,1,1,1,1,1,1,2,3,4,1,23,41,1,1,1,4,1] \n",
    "for a in list:\n",
    "    if a==1:\n",
    "        list.remove(a)\n",
    "        list.remove(a)\n",
    "        list.remove(a)\n",
    "        \n",
    "print(list)\n"
   ]
  },
  {
   "cell_type": "code",
   "execution_count": 13,
   "id": "7576b705",
   "metadata": {},
   "outputs": [
    {
     "ename": "IndentationError",
     "evalue": "expected an indented block after 'for' statement on line 4 (289401739.py, line 6)",
     "output_type": "error",
     "traceback": [
      "\u001b[1;36m  Cell \u001b[1;32mIn[13], line 6\u001b[1;36m\u001b[0m\n\u001b[1;33m    print(listb)\u001b[0m\n\u001b[1;37m                    ^\u001b[0m\n\u001b[1;31mIndentationError\u001b[0m\u001b[1;31m:\u001b[0m expected an indented block after 'for' statement on line 4\n"
     ]
    }
   ],
   "source": [
    "lista=['suryansh','neeraj','ayush','shailja','pawan']\n",
    "listb=[]\n",
    "for i in lista:\n",
    "    for x in i:\n",
    "print(listb)    "
   ]
  },
  {
   "cell_type": "code",
   "execution_count": 6,
   "id": "771e5f7f",
   "metadata": {},
   "outputs": [
    {
     "data": {
      "text/plain": [
       "True"
      ]
     },
     "execution_count": 6,
     "metadata": {},
     "output_type": "execute_result"
    }
   ],
   "source": [
    "'suryansh'>'neeraj'"
   ]
  },
  {
   "cell_type": "code",
   "execution_count": 16,
   "id": "cfc296bf",
   "metadata": {},
   "outputs": [
    {
     "name": "stdout",
     "output_type": "stream",
     "text": [
      "number1:20\n",
      "number2:10\n",
      "division: 2.0\n",
      "multiplication: 200\n",
      "addition: 30\n",
      "subtraction 10\n"
     ]
    }
   ],
   "source": [
    "x=int(input('number1:'))\n",
    "y=int(input('number2:'))\n",
    "a=x/y\n",
    "print('division:',a)\n",
    "b=x*y\n",
    "print('multiplication:',b)\n",
    "c=x+y\n",
    "print('addition:',c)\n",
    "d=x-y\n",
    "print('subtraction',d)"
   ]
  },
  {
   "cell_type": "code",
   "execution_count": 1,
   "id": "aafd90bc",
   "metadata": {},
   "outputs": [
    {
     "name": "stdout",
     "output_type": "stream",
     "text": [
      "number1:10\n",
      "number2:10\n",
      "-\n",
      "10 10\n"
     ]
    }
   ],
   "source": [
    "x=int(input('number1:'))\n",
    "y=int(input('number2:'))\n",
    "if input('-'):\n",
    "    print(x+y)\n",
    "else:\n",
    "    print(x,y)"
   ]
  },
  {
   "cell_type": "code",
   "execution_count": null,
   "id": "38b121b4",
   "metadata": {},
   "outputs": [],
   "source": [
    "x=int(input('number1:'))\n",
    "y=int(input('number2:'))\n",
    "if print(input('+')):\n",
    "    print(x+y)\n",
    "elif print(input('-')):\n",
    "    print(x-y)\n",
    "elif print(input('*')):\n",
    "    print(x*y)\n",
    "elif print(input('/')):\n",
    "    print(x/y)"
   ]
  },
  {
   "cell_type": "code",
   "execution_count": null,
   "id": "e7853a26",
   "metadata": {},
   "outputs": [],
   "source": [
    "x=int(input('number1:'))\n",
    "y=int(input('number2:'))\n",
    "if input('+'):\n",
    "    print(x+y)\n",
    "elif input('-'):\n",
    "    print(x-y)\n",
    "elif print(input(x*y)):\n",
    "    print(x*y)\n",
    "elif print(input('/')):\n",
    "    print(x/y)\n",
    "else:\n",
    "    print('no need to print')"
   ]
  },
  {
   "cell_type": "code",
   "execution_count": null,
   "id": "66532a13",
   "metadata": {},
   "outputs": [],
   "source": [
    "x=int(input('number1:'))"
   ]
  },
  {
   "cell_type": "code",
   "execution_count": 13,
   "id": "0199d75f",
   "metadata": {},
   "outputs": [
    {
     "name": "stdout",
     "output_type": "stream",
     "text": [
      "number1:2\n",
      "number2:32\n",
      "calculate-2\n",
      "add-2\n",
      "34\n",
      "subt-2\n",
      "-30\n",
      "div-2\n",
      "0.0625\n",
      "mult-2\n",
      "64\n"
     ]
    }
   ],
   "source": [
    "x=int(input('number1:'))\n",
    "y=int(input('number2:'))\n",
    "if input('calculate-'):\n",
    "    if input('add-'):\n",
    "        print(x+y)\n",
    "    if input('subt-'):\n",
    "        print(x-y)\n",
    "    if input('div-'):\n",
    "        print(x/y)\n",
    "    if input('mult-'):\n",
    "        print(x*y)\n",
    "    else:\n",
    "        print('no need to calculate')"
   ]
  },
  {
   "cell_type": "code",
   "execution_count": 12,
   "id": "c5020880",
   "metadata": {},
   "outputs": [
    {
     "name": "stdout",
     "output_type": "stream",
     "text": [
      "true\n",
      "true\n",
      "true\n",
      "true\n",
      "true\n"
     ]
    }
   ],
   "source": [
    "lista=['suryansh','neeraj','ayush','shailja','pawan']\n",
    "listb=[]\n",
    "for i in lista:\n",
    "    if i>=i:\n",
    "        print('true')\n",
    "        \n",
    " "
   ]
  },
  {
   "cell_type": "code",
   "execution_count": null,
   "id": "93b144b3",
   "metadata": {},
   "outputs": [],
   "source": [
    "x=int(input('number1:'))\n",
    "y=int(input('number2:'))\n",
    "if input('calculate-'):\n",
    "    if input('add-'):\n",
    "        print(x+y)\n",
    "    if input('subt-'):\n",
    "        print(x-y)\n",
    "    if input('div-'):\n",
    "        print(x/y)\n",
    "    if input('mult-'):\n",
    "        print(x*y)\n",
    "    else:\n",
    "        print('no need to calculate')"
   ]
  },
  {
   "cell_type": "code",
   "execution_count": 6,
   "id": "37cba9f6",
   "metadata": {},
   "outputs": [
    {
     "name": "stdout",
     "output_type": "stream",
     "text": [
      "number1:12\n",
      "number2:12\n",
      "calculate-do it\n",
      "add-do it\n",
      "24\n",
      "subt-do it\n",
      "0\n",
      "div-do it\n",
      "1.0\n",
      "mult-do it\n",
      "144\n"
     ]
    }
   ],
   "source": [
    "x=int(input('number1:'))\n",
    "y=int(input('number2:'))\n",
    "if input('calculate-'):\n",
    "    if input('add-'):\n",
    "        print(x+y)\n",
    "    else: \n",
    "        input('moving to next one')    \n",
    "    if input('subt-'):\n",
    "        print(x-y)\n",
    "    if input('div-'):\n",
    "        print(x/y)\n",
    "    if input('mult-'):\n",
    "        print(x*y)\n",
    "    else:\n",
    "        print('no need to calculate')"
   ]
  },
  {
   "cell_type": "code",
   "execution_count": null,
   "id": "cabf6a30",
   "metadata": {},
   "outputs": [],
   "source": [
    "if int(input(x*y))\n",
    "   print(multiplied)\n",
    "elif int()   "
   ]
  },
  {
   "cell_type": "code",
   "execution_count": 16,
   "id": "971b4b6f",
   "metadata": {},
   "outputs": [
    {
     "name": "stdout",
     "output_type": "stream",
     "text": [
      "asa\n"
     ]
    },
    {
     "ename": "ValueError",
     "evalue": "invalid literal for int() with base 10: ''",
     "output_type": "error",
     "traceback": [
      "\u001b[1;31m---------------------------------------------------------------------------\u001b[0m",
      "\u001b[1;31mValueError\u001b[0m                                Traceback (most recent call last)",
      "Cell \u001b[1;32mIn[16], line 1\u001b[0m\n\u001b[1;32m----> 1\u001b[0m x\u001b[38;5;241m=\u001b[39m\u001b[38;5;28;43mint\u001b[39;49m\u001b[43m(\u001b[49m\u001b[38;5;28;43minput\u001b[39;49m\u001b[43m(\u001b[49m\u001b[38;5;124;43m'\u001b[39;49m\u001b[38;5;124;43masa\u001b[39;49m\u001b[38;5;124;43m'\u001b[39;49m\u001b[43m)\u001b[49m\u001b[43m)\u001b[49m\n",
      "\u001b[1;31mValueError\u001b[0m: invalid literal for int() with base 10: ''"
     ]
    }
   ],
   "source": [
    "x=int(input('asa'))\n"
   ]
  },
  {
   "cell_type": "code",
   "execution_count": null,
   "id": "c7230a67",
   "metadata": {},
   "outputs": [],
   "source": [
    "x=[int(input('number'))]\n",
    "for a in x,y:\n",
    "    if input('multiply'):\n",
    "        print(a)\n"
   ]
  },
  {
   "cell_type": "code",
   "execution_count": 1,
   "id": "1a498ae4",
   "metadata": {},
   "outputs": [
    {
     "name": "stdout",
     "output_type": "stream",
     "text": [
      " enter first number12\n",
      "enter second number13\n"
     ]
    }
   ],
   "source": [
    "first_number = input(\" enter first number\")\n",
    "second_number = input(\"enter second number\")"
   ]
  },
  {
   "cell_type": "code",
   "execution_count": 1,
   "id": "c6f87657",
   "metadata": {},
   "outputs": [
    {
     "name": "stdout",
     "output_type": "stream",
     "text": [
      "GENERAL CALCULATOR\n",
      "enter 1st no.12\n",
      "enter 2nd no.12\n",
      "calculate1\n"
     ]
    },
    {
     "ename": "TypeError",
     "evalue": "argument of type 'float' is not iterable",
     "output_type": "error",
     "traceback": [
      "\u001b[1;31m---------------------------------------------------------------------------\u001b[0m",
      "\u001b[1;31mTypeError\u001b[0m                                 Traceback (most recent call last)",
      "Cell \u001b[1;32mIn[1], line 4\u001b[0m\n\u001b[0;32m      2\u001b[0m a\u001b[38;5;241m=\u001b[39m\u001b[38;5;28mfloat\u001b[39m(\u001b[38;5;28minput\u001b[39m(\u001b[38;5;124m'\u001b[39m\u001b[38;5;124menter 1st no.\u001b[39m\u001b[38;5;124m'\u001b[39m))\n\u001b[0;32m      3\u001b[0m b\u001b[38;5;241m=\u001b[39m\u001b[38;5;28mfloat\u001b[39m(\u001b[38;5;28minput\u001b[39m(\u001b[38;5;124m'\u001b[39m\u001b[38;5;124menter 2nd no.\u001b[39m\u001b[38;5;124m'\u001b[39m))\n\u001b[1;32m----> 4\u001b[0m \u001b[38;5;28;01mif\u001b[39;00m \u001b[38;5;124;43m'\u001b[39;49m\u001b[38;5;124;43m/\u001b[39;49m\u001b[38;5;124;43m'\u001b[39;49m\u001b[43m \u001b[49m\u001b[38;5;129;43;01min\u001b[39;49;00m\u001b[43m \u001b[49m\u001b[38;5;28;43mfloat\u001b[39;49m\u001b[43m(\u001b[49m\u001b[38;5;28;43minput\u001b[39;49m\u001b[43m(\u001b[49m\u001b[38;5;124;43m'\u001b[39;49m\u001b[38;5;124;43mcalculate\u001b[39;49m\u001b[38;5;124;43m'\u001b[39;49m\u001b[43m)\u001b[49m\u001b[43m)\u001b[49m:\n\u001b[0;32m      5\u001b[0m     \u001b[38;5;28mprint\u001b[39m(a\u001b[38;5;241m+\u001b[39mb)\n\u001b[0;32m      6\u001b[0m \u001b[38;5;28;01melif\u001b[39;00m \u001b[38;5;124m'\u001b[39m\u001b[38;5;124m-\u001b[39m\u001b[38;5;124m'\u001b[39m \u001b[38;5;129;01min\u001b[39;00m \u001b[38;5;28mfloat\u001b[39m(\u001b[38;5;28minput\u001b[39m(\u001b[38;5;124m'\u001b[39m\u001b[38;5;124mcalculate-\u001b[39m\u001b[38;5;124m'\u001b[39m)):\n",
      "\u001b[1;31mTypeError\u001b[0m: argument of type 'float' is not iterable"
     ]
    }
   ],
   "source": [
    "print('GENERAL CALCULATOR')\n",
    "a=float(input('enter 1st no.'))\n",
    "b=float(input('enter 2nd no.'))\n",
    "if '/' in float(input('calculate')):\n",
    "    print(a+b)\n",
    "elif '-' in float(input('calculate-')):\n",
    "    print(a-b)\n",
    "elif '*' in float(input('calculate')):\n",
    "    print(a*b)\n",
    "else:\n",
    "    print('no')"
   ]
  },
  {
   "cell_type": "code",
   "execution_count": null,
   "id": "b5979962",
   "metadata": {},
   "outputs": [],
   "source": [
    "print('GENERAL CALCULATOR')\n",
    "a=float(input('enter 1st no.'))\n",
    "b=float(input('enter 2nd no.'))\n",
    "if '/' in float(input('calculate')):\n",
    "    print(a+b)\n",
    "elif '-' in float(input('calculate-')):\n",
    "    print(a-b)\n",
    "elif '*' in float(input('calculate')):\n",
    "    print(a*b)\n",
    "else:\n",
    "    print('no')"
   ]
  },
  {
   "cell_type": "code",
   "execution_count": 2,
   "id": "994607fa",
   "metadata": {},
   "outputs": [
    {
     "ename": "SyntaxError",
     "evalue": "cannot assign to literal here. Maybe you meant '==' instead of '='? (820047887.py, line 4)",
     "output_type": "error",
     "traceback": [
      "\u001b[1;36m  Cell \u001b[1;32mIn[2], line 4\u001b[1;36m\u001b[0m\n\u001b[1;33m    1=a+b\u001b[0m\n\u001b[1;37m    ^\u001b[0m\n\u001b[1;31mSyntaxError\u001b[0m\u001b[1;31m:\u001b[0m cannot assign to literal here. Maybe you meant '==' instead of '='?\n"
     ]
    }
   ],
   "source": [
    "print('GENERAL CALCULATOR')\n",
    "a=float(input('enter 1st no.'))\n",
    "b=float(input('enter 2nd no.'))\n",
    "1=a+b\n",
    "2=a-b\n",
    "3=a*b\n",
    "4=a/b\n",
    "if float(input('add'):\n",
    "    print(1)\n",
    "elif '-' in float(input('calculate-')):\n",
    "    print(a-b)\n",
    "elif '*' in float(input('calculate')):\n",
    "    print(a*b)\n",
    "else:\n",
    "    print('no')"
   ]
  },
  {
   "cell_type": "code",
   "execution_count": 1,
   "id": "27d20178",
   "metadata": {},
   "outputs": [
    {
     "name": "stdout",
     "output_type": "stream",
     "text": [
      "GENERAL CALCULATOR\n",
      "enter 1st no.11\n",
      "enter 2nd no.12\n",
      "add\n",
      "subtract\n",
      "multiply\n",
      "divideg\n",
      "0.9166666666666666\n"
     ]
    }
   ],
   "source": [
    "print('GENERAL CALCULATOR')\n",
    "a=float(input('enter 1st no.'))\n",
    "b=float(input('enter 2nd no.'))\n",
    "a1=a+b\n",
    "b2nd=a-b\n",
    "c3rd=a*b\n",
    "d4th=a/b\n",
    "if input('add'):\n",
    "    print(a1)\n",
    "elif input('subtract'):\n",
    "    print(b2nd)\n",
    "elif input('multiply'):\n",
    "    print(c3rd)\n",
    "elif input('divide'):\n",
    "     print(d4th)  \n",
    "else:\n",
    "    print('s')  \n",
    "        "
   ]
  },
  {
   "cell_type": "code",
   "execution_count": 12,
   "id": "6de6cb89",
   "metadata": {},
   "outputs": [
    {
     "name": "stdout",
     "output_type": "stream",
     "text": [
      "GENERAL CALCULATOR\n",
      "enter 1st no.1\n",
      "enter 2nd no.1\n",
      "add1\n",
      "add1\n",
      "add1\n",
      "add1\n",
      "add1\n",
      "add1\n",
      "add1\n",
      "add1\n",
      "add1\n",
      "add1\n",
      "add11\n",
      "add1\n",
      "add1\n",
      "add1\n",
      "add1\n",
      "add1\n",
      "add1\n",
      "add1\n",
      "add1\n",
      "add1\n",
      "add1\n",
      "add1\n",
      "add1\n",
      "add1\n",
      "add1\n",
      "add\n",
      "[1, 2, 3, 4, 5, 6, 7, 8, 9, 10, 11, 12, 13, 14, 15, 16, 17, 18, 19, 20, 21, 22, 23, 24, 25]\n"
     ]
    }
   ],
   "source": [
    "print('GENERAL CALCULATOR')\n",
    "a=int(input('enter 1st no.'))\n",
    "b=int(input('enter 2nd no.'))\n",
    "c=[ int(input('add'))]\n",
    "for a in c: \n",
    "    if input('add'):\n",
    "        d=(a+b)\n",
    "        c.append(d)\n",
    "        \n",
    "print(c)\n",
    "        "
   ]
  },
  {
   "cell_type": "code",
   "execution_count": 9,
   "id": "95782dc8",
   "metadata": {},
   "outputs": [
    {
     "ename": "IndentationError",
     "evalue": "unexpected indent (1274548170.py, line 10)",
     "output_type": "error",
     "traceback": [
      "\u001b[1;36m  Cell \u001b[1;32mIn[9], line 10\u001b[1;36m\u001b[0m\n\u001b[1;33m    elif type(i)==str:\u001b[0m\n\u001b[1;37m    ^\u001b[0m\n\u001b[1;31mIndentationError\u001b[0m\u001b[1;31m:\u001b[0m unexpected indent\n"
     ]
    }
   ],
   "source": [
    "a=['suryansh',5,'ti',3,4,6,8,10,11.1,11.4,11.6]\n",
    "b=[]\n",
    "c=[]\n",
    "d=[]\n",
    "for i in a:\n",
    "    if type(i)==int:\n",
    "        if i>=6:\n",
    "            b.append(i)\n",
    "print(b)       \n",
    "    elif type(i)==str:\n",
    "        if len(i)>3\n",
    "           print(c.append(i))\n",
    "print(c)     \n",
    "            \n"
   ]
  },
  {
   "cell_type": "code",
   "execution_count": 16,
   "id": "0c64b5fa",
   "metadata": {},
   "outputs": [
    {
     "ename": "IndentationError",
     "evalue": "unexpected indent (1342562071.py, line 10)",
     "output_type": "error",
     "traceback": [
      "\u001b[1;36m  Cell \u001b[1;32mIn[16], line 10\u001b[1;36m\u001b[0m\n\u001b[1;33m    elif type(i)==str:\u001b[0m\n\u001b[1;37m    ^\u001b[0m\n\u001b[1;31mIndentationError\u001b[0m\u001b[1;31m:\u001b[0m unexpected indent\n"
     ]
    }
   ],
   "source": [
    "a=['suryansh',5,'ti',3,4,6,8,10,11.1,11.4,11.6]\n",
    "b=[]\n",
    "c=[]\n",
    "d=[]\n",
    "for i in a:\n",
    "    if type(i)==int:\n",
    "        if i>=6:\n",
    "            b.append(i)\n",
    "print(b)       \n",
    "    elif type(i)==str:\n",
    "         if len(i)>3\n",
    "            print(c.append(i))\n",
    "print(c)     \n",
    "            \n",
    "\n",
    "    "
   ]
  },
  {
   "cell_type": "code",
   "execution_count": 13,
   "id": "a8d3f797",
   "metadata": {},
   "outputs": [
    {
     "name": "stdout",
     "output_type": "stream",
     "text": [
      "['suryansh', 'ti', 'at', 'subhaditya']\n",
      "[1, 2, 3, 4, 5, 6]\n",
      "['suryansh', 'subhaditya']\n",
      "[2, 4, 6]\n"
     ]
    }
   ],
   "source": [
    "y=[1,2,3,4,5,6,'suryansh','ti','at','subhaditya']\n",
    "z=[]\n",
    "a=[]\n",
    "b=[]\n",
    "c=[]\n",
    "for x in y:\n",
    "    if type(x)==str:\n",
    "        z.append(x)\n",
    "    else:\n",
    "        a.append(x)\n",
    "print(z)\n",
    "print(a)\n",
    "f=[]\n",
    "for pa in z:\n",
    "    if len(pa)>5:\n",
    "        f.append(pa)\n",
    "print(f)\n",
    "kad=[]\n",
    "for g in a:\n",
    "    if g%2==0:\n",
    "        kad.append(g)\n",
    "print(kad)    \n",
    "   "
   ]
  },
  {
   "cell_type": "code",
   "execution_count": null,
   "id": "74ba4207",
   "metadata": {},
   "outputs": [],
   "source": [
    "list_of_numbers=list(range(-10,10))\n",
    "calc=int(input('a'))\n",
    "for x in list_of_numbers:\n",
    "    x==5\n",
    "    if z=='+'lculate:\n",
    "        print(xx)"
   ]
  },
  {
   "cell_type": "code",
   "execution_count": 3,
   "id": "c80434e1",
   "metadata": {},
   "outputs": [
    {
     "name": "stdout",
     "output_type": "stream",
     "text": [
      "khushi,usa,1212,"
     ]
    }
   ],
   "source": [
    "person={'name': 'khushi', 'country':'usa', 'telephone':1212 }\n",
    "for i in person:\n",
    "    print(person.get(i),end=',')"
   ]
  },
  {
   "cell_type": "code",
   "execution_count": 5,
   "id": "8fe88d71",
   "metadata": {},
   "outputs": [
    {
     "name": "stdout",
     "output_type": "stream",
     "text": [
      "telephone\n"
     ]
    }
   ],
   "source": [
    "person={'name': 'khushi', 'country':'usa', 'telephone':[1212]}\n",
    "for i in person:\n",
    "    if type(person.get(i))==list:\n",
    "            print(i)"
   ]
  },
  {
   "cell_type": "code",
   "execution_count": 11,
   "id": "21d5ab8a",
   "metadata": {},
   "outputs": [
    {
     "name": "stdout",
     "output_type": "stream",
     "text": [
      "['telephone', [12134]]\n"
     ]
    }
   ],
   "source": [
    "person={'name': 'khushi', 'country':'usa', 'telephone':[12134]}\n",
    "l=[]\n",
    "for i in person:\n",
    "    if type(person.get(i))==list:\n",
    "            l.extend([i,person.get(i)])           \n",
    "print(l)"
   ]
  },
  {
   "cell_type": "code",
   "execution_count": 4,
   "id": "71b0d639",
   "metadata": {},
   "outputs": [
    {
     "name": "stdout",
     "output_type": "stream",
     "text": [
      "enter account number :123344\n",
      "enter valid account number\n",
      "enter your pin :\n",
      "choose what you want to proceed in :n/ 1.\n"
     ]
    }
   ],
   "source": [
    "a=(range(8,13),17)\n",
    "x=input('enter account number :')\n",
    "if len(x) not in a:\n",
    "if len(x) not in a:\n",
    "    print('enter valid account number')\n",
    "    =input('enter your pin :')\n",
    "    if y==4: \n",
    "        print('enter valid pin')\n",
    "    else:\n",
    "        print('choose what you want to proceed in :n/ 1.')\n",
    "\n"
   ]
  },
  {
   "cell_type": "code",
   "execution_count": null,
   "id": "89530722",
   "metadata": {},
   "outputs": [],
   "source": []
  }
 ],
 "metadata": {
  "kernelspec": {
   "display_name": "Python 3 (ipykernel)",
   "language": "python",
   "name": "python3"
  },
  "language_info": {
   "codemirror_mode": {
    "name": "ipython",
    "version": 3
   },
   "file_extension": ".py",
   "mimetype": "text/x-python",
   "name": "python",
   "nbconvert_exporter": "python",
   "pygments_lexer": "ipython3",
   "version": "3.10.9"
  }
 },
 "nbformat": 4,
 "nbformat_minor": 5
}
