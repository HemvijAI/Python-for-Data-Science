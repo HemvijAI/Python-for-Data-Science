{
 "cells": [
  {
   "cell_type": "code",
   "execution_count": 2,
   "id": "404810ec",
   "metadata": {
    "scrolled": true
   },
   "outputs": [
    {
     "name": "stdout",
     "output_type": "stream",
     "text": [
      "hi every one!'my name is bhumi'\n"
     ]
    }
   ],
   "source": [
    "print('hi every one!\\'my name is bhumi\\'')"
   ]
  },
  {
   "cell_type": "markdown",
   "id": "d90af6bb",
   "metadata": {},
   "source": []
  },
  {
   "cell_type": "code",
   "execution_count": null,
   "id": "70b4b194",
   "metadata": {},
   "outputs": [],
   "source": [
    "17/8/23"
   ]
  },
  {
   "cell_type": "code",
   "execution_count": 3,
   "id": "26a898c6",
   "metadata": {},
   "outputs": [
    {
     "name": "stdout",
     "output_type": "stream",
     "text": [
      "This tech dept\n",
      "This is a programmer\n"
     ]
    }
   ],
   "source": [
    "class Tech_dept:\n",
    "    def descrip(self):\n",
    "        print(\"This tech dept\")\n",
    "class programmer(Tech_dept):\n",
    "    def descrip(self):\n",
    "        super().descrip()\n",
    "        print('This is a programmer')\n",
    "tech1=programmer()\n",
    "tech1.descrip()"
   ]
  },
  {
   "cell_type": "code",
   "execution_count": 5,
   "id": "a2551350",
   "metadata": {
    "scrolled": true
   },
   "outputs": [
    {
     "name": "stdout",
     "output_type": "stream",
     "text": [
      "python\n"
     ]
    }
   ],
   "source": [
    "print('''python''')  "
   ]
  },
  {
   "cell_type": "code",
   "execution_count": null,
   "id": "c90ce701",
   "metadata": {},
   "outputs": [],
   "source": [
    "method overriding\n",
    "method overrriding is a powerful feature that allows you to redefine a method of the parent class in the childclass\n",
    "\n",
    "when a child method has the same name same parameters and same return type as method in its parent class then the method in the child\n",
    "child is said to override the method in the the parent class"
   ]
  },
  {
   "cell_type": "code",
   "execution_count": 19,
   "id": "01aaae6a",
   "metadata": {},
   "outputs": [],
   "source": [
    "class animal:\n",
    "    def show_name(self):\n",
    "        print(\"this is animal class\")\n",
    "class Dog(animal):\n",
    "    def show_name(self):\n",
    "        print(\"This is Dog class\")\n",
    "        "
   ]
  },
  {
   "cell_type": "code",
   "execution_count": 21,
   "id": "a4e6d499",
   "metadata": {},
   "outputs": [
    {
     "name": "stdout",
     "output_type": "stream",
     "text": [
      "This is Dog class\n"
     ]
    }
   ],
   "source": [
    "dog1 = Dog()\n",
    "dog1.show_name()"
   ]
  },
  {
   "cell_type": "code",
   "execution_count": 6,
   "id": "2e710b96",
   "metadata": {},
   "outputs": [
    {
     "name": "stdout",
     "output_type": "stream",
     "text": [
      "python data science\n"
     ]
    }
   ],
   "source": [
    "print(\"\"\"python data science\"\"\")\n"
   ]
  },
  {
   "cell_type": "code",
   "execution_count": 22,
   "id": "4f3757a7",
   "metadata": {},
   "outputs": [
    {
     "data": {
      "text/plain": [
       "(__main__.C, __main__.B, __main__.A, object)"
      ]
     },
     "execution_count": 22,
     "metadata": {},
     "output_type": "execute_result"
    }
   ],
   "source": [
    "C.__mro__"
   ]
  },
  {
   "cell_type": "code",
   "execution_count": 16,
   "id": "ede266d9",
   "metadata": {},
   "outputs": [
    {
     "name": "stdout",
     "output_type": "stream",
     "text": [
      "in class B\n"
     ]
    }
   ],
   "source": [
    "class A:\n",
    "    def process(self):\n",
    "        print(\"in class A\")\n",
    "class B:\n",
    "    def process(self):\n",
    "        print(\"in class B\")\n",
    "class C(B,A):\n",
    "    pass\n",
    "# creating object of c class\n",
    "c1 = C()\n",
    "c1.process()"
   ]
  },
  {
   "cell_type": "code",
   "execution_count": 23,
   "id": "6bd1951e",
   "metadata": {},
   "outputs": [
    {
     "name": "stdout",
     "output_type": "stream",
     "text": [
      "<class 'type'>\n"
     ]
    }
   ],
   "source": [
    "print(type(B))"
   ]
  },
  {
   "cell_type": "code",
   "execution_count": 9,
   "id": "1edca01d",
   "metadata": {},
   "outputs": [
    {
     "name": "stdout",
     "output_type": "stream",
     "text": [
      "'note book'\n"
     ]
    }
   ],
   "source": [
    "print('\\'note book\\'')"
   ]
  },
  {
   "cell_type": "code",
   "execution_count": 24,
   "id": "e56b229b",
   "metadata": {},
   "outputs": [
    {
     "data": {
      "text/plain": [
       "(__main__.A, object)"
      ]
     },
     "execution_count": 24,
     "metadata": {},
     "output_type": "execute_result"
    }
   ],
   "source": [
    "A.__mro__  #All classes inherit the object class"
   ]
  },
  {
   "cell_type": "code",
   "execution_count": null,
   "id": "9b2a3b2e",
   "metadata": {},
   "outputs": [],
   "source": []
  },
  {
   "cell_type": "code",
   "execution_count": 10,
   "id": "cb4bc0ea",
   "metadata": {},
   "outputs": [
    {
     "name": "stdout",
     "output_type": "stream",
     "text": [
      "'good boy'\n"
     ]
    }
   ],
   "source": [
    "print('\\'good boy\\'')"
   ]
  },
  {
   "cell_type": "code",
   "execution_count": 11,
   "id": "060cae28",
   "metadata": {
    "scrolled": true
   },
   "outputs": [
    {
     "ename": "SyntaxError",
     "evalue": "invalid syntax (2524161870.py, line 1)",
     "output_type": "error",
     "traceback": [
      "\u001b[1;36m  Cell \u001b[1;32mIn[11], line 1\u001b[1;36m\u001b[0m\n\u001b[1;33m    print(.\\'ramesh cleaver\\'')\u001b[0m\n\u001b[1;37m          ^\u001b[0m\n\u001b[1;31mSyntaxError\u001b[0m\u001b[1;31m:\u001b[0m invalid syntax\n"
     ]
    }
   ],
   "source": [
    "print(.\\'ramesh cleaver\\'')"
   ]
  },
  {
   "cell_type": "code",
   "execution_count": 12,
   "id": "d5103fa7",
   "metadata": {},
   "outputs": [
    {
     "ename": "SyntaxError",
     "evalue": "invalid decimal literal (2235891187.py, line 16)",
     "output_type": "error",
     "traceback": [
      "\u001b[1;36m  Cell \u001b[1;32mIn[12], line 16\u001b[1;36m\u001b[0m\n\u001b[1;33m    9hell\u001b[0m\n\u001b[1;37m    ^\u001b[0m\n\u001b[1;31mSyntaxError\u001b[0m\u001b[1;31m:\u001b[0m invalid decimal literal\n"
     ]
    }
   ],
   "source": [
    "print"
   ]
  },
  {
   "cell_type": "code",
   "execution_count": 13,
   "id": "06c9a588",
   "metadata": {},
   "outputs": [
    {
     "name": "stdout",
     "output_type": "stream",
     "text": [
      "helloo\b\n"
     ]
    }
   ],
   "source": [
    "print(\"helloo\\b\") "
   ]
  },
  {
   "cell_type": "code",
   "execution_count": 14,
   "id": "37492513",
   "metadata": {},
   "outputs": [
    {
     "name": "stdout",
     "output_type": "stream",
     "text": [
      "dooo\b\n"
     ]
    }
   ],
   "source": [
    "print(\"dooo\\b\")"
   ]
  },
  {
   "cell_type": "code",
   "execution_count": 16,
   "id": "69bb48a0",
   "metadata": {},
   "outputs": [
    {
     "name": "stdout",
     "output_type": "stream",
     "text": [
      "\\n\n"
     ]
    }
   ],
   "source": [
    "print(\"\\\\n\")"
   ]
  },
  {
   "cell_type": "code",
   "execution_count": 19,
   "id": "0c420e95",
   "metadata": {},
   "outputs": [
    {
     "name": "stdout",
     "output_type": "stream",
     "text": [
      "my name is moon\r",
      "my name issuna\n"
     ]
    }
   ],
   "source": [
    "print(\"my name is moon\\rmy name issuna\")"
   ]
  },
  {
   "cell_type": "code",
   "execution_count": 20,
   "id": "cdcebe99",
   "metadata": {},
   "outputs": [
    {
     "name": "stdout",
     "output_type": "stream",
     "text": [
      "student nameramesh\n",
      "student age23\n",
      "student addresshaldwani\n",
      "father nameff\n",
      "student stremart\n",
      "\n",
      "\n"
     ]
    }
   ],
   "source": [
    "name=input(\"student name\")\n",
    "age=input(\"student age\")\n",
    "address=input(\"student address\")\n",
    "parent=input(\"father name\")\n",
    "feild=input(\"student strem\")\n",
    "print(\"\\n\")\n"
   ]
  },
  {
   "cell_type": "code",
   "execution_count": 21,
   "id": "1282e29e",
   "metadata": {},
   "outputs": [
    {
     "name": "stdout",
     "output_type": "stream",
     "text": [
      "student namesuresh\n",
      "student age55\n",
      "student addreskathgodam\n",
      "father namegovind\n",
      "student stermat\n",
      "\n",
      "\n"
     ]
    }
   ],
   "source": [
    "name=input(\"student name\")\n",
    "age=input (\"student age\")\n",
    "addres=input(\"student addres\")\n",
    "paeent=input(\"father name\")\n",
    "feild=input(\"student sterm\")\n",
    "print(\"\\n\")\n"
   ]
  },
  {
   "cell_type": "code",
   "execution_count": 3,
   "id": "197c7e50",
   "metadata": {},
   "outputs": [
    {
     "name": "stdout",
     "output_type": "stream",
     "text": [
      "student nametango\n",
      "\n",
      "\n",
      "student age66\n",
      "student addreshalduchor\n",
      "father namedav\n",
      "student stermcommers\n",
      "\n",
      "\n",
      "66\n",
      "halduchor\n"
     ]
    },
    {
     "ename": "NameError",
     "evalue": "name 'field' is not defined",
     "output_type": "error",
     "traceback": [
      "\u001b[1;31m---------------------------------------------------------------------------\u001b[0m",
      "\u001b[1;31mNameError\u001b[0m                                 Traceback (most recent call last)",
      "Cell \u001b[1;32mIn[3], line 10\u001b[0m\n\u001b[0;32m      8\u001b[0m \u001b[38;5;28mprint\u001b[39m(age) \n\u001b[0;32m      9\u001b[0m \u001b[38;5;28mprint\u001b[39m(addres) \n\u001b[1;32m---> 10\u001b[0m \u001b[38;5;28mprint\u001b[39m (\u001b[43mfield\u001b[49m)\n",
      "\u001b[1;31mNameError\u001b[0m: name 'field' is not defined"
     ]
    }
   ],
   "source": [
    "name=input(\"student name\")\n",
    "print(\"\\n\")\n",
    "age=input (\"student age\")\n",
    "addres=input(\"student addres\")\n",
    "paeent=input(\"father name\")\n",
    "feild=input(\"student sterm\")\n",
    "print(\"\\n\")\n",
    "print(age) \n",
    "print(addres) \n",
    "print (field)\n",
    "\n",
    "\n"
   ]
  },
  {
   "cell_type": "code",
   "execution_count": 1,
   "id": "8cbaac21",
   "metadata": {},
   "outputs": [
    {
     "name": "stdout",
     "output_type": "stream",
     "text": [
      "e\n"
     ]
    }
   ],
   "source": [
    "example=\"pythan is easy\"\n",
    "print(example[10])\n"
   ]
  },
  {
   "cell_type": "code",
   "execution_count": 2,
   "id": "2e310e7d",
   "metadata": {},
   "outputs": [
    {
     "name": "stdout",
     "output_type": "stream",
     "text": [
      "y\n"
     ]
    }
   ],
   "source": [
    "example=\"tobay is sunday\"\n",
    "print(example[4])\n"
   ]
  },
  {
   "cell_type": "markdown",
   "id": "17929c82",
   "metadata": {},
   "source": [
    "# example=\"pythan is easy\"\n",
    "print(example[-3])"
   ]
  },
  {
   "cell_type": "markdown",
   "id": "67400467",
   "metadata": {},
   "source": []
  },
  {
   "cell_type": "code",
   "execution_count": 2,
   "id": "f28e4aaf",
   "metadata": {},
   "outputs": [
    {
     "name": "stdout",
     "output_type": "stream",
     "text": [
      "i am learning pyth\n"
     ]
    }
   ],
   "source": [
    "x=\"i am learning python\"\n",
    "\n",
    "print(x[0:18])"
   ]
  },
  {
   "cell_type": "code",
   "execution_count": 4,
   "id": "ed9f8823",
   "metadata": {},
   "outputs": [
    {
     "name": "stdout",
     "output_type": "stream",
     "text": [
      "i\n"
     ]
    }
   ],
   "source": [
    "x=\"i am learning pytho\"\n",
    "print(x[0:-18])"
   ]
  },
  {
   "cell_type": "code",
   "execution_count": 5,
   "id": "df371dfa",
   "metadata": {},
   "outputs": [
    {
     "name": "stdout",
     "output_type": "stream",
     "text": [
      "i am learning pytho\n"
     ]
    }
   ],
   "source": [
    "a=\"i am learning python\"\n",
    "print(a[0:-1])"
   ]
  },
  {
   "cell_type": "code",
   "execution_count": 8,
   "id": "65866bfc",
   "metadata": {},
   "outputs": [
    {
     "name": "stdout",
     "output_type": "stream",
     "text": [
      "\n"
     ]
    }
   ],
   "source": [
    "a=\"i am learning python\"\n",
    "print(a[0:-20])\n",
    "\n",
    "       "
   ]
  },
  {
   "cell_type": "code",
   "execution_count": 2,
   "id": "6c5ade1d",
   "metadata": {},
   "outputs": [
    {
     "name": "stdout",
     "output_type": "stream",
     "text": [
      "i am learning pytho\n"
     ]
    }
   ],
   "source": [
    "a=\"i am learning python\"\n",
    "print(a[-20:19])"
   ]
  },
  {
   "cell_type": "code",
   "execution_count": 2,
   "id": "b13212e0",
   "metadata": {},
   "outputs": [
    {
     "name": "stdout",
     "output_type": "stream",
     "text": [
      "\n"
     ]
    }
   ],
   "source": [
    "  a=\"python is easy\"\n",
    "print(a[-7:4])  \n"
   ]
  },
  {
   "cell_type": "code",
   "execution_count": 5,
   "id": "97e28b35",
   "metadata": {},
   "outputs": [
    {
     "data": {
      "text/plain": [
       "'pto ses'"
      ]
     },
     "execution_count": 5,
     "metadata": {},
     "output_type": "execute_result"
    }
   ],
   "source": [
    "example=\"python is easy\"\n",
    "example[0:15:2]"
   ]
  },
  {
   "cell_type": "code",
   "execution_count": 6,
   "id": "922d067b",
   "metadata": {},
   "outputs": [
    {
     "data": {
      "text/plain": [
       "'mi'"
      ]
     },
     "execution_count": 6,
     "metadata": {},
     "output_type": "execute_result"
    }
   ],
   "source": [
    "example=\"my name is ram\"\n",
    "example[0:15:8]"
   ]
  },
  {
   "cell_type": "code",
   "execution_count": 7,
   "id": "fcee495e",
   "metadata": {},
   "outputs": [
    {
     "data": {
      "text/plain": [
       "''"
      ]
     },
     "execution_count": 7,
     "metadata": {},
     "output_type": "execute_result"
    }
   ],
   "source": [
    "example=\"python is easy\"\n",
    "example[-15::-1]"
   ]
  },
  {
   "cell_type": "code",
   "execution_count": 9,
   "id": "4f9ebbff",
   "metadata": {},
   "outputs": [
    {
     "data": {
      "text/plain": [
       "'nohtyp'"
      ]
     },
     "execution_count": 9,
     "metadata": {},
     "output_type": "execute_result"
    }
   ],
   "source": [
    "example=\"python is easy\"\n",
    "example[-9::-1]"
   ]
  },
  {
   "cell_type": "code",
   "execution_count": 12,
   "id": "574904d1",
   "metadata": {},
   "outputs": [
    {
     "data": {
      "text/plain": [
       "'e'"
      ]
     },
     "execution_count": 12,
     "metadata": {},
     "output_type": "execute_result"
    }
   ],
   "source": [
    "examle=\"python is easy\"\n",
    "example[-4:-6:-2]"
   ]
  },
  {
   "cell_type": "code",
   "execution_count": 14,
   "id": "96753f15",
   "metadata": {},
   "outputs": [
    {
     "ename": "NameError",
     "evalue": "name 'python' is not defined",
     "output_type": "error",
     "traceback": [
      "\u001b[1;31m---------------------------------------------------------------------------\u001b[0m",
      "\u001b[1;31mNameError\u001b[0m                                 Traceback (most recent call last)",
      "Cell \u001b[1;32mIn[14], line 1\u001b[0m\n\u001b[1;32m----> 1\u001b[0m example\u001b[38;5;241m=\u001b[39m\u001b[43mpython\u001b[49m \u001b[38;5;129;01mis\u001b[39;00m easy\n\u001b[0;32m      2\u001b[0m example[:\u001b[38;5;241m-\u001b[39m\u001b[38;5;241m2\u001b[39m]\n",
      "\u001b[1;31mNameError\u001b[0m: name 'python' is not defined"
     ]
    }
   ],
   "source": [
    "example=python is easy\n",
    "example[:-2]"
   ]
  },
  {
   "cell_type": "code",
   "execution_count": 18,
   "id": "ba797b6b",
   "metadata": {},
   "outputs": [
    {
     "data": {
      "text/plain": [
       "'hello world'"
      ]
     },
     "execution_count": 18,
     "metadata": {},
     "output_type": "execute_result"
    }
   ],
   "source": [
    "x=\"hello world\"\n",
    "x.upper()\n",
    "x.lower()"
   ]
  },
  {
   "cell_type": "code",
   "execution_count": 20,
   "id": "f1a77208",
   "metadata": {},
   "outputs": [
    {
     "ename": "SyntaxError",
     "evalue": "invalid syntax (2166447965.py, line 2)",
     "output_type": "error",
     "traceback": [
      "\u001b[1;36m  Cell \u001b[1;32mIn[20], line 2\u001b[1;36m\u001b[0m\n\u001b[1;33m    x=x.replace(l:z)\u001b[0m\n\u001b[1;37m                 ^\u001b[0m\n\u001b[1;31mSyntaxError\u001b[0m\u001b[1;31m:\u001b[0m invalid syntax\n"
     ]
    }
   ],
   "source": [
    "#:replace()\n",
    "x=x.replace(l:z)\n",
    "x\n"
   ]
  },
  {
   "cell_type": "code",
   "execution_count": 22,
   "id": "6b23968e",
   "metadata": {},
   "outputs": [
    {
     "ename": "SyntaxError",
     "evalue": "unterminated string literal (detected at line 2) (2351739764.py, line 2)",
     "output_type": "error",
     "traceback": [
      "\u001b[1;36m  Cell \u001b[1;32mIn[22], line 2\u001b[1;36m\u001b[0m\n\u001b[1;33m    x=replace(\"\";Y')\u001b[0m\n\u001b[1;37m                  ^\u001b[0m\n\u001b[1;31mSyntaxError\u001b[0m\u001b[1;31m:\u001b[0m unterminated string literal (detected at line 2)\n"
     ]
    }
   ],
   "source": [
    "#'replace()\n",
    "x=replace(\"\";Y')\n"
   ]
  },
  {
   "cell_type": "code",
   "execution_count": 24,
   "id": "6eff7f97",
   "metadata": {},
   "outputs": [
    {
     "ename": "TypeError",
     "evalue": "count() takes at least 1 argument (0 given)",
     "output_type": "error",
     "traceback": [
      "\u001b[1;31m---------------------------------------------------------------------------\u001b[0m",
      "\u001b[1;31mTypeError\u001b[0m                                 Traceback (most recent call last)",
      "Cell \u001b[1;32mIn[24], line 2\u001b[0m\n\u001b[0;32m      1\u001b[0m \u001b[38;5;66;03m#.count()\u001b[39;00m\n\u001b[1;32m----> 2\u001b[0m \u001b[43mx\u001b[49m\u001b[38;5;241;43m.\u001b[39;49m\u001b[43mcount\u001b[49m\u001b[43m(\u001b[49m\u001b[43m)\u001b[49m\n\u001b[0;32m      3\u001b[0m x\n",
      "\u001b[1;31mTypeError\u001b[0m: count() takes at least 1 argument (0 given)"
     ]
    }
   ],
   "source": [
    "#.count()\n",
    "x.count()\n",
    "x"
   ]
  },
  {
   "cell_type": "code",
   "execution_count": null,
   "id": "859f5197",
   "metadata": {},
   "outputs": [],
   "source": [
    "#.count()\n",
    "x.count()"
   ]
  }
 ],
 "metadata": {
  "kernelspec": {
   "display_name": "Python 3 (ipykernel)",
   "language": "python",
   "name": "python3"
  },
  "language_info": {
   "codemirror_mode": {
    "name": "ipython",
    "version": 3
   },
   "file_extension": ".py",
   "mimetype": "text/x-python",
   "name": "python",
   "nbconvert_exporter": "python",
   "pygments_lexer": "ipython3",
   "version": "3.10.9"
  }
 },
 "nbformat": 4,
 "nbformat_minor": 5
}
