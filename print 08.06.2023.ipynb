{
 "cells": [
  {
   "cell_type": "code",
   "execution_count": 1,
   "id": "8d996d34",
   "metadata": {},
   "outputs": [
    {
     "name": "stdout",
     "output_type": "stream",
     "text": [
      "\n"
     ]
    }
   ],
   "source": [
    "print()   # write only those things which are defined for example strings,integers etc"
   ]
  },
  {
   "cell_type": "code",
   "execution_count": 2,
   "id": "957f77aa",
   "metadata": {},
   "outputs": [
    {
     "name": "stdout",
     "output_type": "stream",
     "text": [
      "3\n"
     ]
    }
   ],
   "source": [
    "print(1+2)"
   ]
  },
  {
   "cell_type": "code",
   "execution_count": 4,
   "id": "b8b2f0fa",
   "metadata": {},
   "outputs": [
    {
     "name": "stdout",
     "output_type": "stream",
     "text": [
      "10\n"
     ]
    }
   ],
   "source": [
    "x= 10\n",
    "print(x)"
   ]
  },
  {
   "cell_type": "code",
   "execution_count": 5,
   "id": "722e6fe5",
   "metadata": {},
   "outputs": [
    {
     "name": "stdout",
     "output_type": "stream",
     "text": [
      "(10+34j)\n"
     ]
    }
   ],
   "source": [
    "print(10+34j)"
   ]
  },
  {
   "cell_type": "code",
   "execution_count": 6,
   "id": "8e5332ba",
   "metadata": {},
   "outputs": [
    {
     "ename": "SyntaxError",
     "evalue": "invalid syntax. Perhaps you forgot a comma? (1965311571.py, line 1)",
     "output_type": "error",
     "traceback": [
      "\u001b[1;36m  Cell \u001b[1;32mIn[6], line 1\u001b[1;36m\u001b[0m\n\u001b[1;33m    print(i am lerning python)\u001b[0m\n\u001b[1;37m          ^\u001b[0m\n\u001b[1;31mSyntaxError\u001b[0m\u001b[1;31m:\u001b[0m invalid syntax. Perhaps you forgot a comma?\n"
     ]
    }
   ],
   "source": [
    "print(i am lerning python)  # i print  have written it in english which not the language of machine"
   ]
  },
  {
   "cell_type": "code",
   "execution_count": 7,
   "id": "2901baaa",
   "metadata": {},
   "outputs": [
    {
     "name": "stdout",
     "output_type": "stream",
     "text": [
      "i am learning python\n"
     ]
    }
   ],
   "source": [
    "print('i am learning python') #always put quotaion mark for string  "
   ]
  },
  {
   "cell_type": "markdown",
   "id": "2411598b",
   "metadata": {},
   "source": [
    "write 5 examples of print() code"
   ]
  },
  {
   "cell_type": "code",
   "execution_count": 8,
   "id": "7262fa4b",
   "metadata": {},
   "outputs": [
    {
     "name": "stdout",
     "output_type": "stream",
     "text": [
      "iam learing maths\n"
     ]
    }
   ],
   "source": [
    "print(\"iam learing maths\")"
   ]
  },
  {
   "cell_type": "code",
   "execution_count": 9,
   "id": "342ab5d1",
   "metadata": {},
   "outputs": [
    {
     "name": "stdout",
     "output_type": "stream",
     "text": [
      "youare eating\n"
     ]
    }
   ],
   "source": [
    "print(\"youare eating\")"
   ]
  },
  {
   "cell_type": "code",
   "execution_count": 10,
   "id": "da8fd3d7",
   "metadata": {},
   "outputs": [
    {
     "ename": "SyntaxError",
     "evalue": "invalid syntax (804989623.py, line 1)",
     "output_type": "error",
     "traceback": [
      "\u001b[1;36m  Cell \u001b[1;32mIn[10], line 1\u001b[1;36m\u001b[0m\n\u001b[1;33m    print(\"you are lazy)\")                                                             9(time is 4 o clock)\u001b[0m\n\u001b[1;37m                                                                                       ^\u001b[0m\n\u001b[1;31mSyntaxError\u001b[0m\u001b[1;31m:\u001b[0m invalid syntax\n"
     ]
    }
   ],
   "source": [
    "print(\"you are lazy)\")                                                             9(time is 4 o clock)"
   ]
  },
  {
   "cell_type": "code",
   "execution_count": 18,
   "id": "3b3ad0c7",
   "metadata": {},
   "outputs": [
    {
     "data": {
      "text/plain": [
       "'m'"
      ]
     },
     "execution_count": 18,
     "metadata": {},
     "output_type": "execute_result"
    }
   ],
   "source": [
    "\"m\""
   ]
  },
  {
   "cell_type": "code",
   "execution_count": 19,
   "id": "ccb04bbc",
   "metadata": {},
   "outputs": [
    {
     "data": {
      "text/plain": [
       "'m'"
      ]
     },
     "execution_count": 19,
     "metadata": {},
     "output_type": "execute_result"
    }
   ],
   "source": [
    "'m'"
   ]
  },
  {
   "cell_type": "code",
   "execution_count": 14,
   "id": "bbca2409",
   "metadata": {},
   "outputs": [
    {
     "name": "stdout",
     "output_type": "stream",
     "text": [
      "good boy\n"
     ]
    }
   ],
   "source": [
    "print(\"good boy\")"
   ]
  },
  {
   "cell_type": "code",
   "execution_count": 15,
   "id": "d5f9219b",
   "metadata": {},
   "outputs": [
    {
     "name": "stdout",
     "output_type": "stream",
     "text": [
      "554\n"
     ]
    }
   ],
   "source": [
    "print(\"554\")"
   ]
  },
  {
   "cell_type": "code",
   "execution_count": 20,
   "id": "f45c9535",
   "metadata": {},
   "outputs": [
    {
     "name": "stdout",
     "output_type": "stream",
     "text": [
      "ramesh\n"
     ]
    }
   ],
   "source": [
    "print(\"ramesh\")"
   ]
  },
  {
   "cell_type": "code",
   "execution_count": 21,
   "id": "531cadb3",
   "metadata": {},
   "outputs": [
    {
     "name": "stdout",
     "output_type": "stream",
     "text": [
      "fish\n"
     ]
    }
   ],
   "source": [
    "print(\"fish\")"
   ]
  },
  {
   "cell_type": "code",
   "execution_count": 22,
   "id": "47db5edd",
   "metadata": {},
   "outputs": [
    {
     "name": "stdout",
     "output_type": "stream",
     "text": [
      "iam getting up early\n"
     ]
    }
   ],
   "source": [
    "print(\"iam getting up early\")"
   ]
  },
  {
   "cell_type": "code",
   "execution_count": 23,
   "id": "ce9ff69c",
   "metadata": {},
   "outputs": [
    {
     "name": "stdout",
     "output_type": "stream",
     "text": [
      "good morning\n"
     ]
    }
   ],
   "source": [
    "print (\"good morning\")"
   ]
  },
  {
   "cell_type": "code",
   "execution_count": 24,
   "id": "c80e5d8f",
   "metadata": {},
   "outputs": [
    {
     "name": "stdout",
     "output_type": "stream",
     "text": [
      "boys playing\n"
     ]
    }
   ],
   "source": [
    "print(\"boys playing\")"
   ]
  },
  {
   "cell_type": "code",
   "execution_count": 25,
   "id": "5da05e4e",
   "metadata": {},
   "outputs": [
    {
     "name": "stdout",
     "output_type": "stream",
     "text": [
      "goat eating grass\n"
     ]
    }
   ],
   "source": [
    "print (\"goat eating grass\")"
   ]
  },
  {
   "cell_type": "code",
   "execution_count": 26,
   "id": "02ebf736",
   "metadata": {},
   "outputs": [
    {
     "ename": "NameError",
     "evalue": "name 'print9' is not defined",
     "output_type": "error",
     "traceback": [
      "\u001b[1;31m---------------------------------------------------------------------------\u001b[0m",
      "\u001b[1;31mNameError\u001b[0m                                 Traceback (most recent call last)",
      "Cell \u001b[1;32mIn[26], line 1\u001b[0m\n\u001b[1;32m----> 1\u001b[0m \u001b[43mprint9\u001b[49m(\u001b[38;5;124m\"\u001b[39m\u001b[38;5;124mgreen grass\u001b[39m\u001b[38;5;124m\"\u001b[39m)\n",
      "\u001b[1;31mNameError\u001b[0m: name 'print9' is not defined"
     ]
    }
   ],
   "source": [
    "print9(\"green grass\")"
   ]
  },
  {
   "cell_type": "code",
   "execution_count": 27,
   "id": "e08de041",
   "metadata": {},
   "outputs": [
    {
     "name": "stdout",
     "output_type": "stream",
     "text": [
      "iam going market\n"
     ]
    }
   ],
   "source": [
    "print(\"iam going market\")"
   ]
  },
  {
   "cell_type": "code",
   "execution_count": 28,
   "id": "189cb3fb",
   "metadata": {},
   "outputs": [
    {
     "name": "stdout",
     "output_type": "stream",
     "text": [
      "he is claver\n"
     ]
    }
   ],
   "source": [
    "print(\"he is claver\")"
   ]
  },
  {
   "cell_type": "code",
   "execution_count": 29,
   "id": "9f367e3c",
   "metadata": {},
   "outputs": [
    {
     "name": "stdout",
     "output_type": "stream",
     "text": [
      "goat\n"
     ]
    }
   ],
   "source": [
    "print(\"goat\")"
   ]
  },
  {
   "cell_type": "code",
   "execution_count": 30,
   "id": "449c289c",
   "metadata": {},
   "outputs": [
    {
     "name": "stdout",
     "output_type": "stream",
     "text": [
      "dear are are eating grass\n"
     ]
    }
   ],
   "source": [
    "print(\"dear are are eating grass\")"
   ]
  },
  {
   "cell_type": "code",
   "execution_count": 31,
   "id": "da13205e",
   "metadata": {},
   "outputs": [
    {
     "name": "stdout",
     "output_type": "stream",
     "text": [
      "tow team are playing foot bal\n"
     ]
    }
   ],
   "source": [
    "print(\"tow team are playing foot bal\")"
   ]
  },
  {
   "cell_type": "code",
   "execution_count": 32,
   "id": "9c0afc82",
   "metadata": {},
   "outputs": [
    {
     "name": "stdout",
     "output_type": "stream",
     "text": [
      "yes you are eating food\n"
     ]
    }
   ],
   "source": [
    "print(\"yes you are eating food\")"
   ]
  },
  {
   "cell_type": "code",
   "execution_count": 33,
   "id": "9aa2e158",
   "metadata": {},
   "outputs": [
    {
     "name": "stdout",
     "output_type": "stream",
     "text": [
      "you are weak in math subject\n"
     ]
    }
   ],
   "source": [
    "print(\"you are weak in math subject\")"
   ]
  },
  {
   "cell_type": "code",
   "execution_count": 34,
   "id": "788b655e",
   "metadata": {},
   "outputs": [
    {
     "name": "stdout",
     "output_type": "stream",
     "text": [
      "you are good basket player\n"
     ]
    }
   ],
   "source": [
    "print(\"you are good basket player\")"
   ]
  },
  {
   "cell_type": "code",
   "execution_count": 36,
   "id": "fb0bfc7f",
   "metadata": {},
   "outputs": [
    {
     "ename": "IndentationError",
     "evalue": "unexpected indent (3841792580.py, line 8)",
     "output_type": "error",
     "traceback": [
      "\u001b[1;36m  Cell \u001b[1;32mIn[36], line 8\u001b[1;36m\u001b[0m\n\u001b[1;33m    0\u001b[0m\n\u001b[1;37m    ^\u001b[0m\n\u001b[1;31mIndentationError\u001b[0m\u001b[1;31m:\u001b[0m unexpected indent\n"
     ]
    }
   ],
   "source": [
    "print(str(23))\n",
    "         \n",
    "         \n",
    "         \n",
    "         \n",
    "         \n",
    "         \n",
    "         0\n",
    "         \n",
    "         \n",
    "         \n",
    "         \n",
    "         0))"
   ]
  },
  {
   "cell_type": "code",
   "execution_count": 37,
   "id": "b0648bc5",
   "metadata": {},
   "outputs": [
    {
     "name": "stdout",
     "output_type": "stream",
     "text": [
      "you are claver\n"
     ]
    }
   ],
   "source": [
    "print (\"you are claver\")"
   ]
  },
  {
   "cell_type": "code",
   "execution_count": 38,
   "id": "f4dd5896",
   "metadata": {},
   "outputs": [
    {
     "name": "stdout",
     "output_type": "stream",
     "text": [
      "you are playing foot bal\n"
     ]
    }
   ],
   "source": [
    "print(\"you are playing foot bal\")"
   ]
  },
  {
   "cell_type": "code",
   "execution_count": 39,
   "id": "be6bdf89",
   "metadata": {},
   "outputs": [
    {
     "name": "stdout",
     "output_type": "stream",
     "text": [
      "nowadays tem is high\n"
     ]
    }
   ],
   "source": [
    "print(\"nowadays tem is high\")"
   ]
  },
  {
   "cell_type": "code",
   "execution_count": 40,
   "id": "73010e3b",
   "metadata": {},
   "outputs": [
    {
     "name": "stdout",
     "output_type": "stream",
     "text": [
      "june month tep is 40\n"
     ]
    }
   ],
   "source": [
    "print(\"june month tep is 40\")"
   ]
  },
  {
   "cell_type": "code",
   "execution_count": 41,
   "id": "f1d7d461",
   "metadata": {},
   "outputs": [
    {
     "name": "stdout",
     "output_type": "stream",
     "text": [
      "40\n"
     ]
    }
   ],
   "source": [
    "print(40)"
   ]
  },
  {
   "cell_type": "code",
   "execution_count": null,
   "id": "c4e5e0f7",
   "metadata": {},
   "outputs": [],
   "source": []
  }
 ],
 "metadata": {
  "kernelspec": {
   "display_name": "Python 3 (ipykernel)",
   "language": "python",
   "name": "python3"
  },
  "language_info": {
   "codemirror_mode": {
    "name": "ipython",
    "version": 3
   },
   "file_extension": ".py",
   "mimetype": "text/x-python",
   "name": "python",
   "nbconvert_exporter": "python",
   "pygments_lexer": "ipython3",
   "version": "3.10.9"
  }
 },
 "nbformat": 4,
 "nbformat_minor": 5
}
