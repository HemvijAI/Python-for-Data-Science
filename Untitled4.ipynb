{
 "cells": [
  {
   "cell_type": "code",
   "execution_count": 1,
   "id": "902e1290",
   "metadata": {},
   "outputs": [
    {
     "data": {
      "text/plain": [
       "3"
      ]
     },
     "execution_count": 1,
     "metadata": {},
     "output_type": "execute_result"
    }
   ],
   "source": [
    "x=\"his bat hit his ball\"\n",
    "x.count(\"h\")"
   ]
  },
  {
   "cell_type": "code",
   "execution_count": 2,
   "id": "707a73be",
   "metadata": {},
   "outputs": [
    {
     "data": {
      "text/plain": [
       "3"
      ]
     },
     "execution_count": 2,
     "metadata": {},
     "output_type": "execute_result"
    }
   ],
   "source": [
    "x=\"his bat hit his ball\"\n",
    "x.count(\"i\")"
   ]
  },
  {
   "cell_type": "code",
   "execution_count": 3,
   "id": "be52cf89",
   "metadata": {},
   "outputs": [
    {
     "data": {
      "text/plain": [
       "'mohan tall tall'"
      ]
     },
     "execution_count": 3,
     "metadata": {},
     "output_type": "execute_result"
    }
   ],
   "source": [
    "x=\"mohan is tall\"\n",
    "x.replace(\"is\",\"tall\")"
   ]
  },
  {
   "cell_type": "code",
   "execution_count": null,
   "id": "9306697d",
   "metadata": {},
   "outputs": [],
   "source": []
  }
 ],
 "metadata": {
  "kernelspec": {
   "display_name": "Python 3 (ipykernel)",
   "language": "python",
   "name": "python3"
  },
  "language_info": {
   "codemirror_mode": {
    "name": "ipython",
    "version": 3
   },
   "file_extension": ".py",
   "mimetype": "text/x-python",
   "name": "python",
   "nbconvert_exporter": "python",
   "pygments_lexer": "ipython3",
   "version": "3.10.9"
  }
 },
 "nbformat": 4,
 "nbformat_minor": 5
}
