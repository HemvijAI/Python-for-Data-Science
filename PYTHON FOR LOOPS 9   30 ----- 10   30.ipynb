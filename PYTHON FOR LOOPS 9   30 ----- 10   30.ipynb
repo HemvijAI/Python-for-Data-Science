{
 "cells": [
  {
   "cell_type": "code",
   "execution_count": 3,
   "id": "452b85ab",
   "metadata": {},
   "outputs": [
    {
     "name": "stdout",
     "output_type": "stream",
     "text": [
      "green\n",
      "g\n",
      "r\n",
      "e\n",
      "e\n",
      "n\n",
      "red\n",
      "r\n",
      "e\n",
      "d\n",
      "yellow\n",
      "y\n",
      "e\n",
      "l\n",
      "l\n",
      "o\n",
      "w\n"
     ]
    }
   ],
   "source": [
    "colours=['green','red','yellow']\n",
    "for colour in colours:\n",
    "    print(colour)\n",
    "    for character in colour:\n",
    "        print(character)"
   ]
  },
  {
   "cell_type": "code",
   "execution_count": 5,
   "id": "925ae45c",
   "metadata": {},
   "outputs": [
    {
     "name": "stdout",
     "output_type": "stream",
     "text": [
      "green\n",
      "red\n",
      "yellow\n",
      "y\n",
      "e\n",
      "l\n",
      "l\n",
      "o\n",
      "w\n"
     ]
    }
   ],
   "source": [
    "colours=['green','red','yellow']\n",
    "for colour in colours:\n",
    "    print(colour)\n",
    "for character in colour: #as yellow is the last element of list therefor colour is now out of loop\n",
    "        print(character) # and hence it gives all characters of list only"
   ]
  },
  {
   "cell_type": "code",
   "execution_count": 7,
   "id": "9761afe6",
   "metadata": {},
   "outputs": [
    {
     "name": "stdout",
     "output_type": "stream",
     "text": [
      "greengreen\n",
      "g\n",
      "r\n",
      "e\n",
      "e\n",
      "n\n",
      "g\n",
      "r\n",
      "e\n",
      "e\n",
      "n\n",
      "redred\n",
      "r\n",
      "e\n",
      "d\n",
      "r\n",
      "e\n",
      "d\n",
      "yellowyellow\n",
      "y\n",
      "e\n",
      "l\n",
      "l\n",
      "o\n",
      "w\n",
      "y\n",
      "e\n",
      "l\n",
      "l\n",
      "o\n",
      "w\n"
     ]
    }
   ],
   "source": [
    "colours=['green','red','yellow']\n",
    "for colour in colours:\n",
    "    print(colour*2)\n",
    "    for i in colour*2:\n",
    "        print(i)"
   ]
  },
  {
   "cell_type": "code",
   "execution_count": 8,
   "id": "05bd418a",
   "metadata": {},
   "outputs": [
    {
     "name": "stdout",
     "output_type": "stream",
     "text": [
      "greengreen\n",
      "redred\n",
      "yellowyellow\n",
      "y\n",
      "e\n",
      "l\n",
      "l\n",
      "o\n",
      "w\n",
      "y\n",
      "e\n",
      "l\n",
      "l\n",
      "o\n",
      "w\n"
     ]
    }
   ],
   "source": [
    "colours=['green','red','yellow']\n",
    "for colour in colours:\n",
    "    print(colour*2)\n",
    "for i in colour*2:\n",
    "        print(i)"
   ]
  },
  {
   "cell_type": "code",
   "execution_count": 21,
   "id": "92270361",
   "metadata": {},
   "outputs": [
    {
     "name": "stdout",
     "output_type": "stream",
     "text": [
      "green\n",
      "g\n",
      "r\n",
      "e\n",
      "e\n",
      "n\n",
      "r\n",
      "e\n",
      "d\n",
      "y\n",
      "e\n",
      "l\n",
      "l\n",
      "o\n",
      "w\n",
      "yellow"
     ]
    }
   ],
   "source": [
    "colours=['green','red','yellow']\n",
    "for colour in colours:\n",
    "    if colour=='green': #1st loop has done its work by putting the colour==green and prnting and \n",
    "        print(colour)   # nextloop does work on breakin characters of colours inside the loop\n",
    "    for i in colour: \n",
    "        print(i)\n",
    "for i in colour: # as the next for loop is out of the initial loop hence it only breaks character of\n",
    "    print(i,end='') # the last character"
   ]
  },
  {
   "cell_type": "code",
   "execution_count": 2,
   "id": "4cfe54ed",
   "metadata": {},
   "outputs": [
    {
     "name": "stdout",
     "output_type": "stream",
     "text": [
      "green\n",
      "g\n",
      "g\n",
      "r\n",
      "r\n",
      "e\n",
      "e\n",
      "e\n",
      "e\n",
      "n\n",
      "n\n",
      "red\n",
      "r\n",
      "r\n",
      "e\n",
      "e\n",
      "d\n",
      "d\n",
      "yellow\n",
      "y\n",
      "y\n",
      "e\n",
      "e\n",
      "l\n",
      "l\n",
      "l\n",
      "l\n",
      "o\n",
      "o\n",
      "w\n",
      "w\n"
     ]
    }
   ],
   "source": [
    "colours=['green','red','yellow']\n",
    "for colour in colours:\n",
    "    print(colour)\n",
    "    for i in colour:\n",
    "        print(i)       \n",
    "        for j in i:\n",
    "            print(j)"
   ]
  },
  {
   "cell_type": "code",
   "execution_count": 6,
   "id": "2e6c58ba",
   "metadata": {},
   "outputs": [
    {
     "name": "stdout",
     "output_type": "stream",
     "text": [
      "g\n",
      "r\n",
      "e\n",
      "e\n",
      "n\n",
      "r\n",
      "e\n",
      "d\n",
      "y\n",
      "e\n",
      "l\n",
      "l\n",
      "o\n",
      "w\n"
     ]
    }
   ],
   "source": [
    "colours=['green','red','yellow']\n",
    "for colour in colours: #every element is group of string\n",
    "    for i in colour:   #every name i.e. group of string is broken into single string\n",
    "        for j in i:    # and as string is always iterable , therefore no error is shown when loop \n",
    "            print(j)   # goes inside single character strings as they too are iterable"
   ]
  },
  {
   "cell_type": "code",
   "execution_count": 5,
   "id": "a453bb5d",
   "metadata": {},
   "outputs": [
    {
     "name": "stdout",
     "output_type": "stream",
     "text": [
      "g\n",
      "r\n",
      "e\n",
      "e\n",
      "n\n",
      "r\n",
      "e\n",
      "d\n",
      "y\n",
      "e\n",
      "l\n",
      "l\n",
      "o\n",
      "w\n"
     ]
    }
   ],
   "source": [
    "colours=['green','red','yellow']\n",
    "for colour in colours:\n",
    "    for i in colour:\n",
    "        for j in i:\n",
    "            for k in j:\n",
    "                for l in k:\n",
    "                    print(l)"
   ]
  },
  {
   "cell_type": "code",
   "execution_count": 13,
   "id": "1cc26839",
   "metadata": {},
   "outputs": [
    {
     "name": "stdout",
     "output_type": "stream",
     "text": [
      "1\n",
      "1\n",
      "1\n",
      "1\n",
      "w\n"
     ]
    }
   ],
   "source": [
    "colours=['green','red','yellow']\n",
    "for colour in colours:\n",
    "    for i in colour:\n",
    "        for j in i:\n",
    "            for k in j:\n",
    "                for l in k:\n",
    "                    if l=='e':\n",
    "                        print('1')\n",
    "for o in l:                          # out of loop and l=='e' in 4 places hence there are four 1\n",
    "    print(o)"
   ]
  },
  {
   "cell_type": "code",
   "execution_count": null,
   "id": "12fc3890",
   "metadata": {},
   "outputs": [],
   "source": []
  }
 ],
 "metadata": {
  "kernelspec": {
   "display_name": "Python 3 (ipykernel)",
   "language": "python",
   "name": "python3"
  },
  "language_info": {
   "codemirror_mode": {
    "name": "ipython",
    "version": 3
   },
   "file_extension": ".py",
   "mimetype": "text/x-python",
   "name": "python",
   "nbconvert_exporter": "python",
   "pygments_lexer": "ipython3",
   "version": "3.10.9"
  }
 },
 "nbformat": 4,
 "nbformat_minor": 5
}
