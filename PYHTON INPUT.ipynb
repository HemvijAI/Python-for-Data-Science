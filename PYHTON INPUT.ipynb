{
 "cells": [
  {
   "cell_type": "code",
   "execution_count": 1,
   "id": "0a38d058",
   "metadata": {},
   "outputs": [
    {
     "name": "stdout",
     "output_type": "stream",
     "text": [
      "quotation of mark twain:5\n"
     ]
    },
    {
     "data": {
      "text/plain": [
       "'5'"
      ]
     },
     "execution_count": 1,
     "metadata": {},
     "output_type": "execute_result"
    }
   ],
   "source": [
    "input('quotation of mark twain:')"
   ]
  },
  {
   "cell_type": "code",
   "execution_count": 5,
   "id": "d9d99ec0",
   "metadata": {},
   "outputs": [
    {
     "name": "stdout",
     "output_type": "stream",
     "text": [
      "employee name{1,3}\n"
     ]
    },
    {
     "data": {
      "text/plain": [
       "'{1,3}'"
      ]
     },
     "execution_count": 5,
     "metadata": {},
     "output_type": "execute_result"
    }
   ],
   "source": [
    "input('employee name')"
   ]
  },
  {
   "cell_type": "code",
   "execution_count": 6,
   "id": "c92c159b",
   "metadata": {},
   "outputs": [
    {
     "name": "stdout",
     "output_type": "stream",
     "text": [
      "[1, 2, 3]{1,4}\n"
     ]
    },
    {
     "data": {
      "text/plain": [
       "'{1,4}'"
      ]
     },
     "execution_count": 6,
     "metadata": {},
     "output_type": "execute_result"
    }
   ],
   "source": [
    "input([1,2,3])"
   ]
  },
  {
   "cell_type": "code",
   "execution_count": 8,
   "id": "d38c22aa",
   "metadata": {},
   "outputs": [
    {
     "name": "stdout",
     "output_type": "stream",
     "text": [
      "employee name'suryansh'\n"
     ]
    },
    {
     "data": {
      "text/plain": [
       "\"'suryansh'\""
      ]
     },
     "execution_count": 8,
     "metadata": {},
     "output_type": "execute_result"
    }
   ],
   "source": [
    "input('employee name')"
   ]
  },
  {
   "cell_type": "code",
   "execution_count": 9,
   "id": "2d2eb739",
   "metadata": {},
   "outputs": [
    {
     "name": "stdout",
     "output_type": "stream",
     "text": [
      "employee namesuryansh\n"
     ]
    },
    {
     "data": {
      "text/plain": [
       "'suryansh'"
      ]
     },
     "execution_count": 9,
     "metadata": {},
     "output_type": "execute_result"
    }
   ],
   "source": [
    "input('employee name')"
   ]
  },
  {
   "cell_type": "code",
   "execution_count": 13,
   "id": "879b84c1",
   "metadata": {},
   "outputs": [
    {
     "name": "stdout",
     "output_type": "stream",
     "text": [
      "enter employee name'ok'\n",
      "enter salary'no'\n"
     ]
    }
   ],
   "source": [
    "name=input('enter employee name')\n",
    "salary=input('enter salary')"
   ]
  },
  {
   "cell_type": "code",
   "execution_count": 1,
   "id": "acd08ab2",
   "metadata": {},
   "outputs": [
    {
     "name": "stdout",
     "output_type": "stream",
     "text": [
      "enter employee name:suryansh\n",
      "enter salary:11222\n",
      "enter company name:gu gal\n",
      "\n",
      "\n",
      "printing employee details\n",
      "name salary company\n",
      "suryansh gu gal 11222\n",
      "suryansh\n"
     ]
    },
    {
     "data": {
      "text/plain": [
       "NoneType"
      ]
     },
     "execution_count": 1,
     "metadata": {},
     "output_type": "execute_result"
    }
   ],
   "source": [
    "name=input('enter employee name:')\n",
    "salary=input('enter salary:')\n",
    "company=input('enter company name:')\n",
    "print('\\n')\n",
    "print('printing employee details')\n",
    "print('name','salary','company')\n",
    "print(name, company , salary)\n",
    "type(print(name))"
   ]
  },
  {
   "cell_type": "code",
   "execution_count": 1,
   "id": "13531f1a",
   "metadata": {},
   "outputs": [
    {
     "name": "stdout",
     "output_type": "stream",
     "text": [
      "enter employee name:suryansh\n",
      "enter salary:11222\n",
      "enter company name:gu gal\n",
      "\n",
      "\n",
      "printing employee details\n",
      "name salary company\n",
      "suryansh , gu gal , 11222\n",
      "suryansh\n"
     ]
    },
    {
     "data": {
      "text/plain": [
       "NoneType"
      ]
     },
     "execution_count": 1,
     "metadata": {},
     "output_type": "execute_result"
    }
   ],
   "source": [
    "name=input('enter employee name:')\n",
    "salary=input('enter salary:')\n",
    "company=input('enter company name:')\n",
    "print('\\n')\n",
    "print('printing employee details')\n",
    "print('name','salary','company')\n",
    "print(name,',',company,',',salary)\n",
    "type(print(name))"
   ]
  },
  {
   "cell_type": "code",
   "execution_count": 2,
   "id": "8a5fb7db",
   "metadata": {},
   "outputs": [
    {
     "name": "stdout",
     "output_type": "stream",
     "text": [
      "enter employee name:suryansh\n",
      "enter salary:11222\n",
      "enter company name:gu gal\n",
      "\n",
      "\n",
      "printing employee details\n",
      "name salary company\n",
      "suryanshgu gal , gu gal , 11222\n",
      "suryansh\n"
     ]
    },
    {
     "data": {
      "text/plain": [
       "NoneType"
      ]
     },
     "execution_count": 2,
     "metadata": {},
     "output_type": "execute_result"
    }
   ],
   "source": [
    "name=input('enter employee name:')\n",
    "salary=input('enter salary:')\n",
    "company=input('enter company name:')\n",
    "print('\\n')\n",
    "print('printing employee details')\n",
    "print('name','salary','company')\n",
    "print(name+company,',',company,',',salary)\n",
    "type(print(name))"
   ]
  },
  {
   "cell_type": "code",
   "execution_count": 3,
   "id": "8c12efc1",
   "metadata": {},
   "outputs": [
    {
     "name": "stdout",
     "output_type": "stream",
     "text": [
      "enter employee name:'a'\n",
      "enter salary:'s'\n",
      "enter company name:'s'\n",
      "\n",
      "\n",
      "printing employee details\n",
      "name salary company\n",
      "'a''s' 's' 's'\n",
      "'a'\n"
     ]
    },
    {
     "data": {
      "text/plain": [
       "NoneType"
      ]
     },
     "execution_count": 3,
     "metadata": {},
     "output_type": "execute_result"
    }
   ],
   "source": [
    "name=input('enter employee name:')\n",
    "salary=input('enter salary:')\n",
    "company=input('enter company name:')\n",
    "print('\\n')\n",
    "print('printing employee details')\n",
    "print('name','salary','company')\n",
    "print(name+company,company,salary)\n",
    "type((name))"
   ]
  },
  {
   "cell_type": "code",
   "execution_count": null,
   "id": "bb33e1d0",
   "metadata": {},
   "outputs": [],
   "source": [
    "name=input(int(1))\n",
    "type(name)\n",
    "salary=input('enter salary:')\n",
    "company=input('enter company name:')\n",
    "print('\\n')\n",
    "print('printing employee details')\n",
    "print('name','salary','company')\n",
    "print(name+company,company,salary)\n",
    "type(print(name))"
   ]
  },
  {
   "cell_type": "code",
   "execution_count": null,
   "id": "31e4d825",
   "metadata": {},
   "outputs": [],
   "source": []
  }
 ],
 "metadata": {
  "kernelspec": {
   "display_name": "Python 3 (ipykernel)",
   "language": "python",
   "name": "python3"
  },
  "language_info": {
   "codemirror_mode": {
    "name": "ipython",
    "version": 3
   },
   "file_extension": ".py",
   "mimetype": "text/x-python",
   "name": "python",
   "nbconvert_exporter": "python",
   "pygments_lexer": "ipython3",
   "version": "3.10.9"
  }
 },
 "nbformat": 4,
 "nbformat_minor": 5
}
