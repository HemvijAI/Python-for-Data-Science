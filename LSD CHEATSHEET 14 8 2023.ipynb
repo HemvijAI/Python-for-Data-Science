{
 "cells": [
  {
   "cell_type": "markdown",
   "id": "5ddfbdcf",
   "metadata": {},
   "source": [
    "- removing items from as set- remove() vs discard()\n",
    "- removing elements from a List\n",
    "- remove specific item\n",
    "- remove all occurence of a specific item\n",
    "- remove item present at a given index\n",
    "- remove the range of given items\n",
    "- remove all items\n",
    "- removing elements from a list\n",
    "- removing items from a dictionary"
   ]
  },
  {
   "cell_type": "markdown",
   "id": "f73d8139",
   "metadata": {},
   "source": [
    "##### remove() vs discard()"
   ]
  },
  {
   "cell_type": "code",
   "execution_count": 34,
   "id": "d3eb68aa",
   "metadata": {},
   "outputs": [
    {
     "name": "stdout",
     "output_type": "stream",
     "text": [
      "{1, 3, 34, 6, 7, 45, 433}\n"
     ]
    }
   ],
   "source": [
    "set1={1,2,3,45,6,7,34,433}         \n",
    "set1.remove(2)\n",
    "print(set1)"
   ]
  },
  {
   "cell_type": "code",
   "execution_count": 35,
   "id": "a77886a0",
   "metadata": {},
   "outputs": [
    {
     "ename": "KeyError",
     "evalue": "0",
     "output_type": "error",
     "traceback": [
      "\u001b[1;31m---------------------------------------------------------------------------\u001b[0m",
      "\u001b[1;31mKeyError\u001b[0m                                  Traceback (most recent call last)",
      "Cell \u001b[1;32mIn[35], line 2\u001b[0m\n\u001b[0;32m      1\u001b[0m set1\u001b[38;5;241m=\u001b[39m{\u001b[38;5;241m1\u001b[39m,\u001b[38;5;241m2\u001b[39m,\u001b[38;5;241m3\u001b[39m,\u001b[38;5;241m45\u001b[39m,\u001b[38;5;241m6\u001b[39m,\u001b[38;5;241m7\u001b[39m,\u001b[38;5;241m34\u001b[39m,\u001b[38;5;241m433\u001b[39m}\n\u001b[1;32m----> 2\u001b[0m \u001b[43mset1\u001b[49m\u001b[38;5;241;43m.\u001b[39;49m\u001b[43mremove\u001b[49m\u001b[43m(\u001b[49m\u001b[38;5;241;43m0\u001b[39;49m\u001b[43m)\u001b[49m\n\u001b[0;32m      3\u001b[0m \u001b[38;5;28mprint\u001b[39m(set1)\n",
      "\u001b[1;31mKeyError\u001b[0m: 0"
     ]
    }
   ],
   "source": [
    "set1={1,2,3,45,6,7,34,433}\n",
    "set1.remove(0)\n",
    "print(set1)"
   ]
  },
  {
   "cell_type": "code",
   "execution_count": null,
   "id": "f41dcffe",
   "metadata": {},
   "outputs": [],
   "source": [
    "set1={1,2,3,45,6,7,34,433}\n",
    "set1.discard(2)\n",
    "print(set1)"
   ]
  },
  {
   "cell_type": "code",
   "execution_count": 28,
   "id": "8282b3e8",
   "metadata": {},
   "outputs": [
    {
     "name": "stdout",
     "output_type": "stream",
     "text": [
      "{1, 2, 3, 34, 6, 7, 45, 433}\n"
     ]
    }
   ],
   "source": [
    "set1={1,2,3,45,6,7,34,433}\n",
    "set1.discard(0)\n",
    "print(set1)"
   ]
  },
  {
   "cell_type": "code",
   "execution_count": null,
   "id": "5b2836fa",
   "metadata": {},
   "outputs": [],
   "source": []
  },
  {
   "cell_type": "code",
   "execution_count": 79,
   "id": "db9b3ce8",
   "metadata": {},
   "outputs": [
    {
     "ename": "TypeError",
     "evalue": "list.remove() takes exactly one argument (2 given)",
     "output_type": "error",
     "traceback": [
      "\u001b[1;31m---------------------------------------------------------------------------\u001b[0m",
      "\u001b[1;31mTypeError\u001b[0m                                 Traceback (most recent call last)",
      "Cell \u001b[1;32mIn[79], line 2\u001b[0m\n\u001b[0;32m      1\u001b[0m list_A\u001b[38;5;241m=\u001b[39m[\u001b[38;5;241m1\u001b[39m,\u001b[38;5;241m1\u001b[39m,\u001b[38;5;241m2\u001b[39m,\u001b[38;5;241m1\u001b[39m,\u001b[38;5;241m4\u001b[39m,\u001b[38;5;241m1\u001b[39m,\u001b[38;5;241m6\u001b[39m,\u001b[38;5;241m7\u001b[39m,\u001b[38;5;241m9\u001b[39m]\n\u001b[1;32m----> 2\u001b[0m \u001b[43mlist_A\u001b[49m\u001b[38;5;241;43m.\u001b[39;49m\u001b[43mremove\u001b[49m\u001b[43m(\u001b[49m\u001b[38;5;28;43mall\u001b[39;49m\u001b[43m,\u001b[49m\u001b[38;5;241;43m1\u001b[39;49m\u001b[43m)\u001b[49m\n\u001b[0;32m      3\u001b[0m \u001b[38;5;28mprint\u001b[39m(list_A)\n",
      "\u001b[1;31mTypeError\u001b[0m: list.remove() takes exactly one argument (2 given)"
     ]
    }
   ],
   "source": [
    "list_A=[1,1,2,1,4,1,6,7,9]\n",
    "list_A.remove(all,1)\n",
    "print(list_A)"
   ]
  },
  {
   "cell_type": "code",
   "execution_count": 39,
   "id": "6979e9b0",
   "metadata": {},
   "outputs": [
    {
     "ename": "TypeError",
     "evalue": "list.remove() takes exactly one argument (2 given)",
     "output_type": "error",
     "traceback": [
      "\u001b[1;31m---------------------------------------------------------------------------\u001b[0m",
      "\u001b[1;31mTypeError\u001b[0m                                 Traceback (most recent call last)",
      "Cell \u001b[1;32mIn[39], line 2\u001b[0m\n\u001b[0;32m      1\u001b[0m list_A\u001b[38;5;241m=\u001b[39m[\u001b[38;5;241m1\u001b[39m,\u001b[38;5;241m1\u001b[39m,\u001b[38;5;241m2\u001b[39m,\u001b[38;5;241m1\u001b[39m,\u001b[38;5;241m4\u001b[39m,\u001b[38;5;241m1\u001b[39m,\u001b[38;5;241m6\u001b[39m,\u001b[38;5;241m7\u001b[39m,\u001b[38;5;241m9\u001b[39m]  \u001b[38;5;66;03m# takes only one argument \u001b[39;00m\n\u001b[1;32m----> 2\u001b[0m \u001b[43mlist_A\u001b[49m\u001b[38;5;241;43m.\u001b[39;49m\u001b[43mremove\u001b[49m\u001b[43m(\u001b[49m\u001b[38;5;241;43m2\u001b[39;49m\u001b[43m,\u001b[49m\u001b[38;5;241;43m1\u001b[39;49m\u001b[43m)\u001b[49m\n\u001b[0;32m      3\u001b[0m \u001b[38;5;28mprint\u001b[39m(list_A)\n",
      "\u001b[1;31mTypeError\u001b[0m: list.remove() takes exactly one argument (2 given)"
     ]
    }
   ],
   "source": [
    "list_A=[1,1,2,1,4,1,6,7,9]  # takes only one argument \n",
    "list_A.remove(2,1)\n",
    "print(list_A)"
   ]
  },
  {
   "cell_type": "code",
   "execution_count": 38,
   "id": "5ce8d971",
   "metadata": {},
   "outputs": [
    {
     "ename": "AttributeError",
     "evalue": "'list' object has no attribute 'discard'",
     "output_type": "error",
     "traceback": [
      "\u001b[1;31m---------------------------------------------------------------------------\u001b[0m",
      "\u001b[1;31mAttributeError\u001b[0m                            Traceback (most recent call last)",
      "Cell \u001b[1;32mIn[38], line 2\u001b[0m\n\u001b[0;32m      1\u001b[0m list_A\u001b[38;5;241m=\u001b[39m[\u001b[38;5;241m1\u001b[39m,\u001b[38;5;241m1\u001b[39m,\u001b[38;5;241m2\u001b[39m,\u001b[38;5;241m1\u001b[39m,\u001b[38;5;241m4\u001b[39m,\u001b[38;5;241m1\u001b[39m,\u001b[38;5;241m6\u001b[39m,\u001b[38;5;241m7\u001b[39m,\u001b[38;5;241m9\u001b[39m]  \u001b[38;5;66;03m# takes only one argument \u001b[39;00m\n\u001b[1;32m----> 2\u001b[0m \u001b[43mlist_A\u001b[49m\u001b[38;5;241;43m.\u001b[39;49m\u001b[43mdiscard\u001b[49m(\u001b[38;5;241m2\u001b[39m)\n\u001b[0;32m      3\u001b[0m \u001b[38;5;28mprint\u001b[39m(list_A)\n",
      "\u001b[1;31mAttributeError\u001b[0m: 'list' object has no attribute 'discard'"
     ]
    }
   ],
   "source": [
    "list_A=[1,1,2,1,4,1,6,7,9]  # takes only one argument \n",
    "list_A.discard(2)\n",
    "print(list_A)"
   ]
  },
  {
   "cell_type": "code",
   "execution_count": null,
   "id": "da012434",
   "metadata": {},
   "outputs": [],
   "source": []
  },
  {
   "cell_type": "code",
   "execution_count": null,
   "id": "2bc06761",
   "metadata": {},
   "outputs": [],
   "source": []
  },
  {
   "cell_type": "markdown",
   "id": "d5400c14",
   "metadata": {},
   "source": [
    "- adding items to the list\n",
    "- append item at the end of the list\n",
    "- add item at the specified position in the list\n",
    "- adding items to the dictionary\n",
    "\n",
    "\n",
    "\n",
    "\n",
    "\n"
   ]
  },
  {
   "cell_type": "code",
   "execution_count": 11,
   "id": "d3fd79be",
   "metadata": {},
   "outputs": [
    {
     "name": "stdout",
     "output_type": "stream",
     "text": [
      "[1, 2, 3, 4, 5, 6, 667, 12]\n"
     ]
    }
   ],
   "source": [
    "list1=[1,2,3,4,5,6,667]\n",
    "list1.append(12)\n",
    "print(list1)"
   ]
  },
  {
   "cell_type": "code",
   "execution_count": 12,
   "id": "4bd0ad32",
   "metadata": {},
   "outputs": [
    {
     "name": "stdout",
     "output_type": "stream",
     "text": [
      "[1, 2, 3, 4, 5, 6, 667, [12, 23]]\n"
     ]
    }
   ],
   "source": [
    "list1=[1,2,3,4,5,6,667]\n",
    "list1.append([12,23])\n",
    "print(list1)"
   ]
  },
  {
   "cell_type": "code",
   "execution_count": 14,
   "id": "76101bf8",
   "metadata": {},
   "outputs": [
    {
     "name": "stdout",
     "output_type": "stream",
     "text": [
      "[1, 99, 2, 3, 4, 5, 6, 667]\n"
     ]
    }
   ],
   "source": [
    "list1=[1,2,3,4,5,6,667]\n",
    "list1.insert(1,99)\n",
    "print(list1)"
   ]
  },
  {
   "cell_type": "code",
   "execution_count": 15,
   "id": "6ea04fbb",
   "metadata": {},
   "outputs": [
    {
     "name": "stdout",
     "output_type": "stream",
     "text": [
      "[1, (99, 111, 212, 432), 2, 3, 4, 5, 6, 667]\n"
     ]
    }
   ],
   "source": [
    "list1=[1,2,3,4,5,6,667]\n",
    "list1.insert(1,(99,111,212,432))\n",
    "print(list1)"
   ]
  },
  {
   "cell_type": "code",
   "execution_count": 17,
   "id": "e335d816",
   "metadata": {},
   "outputs": [
    {
     "ename": "TypeError",
     "evalue": "insert expected 2 arguments, got 5",
     "output_type": "error",
     "traceback": [
      "\u001b[1;31m---------------------------------------------------------------------------\u001b[0m",
      "\u001b[1;31mTypeError\u001b[0m                                 Traceback (most recent call last)",
      "Cell \u001b[1;32mIn[17], line 2\u001b[0m\n\u001b[0;32m      1\u001b[0m list1\u001b[38;5;241m=\u001b[39m[\u001b[38;5;241m1\u001b[39m,\u001b[38;5;241m2\u001b[39m,\u001b[38;5;241m3\u001b[39m,\u001b[38;5;241m4\u001b[39m,\u001b[38;5;241m5\u001b[39m,\u001b[38;5;241m6\u001b[39m,\u001b[38;5;241m667\u001b[39m]\n\u001b[1;32m----> 2\u001b[0m \u001b[43mlist1\u001b[49m\u001b[38;5;241;43m.\u001b[39;49m\u001b[43minsert\u001b[49m\u001b[43m(\u001b[49m\u001b[38;5;241;43m1\u001b[39;49m\u001b[43m,\u001b[49m\u001b[38;5;241;43m99\u001b[39;49m\u001b[43m,\u001b[49m\u001b[38;5;241;43m111\u001b[39;49m\u001b[43m,\u001b[49m\u001b[38;5;241;43m212\u001b[39;49m\u001b[43m,\u001b[49m\u001b[38;5;241;43m432\u001b[39;49m\u001b[43m)\u001b[49m  \u001b[38;5;66;03m# can add only one item at one time at specified index value\u001b[39;00m\n\u001b[0;32m      3\u001b[0m \u001b[38;5;28mprint\u001b[39m(list1)\n",
      "\u001b[1;31mTypeError\u001b[0m: insert expected 2 arguments, got 5"
     ]
    }
   ],
   "source": [
    "list1=[1,2,3,4,5,6,667]\n",
    "list1.insert(1,99,111,212,432)  # can add only one item at one time at specified index value\n",
    "print(list1)"
   ]
  },
  {
   "cell_type": "code",
   "execution_count": 20,
   "id": "b3703099",
   "metadata": {},
   "outputs": [
    {
     "name": "stdout",
     "output_type": "stream",
     "text": [
      "{'fruit': 'mango', 'weapons': 'AK-47', 'social media': 'instagram', 'singer': 'arijit singh'}\n"
     ]
    }
   ],
   "source": [
    "dict1={'fruit':'mango', 'weapons':'AK-47','social media':'instagram'}\n",
    "dict1.update({'singer':'arijit singh'})\n",
    "print(dict1)"
   ]
  },
  {
   "cell_type": "code",
   "execution_count": null,
   "id": "3d67d1fe",
   "metadata": {},
   "outputs": [],
   "source": []
  },
  {
   "cell_type": "markdown",
   "id": "9e8a8da3",
   "metadata": {},
   "source": [
    "SET OPERATORS\n",
    "\n",
    "\n",
    "- union of sets\n",
    "- intersection of sets\n",
    "- intersection update\n",
    "- difference of sets\n",
    "- difference update\n",
    "- symmetric difference of sets\n",
    "- symmetric difference update\n",
    "- copying of set\n",
    "- subset and superset\n",
    "- find whether two sets are disjoint\n",
    "- sort the set\n",
    "- using python built in functions for set\n",
    "- all() and any()\n",
    "- max() and min()\n"
   ]
  },
  {
   "cell_type": "code",
   "execution_count": 21,
   "id": "020acd6f",
   "metadata": {},
   "outputs": [
    {
     "data": {
      "text/plain": [
       "{1, 2, 3, 4, 5, 6, 7}"
      ]
     },
     "execution_count": 21,
     "metadata": {},
     "output_type": "execute_result"
    }
   ],
   "source": [
    "set1={1,2,3,4,5}\n",
    "set2={3,4,5,6,7}\n",
    "set1.union(set2)"
   ]
  },
  {
   "cell_type": "code",
   "execution_count": 22,
   "id": "cd484735",
   "metadata": {},
   "outputs": [
    {
     "data": {
      "text/plain": [
       "{3, 4, 5}"
      ]
     },
     "execution_count": 22,
     "metadata": {},
     "output_type": "execute_result"
    }
   ],
   "source": [
    "set1={1,2,3,4,5}\n",
    "set2={3,4,5,6,7}\n",
    "set1.intersection(set2)"
   ]
  },
  {
   "cell_type": "code",
   "execution_count": 24,
   "id": "55254653",
   "metadata": {},
   "outputs": [
    {
     "name": "stdout",
     "output_type": "stream",
     "text": [
      "{3, 4, 5}\n"
     ]
    }
   ],
   "source": [
    "set1={1,2,3,4,5}\n",
    "set2={3,4,5,6,7}\n",
    "set1.intersection_update(set2)\n",
    "print(set1)"
   ]
  },
  {
   "cell_type": "code",
   "execution_count": 26,
   "id": "5a160643",
   "metadata": {},
   "outputs": [
    {
     "data": {
      "text/plain": [
       "{1, 2}"
      ]
     },
     "execution_count": 26,
     "metadata": {},
     "output_type": "execute_result"
    }
   ],
   "source": [
    "set1={1,2,3,4,5}\n",
    "set2={3,4,5,6,7}\n",
    "set1.difference(set2)\n"
   ]
  },
  {
   "cell_type": "code",
   "execution_count": 27,
   "id": "453e7584",
   "metadata": {},
   "outputs": [
    {
     "data": {
      "text/plain": [
       "{1, 2}"
      ]
     },
     "execution_count": 27,
     "metadata": {},
     "output_type": "execute_result"
    }
   ],
   "source": [
    "set1={1,2,3,4,5}\n",
    "set2={3,4,5,6,7}\n",
    "set1-set2\n",
    "\n"
   ]
  },
  {
   "cell_type": "code",
   "execution_count": 29,
   "id": "a0aab4bd",
   "metadata": {},
   "outputs": [
    {
     "name": "stdout",
     "output_type": "stream",
     "text": [
      "{1, 2}\n"
     ]
    }
   ],
   "source": [
    "set1={1,2,3,4,5}\n",
    "set2={3,4,5,6,7}\n",
    "set1.difference_update(set2)\n",
    "print(set1)\n"
   ]
  },
  {
   "cell_type": "code",
   "execution_count": 30,
   "id": "c6860cb0",
   "metadata": {},
   "outputs": [
    {
     "data": {
      "text/plain": [
       "{1, 2, 6, 7}"
      ]
     },
     "execution_count": 30,
     "metadata": {},
     "output_type": "execute_result"
    }
   ],
   "source": [
    "set1={1,2,3,4,5}\n",
    "set2={3,4,5,6,7}\n",
    "set1.symmetric_difference(set2)\n"
   ]
  },
  {
   "cell_type": "code",
   "execution_count": 32,
   "id": "eeaec26f",
   "metadata": {},
   "outputs": [
    {
     "name": "stdout",
     "output_type": "stream",
     "text": [
      "{1, 2, 6, 7}\n"
     ]
    }
   ],
   "source": [
    "set1={1,2,3,4,5}\n",
    "set2={3,4,5,6,7}\n",
    "set1.symmetric_difference_update(set2)\n",
    "print(set1)\n"
   ]
  },
  {
   "cell_type": "code",
   "execution_count": 36,
   "id": "9cd6fb37",
   "metadata": {},
   "outputs": [
    {
     "data": {
      "text/plain": [
       "{1, 2, 3, 4, 5}"
      ]
     },
     "execution_count": 36,
     "metadata": {},
     "output_type": "execute_result"
    }
   ],
   "source": [
    "set1={1,2,3,4,5}\n",
    "set2={3,4,5,6,7}\n",
    "set1.copy()"
   ]
  },
  {
   "cell_type": "code",
   "execution_count": 37,
   "id": "8dceb98a",
   "metadata": {},
   "outputs": [
    {
     "data": {
      "text/plain": [
       "{1, 2, 3, 4, 5, 6, 7}"
      ]
     },
     "execution_count": 37,
     "metadata": {},
     "output_type": "execute_result"
    }
   ],
   "source": [
    "set1={1,2,3,4,5}\n",
    "set2={3,4,5,6,7}\n",
    "set1.union(set2).copy()"
   ]
  },
  {
   "cell_type": "code",
   "execution_count": 38,
   "id": "74d639ed",
   "metadata": {},
   "outputs": [
    {
     "name": "stdout",
     "output_type": "stream",
     "text": [
      "True\n",
      "False\n"
     ]
    }
   ],
   "source": [
    "set1={1,2,3,4,5}\n",
    "set2={3,4,5}\n",
    "print(set1.issuperset(set2))\n",
    "print(set1.issubset(set2))"
   ]
  },
  {
   "cell_type": "code",
   "execution_count": 46,
   "id": "d9ba6ddb",
   "metadata": {},
   "outputs": [
    {
     "name": "stdout",
     "output_type": "stream",
     "text": [
      "set()\n",
      "True\n"
     ]
    }
   ],
   "source": [
    "set1={1,2,3,4,5} \n",
    "set2={33,44,55}                  #when intersection is null set or 0 then sets are disjoint.\n",
    "print(set1.intersection(set2))\n",
    "print(set1.isdisjoint(set2))"
   ]
  },
  {
   "cell_type": "code",
   "execution_count": 68,
   "id": "4db6d7dd",
   "metadata": {},
   "outputs": [
    {
     "name": "stdout",
     "output_type": "stream",
     "text": [
      "{3, 4}\n",
      "False\n"
     ]
    }
   ],
   "source": [
    "set1={1,2,3,4,5} \n",
    "set2={3,4,55}                  #when intersection is a set then sets are not disjoint.\n",
    "print(set1.intersection(set2))\n",
    "print(set1.isdisjoint(set2))"
   ]
  },
  {
   "cell_type": "code",
   "execution_count": 69,
   "id": "a7272c43",
   "metadata": {},
   "outputs": [
    {
     "data": {
      "text/plain": [
       "True"
      ]
     },
     "execution_count": 69,
     "metadata": {},
     "output_type": "execute_result"
    }
   ],
   "source": [
    "set1={1,2,3,4,5} \n",
    "set2={33,44,55}\n",
    "set1.isdisjoint(set2)"
   ]
  },
  {
   "cell_type": "code",
   "execution_count": 43,
   "id": "0f7162a9",
   "metadata": {},
   "outputs": [
    {
     "data": {
      "text/plain": [
       "False"
      ]
     },
     "execution_count": 43,
     "metadata": {},
     "output_type": "execute_result"
    }
   ],
   "source": [
    "set1={1,2,3,4,5} \n",
    "set2={3,4,5}\n",
    "set1.isdisjoint(set2)"
   ]
  },
  {
   "cell_type": "code",
   "execution_count": 66,
   "id": "0e680c6b",
   "metadata": {},
   "outputs": [
    {
     "name": "stdout",
     "output_type": "stream",
     "text": [
      "{4544, 1, 2, 3, 5, 6, 999999}\n",
      "frozenset({4544, 1, 2, 3, 5, 6, 999999})\n",
      "{4544, 1, 2, 3, 5, 6, frozenset({4544, 1, 2, 3, 5, 6, 999999}), 999999}\n"
     ]
    }
   ],
   "source": [
    "set1={1,2,3,4544,5,6,999999}\n",
    "print(set1)\n",
    "frozen_set=frozenset(set1)\n",
    "print(frozen_set)\n",
    "set1.add(frozen_set)\n",
    "print(set1)"
   ]
  },
  {
   "cell_type": "code",
   "execution_count": 75,
   "id": "cdf2c777",
   "metadata": {},
   "outputs": [
    {
     "data": {
      "text/plain": [
       "[1, 2, 3, 4, 5]"
      ]
     },
     "execution_count": 75,
     "metadata": {},
     "output_type": "execute_result"
    }
   ],
   "source": [
    "set1={1,2,3,4,5} \n",
    "set2={3,4,5}\n",
    "set1_sort=sorted(set1)\n",
    "set1_sort"
   ]
  },
  {
   "cell_type": "code",
   "execution_count": 85,
   "id": "bb206861",
   "metadata": {},
   "outputs": [
    {
     "name": "stdout",
     "output_type": "stream",
     "text": [
      "3\n"
     ]
    },
    {
     "data": {
      "text/plain": [
       "5"
      ]
     },
     "execution_count": 85,
     "metadata": {},
     "output_type": "execute_result"
    }
   ],
   "source": [
    "set1={1,2,3,4,5} \n",
    "set2={3,4,5}\n",
    "print(min(set2))\n",
    "max(set1)"
   ]
  },
  {
   "cell_type": "code",
   "execution_count": 83,
   "id": "52c362a8",
   "metadata": {},
   "outputs": [
    {
     "ename": "TypeError",
     "evalue": "'>' not supported between instances of 'str' and 'int'",
     "output_type": "error",
     "traceback": [
      "\u001b[1;31m---------------------------------------------------------------------------\u001b[0m",
      "\u001b[1;31mTypeError\u001b[0m                                 Traceback (most recent call last)",
      "Cell \u001b[1;32mIn[83], line 2\u001b[0m\n\u001b[0;32m      1\u001b[0m list1\u001b[38;5;241m=\u001b[39m[\u001b[38;5;241m1\u001b[39m,\u001b[38;5;241m2\u001b[39m,\u001b[38;5;241m3\u001b[39m,\u001b[38;5;241m4\u001b[39m,\u001b[38;5;241m5\u001b[39m,\u001b[38;5;124m'\u001b[39m\u001b[38;5;124msad\u001b[39m\u001b[38;5;124m'\u001b[39m]\n\u001b[1;32m----> 2\u001b[0m \u001b[38;5;28;43mmax\u001b[39;49m\u001b[43m(\u001b[49m\u001b[43mlist1\u001b[49m\u001b[43m)\u001b[49m\n",
      "\u001b[1;31mTypeError\u001b[0m: '>' not supported between instances of 'str' and 'int'"
     ]
    }
   ],
   "source": [
    "list1=[1,2,3,4,5,'sad']\n",
    "max(list1)\n"
   ]
  },
  {
   "cell_type": "code",
   "execution_count": null,
   "id": "a5a75886",
   "metadata": {},
   "outputs": [],
   "source": [
    "reverse"
   ]
  },
  {
   "cell_type": "code",
   "execution_count": null,
   "id": "fe9f7880",
   "metadata": {},
   "outputs": [],
   "source": []
  },
  {
   "cell_type": "code",
   "execution_count": null,
   "id": "859435e3",
   "metadata": {},
   "outputs": [],
   "source": []
  },
  {
   "cell_type": "code",
   "execution_count": null,
   "id": "ec13d0f5",
   "metadata": {},
   "outputs": [],
   "source": []
  },
  {
   "cell_type": "markdown",
   "id": "a70added",
   "metadata": {},
   "source": [
    "List Operations\n",
    "\n",
    "- sort List using sort()\n",
    "- reverse a list using reverse\n",
    "- python built-in-function\n",
    "- using max() and min()\n",
    "- using sum()\n",
    "- all()\n",
    "- any()\n",
    "- nested list\n"
   ]
  },
  {
   "cell_type": "markdown",
   "id": "c8cccb2a",
   "metadata": {},
   "source": [
    "dictionary operations"
   ]
  },
  {
   "cell_type": "markdown",
   "id": "51c6fe06",
   "metadata": {},
   "source": [
    "- join two dictionary \n",
    "- using update () method\n",
    "- using **kwargs to method\n",
    "- join two dictionaries having a few items in common\n",
    "- copy a dictionary\n",
    "- copy using the assignment operator\n",
    "- nested dictionary \n",
    "- add multiple dictionaries inside a single dictionary\n",
    "- sort dictionary\n",
    "- dictionary comprehension\n",
    "- python built-in-functions with dictionary\n",
    "- max() and min()\n",
    "- all()\n",
    "- any()\n"
   ]
  },
  {
   "cell_type": "markdown",
   "id": "a518b3d9",
   "metadata": {},
   "source": [
    "- frozenset()\n",
    "- when to use frozenset()\n",
    "- nested sets()\n",
    "- set comprehension"
   ]
  },
  {
   "cell_type": "markdown",
   "id": "af1841c9",
   "metadata": {},
   "source": [
    "-  when to use set data structure ?\n",
    "-  when to use dictionaries"
   ]
  },
  {
   "cell_type": "markdown",
   "id": "5ea308fa",
   "metadata": {},
   "source": [
    "## summary of list operations"
   ]
  },
  {
   "cell_type": "markdown",
   "id": "e91e34a1",
   "metadata": {},
   "source": [
    "l1=[10,20,30,40,50]\n",
    "l2=[60,70,80]\n",
    "- x in l1 :  check if list l1 contains item x\n",
    "- x not in l2 : check if list l1 does not contain item x.\n",
    "- l1+l2 : concatenate the list l1 and l2 creates a new list containing the items from l1 and l2\n",
    "- l1*5 : repeats the list l1 5 times\n",
    "- l1[i]: get the item at index i. example l2[2] is 30 \n",
    "- l1[i:j] : list slicing . get the items from index  i up to index j (excluding j) as a list . e.g.- l1[0:2] is [10,20]\n",
    "- l1[i:j:k] : list slicing with step.Returns a list with the items from index i up to index j taking every k-th item. an e.g\n",
    "                         l1[0:4:2] is [10,30]\n",
    "- len(l1): returns a count of total items in a list.\n",
    "- l2.count(60) :  returns the number of items a particular item (60)appears in a list. the answer is 2\n",
    "- l1.index(0)  : RETURNS THE INDEX NUMBER OF A PARTICUALR ITEM\n",
    "- l1.index(30,2,5)   :  RETURNS THE INDEX NUMBER OF A PARTICULAR ITEM (30) IN A LIST . BUT SEARCH RETURNS THE ITEMS WITH THE                          MAXIIMUM VALUE OF LIST. THE ANSWER IS ONLY FROM INDEX NUMBER 2 TO 5\n",
    "- min() : RETURNS THE ITEM WITH THE MINIMUM VALUE . \n",
    "- max() : RETURNS THE ITEM WITH THE MAXIMUM VALUE.\n"
   ]
  },
  {
   "cell_type": "markdown",
   "id": "68e0bc75",
   "metadata": {},
   "source": [
    "- l1.append      : add item at the end of a list \n",
    "- l1.append[a,d,f,g] : append the nested list at the end\n",
    "- l1[x]=a : modify the list list by replacing element present at index x with a\n",
    "- l.remove(x) : removes the first occurence of element (x) in the list\n",
    "- pop(2)  removes and returns the value of item present at index 2 from the list\n",
    "- l.clear() : make the list empty\n",
    "- l1=l2.copy() : copy l1 into l2 \n",
    " "
   ]
  },
  {
   "cell_type": "code",
   "execution_count": null,
   "id": "92c47e9d",
   "metadata": {},
   "outputs": [],
   "source": [
    "list1=[1,2,3,45,6,7,34,433]        \n",
    "list1.remove(2)\n",
    "print(list1)\n"
   ]
  },
  {
   "cell_type": "code",
   "execution_count": 65,
   "id": "41db59a5",
   "metadata": {},
   "outputs": [
    {
     "ename": "ValueError",
     "evalue": "list.remove(x): x not in list",
     "output_type": "error",
     "traceback": [
      "\u001b[1;31m---------------------------------------------------------------------------\u001b[0m",
      "\u001b[1;31mValueError\u001b[0m                                Traceback (most recent call last)",
      "Cell \u001b[1;32mIn[65], line 2\u001b[0m\n\u001b[0;32m      1\u001b[0m list1\u001b[38;5;241m=\u001b[39m[\u001b[38;5;241m1\u001b[39m,\u001b[38;5;241m2\u001b[39m,\u001b[38;5;241m3\u001b[39m,\u001b[38;5;241m45\u001b[39m,\u001b[38;5;241m6\u001b[39m,\u001b[38;5;241m7\u001b[39m,\u001b[38;5;241m34\u001b[39m,\u001b[38;5;241m433\u001b[39m]        \n\u001b[1;32m----> 2\u001b[0m \u001b[43mlist1\u001b[49m\u001b[38;5;241;43m.\u001b[39;49m\u001b[43mremove\u001b[49m\u001b[43m(\u001b[49m\u001b[43mlist1\u001b[49m\u001b[43m[\u001b[49m\u001b[38;5;241;43m1\u001b[39;49m\u001b[43m:\u001b[49m\u001b[38;5;241;43m5\u001b[39;49m\u001b[43m]\u001b[49m\u001b[43m)\u001b[49m\n\u001b[0;32m      3\u001b[0m \u001b[38;5;28mprint\u001b[39m(list1)\n",
      "\u001b[1;31mValueError\u001b[0m: list.remove(x): x not in list"
     ]
    }
   ],
   "source": [
    "list1=[1,2,3,45,6,7,34,433]        \n",
    "list1.remove(list1[1:5])\n",
    "print(list1)"
   ]
  },
  {
   "cell_type": "code",
   "execution_count": 63,
   "id": "fe3fe95e",
   "metadata": {},
   "outputs": [
    {
     "ename": "ValueError",
     "evalue": "list.remove(x): x not in list",
     "output_type": "error",
     "traceback": [
      "\u001b[1;31m---------------------------------------------------------------------------\u001b[0m",
      "\u001b[1;31mValueError\u001b[0m                                Traceback (most recent call last)",
      "Cell \u001b[1;32mIn[63], line 2\u001b[0m\n\u001b[0;32m      1\u001b[0m list1\u001b[38;5;241m=\u001b[39m[\u001b[38;5;241m1\u001b[39m,\u001b[38;5;241m2\u001b[39m,\u001b[38;5;241m3\u001b[39m,\u001b[38;5;241m45\u001b[39m,\u001b[38;5;241m6\u001b[39m,\u001b[38;5;241m7\u001b[39m,\u001b[38;5;241m34\u001b[39m,\u001b[38;5;241m433\u001b[39m]        \n\u001b[1;32m----> 2\u001b[0m \u001b[43mlist1\u001b[49m\u001b[38;5;241;43m.\u001b[39;49m\u001b[43mremove\u001b[49m\u001b[43m(\u001b[49m\u001b[43m[\u001b[49m\u001b[43mlist1\u001b[49m\u001b[43m[\u001b[49m\u001b[38;5;241;43m1\u001b[39;49m\u001b[43m:\u001b[49m\u001b[38;5;241;43m5\u001b[39;49m\u001b[43m]\u001b[49m\u001b[43m]\u001b[49m\u001b[43m)\u001b[49m\n\u001b[0;32m      3\u001b[0m \u001b[38;5;28mprint\u001b[39m(list1)\n",
      "\u001b[1;31mValueError\u001b[0m: list.remove(x): x not in list"
     ]
    }
   ],
   "source": [
    "list1=[1,2,3,45,6,7,34,433]        \n",
    "list1.remove([list1[1:5]])\n",
    "print(list1)"
   ]
  },
  {
   "cell_type": "code",
   "execution_count": 44,
   "id": "1115318b",
   "metadata": {},
   "outputs": [
    {
     "name": "stdout",
     "output_type": "stream",
     "text": [
      "[1, 3, 1, 45, 6, 7, 2, 34, 433]\n"
     ]
    }
   ],
   "source": [
    "list1=[1,2,3,1,45,6,7,2,34,433]         # removes first occuring 2\n",
    "list1.remove(2)\n",
    "print(list1)"
   ]
  },
  {
   "cell_type": "code",
   "execution_count": 49,
   "id": "9e00719d",
   "metadata": {},
   "outputs": [
    {
     "name": "stdout",
     "output_type": "stream",
     "text": [
      "None None None None None None\n",
      "[1, 3, 1, 45, 6, 7, 34, 433, 2, 2]\n"
     ]
    }
   ],
   "source": [
    "list1=[1,2,3,1,45,6,7,2,34,433,2,2,2,2,2,2]         # removes first occuring 2\n",
    "print(list1.remove(2),list1.remove(2),list1.remove(2),list1.remove(2),list1.remove(2),list1.remove(2))\n",
    "print(list1)"
   ]
  },
  {
   "cell_type": "code",
   "execution_count": null,
   "id": "5a3cd7dc",
   "metadata": {},
   "outputs": [],
   "source": [
    "list1=[1,2,3,1,45,6,7,2,34,433,2,2,2,2,2,2]         # removes first occuring 2\n",
    "print(list1.remove(2),list1.remove(2),list1.remove(2),list1.remove(2),list1.remove(2),list1.remove(2))\n",
    "print(list1)"
   ]
  },
  {
   "cell_type": "code",
   "execution_count": 51,
   "id": "52227818",
   "metadata": {},
   "outputs": [
    {
     "name": "stdout",
     "output_type": "stream",
     "text": [
      "[1, 2, 3, 1, 45, 7, 2, 34, 433, 2, 2, 2, 2, 2, 2]\n"
     ]
    }
   ],
   "source": [
    "list1=[1,2,3,1,45,6,7,2,34,433,2,2,2,2,2,2] \n",
    "list1.pop(5)\n",
    "print(list1)"
   ]
  },
  {
   "cell_type": "code",
   "execution_count": 52,
   "id": "43f19769",
   "metadata": {},
   "outputs": [
    {
     "ename": "TypeError",
     "evalue": "pop expected at most 1 argument, got 2",
     "output_type": "error",
     "traceback": [
      "\u001b[1;31m---------------------------------------------------------------------------\u001b[0m",
      "\u001b[1;31mTypeError\u001b[0m                                 Traceback (most recent call last)",
      "Cell \u001b[1;32mIn[52], line 2\u001b[0m\n\u001b[0;32m      1\u001b[0m list1\u001b[38;5;241m=\u001b[39m[\u001b[38;5;241m1\u001b[39m,\u001b[38;5;241m2\u001b[39m,\u001b[38;5;241m3\u001b[39m,\u001b[38;5;241m1\u001b[39m,\u001b[38;5;241m45\u001b[39m,\u001b[38;5;241m6\u001b[39m,\u001b[38;5;241m7\u001b[39m,\u001b[38;5;241m2\u001b[39m,\u001b[38;5;241m34\u001b[39m,\u001b[38;5;241m433\u001b[39m,\u001b[38;5;241m2\u001b[39m,\u001b[38;5;241m2\u001b[39m,\u001b[38;5;241m2\u001b[39m,\u001b[38;5;241m2\u001b[39m,\u001b[38;5;241m2\u001b[39m,\u001b[38;5;241m2\u001b[39m] \n\u001b[1;32m----> 2\u001b[0m \u001b[43mlist1\u001b[49m\u001b[38;5;241;43m.\u001b[39;49m\u001b[43mpop\u001b[49m\u001b[43m(\u001b[49m\u001b[38;5;241;43m5\u001b[39;49m\u001b[43m,\u001b[49m\u001b[38;5;241;43m6\u001b[39;49m\u001b[43m)\u001b[49m\n\u001b[0;32m      3\u001b[0m \u001b[38;5;28mprint\u001b[39m(list1)\n",
      "\u001b[1;31mTypeError\u001b[0m: pop expected at most 1 argument, got 2"
     ]
    }
   ],
   "source": [
    "list1=[1,2,3,1,45,6,7,2,34,433,2,2,2,2,2,2] \n",
    "list1.pop(5,6)\n",
    "print(list1)"
   ]
  },
  {
   "cell_type": "code",
   "execution_count": 54,
   "id": "5830748b",
   "metadata": {},
   "outputs": [
    {
     "ename": "SyntaxError",
     "evalue": "invalid syntax (4242624132.py, line 2)",
     "output_type": "error",
     "traceback": [
      "\u001b[1;36m  Cell \u001b[1;32mIn[54], line 2\u001b[1;36m\u001b[0m\n\u001b[1;33m    list1.pop(5:7)\u001b[0m\n\u001b[1;37m               ^\u001b[0m\n\u001b[1;31mSyntaxError\u001b[0m\u001b[1;31m:\u001b[0m invalid syntax\n"
     ]
    }
   ],
   "source": [
    "list1=[1,2,3,1,45,6,7,2,34,433,2,2,2,2,2,2] \n",
    "list1.pop(5:7)\n",
    "print(list1)"
   ]
  },
  {
   "cell_type": "code",
   "execution_count": 59,
   "id": "d6a7d34e",
   "metadata": {},
   "outputs": [
    {
     "ename": "SyntaxError",
     "evalue": "invalid syntax (726170720.py, line 2)",
     "output_type": "error",
     "traceback": [
      "\u001b[1;36m  Cell \u001b[1;32mIn[59], line 2\u001b[1;36m\u001b[0m\n\u001b[1;33m    list1.pop([5:7])\u001b[0m\n\u001b[1;37m                ^\u001b[0m\n\u001b[1;31mSyntaxError\u001b[0m\u001b[1;31m:\u001b[0m invalid syntax\n"
     ]
    }
   ],
   "source": [
    "list1=[1,2,3,1,45,6,7,2,34,433,2,2,2,2,2,2] \n",
    "list1.pop([5:7])\n",
    "print(list1)"
   ]
  },
  {
   "cell_type": "code",
   "execution_count": 58,
   "id": "03ee4095",
   "metadata": {},
   "outputs": [
    {
     "ename": "SyntaxError",
     "evalue": "incomplete input (1399076573.py, line 3)",
     "output_type": "error",
     "traceback": [
      "\u001b[1;36m  Cell \u001b[1;32mIn[58], line 3\u001b[1;36m\u001b[0m\n\u001b[1;33m    print(list\u001b[0m\n\u001b[1;37m              ^\u001b[0m\n\u001b[1;31mSyntaxError\u001b[0m\u001b[1;31m:\u001b[0m incomplete input\n"
     ]
    }
   ],
   "source": [
    "list1=[1,2,3,1,45,6,7,2,34,433,2,2,2,2,2,2] \n",
    "list1.pop([list1[5:7]])\n",
    "print(list"
   ]
  },
  {
   "cell_type": "code",
   "execution_count": 67,
   "id": "864b3ed3",
   "metadata": {},
   "outputs": [
    {
     "name": "stdout",
     "output_type": "stream",
     "text": [
      "[]\n"
     ]
    }
   ],
   "source": [
    "list1=[1,2,3,1,45,6,7,2,34,433,2,2,2,2,2,2] \n",
    "list1.clear()\n",
    "print(list1)"
   ]
  },
  {
   "cell_type": "code",
   "execution_count": 69,
   "id": "df90a008",
   "metadata": {},
   "outputs": [
    {
     "name": "stdout",
     "output_type": "stream",
     "text": [
      "set()\n"
     ]
    }
   ],
   "source": [
    "list1={1,2,3,1,45,6,7,2,34,433,2,2,2,2,2,2}\n",
    "list1.clear()\n",
    "print(list1)"
   ]
  },
  {
   "cell_type": "code",
   "execution_count": 70,
   "id": "b4ace060",
   "metadata": {},
   "outputs": [
    {
     "name": "stdout",
     "output_type": "stream",
     "text": [
      "[1, 2, 3, 1, 45, 6, 7, 2, 34, 433, 2, 2, 2112, 2, 2, 2]\n"
     ]
    }
   ],
   "source": [
    "list1=[1,2,3,1,45,6,7,2,34,433,2,2,2,2,2,2] \n",
    "list1[12]=2112\n",
    "print(list1)"
   ]
  },
  {
   "cell_type": "code",
   "execution_count": 71,
   "id": "8d3c9911",
   "metadata": {},
   "outputs": [
    {
     "ename": "TypeError",
     "evalue": "can only assign an iterable",
     "output_type": "error",
     "traceback": [
      "\u001b[1;31m---------------------------------------------------------------------------\u001b[0m",
      "\u001b[1;31mTypeError\u001b[0m                                 Traceback (most recent call last)",
      "Cell \u001b[1;32mIn[71], line 2\u001b[0m\n\u001b[0;32m      1\u001b[0m list1\u001b[38;5;241m=\u001b[39m[\u001b[38;5;241m1\u001b[39m,\u001b[38;5;241m2\u001b[39m,\u001b[38;5;241m3\u001b[39m,\u001b[38;5;241m1\u001b[39m,\u001b[38;5;241m45\u001b[39m,\u001b[38;5;241m6\u001b[39m,\u001b[38;5;241m7\u001b[39m,\u001b[38;5;241m2\u001b[39m,\u001b[38;5;241m34\u001b[39m,\u001b[38;5;241m433\u001b[39m,\u001b[38;5;241m2\u001b[39m,\u001b[38;5;241m2\u001b[39m,\u001b[38;5;241m2\u001b[39m,\u001b[38;5;241m2\u001b[39m,\u001b[38;5;241m2\u001b[39m,\u001b[38;5;241m2\u001b[39m] \n\u001b[1;32m----> 2\u001b[0m list1[\u001b[38;5;241m1\u001b[39m:\u001b[38;5;241m12\u001b[39m]\u001b[38;5;241m=\u001b[39m\u001b[38;5;241m2112\u001b[39m\n\u001b[0;32m      3\u001b[0m \u001b[38;5;28mprint\u001b[39m(list1)\n",
      "\u001b[1;31mTypeError\u001b[0m: can only assign an iterable"
     ]
    }
   ],
   "source": [
    "list1=[1,2,3,1,45,6,7,2,34,433,2,2,2,2,2,2] \n",
    "list1[1:12]=2112\n",
    "print(list1)"
   ]
  },
  {
   "cell_type": "code",
   "execution_count": 74,
   "id": "15e0751c",
   "metadata": {},
   "outputs": [
    {
     "name": "stdout",
     "output_type": "stream",
     "text": [
      "[1, 2112, 2, 2, 2, 2]\n"
     ]
    }
   ],
   "source": [
    "list1=[1,2,3,1,45,6,7,2,34,433,2,2,2,2,2,2]  # replace the list from index number 1 to 11 by [2112]\n",
    "list1[1:12]=[2112]\n",
    "print(list1)"
   ]
  },
  {
   "cell_type": "code",
   "execution_count": 75,
   "id": "6aab8234",
   "metadata": {},
   "outputs": [
    {
     "name": "stdout",
     "output_type": "stream",
     "text": [
      "[1, 1111, 2112, 2, 2, 2, 2]\n"
     ]
    }
   ],
   "source": [
    "list1=[1,2,3,1,45,6,7,2,34,433,2,2,2,2,2,2]   # replace the list from index number 1 to 11 by [2112,1111]\n",
    "list1[1:12]=[1111,2112]\n",
    "print(list1)"
   ]
  },
  {
   "cell_type": "code",
   "execution_count": 9,
   "id": "16217754",
   "metadata": {
    "scrolled": true
   },
   "outputs": [
    {
     "name": "stdout",
     "output_type": "stream",
     "text": [
      "[1, 1111, 2112, 1121212, 2, 2, 2, 2]\n"
     ]
    }
   ],
   "source": [
    "list1=[1,2,3,1,45,6,7,2,34,433,2,2,2,2,2,2]   # replace the list from index number 1 to 11 by [2112,1111]\n",
    "list1[1:12]=1111,2112 ,1121212\n",
    "print(list1)"
   ]
  },
  {
   "cell_type": "code",
   "execution_count": 10,
   "id": "06a3eaaf",
   "metadata": {},
   "outputs": [
    {
     "name": "stdout",
     "output_type": "stream",
     "text": [
      "[1, 2112, 1121212, 2, 2, 2, 2]\n"
     ]
    }
   ],
   "source": [
    "list1=[1,2,3,1,45,6,7,2,34,433,2,2,2,2,2,2]   # replace the list from index number 1 to 11 by [2112,1111]\n",
    "list1[1:12]=2112,1121212\n",
    "print(list1)"
   ]
  },
  {
   "cell_type": "code",
   "execution_count": null,
   "id": "77423b0e",
   "metadata": {},
   "outputs": [],
   "source": []
  },
  {
   "cell_type": "code",
   "execution_count": null,
   "id": "137cc9f3",
   "metadata": {},
   "outputs": [],
   "source": []
  },
  {
   "cell_type": "code",
   "execution_count": 77,
   "id": "abb77c2b",
   "metadata": {},
   "outputs": [
    {
     "name": "stdout",
     "output_type": "stream",
     "text": [
      "[1, 1111, 2112, 1121212, 2, 2, 2, 2]\n"
     ]
    }
   ],
   "source": [
    "list1=[1,2,3,1,45,6,7,2,34,433,2,2,2,2,2,2]   # replace the list from index number 1 to 11 by [2112,1111]\n",
    "list1[1:12]=1111,2112,1121212\n",
    "print(list1)"
   ]
  },
  {
   "cell_type": "code",
   "execution_count": 83,
   "id": "9d17eee0",
   "metadata": {},
   "outputs": [
    {
     "name": "stdout",
     "output_type": "stream",
     "text": [
      "[1, 2, 3, 4, 6, 7, 8, 9, 989, 9, 1]\n"
     ]
    }
   ],
   "source": [
    "list_1= [1,2,3,4,6,7,8,9,989,9]\n",
    "list_1.append(1)\n",
    "print(list_1)\n"
   ]
  },
  {
   "cell_type": "code",
   "execution_count": 84,
   "id": "0346aa8f",
   "metadata": {},
   "outputs": [
    {
     "name": "stdout",
     "output_type": "stream",
     "text": [
      "[1, 2, 3, 4, 6, 7, 8, 9, 989, 9, [2, 2, 2, 1]]\n"
     ]
    }
   ],
   "source": [
    "list_1= [1,2,3,4,6,7,8,9,989,9]\n",
    "list_1.append([2,2,2,1])\n",
    "print(list_1)"
   ]
  },
  {
   "cell_type": "code",
   "execution_count": 85,
   "id": "74bec821",
   "metadata": {},
   "outputs": [
    {
     "name": "stdout",
     "output_type": "stream",
     "text": [
      "[1, 2, 3, 4, 6, 7, 8, 9, 989, 9, (2, 2, 2, 1)]\n"
     ]
    }
   ],
   "source": [
    "list_1= [1,2,3,4,6,7,8,9,989,9]\n",
    "list_1.append((2,2,2,1))\n",
    "print(list_1)"
   ]
  },
  {
   "cell_type": "code",
   "execution_count": 87,
   "id": "9f1bb4e8",
   "metadata": {},
   "outputs": [
    {
     "name": "stdout",
     "output_type": "stream",
     "text": [
      "[1, 2, 3, 4, 6, 7, 8, 9, 989, 9, 2, 2, 2, 1]\n"
     ]
    }
   ],
   "source": [
    "list_1= [1,2,3,4,6,7,8,9,989,9]\n",
    "list_1.extend(((2,2,2,1)))\n",
    "print(list_1)"
   ]
  },
  {
   "cell_type": "code",
   "execution_count": null,
   "id": "162b10ff",
   "metadata": {},
   "outputs": [],
   "source": []
  },
  {
   "cell_type": "code",
   "execution_count": 88,
   "id": "8b37221a",
   "metadata": {},
   "outputs": [
    {
     "name": "stdout",
     "output_type": "stream",
     "text": [
      "[1, 2, 3, 4, 6, 7, 8, 9, 989, 9, (2, 2, 2, 1)]\n"
     ]
    }
   ],
   "source": [
    "list_1= [1,2,3,4,6,7,8,9,989,9]\n",
    "list_1.extend([(2,2,2,1)])\n",
    "print(list_1)"
   ]
  },
  {
   "cell_type": "code",
   "execution_count": null,
   "id": "21027e3d",
   "metadata": {},
   "outputs": [],
   "source": [
    "list_1= [1,2,3,4,6,7,8,9,989,9]\n",
    "list_1.extend('siea')\n",
    "print(list_1)"
   ]
  },
  {
   "cell_type": "code",
   "execution_count": null,
   "id": "b5eb3787",
   "metadata": {},
   "outputs": [],
   "source": [
    "list_1= [1,2,3,4,6,7,8,9,989,9]\n",
    "list_1.extend(['siea'])\n",
    "print(list_1)"
   ]
  },
  {
   "cell_type": "code",
   "execution_count": null,
   "id": "28f22f8c",
   "metadata": {},
   "outputs": [],
   "source": [
    "list4=[12,34,65,[2345,5687,355,[3566,578,777,[23,90,[1,2,5,[34,56]]]]]]"
   ]
  },
  {
   "cell_type": "code",
   "execution_count": null,
   "id": "57d0b399",
   "metadata": {},
   "outputs": [],
   "source": [
    "list4[3][3][3][2][3][0]"
   ]
  },
  {
   "cell_type": "code",
   "execution_count": null,
   "id": "d0b5d6df",
   "metadata": {},
   "outputs": [],
   "source": [
    "list_1= [1,2,3,4,6,7,8,9,989,9]\n",
    "list_1[2]"
   ]
  },
  {
   "cell_type": "code",
   "execution_count": null,
   "id": "b793a599",
   "metadata": {},
   "outputs": [],
   "source": [
    "'vijaiclasses','' ,''"
   ]
  },
  {
   "cell_type": "code",
   "execution_count": null,
   "id": "67765345",
   "metadata": {},
   "outputs": [],
   "source": [
    "list_a=[1,1,1,1,4,5,6,4,3,4444,5,5,5,5]\n",
    "x=set(list_a)\n",
    "sorted(x)\n",
    "print(x)"
   ]
  },
  {
   "cell_type": "code",
   "execution_count": null,
   "id": "c5ebc6c2",
   "metadata": {},
   "outputs": [],
   "source": []
  },
  {
   "cell_type": "code",
   "execution_count": 70,
   "id": "6aa5f819",
   "metadata": {},
   "outputs": [
    {
     "data": {
      "text/plain": [
       "22"
      ]
     },
     "execution_count": 70,
     "metadata": {},
     "output_type": "execute_result"
    }
   ],
   "source": [
    "list1=[1,2,3,4,5,7]\n",
    "sum(list1)"
   ]
  },
  {
   "cell_type": "code",
   "execution_count": 74,
   "id": "3ffb8e46",
   "metadata": {},
   "outputs": [
    {
     "ename": "TypeError",
     "evalue": "unsupported operand type(s) for +: 'int' and 'str'",
     "output_type": "error",
     "traceback": [
      "\u001b[1;31m---------------------------------------------------------------------------\u001b[0m",
      "\u001b[1;31mTypeError\u001b[0m                                 Traceback (most recent call last)",
      "Cell \u001b[1;32mIn[74], line 2\u001b[0m\n\u001b[0;32m      1\u001b[0m list1\u001b[38;5;241m=\u001b[39m[\u001b[38;5;241m1\u001b[39m,\u001b[38;5;241m2\u001b[39m,\u001b[38;5;241m3\u001b[39m,\u001b[38;5;241m4\u001b[39m,\u001b[38;5;241m5\u001b[39m,\u001b[38;5;241m7\u001b[39m,\u001b[38;5;124m'\u001b[39m\u001b[38;5;124masas\u001b[39m\u001b[38;5;124m'\u001b[39m]\n\u001b[1;32m----> 2\u001b[0m \u001b[38;5;28;43msum\u001b[39;49m\u001b[43m(\u001b[49m\u001b[43mlist1\u001b[49m\u001b[43m)\u001b[49m\n",
      "\u001b[1;31mTypeError\u001b[0m: unsupported operand type(s) for +: 'int' and 'str'"
     ]
    }
   ],
   "source": [
    "list1=[1,2,3,4,5,7,'asas']\n",
    "sum(list1)"
   ]
  },
  {
   "cell_type": "code",
   "execution_count": null,
   "id": "6ebdba4f",
   "metadata": {},
   "outputs": [],
   "source": []
  }
 ],
 "metadata": {
  "kernelspec": {
   "display_name": "Python 3 (ipykernel)",
   "language": "python",
   "name": "python3"
  },
  "language_info": {
   "codemirror_mode": {
    "name": "ipython",
    "version": 3
   },
   "file_extension": ".py",
   "mimetype": "text/x-python",
   "name": "python",
   "nbconvert_exporter": "python",
   "pygments_lexer": "ipython3",
   "version": "3.10.9"
  }
 },
 "nbformat": 4,
 "nbformat_minor": 5
}
