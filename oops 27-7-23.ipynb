{
 "cells": [
  {
   "cell_type": "code",
   "execution_count": 1,
   "id": "b1ba2e0a",
   "metadata": {},
   "outputs": [
    {
     "ename": "NameError",
     "evalue": "name 'person' is not defined",
     "output_type": "error",
     "traceback": [
      "\u001b[1;31m---------------------------------------------------------------------------\u001b[0m",
      "\u001b[1;31mNameError\u001b[0m                                 Traceback (most recent call last)",
      "Cell \u001b[1;32mIn[1], line 2\u001b[0m\n\u001b[0;32m      1\u001b[0m \u001b[38;5;66;03m#object creation\u001b[39;00m\n\u001b[1;32m----> 2\u001b[0m ram\u001b[38;5;241m=\u001b[39m \u001b[43mperson\u001b[49m()\n",
      "\u001b[1;31mNameError\u001b[0m: name 'person' is not defined"
     ]
    }
   ],
   "source": []
  },
  {
   "cell_type": "code",
   "execution_count": 3,
   "id": "5e5678b7",
   "metadata": {},
   "outputs": [
    {
     "ename": "SyntaxError",
     "evalue": "invalid syntax (2206366921.py, line 1)",
     "output_type": "error",
     "traceback": [
      "\u001b[1;36m  Cell \u001b[1;32mIn[3], line 1\u001b[1;36m\u001b[0m\n\u001b[1;33m    class money{store}:\u001b[0m\n\u001b[1;37m               ^\u001b[0m\n\u001b[1;31mSyntaxError\u001b[0m\u001b[1;31m:\u001b[0m invalid syntax\n"
     ]
    }
   ],
   "source": [
    "class \n",
    "\n",
    "moneystore:\n",
    "    def__init__(account holder)\n",
    "    self.__money.__total amount\n",
    "        @property:\n",
    "        def amount(self):\n",
    "            withdraw amount\n",
    "        if money withraw=money (store):\n",
    "            print= remaning amount zero\n",
    "        else:\n",
    "            money withdraw is not zero\n",
    "            print(\"balance money\")\n",
    "    \n",
    "        "
   ]
  },
  {
   "cell_type": "code",
   "execution_count": null,
   "id": "de69f6af",
   "metadata": {},
   "outputs": [],
   "source": [
    "class person:\n",
    "    def__init__(self,name):\n",
    "        self.name=name\n",
    "p1=person        "
   ]
  },
  {
   "cell_type": "code",
   "execution_count": null,
   "id": "8cef7a72",
   "metadata": {
    "collapsed": true
   },
   "outputs": [],
   "source": [
    "operator overloading\n",
    " operator overloading is a feature in python that allows developers to redefine the  \n",
    "    behaviour of mathmatical and comparision operator for custom data type this means that you can usethe standerd mathmatical operator(+-*/0\n",
    "                                      etc and comparision operator(>,<,==,etc)in your own class\n",
    "                                                                                                                                        \n",
    "                                       addition  +       __add__(self,other)\n",
    "                                       subtraction -     __sub__(self,other)\n",
    "                                      multiplication *   __mul__(self,other)\n",
    "                                      division /         __truediv__(self, other)\n",
    "                                      floor  division //  __floordiv__(self,other)\n",
    "                                      less than  <        __it__(self,other)\n",
    "                                      greater than  >     __gt__(self,other)                                                                                             \n",
    "                                      equal to  ==       __eq__(self, other)\n",
    "                                      not equal !=      __ne__(self, other)\n",
    "                                                                                                                                        "
   ]
  },
  {
   "cell_type": "code",
   "execution_count": 5,
   "id": "f8b39a65",
   "metadata": {},
   "outputs": [
    {
     "name": "stdout",
     "output_type": "stream",
     "text": [
      "[4, 6]\n",
      "[-2, -2]\n"
     ]
    }
   ],
   "source": [
    " class poly:\n",
    "        def __init__(self,a,b):\n",
    "            self.a=a\n",
    "            self.b=b\n",
    "        def __add__(self,other):\n",
    "            sum_a=self.a+other.a\n",
    "            sum_b=self.b+other.b\n",
    "            return[sum_a,sum_b]\n",
    "        \n",
    "        def __sub__(self,other):\n",
    "            diff_a =self.a-other.a\n",
    "            diff_b = self.b- other.b\n",
    "            return[diff_a,diff_b]\n",
    "p=poly(1,2)\n",
    "p1=poly(3,4)\n",
    "print(p+p1)\n",
    "print(p-p1)\n",
    "            \n",
    "        "
   ]
  },
  {
   "cell_type": "markdown",
   "id": "36d0a810",
   "metadata": {},
   "source": [
    "\n",
    "  magic/dunder/special methods\n",
    "    . these are special method that you can define in your classes and when  invoked they give you a powerfulway way to manipulate object and their behsviour\n",
    "    these methodbegin and end with double underscoras\n",
    "    most common magic method used\n",
    "    1 __init__()\n",
    "    2 __str__()\n",
    "    3 __repr__()\n",
    "    4 __len__()\n",
    "    5 __call__()"
   ]
  },
  {
   "cell_type": "code",
   "execution_count": 3,
   "id": "755eabd7",
   "metadata": {},
   "outputs": [
    {
     "ename": "TypeError",
     "evalue": "object of type 'employee' has no len()",
     "output_type": "error",
     "traceback": [
      "\u001b[1;31m---------------------------------------------------------------------------\u001b[0m",
      "\u001b[1;31mTypeError\u001b[0m                                 Traceback (most recent call last)",
      "Cell \u001b[1;32mIn[3], line 9\u001b[0m\n\u001b[0;32m      7\u001b[0m         \u001b[38;5;28mself\u001b[39m\u001b[38;5;241m.\u001b[39mage \u001b[38;5;241m=\u001b[39m \u001b[38;5;241m18\u001b[39m\n\u001b[0;32m      8\u001b[0m x\u001b[38;5;241m=\u001b[39m employee(\u001b[38;5;241m123\u001b[39m)\u001b[38;5;66;03m#magic of__init__\u001b[39;00m\n\u001b[1;32m----> 9\u001b[0m \u001b[38;5;28;43mlen\u001b[39;49m\u001b[43m(\u001b[49m\u001b[43mx\u001b[49m\u001b[43m)\u001b[49m\n",
      "\u001b[1;31mTypeError\u001b[0m: object of type 'employee' has no len()"
     ]
    }
   ],
   "source": [
    "#__len__\n",
    "class employee:\n",
    "    def __init__(self,name):\n",
    "        self.name=name\n",
    "    def show_name(self):\n",
    "        print(self.name)\n",
    "        self.age = 18\n",
    "x= employee(123)#magic of__init__\n",
    "len(x)"
   ]
  },
  {
   "cell_type": "code",
   "execution_count": 12,
   "id": "ba7f0da3",
   "metadata": {},
   "outputs": [
    {
     "name": "stdout",
     "output_type": "stream",
     "text": [
      "yes\n",
      "(True, False)\n"
     ]
    }
   ],
   "source": [
    "class poly:\n",
    "    def __init__(self,a,b):\n",
    "        self.a=a\n",
    "        self.b=b\n",
    "        \n",
    "    def __add__(self,other):\n",
    "        x= self.a>other.a\n",
    "        y = other.a>other.b\n",
    "        if x>y==y<x:\n",
    "            print(\"yes\")\n",
    "            return(x,y)\n",
    "        else:\n",
    "            print(\"no\")\n",
    "            print[x,y]\n",
    "p = poly(3,4)\n",
    "p1 = poly(2,6)\n",
    "print(p+p1)"
   ]
  },
  {
   "cell_type": "code",
   "execution_count": null,
   "id": "74fce557",
   "metadata": {},
   "outputs": [],
   "source": [
    "29/8/23"
   ]
  },
  {
   "cell_type": "code",
   "execution_count": null,
   "id": "9c4276cf",
   "metadata": {},
   "outputs": [],
   "source": [
    "#__str__return the informal srring reprention of an object. \n",
    " \n",
    "class employee:\n",
    "    def __init__(self,name)\n",
    "    self.name=name\n",
    "    def __len__(self,name):\n",
    "        return len (self.name)\n",
    "    def__str__(self.name):\n",
    "         "
   ]
  },
  {
   "cell_type": "code",
   "execution_count": 6,
   "id": "8d8799a8",
   "metadata": {},
   "outputs": [
    {
     "name": "stdout",
     "output_type": "stream",
     "text": [
      "<__main__.employee object at 0x00000138F20C47F0>\n"
     ]
    },
    {
     "data": {
      "text/plain": [
       "<__main__.employee at 0x138f20c47f0>"
      ]
     },
     "execution_count": 6,
     "metadata": {},
     "output_type": "execute_result"
    }
   ],
   "source": [
    "\n",
    "class employee:\n",
    "    def __init__(self,name):\n",
    "        self.name = name\n",
    "        \n",
    "        def __len__(self):\n",
    "            return len(self.name)\n",
    "        def __str__(self):\n",
    "            return \"this is object\"\n",
    "        def __repr__(self):\n",
    "            return f\" we have an empoyee{self.name}\"\n",
    "        \n",
    "x = employee (\"pranjal\")\n",
    "print(x)# informal string represention\n",
    "x#formal string representation"
   ]
  },
  {
   "cell_type": "code",
   "execution_count": 12,
   "id": "2eb306c5",
   "metadata": {},
   "outputs": [
    {
     "name": "stdout",
     "output_type": "stream",
     "text": [
      " hey i am good\n"
     ]
    },
    {
     "data": {
      "text/plain": [
       "True"
      ]
     },
     "execution_count": 12,
     "metadata": {},
     "output_type": "execute_result"
    }
   ],
   "source": [
    "#__call__ the call method is used is used to make an object callable\n",
    "\n",
    "class employee:\n",
    "    def __init__(self,name):\n",
    "        self.name = name\n",
    "        \n",
    "    def __len__(self):\n",
    "        return len(self.name)\n",
    "    def __str__(self):\n",
    "        return \"this is object\"\n",
    "    def __repr__(self):\n",
    "        return f\" we have an empoyee{self.name}\"\n",
    "    def __call__(self):\n",
    "        print(\" hey i am good\")\n",
    "        return True\n",
    "x = employee(\"pranjal\")\n",
    "x()\n",
    "        "
   ]
  },
  {
   "cell_type": "code",
   "execution_count": null,
   "id": "0c1cbf48",
   "metadata": {},
   "outputs": [],
   "source": [
    "magic/dunder/special methods\n",
    ". these are special method that you can define in your classes and when invoked\n",
    "they give you a"
   ]
  },
  {
   "cell_type": "code",
   "execution_count": null,
   "id": "05d0a490",
   "metadata": {},
   "outputs": [],
   "source": [
    "abstraction is used to hide the internal implementation detalls of methods from the users\n",
    "the user is failiar with \"what the method does but they don,t know \" how it does\n",
    "abstraction is implemented by creating \"abstract base classes which contaion \"abstract method\"\n",
    " the abstract m\"\n"
   ]
  },
  {
   "cell_type": "code",
   "execution_count": null,
   "id": "1d420dd7",
   "metadata": {},
   "outputs": [],
   "source": [
    "1/9/23"
   ]
  },
  {
   "cell_type": "code",
   "execution_count": 6,
   "id": "6c71ba82",
   "metadata": {},
   "outputs": [],
   "source": [
    "from abc import ABC,abstractmethod\n",
    "\n",
    "class shape(ABC):\n",
    "    @abstractmethod       #implemetation details are hidden\n",
    "    def perimeter(self):\n",
    "        pass\n",
    "    def display(self):\n",
    "        return\"this is not an abstract method\"\n",
    "    \n",
    " "
   ]
  },
  {
   "cell_type": "code",
   "execution_count": 8,
   "id": "a48caf0f",
   "metadata": {},
   "outputs": [
    {
     "data": {
      "text/plain": [
       "12"
      ]
     },
     "execution_count": 8,
     "metadata": {},
     "output_type": "execute_result"
    }
   ],
   "source": [
    "class rectangle(shape):\n",
    "    def area(self,length,breadth):\n",
    "        return length*breadth\n",
    "    def perimeter(self,length,breadth):\n",
    "        return 2*(length+breadth)\n",
    "rect=rectangle()\n",
    "rect.perimeter(4,6)\n",
    "rect.area(2,6)\n",
    "\n"
   ]
  },
  {
   "cell_type": "code",
   "execution_count": 11,
   "id": "e61dd0c3",
   "metadata": {},
   "outputs": [
    {
     "data": {
      "text/plain": [
       "495.34630400000003"
      ]
     },
     "execution_count": 11,
     "metadata": {},
     "output_type": "execute_result"
    }
   ],
   "source": [
    "class circle(shape):\n",
    "    def area(seif,radius):\n",
    "        return 3.14*radius*radius\n",
    "    def perimeter(self,radius):\n",
    "        return 2*3.14*2 \n",
    "rect=circle()\n",
    "rect.perimeter(2)\n",
    "rect.area(3.14*2*2)\n",
    "     "
   ]
  },
  {
   "cell_type": "code",
   "execution_count": null,
   "id": "4988f75a",
   "metadata": {},
   "outputs": [],
   "source": []
  },
  {
   "cell_type": "code",
   "execution_count": 5,
   "id": "79bbedf0",
   "metadata": {},
   "outputs": [
    {
     "data": {
      "text/plain": [
       "7"
      ]
     },
     "execution_count": 5,
     "metadata": {},
     "output_type": "execute_result"
    }
   ],
   "source": [
    "#__len__\n",
    "class employee:\n",
    "    def __init__(self,name):\n",
    "        self.name=name\n",
    "    def __len__(self):\n",
    "        return len(self.name)\n",
    "x = employee(\"pranjal\")       \n",
    "#magic of__init__\n",
    "len(x)"
   ]
  },
  {
   "cell_type": "code",
   "execution_count": null,
   "id": "bdb12b08",
   "metadata": {},
   "outputs": [],
   "source": []
  },
  {
   "cell_type": "code",
   "execution_count": null,
   "id": "511ca3f2",
   "metadata": {},
   "outputs": [],
   "source": []
  },
  {
   "cell_type": "code",
   "execution_count": null,
   "id": "8d03ce8d",
   "metadata": {},
   "outputs": [],
   "source": []
  },
  {
   "cell_type": "code",
   "execution_count": null,
   "id": "6eb5908a",
   "metadata": {},
   "outputs": [],
   "source": [
    "int__add__\n",
    "help on wrapper"
   ]
  },
  {
   "cell_type": "code",
   "execution_count": 1,
   "id": "5e545d4e",
   "metadata": {},
   "outputs": [
    {
     "data": {
      "text/plain": [
       "'helloworld'"
      ]
     },
     "execution_count": 1,
     "metadata": {},
     "output_type": "execute_result"
    }
   ],
   "source": [
    "str.__add__(\"hello\",\"world\")"
   ]
  },
  {
   "cell_type": "markdown",
   "id": "0a9a917b",
   "metadata": {},
   "source": [
    "21/8/23"
   ]
  },
  {
   "cell_type": "code",
   "execution_count": null,
   "id": "3fb3e6f4",
   "metadata": {},
   "outputs": [],
   "source": [
    "class\n",
    "person:\n",
    "    1def"
   ]
  },
  {
   "cell_type": "code",
   "execution_count": null,
   "id": "7f5e83e9",
   "metadata": {},
   "outputs": [],
   "source": [
    "22/8/23"
   ]
  },
  {
   "cell_type": "code",
   "execution_count": null,
   "id": "9182896a",
   "metadata": {},
   "outputs": [],
   "source": [
    "static method\n",
    ". similar to a normal function\n",
    "'it does not take the c/s and self parameters\n",
    ". it cannot modify the state of the the object or class'\n",
    "advantage  \n",
    ".safar code as they can not change the class or instance variables\n",
    "\n",
    "process of inheriting the properties of the parent class into a child class is called  inheritance\n",
    "\n",
    "the child"
   ]
  },
  {
   "cell_type": "code",
   "execution_count": null,
   "id": "a67e30f7",
   "metadata": {},
   "outputs": [],
   "source": [
    "24/8/23"
   ]
  },
  {
   "cell_type": "code",
   "execution_count": null,
   "id": "e5fabb90",
   "metadata": {},
   "outputs": [],
   "source": [
    "getters and setters\n",
    "getters are method used to access the values of private attibuts\n",
    "setters are methods used to change the values of private attributs\n",
    "\n",
    ".used to achive encapsulation they control the access to the private variables\n",
    ".prevant any invalid valid values from being initialize to the varibles\n",
    "we can hide the implementation detais of aclass from external users\n"
   ]
  },
  {
   "cell_type": "code",
   "execution_count": 7,
   "id": "78499b31",
   "metadata": {},
   "outputs": [],
   "source": [
    "class number:\n",
    "    def __init__(self):\n",
    "        self.__num= 29\n",
    "        \n",
    "    @property\n",
    "    def num(self):\n",
    "        return self.__num\n",
    "\n",
    "    @num.setter\n",
    "    def num(self,new__num):\n",
    "        self.__num = new__num\n",
    "    \n",
    "x=number()\n",
    "y=number()"
   ]
  },
  {
   "cell_type": "code",
   "execution_count": 15,
   "id": "23300cbd",
   "metadata": {},
   "outputs": [
    {
     "data": {
      "text/plain": [
       "200"
      ]
     },
     "execution_count": 15,
     "metadata": {},
     "output_type": "execute_result"
    }
   ],
   "source": [
    "class number:\n",
    "    def __init__(self):\n",
    "        self.__age=19\n",
    "\n",
    "@property\n",
    "def age(self):\n",
    "    return self.__num\n",
    "@num.setter\n",
    "def age(self,new_age):\n",
    "    \n",
    "        if new_age >100:\n",
    "            print(\"invalid value \\n enter value beyween0-100\")\n",
    "        else:\n",
    "            self:__age=new_age\n",
    "x = number()\n",
    "y = number()\n",
    "y.age=200\n",
    "y.age\n",
    "        "
   ]
  },
  {
   "cell_type": "code",
   "execution_count": null,
   "id": "27a2dd01",
   "metadata": {},
   "outputs": [],
   "source": [
    "polymorphism\n",
    " \n",
    "    the term polymorphism comes comes from the  greek language and means 'something that takes on multiple forms\n",
    "    forms\n",
    "    \n",
    "    in oops it refers to the ablity of subclasses to adpt a method that already exitsin their superclass with different forms\n",
    "    with differnt forms (behaviours)\n",
    "    \n",
    "    \n",
    "    method overloading \n",
    "    \n",
    "    two or more methods have the same name but'"
   ]
  },
  {
   "cell_type": "code",
   "execution_count": 2,
   "id": "6ff6ed23",
   "metadata": {},
   "outputs": [
    {
     "name": "stdout",
     "output_type": "stream",
     "text": [
      "inside vehicle class\n",
      "inside car class\n"
     ]
    }
   ],
   "source": [
    "#parent class\n",
    "class vehicle:\n",
    "    def vehicle_info(self):\n",
    "        print('inside vehicle class')\n",
    "        \n",
    " #child class\n",
    "class car (vehicle):\n",
    "    def car_info(self):\n",
    "        print('inside car class')\n",
    "        \n",
    "car=car()\n",
    "car.vehicle_info()\n",
    "car.car_info()"
   ]
  },
  {
   "cell_type": "code",
   "execution_count": null,
   "id": "efec9b42",
   "metadata": {},
   "outputs": [],
   "source": [
    "16/8/23"
   ]
  },
  {
   "cell_type": "code",
   "execution_count": null,
   "id": "ad773af7",
   "metadata": {},
   "outputs": [],
   "source": [
    "veh=vechile()\n",
    "veh.car_info()"
   ]
  },
  {
   "cell_type": "code",
   "execution_count": 4,
   "id": "77f60fd2",
   "metadata": {},
   "outputs": [
    {
     "ename": "IndentationError",
     "evalue": "unindent does not match any outer indentation level (<tokenize>, line 14)",
     "output_type": "error",
     "traceback": [
      "\u001b[1;36m  File \u001b[1;32m<tokenize>:14\u001b[1;36m\u001b[0m\n\u001b[1;33m    car=car()\u001b[0m\n\u001b[1;37m    ^\u001b[0m\n\u001b[1;31mIndentationError\u001b[0m\u001b[1;31m:\u001b[0m unindent does not match any outer indentation level\n"
     ]
    }
   ],
   "source": [
    "#parent class\n",
    "class vehicle:\n",
    "    def__init__(self):\n",
    "        self.brand=\"mercedes benz\"\n",
    "        print(self.brand)\n",
    "        \n",
    "    def vehicle__info(self):\n",
    "        print('inside vehicle class')\n",
    "#child class\n",
    "class car (vehicle):\n",
    "    def car_info(self):\n",
    "        print('inside car class')\n",
    "        \n",
    "   car=car()     "
   ]
  },
  {
   "cell_type": "code",
   "execution_count": null,
   "id": "eb35a73b",
   "metadata": {},
   "outputs": [],
   "source": [
    "types of inharitance\n",
    "single\n",
    "kmultipal\n",
    "multipal\n",
    "hirachical\n",
    "hybrid\n"
   ]
  },
  {
   "cell_type": "code",
   "execution_count": 5,
   "id": "723956e9",
   "metadata": {},
   "outputs": [
    {
     "name": "stdout",
     "output_type": "stream",
     "text": [
      "merceds benz\n"
     ]
    }
   ],
   "source": [
    "# parent class\n",
    "class vehicle:\n",
    "    \n",
    "    def __init__(self):\n",
    "        self.brand=\"merceds benz\"\n",
    "        print(self.brand)\n",
    "    def vechile__info(self):\n",
    "        print('inside vechile class')\n",
    "        \n",
    "#child class\n",
    "class car (vehicle):\n",
    "    \n",
    "    def car_info(self):\n",
    "        print('inside car class')\n",
    "        \n",
    "car=car()        \n",
    "             "
   ]
  },
  {
   "cell_type": "code",
   "execution_count": 14,
   "id": "8ea89948",
   "metadata": {},
   "outputs": [
    {
     "name": "stdout",
     "output_type": "stream",
     "text": [
      "inside car class\n"
     ]
    }
   ],
   "source": [
    "# parent class\n",
    "class vehicle:\n",
    "    def vehicle__info(self):\n",
    "        print('inside vechile class')\n",
    "#child class\n",
    "class car(vehicle):\n",
    "    def car_info(self):\n",
    "        print('inside car class')\n",
    "        \n",
    "car= car()\n",
    "car.car_info()"
   ]
  },
  {
   "cell_type": "code",
   "execution_count": null,
   "id": "d4b9146f",
   "metadata": {},
   "outputs": [],
   "source": [
    "#parent class\n",
    "class vehicle:\n",
    "    def_init_(self):\n",
    "        self.brand=\"BMW\"\n",
    "        print(self.brand)\n",
    "    def vehi    "
   ]
  },
  {
   "cell_type": "code",
   "execution_count": 10,
   "id": "3d255a5f",
   "metadata": {},
   "outputs": [
    {
     "name": "stdout",
     "output_type": "stream",
     "text": [
      "inside vechile class\n",
      "inside car class\n",
      "inside sportscar class\n"
     ]
    }
   ],
   "source": [
    "class vehicle:\n",
    "    def vehicle_info(self):\n",
    "        print('inside vechile class')\n",
    "#child class\n",
    "class car(vehicle):\n",
    "    def car_info(self):\n",
    "        print('inside car class')\n",
    "        \n",
    "        \n",
    "# child class\n",
    "class sportscar(car):\n",
    "    def sports_car_info(self):\n",
    "        print('inside sportscar class')\n",
    "# create object of sportscar\n",
    "s_car= sportscar()\n",
    "# access vehicle's and car's info using sportsscar object\n",
    "s_car.vehicle_info()\n",
    "s_car.car_info()\n",
    "s_car.sports_car_info()"
   ]
  },
  {
   "cell_type": "code",
   "execution_count": null,
   "id": "7b305ddc",
   "metadata": {},
   "outputs": [],
   "source": []
  },
  {
   "cell_type": "code",
   "execution_count": 17,
   "id": "aa3db48e",
   "metadata": {},
   "outputs": [],
   "source": [
    "# define a class\n",
    "class Person:\n",
    "\n",
    "    def __init__(self,name,gender,profession): # object initialization\n",
    "        \n",
    "        # state(attributes-variables)\n",
    "        self.name_=\"ram\"\n",
    "        self.gender_=\"male\"\n",
    "        self.profession_=\"data scientist\"\n",
    "        self.profession_= profession\n",
    "        \n",
    "    # Behaviour(methods)\n",
    "    def show(self):\n",
    "        print(\"name:\",self.name_,\"gender:\",self.gender_,\"profasion:\",self.profession_)\n",
    "    def work (self):\n",
    "        print(self.name_,\"is working as a\",self.profession_)\n",
    "    \n",
    "   "
   ]
  },
  {
   "cell_type": "code",
   "execution_count": null,
   "id": "d8ccb935",
   "metadata": {},
   "outputs": [],
   "source": [
    "#parent class\n",
    "class vechile:\n",
    "    def vechile_info self"
   ]
  },
  {
   "cell_type": "code",
   "execution_count": null,
   "id": "7f0c88dd",
   "metadata": {},
   "outputs": [],
   "source": []
  },
  {
   "cell_type": "code",
   "execution_count": 18,
   "id": "45724cbe",
   "metadata": {},
   "outputs": [],
   "source": [
    "# object creation\n",
    "\n",
    "ram = Person(\"ram\",\"male\",\"software developer\")"
   ]
  },
  {
   "cell_type": "code",
   "execution_count": 19,
   "id": "2350b8f0",
   "metadata": {},
   "outputs": [],
   "source": [
    "# object creation \n",
    "shyam = Person(\"shyam\",\"male\",\"data scieentics\")"
   ]
  },
  {
   "cell_type": "code",
   "execution_count": 20,
   "id": "8eec629c",
   "metadata": {},
   "outputs": [
    {
     "name": "stdout",
     "output_type": "stream",
     "text": [
      "software developer\n",
      "ram\n",
      "male\n"
     ]
    }
   ],
   "source": [
    "print(ram.profession_)\n",
    "print(ram.name_)\n",
    "print(ram.gender_)"
   ]
  },
  {
   "cell_type": "code",
   "execution_count": 21,
   "id": "3916f7af",
   "metadata": {},
   "outputs": [
    {
     "name": "stdout",
     "output_type": "stream",
     "text": [
      "150000\n"
     ]
    }
   ],
   "source": [
    "ram.salary=150000\n",
    "print(ram.salary)"
   ]
  },
  {
   "cell_type": "code",
   "execution_count": 27,
   "id": "a64030cc",
   "metadata": {},
   "outputs": [
    {
     "data": {
      "text/plain": [
       "<__main__.Person at 0x21178d3e9e0>"
      ]
     },
     "execution_count": 27,
     "metadata": {},
     "output_type": "execute_result"
    }
   ],
   "source": [
    "Person(\"ram\",\"male\",\"software  develpor\")"
   ]
  },
  {
   "cell_type": "code",
   "execution_count": 23,
   "id": "315decf9",
   "metadata": {},
   "outputs": [],
   "source": [
    "shyam.profession_=\"web developer\""
   ]
  },
  {
   "cell_type": "code",
   "execution_count": 24,
   "id": "8cbc2953",
   "metadata": {},
   "outputs": [
    {
     "name": "stdout",
     "output_type": "stream",
     "text": [
      "name: ram gender: male profasion: software developer\n"
     ]
    }
   ],
   "source": [
    "ram.show()"
   ]
  },
  {
   "cell_type": "code",
   "execution_count": 25,
   "id": "ec29f2f7",
   "metadata": {},
   "outputs": [
    {
     "name": "stdout",
     "output_type": "stream",
     "text": [
      "ram is working as a software developer\n"
     ]
    }
   ],
   "source": [
    "ram.work()"
   ]
  },
  {
   "cell_type": "code",
   "execution_count": 26,
   "id": "d8871ce2",
   "metadata": {},
   "outputs": [
    {
     "name": "stdout",
     "output_type": "stream",
     "text": [
      "ram is working as a web developer\n"
     ]
    }
   ],
   "source": [
    "shyam.work()"
   ]
  },
  {
   "cell_type": "code",
   "execution_count": 4,
   "id": "e99c2257",
   "metadata": {},
   "outputs": [
    {
     "data": {
      "text/plain": [
       "[1, 2, 3, 4]"
      ]
     },
     "execution_count": 4,
     "metadata": {},
     "output_type": "execute_result"
    }
   ],
   "source": [
    "lst=[1,2,3]\n",
    "lst.append(4)\n",
    "lst"
   ]
  },
  {
   "cell_type": "code",
   "execution_count": null,
   "id": "0e521723",
   "metadata": {},
   "outputs": [],
   "source": [
    "#Methods are defined for the objects of a particular class weheras functions are not defined for\n",
    "a perticular class\n",
    "#"
   ]
  },
  {
   "cell_type": "code",
   "execution_count": null,
   "id": "44aad53c",
   "metadata": {},
   "outputs": [],
   "source": [
    "class attributes\n",
    "1.instance variables\n",
    "2.class variables"
   ]
  },
  {
   "cell_type": "code",
   "execution_count": null,
   "id": "515da395",
   "metadata": {},
   "outputs": [],
   "source": [
    "#instance variables -attched to an instance(object) of a class.\n",
    "                    -defined inside any method but generally inside\n",
    "                     the__init__()\n",
    " #class variables-aAttached to the class\n",
    "                  -declared inside the class but outside of any method"
   ]
  },
  {
   "cell_type": "code",
   "execution_count": 18,
   "id": "11c97e31",
   "metadata": {},
   "outputs": [],
   "source": [
    "class Student:\n",
    "    # class variables\n",
    "    school_name=\"ABC School\"\n",
    "     \n",
    "    def __init__(self,name,age):\n",
    "        #instance variables\n",
    "        self.name = name\n",
    "        self.age = age\n",
    "        \n",
    "s1 = Student(\"jack\",12)       "
   ]
  },
  {
   "cell_type": "code",
   "execution_count": 9,
   "id": "0b35f407",
   "metadata": {},
   "outputs": [
    {
     "name": "stdout",
     "output_type": "stream",
     "text": [
      "student: jack 12\n"
     ]
    }
   ],
   "source": [
    "#access instance variables\n",
    "print(\"student:\",s1.name,s1.age)"
   ]
  },
  {
   "cell_type": "code",
   "execution_count": 10,
   "id": "08dd63f5",
   "metadata": {},
   "outputs": [
    {
     "name": "stdout",
     "output_type": "stream",
     "text": [
      "school name: ABC School\n"
     ]
    }
   ],
   "source": [
    "#access class variables\n",
    "print(\"school name:\",Student.school_name)"
   ]
  },
  {
   "cell_type": "code",
   "execution_count": 11,
   "id": "100453e6",
   "metadata": {},
   "outputs": [
    {
     "data": {
      "text/plain": [
       "'ABC School'"
      ]
     },
     "execution_count": 11,
     "metadata": {},
     "output_type": "execute_result"
    }
   ],
   "source": [
    "s1.school_name"
   ]
  },
  {
   "cell_type": "code",
   "execution_count": 12,
   "id": "59e1630c",
   "metadata": {},
   "outputs": [
    {
     "data": {
      "text/plain": [
       "61"
      ]
     },
     "execution_count": 12,
     "metadata": {},
     "output_type": "execute_result"
    }
   ],
   "source": [
    "31--7--23"
   ]
  },
  {
   "cell_type": "code",
   "execution_count": 13,
   "id": "74616845",
   "metadata": {},
   "outputs": [
    {
     "name": "stdout",
     "output_type": "stream",
     "text": [
      "<class 'type'>\n"
     ]
    }
   ],
   "source": [
    "set1={1,2,3}\n",
    "print(type(set))"
   ]
  },
  {
   "cell_type": "code",
   "execution_count": 14,
   "id": "df7cabf4",
   "metadata": {},
   "outputs": [
    {
     "ename": "NameError",
     "evalue": "name 'true' is not defined",
     "output_type": "error",
     "traceback": [
      "\u001b[1;31m---------------------------------------------------------------------------\u001b[0m",
      "\u001b[1;31mNameError\u001b[0m                                 Traceback (most recent call last)",
      "Cell \u001b[1;32mIn[14], line 1\u001b[0m\n\u001b[1;32m----> 1\u001b[0m set1\u001b[38;5;241m=\u001b[39m\u001b[43mtrue\u001b[49m\n\u001b[0;32m      2\u001b[0m \u001b[38;5;28mprint\u001b[39m(\u001b[38;5;28mtype\u001b[39m(my_func))\n",
      "\u001b[1;31mNameError\u001b[0m: name 'true' is not defined"
     ]
    }
   ],
   "source": [
    "set1=true\n",
    "print(type(my_func))"
   ]
  },
  {
   "cell_type": "code",
   "execution_count": 19,
   "id": "54e35d3d",
   "metadata": {},
   "outputs": [
    {
     "name": "stdout",
     "output_type": "stream",
     "text": [
      "school name: XYZ school\n"
     ]
    }
   ],
   "source": [
    "#modify class variables\n",
    "Student.school_name='XYZ school'\n",
    "print('school name:',Student.school_name)    "
   ]
  },
  {
   "cell_type": "code",
   "execution_count": 3,
   "id": "9dd98f84",
   "metadata": {},
   "outputs": [],
   "source": [
    "class Student:\n",
    "    # class variables\n",
    "    school_name=\"ABC School\"\n",
    "     \n",
    "    def __init__(self,name,age):\n",
    "        #instance variables\n",
    "        self.name = name\n",
    "        self.age = age\n",
    "        \n",
    "s1 = Student(\"jack\",12)       "
   ]
  },
  {
   "cell_type": "code",
   "execution_count": 4,
   "id": "1811f79f",
   "metadata": {},
   "outputs": [
    {
     "name": "stdout",
     "output_type": "stream",
     "text": [
      "xyz School\n",
      "ABC School\n"
     ]
    }
   ],
   "source": [
    "#experiments\n",
    "s2=Student(\"james\",12)\n",
    "s2.school_name=\"xyz School\"#this creates an instance variables 'school_name'fors2\n",
    "print(s2.school_name)\n",
    "print(Student.school_name) #but the class variable .school_name' does not change"
   ]
  },
  {
   "cell_type": "code",
   "execution_count": 5,
   "id": "034579f1",
   "metadata": {},
   "outputs": [
    {
     "ename": "SyntaxError",
     "evalue": "expected ':' (2124374989.py, line 1)",
     "output_type": "error",
     "traceback": [
      "\u001b[1;36m  Cell \u001b[1;32mIn[5], line 1\u001b[1;36m\u001b[0m\n\u001b[1;33m    class attributes\u001b[0m\n\u001b[1;37m                    ^\u001b[0m\n\u001b[1;31mSyntaxError\u001b[0m\u001b[1;31m:\u001b[0m expected ':'\n"
     ]
    }
   ],
   "source": [
    "class attributes\n",
    "1=instance variables\n",
    "2=class variables"
   ]
  },
  {
   "cell_type": "code",
   "execution_count": 6,
   "id": "b32951e6",
   "metadata": {},
   "outputs": [],
   "source": [
    "# instance -attached to an instance object of a class\n",
    "#          -defined inside any method but generally inside\n",
    "#           the__init__(method)\n",
    "#          - Every object will have its  own copy\n",
    "\n",
    "#class variables-attached to the class\n",
    "#               -declared inside the class but outside of any method\n",
    "#               -Every object will share the same class variable"
   ]
  },
  {
   "cell_type": "code",
   "execution_count": 7,
   "id": "f8105283",
   "metadata": {},
   "outputs": [
    {
     "ename": "AttributeError",
     "evalue": "'Student' object has no attribute 'profession'",
     "output_type": "error",
     "traceback": [
      "\u001b[1;31m---------------------------------------------------------------------------\u001b[0m",
      "\u001b[1;31mAttributeError\u001b[0m                            Traceback (most recent call last)",
      "Cell \u001b[1;32mIn[7], line 2\u001b[0m\n\u001b[0;32m      1\u001b[0m s1\u001b[38;5;241m.\u001b[39mprofession\u001b[38;5;241m=\u001b[39m\u001b[38;5;124m\"\u001b[39m\u001b[38;5;124mdata scientics\u001b[39m\u001b[38;5;124m\"\u001b[39m\n\u001b[1;32m----> 2\u001b[0m \u001b[43ms2\u001b[49m\u001b[38;5;241;43m.\u001b[39;49m\u001b[43mprofession\u001b[49m\n",
      "\u001b[1;31mAttributeError\u001b[0m: 'Student' object has no attribute 'profession'"
     ]
    }
   ],
   "source": [
    "s1.profession=\"data scientics\"\n",
    "s2.profession"
   ]
  },
  {
   "cell_type": "markdown",
   "id": "4d0a9098",
   "metadata": {},
   "source": [
    "# 1 august 2023  deleting object attributes"
   ]
  },
  {
   "cell_type": "markdown",
   "id": "68ad63e3",
   "metadata": {},
   "source": [
    "# deleting object attibutes"
   ]
  },
  {
   "cell_type": "code",
   "execution_count": 14,
   "id": "8fecaa37",
   "metadata": {},
   "outputs": [
    {
     "ename": "AttributeError",
     "evalue": "school_name",
     "output_type": "error",
     "traceback": [
      "\u001b[1;31m---------------------------------------------------------------------------\u001b[0m",
      "\u001b[1;31mAttributeError\u001b[0m                            Traceback (most recent call last)",
      "Cell \u001b[1;32mIn[14], line 1\u001b[0m\n\u001b[1;32m----> 1\u001b[0m \u001b[38;5;28;01mdel\u001b[39;00m s2\u001b[38;5;241m.\u001b[39mschool_name\n",
      "\u001b[1;31mAttributeError\u001b[0m: school_name"
     ]
    }
   ],
   "source": [
    "del s2.school_name"
   ]
  },
  {
   "cell_type": "code",
   "execution_count": null,
   "id": "d3eed8fa",
   "metadata": {},
   "outputs": [],
   "source": []
  },
  {
   "cell_type": "code",
   "execution_count": 11,
   "id": "0a8a2909",
   "metadata": {},
   "outputs": [
    {
     "data": {
      "text/plain": [
       "'ABC School'"
      ]
     },
     "execution_count": 11,
     "metadata": {},
     "output_type": "execute_result"
    }
   ],
   "source": [
    "s2.school_name"
   ]
  },
  {
   "cell_type": "markdown",
   "id": "86b748b5",
   "metadata": {},
   "source": [
    "# constructor\n",
    "\n",
    "- a constructor is a special method used to initialize an object of aclass\n",
    ". defining constructors is optional.\n",
    "- python will provide a default constructor if no constructor if no constructor is defined\n",
    "- .the consructor is executed automatically at the time of object creation.\n",
    "- the primary use of a consuctor is to initialize instance variables of an object of an object.the constructor contains a\n",
    "collection of a of starements that executes at the time of object creation."
   ]
  },
  {
   "cell_type": "code",
   "execution_count": null,
   "id": "4ea39ee5",
   "metadata": {},
   "outputs": [],
   "source": [
    "3 aug 2013\n"
   ]
  },
  {
   "cell_type": "code",
   "execution_count": 1,
   "id": "bfcd3ec9",
   "metadata": {},
   "outputs": [],
   "source": [
    "class student:\n",
    "    pass\n",
    "# python give defult constructor\n",
    "s1=student()\n",
    "s2=student()\n",
    "s3=student()\n",
    "    "
   ]
  },
  {
   "cell_type": "code",
   "execution_count": 2,
   "id": "e3995205",
   "metadata": {},
   "outputs": [],
   "source": [
    "s1.name=\"ram\"\n",
    "s1.age=17\n",
    "s1.profession=\"web developer\"\n",
    "\n",
    "s2.name=\"shyam\"\n",
    "s2.age=16\n",
    "s2.profession=\"softwear developer\"\n",
    "\n",
    "s3.name=\"neeraj\"\n",
    "s3.age=17\n",
    "s3.profession=\"data scientist\"\n"
   ]
  },
  {
   "cell_type": "code",
   "execution_count": 3,
   "id": "978372c1",
   "metadata": {},
   "outputs": [],
   "source": [
    "class student:\n",
    "    #constructor\n",
    "    # initialize instance variable\n",
    "    def __init__(self,name,age,proff):\n",
    "        self.name=name\n",
    "        self.age=age\n",
    "        self.profession=proff\n",
    "    \n",
    "# create objects using constructor\n",
    "s1=student(\"ram\",17,\"web developer\")\n",
    "s2=student(\"shyam\",18,\"data scientist\")\n",
    "s3=student(\"neeraj\",16,\"softwear developer\")"
   ]
  },
  {
   "cell_type": "code",
   "execution_count": null,
   "id": "9d4dd3f9",
   "metadata": {},
   "outputs": [],
   "source": []
  },
  {
   "cell_type": "markdown",
   "id": "4edcd576",
   "metadata": {},
   "source": [
    "# Destructor"
   ]
  },
  {
   "cell_type": "markdown",
   "id": "129e6532",
   "metadata": {},
   "source": [
    "# a destructor is called when an object is deleted or destroyed "
   ]
  },
  {
   "cell_type": "code",
   "execution_count": 5,
   "id": "ec782e6e",
   "metadata": {},
   "outputs": [
    {
     "name": "stdout",
     "output_type": "stream",
     "text": [
      "inside constructor\n",
      "object initialize\n",
      "hello, my name is Emma\n",
      "inside destructor\n",
      "object destroyed\n"
     ]
    }
   ],
   "source": [
    "class student:\n",
    "    #constructor\n",
    "    def __init__(self,name):\n",
    "        print('inside constructor')\n",
    "        self.name=name\n",
    "        print('object initialize')\n",
    "    def show(self):\n",
    "        print('hello, my name is',self.name)\n",
    "        \n",
    "    # destructor  \n",
    "      def __del__(self):\n",
    "        print('inside destructor')\n",
    "        print('object destroyed')\n",
    "        \n",
    "# creat object\n",
    "s1=student('Emma')\n",
    "s1.show()\n",
    "\n",
    "# delete object\n",
    "del s1\n",
    "        \n",
    "        "
   ]
  },
  {
   "cell_type": "code",
   "execution_count": null,
   "id": "d798cdaa",
   "metadata": {},
   "outputs": [],
   "source": [
    "3 aug 2023"
   ]
  },
  {
   "cell_type": "markdown",
   "id": "9249222e",
   "metadata": {},
   "source": [
    "instance method\n",
    ".methods in which instance variables and classvariables are used\n",
    ".used to access or modify both the object and class state\n",
    ".it must have a self parameter to refer to the current object"
   ]
  },
  {
   "cell_type": "code",
   "execution_count": 5,
   "id": "608964be",
   "metadata": {},
   "outputs": [
    {
     "name": "stdout",
     "output_type": "stream",
     "text": [
      "hey:i am a data scientist\n",
      "my name is xyz\n"
     ]
    }
   ],
   "source": [
    "class aspirant:\n",
    "    def __init__(self,name):         #constructors are special methods\n",
    "        print(\"hey:i am a data scientist\")\n",
    "        self.name= name\n",
    "    def show(self):\n",
    "        print(\"my name is\",self.name)\n",
    "a1=aspirant(\"xyz\")\n",
    "a1.show()#calling an instance method           )            "
   ]
  },
  {
   "cell_type": "code",
   "execution_count": 7,
   "id": "985bf1a5",
   "metadata": {},
   "outputs": [
    {
     "name": "stdout",
     "output_type": "stream",
     "text": [
      "Data Scientist\n"
     ]
    }
   ],
   "source": [
    "class person:\n",
    "    job = \"Data Scientist\"\n",
    "    def change_class_state(self):\n",
    "        self.job = \"web developer\"      # access class attributes and change the class state\n",
    "        print(person.job)\n",
    "p1=person()\n",
    "p1.change_class_state()"
   ]
  },
  {
   "cell_type": "code",
   "execution_count": 8,
   "id": "896c0fec",
   "metadata": {},
   "outputs": [],
   "source": [
    "p1.job = \"web developer\""
   ]
  },
  {
   "cell_type": "code",
   "execution_count": null,
   "id": "200ac330",
   "metadata": {},
   "outputs": [],
   "source": [
    "class method\n",
    ".method in which only class varaables are used\n",
    ".take the cls parameter\n",
    ".used to access or modify the class state"
   ]
  },
  {
   "cell_type": "code",
   "execution_count": 20,
   "id": "5d98892c",
   "metadata": {},
   "outputs": [
    {
     "name": "stdout",
     "output_type": "stream",
     "text": [
      "present school name is XYZ in Haldwani\n",
      "<class '__main__.school'>\n",
      "Now school has been changed to ABC schoolinDELHI\n"
     ]
    }
   ],
   "source": [
    "class school:\n",
    "    school_name = 'XYZ'\n",
    "    loc ='Haldwani'\n",
    "    \n",
    "    @classmethod  #decoartar\n",
    "    def change_school(cls,name,loc1):\n",
    "        print(cls)\n",
    "        cls.school_name = name\n",
    "        cls.loc = loc1\n",
    "           \n",
    "std1  = school()\n",
    "print(f\"present school name is {school.school_name} in {school.loc}\") # f.string\n",
    "school .change_school('ABC school',\"DELHI\")\n",
    "print(f\"Now school has been changed to {school.school_name}in{school.loc}\" )\n"
   ]
  },
  {
   "cell_type": "code",
   "execution_count": 12,
   "id": "08da2298",
   "metadata": {},
   "outputs": [
    {
     "name": "stdout",
     "output_type": "stream",
     "text": [
      "the value of x is  89 and the value of y is 78\n"
     ]
    }
   ],
   "source": [
    "x = 89\n",
    "y = 78\n",
    "print(\"the value of x is \" ,x,'and the value of y is',y)"
   ]
  },
  {
   "cell_type": "code",
   "execution_count": 22,
   "id": "cfd9791d",
   "metadata": {},
   "outputs": [
    {
     "name": "stdout",
     "output_type": "stream",
     "text": [
      " the value of x is 89 and the value of y is78\n"
     ]
    }
   ],
   "source": [
    "print(f\" the value of x is {x} and the value of y is{y}\")\n",
    "      "
   ]
  },
  {
   "cell_type": "code",
   "execution_count": 3,
   "id": "a7fc142a",
   "metadata": {},
   "outputs": [
    {
     "name": "stdout",
     "output_type": "stream",
     "text": [
      "['parag', '4th']\n",
      "parag 4th\n"
     ]
    }
   ],
   "source": [
    "# using class methods as alternative constructors\n",
    "class School:\n",
    "    school_name='XYZ school'\n",
    "    loc='Haldwani'\n",
    "    \n",
    "    def __init__(self,name,class_):\n",
    "        self.name=name\n",
    "        self.class_=class_\n",
    "        \n",
    "    @classmethod\n",
    "    def new_admission(cls,info):\n",
    "        lst=info.split(\"@\")\n",
    "        print(lst)\n",
    "        return cls(lst[0],lst[1])  #school(\"parag\",\"4th\") \n",
    "    \n",
    "std2= School.new_admission('parag@4th')\n",
    "\n",
    "print(std2.name,std2.class_)   "
   ]
  },
  {
   "cell_type": "code",
   "execution_count": null,
   "id": "b9aa6d65",
   "metadata": {},
   "outputs": [],
   "source": [
    "static methods\n",
    ".similar to a normaal function\n",
    ".it does not take the cls and self parameters.\n",
    ".it cannot modify the state of the object or class\n",
    "\n",
    "advantage \n",
    ".safer code-as they can not change the class or instance variables"
   ]
  },
  {
   "cell_type": "code",
   "execution_count": 2,
   "id": "bb055200",
   "metadata": {},
   "outputs": [
    {
     "name": "stdout",
     "output_type": "stream",
     "text": [
      "inside static method 10\n",
      "inside static method 10\n"
     ]
    }
   ],
   "source": [
    "class Employee:\n",
    "    @staticmethod\n",
    "    def sample(x):\n",
    "        print('inside static method',x)\n",
    "        \n",
    "#call using class\n",
    "Employee.sample(10)\n",
    "        \n",
    "#call using object\n",
    "emp=Employee()\n",
    "emp.sample(10)"
   ]
  },
  {
   "cell_type": "code",
   "execution_count": null,
   "id": "1d08b03b",
   "metadata": {},
   "outputs": [],
   "source": [
    "5/8/2023"
   ]
  },
  {
   "cell_type": "code",
   "execution_count": null,
   "id": "64fe8d93",
   "metadata": {},
   "outputs": [],
   "source": [
    "  7/8/23 "
   ]
  },
  {
   "cell_type": "code",
   "execution_count": null,
   "id": "df236815",
   "metadata": {},
   "outputs": [],
   "source": [
    "# procedural programing\n",
    "# object - oriented programing\n",
    "asp1=\"priyanshu\"\n",
    "phone1 =78923456\n",
    "e_mail= \"priyanshu@gmail.com\"\n",
    "prog_exp1 = \"no\"\n",
    "comp_prof1=\" yes\"\n",
    "\n",
    "asp 2 = \"roy\"\n",
    "phone2 = 87456323\n",
    "e_mail2 = \"roy@gmail.com\"\n",
    "prog_exp2 = \"no\"\n",
    "comp_prof2 = \"yes\"\n",
    "\n",
    "asp3 =\"josh\"\n",
    "phone3 = 786313245\n",
    "e_mail= \"josh@gmail.com\"\n",
    "prog_exp3 = \"no\"\n",
    "comp_prof3 = \"yes\"\n",
    "\n",
    "\n",
    "asp 4 = "
   ]
  },
  {
   "cell_type": "markdown",
   "id": "f56b3858",
   "metadata": {},
   "source": [
    "8/8/2023"
   ]
  },
  {
   "cell_type": "markdown",
   "id": "8b3900b0",
   "metadata": {},
   "source": [
    "process of inheriting the parent class into a child class is called inheritance\n",
    "\n",
    "the child class acquires all the attributes and methods from the parent class also a child class can provide\n",
    "its specific implementation to the attributes of the parent class."
   ]
  },
  {
   "cell_type": "code",
   "execution_count": null,
   "id": "e1cf662a",
   "metadata": {},
   "outputs": [],
   "source": [
    "class parentclass:\n",
    "    pass\n",
    "class childclass(parentclass):\n",
    "    pass"
   ]
  },
  {
   "cell_type": "markdown",
   "id": "27febd78",
   "metadata": {},
   "source": [
    "### types of inheritance\n",
    "1. single inheritance\n",
    "2.multiple inheritance\n",
    "3.multilevel inheritance\n",
    "4'hierachical inhearitance\n",
    "5.hybrid inheritance"
   ]
  },
  {
   "cell_type": "markdown",
   "id": "809fdb27",
   "metadata": {},
   "source": [
    "class employee:\n",
    "    def__init__(self,name,age,gender,salary,id,):\n",
    "        self.name = name\n",
    "        self.age = age\n",
    "        self.gender = gender\n",
    "        self.salary = salary\n",
    "        self.id = id\n",
    "        \n",
    "class programmer:        "
   ]
  },
  {
   "cell_type": "code",
   "execution_count": null,
   "id": "4369cb07",
   "metadata": {},
   "outputs": [],
   "source": [
    "class employee:\n",
    "    def__init__(self,name,age,gender,salary,id,):\n",
    "        self.name = name\n",
    "        self.age = age\n",
    "        self.gender = gender\n",
    "        self.salary = salary\n",
    "        self. id = id\n",
    "\n",
    "class programmer:\n",
    "    def__init__(self,name,age,gender,salary,id):\n",
    "        self.name = name\n",
    "        self.a\n",
    "        "
   ]
  }
 ],
 "metadata": {
  "kernelspec": {
   "display_name": "Python 3 (ipykernel)",
   "language": "python",
   "name": "python3"
  },
  "language_info": {
   "codemirror_mode": {
    "name": "ipython",
    "version": 3
   },
   "file_extension": ".py",
   "mimetype": "text/x-python",
   "name": "python",
   "nbconvert_exporter": "python",
   "pygments_lexer": "ipython3",
   "version": "3.10.9"
  }
 },
 "nbformat": 4,
 "nbformat_minor": 5
}
