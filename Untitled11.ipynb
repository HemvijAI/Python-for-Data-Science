{
 "cells": [
  {
   "cell_type": "code",
   "execution_count": null,
   "id": "d62d97b6-2b53-4698-a58b-edc4636d4131",
   "metadata": {},
   "outputs": [],
   "source": [
    "# "
   ]
  },
  {
   "cell_type": "code",
   "execution_count": null,
   "id": "da623802-0f5a-48ba-acaa-3720774fe2e5",
   "metadata": {},
   "outputs": [],
   "source": [
    "#import pandas aspd\n",
    "#read the the file\n",
    "#path,filename,format\n",
    "mtcars=pd.read"
   ]
  }
 ],
 "metadata": {
  "kernelspec": {
   "display_name": "Python 3 (ipykernel)",
   "language": "python",
   "name": "python3"
  },
  "language_info": {
   "codemirror_mode": {
    "name": "ipython",
    "version": 3
   },
   "file_extension": ".py",
   "mimetype": "text/x-python",
   "name": "python",
   "nbconvert_exporter": "python",
   "pygments_lexer": "ipython3",
   "version": "3.10.9"
  }
 },
 "nbformat": 4,
 "nbformat_minor": 5
}
