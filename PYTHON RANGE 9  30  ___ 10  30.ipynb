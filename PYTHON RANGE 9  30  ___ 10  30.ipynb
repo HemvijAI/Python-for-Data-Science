{
 "cells": [
  {
   "cell_type": "raw",
   "id": "aa08ace9",
   "metadata": {},
   "source": [
    "range(a,b,c)\n",
    "a= lower limit\n",
    "b= upper limit\n",
    "c= step jump "
   ]
  },
  {
   "cell_type": "code",
   "execution_count": 2,
   "id": "1ef0e02d",
   "metadata": {},
   "outputs": [
    {
     "name": "stdout",
     "output_type": "stream",
     "text": [
      "1,3,5,7,9,"
     ]
    }
   ],
   "source": [
    "for i in range(1,10,2):\n",
    "    print(i , end=',')"
   ]
  },
  {
   "cell_type": "code",
   "execution_count": 6,
   "id": "c2b0da0a",
   "metadata": {},
   "outputs": [
    {
     "name": "stdout",
     "output_type": "stream",
     "text": [
      "1,3,5,7,9,"
     ]
    }
   ],
   "source": [
    "for i in range(1,10,2):\n",
    "    print(i , end=',')"
   ]
  },
  {
   "cell_type": "code",
   "execution_count": 7,
   "id": "cf0d4931",
   "metadata": {},
   "outputs": [
    {
     "name": "stdout",
     "output_type": "stream",
     "text": [
      "1,3,5,7,"
     ]
    }
   ],
   "source": [
    "for i in range(1,9,2):\n",
    "    print(i , end=',')"
   ]
  },
  {
   "cell_type": "code",
   "execution_count": 18,
   "id": "5384c348",
   "metadata": {},
   "outputs": [
    {
     "name": "stdout",
     "output_type": "stream",
     "text": [
      "1,2,3,4,5,"
     ]
    }
   ],
   "source": [
    "start=1\n",
    "stop =5\n",
    "step =1 \n",
    "stop+=step\n",
    "for i in range(start,stop,step):\n",
    "    print(i , end=',')"
   ]
  },
  {
   "cell_type": "code",
   "execution_count": 19,
   "id": "41bdfc17",
   "metadata": {},
   "outputs": [
    {
     "name": "stdout",
     "output_type": "stream",
     "text": [
      "1,5,9,"
     ]
    }
   ],
   "source": [
    "start=1\n",
    "stop =6\n",
    "step =4\n",
    "stop+=step\n",
    "for i in range(start,stop,step):\n",
    "    print(i , end=',')"
   ]
  },
  {
   "cell_type": "code",
   "execution_count": 22,
   "id": "0c121cb1",
   "metadata": {},
   "outputs": [
    {
     "name": "stdout",
     "output_type": "stream",
     "text": [
      "1,2,3,4,5,6,"
     ]
    }
   ],
   "source": [
    "start=1\n",
    "stop =5\n",
    "step =1 \n",
    "stop+=step*2             #stop+step*2=5+2=7\n",
    "for i in range(start,stop,step):\n",
    "    print(i , end=',')"
   ]
  },
  {
   "cell_type": "code",
   "execution_count": 25,
   "id": "99a805fd",
   "metadata": {},
   "outputs": [
    {
     "ename": "TypeError",
     "evalue": "'float' object cannot be interpreted as an integer",
     "output_type": "error",
     "traceback": [
      "\u001b[1;31m---------------------------------------------------------------------------\u001b[0m",
      "\u001b[1;31mTypeError\u001b[0m                                 Traceback (most recent call last)",
      "Cell \u001b[1;32mIn[25], line 5\u001b[0m\n\u001b[0;32m      3\u001b[0m step \u001b[38;5;241m=\u001b[39m\u001b[38;5;241m1\u001b[39m \n\u001b[0;32m      4\u001b[0m stop\u001b[38;5;241m+\u001b[39m\u001b[38;5;241m=\u001b[39mstep\u001b[38;5;241m/\u001b[39m\u001b[38;5;241m2\u001b[39m             \u001b[38;5;66;03m#stop+step/2=5+1/2=\u001b[39;00m\n\u001b[1;32m----> 5\u001b[0m \u001b[38;5;28;01mfor\u001b[39;00m i \u001b[38;5;129;01min\u001b[39;00m \u001b[38;5;28;43mrange\u001b[39;49m\u001b[43m(\u001b[49m\u001b[43mstart\u001b[49m\u001b[43m,\u001b[49m\u001b[43mstop\u001b[49m\u001b[43m,\u001b[49m\u001b[43mstep\u001b[49m\u001b[43m)\u001b[49m:\n\u001b[0;32m      6\u001b[0m     \u001b[38;5;28mprint\u001b[39m(i , end\u001b[38;5;241m=\u001b[39m\u001b[38;5;124m'\u001b[39m\u001b[38;5;124m,\u001b[39m\u001b[38;5;124m'\u001b[39m)\n",
      "\u001b[1;31mTypeError\u001b[0m: 'float' object cannot be interpreted as an integer"
     ]
    }
   ],
   "source": [
    "start=1\n",
    "stop =5\n",
    "step =1 \n",
    "stop+=step/2             #stop+step/2=5+1/2=5.5 # therefore it shows error\n",
    "for i in range(start,stop,step):\n",
    "    print(i , end=',')"
   ]
  },
  {
   "cell_type": "code",
   "execution_count": 27,
   "id": "d94d33fd",
   "metadata": {},
   "outputs": [
    {
     "name": "stdout",
     "output_type": "stream",
     "text": [
      "1,2,3,4,"
     ]
    }
   ],
   "source": [
    "start=1\n",
    "stop =5\n",
    "step =0 \n",
    "step+=1             #stop+step*2=5+2=7\n",
    "for i in range(start,stop,step):\n",
    "    print(i , end=',')"
   ]
  },
  {
   "cell_type": "code",
   "execution_count": 34,
   "id": "b976bffe",
   "metadata": {},
   "outputs": [
    {
     "name": "stdout",
     "output_type": "stream",
     "text": [
      "[10, 40, 60, 80, 100, 120, 140, 160, 180]\n"
     ]
    }
   ],
   "source": [
    "list1=list(range(10,100,10)) \n",
    "for i in range(1,len(list1),1):\n",
    "    list1[i]=list1[i]*2\n",
    "print(list1)"
   ]
  },
  {
   "cell_type": "code",
   "execution_count": 36,
   "id": "4f827809",
   "metadata": {},
   "outputs": [
    {
     "data": {
      "text/plain": [
       "1"
      ]
     },
     "execution_count": 36,
     "metadata": {},
     "output_type": "execute_result"
    }
   ],
   "source": [
    "list1=list(range(10,100,10)) \n",
    "list1.index(20)"
   ]
  },
  {
   "cell_type": "code",
   "execution_count": 62,
   "id": "013bb363",
   "metadata": {},
   "outputs": [
    {
     "name": "stdout",
     "output_type": "stream",
     "text": [
      "[1, 2, 3, 4, 5, 6, 7, 8, 9, 10]\n"
     ]
    }
   ],
   "source": [
    "x=list(range(1,10,1))\n",
    "x.append(10)\n",
    "print(x)\n"
   ]
  },
  {
   "cell_type": "code",
   "execution_count": 58,
   "id": "ed10e505",
   "metadata": {},
   "outputs": [
    {
     "data": {
      "text/plain": [
       "3"
      ]
     },
     "execution_count": 58,
     "metadata": {},
     "output_type": "execute_result"
    }
   ],
   "source": [
    "range(10,20,1).index(13)"
   ]
  },
  {
   "cell_type": "code",
   "execution_count": null,
   "id": "cac7510f",
   "metadata": {},
   "outputs": [],
   "source": [
    "range(10,20,1).index(13)"
   ]
  },
  {
   "cell_type": "code",
   "execution_count": null,
   "id": "1a5fb331",
   "metadata": {},
   "outputs": [],
   "source": []
  },
  {
   "cell_type": "code",
   "execution_count": null,
   "id": "04a96523",
   "metadata": {},
   "outputs": [],
   "source": []
  },
  {
   "cell_type": "code",
   "execution_count": null,
   "id": "b99d3ac2",
   "metadata": {},
   "outputs": [],
   "source": []
  },
  {
   "cell_type": "code",
   "execution_count": null,
   "id": "93d09909",
   "metadata": {},
   "outputs": [],
   "source": []
  }
 ],
 "metadata": {
  "kernelspec": {
   "display_name": "Python 3 (ipykernel)",
   "language": "python",
   "name": "python3"
  },
  "language_info": {
   "codemirror_mode": {
    "name": "ipython",
    "version": 3
   },
   "file_extension": ".py",
   "mimetype": "text/x-python",
   "name": "python",
   "nbconvert_exporter": "python",
   "pygments_lexer": "ipython3",
   "version": "3.10.9"
  }
 },
 "nbformat": 4,
 "nbformat_minor": 5
}
