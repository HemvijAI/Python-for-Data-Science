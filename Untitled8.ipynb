{
 "cells": [
  {
   "cell_type": "code",
   "execution_count": 1,
   "id": "3ff23394",
   "metadata": {},
   "outputs": [
    {
     "data": {
      "text/plain": [
       "True"
      ]
     },
     "execution_count": 1,
     "metadata": {},
     "output_type": "execute_result"
    }
   ],
   "source": [
    "x=\"hello one\"\n",
    "(x.endswith(\"one\"))"
   ]
  },
  {
   "cell_type": "code",
   "execution_count": 3,
   "id": "b521b8e0",
   "metadata": {},
   "outputs": [
    {
     "data": {
      "text/plain": [
       "True"
      ]
     },
     "execution_count": 3,
     "metadata": {},
     "output_type": "execute_result"
    }
   ],
   "source": [
    "z='13456'y=\n",
    "(z.endswith('13456'))"
   ]
  },
  {
   "cell_type": "code",
   "execution_count": 6,
   "id": "edb133af",
   "metadata": {},
   "outputs": [
    {
     "name": "stdout",
     "output_type": "stream",
     "text": [
      "<built-in method split of str object at 0x000001E66B8F0A30>\n"
     ]
    }
   ],
   "source": [
    "p=\"10.36\"\n",
    "print(p.split)\n"
   ]
  },
  {
   "cell_type": "code",
   "execution_count": 9,
   "id": "98c6c8f8",
   "metadata": {},
   "outputs": [
    {
     "name": "stdout",
     "output_type": "stream",
     "text": [
      "['hello', 'world']\n"
     ]
    }
   ],
   "source": [
    "y=\"hello world\"\n",
    "print(y.split())"
   ]
  },
  {
   "cell_type": "code",
   "execution_count": 11,
   "id": "4d6006c9",
   "metadata": {},
   "outputs": [
    {
     "name": "stdout",
     "output_type": "stream",
     "text": [
      "['h', 'llo world']\n"
     ]
    }
   ],
   "source": [
    "y=='hello word'\n",
    "print(y.split(\"e\"))"
   ]
  },
  {
   "cell_type": "code",
   "execution_count": 14,
   "id": "445f490f",
   "metadata": {},
   "outputs": [
    {
     "ename": "NameError",
     "evalue": "name 'o' is not defined",
     "output_type": "error",
     "traceback": [
      "\u001b[1;31m---------------------------------------------------------------------------\u001b[0m",
      "\u001b[1;31mNameError\u001b[0m                                 Traceback (most recent call last)",
      "Cell \u001b[1;32mIn[14], line 2\u001b[0m\n\u001b[0;32m      1\u001b[0m z\u001b[38;5;241m=\u001b[39m\u001b[38;5;124m\"\u001b[39m\u001b[38;5;124mhello word priyansu\u001b[39m\u001b[38;5;124m\"\u001b[39m\n\u001b[1;32m----> 2\u001b[0m z\u001b[38;5;241m.\u001b[39msplit(\u001b[43mo\u001b[49m)\n",
      "\u001b[1;31mNameError\u001b[0m: name 'o' is not defined"
     ]
    }
   ],
   "source": [
    "z=\"hello word priyansu\"\n",
    "z.split(o)"
   ]
  },
  {
   "cell_type": "code",
   "execution_count": 20,
   "id": "c47bef27",
   "metadata": {},
   "outputs": [
    {
     "data": {
      "text/plain": [
       "['he', 'o world']"
      ]
     },
     "execution_count": 20,
     "metadata": {},
     "output_type": "execute_result"
    }
   ],
   "source": [
    "a=\"hello world\" \n",
    "a.split(\"ll\")"
   ]
  },
  {
   "cell_type": "code",
   "execution_count": 21,
   "id": "950ab7d8",
   "metadata": {},
   "outputs": [
    {
     "data": {
      "text/plain": [
       "['hello', 'word', 'priyansu']"
      ]
     },
     "execution_count": 21,
     "metadata": {},
     "output_type": "execute_result"
    }
   ],
   "source": [
    "z==\"he is good\"\n",
    "z.split()"
   ]
  },
  {
   "cell_type": "code",
   "execution_count": 24,
   "id": "f34451dc",
   "metadata": {},
   "outputs": [
    {
     "name": "stdout",
     "output_type": "stream",
     "text": [
      "4\n"
     ]
    }
   ],
   "source": [
    "x=\"hello word\"\n",
    "print(x.find('o'))\n",
    "            "
   ]
  },
  {
   "cell_type": "code",
   "execution_count": 26,
   "id": "002d2293",
   "metadata": {},
   "outputs": [
    {
     "name": "stdout",
     "output_type": "stream",
     "text": [
      "-1\n"
     ]
    }
   ],
   "source": [
    "y='my name is suresh'\n",
    "print(x.find('u'))"
   ]
  },
  {
   "cell_type": "code",
   "execution_count": 3,
   "id": "75140e03",
   "metadata": {},
   "outputs": [
    {
     "name": "stdout",
     "output_type": "stream",
     "text": [
      "7\n"
     ]
    }
   ],
   "source": [
    "y=\"iam reading book\"\n",
    "print(y.find('d'))"
   ]
  },
  {
   "cell_type": "code",
   "execution_count": 4,
   "id": "3212bf40",
   "metadata": {},
   "outputs": [
    {
     "name": "stdout",
     "output_type": "stream",
     "text": [
      "4\n"
     ]
    }
   ],
   "source": [
    "y=\"my pent is green\"\n",
    "print(y.find('e'))"
   ]
  },
  {
   "cell_type": "code",
   "execution_count": 5,
   "id": "84ad5baf",
   "metadata": {},
   "outputs": [
    {
     "name": "stdout",
     "output_type": "stream",
     "text": [
      "3\n"
     ]
    }
   ],
   "source": [
    "r=\"my name is mohan\"\n",
    "print(r.find(\"n\"))"
   ]
  },
  {
   "cell_type": "code",
   "execution_count": 6,
   "id": "da9cb296",
   "metadata": {},
   "outputs": [
    {
     "name": "stdout",
     "output_type": "stream",
     "text": [
      "10\n"
     ]
    }
   ],
   "source": [
    "z=\"today is hpt day\"\n",
    "print(z.find(\"p\"))"
   ]
  },
  {
   "cell_type": "code",
   "execution_count": 7,
   "id": "017372ec",
   "metadata": {},
   "outputs": [
    {
     "name": "stdout",
     "output_type": "stream",
     "text": [
      "3\n"
     ]
    }
   ],
   "source": [
    "g=\"today is raining\"\n",
    "print(g.find('a'))"
   ]
  },
  {
   "cell_type": "code",
   "execution_count": 8,
   "id": "3dbcc23b",
   "metadata": {},
   "outputs": [
    {
     "name": "stdout",
     "output_type": "stream",
     "text": [
      "2\n"
     ]
    }
   ],
   "source": [
    "j=\"hourse is runing\"\n",
    "print(j.find(\"u\"))"
   ]
  },
  {
   "cell_type": "code",
   "execution_count": 9,
   "id": "54ddc23e",
   "metadata": {},
   "outputs": [
    {
     "name": "stdout",
     "output_type": "stream",
     "text": [
      "['hello ', 'ord']\n"
     ]
    }
   ],
   "source": [
    "y=\"hello word\"\n",
    "print(y.split(\"w\"))"
   ]
  },
  {
   "cell_type": "code",
   "execution_count": 10,
   "id": "d71c8069",
   "metadata": {},
   "outputs": [
    {
     "name": "stdout",
     "output_type": "stream",
     "text": [
      "['fro', ' i', ' hot']\n"
     ]
    }
   ],
   "source": [
    "h=\"fros is hot\"\n",
    "print(h.split(\"s\"))"
   ]
  },
  {
   "cell_type": "code",
   "execution_count": 12,
   "id": "24c2faf2",
   "metadata": {},
   "outputs": [
    {
     "name": "stdout",
     "output_type": "stream",
     "text": [
      "['ho', ' day']\n"
     ]
    }
   ],
   "source": [
    "b=\"hot day\"\n",
    "print(b.split(\"t\"))"
   ]
  },
  {
   "cell_type": "code",
   "execution_count": 13,
   "id": "e6dbff3f",
   "metadata": {},
   "outputs": [
    {
     "name": "stdout",
     "output_type": "stream",
     "text": [
      "['my go', 't']\n"
     ]
    }
   ],
   "source": [
    "e=\"my goat\"\n",
    "print(e.split(\"a\"))"
   ]
  },
  {
   "cell_type": "code",
   "execution_count": 14,
   "id": "3957aaa4",
   "metadata": {},
   "outputs": [
    {
     "name": "stdout",
     "output_type": "stream",
     "text": [
      "['my name i', ' ', 'ure', 'h']\n"
     ]
    }
   ],
   "source": [
    "\n",
    "d='my name is suresh'\n",
    "print(d.split(\"s\"))"
   ]
  },
  {
   "cell_type": "code",
   "execution_count": 15,
   "id": "05f36fa4",
   "metadata": {},
   "outputs": [
    {
     "name": "stdout",
     "output_type": "stream",
     "text": [
      "5\n"
     ]
    }
   ],
   "source": [
    "f=\"hot air\"\n",
    "print(f.find(\"i\"))"
   ]
  },
  {
   "cell_type": "code",
   "execution_count": 17,
   "id": "e32f125e",
   "metadata": {},
   "outputs": [
    {
     "name": "stdout",
     "output_type": "stream",
     "text": [
      "['my name i', ' puran']\n"
     ]
    }
   ],
   "source": [
    "t=\"my name is puran\"\n",
    "print(t.split(\"s\"))"
   ]
  },
  {
   "cell_type": "code",
   "execution_count": 18,
   "id": "480b06f9",
   "metadata": {},
   "outputs": [
    {
     "name": "stdout",
     "output_type": "stream",
     "text": [
      "['toda', ' cold']\n"
     ]
    }
   ],
   "source": [
    "u=\"today cold\"\n",
    "print(u.split(\"y\"))\n"
   ]
  },
  {
   "cell_type": "code",
   "execution_count": 19,
   "id": "9dc4bc02",
   "metadata": {},
   "outputs": [
    {
     "name": "stdout",
     "output_type": "stream",
     "text": [
      "3\n"
     ]
    }
   ],
   "source": [
    "y=\"manoj engry\"\n",
    "print(y.find(\"o\"))"
   ]
  },
  {
   "cell_type": "code",
   "execution_count": 20,
   "id": "134f6bda",
   "metadata": {},
   "outputs": [
    {
     "name": "stdout",
     "output_type": "stream",
     "text": [
      "['my name ', 's h', 'tesh']\n"
     ]
    }
   ],
   "source": [
    "e=\"my name is hitesh\"\n",
    "print(e.split(\"i\"))"
   ]
  },
  {
   "cell_type": "code",
   "execution_count": 21,
   "id": "9c1f2ce7",
   "metadata": {},
   "outputs": [
    {
     "name": "stdout",
     "output_type": "stream",
     "text": [
      "15\n"
     ]
    }
   ],
   "source": [
    "c=\"cot drinking milk\"\n",
    "print(c.find(\"l\"))"
   ]
  },
  {
   "cell_type": "code",
   "execution_count": 22,
   "id": "9a3c9150",
   "metadata": {},
   "outputs": [
    {
     "name": "stdout",
     "output_type": "stream",
     "text": [
      "-1\n"
     ]
    }
   ],
   "source": [
    "g=\"hard work\"\n",
    "print(g.find(\"R\"))"
   ]
  },
  {
   "cell_type": "code",
   "execution_count": 24,
   "id": "f8cad269",
   "metadata": {},
   "outputs": [
    {
     "name": "stdout",
     "output_type": "stream",
     "text": [
      "['kite flyin', '']\n"
     ]
    }
   ],
   "source": [
    "y=\"kite flying\"\n",
    "print(y.split(\"g\"))"
   ]
  },
  {
   "cell_type": "code",
   "execution_count": 25,
   "id": "eadf1e6c",
   "metadata": {},
   "outputs": [
    {
     "name": "stdout",
     "output_type": "stream",
     "text": [
      "2020513612368\n"
     ]
    }
   ],
   "source": [
    "x=12\n",
    "y=16\n",
    "print(id(x))"
   ]
  },
  {
   "cell_type": "code",
   "execution_count": 27,
   "id": "265e301d",
   "metadata": {},
   "outputs": [
    {
     "data": {
      "text/plain": [
       "True"
      ]
     },
     "execution_count": 27,
     "metadata": {},
     "output_type": "execute_result"
    }
   ],
   "source": [
    "a=[12]\n",
    "b=[12]\n",
    "a is not b"
   ]
  },
  {
   "cell_type": "code",
   "execution_count": 28,
   "id": "f496ca4f",
   "metadata": {},
   "outputs": [
    {
     "name": "stdout",
     "output_type": "stream",
     "text": [
      "2020513612368\n",
      "2020513612368\n",
      "False\n"
     ]
    }
   ],
   "source": [
    "x=12\n",
    "y=12\n",
    "print(id(x))\n",
    "print(id(y))\n",
    "print(x is not y)"
   ]
  },
  {
   "cell_type": "code",
   "execution_count": 31,
   "id": "e76ff1b6",
   "metadata": {},
   "outputs": [
    {
     "name": "stdout",
     "output_type": "stream",
     "text": [
      "2020593443328\n",
      "2020622081152\n"
     ]
    }
   ],
   "source": [
    "x=[15]\n",
    "y=[12]\n",
    "print(id(x))\n",
    "print(id(y))"
   ]
  },
  {
   "cell_type": "markdown",
   "id": "f1481c1a",
   "metadata": {},
   "source": [
    "a=[12]\n",
    "b={12]\n",
    "print(aisb)\n",
    "print(a==b)"
   ]
  },
  {
   "cell_type": "code",
   "execution_count": 39,
   "id": "b600b8d1",
   "metadata": {},
   "outputs": [
    {
     "ename": "SyntaxError",
     "evalue": "invalid syntax. Perhaps you forgot a comma? (460336641.py, line 1)",
     "output_type": "error",
     "traceback": [
      "\u001b[1;36m  Cell \u001b[1;32mIn[39], line 1\u001b[1;36m\u001b[0m\n\u001b[1;33m    a=[data science]\u001b[0m\n\u001b[1;37m       ^\u001b[0m\n\u001b[1;31mSyntaxError\u001b[0m\u001b[1;31m:\u001b[0m invalid syntax. Perhaps you forgot a comma?\n"
     ]
    }
   ],
   "source": [
    "a=[data science]\n",
    "d=[data]\n",
    "b in a"
   ]
  },
  {
   "cell_type": "code",
   "execution_count": 33,
   "id": "8f4dd167",
   "metadata": {},
   "outputs": [
    {
     "data": {
      "text/plain": [
       "False"
      ]
     },
     "execution_count": 33,
     "metadata": {},
     "output_type": "execute_result"
    }
   ],
   "source": [
    "c=[1,2,3,4]\n",
    "\n",
    "d=[4]\n",
    "d\n",
    "in c\n"
   ]
  },
  {
   "cell_type": "code",
   "execution_count": 34,
   "id": "abec702e",
   "metadata": {},
   "outputs": [
    {
     "data": {
      "text/plain": [
       "True"
      ]
     },
     "execution_count": 34,
     "metadata": {},
     "output_type": "execute_result"
    }
   ],
   "source": [
    "c=[1,2,3,4]\n",
    "d=4\n",
    "d in c"
   ]
  },
  {
   "cell_type": "code",
   "execution_count": 37,
   "id": "b01f7a70",
   "metadata": {},
   "outputs": [
    {
     "data": {
      "text/plain": [
       "False"
      ]
     },
     "execution_count": 37,
     "metadata": {},
     "output_type": "execute_result"
    }
   ],
   "source": [
    "c=[1,2,3,4]\n",
    "d=[4]\n",
    "d in c"
   ]
  },
  {
   "cell_type": "code",
   "execution_count": 46,
   "id": "3124f0b1",
   "metadata": {},
   "outputs": [
    {
     "name": "stdout",
     "output_type": "stream",
     "text": [
      "15\n"
     ]
    }
   ],
   "source": [
    "\n",
    "x=8\n",
    "x +=7 #\n",
    "print(x)"
   ]
  },
  {
   "cell_type": "code",
   "execution_count": 45,
   "id": "1548fb23",
   "metadata": {},
   "outputs": [
    {
     "name": "stdout",
     "output_type": "stream",
     "text": [
      "1\n"
     ]
    }
   ],
   "source": [
    "x=8\n",
    "x-=7#\n",
    "print (x)"
   ]
  },
  {
   "cell_type": "code",
   "execution_count": 48,
   "id": "9a70f178",
   "metadata": {},
   "outputs": [
    {
     "name": "stdout",
     "output_type": "stream",
     "text": [
      "6\n"
     ]
    }
   ],
   "source": [
    "x=9\n",
    "x-=3#\n",
    "print(x)\n"
   ]
  },
  {
   "cell_type": "code",
   "execution_count": null,
   "id": "fd32a4cf",
   "metadata": {},
   "outputs": [],
   "source": [
    "#swap the values of a and b\n"
   ]
  }
 ],
 "metadata": {
  "kernelspec": {
   "display_name": "Python 3 (ipykernel)",
   "language": "python",
   "name": "python3"
  },
  "language_info": {
   "codemirror_mode": {
    "name": "ipython",
    "version": 3
   },
   "file_extension": ".py",
   "mimetype": "text/x-python",
   "name": "python",
   "nbconvert_exporter": "python",
   "pygments_lexer": "ipython3",
   "version": "3.10.9"
  }
 },
 "nbformat": 4,
 "nbformat_minor": 5
}
