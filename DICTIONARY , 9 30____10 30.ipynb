{
 "cells": [
  {
   "cell_type": "markdown",
   "id": "cd1ed6df",
   "metadata": {},
   "source": [
    "# DICTIONARIES IN PYTHON"
   ]
  },
  {
   "cell_type": "markdown",
   "id": "b6918f13",
   "metadata": {},
   "source": [
    "dictionaries are ordered collections of unique values stored in (key-value) pairs.\n"
   ]
  },
  {
   "cell_type": "code",
   "execution_count": 1,
   "id": "8e877811",
   "metadata": {},
   "outputs": [
    {
     "name": "stdout",
     "output_type": "stream",
     "text": [
      "{'a': 'hello', 'b': 'hi'}\n"
     ]
    }
   ],
   "source": [
    "dict1={'a':'hello','a':'hello','b':'hi'}\n",
    "print(dict1)"
   ]
  },
  {
   "cell_type": "code",
   "execution_count": 2,
   "id": "3a9b3861",
   "metadata": {},
   "outputs": [
    {
     "name": "stdout",
     "output_type": "stream",
     "text": [
      "{'a': 'ho', 'b': 'hi'}\n"
     ]
    }
   ],
   "source": [
    " dict1={'a':'hello','a':'ho','b':'hi'}\n",
    "print(dict1)"
   ]
  },
  {
   "cell_type": "code",
   "execution_count": 4,
   "id": "72a3c050",
   "metadata": {},
   "outputs": [
    {
     "name": "stdout",
     "output_type": "stream",
     "text": [
      "{'ab': 'hello', 'a': 'hello', 'b': 'hi'}\n"
     ]
    }
   ],
   "source": [
    " dict1={'ab':'hello','a':'hello','b':'hi'}\n",
    "print(dict1)"
   ]
  },
  {
   "cell_type": "markdown",
   "id": "38966ed8",
   "metadata": {},
   "source": [
    "- ordered- \n",
    "- unique- key should have immutable type like string , numbers , or tuples. , and value can be anything\n",
    "- mutable- dictionary as whole is mutable."
   ]
  },
  {
   "cell_type": "markdown",
   "id": "b8bd3144",
   "metadata": {},
   "source": [
    "##### creating a dictionary"
   ]
  },
  {
   "cell_type": "markdown",
   "id": "c7229100",
   "metadata": {},
   "source": [
    "there are following three ways of creating a dictionary"
   ]
  },
  {
   "cell_type": "markdown",
   "id": "679fa912",
   "metadata": {},
   "source": [
    "- using curly brackets-____the dicts are created by enclosing comma-seperated key:value pairs inside the curly bracket{}. the colon : is used  to seperate the key and value in a pair\n",
    "- using dict() constructor-____ create a dictionary by passing the comma-seperated key:value pairs inside the dict()\n",
    "- using sequence having each item as pair (key value).\n",
    "   - example - "
   ]
  },
  {
   "cell_type": "code",
   "execution_count": 8,
   "id": "e9b3b546",
   "metadata": {},
   "outputs": [
    {
     "name": "stdout",
     "output_type": "stream",
     "text": [
      "{'name': 'khushi', 'country': 'USA', 'telephone': 8191}\n",
      "{'name': 'khushi', 'country': 'USA', 'telephone': 8191}\n"
     ]
    }
   ],
   "source": [
    "person={'name':'khushi','country':'USA','telephone':8191} # using curly brackets\n",
    "print(person)\n",
    "person=dict((('name','khushi'),('country','USA'),('telephone',8191))) # using sequence\n",
    "print(person)"
   ]
  },
  {
   "cell_type": "code",
   "execution_count": 9,
   "id": "f7941194",
   "metadata": {},
   "outputs": [
    {
     "name": "stdout",
     "output_type": "stream",
     "text": [
      "{'name': 'khushi', 'country': 'USA', 'telephone': 8191}\n"
     ]
    },
    {
     "ename": "ValueError",
     "evalue": "dictionary update sequence element #0 has length 4; 2 is required",
     "output_type": "error",
     "traceback": [
      "\u001b[1;31m---------------------------------------------------------------------------\u001b[0m",
      "\u001b[1;31mValueError\u001b[0m                                Traceback (most recent call last)",
      "Cell \u001b[1;32mIn[9], line 3\u001b[0m\n\u001b[0;32m      1\u001b[0m person\u001b[38;5;241m=\u001b[39m{\u001b[38;5;124m'\u001b[39m\u001b[38;5;124mname\u001b[39m\u001b[38;5;124m'\u001b[39m:\u001b[38;5;124m'\u001b[39m\u001b[38;5;124mkhushi\u001b[39m\u001b[38;5;124m'\u001b[39m,\u001b[38;5;124m'\u001b[39m\u001b[38;5;124mcountry\u001b[39m\u001b[38;5;124m'\u001b[39m:\u001b[38;5;124m'\u001b[39m\u001b[38;5;124mUSA\u001b[39m\u001b[38;5;124m'\u001b[39m,\u001b[38;5;124m'\u001b[39m\u001b[38;5;124mtelephone\u001b[39m\u001b[38;5;124m'\u001b[39m:\u001b[38;5;241m8191\u001b[39m}\n\u001b[0;32m      2\u001b[0m \u001b[38;5;28mprint\u001b[39m(person)\n\u001b[1;32m----> 3\u001b[0m person\u001b[38;5;241m=\u001b[39m\u001b[38;5;28;43mdict\u001b[39;49m\u001b[43m(\u001b[49m\u001b[43m(\u001b[49m\u001b[38;5;124;43m'\u001b[39;49m\u001b[38;5;124;43mname\u001b[39;49m\u001b[38;5;124;43m'\u001b[39;49m\u001b[43m,\u001b[49m\u001b[38;5;124;43m'\u001b[39;49m\u001b[38;5;124;43mkhushi\u001b[39;49m\u001b[38;5;124;43m'\u001b[39;49m\u001b[43m,\u001b[49m\u001b[38;5;124;43m'\u001b[39;49m\u001b[38;5;124;43mcountry\u001b[39;49m\u001b[38;5;124;43m'\u001b[39;49m\u001b[43m,\u001b[49m\u001b[38;5;124;43m'\u001b[39;49m\u001b[38;5;124;43mUSA\u001b[39;49m\u001b[38;5;124;43m'\u001b[39;49m\u001b[43m,\u001b[49m\u001b[38;5;124;43m'\u001b[39;49m\u001b[38;5;124;43mtelephone\u001b[39;49m\u001b[38;5;124;43m'\u001b[39;49m\u001b[43m,\u001b[49m\u001b[38;5;241;43m819\u001b[39;49m\u001b[43m)\u001b[49m\u001b[43m)\u001b[49m\n\u001b[0;32m      4\u001b[0m \u001b[38;5;28mprint\u001b[39m(person)\n",
      "\u001b[1;31mValueError\u001b[0m: dictionary update sequence element #0 has length 4; 2 is required"
     ]
    }
   ],
   "source": [
    "person={'name':'khushi','country':'USA','telephone':8191}\n",
    "print(person)\n",
    "person=dict(('name','khushi','country','USA','telephone',819))\n",
    "print(person)"
   ]
  },
  {
   "cell_type": "code",
   "execution_count": 11,
   "id": "9fe578b5",
   "metadata": {},
   "outputs": [
    {
     "name": "stdout",
     "output_type": "stream",
     "text": [
      "{'name': 'khushi', 'country': 'USA', 'telephone': [8191, 12121, 919191, 1212233]}\n"
     ]
    }
   ],
   "source": [
    "person={'name':'khushi','country':'USA','telephone':[8191,12121,919191,1212233]} # as the key values are mutable\n",
    "print(person)\n"
   ]
  },
  {
   "cell_type": "code",
   "execution_count": 17,
   "id": "41d9ff5d",
   "metadata": {},
   "outputs": [
    {
     "name": "stdout",
     "output_type": "stream",
     "text": [
      "{'name': 'khushi', 'country': 'USA', 'telephone': [8191, 12121, 919191, 1212233]}\n",
      "khushi\n",
      "khushi\n"
     ]
    }
   ],
   "source": [
    "person={'name':'khushi','country':'USA','telephone':[8191,12121,919191,1212233]} # as the key values are mutable\n",
    "c=person.get('name')\n",
    "print(person)\n",
    "print(person.get('name'))\n",
    "print(c)"
   ]
  },
  {
   "cell_type": "code",
   "execution_count": 18,
   "id": "57e2d270",
   "metadata": {},
   "outputs": [
    {
     "name": "stdout",
     "output_type": "stream",
     "text": [
      "{'name': 'khushi', 'country': 'USA', 'telephone': [8191, 12121, 919191, 1212233]}\n",
      "khushi\n",
      "khushi\n"
     ]
    }
   ],
   "source": [
    "person={'name':'khushi','country':'USA','telephone':[8191,12121,919191,1212233]} # as the key values are mutable\n",
    "c=person.get('name')\n",
    "print(person)\n",
    "print(person.get('name'))\n",
    "print(c)"
   ]
  },
  {
   "cell_type": "markdown",
   "id": "bc665872",
   "metadata": {},
   "source": [
    "##### solution of doubt"
   ]
  },
  {
   "cell_type": "code",
   "execution_count": 1,
   "id": "22b68518",
   "metadata": {},
   "outputs": [
    {
     "name": "stdout",
     "output_type": "stream",
     "text": [
      "[1, 2, 3, 4, 5, 6]\n",
      "None\n",
      "[1, 2, 3, 4, 5, 6, 2222, 2222]\n"
     ]
    }
   ],
   "source": [
    "list1=[1,2,3,4,5,6]\n",
    "print(list1)\n",
    "list1.append(2222)          # as append attribute does not have any specific quality of its own in output because its function \n",
    "print(list1.append(2222))   # is to add a value to a prexisting defined list.\n",
    "print(list1)                # so it does not have any meaning of its own when we are running prin\n",
    "                            # therefore it does not have a specific output of its own \n",
    "                            # therefore NONE datatype"
   ]
  },
  {
   "cell_type": "code",
   "execution_count": 2,
   "id": "8a1c2eba",
   "metadata": {},
   "outputs": [
    {
     "name": "stdout",
     "output_type": "stream",
     "text": [
      "[1, 2]\n"
     ]
    }
   ],
   "source": [
    "x=[1,2,3,4,5]\n",
    "y=x[0:2]\n",
    "print(y) # new kind of output"
   ]
  },
  {
   "cell_type": "markdown",
   "id": "fc2c8d7d",
   "metadata": {},
   "source": [
    "##  accessing items of a dictionary\n",
    "\n",
    "there are two ways of accessing items of a dictionary------\n",
    "- using value using the key name insinfe the [] brackets.\n",
    "- retrieve value by passing key name as a parameter to get() method of a dictionary.\n"
   ]
  },
  {
   "cell_type": "code",
   "execution_count": 12,
   "id": "3042cd4f",
   "metadata": {},
   "outputs": [
    {
     "name": "stdout",
     "output_type": "stream",
     "text": [
      "USA\n",
      "khushi\n",
      "khushi\n",
      "140707914804928\n",
      "khushi\n",
      "2630114763888\n",
      "2630114763888\n",
      "khushi\n"
     ]
    },
    {
     "data": {
      "text/plain": [
       "False"
      ]
     },
     "execution_count": 12,
     "metadata": {},
     "output_type": "execute_result"
    }
   ],
   "source": [
    "person={'name':'khushi','country':'USA', 'telephone':8191}\n",
    "print(person['country'])\n",
    "print(person.get('name'))\n",
    "print(id(print(person.get('name'))))\n",
    "x=person.get('name')\n",
    "y=person.get('name')\n",
    "print(x)\n",
    "print(id(y))\n",
    "print(id(x))\n",
    "x==print(person.get('name'))"
   ]
  },
  {
   "cell_type": "code",
   "execution_count": 13,
   "id": "cee9d6b1",
   "metadata": {},
   "outputs": [
    {
     "name": "stdout",
     "output_type": "stream",
     "text": [
      "USA\n",
      "khushi\n",
      "khushi\n",
      "140708311625408\n",
      "khushi\n",
      "None\n",
      "2609792402096\n",
      "140708311625408\n",
      "False\n",
      "khushi\n"
     ]
    },
    {
     "data": {
      "text/plain": [
       "True"
      ]
     },
     "execution_count": 13,
     "metadata": {},
     "output_type": "execute_result"
    }
   ],
   "source": [
    "person={'name':'khushi','country':'USA', 'telephone':8191}\n",
    "print(person['country'])\n",
    "print(person.get('name'))\n",
    "print(id(print(person.get('name'))))\n",
    "x=print(person.get('name'))\n",
    "y=person.get('name')\n",
    "print(x)\n",
    "print(id(y))\n",
    "print(id(x))\n",
    "print(x==person.get('name'))\n",
    "x==print(person.get('name'))"
   ]
  },
  {
   "cell_type": "markdown",
   "id": "8920a2f4",
   "metadata": {},
   "source": [
    "#### we can get the values keys by\n",
    "- keys()\n",
    "- values()\n",
    "- items()"
   ]
  },
  {
   "cell_type": "code",
   "execution_count": 1,
   "id": "f78a2fa8",
   "metadata": {},
   "outputs": [
    {
     "name": "stdout",
     "output_type": "stream",
     "text": [
      "dict_keys(['name', 'country', 'telephone'])\n",
      "dict_values(['khushi', 'USA', 8191])\n",
      "dict_items([('name', 'khushi'), ('country', 'USA'), ('telephone', 8191)])\n"
     ]
    }
   ],
   "source": [
    "person={'name':'khushi','country':'USA', 'telephone':8191}\n",
    "print(person.keys())\n",
    "print(person.values())\n",
    "print(person.items())"
   ]
  },
  {
   "cell_type": "code",
   "execution_count": 2,
   "id": "103f7a88",
   "metadata": {},
   "outputs": [
    {
     "ename": "TypeError",
     "evalue": "dict.keys() takes no arguments (1 given)",
     "output_type": "error",
     "traceback": [
      "\u001b[1;31m---------------------------------------------------------------------------\u001b[0m",
      "\u001b[1;31mTypeError\u001b[0m                                 Traceback (most recent call last)",
      "Cell \u001b[1;32mIn[2], line 2\u001b[0m\n\u001b[0;32m      1\u001b[0m person\u001b[38;5;241m=\u001b[39m{\u001b[38;5;124m'\u001b[39m\u001b[38;5;124mname\u001b[39m\u001b[38;5;124m'\u001b[39m:\u001b[38;5;124m'\u001b[39m\u001b[38;5;124mkhushi\u001b[39m\u001b[38;5;124m'\u001b[39m,\u001b[38;5;124m'\u001b[39m\u001b[38;5;124mcountry\u001b[39m\u001b[38;5;124m'\u001b[39m:\u001b[38;5;124m'\u001b[39m\u001b[38;5;124mUSA\u001b[39m\u001b[38;5;124m'\u001b[39m, \u001b[38;5;124m'\u001b[39m\u001b[38;5;124mtelephone\u001b[39m\u001b[38;5;124m'\u001b[39m:\u001b[38;5;241m8191\u001b[39m}\n\u001b[1;32m----> 2\u001b[0m \u001b[38;5;28mprint\u001b[39m(\u001b[43mperson\u001b[49m\u001b[38;5;241;43m.\u001b[39;49m\u001b[43mkeys\u001b[49m\u001b[43m(\u001b[49m\u001b[38;5;241;43m1\u001b[39;49m\u001b[43m)\u001b[49m)\n\u001b[0;32m      3\u001b[0m \u001b[38;5;28mprint\u001b[39m(person\u001b[38;5;241m.\u001b[39mvalues())\n\u001b[0;32m      4\u001b[0m \u001b[38;5;28mprint\u001b[39m(person\u001b[38;5;241m.\u001b[39mitems())\n",
      "\u001b[1;31mTypeError\u001b[0m: dict.keys() takes no arguments (1 given)"
     ]
    }
   ],
   "source": [
    "person={'name':'khushi','country':'USA', 'telephone':8191}\n",
    "print(person.keys(1))\n",
    "print(person.values())\n",
    "print(person.items())"
   ]
  },
  {
   "cell_type": "code",
   "execution_count": 3,
   "id": "a8baba06",
   "metadata": {},
   "outputs": [
    {
     "name": "stdout",
     "output_type": "stream",
     "text": [
      "dict_keys(['name', 'country', 'telephone'])\n"
     ]
    },
    {
     "ename": "TypeError",
     "evalue": "dict.values() takes no arguments (1 given)",
     "output_type": "error",
     "traceback": [
      "\u001b[1;31m---------------------------------------------------------------------------\u001b[0m",
      "\u001b[1;31mTypeError\u001b[0m                                 Traceback (most recent call last)",
      "Cell \u001b[1;32mIn[3], line 3\u001b[0m\n\u001b[0;32m      1\u001b[0m person\u001b[38;5;241m=\u001b[39m{\u001b[38;5;124m'\u001b[39m\u001b[38;5;124mname\u001b[39m\u001b[38;5;124m'\u001b[39m:\u001b[38;5;124m'\u001b[39m\u001b[38;5;124mkhushi\u001b[39m\u001b[38;5;124m'\u001b[39m,\u001b[38;5;124m'\u001b[39m\u001b[38;5;124mcountry\u001b[39m\u001b[38;5;124m'\u001b[39m:\u001b[38;5;124m'\u001b[39m\u001b[38;5;124mUSA\u001b[39m\u001b[38;5;124m'\u001b[39m, \u001b[38;5;124m'\u001b[39m\u001b[38;5;124mtelephone\u001b[39m\u001b[38;5;124m'\u001b[39m:\u001b[38;5;241m8191\u001b[39m}\n\u001b[0;32m      2\u001b[0m \u001b[38;5;28mprint\u001b[39m(person\u001b[38;5;241m.\u001b[39mkeys())\n\u001b[1;32m----> 3\u001b[0m \u001b[38;5;28mprint\u001b[39m(\u001b[43mperson\u001b[49m\u001b[38;5;241;43m.\u001b[39;49m\u001b[43mvalues\u001b[49m\u001b[43m(\u001b[49m\u001b[38;5;241;43m1\u001b[39;49m\u001b[43m)\u001b[49m)\n\u001b[0;32m      4\u001b[0m \u001b[38;5;28mprint\u001b[39m(person\u001b[38;5;241m.\u001b[39mitems())\n",
      "\u001b[1;31mTypeError\u001b[0m: dict.values() takes no arguments (1 given)"
     ]
    }
   ],
   "source": [
    "person={'name':'khushi','country':'USA', 'telephone':8191}\n",
    "print(person.keys())\n",
    "print(person.values(1))\n",
    "print(person.items())"
   ]
  },
  {
   "cell_type": "code",
   "execution_count": 4,
   "id": "ee7d7c66",
   "metadata": {},
   "outputs": [
    {
     "name": "stdout",
     "output_type": "stream",
     "text": [
      "dict_keys(['name', 'country', 'telephone'])\n",
      "dict_values(['khushi', 'USA', 8191])\n"
     ]
    },
    {
     "ename": "TypeError",
     "evalue": "dict.items() takes no arguments (1 given)",
     "output_type": "error",
     "traceback": [
      "\u001b[1;31m---------------------------------------------------------------------------\u001b[0m",
      "\u001b[1;31mTypeError\u001b[0m                                 Traceback (most recent call last)",
      "Cell \u001b[1;32mIn[4], line 4\u001b[0m\n\u001b[0;32m      2\u001b[0m \u001b[38;5;28mprint\u001b[39m(person\u001b[38;5;241m.\u001b[39mkeys())\n\u001b[0;32m      3\u001b[0m \u001b[38;5;28mprint\u001b[39m(person\u001b[38;5;241m.\u001b[39mvalues())\n\u001b[1;32m----> 4\u001b[0m \u001b[38;5;28mprint\u001b[39m(\u001b[43mperson\u001b[49m\u001b[38;5;241;43m.\u001b[39;49m\u001b[43mitems\u001b[49m\u001b[43m(\u001b[49m\u001b[38;5;241;43m1\u001b[39;49m\u001b[43m)\u001b[49m)\n",
      "\u001b[1;31mTypeError\u001b[0m: dict.items() takes no arguments (1 given)"
     ]
    }
   ],
   "source": [
    "person={'name':'khushi','country':'USA', 'telephone':8191}\n",
    "print(person.keys())\n",
    "print(person.values())\n",
    "print(person.items(1))"
   ]
  },
  {
   "cell_type": "markdown",
   "id": "2e19c907",
   "metadata": {},
   "source": [
    "#### iterating the dictionary using for loops"
   ]
  },
  {
   "cell_type": "code",
   "execution_count": 6,
   "id": "94141a5c",
   "metadata": {},
   "outputs": [
    {
     "name": "stdout",
     "output_type": "stream",
     "text": [
      "key : value\n",
      "name : khushi\n",
      "country : USA\n",
      "telephone : 8191\n"
     ]
    }
   ],
   "source": [
    "person={'name':'khushi','country':'USA', 'telephone':8191}\n",
    "print('key',':','value')\n",
    "for key in person:\n",
    "    print(key,':',person[key])"
   ]
  },
  {
   "cell_type": "code",
   "execution_count": 8,
   "id": "77b1992a",
   "metadata": {},
   "outputs": [
    {
     "name": "stdout",
     "output_type": "stream",
     "text": [
      "key : value\n",
      "telephone : 8191\n",
      "telephone : 8191\n",
      "telephone : 8191\n"
     ]
    }
   ],
   "source": [
    "person={'name':'khushi','country':'USA', 'telephone':8191}\n",
    "print('key',':','value')\n",
    "for value in person:\n",
    "    print(key,':',person[key])"
   ]
  },
  {
   "cell_type": "code",
   "execution_count": 9,
   "id": "3e23023f",
   "metadata": {},
   "outputs": [
    {
     "name": "stdout",
     "output_type": "stream",
     "text": [
      "key : value\n",
      "name : 8191\n",
      "country : 8191\n",
      "telephone : 8191\n"
     ]
    }
   ],
   "source": [
    "person={'name':'khushi','country':'USA', 'telephone':8191}\n",
    "print('key',':','value')\n",
    "for value in person:\n",
    "    print(value,':',person[key])"
   ]
  },
  {
   "cell_type": "code",
   "execution_count": 10,
   "id": "43874557",
   "metadata": {},
   "outputs": [
    {
     "name": "stdout",
     "output_type": "stream",
     "text": [
      "key : value\n",
      "name : khushi\n",
      "country : USA\n",
      "telephone : 8191\n"
     ]
    }
   ],
   "source": [
    "person={'name':'khushi','country':'USA', 'telephone':8191}\n",
    "print('key',':','value')\n",
    "for value in person:\n",
    "    print(value,':',person[value])"
   ]
  },
  {
   "cell_type": "code",
   "execution_count": 11,
   "id": "0acd814d",
   "metadata": {},
   "outputs": [
    {
     "name": "stdout",
     "output_type": "stream",
     "text": [
      "key : value\n",
      "telephone : 8191\n",
      "telephone : 8191\n",
      "telephone : 8191\n"
     ]
    }
   ],
   "source": [
    "person={'name':'khushi','country':'USA', 'telephone':8191}\n",
    "print('key',':','value')\n",
    "for x in person:\n",
    "    print(key,':',person[key])"
   ]
  },
  {
   "cell_type": "code",
   "execution_count": 12,
   "id": "0f651c55",
   "metadata": {},
   "outputs": [
    {
     "name": "stdout",
     "output_type": "stream",
     "text": [
      "key : value\n",
      "name : 8191\n",
      "country : 8191\n",
      "telephone : 8191\n"
     ]
    }
   ],
   "source": [
    "person={'name':'khushi','country':'USA', 'telephone':8191}\n",
    "print('key',':','value')\n",
    "for x in person:\n",
    "    print(x,':',person[key])"
   ]
  },
  {
   "cell_type": "code",
   "execution_count": 15,
   "id": "2392bc4a",
   "metadata": {},
   "outputs": [
    {
     "name": "stdout",
     "output_type": "stream",
     "text": [
      "key : value\n",
      "name : khushi\n",
      "country : USA\n",
      "telephone : 8191\n"
     ]
    }
   ],
   "source": [
    "person={'name':'khushi','country':'USA', 'telephone':8191}\n",
    "print('key',':','value')                # for every 'x' key it runs the person[x]. in loop\n",
    "for x in person:\n",
    "    print(x,':',person[x])"
   ]
  },
  {
   "cell_type": "code",
   "execution_count": null,
   "id": "73624731",
   "metadata": {},
   "outputs": [],
   "source": [
    "person={'name':'khushi','country':'USA', 'telephone':8191}\n",
    "print('key',':','value')\n",
    "for value in person:\n",
    "    print(x,':',person[x])"
   ]
  },
  {
   "cell_type": "code",
   "execution_count": 14,
   "id": "bba92be4",
   "metadata": {},
   "outputs": [
    {
     "data": {
      "text/plain": [
       "'khushi'"
      ]
     },
     "execution_count": 14,
     "metadata": {},
     "output_type": "execute_result"
    }
   ],
   "source": [
    "person={'name':'khushi','country':'USA', 'telephone':8191}\n",
    "person['name']"
   ]
  },
  {
   "cell_type": "code",
   "execution_count": 17,
   "id": "afa8232e",
   "metadata": {},
   "outputs": [
    {
     "name": "stdout",
     "output_type": "stream",
     "text": [
      "key : value\n"
     ]
    },
    {
     "ename": "NameError",
     "evalue": "name 'a' is not defined",
     "output_type": "error",
     "traceback": [
      "\u001b[1;31m---------------------------------------------------------------------------\u001b[0m",
      "\u001b[1;31mNameError\u001b[0m                                 Traceback (most recent call last)",
      "Cell \u001b[1;32mIn[17], line 4\u001b[0m\n\u001b[0;32m      2\u001b[0m \u001b[38;5;28mprint\u001b[39m(\u001b[38;5;124m'\u001b[39m\u001b[38;5;124mkey\u001b[39m\u001b[38;5;124m'\u001b[39m,\u001b[38;5;124m'\u001b[39m\u001b[38;5;124m:\u001b[39m\u001b[38;5;124m'\u001b[39m,\u001b[38;5;124m'\u001b[39m\u001b[38;5;124mvalue\u001b[39m\u001b[38;5;124m'\u001b[39m)          \u001b[38;5;66;03m# as there is no 'a' in dict , hence person[a] won't run\u001b[39;00m\n\u001b[0;32m      3\u001b[0m \u001b[38;5;28;01mfor\u001b[39;00m value \u001b[38;5;129;01min\u001b[39;00m person:\n\u001b[1;32m----> 4\u001b[0m     \u001b[38;5;28mprint\u001b[39m(x,\u001b[38;5;124m'\u001b[39m\u001b[38;5;124m:\u001b[39m\u001b[38;5;124m'\u001b[39m,person[\u001b[43ma\u001b[49m])\n",
      "\u001b[1;31mNameError\u001b[0m: name 'a' is not defined"
     ]
    }
   ],
   "source": [
    "person={'name':'khushi','country':'USA', 'telephone':8191}\n",
    "print('key',':','value')          # as there is no 'a' in dict , hence person[a] won't run\n",
    "for value in person:\n",
    "    print(x,':',person[a])"
   ]
  },
  {
   "cell_type": "code",
   "execution_count": 19,
   "id": "04c8d5cc",
   "metadata": {},
   "outputs": [
    {
     "data": {
      "text/plain": [
       "8191"
      ]
     },
     "execution_count": 19,
     "metadata": {},
     "output_type": "execute_result"
    }
   ],
   "source": [
    "person={'name':'khushi','country':'USA', 'telephone':8191}\n",
    "person[key]"
   ]
  },
  {
   "cell_type": "code",
   "execution_count": 20,
   "id": "d8a68850",
   "metadata": {},
   "outputs": [
    {
     "data": {
      "text/plain": [
       "'khushi'"
      ]
     },
     "execution_count": 20,
     "metadata": {},
     "output_type": "execute_result"
    }
   ],
   "source": [
    "person={'name':'khushi','country':'USA', 'telephone':8191}\n",
    "person[value]"
   ]
  },
  {
   "cell_type": "code",
   "execution_count": 21,
   "id": "bc508e6a",
   "metadata": {},
   "outputs": [
    {
     "ename": "NameError",
     "evalue": "name 'keys' is not defined",
     "output_type": "error",
     "traceback": [
      "\u001b[1;31m---------------------------------------------------------------------------\u001b[0m",
      "\u001b[1;31mNameError\u001b[0m                                 Traceback (most recent call last)",
      "Cell \u001b[1;32mIn[21], line 2\u001b[0m\n\u001b[0;32m      1\u001b[0m person\u001b[38;5;241m=\u001b[39m{\u001b[38;5;124m'\u001b[39m\u001b[38;5;124mname\u001b[39m\u001b[38;5;124m'\u001b[39m:\u001b[38;5;124m'\u001b[39m\u001b[38;5;124mkhushi\u001b[39m\u001b[38;5;124m'\u001b[39m,\u001b[38;5;124m'\u001b[39m\u001b[38;5;124mcountry\u001b[39m\u001b[38;5;124m'\u001b[39m:\u001b[38;5;124m'\u001b[39m\u001b[38;5;124mUSA\u001b[39m\u001b[38;5;124m'\u001b[39m, \u001b[38;5;124m'\u001b[39m\u001b[38;5;124mtelephone\u001b[39m\u001b[38;5;124m'\u001b[39m:\u001b[38;5;241m8191\u001b[39m}\n\u001b[1;32m----> 2\u001b[0m person[\u001b[43mkeys\u001b[49m]\n",
      "\u001b[1;31mNameError\u001b[0m: name 'keys' is not defined"
     ]
    }
   ],
   "source": [
    "person={'name':'khushi','country':'USA', 'telephone':8191}\n",
    "person[keys]"
   ]
  },
  {
   "cell_type": "code",
   "execution_count": 22,
   "id": "0357936c",
   "metadata": {},
   "outputs": [
    {
     "ename": "NameError",
     "evalue": "name 'values' is not defined",
     "output_type": "error",
     "traceback": [
      "\u001b[1;31m---------------------------------------------------------------------------\u001b[0m",
      "\u001b[1;31mNameError\u001b[0m                                 Traceback (most recent call last)",
      "Cell \u001b[1;32mIn[22], line 2\u001b[0m\n\u001b[0;32m      1\u001b[0m person\u001b[38;5;241m=\u001b[39m{\u001b[38;5;124m'\u001b[39m\u001b[38;5;124mname\u001b[39m\u001b[38;5;124m'\u001b[39m:\u001b[38;5;124m'\u001b[39m\u001b[38;5;124mkhushi\u001b[39m\u001b[38;5;124m'\u001b[39m,\u001b[38;5;124m'\u001b[39m\u001b[38;5;124mcountry\u001b[39m\u001b[38;5;124m'\u001b[39m:\u001b[38;5;124m'\u001b[39m\u001b[38;5;124mUSA\u001b[39m\u001b[38;5;124m'\u001b[39m, \u001b[38;5;124m'\u001b[39m\u001b[38;5;124mtelephone\u001b[39m\u001b[38;5;124m'\u001b[39m:\u001b[38;5;241m8191\u001b[39m}\n\u001b[1;32m----> 2\u001b[0m person[\u001b[43mvalues\u001b[49m]\n",
      "\u001b[1;31mNameError\u001b[0m: name 'values' is not defined"
     ]
    }
   ],
   "source": [
    "person={'name':'khushi','country':'USA', 'telephone':8191}\n",
    "person[values]"
   ]
  },
  {
   "cell_type": "code",
   "execution_count": 24,
   "id": "ec2a86b1",
   "metadata": {},
   "outputs": [
    {
     "name": "stdout",
     "output_type": "stream",
     "text": [
      "key : value\n"
     ]
    },
    {
     "ename": "TypeError",
     "evalue": "'dict' object is not callable",
     "output_type": "error",
     "traceback": [
      "\u001b[1;31m---------------------------------------------------------------------------\u001b[0m",
      "\u001b[1;31mTypeError\u001b[0m                                 Traceback (most recent call last)",
      "Cell \u001b[1;32mIn[24], line 5\u001b[0m\n\u001b[0;32m      3\u001b[0m \u001b[38;5;28mprint\u001b[39m(\u001b[38;5;124m'\u001b[39m\u001b[38;5;124mkey\u001b[39m\u001b[38;5;124m'\u001b[39m,\u001b[38;5;124m'\u001b[39m\u001b[38;5;124m:\u001b[39m\u001b[38;5;124m'\u001b[39m,\u001b[38;5;124m'\u001b[39m\u001b[38;5;124mvalue\u001b[39m\u001b[38;5;124m'\u001b[39m)                \u001b[38;5;66;03m# for every 'x' key it runs the person[x]. in loop\u001b[39;00m\n\u001b[0;32m      4\u001b[0m \u001b[38;5;28;01mfor\u001b[39;00m x \u001b[38;5;129;01min\u001b[39;00m person:\n\u001b[1;32m----> 5\u001b[0m     \u001b[38;5;28mprint\u001b[39m(\u001b[43mperson1\u001b[49m\u001b[43m(\u001b[49m\u001b[43mx\u001b[49m\u001b[43m,\u001b[49m\u001b[38;5;124;43m'\u001b[39;49m\u001b[38;5;124;43m:\u001b[39;49m\u001b[38;5;124;43m'\u001b[39;49m\u001b[43m,\u001b[49m\u001b[43mperson\u001b[49m\u001b[43m[\u001b[49m\u001b[43mx\u001b[49m\u001b[43m]\u001b[49m\u001b[43m)\u001b[49m)\n",
      "\u001b[1;31mTypeError\u001b[0m: 'dict' object is not callable"
     ]
    }
   ],
   "source": [
    "person={'name':'khushi','country':'USA', 'telephone':8191}\n",
    "person1={}\n",
    "print('key',':','value')                # for every 'x' key it runs the person[x]. in loop\n",
    "for x in person:\n",
    "    print(person1(x,':',person[x]))"
   ]
  },
  {
   "cell_type": "code",
   "execution_count": 27,
   "id": "385e48c2",
   "metadata": {},
   "outputs": [
    {
     "name": "stdout",
     "output_type": "stream",
     "text": [
      "key : value\n"
     ]
    },
    {
     "ename": "ValueError",
     "evalue": "dictionary update sequence element #0 has length 4; 2 is required",
     "output_type": "error",
     "traceback": [
      "\u001b[1;31m---------------------------------------------------------------------------\u001b[0m",
      "\u001b[1;31mValueError\u001b[0m                                Traceback (most recent call last)",
      "Cell \u001b[1;32mIn[27], line 5\u001b[0m\n\u001b[0;32m      3\u001b[0m \u001b[38;5;28mprint\u001b[39m(\u001b[38;5;124m'\u001b[39m\u001b[38;5;124mkey\u001b[39m\u001b[38;5;124m'\u001b[39m,\u001b[38;5;124m'\u001b[39m\u001b[38;5;124m:\u001b[39m\u001b[38;5;124m'\u001b[39m,\u001b[38;5;124m'\u001b[39m\u001b[38;5;124mvalue\u001b[39m\u001b[38;5;124m'\u001b[39m)                \u001b[38;5;66;03m# for every 'x' key it runs the person[x]. in loop\u001b[39;00m\n\u001b[0;32m      4\u001b[0m \u001b[38;5;28;01mfor\u001b[39;00m x \u001b[38;5;129;01min\u001b[39;00m person:\n\u001b[1;32m----> 5\u001b[0m     \u001b[38;5;28mprint\u001b[39m(\u001b[43mperson1\u001b[49m\u001b[38;5;241;43m.\u001b[39;49m\u001b[43mupdate\u001b[49m\u001b[43m(\u001b[49m\u001b[43m(\u001b[49m\u001b[43mx\u001b[49m\u001b[43m,\u001b[49m\u001b[38;5;124;43m'\u001b[39;49m\u001b[38;5;124;43m:\u001b[39;49m\u001b[38;5;124;43m'\u001b[39;49m\u001b[43m,\u001b[49m\u001b[43mperson\u001b[49m\u001b[43m[\u001b[49m\u001b[43mx\u001b[49m\u001b[43m]\u001b[49m\u001b[43m)\u001b[49m\u001b[43m)\u001b[49m)\n",
      "\u001b[1;31mValueError\u001b[0m: dictionary update sequence element #0 has length 4; 2 is required"
     ]
    }
   ],
   "source": [
    "person={'name':'khushi','country':'USA', 'telephone':8191}\n",
    "person1={}\n",
    "print('key',':','value')                # for every 'x' key it runs the person[x]. in loop\n",
    "for x in person:\n",
    "    print(person1.update((x,':',person[x])))"
   ]
  },
  {
   "cell_type": "code",
   "execution_count": 28,
   "id": "78a93111",
   "metadata": {},
   "outputs": [
    {
     "data": {
      "text/plain": [
       "3"
      ]
     },
     "execution_count": 28,
     "metadata": {},
     "output_type": "execute_result"
    }
   ],
   "source": [
    "person={'name':'khushi','country':'USA', 'telephone':8191}\n",
    "len(person)"
   ]
  },
  {
   "cell_type": "code",
   "execution_count": 29,
   "id": "a436e834",
   "metadata": {},
   "outputs": [
    {
     "name": "stdout",
     "output_type": "stream",
     "text": [
      "key : value\n"
     ]
    },
    {
     "ename": "ValueError",
     "evalue": "dictionary update sequence element #0 has length 4; 2 is required",
     "output_type": "error",
     "traceback": [
      "\u001b[1;31m---------------------------------------------------------------------------\u001b[0m",
      "\u001b[1;31mValueError\u001b[0m                                Traceback (most recent call last)",
      "Cell \u001b[1;32mIn[29], line 6\u001b[0m\n\u001b[0;32m      4\u001b[0m \u001b[38;5;28;01mfor\u001b[39;00m x \u001b[38;5;129;01min\u001b[39;00m person:\n\u001b[0;32m      5\u001b[0m     y\u001b[38;5;241m=\u001b[39mx,\u001b[38;5;124m'\u001b[39m\u001b[38;5;124m:\u001b[39m\u001b[38;5;124m'\u001b[39m,person[x]\n\u001b[1;32m----> 6\u001b[0m     \u001b[38;5;28mprint\u001b[39m(\u001b[43mperson1\u001b[49m\u001b[38;5;241;43m.\u001b[39;49m\u001b[43mupdate\u001b[49m\u001b[43m(\u001b[49m\u001b[43my\u001b[49m\u001b[43m)\u001b[49m)\n",
      "\u001b[1;31mValueError\u001b[0m: dictionary update sequence element #0 has length 4; 2 is required"
     ]
    }
   ],
   "source": [
    "person={'name':'khushi','country':'USA', 'telephone':8191}\n",
    "person1={}\n",
    "print('key',':','value')                # for every 'x' key it runs the person[x]. in loop\n",
    "for x in person:\n",
    "    y=x,':',person[x]\n",
    "    print(person1.update(y))"
   ]
  },
  {
   "cell_type": "code",
   "execution_count": 31,
   "id": "eab3aeb1",
   "metadata": {},
   "outputs": [
    {
     "name": "stdout",
     "output_type": "stream",
     "text": [
      "key : value\n",
      "('name', ':', 'khushi')\n",
      "('country', ':', 'USA')\n",
      "('telephone', ':', 8191)\n"
     ]
    }
   ],
   "source": [
    "person={'name':'khushi','country':'USA', 'telephone':8191}\n",
    "person1={}\n",
    "print('key',':','value')                # for every 'x' key it runs the person[x]. in loop\n",
    "for x in person:\n",
    "    y=x,':',person[x]\n",
    "    print(y)"
   ]
  },
  {
   "cell_type": "code",
   "execution_count": 32,
   "id": "e8d41dc3",
   "metadata": {},
   "outputs": [
    {
     "ename": "SyntaxError",
     "evalue": "invalid syntax (660535318.py, line 5)",
     "output_type": "error",
     "traceback": [
      "\u001b[1;36m  Cell \u001b[1;32mIn[32], line 5\u001b[1;36m\u001b[0m\n\u001b[1;33m    y=x,:,person[x]\u001b[0m\n\u001b[1;37m        ^\u001b[0m\n\u001b[1;31mSyntaxError\u001b[0m\u001b[1;31m:\u001b[0m invalid syntax\n"
     ]
    }
   ],
   "source": [
    "person={'name':'khushi','country':'USA', 'telephone':8191}\n",
    "person1={}\n",
    "print('key',':','value')                # for every 'x' key it runs the person[x]. in loop\n",
    "for x in person:\n",
    "    y=x,:,person[x]\n",
    "    print(y)"
   ]
  },
  {
   "cell_type": "markdown",
   "id": "cf4e9b43",
   "metadata": {},
   "source": [
    "#### adding items to a dict"
   ]
  },
  {
   "cell_type": "code",
   "execution_count": 34,
   "id": "13edee29",
   "metadata": {},
   "outputs": [
    {
     "ename": "SyntaxError",
     "evalue": "invalid syntax (1737356803.py, line 2)",
     "output_type": "error",
     "traceback": [
      "\u001b[1;36m  Cell \u001b[1;32mIn[34], line 2\u001b[1;36m\u001b[0m\n\u001b[1;33m    person.update{'okkk':'no'}\u001b[0m\n\u001b[1;37m                 ^\u001b[0m\n\u001b[1;31mSyntaxError\u001b[0m\u001b[1;31m:\u001b[0m invalid syntax\n"
     ]
    }
   ],
   "source": [
    "person={'name':'khushi','country':'USA', 'telephone':8191}\n",
    "person.update{'okkk':'no'}"
   ]
  },
  {
   "cell_type": "code",
   "execution_count": 40,
   "id": "ff1adb6c",
   "metadata": {},
   "outputs": [
    {
     "name": "stdout",
     "output_type": "stream",
     "text": [
      "{'name': 'khushi', 'country': 'USA', 'telephone': 8191, 'okkk': 'no'}\n"
     ]
    }
   ],
   "source": [
    "person={'name':'khushi','country':'USA', 'telephone':8191}\n",
    "person.update({'okkk':'no'})\n",
    "print(person)"
   ]
  },
  {
   "cell_type": "code",
   "execution_count": 41,
   "id": "aba28048",
   "metadata": {},
   "outputs": [
    {
     "name": "stdout",
     "output_type": "stream",
     "text": [
      "{'name': 'khushi', 'country': 'USA', 'telephone': 8191, 'okkk': 'no', 'pp': 'as'}\n"
     ]
    }
   ],
   "source": [
    "person={'name':'khushi','country':'USA', 'telephone':8191}\n",
    "person.update({'okkk':'no','pp':'as'})\n",
    "print(person)"
   ]
  },
  {
   "cell_type": "code",
   "execution_count": 43,
   "id": "b5874062",
   "metadata": {},
   "outputs": [
    {
     "name": "stdout",
     "output_type": "stream",
     "text": [
      "{'name': 'khushi', 'country': 'USA', 'telephone': 8191, 'asa': 1212}\n"
     ]
    }
   ],
   "source": [
    "person={'name':'khushi','country':'USA', 'telephone':8191}\n",
    "person['asa']=1212\n",
    "print(person)"
   ]
  },
  {
   "cell_type": "code",
   "execution_count": 44,
   "id": "40a86d37",
   "metadata": {},
   "outputs": [
    {
     "name": "stdout",
     "output_type": "stream",
     "text": [
      "{'name': 1212, 'country': 'USA', 'telephone': 8191}\n"
     ]
    }
   ],
   "source": [
    "person={'name':'khushi','country':'USA', 'telephone':8191}\n",
    "person['name']=1212\n",
    "print(person)"
   ]
  },
  {
   "cell_type": "code",
   "execution_count": 45,
   "id": "cda2df48",
   "metadata": {},
   "outputs": [
    {
     "name": "stdout",
     "output_type": "stream",
     "text": [
      "{'name': 'khushi', 'country': 'India', 'telephone': 8191}\n"
     ]
    }
   ],
   "source": [
    "person={'name':'khushi','country':'USA', 'telephone':8191}\n",
    "person['country']='India'\n",
    "print(person)"
   ]
  },
  {
   "cell_type": "code",
   "execution_count": 48,
   "id": "2ac6df1f",
   "metadata": {},
   "outputs": [
    {
     "name": "stdout",
     "output_type": "stream",
     "text": [
      "{'name': 'khushi', 'country': 'USA', 'telephone': 8191, ('name', 'sas'): (1212, 'as')}\n"
     ]
    }
   ],
   "source": [
    "person={'name':'khushi','country':'USA', 'telephone':8191}\n",
    "person['name','sas']=1212,'as'\n",
    "print(person)"
   ]
  },
  {
   "cell_type": "code",
   "execution_count": null,
   "id": "7973ff8d",
   "metadata": {},
   "outputs": [],
   "source": [
    "person={'name':'khushi','country':'USA', 'telephone':8191}\n",
    "person['name','sas']=1212,'as'\n",
    "print(person)"
   ]
  },
  {
   "cell_type": "code",
   "execution_count": 6,
   "id": "beb88133",
   "metadata": {},
   "outputs": [
    {
     "name": "stdout",
     "output_type": "stream",
     "text": [
      "{'name': 'suryansh', 'country': 'USA', 'telephone': 8191}\n"
     ]
    }
   ],
   "source": [
    "person={'name':'khushi','country':'USA', 'telephone':8191}\n",
    "person.update([('name','suryansh')])\n",
    "print(person)"
   ]
  },
  {
   "cell_type": "code",
   "execution_count": 56,
   "id": "fb26b248",
   "metadata": {},
   "outputs": [
    {
     "name": "stdout",
     "output_type": "stream",
     "text": [
      "{'name': 'khushi', 'country': 'USA', 'telephone': 8191}\n"
     ]
    }
   ],
   "source": [
    "person={'name':'khushi','country':'USA', 'telephone':8191}\n",
    "person.setdefault('name','sas')\n",
    "print(person)"
   ]
  },
  {
   "cell_type": "markdown",
   "id": "a559d3ea",
   "metadata": {},
   "source": [
    "#### removing items from a dictionary"
   ]
  },
  {
   "cell_type": "code",
   "execution_count": 2,
   "id": "410fdd33",
   "metadata": {},
   "outputs": [
    {
     "name": "stdout",
     "output_type": "stream",
     "text": [
      "{'country': 'USA', 'telephone': 8191}\n"
     ]
    }
   ],
   "source": [
    "person={'name':'khushi','country':'USA', 'telephone':8191}\n",
    "person.pop('name')\n",
    "print(person)"
   ]
  },
  {
   "cell_type": "code",
   "execution_count": 5,
   "id": "011dbc87",
   "metadata": {},
   "outputs": [
    {
     "name": "stdout",
     "output_type": "stream",
     "text": [
      "{'name': 'khushi', 'country': 'USA'}\n"
     ]
    }
   ],
   "source": [
    "person={'name':'khushi','country':'USA', 'telephone':8191}\n",
    "person.popitem()\n",
    "print(person)"
   ]
  },
  {
   "cell_type": "code",
   "execution_count": 6,
   "id": "391cf1a8",
   "metadata": {},
   "outputs": [
    {
     "ename": "TypeError",
     "evalue": "pop expected at least 1 argument, got 0",
     "output_type": "error",
     "traceback": [
      "\u001b[1;31m---------------------------------------------------------------------------\u001b[0m",
      "\u001b[1;31mTypeError\u001b[0m                                 Traceback (most recent call last)",
      "Cell \u001b[1;32mIn[6], line 2\u001b[0m\n\u001b[0;32m      1\u001b[0m person\u001b[38;5;241m=\u001b[39m{\u001b[38;5;124m'\u001b[39m\u001b[38;5;124mname\u001b[39m\u001b[38;5;124m'\u001b[39m:\u001b[38;5;124m'\u001b[39m\u001b[38;5;124mkhushi\u001b[39m\u001b[38;5;124m'\u001b[39m,\u001b[38;5;124m'\u001b[39m\u001b[38;5;124mcountry\u001b[39m\u001b[38;5;124m'\u001b[39m:\u001b[38;5;124m'\u001b[39m\u001b[38;5;124mUSA\u001b[39m\u001b[38;5;124m'\u001b[39m, \u001b[38;5;124m'\u001b[39m\u001b[38;5;124mtelephone\u001b[39m\u001b[38;5;124m'\u001b[39m:\u001b[38;5;241m8191\u001b[39m}\n\u001b[1;32m----> 2\u001b[0m \u001b[43mperson\u001b[49m\u001b[38;5;241;43m.\u001b[39;49m\u001b[43mpop\u001b[49m\u001b[43m(\u001b[49m\u001b[43m)\u001b[49m\n\u001b[0;32m      3\u001b[0m \u001b[38;5;28mprint\u001b[39m(person)\n",
      "\u001b[1;31mTypeError\u001b[0m: pop expected at least 1 argument, got 0"
     ]
    }
   ],
   "source": [
    "person={'name':'khushi','country':'USA', 'telephone':8191}\n",
    "person.pop()\n",
    "print(person)"
   ]
  },
  {
   "cell_type": "code",
   "execution_count": 7,
   "id": "6ca71da2",
   "metadata": {},
   "outputs": [
    {
     "name": "stdout",
     "output_type": "stream",
     "text": [
      "{'name': 'khushi', 'country': 'USA'}\n"
     ]
    }
   ],
   "source": [
    "person={'name':'khushi','country':'USA', 'telephone':8191}\n",
    "person.pop('telephone')\n",
    "print(person)"
   ]
  },
  {
   "cell_type": "code",
   "execution_count": 38,
   "id": "ea5ef1a3",
   "metadata": {},
   "outputs": [
    {
     "ename": "KeyError",
     "evalue": "'c'",
     "output_type": "error",
     "traceback": [
      "\u001b[1;31m---------------------------------------------------------------------------\u001b[0m",
      "\u001b[1;31mKeyError\u001b[0m                                  Traceback (most recent call last)",
      "Cell \u001b[1;32mIn[38], line 2\u001b[0m\n\u001b[0;32m      1\u001b[0m person\u001b[38;5;241m=\u001b[39m{\u001b[38;5;124m'\u001b[39m\u001b[38;5;124mname\u001b[39m\u001b[38;5;124m'\u001b[39m:\u001b[38;5;124m'\u001b[39m\u001b[38;5;124mkhushi\u001b[39m\u001b[38;5;124m'\u001b[39m,\u001b[38;5;124m'\u001b[39m\u001b[38;5;124mcountry\u001b[39m\u001b[38;5;124m'\u001b[39m:\u001b[38;5;124m'\u001b[39m\u001b[38;5;124mUSA\u001b[39m\u001b[38;5;124m'\u001b[39m, \u001b[38;5;124m'\u001b[39m\u001b[38;5;124mtelephone\u001b[39m\u001b[38;5;124m'\u001b[39m:\u001b[38;5;241m8191\u001b[39m}\n\u001b[1;32m----> 2\u001b[0m \u001b[43mperson\u001b[49m\u001b[38;5;241;43m.\u001b[39;49m\u001b[43mpop\u001b[49m\u001b[43m(\u001b[49m\u001b[38;5;124;43m'\u001b[39;49m\u001b[38;5;124;43mcountry\u001b[39;49m\u001b[38;5;124;43m'\u001b[39;49m\u001b[43m[\u001b[49m\u001b[38;5;241;43m0\u001b[39;49m\u001b[43m]\u001b[49m\u001b[43m)\u001b[49m\n\u001b[0;32m      3\u001b[0m \u001b[38;5;28mprint\u001b[39m(person)\n",
      "\u001b[1;31mKeyError\u001b[0m: 'c'"
     ]
    }
   ],
   "source": [
    "person={'name':'khushi','country':'USA', 'telephone':8191}\n",
    "person.pop('country'[0])\n",
    "print(person)"
   ]
  },
  {
   "cell_type": "code",
   "execution_count": 39,
   "id": "82635eac",
   "metadata": {},
   "outputs": [
    {
     "ename": "KeyError",
     "evalue": "'c'",
     "output_type": "error",
     "traceback": [
      "\u001b[1;31m---------------------------------------------------------------------------\u001b[0m",
      "\u001b[1;31mKeyError\u001b[0m                                  Traceback (most recent call last)",
      "Cell \u001b[1;32mIn[39], line 2\u001b[0m\n\u001b[0;32m      1\u001b[0m person\u001b[38;5;241m=\u001b[39m{\u001b[38;5;124m'\u001b[39m\u001b[38;5;124mname\u001b[39m\u001b[38;5;124m'\u001b[39m:\u001b[38;5;124m'\u001b[39m\u001b[38;5;124mkhushi\u001b[39m\u001b[38;5;124m'\u001b[39m,\u001b[38;5;124m'\u001b[39m\u001b[38;5;124mcountr\u001b[39m\u001b[38;5;124m'\u001b[39m:\u001b[38;5;124m'\u001b[39m\u001b[38;5;124mUSA\u001b[39m\u001b[38;5;124m'\u001b[39m, \u001b[38;5;124m'\u001b[39m\u001b[38;5;124mtelephone\u001b[39m\u001b[38;5;124m'\u001b[39m:\u001b[38;5;241m8191\u001b[39m}\n\u001b[1;32m----> 2\u001b[0m \u001b[43mperson\u001b[49m\u001b[38;5;241;43m.\u001b[39;49m\u001b[43mpop\u001b[49m\u001b[43m(\u001b[49m\u001b[38;5;124;43m'\u001b[39;49m\u001b[38;5;124;43mcountry\u001b[39;49m\u001b[38;5;124;43m'\u001b[39;49m\u001b[43m[\u001b[49m\u001b[38;5;241;43m0\u001b[39;49m\u001b[43m]\u001b[49m\u001b[43m)\u001b[49m\n\u001b[0;32m      3\u001b[0m \u001b[38;5;28mprint\u001b[39m(person)\n",
      "\u001b[1;31mKeyError\u001b[0m: 'c'"
     ]
    }
   ],
   "source": [
    "person={'name':'khushi','countr':'USA', 'telephone':8191}\n",
    "person.pop('country'[0])\n",
    "print(person)"
   ]
  },
  {
   "cell_type": "code",
   "execution_count": 41,
   "id": "bc2ac3e1",
   "metadata": {},
   "outputs": [
    {
     "ename": "KeyError",
     "evalue": "'o'",
     "output_type": "error",
     "traceback": [
      "\u001b[1;31m---------------------------------------------------------------------------\u001b[0m",
      "\u001b[1;31mKeyError\u001b[0m                                  Traceback (most recent call last)",
      "Cell \u001b[1;32mIn[41], line 2\u001b[0m\n\u001b[0;32m      1\u001b[0m person\u001b[38;5;241m=\u001b[39m{\u001b[38;5;124m'\u001b[39m\u001b[38;5;124mname\u001b[39m\u001b[38;5;124m'\u001b[39m:\u001b[38;5;124m'\u001b[39m\u001b[38;5;124mkhushi\u001b[39m\u001b[38;5;124m'\u001b[39m,\u001b[38;5;124m'\u001b[39m\u001b[38;5;124mcountry\u001b[39m\u001b[38;5;124m'\u001b[39m:\u001b[38;5;124m'\u001b[39m\u001b[38;5;124mUSA\u001b[39m\u001b[38;5;124m'\u001b[39m, \u001b[38;5;124m'\u001b[39m\u001b[38;5;124mtelephone\u001b[39m\u001b[38;5;124m'\u001b[39m:\u001b[38;5;241m8191\u001b[39m}\n\u001b[1;32m----> 2\u001b[0m \u001b[43mperson\u001b[49m\u001b[38;5;241;43m.\u001b[39;49m\u001b[43mpop\u001b[49m\u001b[43m(\u001b[49m\u001b[38;5;124;43m'\u001b[39;49m\u001b[38;5;124;43mountry\u001b[39;49m\u001b[38;5;124;43m'\u001b[39;49m\u001b[43m[\u001b[49m\u001b[38;5;241;43m0\u001b[39;49m\u001b[43m]\u001b[49m\u001b[43m)\u001b[49m\n\u001b[0;32m      3\u001b[0m \u001b[38;5;28mprint\u001b[39m(person)\n",
      "\u001b[1;31mKeyError\u001b[0m: 'o'"
     ]
    }
   ],
   "source": [
    "person={'name':'khushi','country':'USA', 'telephone':8191}\n",
    "person.pop('ountry'[0])\n",
    "print(person)"
   ]
  },
  {
   "cell_type": "code",
   "execution_count": 16,
   "id": "dd3ffce7",
   "metadata": {},
   "outputs": [
    {
     "name": "stdout",
     "output_type": "stream",
     "text": [
      "{'name': 'khushi', 'telephone': 8191}\n"
     ]
    }
   ],
   "source": [
    "person={'name':'khushi','country':['USA','RUSSIA'], 'telephone':8191}\n",
    "person.pop('country',['USA'])\n",
    "print(person)"
   ]
  },
  {
   "cell_type": "code",
   "execution_count": 17,
   "id": "13703f6d",
   "metadata": {},
   "outputs": [
    {
     "name": "stdout",
     "output_type": "stream",
     "text": [
      "{'name': 'khushi', 'telephone': 8191}\n"
     ]
    }
   ],
   "source": [
    "person={'name':'khushi','country':['USA','RUSSIA'], 'telephone':8191}\n",
    "person.pop('country',['USA'])\n",
    "print(person)"
   ]
  },
  {
   "cell_type": "code",
   "execution_count": 27,
   "id": "f37cf260",
   "metadata": {},
   "outputs": [
    {
     "name": "stdout",
     "output_type": "stream",
     "text": [
      "2241051538432\n",
      "{'name': 'khushi', 'country': ['INDIA', 'USA'], 'telephone': 8191}\n",
      "['INDIA', 'USA']\n",
      "2241051877248\n",
      "{'name': 'khushi', 'telephone': 8191}\n",
      "2241051538432\n"
     ]
    }
   ],
   "source": [
    "person={'name':'khushi','country':['INDIA','USA'], 'telephone':8191}\n",
    "print(id(person))\n",
    "print(person)\n",
    "C=person.pop('country')\n",
    "print(C)\n",
    "print(id(C))\n",
    "print(person)\n",
    "print(id(person))"
   ]
  },
  {
   "cell_type": "code",
   "execution_count": 28,
   "id": "e884ee03",
   "metadata": {},
   "outputs": [
    {
     "name": "stdout",
     "output_type": "stream",
     "text": [
      "2241051673152\n",
      "{'name': 'khushi', 'country': '', 'telephone': 8191}\n",
      "\n",
      "2240942735408\n",
      "{'name': 'khushi', 'telephone': 8191}\n",
      "2241051673152\n"
     ]
    }
   ],
   "source": [
    "person={'name':'khushi','country':'', 'telephone':8191}\n",
    "print(id(person))\n",
    "print(person)\n",
    "C=person.pop('country')\n",
    "print(C)\n",
    "print(id(C))\n",
    "print(person)\n",
    "print(id(person))"
   ]
  },
  {
   "cell_type": "code",
   "execution_count": 29,
   "id": "cc66a264",
   "metadata": {},
   "outputs": [
    {
     "name": "stdout",
     "output_type": "stream",
     "text": [
      "2241051620992\n",
      "{'name': 'khushi', 'country': 'INDIA,USA', 'telephone': 8191}\n",
      "INDIA,USA\n",
      "2241051935728\n",
      "{'name': 'khushi', 'telephone': 8191}\n",
      "2241051620992\n"
     ]
    }
   ],
   "source": [
    "person={'name':'khushi','country':'INDIA,USA', 'telephone':8191}\n",
    "print(id(person))\n",
    "print(person)\n",
    "C=person.pop('country')\n",
    "print(C)\n",
    "print(id(C))\n",
    "print(person)\n",
    "print(id(person))"
   ]
  },
  {
   "cell_type": "code",
   "execution_count": 36,
   "id": "397af575",
   "metadata": {},
   "outputs": [
    {
     "name": "stdout",
     "output_type": "stream",
     "text": [
      "{'a': 'b'}\n"
     ]
    }
   ],
   "source": [
    "person={'name':'khushi','country':'INDIA,USA', 'telephone':8191}\n",
    "del person\n",
    "person={'a':'b'}\n",
    "print(person)"
   ]
  },
  {
   "cell_type": "code",
   "execution_count": 35,
   "id": "c998bf8d",
   "metadata": {},
   "outputs": [
    {
     "name": "stdout",
     "output_type": "stream",
     "text": [
      "{}\n"
     ]
    }
   ],
   "source": [
    "person={'name':'khushi','country':'INDIA,USA', 'telephone':8191}\n",
    "person.clear()\n",
    "print(person)"
   ]
  },
  {
   "cell_type": "code",
   "execution_count": 47,
   "id": "47e9e252",
   "metadata": {},
   "outputs": [
    {
     "name": "stdout",
     "output_type": "stream",
     "text": [
      "khushi\n"
     ]
    }
   ],
   "source": [
    "person={'name':'khushi','country':'INDIA,USA', 'telephone':8191}\n",
    "c=person.get('name')\n",
    "print(c)"
   ]
  },
  {
   "cell_type": "code",
   "execution_count": 55,
   "id": "313fd8ac",
   "metadata": {},
   "outputs": [
    {
     "name": "stdout",
     "output_type": "stream",
     "text": [
      "yes\n"
     ]
    }
   ],
   "source": [
    "person={'name':'khushi','country':'INDIA,USA', 'telephone':8191}\n",
    "if 'country'in person:\n",
    "    print('yes') \n",
    "else:\n",
    "    print('no')\n",
    "       "
   ]
  },
  {
   "cell_type": "code",
   "execution_count": 56,
   "id": "0833289d",
   "metadata": {},
   "outputs": [
    {
     "data": {
      "text/plain": [
       "'khushi'"
      ]
     },
     "execution_count": 56,
     "metadata": {},
     "output_type": "execute_result"
    }
   ],
   "source": [
    "person={'name':'khushi','country':'INDIA,USA', 'telephone':8191}\n",
    "person.get('name')"
   ]
  },
  {
   "cell_type": "code",
   "execution_count": 60,
   "id": "abbd9ee9",
   "metadata": {},
   "outputs": [],
   "source": [
    "person={'name':'khushi','country':'INDIA,USA', 'telephone':8191}\n",
    "person.get('nameee')\n"
   ]
  },
  {
   "cell_type": "code",
   "execution_count": 61,
   "id": "02ff4457",
   "metadata": {},
   "outputs": [
    {
     "name": "stdout",
     "output_type": "stream",
     "text": [
      "{'a': 1, 'b': 2}\n"
     ]
    }
   ],
   "source": [
    "dict_1={'a':1}\n",
    "dict_2={'b':2}\n",
    "dict_1.update(dict_2)\n",
    "print(dict_1)"
   ]
  },
  {
   "cell_type": "code",
   "execution_count": 63,
   "id": "a12f73b4",
   "metadata": {},
   "outputs": [
    {
     "ename": "AttributeError",
     "evalue": "'NoneType' object has no attribute 'update'",
     "output_type": "error",
     "traceback": [
      "\u001b[1;31m---------------------------------------------------------------------------\u001b[0m",
      "\u001b[1;31mAttributeError\u001b[0m                            Traceback (most recent call last)",
      "Cell \u001b[1;32mIn[63], line 5\u001b[0m\n\u001b[0;32m      3\u001b[0m dict3\u001b[38;5;241m=\u001b[39m{\u001b[38;5;241m5\u001b[39m:\u001b[38;5;241m6\u001b[39m}\n\u001b[0;32m      4\u001b[0m dict4\u001b[38;5;241m=\u001b[39m{\u001b[38;5;241m7\u001b[39m:\u001b[38;5;241m8\u001b[39m}\n\u001b[1;32m----> 5\u001b[0m \u001b[43mdict1\u001b[49m\u001b[38;5;241;43m.\u001b[39;49m\u001b[43mupdate\u001b[49m\u001b[43m(\u001b[49m\u001b[43mdict2\u001b[49m\u001b[43m)\u001b[49m\u001b[38;5;241;43m.\u001b[39;49m\u001b[43mupdate\u001b[49m(dict3)\n",
      "\u001b[1;31mAttributeError\u001b[0m: 'NoneType' object has no attribute 'update'"
     ]
    }
   ],
   "source": [
    "dict1={1:2}\n",
    "dict2={3:4}\n",
    "dict3={5:6}\n",
    "dict4={7:8}\n",
    "dict1.update(dict2).update(dict3)"
   ]
  },
  {
   "cell_type": "code",
   "execution_count": 64,
   "id": "f1c3d042",
   "metadata": {},
   "outputs": [
    {
     "name": "stdout",
     "output_type": "stream",
     "text": [
      "{1: 2, 3: 4, 5: 6, 7: 8}\n"
     ]
    }
   ],
   "source": [
    "dict1={1:2}\n",
    "dict2={3:4}\n",
    "dict3={5:6}\n",
    "dict4={7:8}\n",
    "dict1.update(dict2)\n",
    "dict1.update(dict3)\n",
    "dict1.update(dict4)\n",
    "print(dict1)"
   ]
  },
  {
   "cell_type": "code",
   "execution_count": 74,
   "id": "0fbbdb02",
   "metadata": {},
   "outputs": [
    {
     "ename": "SyntaxError",
     "evalue": "invalid syntax (3432120771.py, line 5)",
     "output_type": "error",
     "traceback": [
      "\u001b[1;36m  Cell \u001b[1;32mIn[74], line 5\u001b[1;36m\u001b[0m\n\u001b[1;33m    c=dict1**,dict2**,dict3**,dict4**\u001b[0m\n\u001b[1;37m             ^\u001b[0m\n\u001b[1;31mSyntaxError\u001b[0m\u001b[1;31m:\u001b[0m invalid syntax\n"
     ]
    }
   ],
   "source": [
    "dict1={1:2}\n",
    "dict2={3:4}\n",
    "dict3={5:6}\n",
    "dict4={7:8}\n",
    "c=dict1**,dict2**,dict3**,dict4**\n",
    "print(c"
   ]
  },
  {
   "cell_type": "code",
   "execution_count": 78,
   "id": "a5818dfe",
   "metadata": {},
   "outputs": [
    {
     "ename": "SyntaxError",
     "evalue": "invalid syntax (120343480.py, line 5)",
     "output_type": "error",
     "traceback": [
      "\u001b[1;36m  Cell \u001b[1;32mIn[78], line 5\u001b[1;36m\u001b[0m\n\u001b[1;33m    c=**dict1,**dict2,**dict3,**dict4\u001b[0m\n\u001b[1;37m      ^\u001b[0m\n\u001b[1;31mSyntaxError\u001b[0m\u001b[1;31m:\u001b[0m invalid syntax\n"
     ]
    }
   ],
   "source": [
    "dict1={1:2}\n",
    "dict2={3:4}\n",
    "dict3={5:6}\n",
    "dict4={7:8}\n",
    "c=**dict1,**dict2,**dict3,**dict4\n",
    "print(c"
   ]
  },
  {
   "cell_type": "code",
   "execution_count": 77,
   "id": "a63ebce4",
   "metadata": {},
   "outputs": [
    {
     "name": "stdout",
     "output_type": "stream",
     "text": [
      "{1: 2, 3: 4, 5: 6, 7: 8}\n"
     ]
    }
   ],
   "source": [
    "dict1={1:2}\n",
    "dict2={3:4}\n",
    "dict3={5:6}\n",
    "dict4={7:8} \n",
    "c={**dict1,**dict2,**dict3,**dict4}\n",
    "print(c)"
   ]
  },
  {
   "cell_type": "code",
   "execution_count": 82,
   "id": "077286b9",
   "metadata": {},
   "outputs": [
    {
     "ename": "TypeError",
     "evalue": "update expected at most 1 argument, got 3",
     "output_type": "error",
     "traceback": [
      "\u001b[1;31m---------------------------------------------------------------------------\u001b[0m",
      "\u001b[1;31mTypeError\u001b[0m                                 Traceback (most recent call last)",
      "Cell \u001b[1;32mIn[82], line 5\u001b[0m\n\u001b[0;32m      3\u001b[0m dict3\u001b[38;5;241m=\u001b[39m{\u001b[38;5;241m5\u001b[39m:\u001b[38;5;241m6\u001b[39m}\n\u001b[0;32m      4\u001b[0m dict4\u001b[38;5;241m=\u001b[39m{\u001b[38;5;241m7\u001b[39m:\u001b[38;5;241m8\u001b[39m} \n\u001b[1;32m----> 5\u001b[0m \u001b[43mdict1\u001b[49m\u001b[38;5;241;43m.\u001b[39;49m\u001b[43mupdate\u001b[49m\u001b[43m(\u001b[49m\u001b[43mdict2\u001b[49m\u001b[43m,\u001b[49m\u001b[43mdict3\u001b[49m\u001b[43m,\u001b[49m\u001b[43mdict4\u001b[49m\u001b[43m)\u001b[49m\n",
      "\u001b[1;31mTypeError\u001b[0m: update expected at most 1 argument, got 3"
     ]
    }
   ],
   "source": [
    "dict1={1:2}\n",
    "dict2={3:4}\n",
    "dict3={5:6}\n",
    "dict4={7:8} \n",
    "dict1.update(dict2,dict3,dict4)"
   ]
  },
  {
   "cell_type": "code",
   "execution_count": 81,
   "id": "11a4b5c1",
   "metadata": {},
   "outputs": [
    {
     "name": "stdout",
     "output_type": "stream",
     "text": [
      "<class 'tuple'>\n",
      "<class 'list'>\n",
      "[1, 2, 3, 4]\n"
     ]
    }
   ],
   "source": [
    "c=(1,2,3,4)\n",
    "print(type(c))\n",
    "d=list(c)\n",
    "print(type(d))\n",
    "print(d)"
   ]
  },
  {
   "cell_type": "code",
   "execution_count": null,
   "id": "0eb7c458",
   "metadata": {},
   "outputs": [],
   "source": []
  },
  {
   "cell_type": "code",
   "execution_count": 48,
   "id": "40aa499e",
   "metadata": {},
   "outputs": [
    {
     "name": "stdout",
     "output_type": "stream",
     "text": [
      "{'a': 1, 'b': 2}\n"
     ]
    }
   ],
   "source": [
    "dict_1={'a':1}\n",
    "dict_2={'b':2}\n",
    "dict_1.update(dict_2)\n",
    "print(dict_1)"
   ]
  },
  {
   "cell_type": "code",
   "execution_count": 1,
   "id": "7ccd801a",
   "metadata": {},
   "outputs": [
    {
     "name": "stdout",
     "output_type": "stream",
     "text": [
      "{1: 2, 3: 4}\n"
     ]
    }
   ],
   "source": [
    "c=([1,2],[3,4])\n",
    "d=dict(c)\n",
    "print(d)"
   ]
  },
  {
   "cell_type": "code",
   "execution_count": 3,
   "id": "0189d417",
   "metadata": {},
   "outputs": [
    {
     "name": "stdout",
     "output_type": "stream",
     "text": [
      "{(1, 2): (3, 4)}\n"
     ]
    }
   ],
   "source": [
    "c=[(1,2),(3,4)]\n",
    "d=dict(c)\n",
    "print(d)"
   ]
  },
  {
   "cell_type": "code",
   "execution_count": 5,
   "id": "204b0eb3",
   "metadata": {},
   "outputs": [
    {
     "name": "stdout",
     "output_type": "stream",
     "text": [
      "{(1, 2): (3, 4), 'a': 's'}\n"
     ]
    }
   ],
   "source": [
    "c=[[(1,2),(3,4)],'as']\n",
    "d=dict(c)\n",
    "print(d)"
   ]
  },
  {
   "cell_type": "code",
   "execution_count": null,
   "id": "358bd109",
   "metadata": {},
   "outputs": [],
   "source": [
    "c=['as'[(1,2),(3,4)]]\n",
    "d=dict(c)\n",
    "print(d)"
   ]
  },
  {
   "cell_type": "markdown",
   "id": "a66acdde",
   "metadata": {},
   "source": [
    "#### python built in functions with dictionary"
   ]
  },
  {
   "cell_type": "markdown",
   "id": "6f1673ad",
   "metadata": {},
   "source": [
    "- max and min "
   ]
  },
  {
   "cell_type": "markdown",
   "id": "e44c8628",
   "metadata": {},
   "source": [
    "- max min value will return the max and min value of dictionary\n",
    "- it only considers the keys in comparision and the values are not considered.\n"
   ]
  },
  {
   "cell_type": "code",
   "execution_count": 1,
   "id": "c1bc714c",
   "metadata": {},
   "outputs": [
    {
     "name": "stdout",
     "output_type": "stream",
     "text": [
      "3\n",
      "1\n"
     ]
    }
   ],
   "source": [
    "dict1={1:'A',2:'B',3:'C'}\n",
    "print(max(dict1))\n",
    "print(min(dict1))"
   ]
  },
  {
   "cell_type": "code",
   "execution_count": 2,
   "id": "7bd41cbd",
   "metadata": {},
   "outputs": [
    {
     "ename": "TypeError",
     "evalue": "'>' not supported between instances of 'int' and 'str'",
     "output_type": "error",
     "traceback": [
      "\u001b[1;31m---------------------------------------------------------------------------\u001b[0m",
      "\u001b[1;31mTypeError\u001b[0m                                 Traceback (most recent call last)",
      "Cell \u001b[1;32mIn[2], line 2\u001b[0m\n\u001b[0;32m      1\u001b[0m dict1\u001b[38;5;241m=\u001b[39m{\u001b[38;5;124m'\u001b[39m\u001b[38;5;124ma\u001b[39m\u001b[38;5;124m'\u001b[39m:\u001b[38;5;124m'\u001b[39m\u001b[38;5;124mA\u001b[39m\u001b[38;5;124m'\u001b[39m,\u001b[38;5;241m2\u001b[39m:\u001b[38;5;124m'\u001b[39m\u001b[38;5;124mB\u001b[39m\u001b[38;5;124m'\u001b[39m,\u001b[38;5;241m3\u001b[39m:\u001b[38;5;124m'\u001b[39m\u001b[38;5;124mC\u001b[39m\u001b[38;5;124m'\u001b[39m}\n\u001b[1;32m----> 2\u001b[0m \u001b[38;5;28mprint\u001b[39m(\u001b[38;5;28;43mmax\u001b[39;49m\u001b[43m(\u001b[49m\u001b[43mdict1\u001b[49m\u001b[43m)\u001b[49m)\n\u001b[0;32m      3\u001b[0m \u001b[38;5;28mprint\u001b[39m(\u001b[38;5;28mmin\u001b[39m(dict1))\n",
      "\u001b[1;31mTypeError\u001b[0m: '>' not supported between instances of 'int' and 'str'"
     ]
    }
   ],
   "source": [
    "dict1={'a':'A',2:'B',3:'C'}\n",
    "print(max(dict1))\n",
    "print(min(dict1))"
   ]
  },
  {
   "cell_type": "code",
   "execution_count": 5,
   "id": "ae5a2391",
   "metadata": {},
   "outputs": [
    {
     "name": "stdout",
     "output_type": "stream",
     "text": [
      "c\n",
      "a\n"
     ]
    }
   ],
   "source": [
    "dict1={'a':'Aadadad','b':'asadadasd','c':'Cadadasd'}\n",
    "print(max(dict1))\n",
    "print(min(dict1))"
   ]
  },
  {
   "cell_type": "code",
   "execution_count": 6,
   "id": "cf3c344a",
   "metadata": {},
   "outputs": [
    {
     "name": "stdout",
     "output_type": "stream",
     "text": [
      "c\n",
      "a\n"
     ]
    }
   ],
   "source": [
    "dict1={'c':'Aadadad','b':'asadadasd','a':'Cadadasd'}\n",
    "print(max(dict1))\n",
    "print(min(dict1))"
   ]
  },
  {
   "cell_type": "code",
   "execution_count": 7,
   "id": "d45b9f02",
   "metadata": {},
   "outputs": [
    {
     "name": "stdout",
     "output_type": "stream",
     "text": [
      "c\n",
      "A\n"
     ]
    }
   ],
   "source": [
    "dict1={'A':'Aadadad','b':'asadadasd','c':'Cadadasd'}\n",
    "print(max(dict1))\n",
    "print(min(dict1))"
   ]
  },
  {
   "cell_type": "code",
   "execution_count": 8,
   "id": "fe7e0004",
   "metadata": {},
   "outputs": [
    {
     "name": "stdout",
     "output_type": "stream",
     "text": [
      "b\n",
      "A\n"
     ]
    }
   ],
   "source": [
    "dict1={'A':'Aadadad','b':'asadadasd','C':'Cadadasd'}\n",
    "print(max(dict1))\n",
    "print(min(dict1))"
   ]
  },
  {
   "cell_type": "code",
   "execution_count": 9,
   "id": "ad69da38",
   "metadata": {},
   "outputs": [
    {
     "name": "stdout",
     "output_type": "stream",
     "text": [
      "C\n",
      "A\n"
     ]
    }
   ],
   "source": [
    "dict1={'A':'Aadadad','B':'asadadasd','C':'Cadadasd'}\n",
    "print(max(dict1))\n",
    "print(min(dict1))"
   ]
  },
  {
   "cell_type": "raw",
   "id": "b6dff38d",
   "metadata": {},
   "source": [
    "join two dictionary\n",
    "using update () method\n",
    "using **kwargs to method\n",
    "join two dictionaries having a few items in common\n",
    "copy a dictionary\n",
    "copy using the assignment operator\n",
    "nested dictionary\n",
    "add multiple dictionaries inside a single dictionary\n",
    "sort dictionary\n",
    "dictionary comprehension\n",
    "python built-in-functions with dictionary\n",
    "max() and min()\n",
    "all()\n",
    "any()"
   ]
  },
  {
   "cell_type": "code",
   "execution_count": 16,
   "id": "bb13db17",
   "metadata": {},
   "outputs": [
    {
     "name": "stdout",
     "output_type": "stream",
     "text": [
      "{1: 'a', 2: 'b', 3: 'c', 'a': 1, 'b': 2, 'c': 3}\n"
     ]
    }
   ],
   "source": [
    "dict1={1:'a',2:'b',3:'c'}\n",
    "dict2={'a':1,'b':2,'c':3}         # joining two dictionary\n",
    "dict1.update(dict2)\n",
    "print(dict1)"
   ]
  },
  {
   "cell_type": "code",
   "execution_count": 24,
   "id": "45cf8552",
   "metadata": {},
   "outputs": [
    {
     "ename": "TypeError",
     "evalue": "update expected at most 1 argument, got 2",
     "output_type": "error",
     "traceback": [
      "\u001b[1;31m---------------------------------------------------------------------------\u001b[0m",
      "\u001b[1;31mTypeError\u001b[0m                                 Traceback (most recent call last)",
      "Cell \u001b[1;32mIn[24], line 4\u001b[0m\n\u001b[0;32m      2\u001b[0m dict2\u001b[38;5;241m=\u001b[39m{\u001b[38;5;124m'\u001b[39m\u001b[38;5;124ma\u001b[39m\u001b[38;5;124m'\u001b[39m:\u001b[38;5;241m1\u001b[39m,\u001b[38;5;124m'\u001b[39m\u001b[38;5;124mb\u001b[39m\u001b[38;5;124m'\u001b[39m:\u001b[38;5;241m2\u001b[39m,\u001b[38;5;124m'\u001b[39m\u001b[38;5;124mc\u001b[39m\u001b[38;5;124m'\u001b[39m:\u001b[38;5;241m3\u001b[39m}         \u001b[38;5;66;03m# update takes one argument\u001b[39;00m\n\u001b[0;32m      3\u001b[0m dict3\u001b[38;5;241m=\u001b[39m{\u001b[38;5;124m'\u001b[39m\u001b[38;5;124msss\u001b[39m\u001b[38;5;124m'\u001b[39m:\u001b[38;5;241m1212\u001b[39m}\n\u001b[1;32m----> 4\u001b[0m \u001b[43mdict1\u001b[49m\u001b[38;5;241;43m.\u001b[39;49m\u001b[43mupdate\u001b[49m\u001b[43m(\u001b[49m\u001b[43mdict2\u001b[49m\u001b[43m,\u001b[49m\u001b[43mdict3\u001b[49m\u001b[43m)\u001b[49m\n\u001b[0;32m      5\u001b[0m \u001b[38;5;28mprint\u001b[39m(dict1)\n",
      "\u001b[1;31mTypeError\u001b[0m: update expected at most 1 argument, got 2"
     ]
    }
   ],
   "source": [
    "dict1={1:'a',2:'b',3:'c'}\n",
    "dict2={'a':1,'b':2,'c':3}         # update takes one argument\n",
    "dict3={'sss':1212}\n",
    "dict1.update(dict2,dict3)\n",
    "print(dict1)"
   ]
  },
  {
   "cell_type": "code",
   "execution_count": 21,
   "id": "8161e956",
   "metadata": {},
   "outputs": [
    {
     "ename": "TypeError",
     "evalue": "unhashable type: 'slice'",
     "output_type": "error",
     "traceback": [
      "\u001b[1;31m---------------------------------------------------------------------------\u001b[0m",
      "\u001b[1;31mTypeError\u001b[0m                                 Traceback (most recent call last)",
      "Cell \u001b[1;32mIn[21], line 4\u001b[0m\n\u001b[0;32m      2\u001b[0m dict2\u001b[38;5;241m=\u001b[39m{\u001b[38;5;124m'\u001b[39m\u001b[38;5;124ma\u001b[39m\u001b[38;5;124m'\u001b[39m:\u001b[38;5;241m1\u001b[39m,\u001b[38;5;124m'\u001b[39m\u001b[38;5;124mb\u001b[39m\u001b[38;5;124m'\u001b[39m:\u001b[38;5;241m2\u001b[39m,\u001b[38;5;124m'\u001b[39m\u001b[38;5;124mc\u001b[39m\u001b[38;5;124m'\u001b[39m:\u001b[38;5;241m3\u001b[39m}         \u001b[38;5;66;03m# no slicing\u001b[39;00m\n\u001b[0;32m      3\u001b[0m dict3\u001b[38;5;241m=\u001b[39m{\u001b[38;5;124m'\u001b[39m\u001b[38;5;124msss\u001b[39m\u001b[38;5;124m'\u001b[39m:\u001b[38;5;241m1212\u001b[39m}\n\u001b[1;32m----> 4\u001b[0m dict1\u001b[38;5;241m.\u001b[39mupdate(\u001b[43mdict2\u001b[49m\u001b[43m[\u001b[49m\u001b[38;5;241;43m1\u001b[39;49m\u001b[43m:\u001b[49m\u001b[38;5;241;43m2\u001b[39;49m\u001b[43m]\u001b[49m)\n\u001b[0;32m      5\u001b[0m \u001b[38;5;28mprint\u001b[39m(dict1)\n",
      "\u001b[1;31mTypeError\u001b[0m: unhashable type: 'slice'"
     ]
    }
   ],
   "source": [
    "dict1={1:'a',2:'b',3:'c'}\n",
    "dict2={'a':1,'b':2,'c':3}         # no slicing\n",
    "dict3={'sss':1212}\n",
    "dict1.update(dict2[1:2])\n",
    "print(dict1)"
   ]
  },
  {
   "cell_type": "code",
   "execution_count": 27,
   "id": "2eb320fb",
   "metadata": {},
   "outputs": [
    {
     "name": "stdout",
     "output_type": "stream",
     "text": [
      "{1: 'a', 2: 'b', 3: 'c', 'a': 1, 'b': 2, 'c': 3, 'sss': 1212}\n"
     ]
    }
   ],
   "source": [
    "dict1={1:'a',2:'b',3:'c'}\n",
    "dict2={'a':1,'b':2,'c':3}         # kwargs method\n",
    "dict3={'sss':1212}\n",
    "new_dict={**dict1,**dict2,**dict3}\n",
    "print(new_dict)"
   ]
  },
  {
   "cell_type": "code",
   "execution_count": 30,
   "id": "b85005e7",
   "metadata": {},
   "outputs": [
    {
     "name": "stdout",
     "output_type": "stream",
     "text": [
      "{1: 'a', 2: 'b', 3: 'c', 'a': 1}\n"
     ]
    }
   ],
   "source": [
    "dict1={1:'a',2:'b',3:'c'}\n",
    "dict2={'a':1,1:'a',2:'b'}          # common items in both dicts.\n",
    "dict1.update(dict2)\n",
    "print(dict1)"
   ]
  },
  {
   "cell_type": "code",
   "execution_count": 32,
   "id": "6ac5e29c",
   "metadata": {},
   "outputs": [
    {
     "ename": "NameError",
     "evalue": "name 'copy' is not defined",
     "output_type": "error",
     "traceback": [
      "\u001b[1;31m---------------------------------------------------------------------------\u001b[0m",
      "\u001b[1;31mNameError\u001b[0m                                 Traceback (most recent call last)",
      "Cell \u001b[1;32mIn[32], line 2\u001b[0m\n\u001b[0;32m      1\u001b[0m dict1\u001b[38;5;241m=\u001b[39m{\u001b[38;5;241m1\u001b[39m:\u001b[38;5;241m2\u001b[39m,\u001b[38;5;241m3\u001b[39m:\u001b[38;5;241m4\u001b[39m,\u001b[38;5;241m5\u001b[39m:\u001b[38;5;241m6\u001b[39m}\n\u001b[1;32m----> 2\u001b[0m dict2\u001b[38;5;241m=\u001b[39m\u001b[43mcopy\u001b[49m(dict1)\n",
      "\u001b[1;31mNameError\u001b[0m: name 'copy' is not defined"
     ]
    }
   ],
   "source": [
    "dict1={1:2,3:4,5:6}\n",
    "dict2=copy(dict1)"
   ]
  },
  {
   "cell_type": "code",
   "execution_count": 33,
   "id": "c6318319",
   "metadata": {},
   "outputs": [
    {
     "ename": "NameError",
     "evalue": "name 'copied' is not defined",
     "output_type": "error",
     "traceback": [
      "\u001b[1;31m---------------------------------------------------------------------------\u001b[0m",
      "\u001b[1;31mNameError\u001b[0m                                 Traceback (most recent call last)",
      "Cell \u001b[1;32mIn[33], line 2\u001b[0m\n\u001b[0;32m      1\u001b[0m dict1\u001b[38;5;241m=\u001b[39m{\u001b[38;5;241m1\u001b[39m:\u001b[38;5;241m2\u001b[39m,\u001b[38;5;241m3\u001b[39m:\u001b[38;5;241m4\u001b[39m,\u001b[38;5;241m5\u001b[39m:\u001b[38;5;241m6\u001b[39m}\n\u001b[1;32m----> 2\u001b[0m dict2\u001b[38;5;241m=\u001b[39m\u001b[43mcopied\u001b[49m(dict1)\n",
      "\u001b[1;31mNameError\u001b[0m: name 'copied' is not defined"
     ]
    }
   ],
   "source": [
    "dict1={1:2,3:4,5:6}\n",
    "dict2=copied(dict1)"
   ]
  },
  {
   "cell_type": "code",
   "execution_count": 1,
   "id": "87a2851e",
   "metadata": {},
   "outputs": [
    {
     "name": "stdout",
     "output_type": "stream",
     "text": [
      "<method 'copy' of 'dict' objects>\n"
     ]
    }
   ],
   "source": [
    "dict1={1:2,3:4,5:6}\n",
    "dict2=(dict).copy \n",
    "print(dict2)"
   ]
  },
  {
   "cell_type": "code",
   "execution_count": 2,
   "id": "1521526c",
   "metadata": {},
   "outputs": [
    {
     "ename": "TypeError",
     "evalue": "unbound method dict.copy() needs an argument",
     "output_type": "error",
     "traceback": [
      "\u001b[1;31m---------------------------------------------------------------------------\u001b[0m",
      "\u001b[1;31mTypeError\u001b[0m                                 Traceback (most recent call last)",
      "Cell \u001b[1;32mIn[2], line 2\u001b[0m\n\u001b[0;32m      1\u001b[0m dict1\u001b[38;5;241m=\u001b[39m{\u001b[38;5;241m1\u001b[39m:\u001b[38;5;241m2\u001b[39m,\u001b[38;5;241m3\u001b[39m:\u001b[38;5;241m4\u001b[39m,\u001b[38;5;241m5\u001b[39m:\u001b[38;5;241m6\u001b[39m}\n\u001b[1;32m----> 2\u001b[0m dict2\u001b[38;5;241m=\u001b[39m\u001b[43m(\u001b[49m\u001b[38;5;28;43mdict\u001b[39;49m\u001b[43m)\u001b[49m\u001b[38;5;241;43m.\u001b[39;49m\u001b[43mcopy\u001b[49m\u001b[43m(\u001b[49m\u001b[43m)\u001b[49m\n\u001b[0;32m      3\u001b[0m \u001b[38;5;28mprint\u001b[39m(dict2)\n",
      "\u001b[1;31mTypeError\u001b[0m: unbound method dict.copy() needs an argument"
     ]
    }
   ],
   "source": [
    "dict1={1:2,3:4,5:6}\n",
    "dict2=(dict).copy()\n",
    "print(dict2)"
   ]
  },
  {
   "cell_type": "code",
   "execution_count": 4,
   "id": "77d97e55",
   "metadata": {},
   "outputs": [
    {
     "name": "stdout",
     "output_type": "stream",
     "text": [
      "{1: 2, 3: 4, 5: 6}\n"
     ]
    }
   ],
   "source": [
    "dict1={1:2,3:4,5:6}\n",
    "dict2=dict1.copy()\n",
    "print(dict2)"
   ]
  },
  {
   "cell_type": "code",
   "execution_count": 5,
   "id": "2935b7d3",
   "metadata": {},
   "outputs": [
    {
     "name": "stdout",
     "output_type": "stream",
     "text": [
      "{1: 2, 3: 4, 5: 6}\n"
     ]
    }
   ],
   "source": [
    "dict1={1:2,3:4,5:6}\n",
    "dict2=dict1\n",
    "print(dict2)"
   ]
  },
  {
   "cell_type": "code",
   "execution_count": 23,
   "id": "8bcb02fc",
   "metadata": {},
   "outputs": [
    {
     "name": "stdout",
     "output_type": "stream",
     "text": [
      "{3: 4, 5: 6, 1: {2: {1: 2, 2: 3}, 3: {'a': 'b', 'c': 'd'}}}\n"
     ]
    }
   ],
   "source": [
    "dict0={3:4,5:6}\n",
    "dict1={1:{2:{1:2,2:3},3:{'a':'b','c':'d'}}} \n",
    "dict0.update(dict1)\n",
    "print(dict0)"
   ]
  },
  {
   "cell_type": "code",
   "execution_count": 27,
   "id": "3186fe4d",
   "metadata": {},
   "outputs": [
    {
     "name": "stdout",
     "output_type": "stream",
     "text": [
      "{3: 4, 5: 6, 1: {2: {1: 2, 2: 3}, 3: {'a': 'b', 'c': 'd'}}}\n"
     ]
    }
   ],
   "source": [
    "dict0={3:4,5:6}\n",
    "dict0.update({1:{2:{1:2,2:3},3:{'a':'b','c':'d'}}})\n",
    "print(dict0)"
   ]
  },
  {
   "cell_type": "code",
   "execution_count": 28,
   "id": "00e7c695",
   "metadata": {},
   "outputs": [
    {
     "name": "stdout",
     "output_type": "stream",
     "text": [
      "{3: 4, 5: 6, 1: {2: {1: 2, 2: 3}, 3: {'a': 'b', 'c': 'd'}}, 2: 4}\n"
     ]
    }
   ],
   "source": [
    "dict0={3:4,5:6}\n",
    "dict0.update({1:{2:{1:2,2:3},3:{'a':'b','c':'d'}},2:4})\n",
    "print(dict0)"
   ]
  },
  {
   "cell_type": "code",
   "execution_count": null,
   "id": "167fe494",
   "metadata": {},
   "outputs": [],
   "source": []
  },
  {
   "cell_type": "code",
   "execution_count": null,
   "id": "8c9bc6c9",
   "metadata": {},
   "outputs": [],
   "source": [
    "dict0={3:4,5:6}\n",
    "dict0.update({1:3,2:4})\n",
    "print(dict0)"
   ]
  },
  {
   "cell_type": "code",
   "execution_count": 21,
   "id": "0bfa4ee9",
   "metadata": {},
   "outputs": [
    {
     "data": {
      "text/plain": [
       "2"
      ]
     },
     "execution_count": 21,
     "metadata": {},
     "output_type": "execute_result"
    }
   ],
   "source": [
    "dict1={3:4,5:6,1:{2:{1:2,2:3},3:{'a':'b','c':'d'}}} \n",
    "dict1.get(1)\n",
    "dict1.get(1).get(2).get(1)"
   ]
  },
  {
   "cell_type": "code",
   "execution_count": 15,
   "id": "22f758d2",
   "metadata": {},
   "outputs": [
    {
     "data": {
      "text/plain": [
       "2"
      ]
     },
     "execution_count": 15,
     "metadata": {},
     "output_type": "execute_result"
    }
   ],
   "source": [
    "dict1={1:{2:{1:2,2:3},3:{'a':'b','c':'d'}},3:4,5:6} \n",
    "dict1.get(1)\n",
    "dict1.get(1).get(2).get(1)\n",
    "\n"
   ]
  },
  {
   "cell_type": "code",
   "execution_count": 17,
   "id": "9463842f",
   "metadata": {},
   "outputs": [
    {
     "name": "stdout",
     "output_type": "stream",
     "text": [
      "{1: 2, 3: 4, 5: 6}\n"
     ]
    }
   ],
   "source": [
    "dict1={1:2,3:4,5:6}\n",
    "x=sorted(dict1)\n",
    "print(dict1)"
   ]
  },
  {
   "cell_type": "code",
   "execution_count": 19,
   "id": "bc7c8918",
   "metadata": {},
   "outputs": [
    {
     "name": "stdout",
     "output_type": "stream",
     "text": [
      "None\n"
     ]
    }
   ],
   "source": [
    "dict1={1:2,3:4,5:6}\n",
    "print(dict1.setdefault(12))\n"
   ]
  },
  {
   "cell_type": "code",
   "execution_count": 20,
   "id": "796d9822",
   "metadata": {},
   "outputs": [
    {
     "name": "stdout",
     "output_type": "stream",
     "text": [
      "2\n"
     ]
    }
   ],
   "source": [
    "dict1={1:2,3:4,5:6}\n",
    "print(dict1.setdefault(1))\n"
   ]
  },
  {
   "cell_type": "code",
   "execution_count": 29,
   "id": "3be9e714",
   "metadata": {},
   "outputs": [
    {
     "name": "stdout",
     "output_type": "stream",
     "text": [
      "5\n",
      "1\n"
     ]
    }
   ],
   "source": [
    "dict1={1:2,3:4,5:6}\n",
    "print(max(dict1))\n",
    "print(min(dict2))"
   ]
  },
  {
   "cell_type": "code",
   "execution_count": null,
   "id": "e7850d38",
   "metadata": {},
   "outputs": [],
   "source": []
  }
 ],
 "metadata": {
  "kernelspec": {
   "display_name": "Python 3 (ipykernel)",
   "language": "python",
   "name": "python3"
  },
  "language_info": {
   "codemirror_mode": {
    "name": "ipython",
    "version": 3
   },
   "file_extension": ".py",
   "mimetype": "text/x-python",
   "name": "python",
   "nbconvert_exporter": "python",
   "pygments_lexer": "ipython3",
   "version": "3.10.9"
  }
 },
 "nbformat": 4,
 "nbformat_minor": 5
}
