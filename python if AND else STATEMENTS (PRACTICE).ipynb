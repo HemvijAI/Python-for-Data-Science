{
 "cells": [
  {
   "cell_type": "code",
   "execution_count": 1,
   "id": "76cdc099",
   "metadata": {},
   "outputs": [
    {
     "ename": "SyntaxError",
     "evalue": "invalid syntax (902371192.py, line 3)",
     "output_type": "error",
     "traceback": [
      "\u001b[1;36m  Cell \u001b[1;32mIn[1], line 3\u001b[1;36m\u001b[0m\n\u001b[1;33m    if (age=>18):\u001b[0m\n\u001b[1;37m           ^\u001b[0m\n\u001b[1;31mSyntaxError\u001b[0m\u001b[1;31m:\u001b[0m invalid syntax\n"
     ]
    }
   ],
   "source": [
    "age=int(input('enter your age'))\n",
    "print('your age is:',age)\n",
    "if (age=>18):\n",
    "    print('eligible for driving scooty')\n",
    "else:\n",
    "    print('can not drive scooty')"
   ]
  },
  {
   "cell_type": "code",
   "execution_count": 2,
   "id": "84be6372",
   "metadata": {},
   "outputs": [
    {
     "name": "stdout",
     "output_type": "stream",
     "text": [
      "enter your age:23\n",
      "your age is: 23\n",
      "eligible for driving scooty\n",
      "23\n"
     ]
    }
   ],
   "source": [
    "age=int(input('enter your age:'))\n",
    "print('your age is:',age)\n",
    "if (age>=18):\n",
    "    print('eligible for driving scooty')\n",
    "else:\n",
    "    print('can not drive scooty')\n",
    "print(age)"
   ]
  },
  {
   "cell_type": "code",
   "execution_count": 4,
   "id": "479e6f47",
   "metadata": {},
   "outputs": [
    {
     "name": "stdout",
     "output_type": "stream",
     "text": [
      "enter your age23\n",
      "your age is: 23\n",
      "eligible for driving scooty\n"
     ]
    }
   ],
   "source": [
    "# make a program to find whether a person is eligible to drive a scooty or not\n",
    "age=int(input('enter your age'))\n",
    "print('your age is:',age)\n",
    "if (age>=18):\n",
    "    print('eligible for driving scooty')\n",
    "else:\n",
    "    print('can not drive scooty')"
   ]
  },
  {
   "cell_type": "code",
   "execution_count": 10,
   "id": "89d33f58",
   "metadata": {},
   "outputs": [
    {
     "name": "stdout",
     "output_type": "stream",
     "text": [
      "enter your age91\n",
      "your age is: 91\n",
      "can not drive scooty\n"
     ]
    }
   ],
   "source": [
    "# make a program to find whether a person is eligible to drive a scooty or not and specify that \n",
    "# after the age of 90 as well person cannot drive scooty\n",
    "age=int(input('enter your age'))\n",
    "print('your age is:',age)\n",
    "if (18<=age<90):\n",
    "    print('eligible for driving scooty')\n",
    "else:\n",
    "    print('can not drive scooty')"
   ]
  },
  {
   "cell_type": "code",
   "execution_count": 11,
   "id": "cfc1857f",
   "metadata": {},
   "outputs": [
    {
     "name": "stdout",
     "output_type": "stream",
     "text": [
      "enter your age19\n",
      "your age is: 19\n",
      "can not drive scooty\n"
     ]
    }
   ],
   "source": [
    "age=int(input('enter your age'))\n",
    "print('your age is:',age)\n",
    "if (18<age>90):\n",
    "    print('eligible for driving scooty')\n",
    "else:\n",
    "    print('can not drive scooty')"
   ]
  },
  {
   "cell_type": "code",
   "execution_count": 1,
   "id": "67c8b2a1",
   "metadata": {},
   "outputs": [
    {
     "name": "stdout",
     "output_type": "stream",
     "text": [
      "enter your age91\n",
      "your age is: 91\n",
      "eligible for driving scooty\n"
     ]
    }
   ],
   "source": [
    "age=int(input('enter your age'))\n",
    "print('your age is:',age)\n",
    "if (18<age>90):\n",
    "    print('eligible for driving scooty')\n",
    "else:\n",
    "    print('can not drive scooty')"
   ]
  },
  {
   "cell_type": "code",
   "execution_count": 3,
   "id": "11ecc2e0",
   "metadata": {},
   "outputs": [
    {
     "ename": "SyntaxError",
     "evalue": "invalid syntax (485587720.py, line 1)",
     "output_type": "error",
     "traceback": [
      "\u001b[1;36m  Cell \u001b[1;32mIn[3], line 1\u001b[1;36m\u001b[0m\n\u001b[1;33m    affording price=10000\u001b[0m\n\u001b[1;37m              ^\u001b[0m\n\u001b[1;31mSyntaxError\u001b[0m\u001b[1;31m:\u001b[0m invalid syntax\n"
     ]
    }
   ],
   "source": [
    "affording price=10000\n",
    "price=int(input('price of product is>:')) #space in between \n",
    "if affording price-price>0:\n",
    "    print('can buy the product')\n",
    "else:\n",
    "    print('cannot buy the product')"
   ]
  },
  {
   "cell_type": "code",
   "execution_count": 3,
   "id": "3bc1efb3",
   "metadata": {},
   "outputs": [
    {
     "name": "stdout",
     "output_type": "stream",
     "text": [
      "price of product is:500\n",
      "can buy the product \n"
     ]
    }
   ],
   "source": [
    "# you are in a grocery shop and you have some budget.are you eligible to buy items or not according to your budget+check whether you can buy a product or not when you have a budget\n",
    "price=int(input('price of product is:'))\n",
    "affording_price=10000\n",
    "if affording_price-your budget>0:\n",
    "    print('can buy the product ')\n",
    "elif affording_price-price><30000:\n",
    "    print('can buy the product, very less amount will be reamaining')\n",
    "else:\n",
    "    print('cannot buy the product')"
   ]
  },
  {
   "cell_type": "code",
   "execution_count": 18,
   "id": "8dfada24",
   "metadata": {},
   "outputs": [
    {
     "name": "stdout",
     "output_type": "stream",
     "text": [
      "[2, 2, 1, 1, 1, 1, 2, 1, 1, 2, 1, 1, 1, 1, 1, 1]\n"
     ]
    }
   ],
   "source": [
    "x=['aayush','abhay','arjun']\n",
    "y=[]\n",
    "for i in x:\n",
    "    for z in i:\n",
    "        z=='a'\n",
    "        c=i.count(z)\n",
    "        y.append(c)\n",
    "print(y)    "
   ]
  },
  {
   "cell_type": "code",
   "execution_count": 2,
   "id": "de415312",
   "metadata": {},
   "outputs": [
    {
     "name": "stdout",
     "output_type": "stream",
     "text": [
      "120\n"
     ]
    }
   ],
   "source": [
    "x=['aayush','abhay','arjun','aayush','abhay','arjun','aayush','abhay','arjun','aayush','abhay','arjun','aayush','abhay','arjun','aayush','abhay','arjun','aayush','abhay','arjun','aayush','abhay','arjun','aayush','abhay','arjun','aayush','abhay','arjun','aayush','abhay','arjun','aayush','abhay','arjun','aayush','abhay','arjun','aayush','abhay','arjun','aayush','abhay','arjun','aayush','abhay','arjun','aayush','abhay','arjun','aayush','abhay','arjun','aayush','abhay','arjun','aayush','abhay','arjun','aayush','abhay','arjun','aayush','abhay','arjun','aayush','abhay','arjun','aayush','abhay','arjun']\n",
    "y=[]\n",
    "for i in x:\n",
    "    c=i.count('a')\n",
    "    y.append(c)\n",
    "print(sum(y))"
   ]
  },
  {
   "cell_type": "code",
   "execution_count": 13,
   "id": "94ad0cb0",
   "metadata": {},
   "outputs": [
    {
     "name": "stdout",
     "output_type": "stream",
     "text": [
      "[1, 1, 1]\n"
     ]
    }
   ],
   "source": [
    "x=['aayush','abhay','arjun']\n",
    "y=[]\n",
    "for i in x:\n",
    "    for z in i:\n",
    "        z=='a'\n",
    "        c=i.count(z)\n",
    "    y.append(c)\n",
    "print(y)    "
   ]
  },
  {
   "cell_type": "code",
   "execution_count": null,
   "id": "090ad5de",
   "metadata": {},
   "outputs": [],
   "source": [
    "number1=float(input('number 1 is :'))\n",
    "number2=float(input('number 2 is :'))\n",
    "print('choose an operator',':','+','-','*','/' )\n",
    "operator=input('selelct an operator')\n",
    "if operator=1\n",
    "   print()"
   ]
  },
  {
   "cell_type": "code",
   "execution_count": 1,
   "id": "e80dcf8a",
   "metadata": {},
   "outputs": [
    {
     "data": {
      "text/plain": [
       "1.4300000000000002"
      ]
     },
     "execution_count": 1,
     "metadata": {},
     "output_type": "execute_result"
    }
   ],
   "source": [
    "1.1*1.3"
   ]
  },
  {
   "cell_type": "code",
   "execution_count": 4,
   "id": "ce68e437",
   "metadata": {},
   "outputs": [
    {
     "name": "stdout",
     "output_type": "stream",
     "text": [
      "20\n"
     ]
    },
    {
     "ename": "ValueError",
     "evalue": "invalid literal for int() with base 10: ''",
     "output_type": "error",
     "traceback": [
      "\u001b[1;31m---------------------------------------------------------------------------\u001b[0m",
      "\u001b[1;31mValueError\u001b[0m                                Traceback (most recent call last)",
      "Cell \u001b[1;32mIn[4], line 3\u001b[0m\n\u001b[0;32m      1\u001b[0m x\u001b[38;5;241m=\u001b[39m\u001b[38;5;241m4\u001b[39m\n\u001b[0;32m      2\u001b[0m y\u001b[38;5;241m=\u001b[39m\u001b[38;5;241m5\u001b[39m\n\u001b[1;32m----> 3\u001b[0m age\u001b[38;5;241m=\u001b[39m\u001b[38;5;28;43mint\u001b[39;49m\u001b[43m(\u001b[49m\u001b[38;5;28;43minput\u001b[39;49m\u001b[43m(\u001b[49m\u001b[43mx\u001b[49m\u001b[38;5;241;43m*\u001b[39;49m\u001b[43my\u001b[49m\u001b[43m)\u001b[49m\u001b[43m)\u001b[49m\n\u001b[0;32m      4\u001b[0m \u001b[38;5;28mprint\u001b[39m(\u001b[38;5;124m'\u001b[39m\u001b[38;5;124myour age is:\u001b[39m\u001b[38;5;124m'\u001b[39m,age)\n\u001b[0;32m      5\u001b[0m \u001b[38;5;28;01mif\u001b[39;00m (age\u001b[38;5;241m>\u001b[39m\u001b[38;5;241m=\u001b[39m\u001b[38;5;241m18\u001b[39m):\n",
      "\u001b[1;31mValueError\u001b[0m: invalid literal for int() with base 10: ''"
     ]
    }
   ],
   "source": [
    "x=4\n",
    "y=5\n",
    "age=int(input(x*y))\n",
    "print('your age is:',age)\n",
    "if (age>=18):\n",
    "    print('eligible for driving scooty')\n",
    "else:\n",
    "    print('can not drive scooty')\n",
    "print(age)"
   ]
  },
  {
   "cell_type": "code",
   "execution_count": 1,
   "id": "d89f1058",
   "metadata": {},
   "outputs": [
    {
     "name": "stdout",
     "output_type": "stream",
     "text": [
      "enter the first number :1222\n",
      "enter the second number :1222\n",
      "choose any of the given operators   :   (+)      (-)      (*)      (/)   \n",
      "operation you will choose and the answer will be listed below : \n",
      "*\n",
      "1493284.0\n"
     ]
    }
   ],
   "source": [
    "x=float(input('enter the first number :'))\n",
    "y=float(input('enter the second number :'))\n",
    "print('choose any of the given operators   :   (+)      (-)      (*)      (/)   ')\n",
    "print('operation you will choose and the answer will be listed below : ')\n",
    "calculate=input()\n",
    "if calculate=='+':\n",
    "    print(x+y)\n",
    "elif calculate=='-':\n",
    "     print(x-y)\n",
    "elif calculate=='*':\n",
    "     print(x*y)\n",
    "elif calculate=='/':\n",
    "    print(x/y)\n",
    "else:\n",
    "    print('give a suitable input')\n",
    " "
   ]
  },
  {
   "cell_type": "code",
   "execution_count": 17,
   "id": "b8d560c8",
   "metadata": {},
   "outputs": [
    {
     "name": "stdout",
     "output_type": "stream",
     "text": [
      "enter the first number :10\n",
      "enter the second number :10413\n",
      "choose any of the given operators :   (+)      (-)      (*)      (/)    \n",
      "The operator which you will choose and the answer will be listed below : \n",
      "    \n",
      "    \n",
      "operator=  *\n",
      "       \n",
      "104130.0\n"
     ]
    }
   ],
   "source": [
    "x=float(input('enter the first number :'))\n",
    "y=float(input('enter the second number :'))\n",
    "print('choose any of the given operators :   (+)      (-)      (*)      (/)    ')\n",
    "print('The operator which you will choose and the answer will be listed below : ')\n",
    "print('    ')\n",
    "print('    ')\n",
    "calculate=input('operator=  ')\n",
    "print('       ')\n",
    "if calculate=='+':\n",
    "    print(x+y)\n",
    "elif calculate=='-':\n",
    "     print(x-y)\n",
    "        \n",
    "elif calculate=='*':\n",
    "     print(x*y)\n",
    "elif calculate=='/':\n",
    "    print(x/y)\n",
    "else:\n",
    "    print('give a suitable input')"
   ]
  },
  {
   "cell_type": "code",
   "execution_count": 8,
   "id": "0947f9fe",
   "metadata": {},
   "outputs": [],
   "source": [
    "x=[2,5,3,2,5,2,7] \n",
    "for i in x:\n",
    "    if i==(2) and x.index(i)!=x.index(i):\n",
    "        print (x.index(i))"
   ]
  },
  {
   "cell_type": "code",
   "execution_count": 16,
   "id": "27e2a07e",
   "metadata": {},
   "outputs": [
    {
     "name": "stdout",
     "output_type": "stream",
     "text": [
      "0 3 5 "
     ]
    }
   ],
   "source": [
    "x=[2,5,3,2,5,2,7] \n",
    "for i in x:\n",
    "     if i==2:\n",
    "            print(x.index(i),end=' ')\n",
    "            x[x.index(i)]=22\n",
    "            \n",
    "            \n",
    "            "
   ]
  },
  {
   "cell_type": "code",
   "execution_count": 6,
   "id": "f0682fc3",
   "metadata": {},
   "outputs": [
    {
     "name": "stdout",
     "output_type": "stream",
     "text": [
      "1\n",
      "2\n",
      "3\n",
      "a\n",
      "s\n",
      "s\n",
      "s\n",
      "a\n"
     ]
    }
   ],
   "source": [
    "x=[[1],[2],[3],'asssa']\n",
    "for a in x:\n",
    "    for i in a:\n",
    "        print(i)"
   ]
  },
  {
   "cell_type": "code",
   "execution_count": 20,
   "id": "7578e076",
   "metadata": {},
   "outputs": [
    {
     "name": "stdout",
     "output_type": "stream",
     "text": [
      "enter the first number :12\n",
      "enter the second number :12\n",
      "choose any of the given operators :   (+)      (-)      (*)      (/)    \n",
      "The operator which you will choose and the answer will be listed below : \n",
      "    \n",
      "    \n",
      "operator=  0\n",
      "       \n",
      "give a suitable input\n"
     ]
    }
   ],
   "source": [
    "x=float(input('enter the first number :'))\n",
    "y=float(input('enter the second number :'))\n",
    "print('choose any of the given operators :   (+)      (-)      (*)      (/)    ')\n",
    "print('The operator which you will choose and the answer will be listed below : ')\n",
    "print('    ')\n",
    "print('    ')\n",
    "calculate=input('operator=  ')\n",
    "print('       ')\n",
    "if calculate=='+':\n",
    "    print(x+y)\n",
    "if calculate=='-':\n",
    "     print(x-y)\n",
    "        \n",
    "if calculate=='*':\n",
    "     print(x*y)\n",
    "if calculate=='/':\n",
    "    print(x/y)\n",
    "else:\n",
    "    print('give a suitable input')"
   ]
  },
  {
   "cell_type": "code",
   "execution_count": 19,
   "id": "6d0ba1b7",
   "metadata": {},
   "outputs": [
    {
     "name": "stdout",
     "output_type": "stream",
     "text": [
      "enter the first number :12\n",
      "enter the second number :12\n",
      "choose any of the given operators :   (+)      (-)      (*)      (/)    \n",
      "The operator which you will choose and the answer will be listed below : \n",
      "    \n",
      "    \n",
      "operator=  p\n",
      "       \n",
      "give a suitable input\n"
     ]
    }
   ],
   "source": [
    "x=float(input('enter the first number :'))\n",
    "y=float(input('enter the second number :'))\n",
    "print('choose any of the given operators :   (+)      (-)      (*)      (/)    ')\n",
    "print('The operator which you will choose and the answer will be listed below : ')\n",
    "print('    ')\n",
    "print('    ')\n",
    "calculate=input('operator=  ')\n",
    "print('       ')\n",
    "if calculate=='+':\n",
    "    print(x+y)\n",
    "if calculate=='-':\n",
    "     print(x-y)\n",
    "        \n",
    "if calculate=='*':\n",
    "     print(x*y)\n",
    "if calculate=='/':\n",
    "    print(x/y)\n",
    "else:\n",
    "    print('give a suitable input')"
   ]
  },
  {
   "cell_type": "code",
   "execution_count": 24,
   "id": "d9a448c4",
   "metadata": {},
   "outputs": [
    {
     "name": "stdout",
     "output_type": "stream",
     "text": [
      "assaadd\n",
      "adadasd\n",
      "\n"
     ]
    }
   ],
   "source": [
    "print('assaadd\\nadadasd\\n'j)"
   ]
  },
  {
   "cell_type": "code",
   "execution_count": null,
   "id": "7cd9e6af",
   "metadata": {},
   "outputs": [],
   "source": []
  }
 ],
 "metadata": {
  "kernelspec": {
   "display_name": "Python 3 (ipykernel)",
   "language": "python",
   "name": "python3"
  },
  "language_info": {
   "codemirror_mode": {
    "name": "ipython",
    "version": 3
   },
   "file_extension": ".py",
   "mimetype": "text/x-python",
   "name": "python",
   "nbconvert_exporter": "python",
   "pygments_lexer": "ipython3",
   "version": "3.10.9"
  }
 },
 "nbformat": 4,
 "nbformat_minor": 5
}
