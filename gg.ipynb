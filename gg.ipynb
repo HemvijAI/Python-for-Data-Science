{
 "cells": [
  {
   "cell_type": "code",
   "execution_count": 2,
   "id": "d23e07a9",
   "metadata": {},
   "outputs": [
    {
     "ename": "SyntaxError",
     "evalue": "invalid syntax (2252269996.py, line 63)",
     "output_type": "error",
     "traceback": [
      "\u001b[1;36m  Cell \u001b[1;32mIn[2], line 63\u001b[1;36m\u001b[0m\n\u001b[1;33m    input y=(\"39\")\u001b[0m\n\u001b[1;37m          ^\u001b[0m\n\u001b[1;31mSyntaxError\u001b[0m\u001b[1;31m:\u001b[0m invalid syntax\n"
     ]
    }
   ],
   "source": [
    "example=\"python is easy\"\n",
    "example[6:7]\n",
    "\n",
    "\n",
    "\n",
    "\n",
    "\n",
    "\n",
    "\n",
    "\n",
    "\n",
    "\n",
    "\n",
    "\n",
    "\n",
    "\n",
    "\n",
    "\n",
    "\n",
    "\n",
    "\n",
    "\n",
    "\n",
    "\n",
    "\n",
    "\n",
    "\n",
    "\n",
    "\n",
    "\n",
    "\n",
    "\n",
    "\n",
    "\n",
    "\n",
    "\n",
    "\n",
    "\n",
    "\n",
    "\n",
    "\n",
    "\n",
    "\n",
    "\n",
    "\n",
    "\n",
    "\n",
    "\n",
    "\n",
    "\n",
    "\n",
    "\n",
    "\n",
    "\n",
    "\n",
    "\n",
    "\n",
    "\n",
    "input =x(\"40\")\n",
    "input =y(\"39\")\n",
    "print (x+y)\n",
    "print(x+y)\n",
    "input y=(\"39\")\n",
    "print(x+y)\n"
   ]
  },
  {
   "cell_type": "markdown",
   "id": "375c20dd",
   "metadata": {},
   "source": []
  },
  {
   "cell_type": "code",
   "execution_count": 13,
   "id": "6f9bd5ab",
   "metadata": {},
   "outputs": [
    {
     "name": "stdout",
     "output_type": "stream",
     "text": [
      "even number44\n",
      "odd number39\n",
      "4439\n"
     ]
    }
   ],
   "source": [
    "b=input(\"even number\")\n",
    "c=input(\"odd number\") \n",
    "r=b+c\n",
    "print(r)"
   ]
  },
  {
   "cell_type": "markdown",
   "id": "58949343",
   "metadata": {},
   "source": []
  },
  {
   "cell_type": "code",
   "execution_count": 15,
   "id": "4ce54ab5",
   "metadata": {},
   "outputs": [
    {
     "name": "stdout",
     "output_type": "stream",
     "text": [
      "enter employ namesuresh\n",
      "enter salery50000\n",
      "company nametata\n"
     ]
    }
   ],
   "source": [
    "name=input(\"enter employ name\")\n",
    "salery=input(\"enter salery\")\n",
    "company=input(\"company name\")\n",
    "#display all values on screen"
   ]
  },
  {
   "cell_type": "code",
   "execution_count": 1,
   "id": "6d073b43",
   "metadata": {},
   "outputs": [
    {
     "ename": "NameError",
     "evalue": "name 'FLOAT' is not defined",
     "output_type": "error",
     "traceback": [
      "\u001b[1;31m---------------------------------------------------------------------------\u001b[0m",
      "\u001b[1;31mNameError\u001b[0m                                 Traceback (most recent call last)",
      "Cell \u001b[1;32mIn[1], line 1\u001b[0m\n\u001b[1;32m----> 1\u001b[0m name\u001b[38;5;241m=\u001b[39m\u001b[43mFLOAT\u001b[49m(\u001b[38;5;241m89.7\u001b[39m)\n",
      "\u001b[1;31mNameError\u001b[0m: name 'FLOAT' is not defined"
     ]
    }
   ],
   "source": [
    "name=FLOAT(89.7)"
   ]
  },
  {
   "cell_type": "code",
   "execution_count": 2,
   "id": "af35329d-ad22-4193-bbf5-ea455cdd8b3a",
   "metadata": {},
   "outputs": [
    {
     "ename": "NameError",
     "evalue": "name 'BOOL' is not defined",
     "output_type": "error",
     "traceback": [
      "\u001b[1;31m---------------------------------------------------------------------------\u001b[0m",
      "\u001b[1;31mNameError\u001b[0m                                 Traceback (most recent call last)",
      "Cell \u001b[1;32mIn[2], line 1\u001b[0m\n\u001b[1;32m----> 1\u001b[0m \u001b[43mBOOL\u001b[49m(\u001b[38;5;124m\"\u001b[39m\u001b[38;5;124mDERT\u001b[39m\u001b[38;5;124m\"\u001b[39m)\n",
      "\u001b[1;31mNameError\u001b[0m: name 'BOOL' is not defined"
     ]
    }
   ],
   "source": [
    "BOOL(\"DERT\")"
   ]
  },
  {
   "cell_type": "code",
   "execution_count": 3,
   "id": "1fc090a8-1ed5-42e8-a1c7-6dc46c58cfff",
   "metadata": {},
   "outputs": [
    {
     "ename": "NameError",
     "evalue": "name 'INT' is not defined",
     "output_type": "error",
     "traceback": [
      "\u001b[1;31m---------------------------------------------------------------------------\u001b[0m",
      "\u001b[1;31mNameError\u001b[0m                                 Traceback (most recent call last)",
      "Cell \u001b[1;32mIn[3], line 1\u001b[0m\n\u001b[1;32m----> 1\u001b[0m \u001b[43mINT\u001b[49m(BOOL)(\u001b[38;5;124m\"\u001b[39m\u001b[38;5;124m2345\u001b[39m\u001b[38;5;124m\"\u001b[39m)\n",
      "\u001b[1;31mNameError\u001b[0m: name 'INT' is not defined"
     ]
    }
   ],
   "source": [
    "INT(BOOL)(\"2345\")"
   ]
  },
  {
   "cell_type": "code",
   "execution_count": 4,
   "id": "ee902ce9-36ab-4164-87e4-9cc2d0d717e5",
   "metadata": {},
   "outputs": [
    {
     "ename": "NameError",
     "evalue": "name 'intbool' is not defined",
     "output_type": "error",
     "traceback": [
      "\u001b[1;31m---------------------------------------------------------------------------\u001b[0m",
      "\u001b[1;31mNameError\u001b[0m                                 Traceback (most recent call last)",
      "Cell \u001b[1;32mIn[4], line 1\u001b[0m\n\u001b[1;32m----> 1\u001b[0m \u001b[43mintbool\u001b[49m(\u001b[38;5;241m2345\u001b[39m)\n",
      "\u001b[1;31mNameError\u001b[0m: name 'intbool' is not defined"
     ]
    }
   ],
   "source": [
    "intbool(2345)"
   ]
  },
  {
   "cell_type": "code",
   "execution_count": 10,
   "id": "8bdd7791-4f48-49c9-9870-2fbe4c475687",
   "metadata": {},
   "outputs": [
    {
     "data": {
      "text/plain": [
       "1"
      ]
     },
     "execution_count": 10,
     "metadata": {},
     "output_type": "execute_result"
    }
   ],
   "source": [
    "int (bool(\"2345\"))"
   ]
  },
  {
   "cell_type": "code",
   "execution_count": 6,
   "id": "8aae88fb-246f-4a7c-b9eb-f41d0a74c66d",
   "metadata": {},
   "outputs": [
    {
     "data": {
      "text/plain": [
       "float"
      ]
     },
     "execution_count": 6,
     "metadata": {},
     "output_type": "execute_result"
    }
   ],
   "source": [
    "type(float(56))"
   ]
  },
  {
   "cell_type": "code",
   "execution_count": 8,
   "id": "fa590a97-db40-4861-843d-4fb4049b7ac8",
   "metadata": {},
   "outputs": [
    {
     "data": {
      "text/plain": [
       "int"
      ]
     },
     "execution_count": 8,
     "metadata": {},
     "output_type": "execute_result"
    }
   ],
   "source": [
    "type(int(98.7))"
   ]
  },
  {
   "cell_type": "code",
   "execution_count": null,
   "id": "0b32e4d8-082f-4251-91d9-3bcd67d159d6",
   "metadata": {},
   "outputs": [],
   "source": []
  },
  {
   "cell_type": "code",
   "execution_count": 9,
   "id": "87aced6a-5ae7-47fd-a19a-1137a003052f",
   "metadata": {},
   "outputs": [
    {
     "data": {
      "text/plain": [
       "int"
      ]
     },
     "execution_count": 9,
     "metadata": {},
     "output_type": "execute_result"
    }
   ],
   "source": [
    "type(98)"
   ]
  },
  {
   "cell_type": "code",
   "execution_count": 11,
   "id": "0be18b62-d1a7-403d-ba07-8a91d2f8ded4",
   "metadata": {},
   "outputs": [
    {
     "data": {
      "text/plain": [
       "True"
      ]
     },
     "execution_count": 11,
     "metadata": {},
     "output_type": "execute_result"
    }
   ],
   "source": [
    "bool(\"priyanshu\")"
   ]
  },
  {
   "cell_type": "code",
   "execution_count": 12,
   "id": "9d455530-e5e6-49ce-94a1-860b044471f2",
   "metadata": {},
   "outputs": [
    {
     "ename": "NameError",
     "evalue": "name 'in_456' is not defined",
     "output_type": "error",
     "traceback": [
      "\u001b[1;31m---------------------------------------------------------------------------\u001b[0m",
      "\u001b[1;31mNameError\u001b[0m                                 Traceback (most recent call last)",
      "Cell \u001b[1;32mIn[12], line 1\u001b[0m\n\u001b[1;32m----> 1\u001b[0m \u001b[43min_456\u001b[49m\n",
      "\u001b[1;31mNameError\u001b[0m: name 'in_456' is not defined"
     ]
    }
   ],
   "source": [
    "in_456"
   ]
  },
  {
   "cell_type": "code",
   "execution_count": 17,
   "id": "a6c5391b-588b-48f3-9ae2-5727805ca876",
   "metadata": {},
   "outputs": [
    {
     "name": "stdout",
     "output_type": "stream",
     "text": [
      "2168628578960\n"
     ]
    }
   ],
   "source": [
    "_456=(78)\n",
    "print(id(_456))"
   ]
  },
  {
   "cell_type": "code",
   "execution_count": 19,
   "id": "771e12b3-7a96-466e-b5c8-27c24b5d6598",
   "metadata": {},
   "outputs": [
    {
     "ename": "SyntaxError",
     "evalue": "invalid syntax (152947456.py, line 9)",
     "output_type": "error",
     "traceback": [
      "\u001b[1;36m  Cell \u001b[1;32mIn[19], line 9\u001b[1;36m\u001b[0m\n\u001b[1;33m    -\u001b[0m\n\u001b[1;37m     ^\u001b[0m\n\u001b[1;31mSyntaxError\u001b[0m\u001b[1;31m:\u001b[0m invalid syntax\n"
     ]
    }
   ],
   "source": [
    "_4567=67 \n",
    "print(_456)\n",
    "\n",
    "\n",
    "\n",
    "\n",
    "\n",
    "\n",
    "-\n"
   ]
  },
  {
   "cell_type": "code",
   "execution_count": 20,
   "id": "ed07b77c-80e2-4508-b832-5fe151c47125",
   "metadata": {},
   "outputs": [
    {
     "ename": "SyntaxError",
     "evalue": "cannot assign to literal here. Maybe you meant '==' instead of '='? (742667941.py, line 1)",
     "output_type": "error",
     "traceback": [
      "\u001b[1;36m  Cell \u001b[1;32mIn[20], line 1\u001b[1;36m\u001b[0m\n\u001b[1;33m    54=45\u001b[0m\n\u001b[1;37m    ^\u001b[0m\n\u001b[1;31mSyntaxError\u001b[0m\u001b[1;31m:\u001b[0m cannot assign to literal here. Maybe you meant '==' instead of '='?\n"
     ]
    }
   ],
   "source": [
    "54=45"
   ]
  },
  {
   "cell_type": "code",
   "execution_count": 21,
   "id": "f425b43d-c947-426b-8a10-063630257225",
   "metadata": {},
   "outputs": [
    {
     "data": {
      "text/plain": [
       "123"
      ]
     },
     "execution_count": 21,
     "metadata": {},
     "output_type": "execute_result"
    }
   ],
   "source": [
    "56+67"
   ]
  },
  {
   "cell_type": "code",
   "execution_count": 22,
   "id": "5f44ed42-7d34-4694-bd66-3d2a382f9ea8",
   "metadata": {},
   "outputs": [
    {
     "data": {
      "text/plain": [
       "-32"
      ]
     },
     "execution_count": 22,
     "metadata": {},
     "output_type": "execute_result"
    }
   ],
   "source": [
    "46-78"
   ]
  },
  {
   "cell_type": "code",
   "execution_count": 23,
   "id": "f18e001e-a3ef-4e26-ae48-78eb3507b38d",
   "metadata": {},
   "outputs": [
    {
     "data": {
      "text/plain": [
       "9.0"
      ]
     },
     "execution_count": 23,
     "metadata": {},
     "output_type": "execute_result"
    }
   ],
   "source": [
    "45/5"
   ]
  },
  {
   "cell_type": "code",
   "execution_count": 24,
   "id": "c569450e-fa1c-432f-ac7d-c461e5f8138a",
   "metadata": {},
   "outputs": [
    {
     "data": {
      "text/plain": [
       "0"
      ]
     },
     "execution_count": 24,
     "metadata": {},
     "output_type": "execute_result"
    }
   ],
   "source": [
    "52//54"
   ]
  },
  {
   "cell_type": "code",
   "execution_count": 25,
   "id": "011c7300-d9a8-48a1-9f20-a7d2dc6beec3",
   "metadata": {},
   "outputs": [
    {
     "data": {
      "text/plain": [
       "1"
      ]
     },
     "execution_count": 25,
     "metadata": {},
     "output_type": "execute_result"
    }
   ],
   "source": [
    "54//32"
   ]
  },
  {
   "cell_type": "code",
   "execution_count": 26,
   "id": "1f623c7d-6f3f-4317-892c-b3dfbc5b2cd7",
   "metadata": {},
   "outputs": [
    {
     "name": "stdout",
     "output_type": "stream",
     "text": [
      "ho\n"
     ]
    }
   ],
   "source": [
    "print(\"how\\b\")"
   ]
  },
  {
   "cell_type": "code",
   "execution_count": 27,
   "id": "ecadfd8b-d5a4-4ffa-b7dc-222e2e74333e",
   "metadata": {},
   "outputs": [
    {
     "name": "stdout",
     "output_type": "stream",
     "text": [
      "hellomy name is\\priyanshu\n"
     ]
    }
   ],
   "source": [
    "print(\"hellomy name is\\\\priyanshu\")"
   ]
  },
  {
   "cell_type": "code",
   "execution_count": 29,
   "id": "3bd20053-5337-488f-b353-e0ab3fd6b65b",
   "metadata": {},
   "outputs": [
    {
     "name": "stdout",
     "output_type": "stream",
     "text": [
      "hello sir\n",
      " my name is raju\n"
     ]
    }
   ],
   "source": [
    "print(\"hello sir\\n my name is raju\")"
   ]
  },
  {
   "cell_type": "code",
   "execution_count": 1,
   "id": "456c1560-6452-41fe-a283-2a4d43914acb",
   "metadata": {},
   "outputs": [
    {
     "ename": "SyntaxError",
     "evalue": "invalid syntax. Perhaps you forgot a comma? (2832413197.py, line 1)",
     "output_type": "error",
     "traceback": [
      "\u001b[1;36m  Cell \u001b[1;32mIn[1], line 1\u001b[1;36m\u001b[0m\n\u001b[1;33m    print(\"\\n\"salary=int(input(\"enter salary:\")))\u001b[0m\n\u001b[1;37m          ^\u001b[0m\n\u001b[1;31mSyntaxError\u001b[0m\u001b[1;31m:\u001b[0m invalid syntax. Perhaps you forgot a comma?\n"
     ]
    }
   ],
   "source": [
    "print(\"\\n\"salary=int(input(\"enter salary:\")))"
   ]
  },
  {
   "cell_type": "code",
   "execution_count": 2,
   "id": "a8779f42-ca3b-4958-9229-eb180f711cfd",
   "metadata": {},
   "outputs": [
    {
     "ename": "SyntaxError",
     "evalue": "incomplete input (664789409.py, line 1)",
     "output_type": "error",
     "traceback": [
      "\u001b[1;36m  Cell \u001b[1;32mIn[2], line 1\u001b[1;36m\u001b[0m\n\u001b[1;33m    print(x=100\u001b[0m\n\u001b[1;37m               ^\u001b[0m\n\u001b[1;31mSyntaxError\u001b[0m\u001b[1;31m:\u001b[0m incomplete input\n"
     ]
    }
   ],
   "source": [
    "print(x=100"
   ]
  },
  {
   "cell_type": "code",
   "execution_count": 3,
   "id": "480aa279-6621-4e6d-ae55-fbf5f4621ac0",
   "metadata": {},
   "outputs": [
    {
     "name": "stdout",
     "output_type": "stream",
     "text": [
      "10\n"
     ]
    }
   ],
   "source": [
    "x=10\n",
    "print(x)"
   ]
  },
  {
   "cell_type": "code",
   "execution_count": 4,
   "id": "d35b9caf-ac55-49e9-8572-8b3e8ebdaec5",
   "metadata": {},
   "outputs": [
    {
     "name": "stdout",
     "output_type": "stream",
     "text": [
      "10\n"
     ]
    }
   ],
   "source": [
    "x=10\n",
    "print(x)"
   ]
  },
  {
   "cell_type": "code",
   "execution_count": 5,
   "id": "a32fc560-83e3-4682-9ab2-38cd987d837d",
   "metadata": {},
   "outputs": [
    {
     "ename": "SyntaxError",
     "evalue": "unterminated string literal (detected at line 1) (790907531.py, line 1)",
     "output_type": "error",
     "traceback": [
      "\u001b[1;36m  Cell \u001b[1;32mIn[5], line 1\u001b[1;36m\u001b[0m\n\u001b[1;33m    print('\\n',salary)=int(input(enter salary:')))\u001b[0m\n\u001b[1;37m                                              ^\u001b[0m\n\u001b[1;31mSyntaxError\u001b[0m\u001b[1;31m:\u001b[0m unterminated string literal (detected at line 1)\n"
     ]
    }
   ],
   "source": [
    "print('\\n',salary)=int(input(enter salary:')))\n",
    "                             "
   ]
  },
  {
   "cell_type": "code",
   "execution_count": 6,
   "id": "fa530996-ac11-4193-bf95-b928782ac05e",
   "metadata": {},
   "outputs": [
    {
     "ename": "SyntaxError",
     "evalue": "invalid syntax (866860623.py, line 1)",
     "output_type": "error",
     "traceback": [
      "\u001b[1;36m  Cell \u001b[1;32mIn[6], line 1\u001b[1;36m\u001b[0m\n\u001b[1;33m    enter salary\u001b[0m\n\u001b[1;37m          ^\u001b[0m\n\u001b[1;31mSyntaxError\u001b[0m\u001b[1;31m:\u001b[0m invalid syntax\n"
     ]
    }
   ],
   "source": [
    "enter salary"
   ]
  },
  {
   "cell_type": "code",
   "execution_count": 2,
   "id": "df6fcf4a-ebf8-4801-9bcb-6ba4fe5d9e2b",
   "metadata": {},
   "outputs": [
    {
     "name": "stdout",
     "output_type": "stream",
     "text": [
      "\n",
      "Here is a list of the Python keywords.  Enter any keyword to get more help.\n",
      "\n",
      "False               class               from                or\n",
      "None                continue            global              pass\n",
      "True                def                 if                  raise\n",
      "and                 del                 import              return\n",
      "as                  elif                in                  try\n",
      "assert              else                is                  while\n",
      "async               except              lambda              with\n",
      "await               finally             nonlocal            yield\n",
      "break               for                 not                 \n",
      "\n"
     ]
    }
   ],
   "source": [
    "help (\"keywords\")  "
   ]
  },
  {
   "cell_type": "code",
   "execution_count": 3,
   "id": "580f346d",
   "metadata": {},
   "outputs": [
    {
     "ename": "SyntaxError",
     "evalue": "invalid syntax (1239779345.py, line 1)",
     "output_type": "error",
     "traceback": [
      "\u001b[1;36m  Cell \u001b[1;32mIn[3], line 1\u001b[1;36m\u001b[0m\n\u001b[1;33m    as\u001b[0m\n\u001b[1;37m    ^\u001b[0m\n\u001b[1;31mSyntaxError\u001b[0m\u001b[1;31m:\u001b[0m invalid syntax\n"
     ]
    }
   ],
   "source": [
    "as"
   ]
  },
  {
   "cell_type": "code",
   "execution_count": 4,
   "id": "22c2f1ee",
   "metadata": {},
   "outputs": [
    {
     "ename": "SyntaxError",
     "evalue": "unterminated string literal (detected at line 1) (4191349604.py, line 1)",
     "output_type": "error",
     "traceback": [
      "\u001b[1;36m  Cell \u001b[1;32mIn[4], line 1\u001b[1;36m\u001b[0m\n\u001b[1;33m    help (string')\u001b[0m\n\u001b[1;37m                ^\u001b[0m\n\u001b[1;31mSyntaxError\u001b[0m\u001b[1;31m:\u001b[0m unterminated string literal (detected at line 1)\n"
     ]
    }
   ],
   "source": [
    "help (string')#string\n",
    "      "
   ]
  },
  {
   "cell_type": "code",
   "execution_count": 6,
   "id": "88eaaadb",
   "metadata": {},
   "outputs": [
    {
     "ename": "SyntaxError",
     "evalue": "'(' was never closed (1604077642.py, line 2)",
     "output_type": "error",
     "traceback": [
      "\u001b[1;36m  Cell \u001b[1;32mIn[6], line 2\u001b[1;36m\u001b[0m\n\u001b[1;33m    print(\"iam\"\u001b[0m\n\u001b[1;37m         ^\u001b[0m\n\u001b[1;31mSyntaxError\u001b[0m\u001b[1;31m:\u001b[0m '(' was never closed\n"
     ]
    }
   ],
   "source": [
    "print()\n",
    "print(\"iam\"\n",
    "print(\"dog\")     \n",
    "print(\"river\" \"water\" \"cold\")      "
   ]
  },
  {
   "cell_type": "code",
   "execution_count": 7,
   "id": "9cda2fa2",
   "metadata": {},
   "outputs": [
    {
     "ename": "NameError",
     "evalue": "name 'false' is not defined",
     "output_type": "error",
     "traceback": [
      "\u001b[1;31m---------------------------------------------------------------------------\u001b[0m",
      "\u001b[1;31mNameError\u001b[0m                                 Traceback (most recent call last)",
      "Cell \u001b[1;32mIn[7], line 1\u001b[0m\n\u001b[1;32m----> 1\u001b[0m \u001b[43mfalse\u001b[49m\n\u001b[0;32m      2\u001b[0m true\n",
      "\u001b[1;31mNameError\u001b[0m: name 'false' is not defined"
     ]
    }
   ],
   "source": [
    "false\n",
    "true\n",
    "\n",
    "\n",
    "\n",
    "\n",
    "\n"
   ]
  },
  {
   "cell_type": "code",
   "execution_count": 5,
   "id": "c4dd5c21",
   "metadata": {},
   "outputs": [
    {
     "ename": "SyntaxError",
     "evalue": "unmatched '}' (2276210793.py, line 22)",
     "output_type": "error",
     "traceback": [
      "\u001b[1;36m  Cell \u001b[1;32mIn[5], line 22\u001b[1;36m\u001b[0m\n\u001b[1;33m    }\u001b[0m\n\u001b[1;37m    ^\u001b[0m\n\u001b[1;31mSyntaxError\u001b[0m\u001b[1;31m:\u001b[0m unmatched '}'\n"
     ]
    }
   ],
   "source": [
    "x=\"i am learning python\"\n",
    "print(x[5!8])\n",
    "        \n",
    "        \n",
    "        \n",
    "        \n",
    "        \n",
    "        \n",
    "        \n",
    "        \n",
    "        \n",
    "        \n",
    "        \n",
    "        \n",
    "        \n",
    "        \n",
    "        \n",
    "        \n",
    "        \n",
    "        \n",
    "        \n",
    "        }\n",
    "    `"
   ]
  },
  {
   "cell_type": "code",
   "execution_count": null,
   "id": "d3f89b8e",
   "metadata": {},
   "outputs": [],
   "source": []
  }
 ],
 "metadata": {
  "kernelspec": {
   "display_name": "Python 3 (ipykernel)",
   "language": "python",
   "name": "python3"
  },
  "language_info": {
   "codemirror_mode": {
    "name": "ipython",
    "version": 3
   },
   "file_extension": ".py",
   "mimetype": "text/x-python",
   "name": "python",
   "nbconvert_exporter": "python",
   "pygments_lexer": "ipython3",
   "version": "3.10.9"
  }
 },
 "nbformat": 4,
 "nbformat_minor": 5
}
