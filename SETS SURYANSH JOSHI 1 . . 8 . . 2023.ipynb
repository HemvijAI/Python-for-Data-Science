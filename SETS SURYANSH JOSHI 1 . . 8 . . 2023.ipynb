{
 "cells": [
  {
   "cell_type": "markdown",
   "id": "ee8905fd",
   "metadata": {},
   "source": [
    "# sets"
   ]
  },
  {
   "cell_type": "markdown",
   "id": "c748fcad",
   "metadata": {},
   "source": [
    "items of sets are immutable but set is mutable."
   ]
  },
  {
   "cell_type": "markdown",
   "id": "babc50c6",
   "metadata": {},
   "source": [
    "- #unordered , indexing not possible\n",
    "- #unique\n",
    "- #unchangable"
   ]
  },
  {
   "cell_type": "code",
   "execution_count": 10,
   "id": "ece68596",
   "metadata": {
    "scrolled": true
   },
   "outputs": [
    {
     "name": "stdout",
     "output_type": "stream",
     "text": [
      "[<class 'set'>, {1, 2, 3, 4, 5, 6, 7, 8}]\n"
     ]
    }
   ],
   "source": [
    "list_a=[set,{1,2,3,4,5,6,7,8}]\n",
    "print(list_a)"
   ]
  },
  {
   "cell_type": "code",
   "execution_count": 52,
   "id": "6fca7fd7",
   "metadata": {},
   "outputs": [
    {
     "ename": "TypeError",
     "evalue": "unhashable type: 'dict'",
     "output_type": "error",
     "traceback": [
      "\u001b[1;31m---------------------------------------------------------------------------\u001b[0m",
      "\u001b[1;31mTypeError\u001b[0m                                 Traceback (most recent call last)",
      "Cell \u001b[1;32mIn[52], line 1\u001b[0m\n\u001b[1;32m----> 1\u001b[0m \u001b[38;5;28mlist\u001b[39m\u001b[38;5;241m=\u001b[39m[{\u001b[38;5;28mset\u001b[39m,{\u001b[38;5;241m1\u001b[39m,\u001b[38;5;241m2\u001b[39m,\u001b[38;5;241m3\u001b[39m,\u001b[38;5;241m5\u001b[39m,\u001b[38;5;241m7\u001b[39m,\u001b[38;5;241m6\u001b[39m}}]\n",
      "\u001b[1;31mTypeError\u001b[0m: unhashable type: 'dict'"
     ]
    }
   ],
   "source": [
    "list=[{set,{1,2,3,5,7,6}}]"
   ]
  },
  {
   "cell_type": "code",
   "execution_count": 17,
   "id": "38f23601",
   "metadata": {},
   "outputs": [
    {
     "name": "stdout",
     "output_type": "stream",
     "text": [
      "{}\n",
      "<class 'dict'>\n"
     ]
    }
   ],
   "source": [
    "set={}\n",
    "print(set)\n",
    "print(type(set))"
   ]
  },
  {
   "cell_type": "code",
   "execution_count": 15,
   "id": "15fe4b48",
   "metadata": {},
   "outputs": [
    {
     "name": "stdout",
     "output_type": "stream",
     "text": [
      "{}\n",
      "<class 'dict'>\n"
     ]
    }
   ],
   "source": [
    "# when we dont passs any item to the set constructor then it will be an empty set.\n",
    "set_a={}\n",
    "print(set_a)\n",
    "print(type(set_a))"
   ]
  },
  {
   "cell_type": "code",
   "execution_count": 12,
   "id": "58bb435c",
   "metadata": {},
   "outputs": [
    {
     "ename": "TypeError",
     "evalue": "unhashable type: 'list'",
     "output_type": "error",
     "traceback": [
      "\u001b[1;31m---------------------------------------------------------------------------\u001b[0m",
      "\u001b[1;31mTypeError\u001b[0m                                 Traceback (most recent call last)",
      "Cell \u001b[1;32mIn[12], line 1\u001b[0m\n\u001b[1;32m----> 1\u001b[0m \u001b[38;5;28mset\u001b[39m\u001b[38;5;241m=\u001b[39m{\u001b[38;5;241m1\u001b[39m,\u001b[38;5;241m2\u001b[39m,\u001b[38;5;241m4\u001b[39m,\u001b[38;5;241m5\u001b[39m,\u001b[38;5;241m6\u001b[39m,[\u001b[38;5;241m2\u001b[39m,\u001b[38;5;241m4\u001b[39m]}\n",
      "\u001b[1;31mTypeError\u001b[0m: unhashable type: 'list'"
     ]
    }
   ],
   "source": [
    "set={1,2,4,5,6,[2,4]} #as a list is mutable."
   ]
  },
  {
   "cell_type": "markdown",
   "id": "49a98079",
   "metadata": {},
   "source": [
    "##### accessing items of a set\n",
    "the items if the set are unordered and they dont have any index number . in order to access the items of a set, we need to iterate through the set object using a for loop."
   ]
  },
  {
   "cell_type": "code",
   "execution_count": 28,
   "id": "ef14100a",
   "metadata": {},
   "outputs": [
    {
     "name": "stdout",
     "output_type": "stream",
     "text": [
      "mango\n",
      "banana\n",
      "apple\n"
     ]
    }
   ],
   "source": [
    "fruit_set = {'mango','banana','apple'}\n",
    "for fruit in fruit_set:\n",
    "    print(fruit)"
   ]
  },
  {
   "cell_type": "code",
   "execution_count": 27,
   "id": "4bbf10a0",
   "metadata": {},
   "outputs": [
    {
     "name": "stdout",
     "output_type": "stream",
     "text": [
      "mango in fruit set\n"
     ]
    }
   ],
   "source": [
    "fruit_set = {'mango','banana','apple'}\n",
    "if 'mango' in fruit_set:\n",
    "    print('mango in fruit set')\n",
    "else:\n",
    "    print('mango not in fruit set')"
   ]
  },
  {
   "cell_type": "code",
   "execution_count": 29,
   "id": "ce1b7a04",
   "metadata": {},
   "outputs": [
    {
     "data": {
      "text/plain": [
       "3"
      ]
     },
     "execution_count": 29,
     "metadata": {},
     "output_type": "execute_result"
    }
   ],
   "source": [
    "sports_set={'cricket','football','badminton'} \n",
    "len(sports_set)"
   ]
  },
  {
   "cell_type": "code",
   "execution_count": 1,
   "id": "0e3db16a",
   "metadata": {},
   "outputs": [
    {
     "data": {
      "text/plain": [
       "3"
      ]
     },
     "execution_count": 1,
     "metadata": {},
     "output_type": "execute_result"
    }
   ],
   "source": [
    "sports_set={'cricket','football','badminton','football'} \n",
    "len(sports_set)"
   ]
  },
  {
   "cell_type": "code",
   "execution_count": 32,
   "id": "68f3eb97",
   "metadata": {},
   "outputs": [
    {
     "name": "stdout",
     "output_type": "stream",
     "text": [
      "1467127678560\n",
      "{'cricket', 'badminton', 'football', 'table tennis'}\n",
      "1467127678560\n"
     ]
    }
   ],
   "source": [
    "sports_set={'cricket','football','badminton'}\n",
    "print(id(sports_set))\n",
    "sports_set.add('table tennis')  #to add one item\n",
    "print(sports_set)\n",
    "print(id(sports_set))"
   ]
  },
  {
   "cell_type": "code",
   "execution_count": 33,
   "id": "648539e2",
   "metadata": {},
   "outputs": [
    {
     "name": "stdout",
     "output_type": "stream",
     "text": [
      "{'football', 'b', 'i', 'u', 'g', 'e', 'y', 'r', 't', ' ', 'n', 's', 'a', 'cricket', 'badminton', 'l', 'w'}\n"
     ]
    }
   ],
   "source": [
    "sports_set={'cricket','football','badminton'}\n",
    "sports_set.update('table tennis','lawn tennis','rugby')\n",
    "print(sports_set)"
   ]
  },
  {
   "cell_type": "code",
   "execution_count": 44,
   "id": "3ed8672f",
   "metadata": {},
   "outputs": [
    {
     "name": "stdout",
     "output_type": "stream",
     "text": [
      "{'football', 'lawn tennis', 'rugby', 'cricket', 'badminton', 'table tennis'}\n"
     ]
    }
   ],
   "source": [
    "sports_set={'cricket','football','badminton'}\n",
    "sports_set.update({'table tennis'},{'lawn tennis'},{'rugby'})\n",
    "print(sports_set)"
   ]
  },
  {
   "cell_type": "code",
   "execution_count": 46,
   "id": "2fcccb49",
   "metadata": {},
   "outputs": [
    {
     "ename": "SyntaxError",
     "evalue": "invalid syntax. Perhaps you forgot a comma? (3365361290.py, line 2)",
     "output_type": "error",
     "traceback": [
      "\u001b[1;36m  Cell \u001b[1;32mIn[46], line 2\u001b[1;36m\u001b[0m\n\u001b[1;33m    sports_set.update({table tennis},{lawn tennis},{rugby})\u001b[0m\n\u001b[1;37m                       ^\u001b[0m\n\u001b[1;31mSyntaxError\u001b[0m\u001b[1;31m:\u001b[0m invalid syntax. Perhaps you forgot a comma?\n"
     ]
    }
   ],
   "source": [
    "sports_set={'cricket','football','badminton'}\n",
    "sports_set.update({table tennis},{lawn tennis},{rugby})\n",
    "print(sports_set)"
   ]
  },
  {
   "cell_type": "code",
   "execution_count": null,
   "id": "0951f10a",
   "metadata": {},
   "outputs": [],
   "source": []
  },
  {
   "cell_type": "code",
   "execution_count": null,
   "id": "aa4b7f42",
   "metadata": {},
   "outputs": [],
   "source": []
  },
  {
   "cell_type": "code",
   "execution_count": null,
   "id": "d76be279",
   "metadata": {},
   "outputs": [],
   "source": []
  },
  {
   "cell_type": "markdown",
   "id": "61ec5e64",
   "metadata": {},
   "source": [
    "##### removing items from a set we can use the following methods\n",
    " "
   ]
  },
  {
   "cell_type": "markdown",
   "id": "0a2a51fe",
   "metadata": {},
   "source": [
    "- remove()\n",
    "- discard()\n",
    "- pop()\n",
    "- clear()\n",
    "- del set"
   ]
  },
  {
   "cell_type": "code",
   "execution_count": 34,
   "id": "30eb8e4c",
   "metadata": {},
   "outputs": [
    {
     "name": "stdout",
     "output_type": "stream",
     "text": [
      "{'cheetah', 'tiger'}\n"
     ]
    }
   ],
   "source": [
    "set_a= {'lion','tiger','cheetah'} # takes only one argument\n",
    "set_a.remove('lion')\n",
    "print(set_a)"
   ]
  },
  {
   "cell_type": "code",
   "execution_count": 35,
   "id": "f0f64585",
   "metadata": {},
   "outputs": [
    {
     "ename": "TypeError",
     "evalue": "set.remove() takes exactly one argument (2 given)",
     "output_type": "error",
     "traceback": [
      "\u001b[1;31m---------------------------------------------------------------------------\u001b[0m",
      "\u001b[1;31mTypeError\u001b[0m                                 Traceback (most recent call last)",
      "Cell \u001b[1;32mIn[35], line 2\u001b[0m\n\u001b[0;32m      1\u001b[0m set_a\u001b[38;5;241m=\u001b[39m {\u001b[38;5;124m'\u001b[39m\u001b[38;5;124mlion\u001b[39m\u001b[38;5;124m'\u001b[39m,\u001b[38;5;124m'\u001b[39m\u001b[38;5;124mtiger\u001b[39m\u001b[38;5;124m'\u001b[39m,\u001b[38;5;124m'\u001b[39m\u001b[38;5;124mcheetah\u001b[39m\u001b[38;5;124m'\u001b[39m, \u001b[38;5;124m'\u001b[39m\u001b[38;5;124mpuma\u001b[39m\u001b[38;5;124m'\u001b[39m}\n\u001b[1;32m----> 2\u001b[0m \u001b[43mset_a\u001b[49m\u001b[38;5;241;43m.\u001b[39;49m\u001b[43mremove\u001b[49m\u001b[43m(\u001b[49m\u001b[38;5;124;43m'\u001b[39;49m\u001b[38;5;124;43mlion\u001b[39;49m\u001b[38;5;124;43m'\u001b[39;49m\u001b[43m,\u001b[49m\u001b[38;5;124;43m'\u001b[39;49m\u001b[38;5;124;43mpuma\u001b[39;49m\u001b[38;5;124;43m'\u001b[39;49m\u001b[43m)\u001b[49m\n",
      "\u001b[1;31mTypeError\u001b[0m: set.remove() takes exactly one argument (2 given)"
     ]
    }
   ],
   "source": [
    "set_a= {'lion','tiger','cheetah', 'puma'}\n",
    "set_a.remove('lion','puma')"
   ]
  },
  {
   "cell_type": "code",
   "execution_count": 42,
   "id": "d13c7978",
   "metadata": {},
   "outputs": [
    {
     "ename": "KeyError",
     "evalue": "'hippo'",
     "output_type": "error",
     "traceback": [
      "\u001b[1;31m---------------------------------------------------------------------------\u001b[0m",
      "\u001b[1;31mKeyError\u001b[0m                                  Traceback (most recent call last)",
      "Cell \u001b[1;32mIn[42], line 2\u001b[0m\n\u001b[0;32m      1\u001b[0m set_a\u001b[38;5;241m=\u001b[39m {\u001b[38;5;124m'\u001b[39m\u001b[38;5;124mlion\u001b[39m\u001b[38;5;124m'\u001b[39m,\u001b[38;5;124m'\u001b[39m\u001b[38;5;124mtiger\u001b[39m\u001b[38;5;124m'\u001b[39m,\u001b[38;5;124m'\u001b[39m\u001b[38;5;124mcheetah\u001b[39m\u001b[38;5;124m'\u001b[39m, \u001b[38;5;124m'\u001b[39m\u001b[38;5;124mpuma\u001b[39m\u001b[38;5;124m'\u001b[39m}\n\u001b[1;32m----> 2\u001b[0m \u001b[43mset_a\u001b[49m\u001b[38;5;241;43m.\u001b[39;49m\u001b[43mremove\u001b[49m\u001b[43m(\u001b[49m\u001b[38;5;124;43m'\u001b[39;49m\u001b[38;5;124;43mhippo\u001b[39;49m\u001b[38;5;124;43m'\u001b[39;49m\u001b[43m)\u001b[49m\n\u001b[0;32m      3\u001b[0m \u001b[38;5;28mprint\u001b[39m(set_a)\n",
      "\u001b[1;31mKeyError\u001b[0m: 'hippo'"
     ]
    }
   ],
   "source": [
    "set_a= {'lion','tiger','cheetah', 'puma'}\n",
    "set_a.remove('hippo')\n",
    "print(set_a)"
   ]
  },
  {
   "cell_type": "code",
   "execution_count": 38,
   "id": "f36c0a22",
   "metadata": {},
   "outputs": [
    {
     "name": "stdout",
     "output_type": "stream",
     "text": [
      "{'puma', 'cheetah', 'tiger'}\n"
     ]
    }
   ],
   "source": [
    "set_a= {'lion','tiger','cheetah', 'puma'}\n",
    "set_a.discard('lion')\n",
    "print(set_a)"
   ]
  },
  {
   "cell_type": "code",
   "execution_count": 40,
   "id": "1300f85b",
   "metadata": {},
   "outputs": [
    {
     "name": "stdout",
     "output_type": "stream",
     "text": [
      "{'puma', 'tiger', 'lion'}\n"
     ]
    }
   ],
   "source": [
    "set_a= {'lion','tiger','cheetah', 'puma'}\n",
    "set_a.discard('cheetah')\n",
    "print(set_a)"
   ]
  },
  {
   "cell_type": "code",
   "execution_count": 48,
   "id": "adaa1ee9",
   "metadata": {},
   "outputs": [
    {
     "ename": "TypeError",
     "evalue": "set.discard() takes exactly one argument (2 given)",
     "output_type": "error",
     "traceback": [
      "\u001b[1;31m---------------------------------------------------------------------------\u001b[0m",
      "\u001b[1;31mTypeError\u001b[0m                                 Traceback (most recent call last)",
      "Cell \u001b[1;32mIn[48], line 2\u001b[0m\n\u001b[0;32m      1\u001b[0m set_a\u001b[38;5;241m=\u001b[39m {\u001b[38;5;124m'\u001b[39m\u001b[38;5;124mlion\u001b[39m\u001b[38;5;124m'\u001b[39m,\u001b[38;5;124m'\u001b[39m\u001b[38;5;124mtiger\u001b[39m\u001b[38;5;124m'\u001b[39m,\u001b[38;5;124m'\u001b[39m\u001b[38;5;124mcheetah\u001b[39m\u001b[38;5;124m'\u001b[39m, \u001b[38;5;124m'\u001b[39m\u001b[38;5;124mpuma\u001b[39m\u001b[38;5;124m'\u001b[39m}\n\u001b[1;32m----> 2\u001b[0m \u001b[43mset_a\u001b[49m\u001b[38;5;241;43m.\u001b[39;49m\u001b[43mdiscard\u001b[49m\u001b[43m(\u001b[49m\u001b[38;5;124;43m'\u001b[39;49m\u001b[38;5;124;43mcheetah\u001b[39;49m\u001b[38;5;124;43m'\u001b[39;49m\u001b[43m,\u001b[49m\u001b[38;5;124;43m'\u001b[39;49m\u001b[38;5;124;43mpuma\u001b[39;49m\u001b[38;5;124;43m'\u001b[39;49m\u001b[43m)\u001b[49m                   \u001b[38;5;66;03m# it also takes only one argument\u001b[39;00m\n\u001b[0;32m      3\u001b[0m \u001b[38;5;28mprint\u001b[39m(set_a)\n",
      "\u001b[1;31mTypeError\u001b[0m: set.discard() takes exactly one argument (2 given)"
     ]
    }
   ],
   "source": [
    "set_a= {'lion','tiger','cheetah', 'puma'}\n",
    "set_a.discard('cheetah','puma')                   # it also takes only one argument\n",
    "print(set_a)"
   ]
  },
  {
   "cell_type": "code",
   "execution_count": 41,
   "id": "c5780e03",
   "metadata": {},
   "outputs": [
    {
     "name": "stdout",
     "output_type": "stream",
     "text": [
      "{'puma', 'cheetah', 'tiger', 'lion'}\n"
     ]
    }
   ],
   "source": [
    "set_a= {'lion','tiger','cheetah', 'puma'}\n",
    "set_a.discard('hippo')\n",
    "print(set_a)"
   ]
  },
  {
   "cell_type": "code",
   "execution_count": 43,
   "id": "f9f68ca7",
   "metadata": {},
   "outputs": [],
   "source": [
    "# remove shows key error when the item that is to be removed is not present in set.\n",
    "# discard whereas runs the operation and gives the set without any change in output."
   ]
  },
  {
   "cell_type": "markdown",
   "id": "abe6b706",
   "metadata": {},
   "source": [
    "# 2/8/2023"
   ]
  },
  {
   "cell_type": "code",
   "execution_count": null,
   "id": "f8b84195",
   "metadata": {},
   "outputs": [],
   "source": [
    "set_a={1,12,3,32,43,23,[1,2,3]}"
   ]
  }
 ],
 "metadata": {
  "kernelspec": {
   "display_name": "Python 3 (ipykernel)",
   "language": "python",
   "name": "python3"
  },
  "language_info": {
   "codemirror_mode": {
    "name": "ipython",
    "version": 3
   },
   "file_extension": ".py",
   "mimetype": "text/x-python",
   "name": "python",
   "nbconvert_exporter": "python",
   "pygments_lexer": "ipython3",
   "version": "3.10.9"
  }
 },
 "nbformat": 4,
 "nbformat_minor": 5
}
