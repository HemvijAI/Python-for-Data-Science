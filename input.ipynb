{
 "cells": [
  {
   "cell_type": "markdown",
   "id": "af9886a2",
   "metadata": {},
   "source": [
    " 1.print() is a output. we are studying input function."
   ]
  },
  {
   "cell_type": "code",
   "execution_count": null,
   "id": "f3bea1f4",
   "metadata": {},
   "outputs": [],
   "source": [
    "input()  # inside the input bracket wrie the directions only. these directions \n",
    "           # are related to the operations which you want to do."
   ]
  },
  {
   "cell_type": "code",
   "execution_count": null,
   "id": "5091ea58",
   "metadata": {},
   "outputs": [],
   "source": [
    "input(time is 10clock)"
   ]
  },
  {
   "cell_type": "code",
   "execution_count": 1,
   "id": "d0ac673d",
   "metadata": {},
   "outputs": [
    {
     "name": "stdout",
     "output_type": "stream",
     "text": [
      "time is 10 o clock10\n"
     ]
    },
    {
     "data": {
      "text/plain": [
       "'10'"
      ]
     },
     "execution_count": 1,
     "metadata": {},
     "output_type": "execute_result"
    }
   ],
   "source": [
    "input(\"time is 10 o clock\")"
   ]
  },
  {
   "cell_type": "code",
   "execution_count": 2,
   "id": "156a5e20",
   "metadata": {},
   "outputs": [
    {
     "name": "stdout",
     "output_type": "stream",
     "text": [
      "write an odd number35\n"
     ]
    },
    {
     "data": {
      "text/plain": [
       "'35'"
      ]
     },
     "execution_count": 2,
     "metadata": {},
     "output_type": "execute_result"
    }
   ],
   "source": [
    "input(\"write an odd number\")\n"
   ]
  },
  {
   "cell_type": "code",
   "execution_count": 1,
   "id": "6f9f204b",
   "metadata": {},
   "outputs": [
    {
     "name": "stdout",
     "output_type": "stream",
     "text": [
      "india score 143 run143\n"
     ]
    },
    {
     "data": {
      "text/plain": [
       "'143'"
      ]
     },
     "execution_count": 1,
     "metadata": {},
     "output_type": "execute_result"
    }
   ],
   "source": [
    "input(\"india score 143 run\")"
   ]
  },
  {
   "cell_type": "code",
   "execution_count": 2,
   "id": "0b05fe36",
   "metadata": {},
   "outputs": [
    {
     "name": "stdout",
     "output_type": "stream",
     "text": [
      "india win junior asian hockeyyes\n"
     ]
    },
    {
     "data": {
      "text/plain": [
       "'yes'"
      ]
     },
     "execution_count": 2,
     "metadata": {},
     "output_type": "execute_result"
    }
   ],
   "source": [
    "input(\"india win junior asian hockey\")"
   ]
  },
  {
   "cell_type": "code",
   "execution_count": 3,
   "id": "3bf3347f",
   "metadata": {},
   "outputs": [
    {
     "name": "stdout",
     "output_type": "stream",
     "text": [
      "wrd test champion aus made 321 run no\n"
     ]
    },
    {
     "data": {
      "text/plain": [
       "'no'"
      ]
     },
     "execution_count": 3,
     "metadata": {},
     "output_type": "execute_result"
    }
   ],
   "source": [
    "input(\"wrd test champion aus made 321 run \")"
   ]
  },
  {
   "cell_type": "code",
   "execution_count": null,
   "id": "6fdaf213",
   "metadata": {},
   "outputs": [],
   "source": [
    "input(\"kadar nath people are going\")"
   ]
  },
  {
   "cell_type": "code",
   "execution_count": null,
   "id": "401d7290",
   "metadata": {},
   "outputs": [],
   "source": [
    "input (\"tea is reay at4 0clock\") "
   ]
  },
  {
   "cell_type": "code",
   "execution_count": null,
   "id": "73d4f63c",
   "metadata": {},
   "outputs": [],
   "source": [
    "input (\"tea is ready at time\")"
   ]
  },
  {
   "cell_type": "code",
   "execution_count": null,
   "id": "07fb9d32",
   "metadata": {},
   "outputs": [],
   "source": [
    "input (\"dinner ready at 4 0clock\")"
   ]
  },
  {
   "cell_type": "code",
   "execution_count": null,
   "id": "96edd15f",
   "metadata": {},
   "outputs": [],
   "source": [
    "input(\"india win hockey 1985\")"
   ]
  },
  {
   "cell_type": "code",
   "execution_count": null,
   "id": "609f932a",
   "metadata": {},
   "outputs": [],
   "source": [
    "input(\"time is 4 oclock\")"
   ]
  },
  {
   "cell_type": "code",
   "execution_count": null,
   "id": "2a80299f",
   "metadata": {},
   "outputs": [],
   "source": [
    "input(\"my name is ramesh\")"
   ]
  },
  {
   "cell_type": "code",
   "execution_count": null,
   "id": "044a19af",
   "metadata": {},
   "outputs": [],
   "source": [
    " input(\"india win davis cup\")\n",
    " input(\"hockey asia cup 1989 india win\")\n",
    "         "
   ]
  },
  {
   "cell_type": "code",
   "execution_count": 1,
   "id": "3356af25",
   "metadata": {},
   "outputs": [
    {
     "name": "stdout",
     "output_type": "stream",
     "text": [
      "odd number35\n",
      "write odd numbe45\n"
     ]
    },
    {
     "data": {
      "text/plain": [
       "'45'"
      ]
     },
     "execution_count": 1,
     "metadata": {},
     "output_type": "execute_result"
    }
   ],
   "source": [
    "input(\"odd number\")\n",
    "\n",
    "input(\"write odd numbe\")"
   ]
  },
  {
   "cell_type": "code",
   "execution_count": 2,
   "id": "6c6e6703",
   "metadata": {},
   "outputs": [
    {
     "name": "stdout",
     "output_type": "stream",
     "text": [
      "write even number44\n",
      "write even nuber 56\n"
     ]
    },
    {
     "data": {
      "text/plain": [
       "'56'"
      ]
     },
     "execution_count": 2,
     "metadata": {},
     "output_type": "execute_result"
    }
   ],
   "source": [
    "input(\"write even number\")\n",
    "\n",
    "input(\"write even nuber \")"
   ]
  },
  {
   "cell_type": "code",
   "execution_count": 3,
   "id": "4e5ad25a",
   "metadata": {},
   "outputs": [
    {
     "name": "stdout",
     "output_type": "stream",
     "text": [
      "write class 6student 6 rool no4567\n"
     ]
    },
    {
     "data": {
      "text/plain": [
       "'4567'"
      ]
     },
     "execution_count": 3,
     "metadata": {},
     "output_type": "execute_result"
    }
   ],
   "source": [
    "input('write class 6student 6 rool no')"
   ]
  },
  {
   "cell_type": "code",
   "execution_count": 6,
   "id": "37e55b7c",
   "metadata": {},
   "outputs": [
    {
     "name": "stdout",
     "output_type": "stream",
     "text": [
      "write your mother name:kamla\n",
      "student name:arvind\n",
      "student age:57\n"
     ]
    }
   ],
   "source": [
    "x= input('write your mother name:')\n",
    "         \n",
    "y= input('student name:')\n",
    "\n",
    "z= input('student age:')"
   ]
  },
  {
   "cell_type": "code",
   "execution_count": 8,
   "id": "eb842857",
   "metadata": {},
   "outputs": [
    {
     "name": "stdout",
     "output_type": "stream",
     "text": [
      "write your mother name:kamla\n",
      "student name:arvind\n",
      "student age:57\n",
      "kamlaarvind57\n"
     ]
    }
   ],
   "source": [
    "x= input('write your mother name:')\n",
    "         \n",
    "y= input('student name:')\n",
    "\n",
    "z= input('student age:')\n",
    "\n",
    "q=x+y+z      # concatenation\n",
    "\n",
    "print(q)"
   ]
  },
  {
   "cell_type": "code",
   "execution_count": 2,
   "id": "114b1ccb",
   "metadata": {},
   "outputs": [
    {
     "name": "stdout",
     "output_type": "stream",
     "text": [
      "write your number:567\n",
      "student roll number:6789\n",
      "student age:57\n",
      "567678957\n"
     ]
    }
   ],
   "source": [
    "x= input('write your number:')\n",
    "         \n",
    "y= input('student roll number:')\n",
    "\n",
    "z= input('student age:')\n",
    "\n",
    "r=x+y+z\n",
    "print(r)"
   ]
  },
  {
   "cell_type": "code",
   "execution_count": 3,
   "id": "0db0341f",
   "metadata": {},
   "outputs": [
    {
     "data": {
      "text/plain": [
       "str"
      ]
     },
     "execution_count": 3,
     "metadata": {},
     "output_type": "execute_result"
    }
   ],
   "source": [
    "type()"
   ]
  },
  {
   "cell_type": "code",
   "execution_count": 4,
   "id": "7c6a6099",
   "metadata": {},
   "outputs": [
    {
     "name": "stdout",
     "output_type": "stream",
     "text": [
      "x+y=z\n"
     ]
    }
   ],
   "source": [
    "print(\"x+y=z\")"
   ]
  },
  {
   "cell_type": "code",
   "execution_count": 2,
   "id": "04ca9439",
   "metadata": {},
   "outputs": [
    {
     "name": "stdout",
     "output_type": "stream",
     "text": [
      "enter namehem\n",
      "enter addreshal\n",
      "enter date34may\n",
      "hemhal34may\n"
     ]
    }
   ],
   "source": [
    "x=input(\"enter name\")\n",
    "y=input(\"enter addres\")\n",
    "z=input(\"enter date\")\n",
    "q=x+y+z\n",
    "print(q)"
   ]
  },
  {
   "cell_type": "code",
   "execution_count": null,
   "id": "ad3a13c1",
   "metadata": {},
   "outputs": [],
   "source": []
  }
 ],
 "metadata": {
  "kernelspec": {
   "display_name": "Python 3 (ipykernel)",
   "language": "python",
   "name": "python3"
  },
  "language_info": {
   "codemirror_mode": {
    "name": "ipython",
    "version": 3
   },
   "file_extension": ".py",
   "mimetype": "text/x-python",
   "name": "python",
   "nbconvert_exporter": "python",
   "pygments_lexer": "ipython3",
   "version": "3.10.9"
  }
 },
 "nbformat": 4,
 "nbformat_minor": 5
}
