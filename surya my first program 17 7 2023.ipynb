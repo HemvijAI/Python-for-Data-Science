{
 "cells": [
  {
   "cell_type": "code",
   "execution_count": 2,
   "id": "0e99c0bd",
   "metadata": {},
   "outputs": [
    {
     "name": "stdout",
     "output_type": "stream",
     "text": [
      "10\n",
      "30\n"
     ]
    }
   ],
   "source": [
    "x = 5\n",
    "y = 2\n",
    "z=3\n",
    "print(x * y)\n",
    "print(x*y*z)"
   ]
  },
  {
   "cell_type": "code",
   "execution_count": null,
   "id": "7c1087ef",
   "metadata": {},
   "outputs": [],
   "source": []
  },
  {
   "cell_type": "code",
   "execution_count": 18,
   "id": "066652fa",
   "metadata": {},
   "outputs": [
    {
     "name": "stdout",
     "output_type": "stream",
     "text": [
      "15.9413\n"
     ]
    }
   ],
   "source": [
    "x=6.67\n",
    "y=2.39\n",
    "print(x*y)"
   ]
  },
  {
   "cell_type": "code",
   "execution_count": 21,
   "id": "2fb2f3e1",
   "metadata": {},
   "outputs": [
    {
     "name": "stdout",
     "output_type": "stream",
     "text": [
      "1.1666666666666667\n"
     ]
    }
   ],
   "source": [
    "a=12\n",
    "b=14\n",
    "print(b/a)"
   ]
  },
  {
   "cell_type": "code",
   "execution_count": 32,
   "id": "25267951",
   "metadata": {},
   "outputs": [
    {
     "data": {
      "text/plain": [
       "False"
      ]
     },
     "execution_count": 32,
     "metadata": {},
     "output_type": "execute_result"
    }
   ],
   "source": [
    "not True"
   ]
  },
  {
   "cell_type": "code",
   "execution_count": 33,
   "id": "952b9a1f",
   "metadata": {},
   "outputs": [
    {
     "data": {
      "text/plain": [
       "True"
      ]
     },
     "execution_count": 33,
     "metadata": {},
     "output_type": "execute_result"
    }
   ],
   "source": [
    "not False"
   ]
  },
  {
   "cell_type": "code",
   "execution_count": 38,
   "id": "ab426a77",
   "metadata": {},
   "outputs": [
    {
     "data": {
      "text/plain": [
       "True"
      ]
     },
     "execution_count": 38,
     "metadata": {},
     "output_type": "execute_result"
    }
   ],
   "source": [
    "not False "
   ]
  },
  {
   "cell_type": "code",
   "execution_count": 39,
   "id": "f0f7bd63",
   "metadata": {},
   "outputs": [
    {
     "name": "stdout",
     "output_type": "stream",
     "text": [
      "10\n"
     ]
    }
   ],
   "source": [
    "print (20 and 10)"
   ]
  },
  {
   "cell_type": "code",
   "execution_count": 43,
   "id": "05509272",
   "metadata": {},
   "outputs": [
    {
     "data": {
      "text/plain": [
       "True"
      ]
     },
     "execution_count": 43,
     "metadata": {},
     "output_type": "execute_result"
    }
   ],
   "source": [
    "False or True"
   ]
  },
  {
   "cell_type": "code",
   "execution_count": 45,
   "id": "068ea7b4",
   "metadata": {},
   "outputs": [
    {
     "name": "stdout",
     "output_type": "stream",
     "text": [
      "False\n"
     ]
    }
   ],
   "source": [
    "x=10\n",
    "y=12\n",
    "z=14\n",
    "print(x is y)"
   ]
  },
  {
   "cell_type": "code",
   "execution_count": 50,
   "id": "11b8954b",
   "metadata": {},
   "outputs": [
    {
     "name": "stdout",
     "output_type": "stream",
     "text": [
      "1593823593040\n"
     ]
    }
   ],
   "source": [
    "y=12\n",
    "print(id(y))"
   ]
  },
  {
   "cell_type": "markdown",
   "id": "6d67f63c",
   "metadata": {},
   "source": []
  },
  {
   "cell_type": "code",
   "execution_count": 59,
   "id": "e6d8001f",
   "metadata": {},
   "outputs": [
    {
     "data": {
      "text/plain": [
       "True"
      ]
     },
     "execution_count": 59,
     "metadata": {},
     "output_type": "execute_result"
    }
   ],
   "source": [
    "\n",
    "True and False or True"
   ]
  },
  {
   "cell_type": "markdown",
   "id": "4d4397f0",
   "metadata": {},
   "source": [
    "# EXPONENT\n",
    "denoted by **\n",
    "\n"
   ]
  },
  {
   "cell_type": "code",
   "execution_count": 1,
   "id": "166eb021",
   "metadata": {},
   "outputs": [
    {
     "data": {
      "text/plain": [
       "16"
      ]
     },
     "execution_count": 1,
     "metadata": {},
     "output_type": "execute_result"
    }
   ],
   "source": [
    "2**4"
   ]
  },
  {
   "cell_type": "code",
   "execution_count": 3,
   "id": "365d6f56",
   "metadata": {},
   "outputs": [
    {
     "name": "stdout",
     "output_type": "stream",
     "text": [
      "243\n"
     ]
    }
   ],
   "source": [
    "print(3**5)"
   ]
  },
  {
   "cell_type": "code",
   "execution_count": 4,
   "id": "245fd2f0",
   "metadata": {},
   "outputs": [
    {
     "data": {
      "text/plain": [
       "18"
      ]
     },
     "execution_count": 4,
     "metadata": {},
     "output_type": "execute_result"
    }
   ],
   "source": [
    "2*3**2"
   ]
  },
  {
   "cell_type": "code",
   "execution_count": 5,
   "id": "feca31d8",
   "metadata": {},
   "outputs": [
    {
     "data": {
      "text/plain": [
       "0.015625"
      ]
     },
     "execution_count": 5,
     "metadata": {},
     "output_type": "execute_result"
    }
   ],
   "source": [
    "4**-3"
   ]
  },
  {
   "cell_type": "markdown",
   "id": "8ff1c524",
   "metadata": {},
   "source": [
    "# operators    \n",
    "\n",
    "equal to         ==\n",
    "not equal to     !=\n",
    "greater than or equal to >=\n",
    "less than or equal to    <=\n"
   ]
  },
  {
   "cell_type": "code",
   "execution_count": 10,
   "id": "1d16575d",
   "metadata": {},
   "outputs": [
    {
     "ename": "NameError",
     "evalue": "name 'y' is not defined",
     "output_type": "error",
     "traceback": [
      "\u001b[1;31m---------------------------------------------------------------------------\u001b[0m",
      "\u001b[1;31mNameError\u001b[0m                                 Traceback (most recent call last)",
      "Cell \u001b[1;32mIn[10], line 1\u001b[0m\n\u001b[1;32m----> 1\u001b[0m x\u001b[38;5;241m=\u001b[39m\u001b[43my\u001b[49m\n",
      "\u001b[1;31mNameError\u001b[0m: name 'y' is not defined"
     ]
    }
   ],
   "source": [
    "x=y"
   ]
  },
  {
   "cell_type": "code",
   "execution_count": 16,
   "id": "1fceadbc",
   "metadata": {},
   "outputs": [
    {
     "ename": "NameError",
     "evalue": "name 'x' is not defined",
     "output_type": "error",
     "traceback": [
      "\u001b[1;31m---------------------------------------------------------------------------\u001b[0m",
      "\u001b[1;31mNameError\u001b[0m                                 Traceback (most recent call last)",
      "Cell \u001b[1;32mIn[16], line 1\u001b[0m\n\u001b[1;32m----> 1\u001b[0m \u001b[43mx\u001b[49m\u001b[38;5;241m>\u001b[39m\u001b[38;5;241m=\u001b[39my\n",
      "\u001b[1;31mNameError\u001b[0m: name 'x' is not defined"
     ]
    }
   ],
   "source": [
    "x>=y"
   ]
  },
  {
   "cell_type": "code",
   "execution_count": 17,
   "id": "48d37f59",
   "metadata": {},
   "outputs": [
    {
     "ename": "NameError",
     "evalue": "name 'y' is not defined",
     "output_type": "error",
     "traceback": [
      "\u001b[1;31m---------------------------------------------------------------------------\u001b[0m",
      "\u001b[1;31mNameError\u001b[0m                                 Traceback (most recent call last)",
      "Cell \u001b[1;32mIn[17], line 1\u001b[0m\n\u001b[1;32m----> 1\u001b[0m \u001b[43my\u001b[49m\u001b[38;5;241m>\u001b[39m\u001b[38;5;241m=\u001b[39mx\n",
      "\u001b[1;31mNameError\u001b[0m: name 'y' is not defined"
     ]
    }
   ],
   "source": [
    "y>=x"
   ]
  },
  {
   "cell_type": "code",
   "execution_count": 18,
   "id": "e45341cc",
   "metadata": {},
   "outputs": [
    {
     "data": {
      "text/plain": [
       "True"
      ]
     },
     "execution_count": 18,
     "metadata": {},
     "output_type": "execute_result"
    }
   ],
   "source": [
    "x=10\n",
    "y=20\n",
    "z=30\n",
    "\n",
    "x+y>=z"
   ]
  },
  {
   "cell_type": "code",
   "execution_count": 24,
   "id": "e67c3ead",
   "metadata": {},
   "outputs": [
    {
     "data": {
      "text/plain": [
       "False"
      ]
     },
     "execution_count": 24,
     "metadata": {},
     "output_type": "execute_result"
    }
   ],
   "source": [
    "x=10\n",
    "y=12\n",
    "z=14\n",
    "x<z<y "
   ]
  },
  {
   "cell_type": "markdown",
   "id": "05074706",
   "metadata": {},
   "source": [
    "# operatorS\n",
    " \n",
    " OPERATOR                   MEANING                    EQUIVALENT\n",
    "  \n",
    " 1 assign                assign 5 to a variable a  a=5\n",
    " \n",
    " 2 add and assign        5 is added to a            a=a+5\n",
    " \n",
    " 3 subtract and assign                              a=a-5\n",
    "  \n",
    " 4 multiply and assign                              a=a*5\n",
    "  \n",
    " 5 divide and assign                                a=a/5\n",
    "\n",
    " 6 modulus and assign                               a=a%5"
   ]
  },
  {
   "cell_type": "markdown",
   "id": "b139ff93",
   "metadata": {},
   "source": [
    "# MEMBERSHIP OPERATORS\n",
    "\n",
    "IN OPERATOR\n",
    " it returns a result as TRUE if it finds a given object in a sentence . Otherwise , it returns FALSE"
   ]
  },
  {
   "cell_type": "code",
   "execution_count": 111,
   "id": "f1d0d719",
   "metadata": {
    "scrolled": true
   },
   "outputs": [
    {
     "ename": "SyntaxError",
     "evalue": "expected ':' (3102144590.py, line 3)",
     "output_type": "error",
     "traceback": [
      "\u001b[1;36m  Cell \u001b[1;32mIn[111], line 3\u001b[1;36m\u001b[0m\n\u001b[1;33m    if number in my_list\u001b[0m\n\u001b[1;37m                         ^\u001b[0m\n\u001b[1;31mSyntaxError\u001b[0m\u001b[1;31m:\u001b[0m expected ':'\n"
     ]
    }
   ],
   "source": [
    "my_list = [11,15,29,50,70]\n",
    "number = 15\n",
    "if number in my_list \n",
    "    print ( \" number is present \" )\n",
    "else:\n",
    "    print ( \" number is not present \" )\n",
    "\n"
   ]
  },
  {
   "cell_type": "markdown",
   "id": "a243d5b0",
   "metadata": {},
   "source": [
    "NOT IN OPERATOR\n",
    "\n",
    "it returns true if the object is not present in a given sequence . other wise , it returns False\n",
    "\n"
   ]
  },
  {
   "cell_type": "code",
   "execution_count": 99,
   "id": "b3249448",
   "metadata": {},
   "outputs": [],
   "source": [
    "my_tuple = (11,15,21,29)\n",
    "number=21\n",
    "if number not in my tuple\n",
    "\n",
    "print(\"present in my tupl\")\n",
    " "
   ]
  },
  {
   "cell_type": "markdown",
   "id": "51dcf326",
   "metadata": {},
   "source": [
    "# IS NOT OPERATOR\n",
    "\n"
   ]
  },
  {
   "cell_type": "code",
   "execution_count": 100,
   "id": "6a82d402",
   "metadata": {},
   "outputs": [
    {
     "name": "stdout",
     "output_type": "stream",
     "text": [
      "True\n",
      "False\n"
     ]
    }
   ],
   "source": [
    "x=10\n",
    "y=11\n",
    "z=10\n",
    "print(x is not y) # it compares the memory address of x and y\n",
    "print(x is not z) # it compares the memory address of x and y"
   ]
  },
  {
   "cell_type": "code",
   "execution_count": null,
   "id": "930e4db4",
   "metadata": {},
   "outputs": [],
   "source": []
  }
 ],
 "metadata": {
  "kernelspec": {
   "display_name": "Python 3 (ipykernel)",
   "language": "python",
   "name": "python3"
  },
  "language_info": {
   "codemirror_mode": {
    "name": "ipython",
    "version": 3
   },
   "file_extension": ".py",
   "mimetype": "text/x-python",
   "name": "python",
   "nbconvert_exporter": "python",
   "pygments_lexer": "ipython3",
   "version": "3.10.9"
  }
 },
 "nbformat": 4,
 "nbformat_minor": 5
}
