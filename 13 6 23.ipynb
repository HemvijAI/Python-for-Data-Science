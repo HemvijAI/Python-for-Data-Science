{
 "cells": [
  {
   "cell_type": "code",
   "execution_count": 5,
   "id": "60280583",
   "metadata": {},
   "outputs": [
    {
     "name": "stdout",
     "output_type": "stream",
     "text": [
      "[15]\n"
     ]
    }
   ],
   "source": [
    "example=\"python is easy\"\n",
    "print([15])"
   ]
  },
  {
   "cell_type": "code",
   "execution_count": 7,
   "id": "30f2d8cf",
   "metadata": {},
   "outputs": [
    {
     "ename": "TypeError",
     "evalue": "unsupported operand type(s) for -: 'str' and 'int'",
     "output_type": "error",
     "traceback": [
      "\u001b[1;31m---------------------------------------------------------------------------\u001b[0m",
      "\u001b[1;31mTypeError\u001b[0m                                 Traceback (most recent call last)",
      "Cell \u001b[1;32mIn[7], line 2\u001b[0m\n\u001b[0;32m      1\u001b[0m a\u001b[38;5;241m=\u001b[39m\u001b[38;5;124m\"\u001b[39m\u001b[38;5;124mpython is easy\u001b[39m\u001b[38;5;124m\"\u001b[39m\n\u001b[1;32m----> 2\u001b[0m \u001b[38;5;28mprint\u001b[39m([\u001b[43ma\u001b[49m\u001b[38;5;241;43m-\u001b[39;49m\u001b[38;5;241;43m14\u001b[39;49m],a[\u001b[38;5;241m-\u001b[39m\u001b[38;5;241m10\u001b[39m],a[\u001b[38;5;241m-\u001b[39m\u001b[38;5;241m7\u001b[39m],a[\u001b[38;5;241m-\u001b[39m\u001b[38;5;241m6\u001b[39m])\n",
      "\u001b[1;31mTypeError\u001b[0m: unsupported operand type(s) for -: 'str' and 'int'"
     ]
    }
   ],
   "source": [
    "a = \"python is easy\"\n",
    "print([a-14],a[-10],a[-7],a[-6])"
   ]
  },
  {
   "cell_type": "code",
   "execution_count": 8,
   "id": "df39ab34",
   "metadata": {},
   "outputs": [
    {
     "name": "stdout",
     "output_type": "stream",
     "text": [
      "p o i s\n"
     ]
    }
   ],
   "source": [
    "a = \"python is easy\"\n",
    "print(a[-14],a[-10],a[-7],a[-6])"
   ]
  },
  {
   "cell_type": "code",
   "execution_count": 9,
   "id": "73897890",
   "metadata": {},
   "outputs": [
    {
     "name": "stdout",
     "output_type": "stream",
     "text": [
      "a h\n"
     ]
    }
   ],
   "source": [
    "a=\"pythn is easy\"\n",
    "print(a[10],a[-10])"
   ]
  },
  {
   "cell_type": "code",
   "execution_count": 10,
   "id": "ad4373ed",
   "metadata": {},
   "outputs": [
    {
     "data": {
      "text/plain": [
       "'python'"
      ]
     },
     "execution_count": 10,
     "metadata": {},
     "output_type": "execute_result"
    }
   ],
   "source": [
    "x=\"python is easy\"\n",
    "x[0:6]"
   ]
  },
  {
   "cell_type": "code",
   "execution_count": 11,
   "id": "590a33ac",
   "metadata": {},
   "outputs": [
    {
     "name": "stdout",
     "output_type": "stream",
     "text": [
      "hello  r,  na\n"
     ]
    }
   ],
   "source": [
    "name=\"hello sir,my name gaurav\"\n",
    "print(name[0:6],name[8:10],name[12:15])"
   ]
  },
  {
   "cell_type": "code",
   "execution_count": 13,
   "id": "a436bbda",
   "metadata": {},
   "outputs": [
    {
     "data": {
      "text/plain": [
       "''"
      ]
     },
     "execution_count": 13,
     "metadata": {},
     "output_type": "execute_result"
    }
   ],
   "source": [
    "x=\"python is easy\"\n",
    "x[-1:-6]"
   ]
  },
  {
   "cell_type": "code",
   "execution_count": 14,
   "id": "6f54e126",
   "metadata": {},
   "outputs": [
    {
     "data": {
      "text/plain": [
       "'s eas'"
      ]
     },
     "execution_count": 14,
     "metadata": {},
     "output_type": "execute_result"
    }
   ],
   "source": [
    "x=\"python is easy\"\n",
    "x[-6:-1]"
   ]
  },
  {
   "cell_type": "code",
   "execution_count": 18,
   "id": "8eb31450",
   "metadata": {},
   "outputs": [
    {
     "data": {
      "text/plain": [
       "''"
      ]
     },
     "execution_count": 18,
     "metadata": {},
     "output_type": "execute_result"
    }
   ],
   "source": [
    "x=\"python is easy\"\n",
    "x[-1:-6:3]"
   ]
  },
  {
   "cell_type": "code",
   "execution_count": 21,
   "id": "fa050fc4",
   "metadata": {},
   "outputs": [
    {
     "data": {
      "text/plain": [
       "'easy'"
      ]
     },
     "execution_count": 21,
     "metadata": {},
     "output_type": "execute_result"
    }
   ],
   "source": [
    "x=\"python is easy\"\n",
    "x[10:15]"
   ]
  },
  {
   "cell_type": "code",
   "execution_count": 22,
   "id": "c7159598",
   "metadata": {},
   "outputs": [
    {
     "data": {
      "text/plain": [
       "''"
      ]
     },
     "execution_count": 22,
     "metadata": {},
     "output_type": "execute_result"
    }
   ],
   "source": [
    "x=\"python is easy\"\n",
    "x[9:4]"
   ]
  },
  {
   "cell_type": "code",
   "execution_count": 23,
   "id": "f83b27b9",
   "metadata": {},
   "outputs": [
    {
     "data": {
      "text/plain": [
       "' easy'"
      ]
     },
     "execution_count": 23,
     "metadata": {},
     "output_type": "execute_result"
    }
   ],
   "source": [
    "x=\"python is easy\"\n",
    "x[9:200]"
   ]
  },
  {
   "cell_type": "code",
   "execution_count": 24,
   "id": "39c172f0",
   "metadata": {},
   "outputs": [
    {
     "data": {
      "text/plain": [
       "'s eas'"
      ]
     },
     "execution_count": 24,
     "metadata": {},
     "output_type": "execute_result"
    }
   ],
   "source": [
    "x=\"python is easy\"\n",
    "x[-6:-1]"
   ]
  },
  {
   "cell_type": "code",
   "execution_count": 25,
   "id": "d3a7ce50",
   "metadata": {},
   "outputs": [
    {
     "data": {
      "text/plain": [
       "''"
      ]
     },
     "execution_count": 25,
     "metadata": {},
     "output_type": "execute_result"
    }
   ],
   "source": [
    "x=\"python is easy\"\n",
    "x[-1:-10]"
   ]
  },
  {
   "cell_type": "code",
   "execution_count": 29,
   "id": "a13d07e9",
   "metadata": {},
   "outputs": [
    {
     "ename": "NameError",
     "evalue": "name 'X' is not defined",
     "output_type": "error",
     "traceback": [
      "\u001b[1;31m---------------------------------------------------------------------------\u001b[0m",
      "\u001b[1;31mNameError\u001b[0m                                 Traceback (most recent call last)",
      "Cell \u001b[1;32mIn[29], line 2\u001b[0m\n\u001b[0;32m      1\u001b[0m x\u001b[38;5;241m=\u001b[39m\u001b[38;5;124m\"\u001b[39m\u001b[38;5;124mpython is easy\u001b[39m\u001b[38;5;124m\"\u001b[39m\n\u001b[1;32m----> 2\u001b[0m \u001b[38;5;28mprint\u001b[39m(\u001b[43mX\u001b[49m[\u001b[38;5;241m-\u001b[39m\u001b[38;5;241m1\u001b[39m:\u001b[38;5;241m-\u001b[39m\u001b[38;5;241m6\u001b[39m:\u001b[38;5;241m-\u001b[39m\u001b[38;5;241m1\u001b[39m])\n",
      "\u001b[1;31mNameError\u001b[0m: name 'X' is not defined"
     ]
    }
   ],
   "source": [
    "x=\"python is easy\"\n",
    "print(X[-1:-6:-1])"
   ]
  },
  {
   "cell_type": "code",
   "execution_count": 31,
   "id": "35771bde",
   "metadata": {},
   "outputs": [
    {
     "data": {
      "text/plain": [
       "''"
      ]
     },
     "execution_count": 31,
     "metadata": {},
     "output_type": "execute_result"
    }
   ],
   "source": [
    "X=\"PYTHON IS EASY\"\n",
    "X[-8:-8]"
   ]
  },
  {
   "cell_type": "code",
   "execution_count": 32,
   "id": "29b86b0b",
   "metadata": {},
   "outputs": [
    {
     "data": {
      "text/plain": [
       "' IS'"
      ]
     },
     "execution_count": 32,
     "metadata": {},
     "output_type": "execute_result"
    }
   ],
   "source": [
    "X=\"PYTHON IS EASY\"\n",
    "X[-8:9]"
   ]
  },
  {
   "cell_type": "code",
   "execution_count": 33,
   "id": "e405ca7b",
   "metadata": {},
   "outputs": [
    {
     "data": {
      "text/plain": [
       "''"
      ]
     },
     "execution_count": 33,
     "metadata": {},
     "output_type": "execute_result"
    }
   ],
   "source": [
    "X=\"PYTHON IS EASY\"\n",
    "X[-4:9]"
   ]
  },
  {
   "cell_type": "code",
   "execution_count": 34,
   "id": "9a2b7934",
   "metadata": {},
   "outputs": [
    {
     "data": {
      "text/plain": [
       "''"
      ]
     },
     "execution_count": 34,
     "metadata": {},
     "output_type": "execute_result"
    }
   ],
   "source": [
    "X=\"PYTHON IS EASY\"\n",
    "X[-3:-5]"
   ]
  },
  {
   "cell_type": "code",
   "execution_count": 35,
   "id": "674146ab",
   "metadata": {},
   "outputs": [
    {
     "data": {
      "text/plain": [
       "'HON IS EAS'"
      ]
     },
     "execution_count": 35,
     "metadata": {},
     "output_type": "execute_result"
    }
   ],
   "source": [
    "X=\"PYTHON IS EASY\"\n",
    "X[3:-1]"
   ]
  },
  {
   "cell_type": "code",
   "execution_count": 38,
   "id": "9b6d00c7",
   "metadata": {},
   "outputs": [
    {
     "data": {
      "text/plain": [
       "'python is easy'"
      ]
     },
     "execution_count": 38,
     "metadata": {},
     "output_type": "execute_result"
    }
   ],
   "source": [
    "x=\"python is easy\"\n",
    "x[::]"
   ]
  },
  {
   "cell_type": "code",
   "execution_count": null,
   "id": "bb98db59",
   "metadata": {},
   "outputs": [],
   "source": [
    "x=\"python is easy\"\n",
    "x[--------------------------------------------------------------------------------------------------------------------------------------------------------------------------------------------------------------------------------------------------------------------------------------------------------------------------------------------------]"
   ]
  },
  {
   "cell_type": "code",
   "execution_count": 40,
   "id": "36483eed",
   "metadata": {},
   "outputs": [
    {
     "data": {
      "text/plain": [
       "'nohtyp'"
      ]
     },
     "execution_count": 40,
     "metadata": {},
     "output_type": "execute_result"
    }
   ],
   "source": [
    "x=\"python is easy\"\n",
    "x[-9::-1]"
   ]
  },
  {
   "cell_type": "code",
   "execution_count": 41,
   "id": "e4f5a984",
   "metadata": {},
   "outputs": [
    {
     "data": {
      "text/plain": [
       "'ses otp'"
      ]
     },
     "execution_count": 41,
     "metadata": {},
     "output_type": "execute_result"
    }
   ],
   "source": [
    " x=\"python is easy\"\n",
    " x[-2::-2]   "
   ]
  },
  {
   "cell_type": "code",
   "execution_count": 43,
   "id": "769f1426",
   "metadata": {},
   "outputs": [
    {
     "data": {
      "text/plain": [
       "'sae si nohtyp'"
      ]
     },
     "execution_count": 43,
     "metadata": {},
     "output_type": "execute_result"
    }
   ],
   "source": [
    "x=\"python is easy \"\n",
    "x[-3::-1]"
   ]
  },
  {
   "cell_type": "code",
   "execution_count": 44,
   "id": "30199879",
   "metadata": {},
   "outputs": [
    {
     "data": {
      "text/plain": [
       "'ses otp'"
      ]
     },
     "execution_count": 44,
     "metadata": {},
     "output_type": "execute_result"
    }
   ],
   "source": [
    "x=\"python is easy\"\n",
    "x[-2::-2]"
   ]
  },
  {
   "cell_type": "code",
   "execution_count": 46,
   "id": "dea5aabb",
   "metadata": {},
   "outputs": [
    {
     "data": {
      "text/plain": [
       "'HELLO WORD'"
      ]
     },
     "execution_count": 46,
     "metadata": {},
     "output_type": "execute_result"
    }
   ],
   "source": [
    "x=\"hello word\"\n",
    "x.upper()"
   ]
  },
  {
   "cell_type": "code",
   "execution_count": 47,
   "id": "c61d4cd8",
   "metadata": {},
   "outputs": [
    {
     "data": {
      "text/plain": [
       "'KITE IUY'"
      ]
     },
     "execution_count": 47,
     "metadata": {},
     "output_type": "execute_result"
    }
   ],
   "source": [
    "x=\"kite iuy\"\n",
    "x.upper()"
   ]
  },
  {
   "cell_type": "code",
   "execution_count": 48,
   "id": "7dd58361",
   "metadata": {},
   "outputs": [
    {
     "data": {
      "text/plain": [
       "'HELLO WORID'"
      ]
     },
     "execution_count": 48,
     "metadata": {},
     "output_type": "execute_result"
    }
   ],
   "source": [
    "x=\"hello worid\"\n",
    "x.upper()"
   ]
  },
  {
   "cell_type": "code",
   "execution_count": 49,
   "id": "075eb7b0",
   "metadata": {},
   "outputs": [
    {
     "data": {
      "text/plain": [
       "'hello world'"
      ]
     },
     "execution_count": 49,
     "metadata": {},
     "output_type": "execute_result"
    }
   ],
   "source": [
    "x=\"hello world\"\n",
    "x.lower()"
   ]
  },
  {
   "cell_type": "code",
   "execution_count": 50,
   "id": "1ab437ae",
   "metadata": {},
   "outputs": [
    {
     "name": "stdout",
     "output_type": "stream",
     "text": [
      "HELLO WORLD\n",
      "hello world\n"
     ]
    }
   ],
   "source": [
    "z='hello world'\n",
    "print(z.upper())\n",
    "print(z)"
   ]
  },
  {
   "cell_type": "code",
   "execution_count": 52,
   "id": "31a43a1f",
   "metadata": {},
   "outputs": [
    {
     "name": "stdout",
     "output_type": "stream",
     "text": [
      "HELLO WORID\n"
     ]
    }
   ],
   "source": [
    "z=\"hello worid\"\n",
    "print(z.upper())\n"
   ]
  },
  {
   "cell_type": "code",
   "execution_count": 3,
   "id": "273e1052",
   "metadata": {},
   "outputs": [
    {
     "ename": "SyntaxError",
     "evalue": "unterminated string literal (detected at line 2) (2272511478.py, line 2)",
     "output_type": "error",
     "traceback": [
      "\u001b[1;36m  Cell \u001b[1;32mIn[3], line 2\u001b[1;36m\u001b[0m\n\u001b[1;33m    printx.replace(\"L\",'\"z\")\u001b[0m\n\u001b[1;37m                       ^\u001b[0m\n\u001b[1;31mSyntaxError\u001b[0m\u001b[1;31m:\u001b[0m unterminated string literal (detected at line 2)\n"
     ]
    }
   ],
   "source": [
    "x=\"hello world\"\n",
    "printx.replace(\"L\",'\"z\")"
   ]
  },
  {
   "cell_type": "code",
   "execution_count": 59,
   "id": "7268408f",
   "metadata": {},
   "outputs": [
    {
     "data": {
      "text/plain": [
       "'-d-a-t-a-'"
      ]
     },
     "execution_count": 59,
     "metadata": {},
     "output_type": "execute_result"
    }
   ],
   "source": [
    "x=\"data\"\n",
    "x=x.replace(\"\",\"-\")\n",
    "x"
   ]
  },
  {
   "cell_type": "code",
   "execution_count": 57,
   "id": "0ea75839",
   "metadata": {},
   "outputs": [
    {
     "data": {
      "text/plain": [
       "'+h+e+l+l+o+ +w+o+r+l+d+'"
      ]
     },
     "execution_count": 57,
     "metadata": {},
     "output_type": "execute_result"
    }
   ],
   "source": [
    "x=\"hello world\"\n",
    "x=x.replace(\"\",\"+\")\n",
    "x"
   ]
  },
  {
   "cell_type": "code",
   "execution_count": 60,
   "id": "d30e4d13",
   "metadata": {},
   "outputs": [
    {
     "data": {
      "text/plain": [
       "'+m+y+ +b+o+o+k+'"
      ]
     },
     "execution_count": 60,
     "metadata": {},
     "output_type": "execute_result"
    }
   ],
   "source": [
    "d=\"my book\"\n",
    "d=d.replace(\"\",\"+\")\n",
    "d"
   ]
  },
  {
   "cell_type": "code",
   "execution_count": 61,
   "id": "4831bb75",
   "metadata": {},
   "outputs": [
    {
     "data": {
      "text/plain": [
       "'data'"
      ]
     },
     "execution_count": 61,
     "metadata": {},
     "output_type": "execute_result"
    }
   ],
   "source": [
    "x=\"data\"\n",
    "x=x.replace(\"st\",\"tt\")\n",
    "x"
   ]
  },
  {
   "cell_type": "code",
   "execution_count": 66,
   "id": "c5214847",
   "metadata": {},
   "outputs": [
    {
     "data": {
      "text/plain": [
       "'data'"
      ]
     },
     "execution_count": 66,
     "metadata": {},
     "output_type": "execute_result"
    }
   ],
   "source": [
    "x=\"data\"\n",
    "x.replace(\"\",\"data\").upper()\n",
    "x"
   ]
  },
  {
   "cell_type": "code",
   "execution_count": 67,
   "id": "f22e374f",
   "metadata": {},
   "outputs": [
    {
     "name": "stdout",
     "output_type": "stream",
     "text": [
      "hello\n",
      "hi\n",
      "world\n"
     ]
    }
   ],
   "source": [
    "print(\"hello\")\n",
    "print(\"hi\")\n",
    "print(\"world\")"
   ]
  },
  {
   "cell_type": "code",
   "execution_count": 1,
   "id": "22eabf38",
   "metadata": {
    "scrolled": true
   },
   "outputs": [
    {
     "ename": "SyntaxError",
     "evalue": "unmatched ')' (3094536758.py, line 2)",
     "output_type": "error",
     "traceback": [
      "\u001b[1;36m  Cell \u001b[1;32mIn[1], line 2\u001b[1;36m\u001b[0m\n\u001b[1;33m    x-aj.count(a)aj)\u001b[0m\n\u001b[1;37m                   ^\u001b[0m\n\u001b[1;31mSyntaxError\u001b[0m\u001b[1;31m:\u001b[0m unmatched ')'\n"
     ]
    }
   ],
   "source": [
    "aj=\"q.what is string\"\n",
    "x-aj.count(a)aj)"
   ]
  },
  {
   "cell_type": "code",
   "execution_count": 70,
   "id": "3f03dca3",
   "metadata": {},
   "outputs": [
    {
     "data": {
      "text/plain": [
       "'fustdertij'"
      ]
     },
     "execution_count": 70,
     "metadata": {},
     "output_type": "execute_result"
    }
   ],
   "source": [
    "x=\"fustdertij\"\n",
    "g=x.count(\"T\")\n",
    "x"
   ]
  },
  {
   "cell_type": "code",
   "execution_count": null,
   "id": "923b48f1",
   "metadata": {},
   "outputs": [],
   "source": []
  }
 ],
 "metadata": {
  "kernelspec": {
   "display_name": "Python 3 (ipykernel)",
   "language": "python",
   "name": "python3"
  },
  "language_info": {
   "codemirror_mode": {
    "name": "ipython",
    "version": 3
   },
   "file_extension": ".py",
   "mimetype": "text/x-python",
   "name": "python",
   "nbconvert_exporter": "python",
   "pygments_lexer": "ipython3",
   "version": "3.10.9"
  }
 },
 "nbformat": 4,
 "nbformat_minor": 5
}
