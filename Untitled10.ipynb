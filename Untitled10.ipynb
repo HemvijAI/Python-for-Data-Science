{
 "cells": [
  {
   "cell_type": "code",
   "execution_count": 3,
   "id": "1aef6753",
   "metadata": {},
   "outputs": [
    {
     "ename": "NameError",
     "evalue": "name 'x' is not defined",
     "output_type": "error",
     "traceback": [
      "\u001b[1;31m---------------------------------------------------------------------------\u001b[0m",
      "\u001b[1;31mNameError\u001b[0m                                 Traceback (most recent call last)",
      "Cell \u001b[1;32mIn[3], line 1\u001b[0m\n\u001b[1;32m----> 1\u001b[0m \u001b[43mx\u001b[49m\u001b[38;5;241m==\u001b[39m\u001b[38;5;124m\"\u001b[39m\u001b[38;5;124mmy name\u001b[39m\u001b[38;5;124m\"\u001b[39m\n\u001b[0;32m      2\u001b[0m \u001b[38;5;28mlen\u001b[39m(x)\n",
      "\u001b[1;31mNameError\u001b[0m: name 'x' is not defined"
     ]
    }
   ],
   "source": [
    "x==\"my name\"\n",
    "len(x)"
   ]
  },
  {
   "cell_type": "code",
   "execution_count": 5,
   "id": "fb6e705a",
   "metadata": {},
   "outputs": [
    {
     "name": "stdout",
     "output_type": "stream",
     "text": [
      "ri\n"
     ]
    }
   ],
   "source": [
    "x=\"priyanshu neci\"\n",
    "print(x[1:3])"
   ]
  },
  {
   "cell_type": "code",
   "execution_count": 6,
   "id": "9d5820a7",
   "metadata": {},
   "outputs": [
    {
     "name": "stdout",
     "output_type": "stream",
     "text": [
      "priyanshu\n",
      " negi\n"
     ]
    }
   ],
   "source": [
    "x=\"priyanshu\\n negi\"\n",
    "print(x)\n"
   ]
  },
  {
   "cell_type": "code",
   "execution_count": 7,
   "id": "ac0848fd",
   "metadata": {},
   "outputs": [],
   "source": [
    "#arithmatic oprator+,-,/ /**$"
   ]
  },
  {
   "cell_type": "raw",
   "id": "778ad2d5",
   "metadata": {},
   "source": [
    "\n",
    "\n",
    "x=6\n",
    "y=10\n",
    "print(x=y)\n"
   ]
  },
  {
   "cell_type": "code",
   "execution_count": 12,
   "id": "2fcabe65",
   "metadata": {},
   "outputs": [
    {
     "name": "stdout",
     "output_type": "stream",
     "text": [
      "False\n"
     ]
    }
   ],
   "source": [
    "x=8\n",
    "y=8\n",
    "print(y<x)"
   ]
  },
  {
   "cell_type": "code",
   "execution_count": 10,
   "id": "7c0a20af",
   "metadata": {},
   "outputs": [
    {
     "name": "stdout",
     "output_type": "stream",
     "text": [
      "False\n"
     ]
    }
   ],
   "source": [
    "x=5\n",
    "y=9\n",
    "print(x==y)"
   ]
  },
  {
   "cell_type": "code",
   "execution_count": 19,
   "id": "8ec0fccb",
   "metadata": {},
   "outputs": [
    {
     "name": "stdout",
     "output_type": "stream",
     "text": [
      "False\n"
     ]
    }
   ],
   "source": [
    "x=13\n",
    "y=14\n",
    "print(x>y and x==y)"
   ]
  },
  {
   "cell_type": "code",
   "execution_count": 20,
   "id": "bedea578",
   "metadata": {},
   "outputs": [
    {
     "name": "stdout",
     "output_type": "stream",
     "text": [
      "False\n"
     ]
    }
   ],
   "source": [
    "x=7\n",
    "y=8\n",
    "print(y<x or y==x)"
   ]
  },
  {
   "cell_type": "code",
   "execution_count": 24,
   "id": "dde2c648",
   "metadata": {},
   "outputs": [
    {
     "name": "stdout",
     "output_type": "stream",
     "text": [
      "True\n"
     ]
    }
   ],
   "source": [
    "x=7\n",
    "y=9\n",
    "print( not y==x)\n"
   ]
  },
  {
   "cell_type": "code",
   "execution_count": 27,
   "id": "dadd8fd2",
   "metadata": {},
   "outputs": [
    {
     "ename": "SyntaxError",
     "evalue": "invalid syntax (2957152710.py, line 3)",
     "output_type": "error",
     "traceback": [
      "\u001b[1;36m  Cell \u001b[1;32mIn[27], line 3\u001b[1;36m\u001b[0m\n\u001b[1;33m    x<15 or x==y andy>x.\u001b[0m\n\u001b[1;37m                 ^\u001b[0m\n\u001b[1;31mSyntaxError\u001b[0m\u001b[1;31m:\u001b[0m invalid syntax\n"
     ]
    }
   ],
   "source": [
    "x=13\n",
    "y=14\n",
    "x<15 or x==y andy>x"
   ]
  },
  {
   "cell_type": "code",
   "execution_count": 26,
   "id": "ffe1fde2",
   "metadata": {},
   "outputs": [
    {
     "name": "stdout",
     "output_type": "stream",
     "text": [
      "True\n"
     ]
    }
   ],
   "source": [
    "x=54\n",
    "y=56\n",
    "print(not y==x)\n",
    "     "
   ]
  },
  {
   "cell_type": "code",
   "execution_count": null,
   "id": "c695320e",
   "metadata": {},
   "outputs": [],
   "source": []
  }
 ],
 "metadata": {
  "kernelspec": {
   "display_name": "Python 3 (ipykernel)",
   "language": "python",
   "name": "python3"
  },
  "language_info": {
   "codemirror_mode": {
    "name": "ipython",
    "version": 3
   },
   "file_extension": ".py",
   "mimetype": "text/x-python",
   "name": "python",
   "nbconvert_exporter": "python",
   "pygments_lexer": "ipython3",
   "version": "3.10.9"
  }
 },
 "nbformat": 4,
 "nbformat_minor": 5
}
