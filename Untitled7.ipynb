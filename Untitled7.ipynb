{
 "cells": [
  {
   "cell_type": "code",
   "execution_count": 1,
   "id": "ab3ff2c2",
   "metadata": {},
   "outputs": [
    {
     "ename": "SyntaxError",
     "evalue": "invalid decimal literal (2514984848.py, line 1)",
     "output_type": "error",
     "traceback": [
      "\u001b[1;36m  Cell \u001b[1;32mIn[1], line 1\u001b[1;36m\u001b[0m\n\u001b[1;33m    a,b,c,d=9.2,2.o,4,21\u001b[0m\n\u001b[1;37m                 ^\u001b[0m\n\u001b[1;31mSyntaxError\u001b[0m\u001b[1;31m:\u001b[0m invalid decimal literal\n"
     ]
    }
   ],
   "source": [
    "a,b,c,d=9.2,2.o,4,21\n",
    "print(a/4)\n",
    "print(a//4)\n",
    "print(b**c)\n",
    "print(d//b)\n",
    "print(a%c)"
   ]
  },
  {
   "cell_type": "code",
   "execution_count": 8,
   "id": "229cd10b",
   "metadata": {},
   "outputs": [
    {
     "name": "stdout",
     "output_type": "stream",
     "text": [
      "3*3**3\n"
     ]
    }
   ],
   "source": [
    "nw=\"3*3**3\"\n",
    "print (nw)\n"
   ]
  },
  {
   "cell_type": "code",
   "execution_count": 10,
   "id": "588f8ebb",
   "metadata": {},
   "outputs": [
    {
     "name": "stdout",
     "output_type": "stream",
     "text": [
      "a\n"
     ]
    }
   ],
   "source": [
    "a=\"iam a data sci\"\n",
    "print(a[4])"
   ]
  },
  {
   "cell_type": "code",
   "execution_count": 11,
   "id": "c97d3c07",
   "metadata": {},
   "outputs": [
    {
     "name": "stdout",
     "output_type": "stream",
     "text": [
      "m a data s\n"
     ]
    }
   ],
   "source": [
    "a=\"i am a data sci\"\n",
    "print(a[3:-2])"
   ]
  },
  {
   "cell_type": "code",
   "execution_count": 15,
   "id": "74e7d779",
   "metadata": {},
   "outputs": [
    {
     "name": "stdout",
     "output_type": "stream",
     "text": [
      "a\n"
     ]
    }
   ],
   "source": [
    "x=\"iamaboy\"\n",
    "print(x[3])"
   ]
  },
  {
   "cell_type": "code",
   "execution_count": 16,
   "id": "aaefe3ba",
   "metadata": {},
   "outputs": [
    {
     "name": "stdout",
     "output_type": "stream",
     "text": [
      "s\n"
     ]
    }
   ],
   "source": [
    "x=\"hello world my name isgo\"\n",
    "print(x[-3])"
   ]
  },
  {
   "cell_type": "code",
   "execution_count": 17,
   "id": "eb20c592",
   "metadata": {},
   "outputs": [
    {
     "ename": "NameError",
     "evalue": "name 'slicing' is not defined",
     "output_type": "error",
     "traceback": [
      "\u001b[1;31m---------------------------------------------------------------------------\u001b[0m",
      "\u001b[1;31mNameError\u001b[0m                                 Traceback (most recent call last)",
      "Cell \u001b[1;32mIn[17], line 1\u001b[0m\n\u001b[1;32m----> 1\u001b[0m \u001b[43mslicing\u001b[49m   \n\u001b[0;32m      2\u001b[0m x\u001b[38;5;241m=\u001b[39m\u001b[38;5;124m\"\u001b[39m\u001b[38;5;124mmy name isras\u001b[39m\u001b[38;5;124m\"\u001b[39m\n\u001b[0;32m      3\u001b[0m x[\u001b[38;5;241m0\u001b[39m:\u001b[38;5;241m3\u001b[39m]\n",
      "\u001b[1;31mNameError\u001b[0m: name 'slicing' is not defined"
     ]
    }
   ],
   "source": [
    "slicing   \n",
    "x=\"my name is ras\"\n",
    "x[0:3]"
   ]
  },
  {
   "cell_type": "code",
   "execution_count": 25,
   "id": "148b64d1",
   "metadata": {},
   "outputs": [
    {
     "ename": "SyntaxError",
     "evalue": "invalid syntax (3055671226.py, line 2)",
     "output_type": "error",
     "traceback": [
      "\u001b[1;36m  Cell \u001b[1;32mIn[25], line 2\u001b[1;36m\u001b[0m\n\u001b[1;33m    print([:])\u001b[0m\n\u001b[1;37m           ^\u001b[0m\n\u001b[1;31mSyntaxError\u001b[0m\u001b[1;31m:\u001b[0m invalid syntax\n"
     ]
    }
   ],
   "source": [
    "    example\n",
    "    print([:])"
   ]
  },
  {
   "cell_type": "code",
   "execution_count": 26,
   "id": "614048e9",
   "metadata": {},
   "outputs": [
    {
     "data": {
      "text/plain": [
       "'s eas'"
      ]
     },
     "execution_count": 26,
     "metadata": {},
     "output_type": "execute_result"
    }
   ],
   "source": [
    "y=\"python is easy\"\n",
    "y[-6:-1]\n"
   ]
  },
  {
   "cell_type": "code",
   "execution_count": null,
   "id": "4ce5a64c",
   "metadata": {},
   "outputs": [],
   "source": []
  },
  {
   "cell_type": "code",
   "execution_count": null,
   "id": "d1b279da",
   "metadata": {},
   "outputs": [],
   "source": []
  },
  {
   "cell_type": "code",
   "execution_count": 27,
   "id": "5d9bb739",
   "metadata": {
    "scrolled": true
   },
   "outputs": [
    {
     "data": {
      "text/plain": [
       "''"
      ]
     },
     "execution_count": 27,
     "metadata": {},
     "output_type": "execute_result"
    }
   ],
   "source": [
    "y=\"python is easy\"\n",
    "y[-2:0]"
   ]
  },
  {
   "cell_type": "code",
   "execution_count": 28,
   "id": "7b82e1d2",
   "metadata": {},
   "outputs": [
    {
     "data": {
      "text/plain": [
       "' d'"
      ]
     },
     "execution_count": 28,
     "metadata": {},
     "output_type": "execute_result"
    }
   ],
   "source": [
    "y=\"my name is du\"\n",
    "y[-3:-1]"
   ]
  },
  {
   "cell_type": "code",
   "execution_count": 29,
   "id": "5d963aff",
   "metadata": {},
   "outputs": [
    {
     "data": {
      "text/plain": [
       "True"
      ]
     },
     "execution_count": 29,
     "metadata": {},
     "output_type": "execute_result"
    }
   ],
   "source": [
    "#.endwith\n",
    "x=\"hello world\"\n",
    "x.endswith(\"world\")"
   ]
  },
  {
   "cell_type": "code",
   "execution_count": 31,
   "id": "d9500411",
   "metadata": {},
   "outputs": [
    {
     "data": {
      "text/plain": [
       "True"
      ]
     },
     "execution_count": 31,
     "metadata": {},
     "output_type": "execute_result"
    }
   ],
   "source": [
    "#.endwith()\n",
    "x=\"hello word\"\n",
    "x.endswith(\"d\")"
   ]
  },
  {
   "cell_type": "code",
   "execution_count": 32,
   "id": "e093d3df",
   "metadata": {},
   "outputs": [
    {
     "data": {
      "text/plain": [
       "False"
      ]
     },
     "execution_count": 32,
     "metadata": {},
     "output_type": "execute_result"
    }
   ],
   "source": [
    "#'endwith()\n",
    "x=\"hello world\"\n",
    "x.endswith(\"h\")"
   ]
  },
  {
   "cell_type": "code",
   "execution_count": 33,
   "id": "3c5e8e8b",
   "metadata": {},
   "outputs": [
    {
     "data": {
      "text/plain": [
       "['hello ', 'orld']"
      ]
     },
     "execution_count": 33,
     "metadata": {},
     "output_type": "execute_result"
    }
   ],
   "source": [
    "#.split()\n",
    "x=\"hello world\"\n",
    "x.split(\"w\")"
   ]
  },
  {
   "cell_type": "code",
   "execution_count": 34,
   "id": "1e5473d1",
   "metadata": {},
   "outputs": [
    {
     "data": {
      "text/plain": [
       "['sun is ', 'ot']"
      ]
     },
     "execution_count": 34,
     "metadata": {},
     "output_type": "execute_result"
    }
   ],
   "source": [
    "#split()\n",
    "x=\"sun is hot\"\n",
    "x.split(\"h\")"
   ]
  },
  {
   "cell_type": "code",
   "execution_count": 35,
   "id": "8ae1f8e5",
   "metadata": {},
   "outputs": [
    {
     "data": {
      "text/plain": [
       "['my villa', 'e']"
      ]
     },
     "execution_count": 35,
     "metadata": {},
     "output_type": "execute_result"
    }
   ],
   "source": [
    "#split()\n",
    "x=\"my village\"\n",
    "x.split(\"g\")"
   ]
  },
  {
   "cell_type": "code",
   "execution_count": 37,
   "id": "ba4affd5",
   "metadata": {},
   "outputs": [
    {
     "data": {
      "text/plain": [
       "['potato', 'tomato', 'salt', 'spice']"
      ]
     },
     "execution_count": 37,
     "metadata": {},
     "output_type": "execute_result"
    }
   ],
   "source": [
    "veg=\"potato,tomato,salt,spice\"\n",
    "veg.split(\",\")\n"
   ]
  },
  {
   "cell_type": "code",
   "execution_count": null,
   "id": "6dab0477",
   "metadata": {},
   "outputs": [],
   "source": []
  }
 ],
 "metadata": {
  "kernelspec": {
   "display_name": "Python 3 (ipykernel)",
   "language": "python",
   "name": "python3"
  },
  "language_info": {
   "codemirror_mode": {
    "name": "ipython",
    "version": 3
   },
   "file_extension": ".py",
   "mimetype": "text/x-python",
   "name": "python",
   "nbconvert_exporter": "python",
   "pygments_lexer": "ipython3",
   "version": "3.10.9"
  }
 },
 "nbformat": 4,
 "nbformat_minor": 5
}
