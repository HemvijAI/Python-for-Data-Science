{
 "cells": [
  {
   "cell_type": "markdown",
   "id": "4dafb817",
   "metadata": {},
   "source": [
    "# SETS IN PYTHON"
   ]
  },
  {
   "cell_type": "code",
   "execution_count": 26,
   "id": "40fb4927",
   "metadata": {},
   "outputs": [
    {
     "name": "stdout",
     "output_type": "stream",
     "text": [
      "{1, 2, 3, 4, 5, 6, 67, 'suryansh'}\n",
      "2372396563840\n"
     ]
    }
   ],
   "source": [
    "set_a={1,2,3,4,5,6,67,'suryansh'}\n",
    "print(set)\n",
    "print(id(set))"
   ]
  },
  {
   "cell_type": "code",
   "execution_count": 27,
   "id": "e8b0e3de",
   "metadata": {},
   "outputs": [
    {
     "ename": "TypeError",
     "evalue": "unhashable type: 'list'",
     "output_type": "error",
     "traceback": [
      "\u001b[1;31m---------------------------------------------------------------------------\u001b[0m",
      "\u001b[1;31mTypeError\u001b[0m                                 Traceback (most recent call last)",
      "Cell \u001b[1;32mIn[27], line 1\u001b[0m\n\u001b[1;32m----> 1\u001b[0m set_a\u001b[38;5;241m=\u001b[39m{\u001b[38;5;241m1\u001b[39m,\u001b[38;5;241m2\u001b[39m,\u001b[38;5;241m3\u001b[39m,\u001b[38;5;241m4\u001b[39m,\u001b[38;5;241m5\u001b[39m,\u001b[38;5;241m6\u001b[39m,\u001b[38;5;241m67\u001b[39m,\u001b[38;5;124m'\u001b[39m\u001b[38;5;124msuryansh\u001b[39m\u001b[38;5;124m'\u001b[39m,[\u001b[38;5;241m123242\u001b[39m]}  \u001b[38;5;66;03m#as set items are immutable.\u001b[39;00m\n\u001b[0;32m      2\u001b[0m \u001b[38;5;28mprint\u001b[39m(\u001b[38;5;28mset\u001b[39m)\n",
      "\u001b[1;31mTypeError\u001b[0m: unhashable type: 'list'"
     ]
    }
   ],
   "source": [
    "set_a={1,2,3,4,5,6,67,'suryansh',[123242]}  #as set items are immutable.\n",
    "print(set)\n"
   ]
  },
  {
   "cell_type": "code",
   "execution_count": 28,
   "id": "50b5dadb",
   "metadata": {},
   "outputs": [
    {
     "ename": "TypeError",
     "evalue": "unhashable type: 'set'",
     "output_type": "error",
     "traceback": [
      "\u001b[1;31m---------------------------------------------------------------------------\u001b[0m",
      "\u001b[1;31mTypeError\u001b[0m                                 Traceback (most recent call last)",
      "Cell \u001b[1;32mIn[28], line 1\u001b[0m\n\u001b[1;32m----> 1\u001b[0m set_a\u001b[38;5;241m=\u001b[39m{\u001b[38;5;241m1\u001b[39m,\u001b[38;5;241m2\u001b[39m,\u001b[38;5;241m3\u001b[39m,\u001b[38;5;241m4\u001b[39m,\u001b[38;5;241m5\u001b[39m,\u001b[38;5;241m6\u001b[39m,\u001b[38;5;241m67\u001b[39m,\u001b[38;5;124m'\u001b[39m\u001b[38;5;124msuryansh\u001b[39m\u001b[38;5;124m'\u001b[39m,{\u001b[38;5;241m1\u001b[39m,\u001b[38;5;241m2\u001b[39m,\u001b[38;5;241m23\u001b[39m,\u001b[38;5;241m31\u001b[39m}}\n\u001b[0;32m      2\u001b[0m \u001b[38;5;28mprint\u001b[39m(\u001b[38;5;28mset\u001b[39m)\n\u001b[0;32m      3\u001b[0m \u001b[38;5;28mprint\u001b[39m(\u001b[38;5;28mid\u001b[39m(\u001b[38;5;28mset\u001b[39m))\n",
      "\u001b[1;31mTypeError\u001b[0m: unhashable type: 'set'"
     ]
    }
   ],
   "source": [
    "set_a={1,2,3,4,5,6,67,'suryansh',{1,2,23,31}}\n",
    "print(set)\n",
    "print(id(set))"
   ]
  },
  {
   "cell_type": "code",
   "execution_count": 38,
   "id": "6e4ad071",
   "metadata": {},
   "outputs": [
    {
     "name": "stdout",
     "output_type": "stream",
     "text": [
      "[{1, 2, 3, 4, 5, 6, 67, 'suryansh'}, {1, 2, 3, 4, 5, 6, 7, 8}]\n"
     ]
    }
   ],
   "source": [
    "list=[set,{1,2,3,4,5,6,7,8,5}]\n",
    "print(list)"
   ]
  },
  {
   "cell_type": "markdown",
   "id": "b00c44c9",
   "metadata": {},
   "source": [
    "#### characterstics of a set\n",
    "\n",
    "- unordered\n",
    "- unchangable- set items must be immutable\n",
    "- unique."
   ]
  },
  {
   "cell_type": "code",
   "execution_count": 39,
   "id": "5af47925",
   "metadata": {},
   "outputs": [
    {
     "ename": "AttributeError",
     "evalue": "'set' object has no attribute 'append'",
     "output_type": "error",
     "traceback": [
      "\u001b[1;31m---------------------------------------------------------------------------\u001b[0m",
      "\u001b[1;31mAttributeError\u001b[0m                            Traceback (most recent call last)",
      "Cell \u001b[1;32mIn[39], line 2\u001b[0m\n\u001b[0;32m      1\u001b[0m set_a\u001b[38;5;241m=\u001b[39m{\u001b[38;5;241m1\u001b[39m,\u001b[38;5;241m2\u001b[39m,\u001b[38;5;241m3\u001b[39m,\u001b[38;5;241m4\u001b[39m,\u001b[38;5;241m5\u001b[39m,\u001b[38;5;241m7\u001b[39m,\u001b[38;5;241m8\u001b[39m,\u001b[38;5;241m8\u001b[39m}\n\u001b[1;32m----> 2\u001b[0m \u001b[43mset_a\u001b[49m\u001b[38;5;241;43m.\u001b[39;49m\u001b[43mappend\u001b[49m(\u001b[38;5;241m22\u001b[39m,\u001b[38;5;241m44\u001b[39m)\n",
      "\u001b[1;31mAttributeError\u001b[0m: 'set' object has no attribute 'append'"
     ]
    }
   ],
   "source": [
    "set_a={1,2,3,4,5,7,8,8}\n",
    "set_a.append(22,44)"
   ]
  },
  {
   "cell_type": "code",
   "execution_count": 40,
   "id": "c8cd1282",
   "metadata": {},
   "outputs": [
    {
     "ename": "AttributeError",
     "evalue": "'set' object has no attribute 'extend'",
     "output_type": "error",
     "traceback": [
      "\u001b[1;31m---------------------------------------------------------------------------\u001b[0m",
      "\u001b[1;31mAttributeError\u001b[0m                            Traceback (most recent call last)",
      "Cell \u001b[1;32mIn[40], line 2\u001b[0m\n\u001b[0;32m      1\u001b[0m set_a\u001b[38;5;241m=\u001b[39m{\u001b[38;5;241m1\u001b[39m,\u001b[38;5;241m2\u001b[39m,\u001b[38;5;241m3\u001b[39m,\u001b[38;5;241m4\u001b[39m,\u001b[38;5;241m5\u001b[39m,\u001b[38;5;241m7\u001b[39m,\u001b[38;5;241m8\u001b[39m,\u001b[38;5;241m8\u001b[39m}\n\u001b[1;32m----> 2\u001b[0m \u001b[43mset_a\u001b[49m\u001b[38;5;241;43m.\u001b[39;49m\u001b[43mextend\u001b[49m(\u001b[38;5;241m22\u001b[39m,\u001b[38;5;241m44\u001b[39m)\n",
      "\u001b[1;31mAttributeError\u001b[0m: 'set' object has no attribute 'extend'"
     ]
    }
   ],
   "source": [
    "set_a={1,2,3,4,5,7,8,8}\n",
    "set_a.extend(22,44)"
   ]
  },
  {
   "cell_type": "code",
   "execution_count": 42,
   "id": "456a3148",
   "metadata": {},
   "outputs": [
    {
     "name": "stdout",
     "output_type": "stream",
     "text": [
      "{1, 2, 3, 4, 7, 8}\n"
     ]
    }
   ],
   "source": [
    "set_a={1,2,3,4,5,7,8,8}\n",
    "set_a.remove(5)\n",
    "print(set_a)"
   ]
  },
  {
   "cell_type": "code",
   "execution_count": 48,
   "id": "375f45d6",
   "metadata": {},
   "outputs": [
    {
     "data": {
      "text/plain": [
       "2"
      ]
     },
     "execution_count": 48,
     "metadata": {},
     "output_type": "execute_result"
    }
   ],
   "source": [
    "set_a={2,3,4,5,7,8,8}\n",
    "set_a.pop()"
   ]
  },
  {
   "cell_type": "code",
   "execution_count": 53,
   "id": "59ebf9ad",
   "metadata": {
    "scrolled": false
   },
   "outputs": [
    {
     "ename": "NameError",
     "evalue": "name 'set_a' is not defined",
     "output_type": "error",
     "traceback": [
      "\u001b[1;31m---------------------------------------------------------------------------\u001b[0m",
      "\u001b[1;31mNameError\u001b[0m                                 Traceback (most recent call last)",
      "Cell \u001b[1;32mIn[53], line 3\u001b[0m\n\u001b[0;32m      1\u001b[0m set_a\u001b[38;5;241m=\u001b[39m{\u001b[38;5;241m1\u001b[39m,\u001b[38;5;241m2\u001b[39m,\u001b[38;5;241m3\u001b[39m,\u001b[38;5;241m4\u001b[39m,\u001b[38;5;241m5\u001b[39m,\u001b[38;5;241m7\u001b[39m,\u001b[38;5;241m8\u001b[39m,\u001b[38;5;241m8\u001b[39m}\n\u001b[0;32m      2\u001b[0m \u001b[38;5;28;01mdel\u001b[39;00m set_a\n\u001b[1;32m----> 3\u001b[0m \u001b[38;5;28mprint\u001b[39m({\u001b[43mset_a\u001b[49m})\n",
      "\u001b[1;31mNameError\u001b[0m: name 'set_a' is not defined"
     ]
    }
   ],
   "source": [
    "set_a={1,2,3,4,5,7,8,8}\n",
    "del set_a\n",
    "print({set_a})"
   ]
  },
  {
   "cell_type": "code",
   "execution_count": 59,
   "id": "4d137ff3",
   "metadata": {},
   "outputs": [
    {
     "ename": "SyntaxError",
     "evalue": "invalid syntax (1542661311.py, line 2)",
     "output_type": "error",
     "traceback": [
      "\u001b[1;36m  Cell \u001b[1;32mIn[59], line 2\u001b[1;36m\u001b[0m\n\u001b[1;33m    print(del set_a())\u001b[0m\n\u001b[1;37m          ^\u001b[0m\n\u001b[1;31mSyntaxError\u001b[0m\u001b[1;31m:\u001b[0m invalid syntax\n"
     ]
    }
   ],
   "source": [
    "set_a={1,2,3,4,5,7,8,8}\n",
    "print(del set_a())\n"
   ]
  },
  {
   "cell_type": "markdown",
   "id": "4706f314",
   "metadata": {},
   "source": [
    "# adding items to a set"
   ]
  },
  {
   "cell_type": "markdown",
   "id": "58f6ef35",
   "metadata": {},
   "source": [
    "with help of add() method"
   ]
  },
  {
   "cell_type": "code",
   "execution_count": 5,
   "id": "61521d69",
   "metadata": {},
   "outputs": [
    {
     "name": "stdout",
     "output_type": "stream",
     "text": [
      "{'jaguar', 'lion', 'puma', 'cheetah', 'tiger'}\n"
     ]
    }
   ],
   "source": [
    "set_animals={'lion','tiger','cheetah','puma'}\n",
    "set_animals.add('jaguar')\n",
    "print(set_animals)"
   ]
  },
  {
   "cell_type": "code",
   "execution_count": 15,
   "id": "56260209",
   "metadata": {},
   "outputs": [
    {
     "name": "stdout",
     "output_type": "stream",
     "text": [
      "{1, 'lion', 'puma', 'cheetah', 'tiger'}\n"
     ]
    }
   ],
   "source": [
    "set_animals={'lion','tiger','cheetah','puma'}\n",
    "set_animals.add(1)\n",
    "print(set_animals)"
   ]
  },
  {
   "cell_type": "code",
   "execution_count": 17,
   "id": "ad7a64cb",
   "metadata": {},
   "outputs": [
    {
     "name": "stdout",
     "output_type": "stream",
     "text": [
      "{'lion', 'puma', 11111, 'cheetah', 'tiger'}\n"
     ]
    }
   ],
   "source": [
    "set_animals={'lion','tiger','cheetah','puma'}\n",
    "set_animals.add(11111)\n",
    "print(set_animals)"
   ]
  },
  {
   "cell_type": "code",
   "execution_count": 18,
   "id": "1066c87b",
   "metadata": {},
   "outputs": [
    {
     "name": "stdout",
     "output_type": "stream",
     "text": [
      "{'lion', 'puma', '11111', 'cheetah', 'tiger'}\n"
     ]
    }
   ],
   "source": [
    "set_animals={'lion','tiger','cheetah','puma'}\n",
    "set_animals.add('11111')\n",
    "print(set_animals)"
   ]
  },
  {
   "cell_type": "code",
   "execution_count": 19,
   "id": "6ee19475",
   "metadata": {},
   "outputs": [
    {
     "ename": "TypeError",
     "evalue": "unhashable type: 'set'",
     "output_type": "error",
     "traceback": [
      "\u001b[1;31m---------------------------------------------------------------------------\u001b[0m",
      "\u001b[1;31mTypeError\u001b[0m                                 Traceback (most recent call last)",
      "Cell \u001b[1;32mIn[19], line 2\u001b[0m\n\u001b[0;32m      1\u001b[0m set_animals\u001b[38;5;241m=\u001b[39m{\u001b[38;5;124m'\u001b[39m\u001b[38;5;124mlion\u001b[39m\u001b[38;5;124m'\u001b[39m,\u001b[38;5;124m'\u001b[39m\u001b[38;5;124mtiger\u001b[39m\u001b[38;5;124m'\u001b[39m,\u001b[38;5;124m'\u001b[39m\u001b[38;5;124mcheetah\u001b[39m\u001b[38;5;124m'\u001b[39m,\u001b[38;5;124m'\u001b[39m\u001b[38;5;124mpuma\u001b[39m\u001b[38;5;124m'\u001b[39m}\n\u001b[1;32m----> 2\u001b[0m \u001b[43mset_animals\u001b[49m\u001b[38;5;241;43m.\u001b[39;49m\u001b[43madd\u001b[49m\u001b[43m(\u001b[49m\u001b[43m{\u001b[49m\u001b[38;5;124;43m'\u001b[39;49m\u001b[38;5;124;43m11111\u001b[39;49m\u001b[38;5;124;43m'\u001b[39;49m\u001b[43m}\u001b[49m\u001b[43m)\u001b[49m\n\u001b[0;32m      3\u001b[0m \u001b[38;5;28mprint\u001b[39m(set_animals)\n",
      "\u001b[1;31mTypeError\u001b[0m: unhashable type: 'set'"
     ]
    }
   ],
   "source": [
    "set_animals={'lion','tiger','cheetah','puma'}\n",
    "set_animals.add({'11111'})\n",
    "print(set_animals)"
   ]
  },
  {
   "cell_type": "code",
   "execution_count": 16,
   "id": "19790719",
   "metadata": {},
   "outputs": [
    {
     "name": "stdout",
     "output_type": "stream",
     "text": [
      "{'lion', 'puma', 'cheetah', '1', 'tiger'}\n"
     ]
    }
   ],
   "source": [
    "set_animals={'lion','tiger','cheetah','puma'}\n",
    "set_animals.add('1')\n",
    "print(set_animals)"
   ]
  },
  {
   "cell_type": "code",
   "execution_count": null,
   "id": "f83c4612",
   "metadata": {},
   "outputs": [],
   "source": []
  },
  {
   "cell_type": "code",
   "execution_count": 6,
   "id": "9bd8f49d",
   "metadata": {},
   "outputs": [
    {
     "ename": "TypeError",
     "evalue": "set.add() takes exactly one argument (2 given)",
     "output_type": "error",
     "traceback": [
      "\u001b[1;31m---------------------------------------------------------------------------\u001b[0m",
      "\u001b[1;31mTypeError\u001b[0m                                 Traceback (most recent call last)",
      "Cell \u001b[1;32mIn[6], line 2\u001b[0m\n\u001b[0;32m      1\u001b[0m set_animals\u001b[38;5;241m=\u001b[39m{\u001b[38;5;124m'\u001b[39m\u001b[38;5;124mlion\u001b[39m\u001b[38;5;124m'\u001b[39m,\u001b[38;5;124m'\u001b[39m\u001b[38;5;124mtiger\u001b[39m\u001b[38;5;124m'\u001b[39m,\u001b[38;5;124m'\u001b[39m\u001b[38;5;124mcheetah\u001b[39m\u001b[38;5;124m'\u001b[39m,\u001b[38;5;124m'\u001b[39m\u001b[38;5;124mpuma\u001b[39m\u001b[38;5;124m'\u001b[39m}\n\u001b[1;32m----> 2\u001b[0m \u001b[43mset_animals\u001b[49m\u001b[38;5;241;43m.\u001b[39;49m\u001b[43madd\u001b[49m\u001b[43m(\u001b[49m\u001b[38;5;124;43m'\u001b[39;49m\u001b[38;5;124;43mjaguar\u001b[39;49m\u001b[38;5;124;43m'\u001b[39;49m\u001b[43m,\u001b[49m\u001b[38;5;124;43m'\u001b[39;49m\u001b[38;5;124;43mavas\u001b[39;49m\u001b[38;5;124;43m'\u001b[39;49m\u001b[43m)\u001b[49m\n\u001b[0;32m      3\u001b[0m \u001b[38;5;28mprint\u001b[39m(set_animals)\n",
      "\u001b[1;31mTypeError\u001b[0m: set.add() takes exactly one argument (2 given)"
     ]
    }
   ],
   "source": [
    "set_animals={'lion','tiger','cheetah','puma'}\n",
    "set_animals.add('jaguar','avas')\n",
    "print(set_animals)"
   ]
  },
  {
   "cell_type": "code",
   "execution_count": 8,
   "id": "f04e0689",
   "metadata": {},
   "outputs": [
    {
     "name": "stdout",
     "output_type": "stream",
     "text": [
      "{'jaguar', 'lion', 'puma', 'cheetah', 'tiger'}\n"
     ]
    }
   ],
   "source": [
    "set_animals={'lion','tiger','cheetah','puma'}\n",
    "set_animals.add((('jaguar')))\n",
    "print(set_animals)"
   ]
  },
  {
   "cell_type": "code",
   "execution_count": 2,
   "id": "fb90111b",
   "metadata": {},
   "outputs": [
    {
     "ename": "TypeError",
     "evalue": "unhashable type: 'set'",
     "output_type": "error",
     "traceback": [
      "\u001b[1;31m---------------------------------------------------------------------------\u001b[0m",
      "\u001b[1;31mTypeError\u001b[0m                                 Traceback (most recent call last)",
      "Cell \u001b[1;32mIn[2], line 2\u001b[0m\n\u001b[0;32m      1\u001b[0m set_other_animals\u001b[38;5;241m=\u001b[39m{\u001b[38;5;124m'\u001b[39m\u001b[38;5;124mhyena\u001b[39m\u001b[38;5;124m'\u001b[39m,\u001b[38;5;124m'\u001b[39m\u001b[38;5;124melephant\u001b[39m\u001b[38;5;124m'\u001b[39m,\u001b[38;5;124m'\u001b[39m\u001b[38;5;124mdeer\u001b[39m\u001b[38;5;124m'\u001b[39m}\n\u001b[1;32m----> 2\u001b[0m \u001b[43mset_animals\u001b[49m\u001b[38;5;241;43m.\u001b[39;49m\u001b[43madd\u001b[49m\u001b[43m(\u001b[49m\u001b[43mset_other_animals\u001b[49m\u001b[43m)\u001b[49m\n\u001b[0;32m      3\u001b[0m \u001b[38;5;28mprint\u001b[39m(set_animals)\n",
      "\u001b[1;31mTypeError\u001b[0m: unhashable type: 'set'"
     ]
    }
   ],
   "source": [
    "set_other_animals={'hyena','elephant','deer'}\n",
    "set_animals.add(set_other_animals)\n",
    "print(set_animals)"
   ]
  },
  {
   "cell_type": "code",
   "execution_count": 22,
   "id": "8d11c763",
   "metadata": {},
   "outputs": [
    {
     "ename": "SyntaxError",
     "evalue": "unterminated string literal (detected at line 2) (1582795218.py, line 2)",
     "output_type": "error",
     "traceback": [
      "\u001b[1;36m  Cell \u001b[1;32mIn[22], line 2\u001b[1;36m\u001b[0m\n\u001b[1;33m    set_animals.add({'1'1'1'1'})\u001b[0m\n\u001b[1;37m                             ^\u001b[0m\n\u001b[1;31mSyntaxError\u001b[0m\u001b[1;31m:\u001b[0m unterminated string literal (detected at line 2)\n"
     ]
    }
   ],
   "source": [
    "set_animals={'lion','tiger','cheetah','puma'}\n",
    "set_animals.add({'1'1'1'1'})\n",
    "print(set_animals)"
   ]
  },
  {
   "cell_type": "code",
   "execution_count": 23,
   "id": "44e56ebb",
   "metadata": {},
   "outputs": [
    {
     "ename": "TypeError",
     "evalue": "unhashable type: 'set'",
     "output_type": "error",
     "traceback": [
      "\u001b[1;31m---------------------------------------------------------------------------\u001b[0m",
      "\u001b[1;31mTypeError\u001b[0m                                 Traceback (most recent call last)",
      "Cell \u001b[1;32mIn[23], line 2\u001b[0m\n\u001b[0;32m      1\u001b[0m set_animals\u001b[38;5;241m=\u001b[39m{\u001b[38;5;124m'\u001b[39m\u001b[38;5;124mlion\u001b[39m\u001b[38;5;124m'\u001b[39m,\u001b[38;5;124m'\u001b[39m\u001b[38;5;124mtiger\u001b[39m\u001b[38;5;124m'\u001b[39m,\u001b[38;5;124m'\u001b[39m\u001b[38;5;124mcheetah\u001b[39m\u001b[38;5;124m'\u001b[39m,\u001b[38;5;124m'\u001b[39m\u001b[38;5;124mpuma\u001b[39m\u001b[38;5;124m'\u001b[39m}\n\u001b[1;32m----> 2\u001b[0m \u001b[43mset_animals\u001b[49m\u001b[38;5;241;43m.\u001b[39;49m\u001b[43madd\u001b[49m\u001b[43m(\u001b[49m\u001b[43m{\u001b[49m\u001b[38;5;124;43m'\u001b[39;49m\u001b[38;5;124;43m1\u001b[39;49m\u001b[38;5;124;43m'\u001b[39;49m\u001b[38;5;124;43m'\u001b[39;49m\u001b[38;5;124;43m1\u001b[39;49m\u001b[38;5;124;43m'\u001b[39;49m\u001b[38;5;124;43m'\u001b[39;49m\u001b[38;5;124;43m1\u001b[39;49m\u001b[38;5;124;43m'\u001b[39;49m\u001b[38;5;124;43m'\u001b[39;49m\u001b[38;5;124;43m1\u001b[39;49m\u001b[38;5;124;43m'\u001b[39;49m\u001b[43m}\u001b[49m\u001b[43m)\u001b[49m\n\u001b[0;32m      3\u001b[0m \u001b[38;5;28mprint\u001b[39m(set_animals)\n",
      "\u001b[1;31mTypeError\u001b[0m: unhashable type: 'set'"
     ]
    }
   ],
   "source": [
    "set_animals={'lion','tiger','cheetah','puma'}\n",
    "set_animals.add({'1''1''1''1'})\n",
    "print(set_animals)"
   ]
  },
  {
   "cell_type": "code",
   "execution_count": 25,
   "id": "1f6f4abe",
   "metadata": {},
   "outputs": [
    {
     "name": "stdout",
     "output_type": "stream",
     "text": [
      "{'lion', 'puma', 'cheetah', 'tiger', '1111'}\n"
     ]
    }
   ],
   "source": [
    "set_animals={'lion','tiger','cheetah','puma'}\n",
    "set_animals.add('1''1''1''1')\n",
    "print(set_animals)"
   ]
  },
  {
   "cell_type": "code",
   "execution_count": 28,
   "id": "754b7848",
   "metadata": {},
   "outputs": [
    {
     "ename": "TypeError",
     "evalue": "set.add() takes exactly one argument (4 given)",
     "output_type": "error",
     "traceback": [
      "\u001b[1;31m---------------------------------------------------------------------------\u001b[0m",
      "\u001b[1;31mTypeError\u001b[0m                                 Traceback (most recent call last)",
      "Cell \u001b[1;32mIn[28], line 2\u001b[0m\n\u001b[0;32m      1\u001b[0m set_animals\u001b[38;5;241m=\u001b[39m{\u001b[38;5;124m'\u001b[39m\u001b[38;5;124mlion\u001b[39m\u001b[38;5;124m'\u001b[39m,\u001b[38;5;124m'\u001b[39m\u001b[38;5;124mtiger\u001b[39m\u001b[38;5;124m'\u001b[39m,\u001b[38;5;124m'\u001b[39m\u001b[38;5;124mcheetah\u001b[39m\u001b[38;5;124m'\u001b[39m,\u001b[38;5;124m'\u001b[39m\u001b[38;5;124mpuma\u001b[39m\u001b[38;5;124m'\u001b[39m}\n\u001b[1;32m----> 2\u001b[0m \u001b[43mset_animals\u001b[49m\u001b[38;5;241;43m.\u001b[39;49m\u001b[43madd\u001b[49m\u001b[43m(\u001b[49m\u001b[38;5;124;43m'\u001b[39;49m\u001b[38;5;124;43m1\u001b[39;49m\u001b[38;5;124;43m'\u001b[39;49m\u001b[43m,\u001b[49m\u001b[38;5;124;43m'\u001b[39;49m\u001b[38;5;124;43m1\u001b[39;49m\u001b[38;5;124;43m'\u001b[39;49m\u001b[43m,\u001b[49m\u001b[38;5;124;43m'\u001b[39;49m\u001b[38;5;124;43m1\u001b[39;49m\u001b[38;5;124;43m'\u001b[39;49m\u001b[43m,\u001b[49m\u001b[38;5;124;43m'\u001b[39;49m\u001b[38;5;124;43m1\u001b[39;49m\u001b[38;5;124;43m'\u001b[39;49m\u001b[43m)\u001b[49m\n\u001b[0;32m      3\u001b[0m \u001b[38;5;28mprint\u001b[39m(set_animals)\n",
      "\u001b[1;31mTypeError\u001b[0m: set.add() takes exactly one argument (4 given)"
     ]
    }
   ],
   "source": [
    "set_animals={'lion','tiger','cheetah','puma'}\n",
    "set_animals.add('1','1','1','1')\n",
    "print(set_animals)"
   ]
  },
  {
   "cell_type": "code",
   "execution_count": 30,
   "id": "8e3e8817",
   "metadata": {},
   "outputs": [
    {
     "data": {
      "text/plain": [
       "'an'"
      ]
     },
     "execution_count": 30,
     "metadata": {},
     "output_type": "execute_result"
    }
   ],
   "source": [
    "'a''n'"
   ]
  },
  {
   "cell_type": "code",
   "execution_count": 26,
   "id": "796434b9",
   "metadata": {},
   "outputs": [
    {
     "name": "stdout",
     "output_type": "stream",
     "text": [
      "{'lion', 'puma', 'cheetah', 'tiger', '1112'}\n"
     ]
    }
   ],
   "source": [
    "set_animals={'lion','tiger','cheetah','puma'}\n",
    "set_animals.add('1''1''1''2')\n",
    "print(set_animals)"
   ]
  },
  {
   "cell_type": "code",
   "execution_count": 27,
   "id": "2af85505",
   "metadata": {},
   "outputs": [
    {
     "name": "stdout",
     "output_type": "stream",
     "text": [
      "{'lion', 'puma', 'cheetah', 'tiger', '1112a'}\n"
     ]
    }
   ],
   "source": [
    "set_animals={'lion','tiger','cheetah','puma'}\n",
    "set_animals.add('1''1''1''2''a')\n",
    "print(set_animals)"
   ]
  },
  {
   "cell_type": "code",
   "execution_count": null,
   "id": "ff83cef2",
   "metadata": {},
   "outputs": [],
   "source": []
  },
  {
   "cell_type": "code",
   "execution_count": null,
   "id": "1e4991cf",
   "metadata": {},
   "outputs": [],
   "source": []
  },
  {
   "cell_type": "code",
   "execution_count": null,
   "id": "258ca855",
   "metadata": {},
   "outputs": [],
   "source": []
  },
  {
   "cell_type": "markdown",
   "id": "66d42df4",
   "metadata": {},
   "source": [
    "##### .update()"
   ]
  },
  {
   "cell_type": "code",
   "execution_count": 3,
   "id": "19098f2d",
   "metadata": {},
   "outputs": [
    {
     "name": "stdout",
     "output_type": "stream",
     "text": [
      "{'cheetah', 'lion', 'deer', 'elephant', 'tiger', 'puma', 'jaguar', 'hyena'}\n"
     ]
    }
   ],
   "source": [
    "set_other_animals={'hyena','elephant','deer'}\n",
    "set_animals.update(set_other_animals)\n",
    "print(set_animals)"
   ]
  },
  {
   "cell_type": "code",
   "execution_count": 4,
   "id": "7eaa854e",
   "metadata": {},
   "outputs": [
    {
     "name": "stdout",
     "output_type": "stream",
     "text": [
      "{'lion', 'deer', 'c', 'puma', 'hyena', 'p', 'tiger', 't', 'e', 'd', 'o', 'cheetah', 'r', 'h', 'g', 'jaguar', 'elephant', 'n', 'a', 'y', 'l'}\n"
     ]
    }
   ],
   "source": [
    "set_other_animals={'hyena','elephant','deer'}\n",
    "set_animals.update('hyena','elephant','deer','dog','cat')\n",
    "print(set_animals)"
   ]
  },
  {
   "cell_type": "code",
   "execution_count": 20,
   "id": "ef326378",
   "metadata": {},
   "outputs": [
    {
     "ename": "TypeError",
     "evalue": "'int' object is not iterable",
     "output_type": "error",
     "traceback": [
      "\u001b[1;31m---------------------------------------------------------------------------\u001b[0m",
      "\u001b[1;31mTypeError\u001b[0m                                 Traceback (most recent call last)",
      "Cell \u001b[1;32mIn[20], line 2\u001b[0m\n\u001b[0;32m      1\u001b[0m set_other_animals\u001b[38;5;241m=\u001b[39m{\u001b[38;5;124m'\u001b[39m\u001b[38;5;124mhyena\u001b[39m\u001b[38;5;124m'\u001b[39m,\u001b[38;5;124m'\u001b[39m\u001b[38;5;124melephant\u001b[39m\u001b[38;5;124m'\u001b[39m,\u001b[38;5;124m'\u001b[39m\u001b[38;5;124mdeer\u001b[39m\u001b[38;5;124m'\u001b[39m}\n\u001b[1;32m----> 2\u001b[0m \u001b[43mset_animals\u001b[49m\u001b[38;5;241;43m.\u001b[39;49m\u001b[43mupdate\u001b[49m\u001b[43m(\u001b[49m\u001b[38;5;241;43m34\u001b[39;49m\u001b[43m,\u001b[49m\u001b[38;5;241;43m99\u001b[39;49m\u001b[43m)\u001b[49m \u001b[38;5;66;03m#as update() breaks down every character of iterable objects, so here\u001b[39;00m\n\u001b[0;32m      3\u001b[0m \u001b[38;5;28mprint\u001b[39m(set_animals)\n",
      "\u001b[1;31mTypeError\u001b[0m: 'int' object is not iterable"
     ]
    }
   ],
   "source": [
    "set_other_animals={'hyena','elephant','deer'}\n",
    "set_animals.update(34,99) #as update() breaks down every character of iterable objects, so here\n",
    "print(set_animals)        # when it reads 34 it tries to break it as well but as int is not iterable\n",
    "                          # therefore it tries to break down 34 and as int is not iterable \n",
    "    #therefore this iterable error is shown , same concept goes for 99. \n",
    "    \n",
    "    # and hence python does not breaks 34 and 99 as differnt elements . but in list or set when python\n",
    "    #breaks them the values we get are of elements which can be int or string\n",
    "    #but in int it has no sub elements to it."
   ]
  },
  {
   "cell_type": "code",
   "execution_count": 12,
   "id": "c15d5c51",
   "metadata": {},
   "outputs": [
    {
     "name": "stdout",
     "output_type": "stream",
     "text": [
      "{'jaguar', 34, 'lion', 'puma', 99, 'cheetah', 'tiger'}\n"
     ]
    }
   ],
   "source": [
    "set_other_animals={'hyena','elephant','deer'}\n",
    "set_animals.update([34,99])\n",
    "print(set_animals)"
   ]
  },
  {
   "cell_type": "code",
   "execution_count": 14,
   "id": "2e823d80",
   "metadata": {},
   "outputs": [
    {
     "name": "stdout",
     "output_type": "stream",
     "text": [
      "{'jaguar', 34, 'lion', 'puma', 99, 'cheetah', 'tiger'}\n"
     ]
    }
   ],
   "source": [
    "set_other_animals={'hyena','elephant','deer'}  # no duplicacy\n",
    "set_animals.update([34,99,99])\n",
    "print(set_animals)"
   ]
  },
  {
   "cell_type": "code",
   "execution_count": 31,
   "id": "0d1029ca",
   "metadata": {},
   "outputs": [
    {
     "name": "stdout",
     "output_type": "stream",
     "text": [
      "{'lion', 'puma', 'cheetah', 'tiger', 's', 'a'}\n"
     ]
    }
   ],
   "source": [
    "set_other_animals={'hyena','elephant','deer'}  # no duplicacy\n",
    "set_animals.update('asaassasasasas')\n",
    "print(set_animals)"
   ]
  },
  {
   "cell_type": "code",
   "execution_count": null,
   "id": "f2c1499f",
   "metadata": {},
   "outputs": [],
   "source": []
  },
  {
   "cell_type": "code",
   "execution_count": 21,
   "id": "2aacaf07",
   "metadata": {},
   "outputs": [
    {
     "name": "stdout",
     "output_type": "stream",
     "text": [
      "{'lion', 'puma', 'cheetah', 'tiger', 'y'}\n"
     ]
    }
   ],
   "source": [
    "set_other_animals={'hyena','elephant','deer'}  # no duplicacy\n",
    "set_animals.update('yyyyyyy')\n",
    "print(set_animals)"
   ]
  },
  {
   "cell_type": "code",
   "execution_count": null,
   "id": "d7029768",
   "metadata": {},
   "outputs": [],
   "source": []
  },
  {
   "cell_type": "code",
   "execution_count": 5,
   "id": "2cb57d8f",
   "metadata": {},
   "outputs": [
    {
     "name": "stdout",
     "output_type": "stream",
     "text": [
      "{'cheetah', 'dog', 'lion', 'deer', 'elephant', 'tiger', 'puma', 'cat', 'hyena'}\n"
     ]
    }
   ],
   "source": [
    "set_animals={'lion','tiger','cheetah','puma'}\n",
    "set_animals.update(['hyena','elephant','deer','dog','cat'])\n",
    "print(set_animals)"
   ]
  },
  {
   "cell_type": "code",
   "execution_count": 6,
   "id": "e7213a29",
   "metadata": {},
   "outputs": [
    {
     "name": "stdout",
     "output_type": "stream",
     "text": [
      "{'cheetah', 'e', 'r', 'lion', 'p', 'n', 'h', 'a', 'tiger', 't', 'c', 'puma', 'g', 'y', 'd', 'o', 'l'}\n"
     ]
    }
   ],
   "source": [
    "set_animals={'lion','tiger','cheetah','puma'}\n",
    "set_animals.update(('hyena'),('elephant'),('deer'),('dog'),('cat'))\n",
    "print(set_animals)"
   ]
  },
  {
   "cell_type": "code",
   "execution_count": 7,
   "id": "b6d0e355",
   "metadata": {},
   "outputs": [
    {
     "name": "stdout",
     "output_type": "stream",
     "text": [
      "{'cheetah', 'dog', 'lion', 'deer', 'elephant', 'tiger', 'puma', 'cat', 'hyena'}\n"
     ]
    }
   ],
   "source": [
    "set_animals={'lion','tiger','cheetah','puma'}\n",
    "set_animals.update(['hyena'],['elephant'],['deer'],['dog'],['cat'])\n",
    "print(set_animals)"
   ]
  },
  {
   "cell_type": "code",
   "execution_count": 8,
   "id": "d210807f",
   "metadata": {},
   "outputs": [
    {
     "ename": "TypeError",
     "evalue": "'int' object is not iterable",
     "output_type": "error",
     "traceback": [
      "\u001b[1;31m---------------------------------------------------------------------------\u001b[0m",
      "\u001b[1;31mTypeError\u001b[0m                                 Traceback (most recent call last)",
      "Cell \u001b[1;32mIn[8], line 2\u001b[0m\n\u001b[0;32m      1\u001b[0m set_animals\u001b[38;5;241m=\u001b[39m{\u001b[38;5;124m'\u001b[39m\u001b[38;5;124mlion\u001b[39m\u001b[38;5;124m'\u001b[39m,\u001b[38;5;124m'\u001b[39m\u001b[38;5;124mtiger\u001b[39m\u001b[38;5;124m'\u001b[39m,\u001b[38;5;124m'\u001b[39m\u001b[38;5;124mcheetah\u001b[39m\u001b[38;5;124m'\u001b[39m,\u001b[38;5;124m'\u001b[39m\u001b[38;5;124mpuma\u001b[39m\u001b[38;5;124m'\u001b[39m}\n\u001b[1;32m----> 2\u001b[0m \u001b[43mset_animals\u001b[49m\u001b[38;5;241;43m.\u001b[39;49m\u001b[43mupdate\u001b[49m\u001b[43m(\u001b[49m\u001b[38;5;241;43m1\u001b[39;49m\u001b[43m)\u001b[49m\n\u001b[0;32m      3\u001b[0m \u001b[38;5;28mprint\u001b[39m(set_animals)\n",
      "\u001b[1;31mTypeError\u001b[0m: 'int' object is not iterable"
     ]
    }
   ],
   "source": [
    "set_animals={'lion','tiger','cheetah','puma'}\n",
    "set_animals.update(1)\n",
    "print(set_animals)"
   ]
  },
  {
   "cell_type": "code",
   "execution_count": 10,
   "id": "a4b36f72",
   "metadata": {},
   "outputs": [
    {
     "ename": "TypeError",
     "evalue": "'int' object is not iterable",
     "output_type": "error",
     "traceback": [
      "\u001b[1;31m---------------------------------------------------------------------------\u001b[0m",
      "\u001b[1;31mTypeError\u001b[0m                                 Traceback (most recent call last)",
      "Cell \u001b[1;32mIn[10], line 2\u001b[0m\n\u001b[0;32m      1\u001b[0m set_number\u001b[38;5;241m=\u001b[39m{\u001b[38;5;241m1\u001b[39m,\u001b[38;5;241m2\u001b[39m,\u001b[38;5;241m3\u001b[39m,\u001b[38;5;241m4\u001b[39m,\u001b[38;5;241m5\u001b[39m,\u001b[38;5;241m6\u001b[39m,\u001b[38;5;241m7\u001b[39m,\u001b[38;5;241m8\u001b[39m,\u001b[38;5;241m9\u001b[39m,\u001b[38;5;241m10\u001b[39m}\n\u001b[1;32m----> 2\u001b[0m \u001b[43mset_number\u001b[49m\u001b[38;5;241;43m.\u001b[39;49m\u001b[43mupdate\u001b[49m\u001b[43m(\u001b[49m\u001b[38;5;241;43m11\u001b[39;49m\u001b[43m,\u001b[49m\u001b[38;5;241;43m12\u001b[39;49m\u001b[43m,\u001b[49m\u001b[38;5;241;43m13\u001b[39;49m\u001b[43m,\u001b[49m\u001b[38;5;241;43m14\u001b[39;49m\u001b[43m,\u001b[49m\u001b[38;5;241;43m15\u001b[39;49m\u001b[43m)\u001b[49m\n\u001b[0;32m      3\u001b[0m \u001b[38;5;28mprint\u001b[39m(set_number)\n",
      "\u001b[1;31mTypeError\u001b[0m: 'int' object is not iterable"
     ]
    }
   ],
   "source": [
    "set_number={1,2,3,4,5,6,7,8,9,10}\n",
    "set_number.update(11,12,13,14,15)\n",
    "print(set_number)"
   ]
  },
  {
   "cell_type": "code",
   "execution_count": 13,
   "id": "2ae35db9",
   "metadata": {},
   "outputs": [
    {
     "name": "stdout",
     "output_type": "stream",
     "text": [
      "{1, 2, 3, 4, 5, 6, 7, 8, 9, 10, 11, 12, 13, 14, 15}\n"
     ]
    }
   ],
   "source": [
    "set_number={1,2,3,4,5,6,7,8,9,10}\n",
    "set_number.update([11,12,13,14,15])\n",
    "print(set_number)"
   ]
  },
  {
   "cell_type": "code",
   "execution_count": 15,
   "id": "c23c4b49",
   "metadata": {},
   "outputs": [
    {
     "name": "stdout",
     "output_type": "stream",
     "text": [
      "{1, 2, 3, 4, 5, 6, 7, 8, 9, 10, 'two', 11, 12, 13, 14, 15, 'one'}\n"
     ]
    }
   ],
   "source": [
    "set_number={1,2,3,4,5,6,7,8,9,10}\n",
    "set_number.update(['one','two',11,12,13,14,15])\n",
    "print(set_number)"
   ]
  },
  {
   "cell_type": "code",
   "execution_count": 16,
   "id": "e9de2496",
   "metadata": {},
   "outputs": [
    {
     "name": "stdout",
     "output_type": "stream",
     "text": [
      "{1, 2, 3, 4, 5, 6, 7, 8, 9, 10, 11, 12, 13, 14, 15, 't', 'e', 'o', 'w', 'n'}\n"
     ]
    }
   ],
   "source": [
    "set_number={1,2,3,4,5,6,7,8,9,10}\n",
    "set_number.update('one','two',[11,12,13,14,15])\n",
    "print(set_number)"
   ]
  },
  {
   "cell_type": "code",
   "execution_count": 18,
   "id": "50bb4c8d",
   "metadata": {},
   "outputs": [
    {
     "name": "stdout",
     "output_type": "stream",
     "text": [
      "{1, 2, 3, 4, 5, 6, 7, 8, 9, 10, 11, 12, 't', 13, 14, 15, 'o'}\n"
     ]
    }
   ],
   "source": [
    "set_number={1,2,3,4,5,6,7,8,9,10}\n",
    "set_number.update(['o','t',11,12,13,14,15])\n",
    "print(set_number)"
   ]
  },
  {
   "cell_type": "code",
   "execution_count": 19,
   "id": "1ab3c79c",
   "metadata": {},
   "outputs": [
    {
     "name": "stdout",
     "output_type": "stream",
     "text": [
      "{1, 2, 3, 4, 5, 6, 7, 8, 9, 10, 11, 12, 13, 14, 15, 't', 'o'}\n"
     ]
    }
   ],
   "source": [
    "set_number={1,2,3,4,5,6,7,8,9,10}\n",
    "set_number.update({'o','t',11,12,13,14,15})\n",
    "print(set_number)"
   ]
  },
  {
   "cell_type": "code",
   "execution_count": 20,
   "id": "d7a82498",
   "metadata": {},
   "outputs": [
    {
     "name": "stdout",
     "output_type": "stream",
     "text": [
      "{1, 2, 3, 4, 5, 6, 7, 8, 9, 10, 'two', 11, 12, 13, 14, 15, 'one'}\n"
     ]
    }
   ],
   "source": [
    " set_number={1,2,3,4,5,6,7,8,9,10}\n",
    "set_number.update({'one','two',11,12,13,14,15})\n",
    "print(set_number)"
   ]
  },
  {
   "cell_type": "code",
   "execution_count": 21,
   "id": "967a6d56",
   "metadata": {},
   "outputs": [
    {
     "name": "stdout",
     "output_type": "stream",
     "text": [
      "{1, 2, 3, 4, 5, 6, 7, 8, 9, 10, 'two', 11, 12, 13, 14, 15, 'n', 'e', 'o'}\n"
     ]
    }
   ],
   "source": [
    "\n",
    "set_number={1,2,3,4,5,6,7,8,9,10}\n",
    "set_number.update('one',{'two'},{11,12,13,14,15})\n",
    "print(set_number)"
   ]
  },
  {
   "cell_type": "code",
   "execution_count": 23,
   "id": "f98c335a",
   "metadata": {},
   "outputs": [
    {
     "ename": "TypeError",
     "evalue": "unhashable type: 'set'",
     "output_type": "error",
     "traceback": [
      "\u001b[1;31m---------------------------------------------------------------------------\u001b[0m",
      "\u001b[1;31mTypeError\u001b[0m                                 Traceback (most recent call last)",
      "Cell \u001b[1;32mIn[23], line 2\u001b[0m\n\u001b[0;32m      1\u001b[0m set_number\u001b[38;5;241m=\u001b[39m{\u001b[38;5;241m1\u001b[39m,\u001b[38;5;241m2\u001b[39m,\u001b[38;5;241m3\u001b[39m,\u001b[38;5;241m4\u001b[39m,\u001b[38;5;241m5\u001b[39m,\u001b[38;5;241m6\u001b[39m,\u001b[38;5;241m7\u001b[39m,\u001b[38;5;241m8\u001b[39m,\u001b[38;5;241m9\u001b[39m,\u001b[38;5;241m10\u001b[39m}\n\u001b[1;32m----> 2\u001b[0m set_number\u001b[38;5;241m.\u001b[39mupdate({\u001b[38;5;124m'\u001b[39m\u001b[38;5;124mone\u001b[39m\u001b[38;5;124m'\u001b[39m,{{\u001b[38;5;124m'\u001b[39m\u001b[38;5;124mtwo\u001b[39m\u001b[38;5;124m'\u001b[39m}},{\u001b[38;5;241m11\u001b[39m,\u001b[38;5;241m12\u001b[39m,\u001b[38;5;241m13\u001b[39m,\u001b[38;5;241m14\u001b[39m,\u001b[38;5;241m15\u001b[39m}})\n\u001b[0;32m      3\u001b[0m \u001b[38;5;28mprint\u001b[39m(set_number)\n",
      "\u001b[1;31mTypeError\u001b[0m: unhashable type: 'set'"
     ]
    }
   ],
   "source": [
    "set_number={1,2,3,4,5,6,7,8,9,10}\n",
    "set_number.update({'one',{{'two'}},{11,12,13,14,15})\n",
    "print(set_number)"
   ]
  },
  {
   "cell_type": "code",
   "execution_count": 24,
   "id": "d726dc04",
   "metadata": {},
   "outputs": [
    {
     "name": "stdout",
     "output_type": "stream",
     "text": [
      "{1, 2, 3, 4, 5, 6, 7, 8, 9, 10, 11, 12, 13, 14, 15, '1'}\n"
     ]
    }
   ],
   "source": [
    "set_number={1,2,3,4,5,6,7,8,9,10}\n",
    "set_number.update('11',{11,12,13,14,15})\n",
    "print(set_number)"
   ]
  },
  {
   "cell_type": "code",
   "execution_count": 25,
   "id": "95cc4dde",
   "metadata": {},
   "outputs": [
    {
     "name": "stdout",
     "output_type": "stream",
     "text": [
      "{1, 2, 3, 4, 5, 6, 7, 8, 9, 10, 11, 12, 13, 14, 15, '1'}\n"
     ]
    }
   ],
   "source": [
    "set_number={1,2,3,4,5,6,7,8,9,10}\n",
    "set_number.update('11',{11,12,13,14,15})\n",
    "print(set_number)"
   ]
  },
  {
   "cell_type": "code",
   "execution_count": 29,
   "id": "da2cf0d1",
   "metadata": {},
   "outputs": [
    {
     "name": "stdout",
     "output_type": "stream",
     "text": [
      "{1, 2, 3, 4, 5, 6, 7, 8, 9, 10, '11', 11, 12, 13, 14, 15}\n"
     ]
    }
   ],
   "source": [
    "set_number={1,2,3,4,5,6,7,8,9,10}\n",
    "set_number.update({'11'},{11,12,13,14,15})\n",
    "print(set_number)"
   ]
  },
  {
   "cell_type": "code",
   "execution_count": 31,
   "id": "04659639",
   "metadata": {},
   "outputs": [
    {
     "name": "stdout",
     "output_type": "stream",
     "text": [
      "{1, 2, 3, 4, 5, 6, 7, 8, 9, 10, 11, '12', 12, 13, 14, 15}\n"
     ]
    }
   ],
   "source": [
    "set_number={1,2,3,4,5,6,7,8,9,10}\n",
    "set_number.update({'12'},{11,12,13,14,15})\n",
    "print(set_number)"
   ]
  },
  {
   "cell_type": "code",
   "execution_count": 33,
   "id": "bf5b2634",
   "metadata": {},
   "outputs": [
    {
     "name": "stdout",
     "output_type": "stream",
     "text": [
      "{1, 2, 3, 4, 5, 6, 7, 8, 9, 10, 11, 12, 13, 14, 15, '16'}\n"
     ]
    }
   ],
   "source": [
    "set_number={1,2,3,4,5,6,7,8,9,10}\n",
    "set_number.update({'16'},{11,12,13,14,15})\n",
    "print(set_number)"
   ]
  },
  {
   "cell_type": "code",
   "execution_count": 37,
   "id": "9c3206e1",
   "metadata": {},
   "outputs": [
    {
     "name": "stdout",
     "output_type": "stream",
     "text": [
      "{1, 2, 3, 4, 5, 6, 7, 8, 9, 10, '15', 11, 12, 13, 14, 15}\n"
     ]
    }
   ],
   "source": [
    "set_number={1,2,3,4,5,6,7,8,9,10}\n",
    "set_number.update({'15'},{11,12,13,14,15})\n",
    "print(set_number)"
   ]
  },
  {
   "cell_type": "code",
   "execution_count": 43,
   "id": "1c27a6ab",
   "metadata": {},
   "outputs": [
    {
     "ename": "TypeError",
     "evalue": "unhashable type: 'set'",
     "output_type": "error",
     "traceback": [
      "\u001b[1;31m---------------------------------------------------------------------------\u001b[0m",
      "\u001b[1;31mTypeError\u001b[0m                                 Traceback (most recent call last)",
      "Cell \u001b[1;32mIn[43], line 2\u001b[0m\n\u001b[0;32m      1\u001b[0m set_number\u001b[38;5;241m=\u001b[39m{\u001b[38;5;241m1\u001b[39m,\u001b[38;5;241m2\u001b[39m,\u001b[38;5;241m3\u001b[39m,\u001b[38;5;241m4\u001b[39m,\u001b[38;5;241m5\u001b[39m,\u001b[38;5;241m6\u001b[39m,\u001b[38;5;241m7\u001b[39m,\u001b[38;5;241m8\u001b[39m,\u001b[38;5;241m9\u001b[39m,\u001b[38;5;241m10\u001b[39m}\n\u001b[1;32m----> 2\u001b[0m set_number\u001b[38;5;241m.\u001b[39mupdate({{\u001b[38;5;124m'\u001b[39m\u001b[38;5;124m16\u001b[39m\u001b[38;5;124m'\u001b[39m}},{\u001b[38;5;241m11\u001b[39m,\u001b[38;5;241m12\u001b[39m,\u001b[38;5;241m13\u001b[39m,\u001b[38;5;241m14\u001b[39m,\u001b[38;5;241m15\u001b[39m})\n\u001b[0;32m      3\u001b[0m \u001b[38;5;28mprint\u001b[39m(set_number)\n",
      "\u001b[1;31mTypeError\u001b[0m: unhashable type: 'set'"
     ]
    }
   ],
   "source": [
    "set_number={1,2,3,4,5,6,7,8,9,10}\n",
    "set_number.update({{'16'}},{11,12,13,14,15})\n",
    "print(set_number)"
   ]
  },
  {
   "cell_type": "code",
   "execution_count": 44,
   "id": "b521fd44",
   "metadata": {},
   "outputs": [
    {
     "ename": "SyntaxError",
     "evalue": "invalid syntax. Perhaps you forgot a comma? (1450104237.py, line 2)",
     "output_type": "error",
     "traceback": [
      "\u001b[1;36m  Cell \u001b[1;32mIn[44], line 2\u001b[1;36m\u001b[0m\n\u001b[1;33m    set_number.update('{'{'16'}'}',{11,12,13,14,15})\u001b[0m\n\u001b[1;37m                      ^\u001b[0m\n\u001b[1;31mSyntaxError\u001b[0m\u001b[1;31m:\u001b[0m invalid syntax. Perhaps you forgot a comma?\n"
     ]
    }
   ],
   "source": [
    "set_number={1,2,3,4,5,6,7,8,9,10}\n",
    "set_number.update('{'{'16'}'}',{11,12,13,14,15})\n",
    "print(set_number)"
   ]
  },
  {
   "cell_type": "markdown",
   "id": "7ad6cec2",
   "metadata": {},
   "source": [
    "## removing items from a set\n"
   ]
  },
  {
   "cell_type": "markdown",
   "id": "4a31856b",
   "metadata": {},
   "source": [
    "- remove()\n",
    "- discard()\n",
    "- pop()\n",
    "- del set"
   ]
  },
  {
   "cell_type": "code",
   "execution_count": 46,
   "id": "d02e34c4",
   "metadata": {},
   "outputs": [
    {
     "name": "stdout",
     "output_type": "stream",
     "text": [
      "{'violet', 'blue', 'red', 'orange'}\n"
     ]
    }
   ],
   "source": [
    "colour_set={'red','purple','orange','blue','violet'}\n",
    "colour_set.remove('purple')\n",
    "print(colour_set)"
   ]
  },
  {
   "cell_type": "code",
   "execution_count": 47,
   "id": "950b8147",
   "metadata": {},
   "outputs": [
    {
     "ename": "TypeError",
     "evalue": "set.remove() takes exactly one argument (2 given)",
     "output_type": "error",
     "traceback": [
      "\u001b[1;31m---------------------------------------------------------------------------\u001b[0m",
      "\u001b[1;31mTypeError\u001b[0m                                 Traceback (most recent call last)",
      "Cell \u001b[1;32mIn[47], line 2\u001b[0m\n\u001b[0;32m      1\u001b[0m colour_set\u001b[38;5;241m=\u001b[39m{\u001b[38;5;124m'\u001b[39m\u001b[38;5;124mred\u001b[39m\u001b[38;5;124m'\u001b[39m,\u001b[38;5;124m'\u001b[39m\u001b[38;5;124mpurple\u001b[39m\u001b[38;5;124m'\u001b[39m,\u001b[38;5;124m'\u001b[39m\u001b[38;5;124morange\u001b[39m\u001b[38;5;124m'\u001b[39m,\u001b[38;5;124m'\u001b[39m\u001b[38;5;124mblue\u001b[39m\u001b[38;5;124m'\u001b[39m,\u001b[38;5;124m'\u001b[39m\u001b[38;5;124mviolet\u001b[39m\u001b[38;5;124m'\u001b[39m}\n\u001b[1;32m----> 2\u001b[0m \u001b[43mcolour_set\u001b[49m\u001b[38;5;241;43m.\u001b[39;49m\u001b[43mremove\u001b[49m\u001b[43m(\u001b[49m\u001b[38;5;124;43m'\u001b[39;49m\u001b[38;5;124;43mpurple\u001b[39;49m\u001b[38;5;124;43m'\u001b[39;49m\u001b[43m,\u001b[49m\u001b[38;5;124;43m'\u001b[39;49m\u001b[38;5;124;43morange\u001b[39;49m\u001b[38;5;124;43m'\u001b[39;49m\u001b[43m)\u001b[49m\n\u001b[0;32m      3\u001b[0m \u001b[38;5;28mprint\u001b[39m(colour_set)\n",
      "\u001b[1;31mTypeError\u001b[0m: set.remove() takes exactly one argument (2 given)"
     ]
    }
   ],
   "source": [
    "colour_set={'red','purple','orange','blue','violet'}\n",
    "colour_set.remove('purple','orange')\n",
    "print(colour_set)"
   ]
  },
  {
   "cell_type": "code",
   "execution_count": 48,
   "id": "071a322e",
   "metadata": {},
   "outputs": [
    {
     "ename": "KeyError",
     "evalue": "{'purple'}",
     "output_type": "error",
     "traceback": [
      "\u001b[1;31m---------------------------------------------------------------------------\u001b[0m",
      "\u001b[1;31mKeyError\u001b[0m                                  Traceback (most recent call last)",
      "Cell \u001b[1;32mIn[48], line 2\u001b[0m\n\u001b[0;32m      1\u001b[0m colour_set\u001b[38;5;241m=\u001b[39m{\u001b[38;5;124m'\u001b[39m\u001b[38;5;124mred\u001b[39m\u001b[38;5;124m'\u001b[39m,\u001b[38;5;124m'\u001b[39m\u001b[38;5;124mpurple\u001b[39m\u001b[38;5;124m'\u001b[39m,\u001b[38;5;124m'\u001b[39m\u001b[38;5;124morange\u001b[39m\u001b[38;5;124m'\u001b[39m,\u001b[38;5;124m'\u001b[39m\u001b[38;5;124mblue\u001b[39m\u001b[38;5;124m'\u001b[39m,\u001b[38;5;124m'\u001b[39m\u001b[38;5;124mviolet\u001b[39m\u001b[38;5;124m'\u001b[39m}\n\u001b[1;32m----> 2\u001b[0m \u001b[43mcolour_set\u001b[49m\u001b[38;5;241;43m.\u001b[39;49m\u001b[43mremove\u001b[49m\u001b[43m(\u001b[49m\u001b[43m{\u001b[49m\u001b[38;5;124;43m'\u001b[39;49m\u001b[38;5;124;43mpurple\u001b[39;49m\u001b[38;5;124;43m'\u001b[39;49m\u001b[43m}\u001b[49m\u001b[43m)\u001b[49m\n\u001b[0;32m      3\u001b[0m \u001b[38;5;28mprint\u001b[39m(colour_set)\n",
      "\u001b[1;31mKeyError\u001b[0m: {'purple'}"
     ]
    }
   ],
   "source": [
    "colour_set={'red','purple','orange','blue','violet'}\n",
    "colour_set.remove({'purple'})\n",
    "print(colour_set)"
   ]
  },
  {
   "cell_type": "code",
   "execution_count": 52,
   "id": "35777f88",
   "metadata": {},
   "outputs": [
    {
     "ename": "TypeError",
     "evalue": "set.remove() takes exactly one argument (0 given)",
     "output_type": "error",
     "traceback": [
      "\u001b[1;31m---------------------------------------------------------------------------\u001b[0m",
      "\u001b[1;31mTypeError\u001b[0m                                 Traceback (most recent call last)",
      "Cell \u001b[1;32mIn[52], line 2\u001b[0m\n\u001b[0;32m      1\u001b[0m colour_set\u001b[38;5;241m=\u001b[39m{\u001b[38;5;124m'\u001b[39m\u001b[38;5;124mred\u001b[39m\u001b[38;5;124m'\u001b[39m,\u001b[38;5;124m'\u001b[39m\u001b[38;5;124mpurple\u001b[39m\u001b[38;5;124m'\u001b[39m,\u001b[38;5;124m'\u001b[39m\u001b[38;5;124morange\u001b[39m\u001b[38;5;124m'\u001b[39m,\u001b[38;5;124m'\u001b[39m\u001b[38;5;124mblue\u001b[39m\u001b[38;5;124m'\u001b[39m,\u001b[38;5;124m'\u001b[39m\u001b[38;5;124mviolet\u001b[39m\u001b[38;5;124m'\u001b[39m}\n\u001b[1;32m----> 2\u001b[0m \u001b[43mcolour_set\u001b[49m\u001b[38;5;241;43m.\u001b[39;49m\u001b[43mremove\u001b[49m\u001b[43m(\u001b[49m\u001b[43m)\u001b[49m\n\u001b[0;32m      3\u001b[0m \u001b[38;5;28mprint\u001b[39m(colour_set)\n",
      "\u001b[1;31mTypeError\u001b[0m: set.remove() takes exactly one argument (0 given)"
     ]
    }
   ],
   "source": [
    "colour_set={'red','purple','orange','blue','violet'}\n",
    "colour_set.remove()\n",
    "print(colour_set)"
   ]
  },
  {
   "cell_type": "code",
   "execution_count": 55,
   "id": "c9690fe4",
   "metadata": {},
   "outputs": [
    {
     "ename": "KeyError",
     "evalue": "'awff'",
     "output_type": "error",
     "traceback": [
      "\u001b[1;31m---------------------------------------------------------------------------\u001b[0m",
      "\u001b[1;31mKeyError\u001b[0m                                  Traceback (most recent call last)",
      "Cell \u001b[1;32mIn[55], line 2\u001b[0m\n\u001b[0;32m      1\u001b[0m colour_set\u001b[38;5;241m=\u001b[39m{\u001b[38;5;124m'\u001b[39m\u001b[38;5;124mred\u001b[39m\u001b[38;5;124m'\u001b[39m,\u001b[38;5;124m'\u001b[39m\u001b[38;5;124mpurple\u001b[39m\u001b[38;5;124m'\u001b[39m,\u001b[38;5;124m'\u001b[39m\u001b[38;5;124morange\u001b[39m\u001b[38;5;124m'\u001b[39m,\u001b[38;5;124m'\u001b[39m\u001b[38;5;124mblue\u001b[39m\u001b[38;5;124m'\u001b[39m,\u001b[38;5;124m'\u001b[39m\u001b[38;5;124mviolet\u001b[39m\u001b[38;5;124m'\u001b[39m}\n\u001b[1;32m----> 2\u001b[0m \u001b[43mcolour_set\u001b[49m\u001b[38;5;241;43m.\u001b[39;49m\u001b[43mremove\u001b[49m\u001b[43m(\u001b[49m\u001b[38;5;124;43m'\u001b[39;49m\u001b[38;5;124;43mawff\u001b[39;49m\u001b[38;5;124;43m'\u001b[39;49m\u001b[43m)\u001b[49m\n\u001b[0;32m      3\u001b[0m \u001b[38;5;28mprint\u001b[39m(colour_set)\n",
      "\u001b[1;31mKeyError\u001b[0m: 'awff'"
     ]
    }
   ],
   "source": [
    "colour_set={'red','purple','orange','blue','violet'}\n",
    "colour_set.remove('awff')\n",
    "print(colour_set)"
   ]
  },
  {
   "cell_type": "code",
   "execution_count": null,
   "id": "ec0371ca",
   "metadata": {},
   "outputs": [],
   "source": []
  },
  {
   "cell_type": "code",
   "execution_count": null,
   "id": "518d3cb0",
   "metadata": {},
   "outputs": [],
   "source": []
  },
  {
   "cell_type": "code",
   "execution_count": null,
   "id": "3e86876a",
   "metadata": {},
   "outputs": [],
   "source": []
  },
  {
   "cell_type": "code",
   "execution_count": 49,
   "id": "bad71dc2",
   "metadata": {},
   "outputs": [
    {
     "ename": "KeyError",
     "evalue": "{'purple', 'orange'}",
     "output_type": "error",
     "traceback": [
      "\u001b[1;31m---------------------------------------------------------------------------\u001b[0m",
      "\u001b[1;31mKeyError\u001b[0m                                  Traceback (most recent call last)",
      "Cell \u001b[1;32mIn[49], line 2\u001b[0m\n\u001b[0;32m      1\u001b[0m colour_set\u001b[38;5;241m=\u001b[39m{\u001b[38;5;124m'\u001b[39m\u001b[38;5;124mred\u001b[39m\u001b[38;5;124m'\u001b[39m,\u001b[38;5;124m'\u001b[39m\u001b[38;5;124mpurple\u001b[39m\u001b[38;5;124m'\u001b[39m,\u001b[38;5;124m'\u001b[39m\u001b[38;5;124morange\u001b[39m\u001b[38;5;124m'\u001b[39m,\u001b[38;5;124m'\u001b[39m\u001b[38;5;124mblue\u001b[39m\u001b[38;5;124m'\u001b[39m,\u001b[38;5;124m'\u001b[39m\u001b[38;5;124mviolet\u001b[39m\u001b[38;5;124m'\u001b[39m}\n\u001b[1;32m----> 2\u001b[0m \u001b[43mcolour_set\u001b[49m\u001b[38;5;241;43m.\u001b[39;49m\u001b[43mremove\u001b[49m\u001b[43m(\u001b[49m\u001b[43m{\u001b[49m\u001b[38;5;124;43m'\u001b[39;49m\u001b[38;5;124;43mpurple\u001b[39;49m\u001b[38;5;124;43m'\u001b[39;49m\u001b[43m,\u001b[49m\u001b[38;5;124;43m'\u001b[39;49m\u001b[38;5;124;43morange\u001b[39;49m\u001b[38;5;124;43m'\u001b[39;49m\u001b[43m}\u001b[49m\u001b[43m)\u001b[49m\n\u001b[0;32m      3\u001b[0m \u001b[38;5;28mprint\u001b[39m(colour_set)\n",
      "\u001b[1;31mKeyError\u001b[0m: {'purple', 'orange'}"
     ]
    }
   ],
   "source": [
    "colour_set={'red','purple','orange','blue','violet'}\n",
    "colour_set.remove({'purple','orange'})\n",
    "print(colour_set)"
   ]
  },
  {
   "cell_type": "code",
   "execution_count": 50,
   "id": "8ed9e459",
   "metadata": {},
   "outputs": [
    {
     "name": "stdout",
     "output_type": "stream",
     "text": [
      "{'violet', 'blue', 'red', 'orange'}\n"
     ]
    }
   ],
   "source": [
    "colour_set={'red','purple','orange','blue','violet'}\n",
    "colour_set.discard('purple')\n",
    "print(colour_set)"
   ]
  },
  {
   "cell_type": "code",
   "execution_count": 51,
   "id": "fbe5f619",
   "metadata": {},
   "outputs": [
    {
     "ename": "TypeError",
     "evalue": "set.discard() takes exactly one argument (2 given)",
     "output_type": "error",
     "traceback": [
      "\u001b[1;31m---------------------------------------------------------------------------\u001b[0m",
      "\u001b[1;31mTypeError\u001b[0m                                 Traceback (most recent call last)",
      "Cell \u001b[1;32mIn[51], line 2\u001b[0m\n\u001b[0;32m      1\u001b[0m colour_set\u001b[38;5;241m=\u001b[39m{\u001b[38;5;124m'\u001b[39m\u001b[38;5;124mred\u001b[39m\u001b[38;5;124m'\u001b[39m,\u001b[38;5;124m'\u001b[39m\u001b[38;5;124mpurple\u001b[39m\u001b[38;5;124m'\u001b[39m,\u001b[38;5;124m'\u001b[39m\u001b[38;5;124morange\u001b[39m\u001b[38;5;124m'\u001b[39m,\u001b[38;5;124m'\u001b[39m\u001b[38;5;124mblue\u001b[39m\u001b[38;5;124m'\u001b[39m,\u001b[38;5;124m'\u001b[39m\u001b[38;5;124mviolet\u001b[39m\u001b[38;5;124m'\u001b[39m}\n\u001b[1;32m----> 2\u001b[0m \u001b[43mcolour_set\u001b[49m\u001b[38;5;241;43m.\u001b[39;49m\u001b[43mdiscard\u001b[49m\u001b[43m(\u001b[49m\u001b[38;5;124;43m'\u001b[39;49m\u001b[38;5;124;43mpurple\u001b[39;49m\u001b[38;5;124;43m'\u001b[39;49m\u001b[43m,\u001b[49m\u001b[38;5;124;43m'\u001b[39;49m\u001b[38;5;124;43morange\u001b[39;49m\u001b[38;5;124;43m'\u001b[39;49m\u001b[43m)\u001b[49m\n\u001b[0;32m      3\u001b[0m \u001b[38;5;28mprint\u001b[39m(colour_set)\n",
      "\u001b[1;31mTypeError\u001b[0m: set.discard() takes exactly one argument (2 given)"
     ]
    }
   ],
   "source": [
    "colour_set={'red','purple','orange','blue','violet'}\n",
    "colour_set.discard('purple','orange')\n",
    "print(colour_set)"
   ]
  },
  {
   "cell_type": "code",
   "execution_count": 53,
   "id": "6137018c",
   "metadata": {},
   "outputs": [
    {
     "ename": "TypeError",
     "evalue": "set.discard() takes exactly one argument (0 given)",
     "output_type": "error",
     "traceback": [
      "\u001b[1;31m---------------------------------------------------------------------------\u001b[0m",
      "\u001b[1;31mTypeError\u001b[0m                                 Traceback (most recent call last)",
      "Cell \u001b[1;32mIn[53], line 2\u001b[0m\n\u001b[0;32m      1\u001b[0m colour_set\u001b[38;5;241m=\u001b[39m{\u001b[38;5;124m'\u001b[39m\u001b[38;5;124mred\u001b[39m\u001b[38;5;124m'\u001b[39m,\u001b[38;5;124m'\u001b[39m\u001b[38;5;124mpurple\u001b[39m\u001b[38;5;124m'\u001b[39m,\u001b[38;5;124m'\u001b[39m\u001b[38;5;124morange\u001b[39m\u001b[38;5;124m'\u001b[39m,\u001b[38;5;124m'\u001b[39m\u001b[38;5;124mblue\u001b[39m\u001b[38;5;124m'\u001b[39m,\u001b[38;5;124m'\u001b[39m\u001b[38;5;124mviolet\u001b[39m\u001b[38;5;124m'\u001b[39m}\n\u001b[1;32m----> 2\u001b[0m \u001b[43mcolour_set\u001b[49m\u001b[38;5;241;43m.\u001b[39;49m\u001b[43mdiscard\u001b[49m\u001b[43m(\u001b[49m\u001b[43m)\u001b[49m\n\u001b[0;32m      3\u001b[0m \u001b[38;5;28mprint\u001b[39m(colour_set)\n",
      "\u001b[1;31mTypeError\u001b[0m: set.discard() takes exactly one argument (0 given)"
     ]
    }
   ],
   "source": [
    "colour_set={'red','purple','orange','blue','violet'}\n",
    "colour_set.discard()\n",
    "print(colour_set)"
   ]
  },
  {
   "cell_type": "code",
   "execution_count": 54,
   "id": "0b7c6c8f",
   "metadata": {},
   "outputs": [
    {
     "name": "stdout",
     "output_type": "stream",
     "text": [
      "{'violet', 'blue', 'red', 'orange', 'purple'}\n"
     ]
    }
   ],
   "source": [
    "colour_set={'red','purple','orange','blue','violet'}\n",
    "colour_set.discard('awff')\n",
    "print(colour_set)"
   ]
  },
  {
   "cell_type": "code",
   "execution_count": null,
   "id": "a5662d9d",
   "metadata": {},
   "outputs": [],
   "source": [
    "# remove shows key error when an item that is not present in the list is written in()\n",
    "# whereas discard does not show any error and gives the set same as it is in output."
   ]
  },
  {
   "cell_type": "code",
   "execution_count": null,
   "id": "9f95a650",
   "metadata": {},
   "outputs": [],
   "source": []
  },
  {
   "cell_type": "markdown",
   "id": "484400e6",
   "metadata": {},
   "source": [
    "#### pop"
   ]
  },
  {
   "cell_type": "code",
   "execution_count": 62,
   "id": "09973533",
   "metadata": {},
   "outputs": [
    {
     "name": "stdout",
     "output_type": "stream",
     "text": [
      "{'cricket', 'rugby', 'badminton', 'basketball', 'kabaddi', 'football', 'kho-kho'}\n"
     ]
    }
   ],
   "source": [
    "set_sports={'cricket','football','volleyball','badminton','rugby','basketball','kho-kho','kabaddi'}\n",
    "set_sports.pop()\n",
    "print(set_sports)"
   ]
  },
  {
   "cell_type": "code",
   "execution_count": 63,
   "id": "f3274198",
   "metadata": {},
   "outputs": [
    {
     "ename": "TypeError",
     "evalue": "set.pop() takes no arguments (1 given)",
     "output_type": "error",
     "traceback": [
      "\u001b[1;31m---------------------------------------------------------------------------\u001b[0m",
      "\u001b[1;31mTypeError\u001b[0m                                 Traceback (most recent call last)",
      "Cell \u001b[1;32mIn[63], line 2\u001b[0m\n\u001b[0;32m      1\u001b[0m set_sports\u001b[38;5;241m=\u001b[39m{\u001b[38;5;124m'\u001b[39m\u001b[38;5;124mcricket\u001b[39m\u001b[38;5;124m'\u001b[39m,\u001b[38;5;124m'\u001b[39m\u001b[38;5;124mfootball\u001b[39m\u001b[38;5;124m'\u001b[39m,\u001b[38;5;124m'\u001b[39m\u001b[38;5;124mvolleyball\u001b[39m\u001b[38;5;124m'\u001b[39m,\u001b[38;5;124m'\u001b[39m\u001b[38;5;124mbadminton\u001b[39m\u001b[38;5;124m'\u001b[39m,\u001b[38;5;124m'\u001b[39m\u001b[38;5;124mrugby\u001b[39m\u001b[38;5;124m'\u001b[39m,\u001b[38;5;124m'\u001b[39m\u001b[38;5;124mbasketball\u001b[39m\u001b[38;5;124m'\u001b[39m,\u001b[38;5;124m'\u001b[39m\u001b[38;5;124mkho-kho\u001b[39m\u001b[38;5;124m'\u001b[39m,\u001b[38;5;124m'\u001b[39m\u001b[38;5;124mkabaddi\u001b[39m\u001b[38;5;124m'\u001b[39m}\n\u001b[1;32m----> 2\u001b[0m \u001b[43mset_sports\u001b[49m\u001b[38;5;241;43m.\u001b[39;49m\u001b[43mpop\u001b[49m\u001b[43m(\u001b[49m\u001b[38;5;124;43m'\u001b[39;49m\u001b[38;5;124;43mcricket\u001b[39;49m\u001b[38;5;124;43m'\u001b[39;49m\u001b[43m)\u001b[49m\n\u001b[0;32m      3\u001b[0m \u001b[38;5;28mprint\u001b[39m(set_sports)\n",
      "\u001b[1;31mTypeError\u001b[0m: set.pop() takes no arguments (1 given)"
     ]
    }
   ],
   "source": [
    "set_sports={'cricket','football','volleyball','badminton','rugby','basketball','kho-kho','kabaddi'}\n",
    "set_sports.pop('cricket')\n",
    "print(set_sports)"
   ]
  },
  {
   "cell_type": "markdown",
   "id": "449eaf55",
   "metadata": {},
   "source": [
    "##### del"
   ]
  },
  {
   "cell_type": "code",
   "execution_count": 67,
   "id": "d5aff711",
   "metadata": {},
   "outputs": [
    {
     "ename": "NameError",
     "evalue": "name 'set_sports' is not defined",
     "output_type": "error",
     "traceback": [
      "\u001b[1;31m---------------------------------------------------------------------------\u001b[0m",
      "\u001b[1;31mNameError\u001b[0m                                 Traceback (most recent call last)",
      "Cell \u001b[1;32mIn[67], line 3\u001b[0m\n\u001b[0;32m      1\u001b[0m set_sports\u001b[38;5;241m=\u001b[39m{\u001b[38;5;124m'\u001b[39m\u001b[38;5;124mcricket\u001b[39m\u001b[38;5;124m'\u001b[39m,\u001b[38;5;124m'\u001b[39m\u001b[38;5;124mfootball\u001b[39m\u001b[38;5;124m'\u001b[39m,\u001b[38;5;124m'\u001b[39m\u001b[38;5;124mvolleyball\u001b[39m\u001b[38;5;124m'\u001b[39m,\u001b[38;5;124m'\u001b[39m\u001b[38;5;124mbadminton\u001b[39m\u001b[38;5;124m'\u001b[39m,\u001b[38;5;124m'\u001b[39m\u001b[38;5;124mrugby\u001b[39m\u001b[38;5;124m'\u001b[39m,\u001b[38;5;124m'\u001b[39m\u001b[38;5;124mbasketball\u001b[39m\u001b[38;5;124m'\u001b[39m,\u001b[38;5;124m'\u001b[39m\u001b[38;5;124mkho-kho\u001b[39m\u001b[38;5;124m'\u001b[39m,\u001b[38;5;124m'\u001b[39m\u001b[38;5;124mkabaddi\u001b[39m\u001b[38;5;124m'\u001b[39m}\n\u001b[0;32m      2\u001b[0m \u001b[38;5;28;01mdel\u001b[39;00m set_sports\n\u001b[1;32m----> 3\u001b[0m \u001b[38;5;28mprint\u001b[39m(\u001b[43mset_sports\u001b[49m)\n",
      "\u001b[1;31mNameError\u001b[0m: name 'set_sports' is not defined"
     ]
    }
   ],
   "source": [
    "set_sports={'cricket','football','volleyball','badminton','rugby','basketball','kho-kho','kabaddi'}\n",
    "del set_sports\n",
    "print(set_sports)"
   ]
  },
  {
   "cell_type": "code",
   "execution_count": 35,
   "id": "a622a0a2",
   "metadata": {},
   "outputs": [
    {
     "ename": "SyntaxError",
     "evalue": "invalid syntax (2787236381.py, line 2)",
     "output_type": "error",
     "traceback": [
      "\u001b[1;36m  Cell \u001b[1;32mIn[35], line 2\u001b[1;36m\u001b[0m\n\u001b[1;33m    print(del set_sports)\u001b[0m\n\u001b[1;37m          ^\u001b[0m\n\u001b[1;31mSyntaxError\u001b[0m\u001b[1;31m:\u001b[0m invalid syntax\n"
     ]
    }
   ],
   "source": [
    "set_sports={'cricket','football','volleyball','badminton','rugby','basketball','kho-kho','kabaddi'}\n",
    "print(del set_sports)"
   ]
  },
  {
   "cell_type": "code",
   "execution_count": 42,
   "id": "d424d3a8",
   "metadata": {},
   "outputs": [
    {
     "ename": "SyntaxError",
     "evalue": "invalid syntax (3416482490.py, line 2)",
     "output_type": "error",
     "traceback": [
      "\u001b[1;36m  Cell \u001b[1;32mIn[42], line 2\u001b[1;36m\u001b[0m\n\u001b[1;33m    print((del set_sports)+1)\u001b[0m\n\u001b[1;37m           ^\u001b[0m\n\u001b[1;31mSyntaxError\u001b[0m\u001b[1;31m:\u001b[0m invalid syntax\n"
     ]
    }
   ],
   "source": [
    "set_sports={'cricket','football','volleyball','badminton','rugby','basketball','kho-kho','kabaddi'}\n",
    "print((del set_sports)+1)"
   ]
  },
  {
   "cell_type": "code",
   "execution_count": null,
   "id": "d46c0dd0",
   "metadata": {},
   "outputs": [],
   "source": []
  },
  {
   "cell_type": "code",
   "execution_count": null,
   "id": "47b0a011",
   "metadata": {},
   "outputs": [],
   "source": [
    "# 4 08 2023"
   ]
  },
  {
   "cell_type": "markdown",
   "id": "e1afd4e6",
   "metadata": {},
   "source": [
    "## set operations"
   ]
  },
  {
   "cell_type": "code",
   "execution_count": 43,
   "id": "ff21050f",
   "metadata": {},
   "outputs": [
    {
     "name": "stdout",
     "output_type": "stream",
     "text": [
      "{1, 2, 3, 4, 5, 67, 6, 7, 78, 87}\n"
     ]
    }
   ],
   "source": [
    "a={1,2,3,4,5,67,87}\n",
    "b={1,2,3,4,5,6,7,78}\n",
    "print(a.union(b))"
   ]
  },
  {
   "cell_type": "code",
   "execution_count": 51,
   "id": "6715623d",
   "metadata": {},
   "outputs": [
    {
     "ename": "TypeError",
     "evalue": "unhashable type: 'set'",
     "output_type": "error",
     "traceback": [
      "\u001b[1;31m---------------------------------------------------------------------------\u001b[0m",
      "\u001b[1;31mTypeError\u001b[0m                                 Traceback (most recent call last)",
      "Cell \u001b[1;32mIn[51], line 1\u001b[0m\n\u001b[1;32m----> 1\u001b[0m \u001b[38;5;28mprint\u001b[39m(a\u001b[38;5;241m.\u001b[39munion,{b})\n",
      "\u001b[1;31mTypeError\u001b[0m: unhashable type: 'set'"
     ]
    }
   ],
   "source": [
    "print(a.union,{b})"
   ]
  },
  {
   "cell_type": "code",
   "execution_count": null,
   "id": "99c58189",
   "metadata": {},
   "outputs": [],
   "source": []
  },
  {
   "cell_type": "code",
   "execution_count": 48,
   "id": "a6ee48b5",
   "metadata": {},
   "outputs": [
    {
     "ename": "TypeError",
     "evalue": "unhashable type: 'set'",
     "output_type": "error",
     "traceback": [
      "\u001b[1;31m---------------------------------------------------------------------------\u001b[0m",
      "\u001b[1;31mTypeError\u001b[0m                                 Traceback (most recent call last)",
      "Cell \u001b[1;32mIn[48], line 1\u001b[0m\n\u001b[1;32m----> 1\u001b[0m \u001b[38;5;28mprint\u001b[39m(a\u001b[38;5;241m.\u001b[39munion,{b})\n",
      "\u001b[1;31mTypeError\u001b[0m: unhashable type: 'set'"
     ]
    }
   ],
   "source": [
    "print(a.union,{b})"
   ]
  },
  {
   "cell_type": "code",
   "execution_count": 44,
   "id": "f329c326",
   "metadata": {},
   "outputs": [
    {
     "name": "stdout",
     "output_type": "stream",
     "text": [
      "{1, 2, 3, 4, 5}\n"
     ]
    }
   ],
   "source": [
    "a={1,2,3,4,5,67,87}\n",
    "b={1,2,3,4,5,6,7,78}\n",
    "print(a.intersection(b))"
   ]
  },
  {
   "cell_type": "code",
   "execution_count": 45,
   "id": "4e055d42",
   "metadata": {},
   "outputs": [
    {
     "name": "stdout",
     "output_type": "stream",
     "text": [
      "{67, 87}\n"
     ]
    }
   ],
   "source": [
    "a={1,2,3,4,5,67,87}\n",
    "b={1,2,3,4,5,6,7,78}\n",
    "print(a.difference(b))"
   ]
  },
  {
   "cell_type": "code",
   "execution_count": 46,
   "id": "c4f09fef",
   "metadata": {},
   "outputs": [
    {
     "name": "stdout",
     "output_type": "stream",
     "text": [
      "{78, 6, 7}\n"
     ]
    }
   ],
   "source": [
    "a={1,2,3,4,5,67,87}\n",
    "b={1,2,3,4,5,6,7,78}\n",
    "print(b.difference(a))"
   ]
  },
  {
   "cell_type": "code",
   "execution_count": null,
   "id": "445295d5",
   "metadata": {},
   "outputs": [],
   "source": [
    "a={1,2,3,4,5,67,87}\n",
    "b={1,2,3,4,5,6,7,78}\n",
    "print(b.difference_update(a))"
   ]
  },
  {
   "cell_type": "markdown",
   "id": "3c9fc987",
   "metadata": {},
   "source": [
    "#### 7.8.2023"
   ]
  },
  {
   "cell_type": "code",
   "execution_count": 3,
   "id": "c5da9d73",
   "metadata": {},
   "outputs": [
    {
     "name": "stdout",
     "output_type": "stream",
     "text": [
      "{25, 75.25, 'vidushi', 'rupali'}\n",
      "1254697067328\n"
     ]
    }
   ],
   "source": [
    "sample_set={'rupali','vidushi',25,75.25}\n",
    "print(sample_set)\n",
    "print(id(sample_set))"
   ]
  },
  {
   "cell_type": "raw",
   "id": "c9bcd14c",
   "metadata": {},
   "source": []
  },
  {
   "cell_type": "code",
   "execution_count": 16,
   "id": "670f28af",
   "metadata": {},
   "outputs": [
    {
     "name": "stdout",
     "output_type": "stream",
     "text": [
      "1254726976448\n",
      "1254698727040\n",
      "1254697069120\n",
      "{'violet', 'orange', 'blue', 'indigo', 'red', 'green', 'yellow'}\n",
      "1254726976448\n",
      "1254698727040\n"
     ]
    }
   ],
   "source": [
    "a={'violet' ,'indigo','blue','green'}\n",
    "print(id(a))\n",
    "b={'green','yellow','orange','red'}\n",
    "print(id(b))\n",
    "c=a.union(b)\n",
    "print(id(c))\n",
    "print(a.union(b))\n",
    "print(id(a))\n",
    "print(id(b))"
   ]
  },
  {
   "cell_type": "code",
   "execution_count": 22,
   "id": "e8f090bc",
   "metadata": {},
   "outputs": [
    {
     "name": "stdout",
     "output_type": "stream",
     "text": [
      "1254698725696\n",
      "1254726976448\n",
      "1254698727040\n"
     ]
    },
    {
     "ename": "AttributeError",
     "evalue": "'set' object has no attribute 'union_update'",
     "output_type": "error",
     "traceback": [
      "\u001b[1;31m---------------------------------------------------------------------------\u001b[0m",
      "\u001b[1;31mAttributeError\u001b[0m                            Traceback (most recent call last)",
      "Cell \u001b[1;32mIn[22], line 7\u001b[0m\n\u001b[0;32m      5\u001b[0m c\u001b[38;5;241m=\u001b[39ma\u001b[38;5;241m.\u001b[39munion(b)\n\u001b[0;32m      6\u001b[0m \u001b[38;5;28mprint\u001b[39m(\u001b[38;5;28mid\u001b[39m(c))\n\u001b[1;32m----> 7\u001b[0m \u001b[38;5;28mprint\u001b[39m(\u001b[43ma\u001b[49m\u001b[38;5;241;43m.\u001b[39;49m\u001b[43munion_update\u001b[49m(b))\n\u001b[0;32m      8\u001b[0m \u001b[38;5;28mprint\u001b[39m(\u001b[38;5;28mid\u001b[39m(a))\n\u001b[0;32m      9\u001b[0m \u001b[38;5;28mprint\u001b[39m(\u001b[38;5;28mid\u001b[39m(b))\n",
      "\u001b[1;31mAttributeError\u001b[0m: 'set' object has no attribute 'union_update'"
     ]
    }
   ],
   "source": [
    "a={'violet' ,'indigo','blue','green'}\n",
    "print(id(a))\n",
    "b={'green','yellow','orange','red'}\n",
    "print(id(b))\n",
    "c=a.union(b)\n",
    "print(id(c))\n",
    "print(a.union_update(b))\n",
    "print(id(a))\n",
    "print(id(b))"
   ]
  },
  {
   "cell_type": "markdown",
   "id": "811549ae",
   "metadata": {},
   "source": []
  },
  {
   "cell_type": "code",
   "execution_count": 10,
   "id": "30dcccb1",
   "metadata": {},
   "outputs": [
    {
     "name": "stdout",
     "output_type": "stream",
     "text": [
      "1254697069344\n",
      "1254697066880\n",
      "1254697068448\n",
      "{'green'}\n",
      "1254697069344\n",
      "1254697066880\n"
     ]
    }
   ],
   "source": [
    "a={'violet' ,'indigo','blue','green'}\n",
    "print(id(a))\n",
    "b={'green','yellow','orange','red'}\n",
    "print(id(b))\n",
    "c=a.intersection(b)\n",
    "print(id(c))\n",
    "print(a.intersection(b))\n",
    "print(id(a))\n",
    "print(id(b))"
   ]
  },
  {
   "cell_type": "markdown",
   "id": "e391b3b2",
   "metadata": {},
   "source": []
  },
  {
   "cell_type": "code",
   "execution_count": 17,
   "id": "eb9767c5",
   "metadata": {},
   "outputs": [
    {
     "name": "stdout",
     "output_type": "stream",
     "text": [
      "{'indigo', 'violet', 'green', 'yellow', 'blue'}\n",
      "1254698728832\n",
      "{'indigo'}\n",
      "1254698725696\n",
      "{'indigo'}\n",
      "1254698728832\n"
     ]
    }
   ],
   "source": [
    "colour_set={'violet' ,'indigo','blue','green','yellow'}\n",
    "print(colour_set)\n",
    "print(id(colour_set))\n",
    "remaining_colours={'indigo' , 'orange' , 'red'}\n",
    "common_colours=colour_set.intersection(remaining_colours)\n",
    "print(common_colours)\n",
    "print(id(common_colours))\n",
    "common_colours=colour_set.intersection_update(remaining_colours)\n",
    "print(colour_set)\n",
    "print(id(colour_set))\n",
    "\n"
   ]
  },
  {
   "cell_type": "code",
   "execution_count": 20,
   "id": "3d137516",
   "metadata": {},
   "outputs": [
    {
     "name": "stdout",
     "output_type": "stream",
     "text": [
      "{'indigo', 'violet', 'green', 'yellow', 'blue'}\n",
      "1254697067776\n",
      "{'indigo'}\n",
      "1254698725696\n",
      "False\n",
      "{'indigo'}\n",
      "1254697067776\n"
     ]
    }
   ],
   "source": [
    "colour_set={'violet' ,'indigo','blue','green','yellow'}\n",
    "print(colour_set)\n",
    "print(id(colour_set))\n",
    "remaining_colours={'indigo' , 'orange' , 'red'}\n",
    "common_colours=colour_set.intersection(remaining_colours)\n",
    "print(common_colours)\n",
    "print(id(common_colours))\n",
    "a=colour_set.intersection_update(remaining_colours)\n",
    "print(colour_set==a)\n",
    "print(colour_set)\n",
    "print(id(colour_set))\n",
    "\n"
   ]
  },
  {
   "cell_type": "code",
   "execution_count": 21,
   "id": "3b9b3471",
   "metadata": {},
   "outputs": [
    {
     "name": "stdout",
     "output_type": "stream",
     "text": [
      "{'indigo', 'violet', 'green', 'yellow', 'blue'}\n",
      "1254698728832\n",
      "{'indigo'}\n",
      "1254698727712\n",
      "False\n",
      "{'indigo'}\n",
      "1254698728832\n"
     ]
    }
   ],
   "source": [
    "colour_set={'violet' ,'indigo','blue','green','yellow'}\n",
    "print(colour_set)\n",
    "print(id(colour_set))\n",
    "remaining_colours={'indigo' , 'orange' , 'red'}\n",
    "common_colours=colour_set.intersection(remaining_colours)\n",
    "print(common_colours)\n",
    "print(id(common_colours))\n",
    "a==colour_set.intersection_update(remaining_colours)\n",
    "print(colour_set==a)\n",
    "print(colour_set)\n",
    "print(id(colour_set))"
   ]
  },
  {
   "cell_type": "markdown",
   "id": "412d828d",
   "metadata": {},
   "source": [
    "#### difference set"
   ]
  },
  {
   "cell_type": "code",
   "execution_count": 24,
   "id": "0a12a50b",
   "metadata": {},
   "outputs": [
    {
     "name": "stdout",
     "output_type": "stream",
     "text": [
      "{'green', 'yellow', 'violet', 'blue'}\n"
     ]
    }
   ],
   "source": [
    "colour_set={'violet' ,'indigo','blue','green','yellow'}\n",
    "remaining_colours={'indigo' , 'orange' , 'red'}\n",
    "new_colours=colour_set.difference(remaining_colours)\n",
    "print(new_colours)"
   ]
  },
  {
   "cell_type": "code",
   "execution_count": 25,
   "id": "c38e6ac3",
   "metadata": {},
   "outputs": [
    {
     "name": "stdout",
     "output_type": "stream",
     "text": [
      "{'indigo', 'violet', 'green', 'yellow', 'blue'}\n",
      "{'violet', 'green', 'yellow', 'blue'}\n"
     ]
    }
   ],
   "source": [
    "colour_set={'violet' ,'indigo','blue','green','yellow'}\n",
    "print(colour_set)\n",
    "remaining_colours={'indigo' , 'orange' , 'red'}\n",
    "colour_set.difference_update(remaining_colours)\n",
    "print(colour_set)"
   ]
  },
  {
   "cell_type": "markdown",
   "id": "839dd98b",
   "metadata": {},
   "source": [
    "### symmetric difference of sets"
   ]
  },
  {
   "cell_type": "markdown",
   "id": "1c5110d3",
   "metadata": {},
   "source": [
    "###### returns the elements that are unique in both the sets."
   ]
  },
  {
   "cell_type": "code",
   "execution_count": 7,
   "id": "3b3b4541",
   "metadata": {},
   "outputs": [
    {
     "name": "stdout",
     "output_type": "stream",
     "text": [
      "{1, 2, 3, 4, 5}\n",
      "{1, 2, 6, 7, 8}\n",
      "{1, 2, 6, 7, 8}\n",
      "{1, 2, 3, 4, 5}\n"
     ]
    }
   ],
   "source": [
    "A={1,2,3,4,5}\n",
    "print(A)\n",
    "B={3,4,5,6,7,8}\n",
    "c=A.symmetric_difference(B)\n",
    "print(c)\n",
    "print(A.symmetric_difference(B))\n",
    "print(A)\n"
   ]
  },
  {
   "cell_type": "code",
   "execution_count": 6,
   "id": "49d2ef92",
   "metadata": {},
   "outputs": [
    {
     "name": "stdout",
     "output_type": "stream",
     "text": [
      "{1, 2, 3, 4, 5}\n",
      "2390588909696\n",
      "{1, 2, 6, 7, 8}\n",
      "2390588909696\n"
     ]
    }
   ],
   "source": [
    "A={1,2,3,4,5}\n",
    "print(A)\n",
    "print(id(A))\n",
    "B={3,4,5,6,7,8}\n",
    "A.symmetric_difference_update(B)\n",
    "print(A)\n",
    "print(id(A))"
   ]
  },
  {
   "cell_type": "code",
   "execution_count": 5,
   "id": "385c6ee2",
   "metadata": {},
   "outputs": [
    {
     "name": "stdout",
     "output_type": "stream",
     "text": [
      "{1, 2, 6, 7, 8}\n"
     ]
    }
   ],
   "source": [
    "print(A)"
   ]
  },
  {
   "cell_type": "code",
   "execution_count": 8,
   "id": "a8b06456",
   "metadata": {},
   "outputs": [
    {
     "name": "stdout",
     "output_type": "stream",
     "text": [
      "{'violet', 'red', 'yellow', 'orange', 'green', 'blue'}\n",
      "{'yellow', 'green', 'violet', 'indigo', 'blue'}\n"
     ]
    }
   ],
   "source": [
    "colour_set={'violet' ,'indigo','blue','green','yellow'}\n",
    "remaining_colours={'indigo' , 'orange' , 'red'}\n",
    "c=colour_set.symmetric_difference(remaining_colours)\n",
    "print(c)\n",
    "print(colour_set)"
   ]
  },
  {
   "cell_type": "code",
   "execution_count": 10,
   "id": "889a6de9",
   "metadata": {},
   "outputs": [
    {
     "name": "stdout",
     "output_type": "stream",
     "text": [
      "{'yellow', 'green', 'violet', 'indigo', 'blue'}\n",
      "2390588907680\n",
      "2390588907680\n",
      "{'red', 'yellow', 'green', 'orange', 'violet', 'blue'}\n"
     ]
    }
   ],
   "source": [
    "colour_set={'violet' ,'indigo','blue','green','yellow'}\n",
    "print(colour_set)\n",
    "print(id(colour_set))\n",
    "remaining_colours={'indigo' , 'orange' , 'red'}\n",
    "colour_set.symmetric_difference_update(remaining_colours)\n",
    "print(id(colour_set))\n",
    "print(colour_set)\n"
   ]
  },
  {
   "cell_type": "code",
   "execution_count": 11,
   "id": "0aa97b94",
   "metadata": {},
   "outputs": [
    {
     "name": "stdout",
     "output_type": "stream",
     "text": [
      "{'yellow', 'green', 'violet', 'indigo', 'blue'}\n",
      "2390588910144\n",
      "2390588910144\n",
      "{'red', 'yellow', 'green', 'orange', 'violet', 'blue'}\n",
      "None\n"
     ]
    }
   ],
   "source": [
    "colour_set={'violet' ,'indigo','blue','green','yellow'}\n",
    "print(colour_set)\n",
    "print(id(colour_set))\n",
    "remaining_colours={'indigo' , 'orange' , 'red'}\n",
    "c=colour_set.symmetric_difference_update(remaining_colours)\n",
    "print(id(colour_set))\n",
    "print(colour_set)\n",
    "print(c)\n"
   ]
  },
  {
   "cell_type": "code",
   "execution_count": 13,
   "id": "84dfa8cb",
   "metadata": {},
   "outputs": [
    {
     "name": "stdout",
     "output_type": "stream",
     "text": [
      "<built-in function print>\n"
     ]
    }
   ],
   "source": [
    "# none is also a data type.\n",
    "print(print)"
   ]
  },
  {
   "cell_type": "code",
   "execution_count": 28,
   "id": "f3e07113",
   "metadata": {},
   "outputs": [
    {
     "name": "stdout",
     "output_type": "stream",
     "text": [
      "[1, 445, 3432, 2, 'sds', 1]\n"
     ]
    }
   ],
   "source": [
    "list=[1,'sds',2,3432,445,1]\n",
    "list[0:5]=1,445,3432,2,'sds'\n",
    "print(list)"
   ]
  },
  {
   "cell_type": "code",
   "execution_count": 48,
   "id": "e6c4df8a",
   "metadata": {},
   "outputs": [
    {
     "data": {
      "text/plain": [
       "[1, 3432, 'sds']"
      ]
     },
     "execution_count": 48,
     "metadata": {},
     "output_type": "execute_result"
    }
   ],
   "source": [
    "list=[1,'sds',2,3432,445,1,]\n",
    "list[::-2]"
   ]
  },
  {
   "cell_type": "code",
   "execution_count": null,
   "id": "bb6cd751",
   "metadata": {},
   "outputs": [],
   "source": []
  },
  {
   "cell_type": "code",
   "execution_count": null,
   "id": "dc3d04ae",
   "metadata": {},
   "outputs": [],
   "source": [
    "set_a={1,2,3,4,5,6,7,78}\n",
    "set_b={1,2,11}"
   ]
  },
  {
   "cell_type": "markdown",
   "id": "3142d10f",
   "metadata": {},
   "source": [
    "#### subset and superset"
   ]
  },
  {
   "cell_type": "code",
   "execution_count": 39,
   "id": "258cc847",
   "metadata": {},
   "outputs": [
    {
     "data": {
      "text/plain": [
       "True"
      ]
     },
     "execution_count": 39,
     "metadata": {},
     "output_type": "execute_result"
    }
   ],
   "source": [
    "A={1,2,3,4}\n",
    "B={1,2,3,4,5,6,7,8,9}\n",
    "A.issubset(B)"
   ]
  },
  {
   "cell_type": "code",
   "execution_count": 40,
   "id": "439aefb2",
   "metadata": {},
   "outputs": [
    {
     "data": {
      "text/plain": [
       "False"
      ]
     },
     "execution_count": 40,
     "metadata": {},
     "output_type": "execute_result"
    }
   ],
   "source": [
    "A={1,2,3,4}\n",
    "B={1,2,3,4,5,6,7,8,9}\n",
    "A.issuperset(B)"
   ]
  },
  {
   "cell_type": "code",
   "execution_count": 41,
   "id": "1e1be080",
   "metadata": {},
   "outputs": [
    {
     "data": {
      "text/plain": [
       "False"
      ]
     },
     "execution_count": 41,
     "metadata": {},
     "output_type": "execute_result"
    }
   ],
   "source": [
    "A={1,2,3,4}\n",
    "B={1,2,3,4,5,6,7,8,9}\n",
    "B.issubset(A)"
   ]
  },
  {
   "cell_type": "code",
   "execution_count": 43,
   "id": "55a66eb0",
   "metadata": {},
   "outputs": [
    {
     "name": "stdout",
     "output_type": "stream",
     "text": [
      "True\n"
     ]
    }
   ],
   "source": [
    "A={1,2,3,4}\n",
    "B={1,2,3,4,5,6,7,8,9}\n",
    "print(B.issuperset(A))"
   ]
  },
  {
   "cell_type": "code",
   "execution_count": 6,
   "id": "7e96ff14",
   "metadata": {},
   "outputs": [
    {
     "data": {
      "text/plain": [
       "True"
      ]
     },
     "execution_count": 6,
     "metadata": {},
     "output_type": "execute_result"
    }
   ],
   "source": [
    "'Suri'=='Suri'"
   ]
  },
  {
   "cell_type": "code",
   "execution_count": 7,
   "id": "f2b0f9ae",
   "metadata": {},
   "outputs": [
    {
     "data": {
      "text/plain": [
       "True"
      ]
     },
     "execution_count": 7,
     "metadata": {},
     "output_type": "execute_result"
    }
   ],
   "source": [
    "'Y'<'z'"
   ]
  },
  {
   "cell_type": "code",
   "execution_count": 8,
   "id": "bc32f302",
   "metadata": {},
   "outputs": [
    {
     "data": {
      "text/plain": [
       "False"
      ]
     },
     "execution_count": 8,
     "metadata": {},
     "output_type": "execute_result"
    }
   ],
   "source": [
    "'Y'>'z'"
   ]
  },
  {
   "cell_type": "code",
   "execution_count": null,
   "id": "6fc33c12",
   "metadata": {},
   "outputs": [],
   "source": []
  },
  {
   "cell_type": "code",
   "execution_count": 14,
   "id": "07337e80",
   "metadata": {},
   "outputs": [
    {
     "name": "stdout",
     "output_type": "stream",
     "text": [
      "{'green', 'red'}\n",
      "{'green'}\n"
     ]
    }
   ],
   "source": [
    "colour_set1={'violet','blue','yellow','red','green'}\n",
    "colour_set2={'orange','red','green'}\n",
    "colour_set3={'green','orange'}\n",
    "print(colour_set1.intersection(colour_set2))\n",
    "print(colour_set3.intersection(colour_set1.intersection(colour_set2)))"
   ]
  },
  {
   "cell_type": "code",
   "execution_count": 17,
   "id": "94dd5a5a",
   "metadata": {},
   "outputs": [
    {
     "name": "stdout",
     "output_type": "stream",
     "text": [
      "False\n",
      "False\n",
      "False\n",
      "False\n"
     ]
    }
   ],
   "source": [
    "colour_set1={'violet','blue','yellow','red','green'}\n",
    "colour_set2={'orange','red','green'}\n",
    "colour_set3={'green','orange'}\n",
    "print(colour_set1.isdisjoint(colour_set2))\n",
    "print(colour_set1.isdisjoint(colour_set3))\n",
    "print(colour_set2.isdisjoint(colour_set3))\n",
    "print(colour_set3.isdisjoint(colour_set1.intersection(colour_set2)))\n"
   ]
  },
  {
   "cell_type": "code",
   "execution_count": 19,
   "id": "73092f80",
   "metadata": {},
   "outputs": [
    {
     "ename": "AttributeError",
     "evalue": "'set' object has no attribute 'isjoint'",
     "output_type": "error",
     "traceback": [
      "\u001b[1;31m---------------------------------------------------------------------------\u001b[0m",
      "\u001b[1;31mAttributeError\u001b[0m                            Traceback (most recent call last)",
      "Cell \u001b[1;32mIn[19], line 4\u001b[0m\n\u001b[0;32m      2\u001b[0m colour_set2\u001b[38;5;241m=\u001b[39m{\u001b[38;5;124m'\u001b[39m\u001b[38;5;124morange\u001b[39m\u001b[38;5;124m'\u001b[39m,\u001b[38;5;124m'\u001b[39m\u001b[38;5;124mred\u001b[39m\u001b[38;5;124m'\u001b[39m,\u001b[38;5;124m'\u001b[39m\u001b[38;5;124mgreen\u001b[39m\u001b[38;5;124m'\u001b[39m}\n\u001b[0;32m      3\u001b[0m colour_set3\u001b[38;5;241m=\u001b[39m{\u001b[38;5;124m'\u001b[39m\u001b[38;5;124mgreen\u001b[39m\u001b[38;5;124m'\u001b[39m,\u001b[38;5;124m'\u001b[39m\u001b[38;5;124morange\u001b[39m\u001b[38;5;124m'\u001b[39m}\n\u001b[1;32m----> 4\u001b[0m \u001b[38;5;28mprint\u001b[39m(\u001b[43mcolour_set1\u001b[49m\u001b[38;5;241;43m.\u001b[39;49m\u001b[43misjoint\u001b[49m(colour_set2))\n\u001b[0;32m      5\u001b[0m \u001b[38;5;28mprint\u001b[39m(colour_set1\u001b[38;5;241m.\u001b[39misjoint(colour_set3))\n\u001b[0;32m      6\u001b[0m \u001b[38;5;28mprint\u001b[39m(colour_set2\u001b[38;5;241m.\u001b[39misjoint(colour_set3))\n",
      "\u001b[1;31mAttributeError\u001b[0m: 'set' object has no attribute 'isjoint'"
     ]
    }
   ],
   "source": [
    "colour_set1={'violet','blue','yellow','red','green'}\n",
    "colour_set2={'orange','red','green'}\n",
    "colour_set3={'green','orange'}\n",
    "print(colour_set1.isjoint(colour_set2))\n",
    "print(colour_set1.isjoint(colour_set3))\n",
    "print(colour_set2.isjoint(colour_set3))\n",
    "print(colour_set3.isjoint(colour_set1.intersection(colour_set2)))\n"
   ]
  },
  {
   "cell_type": "markdown",
   "id": "e81350c7",
   "metadata": {},
   "source": [
    "#### sort the sets"
   ]
  },
  {
   "cell_type": "markdown",
   "id": "80d07039",
   "metadata": {},
   "source": [
    "set is an unordered collection of data so there is no point in sorting it.If you want to sort it using the sorted() method but this method will retutn the list.\n",
    "\n"
   ]
  },
  {
   "cell_type": "markdown",
   "id": "af41d680",
   "metadata": {},
   "source": [
    "the sorted() function is used to sort the set.This set will return a new list and will not update the original set."
   ]
  },
  {
   "cell_type": "markdown",
   "id": "bf796562",
   "metadata": {},
   "source": [
    "example-"
   ]
  },
  {
   "cell_type": "code",
   "execution_count": 28,
   "id": "c3d0600d",
   "metadata": {},
   "outputs": [
    {
     "name": "stdout",
     "output_type": "stream",
     "text": [
      "2603974690848\n",
      "{13, 4, 20, 6, 231, 45}\n",
      "True\n",
      "[4, 6, 13, 20, 45, 231]\n",
      "2603975097984\n"
     ]
    },
    {
     "data": {
      "text/plain": [
       "list"
      ]
     },
     "execution_count": 28,
     "metadata": {},
     "output_type": "execute_result"
    }
   ],
   "source": [
    "set1={20,4,6,13,231,45}\n",
    "print(id(set1))\n",
    "print(set1)\n",
    "sorted_list=sorted(set1)\n",
    "sorted_set=sorted(set1)\n",
    "print(sorted_list==sorted_set)\n",
    "print(sorted_list)\n",
    "print(id(sorted_list))\n",
    "type(sorted_list)"
   ]
  },
  {
   "cell_type": "code",
   "execution_count": 29,
   "id": "70beb4e7",
   "metadata": {},
   "outputs": [
    {
     "ename": "TypeError",
     "evalue": "'<' not supported between instances of 'str' and 'int'",
     "output_type": "error",
     "traceback": [
      "\u001b[1;31m---------------------------------------------------------------------------\u001b[0m",
      "\u001b[1;31mTypeError\u001b[0m                                 Traceback (most recent call last)",
      "Cell \u001b[1;32mIn[29], line 2\u001b[0m\n\u001b[0;32m      1\u001b[0m set1\u001b[38;5;241m=\u001b[39m{\u001b[38;5;241m20\u001b[39m,\u001b[38;5;241m4\u001b[39m,\u001b[38;5;241m6\u001b[39m,\u001b[38;5;241m13\u001b[39m,\u001b[38;5;241m231\u001b[39m,\u001b[38;5;241m45\u001b[39m,\u001b[38;5;124m'\u001b[39m\u001b[38;5;124mafds\u001b[39m\u001b[38;5;124m'\u001b[39m}\n\u001b[1;32m----> 2\u001b[0m sorted_list\u001b[38;5;241m=\u001b[39m\u001b[38;5;28;43msorted\u001b[39;49m\u001b[43m(\u001b[49m\u001b[43mset1\u001b[49m\u001b[43m)\u001b[49m\n\u001b[0;32m      3\u001b[0m \u001b[38;5;28mprint\u001b[39m(sorted_list)\n\u001b[0;32m      4\u001b[0m \u001b[38;5;28mtype\u001b[39m(sorted_list)\n",
      "\u001b[1;31mTypeError\u001b[0m: '<' not supported between instances of 'str' and 'int'"
     ]
    }
   ],
   "source": [
    "set1={20,4,6,13,231,45,'afds'}\n",
    "sorted_list=sorted(set1)\n",
    "print(sorted_list)\n",
    "type(sorted_list)"
   ]
  },
  {
   "cell_type": "code",
   "execution_count": 30,
   "id": "1cb6fc7e",
   "metadata": {},
   "outputs": [
    {
     "name": "stdout",
     "output_type": "stream",
     "text": [
      "['AADA', 'JHFFFFK', 'SADA', 'afds']\n"
     ]
    },
    {
     "data": {
      "text/plain": [
       "list"
      ]
     },
     "execution_count": 30,
     "metadata": {},
     "output_type": "execute_result"
    }
   ],
   "source": [
    "set1={'afds','AADA','SADA','JHFFFFK'}\n",
    "sorted_list=sorted(set1)\n",
    "print(sorted_list)\n",
    "type(sorted_list)"
   ]
  },
  {
   "cell_type": "code",
   "execution_count": 31,
   "id": "1bbd365e",
   "metadata": {},
   "outputs": [
    {
     "name": "stdout",
     "output_type": "stream",
     "text": [
      "['AADA', 'JHFFFFK', 'SADA', 'afds']\n"
     ]
    },
    {
     "data": {
      "text/plain": [
       "list"
      ]
     },
     "execution_count": 31,
     "metadata": {},
     "output_type": "execute_result"
    }
   ],
   "source": [
    "set1={'afds','AADA','SADA','JHFFFFK','AADA'}\n",
    "sorted_list=sorted(set1)\n",
    "print(sorted_list)\n",
    "type(sorted_list)"
   ]
  },
  {
   "cell_type": "code",
   "execution_count": 32,
   "id": "b087265b",
   "metadata": {},
   "outputs": [
    {
     "name": "stdout",
     "output_type": "stream",
     "text": [
      "['AADA', 'JHFFFFK', 'SADA', 'afds']\n"
     ]
    },
    {
     "data": {
      "text/plain": [
       "list"
      ]
     },
     "execution_count": 32,
     "metadata": {},
     "output_type": "execute_result"
    }
   ],
   "source": [
    "set1={'afds','AADA','SADA','JHFFFFK','AADA','AADA','AADA','AADA','AADA','AADA'}\n",
    "sorted_list=sorted(set1)\n",
    "print(sorted_list)\n",
    "type(sorted_list)"
   ]
  },
  {
   "cell_type": "code",
   "execution_count": 36,
   "id": "f17fedd5",
   "metadata": {},
   "outputs": [
    {
     "name": "stdout",
     "output_type": "stream",
     "text": [
      "['SET1', 'SET2', 'sET1']\n"
     ]
    },
    {
     "data": {
      "text/plain": [
       "list"
      ]
     },
     "execution_count": 36,
     "metadata": {},
     "output_type": "execute_result"
    }
   ],
   "source": [
    "set1={'SET1','SET2','sET1'}\n",
    "sorted_list=sorted(set1)\n",
    "print(sorted_list)\n",
    "type(sorted_list)"
   ]
  },
  {
   "cell_type": "code",
   "execution_count": 39,
   "id": "e3702737",
   "metadata": {},
   "outputs": [
    {
     "name": "stdout",
     "output_type": "stream",
     "text": [
      "['12212', '2', '32323', 'SET1', 'SET2', 'sET1']\n"
     ]
    },
    {
     "data": {
      "text/plain": [
       "list"
      ]
     },
     "execution_count": 39,
     "metadata": {},
     "output_type": "execute_result"
    }
   ],
   "source": [
    "set1={'2','SET1','SET2','sET1','12212','32323'}\n",
    "sorted_list=sorted(set1)\n",
    "print(sorted_list)\n",
    "type(sorted_list)"
   ]
  },
  {
   "cell_type": "code",
   "execution_count": null,
   "id": "f1446db2",
   "metadata": {},
   "outputs": [],
   "source": [
    "# PRECEDENCE OF STRING IS NUMERALS 0-9 , 'UPPER CASSE' ,'LOWER CASE'"
   ]
  },
  {
   "cell_type": "markdown",
   "id": "0f4fe2b2",
   "metadata": {},
   "source": [
    "#### - MAX() AND MIN()"
   ]
  },
  {
   "cell_type": "markdown",
   "id": "a853d1b7",
   "metadata": {},
   "source": [
    "The max() function will return the item with maximum value in set.\n",
    "and min() function will return the item with the minimu value in the set."
   ]
  },
  {
   "cell_type": "markdown",
   "id": "f5e8a08e",
   "metadata": {},
   "source": [
    "in case of strings the max and min value will be determined on the basis of ASCII code."
   ]
  },
  {
   "cell_type": "code",
   "execution_count": null,
   "id": "84e5a328",
   "metadata": {},
   "outputs": [],
   "source": []
  },
  {
   "cell_type": "code",
   "execution_count": null,
   "id": "778f7692",
   "metadata": {},
   "outputs": [],
   "source": []
  },
  {
   "cell_type": "code",
   "execution_count": null,
   "id": "2e3470f2",
   "metadata": {},
   "outputs": [],
   "source": []
  },
  {
   "cell_type": "markdown",
   "id": "51aac28e",
   "metadata": {},
   "source": [
    "#### FROZENSET"
   ]
  },
  {
   "cell_type": "code",
   "execution_count": 10,
   "id": "f9c95817",
   "metadata": {},
   "outputs": [
    {
     "name": "stdout",
     "output_type": "stream",
     "text": [
      "frozenset({'orange', 'violet', 'green', 'indigo', 'yellow', 'red'})\n",
      "<class 'frozenset'>\n"
     ]
    }
   ],
   "source": [
    "rainbow={'violet','indigo','green','yellow','orange','red'}\n",
    "f_set=frozenset(rainbow)\n",
    "print(f_set)\n",
    "print(type(f_set))"
   ]
  },
  {
   "cell_type": "code",
   "execution_count": 11,
   "id": "a72e5d19",
   "metadata": {},
   "outputs": [
    {
     "name": "stdout",
     "output_type": "stream",
     "text": [
      "frozenset({'orange', 'violet', 'green', 'indigo', 'yellow', 'red'})\n",
      "None\n"
     ]
    }
   ],
   "source": [
    "rainbow={'violet','indigo','green','yellow','orange','red'}\n",
    "f_set=frozenset(rainbow)\n",
    "print(f_set)\n",
    "c=rainbow.add(f_set)\n",
    "print(c)"
   ]
  },
  {
   "cell_type": "code",
   "execution_count": 14,
   "id": "a5472f8d",
   "metadata": {},
   "outputs": [
    {
     "name": "stdout",
     "output_type": "stream",
     "text": [
      "frozenset({'orange', 'violet', 'green', 'indigo', 'yellow', 'red'})\n"
     ]
    }
   ],
   "source": [
    "rainbow=['violet','indigo','green','yellow','orange','red']\n",
    "f_set=frozenset(rainbow)\n",
    "print(f_set)\n"
   ]
  },
  {
   "cell_type": "code",
   "execution_count": 16,
   "id": "5b87c80d",
   "metadata": {},
   "outputs": [
    {
     "ename": "TypeError",
     "evalue": "unhashable type: 'list'",
     "output_type": "error",
     "traceback": [
      "\u001b[1;31m---------------------------------------------------------------------------\u001b[0m",
      "\u001b[1;31mTypeError\u001b[0m                                 Traceback (most recent call last)",
      "Cell \u001b[1;32mIn[16], line 2\u001b[0m\n\u001b[0;32m      1\u001b[0m rainbow\u001b[38;5;241m=\u001b[39m[\u001b[38;5;124m'\u001b[39m\u001b[38;5;124mviolet\u001b[39m\u001b[38;5;124m'\u001b[39m,\u001b[38;5;124m'\u001b[39m\u001b[38;5;124mindigo\u001b[39m\u001b[38;5;124m'\u001b[39m,\u001b[38;5;124m'\u001b[39m\u001b[38;5;124mgreen\u001b[39m\u001b[38;5;124m'\u001b[39m,\u001b[38;5;124m'\u001b[39m\u001b[38;5;124myellow\u001b[39m\u001b[38;5;124m'\u001b[39m,\u001b[38;5;124m'\u001b[39m\u001b[38;5;124morange\u001b[39m\u001b[38;5;124m'\u001b[39m,[\u001b[38;5;124m'\u001b[39m\u001b[38;5;124mred\u001b[39m\u001b[38;5;124m'\u001b[39m]]\n\u001b[1;32m----> 2\u001b[0m f_set\u001b[38;5;241m=\u001b[39m\u001b[38;5;28;43mfrozenset\u001b[39;49m\u001b[43m(\u001b[49m\u001b[43mrainbow\u001b[49m\u001b[43m)\u001b[49m\n\u001b[0;32m      3\u001b[0m \u001b[38;5;28mprint\u001b[39m(f_set)\n",
      "\u001b[1;31mTypeError\u001b[0m: unhashable type: 'list'"
     ]
    }
   ],
   "source": [
    "rainbow=['violet','indigo','green','yellow','orange',['red']]\n",
    "f_set=frozenset(rainbow)\n",
    "print(f_set)\n"
   ]
  },
  {
   "cell_type": "code",
   "execution_count": 17,
   "id": "b188f344",
   "metadata": {
    "scrolled": true
   },
   "outputs": [
    {
     "ename": "TypeError",
     "evalue": "unhashable type: 'set'",
     "output_type": "error",
     "traceback": [
      "\u001b[1;31m---------------------------------------------------------------------------\u001b[0m",
      "\u001b[1;31mTypeError\u001b[0m                                 Traceback (most recent call last)",
      "Cell \u001b[1;32mIn[17], line 2\u001b[0m\n\u001b[0;32m      1\u001b[0m rainbow\u001b[38;5;241m=\u001b[39m[\u001b[38;5;124m'\u001b[39m\u001b[38;5;124mviolet\u001b[39m\u001b[38;5;124m'\u001b[39m,\u001b[38;5;124m'\u001b[39m\u001b[38;5;124mindigo\u001b[39m\u001b[38;5;124m'\u001b[39m,\u001b[38;5;124m'\u001b[39m\u001b[38;5;124mgreen\u001b[39m\u001b[38;5;124m'\u001b[39m,\u001b[38;5;124m'\u001b[39m\u001b[38;5;124myellow\u001b[39m\u001b[38;5;124m'\u001b[39m,\u001b[38;5;124m'\u001b[39m\u001b[38;5;124morange\u001b[39m\u001b[38;5;124m'\u001b[39m,{\u001b[38;5;124m'\u001b[39m\u001b[38;5;124mred\u001b[39m\u001b[38;5;124m'\u001b[39m}]\n\u001b[1;32m----> 2\u001b[0m f_set\u001b[38;5;241m=\u001b[39m\u001b[38;5;28;43mfrozenset\u001b[39;49m\u001b[43m(\u001b[49m\u001b[43mrainbow\u001b[49m\u001b[43m)\u001b[49m\n\u001b[0;32m      3\u001b[0m \u001b[38;5;28mprint\u001b[39m(f_set)\n",
      "\u001b[1;31mTypeError\u001b[0m: unhashable type: 'set'"
     ]
    }
   ],
   "source": [
    "rainbow=['violet','indigo','green','yellow','orange',{'red'}]\n",
    "f_set=frozenset(rainbow)\n",
    "print(f_set)\n"
   ]
  },
  {
   "cell_type": "code",
   "execution_count": 18,
   "id": "cb6b7f37",
   "metadata": {
    "scrolled": true
   },
   "outputs": [
    {
     "name": "stdout",
     "output_type": "stream",
     "text": [
      "frozenset({'orange', 'violet', 'green', 'indigo', 'yellow', 'red'})\n"
     ]
    },
    {
     "ename": "AttributeError",
     "evalue": "'frozenset' object has no attribute 'add'",
     "output_type": "error",
     "traceback": [
      "\u001b[1;31m---------------------------------------------------------------------------\u001b[0m",
      "\u001b[1;31mAttributeError\u001b[0m                            Traceback (most recent call last)",
      "Cell \u001b[1;32mIn[18], line 4\u001b[0m\n\u001b[0;32m      2\u001b[0m f_set\u001b[38;5;241m=\u001b[39m\u001b[38;5;28mfrozenset\u001b[39m(rainbow)\n\u001b[0;32m      3\u001b[0m \u001b[38;5;28mprint\u001b[39m(f_set)\n\u001b[1;32m----> 4\u001b[0m \u001b[38;5;28mprint\u001b[39m(\u001b[43mf_set\u001b[49m\u001b[38;5;241;43m.\u001b[39;49m\u001b[43madd\u001b[49m(\u001b[38;5;124m'\u001b[39m\u001b[38;5;124mss\u001b[39m\u001b[38;5;124m'\u001b[39m))\n",
      "\u001b[1;31mAttributeError\u001b[0m: 'frozenset' object has no attribute 'add'"
     ]
    }
   ],
   "source": [
    "rainbow={'violet','indigo','green','yellow','orange','red'}\n",
    "f_set=frozenset(rainbow)\n",
    "print(f_set)\n",
    "print(f_set.add('ss'))"
   ]
  },
  {
   "cell_type": "code",
   "execution_count": null,
   "id": "6ae33b70",
   "metadata": {},
   "outputs": [],
   "source": []
  },
  {
   "cell_type": "code",
   "execution_count": 22,
   "id": "b08eda6e",
   "metadata": {},
   "outputs": [
    {
     "name": "stdout",
     "output_type": "stream",
     "text": [
      "frozenset({'violet', 'green', 'indigo', 'blue', 'red'})\n"
     ]
    }
   ],
   "source": [
    "colourset1=frozenset(('violet', 'indigo' ,'blue' , 'green'))\n",
    "colourset2=frozenset(('red' ,'blue' , 'green'))\n",
    "print(colourset1.union(colourset2))"
   ]
  },
  {
   "cell_type": "code",
   "execution_count": null,
   "id": "bc60a2f2",
   "metadata": {},
   "outputs": [],
   "source": []
  },
  {
   "cell_type": "code",
   "execution_count": 19,
   "id": "1da829a0",
   "metadata": {},
   "outputs": [
    {
     "name": "stdout",
     "output_type": "stream",
     "text": [
      "frozenset({'green', 'blue'})\n"
     ]
    }
   ],
   "source": [
    "colourset1=frozenset(('violet', 'indigo' ,'blue' , 'green'))\n",
    "colourset2=frozenset(('red' ,'blue' , 'green'))\n",
    "print(colourset1.intersection(colourset2))"
   ]
  },
  {
   "cell_type": "code",
   "execution_count": 26,
   "id": "52de62e3",
   "metadata": {},
   "outputs": [
    {
     "ename": "AttributeError",
     "evalue": "'frozenset' object has no attribute 'intersection_update'",
     "output_type": "error",
     "traceback": [
      "\u001b[1;31m---------------------------------------------------------------------------\u001b[0m",
      "\u001b[1;31mAttributeError\u001b[0m                            Traceback (most recent call last)",
      "Cell \u001b[1;32mIn[26], line 3\u001b[0m\n\u001b[0;32m      1\u001b[0m colourset1\u001b[38;5;241m=\u001b[39m\u001b[38;5;28mfrozenset\u001b[39m((\u001b[38;5;124m'\u001b[39m\u001b[38;5;124mviolet\u001b[39m\u001b[38;5;124m'\u001b[39m, \u001b[38;5;124m'\u001b[39m\u001b[38;5;124mindigo\u001b[39m\u001b[38;5;124m'\u001b[39m ,\u001b[38;5;124m'\u001b[39m\u001b[38;5;124mblue\u001b[39m\u001b[38;5;124m'\u001b[39m , \u001b[38;5;124m'\u001b[39m\u001b[38;5;124mgreen\u001b[39m\u001b[38;5;124m'\u001b[39m))\n\u001b[0;32m      2\u001b[0m colourset2\u001b[38;5;241m=\u001b[39m\u001b[38;5;28mfrozenset\u001b[39m((\u001b[38;5;124m'\u001b[39m\u001b[38;5;124mred\u001b[39m\u001b[38;5;124m'\u001b[39m ,\u001b[38;5;124m'\u001b[39m\u001b[38;5;124mblue\u001b[39m\u001b[38;5;124m'\u001b[39m , \u001b[38;5;124m'\u001b[39m\u001b[38;5;124mgreen\u001b[39m\u001b[38;5;124m'\u001b[39m))\n\u001b[1;32m----> 3\u001b[0m \u001b[43mcolourset1\u001b[49m\u001b[38;5;241;43m.\u001b[39;49m\u001b[43mintersection_update\u001b[49m(colourset2)                       \u001b[38;5;66;03m# as frozenset is immmutable \u001b[39;00m\n\u001b[0;32m      4\u001b[0m \u001b[38;5;28mprint\u001b[39m(colourset1)\n",
      "\u001b[1;31mAttributeError\u001b[0m: 'frozenset' object has no attribute 'intersection_update'"
     ]
    }
   ],
   "source": [
    "colourset1=frozenset(('violet', 'indigo' ,'blue' , 'green'))\n",
    "colourset2=frozenset(('red' ,'blue' , 'green'))\n",
    "colourset1.intersection_update(colourset2)                       # as frozenset is immmutable \n",
    "print(colourset1)                                      "
   ]
  },
  {
   "cell_type": "code",
   "execution_count": 23,
   "id": "194c996b",
   "metadata": {},
   "outputs": [
    {
     "name": "stdout",
     "output_type": "stream",
     "text": [
      "frozenset({'violet', 'indigo'})\n"
     ]
    }
   ],
   "source": [
    "colourset1=frozenset(('violet', 'indigo' ,'blue' , 'green'))\n",
    "colourset2=frozenset(('red' ,'blue' , 'green'))\n",
    "print(colourset1.difference(colourset2))       "
   ]
  },
  {
   "cell_type": "code",
   "execution_count": 27,
   "id": "7fe8f92f",
   "metadata": {},
   "outputs": [
    {
     "ename": "AttributeError",
     "evalue": "'frozenset' object has no attribute 'difference_update'",
     "output_type": "error",
     "traceback": [
      "\u001b[1;31m---------------------------------------------------------------------------\u001b[0m",
      "\u001b[1;31mAttributeError\u001b[0m                            Traceback (most recent call last)",
      "Cell \u001b[1;32mIn[27], line 3\u001b[0m\n\u001b[0;32m      1\u001b[0m colourset1\u001b[38;5;241m=\u001b[39m\u001b[38;5;28mfrozenset\u001b[39m((\u001b[38;5;124m'\u001b[39m\u001b[38;5;124mviolet\u001b[39m\u001b[38;5;124m'\u001b[39m, \u001b[38;5;124m'\u001b[39m\u001b[38;5;124mindigo\u001b[39m\u001b[38;5;124m'\u001b[39m ,\u001b[38;5;124m'\u001b[39m\u001b[38;5;124mblue\u001b[39m\u001b[38;5;124m'\u001b[39m , \u001b[38;5;124m'\u001b[39m\u001b[38;5;124mgreen\u001b[39m\u001b[38;5;124m'\u001b[39m))\n\u001b[0;32m      2\u001b[0m colourset2\u001b[38;5;241m=\u001b[39m\u001b[38;5;28mfrozenset\u001b[39m((\u001b[38;5;124m'\u001b[39m\u001b[38;5;124mred\u001b[39m\u001b[38;5;124m'\u001b[39m ,\u001b[38;5;124m'\u001b[39m\u001b[38;5;124mblue\u001b[39m\u001b[38;5;124m'\u001b[39m , \u001b[38;5;124m'\u001b[39m\u001b[38;5;124mgreen\u001b[39m\u001b[38;5;124m'\u001b[39m))\n\u001b[1;32m----> 3\u001b[0m \u001b[38;5;28mprint\u001b[39m(\u001b[43mcolourset1\u001b[49m\u001b[38;5;241;43m.\u001b[39;49m\u001b[43mdifference_update\u001b[49m(colourset2))\n",
      "\u001b[1;31mAttributeError\u001b[0m: 'frozenset' object has no attribute 'difference_update'"
     ]
    }
   ],
   "source": [
    "colourset1=frozenset(('violet', 'indigo' ,'blue' , 'green'))\n",
    "colourset2=frozenset(('red' ,'blue' , 'green'))\n",
    "print(colourset1.difference_update(colourset2))         # as frozenset is immmutable "
   ]
  },
  {
   "cell_type": "code",
   "execution_count": 30,
   "id": "3d7d03db",
   "metadata": {},
   "outputs": [
    {
     "name": "stdout",
     "output_type": "stream",
     "text": [
      "{'violet', 'green', 'blue', 'indigo'}\n",
      "{'green', 'red', 'blue'}\n"
     ]
    }
   ],
   "source": [
    "colourset1=frozenset(('violet', 'indigo' ,'blue' , 'green'))\n",
    "colourset2=frozenset(('red' ,'blue' , 'green'))\n",
    "newcolourset1=set(colourset1)\n",
    "print(newcolourset1)\n",
    "newcolourset2=set(colourset2)\n",
    "print(newcolourset2)\n"
   ]
  },
  {
   "cell_type": "markdown",
   "id": "3b19e985",
   "metadata": {},
   "source": [
    "#### nested sets"
   ]
  },
  {
   "cell_type": "code",
   "execution_count": 33,
   "id": "10b8378d",
   "metadata": {},
   "outputs": [
    {
     "name": "stdout",
     "output_type": "stream",
     "text": [
      "None\n"
     ]
    }
   ],
   "source": [
    "olourset1={'violet', 'indigo' ,'blue' , 'green'}\n",
    "colourset2=frozenset(('red' ,'blue' , 'green'))\n",
    "sss=colourset1.add(colourset2)\n",
    "print(sss)"
   ]
  },
  {
   "cell_type": "code",
   "execution_count": 34,
   "id": "af176344",
   "metadata": {},
   "outputs": [
    {
     "name": "stdout",
     "output_type": "stream",
     "text": [
      "{frozenset({'green', 'red', 'blue'}), 'violet', 'green', 'indigo', 'blue'}\n"
     ]
    }
   ],
   "source": [
    "colourset1={'violet', 'indigo' ,'blue' , 'green'}\n",
    "colourset2=frozenset(('red' ,'blue' , 'green'))\n",
    "colourset1.add(colourset2)\n",
    "print(colourset1)"
   ]
  },
  {
   "cell_type": "code",
   "execution_count": 37,
   "id": "39c69973",
   "metadata": {},
   "outputs": [
    {
     "ename": "TypeError",
     "evalue": "set expected at most 1 argument, got 2",
     "output_type": "error",
     "traceback": [
      "\u001b[1;31m---------------------------------------------------------------------------\u001b[0m",
      "\u001b[1;31mTypeError\u001b[0m                                 Traceback (most recent call last)",
      "Cell \u001b[1;32mIn[37], line 3\u001b[0m\n\u001b[0;32m      1\u001b[0m colourset1\u001b[38;5;241m=\u001b[39m{\u001b[38;5;124m'\u001b[39m\u001b[38;5;124mviolet\u001b[39m\u001b[38;5;124m'\u001b[39m, \u001b[38;5;124m'\u001b[39m\u001b[38;5;124mindigo\u001b[39m\u001b[38;5;124m'\u001b[39m ,\u001b[38;5;124m'\u001b[39m\u001b[38;5;124mblue\u001b[39m\u001b[38;5;124m'\u001b[39m , \u001b[38;5;124m'\u001b[39m\u001b[38;5;124mgreen\u001b[39m\u001b[38;5;124m'\u001b[39m}\n\u001b[0;32m      2\u001b[0m colourset2\u001b[38;5;241m=\u001b[39m{\u001b[38;5;124m'\u001b[39m\u001b[38;5;124mred\u001b[39m\u001b[38;5;124m'\u001b[39m ,\u001b[38;5;124m'\u001b[39m\u001b[38;5;124mblue\u001b[39m\u001b[38;5;124m'\u001b[39m , \u001b[38;5;124m'\u001b[39m\u001b[38;5;124mgreen\u001b[39m\u001b[38;5;124m'\u001b[39m}\n\u001b[1;32m----> 3\u001b[0m nested_set\u001b[38;5;241m=\u001b[39m\u001b[38;5;28;43mset\u001b[39;49m\u001b[43m(\u001b[49m\u001b[38;5;28;43mfrozenset\u001b[39;49m\u001b[43m(\u001b[49m\u001b[43mcolourset1\u001b[49m\u001b[43m)\u001b[49m\u001b[43m,\u001b[49m\u001b[38;5;28;43mfrozenset\u001b[39;49m\u001b[43m(\u001b[49m\u001b[43mcolourset2\u001b[49m\u001b[43m)\u001b[49m\u001b[43m)\u001b[49m\n\u001b[0;32m      4\u001b[0m \u001b[38;5;28mprint\u001b[39m(nestedset1)\n",
      "\u001b[1;31mTypeError\u001b[0m: set expected at most 1 argument, got 2"
     ]
    }
   ],
   "source": [
    "colourset1={'violet', 'indigo' ,'blue' , 'green'}\n",
    "colourset2={'red' ,'blue' , 'green'}\n",
    "nested_set=set(frozenset(colourset1),frozenset(colourset2))\n",
    "print(nestedset1)"
   ]
  },
  {
   "cell_type": "code",
   "execution_count": 39,
   "id": "d3ed9fbb",
   "metadata": {},
   "outputs": [
    {
     "name": "stdout",
     "output_type": "stream",
     "text": [
      "{frozenset({'green', 'red', 'blue'}), frozenset({'violet', 'green', 'blue', 'indigo'})}\n"
     ]
    }
   ],
   "source": [
    "colourset1={'violet', 'indigo' ,'blue' , 'green'}\n",
    "colourset2={'red' ,'blue' , 'green'}\n",
    "nested_set=set((frozenset(colourset1),frozenset(colourset2)))\n",
    "print(nested_set)"
   ]
  },
  {
   "cell_type": "code",
   "execution_count": 45,
   "id": "934a83f1",
   "metadata": {},
   "outputs": [
    {
     "name": "stdout",
     "output_type": "stream",
     "text": [
      "{'violet', 'green', 'indigo', 'blue', 'red'}\n"
     ]
    }
   ],
   "source": [
    "colourset1={'violet', 'indigo' ,'blue' , 'green'}\n",
    "colourset2={'red' ,'blue' , 'green'}\n",
    "nested_set=set((frozenset(colourset1).union(frozenset(colourset2))))\n",
    "            \n",
    "print(nested_set)"
   ]
  },
  {
   "cell_type": "markdown",
   "id": "6329e6db",
   "metadata": {},
   "source": [
    "#### when to use set data structure"
   ]
  },
  {
   "cell_type": "markdown",
   "id": "f018c0ce",
   "metadata": {},
   "source": [
    "- to eliminate duplicate items.\n",
    "- membership testing\n",
    "- performing arithmetic operations similar to mathematical sets\n"
   ]
  },
  {
   "cell_type": "code",
   "execution_count": 55,
   "id": "4efe4156",
   "metadata": {},
   "outputs": [
    {
     "ename": "SyntaxError",
     "evalue": "cannot assign to literal (2875854888.py, line 2)",
     "output_type": "error",
     "traceback": [
      "\u001b[1;36m  Cell \u001b[1;32mIn[55], line 2\u001b[1;36m\u001b[0m\n\u001b[1;33m    for 'violet' in colourset1:\u001b[0m\n\u001b[1;37m        ^\u001b[0m\n\u001b[1;31mSyntaxError\u001b[0m\u001b[1;31m:\u001b[0m cannot assign to literal\n"
     ]
    }
   ],
   "source": [
    "v"
   ]
  },
  {
   "cell_type": "code",
   "execution_count": null,
   "id": "25879a84",
   "metadata": {},
   "outputs": [],
   "source": []
  }
 ],
 "metadata": {
  "kernelspec": {
   "display_name": "Python 3 (ipykernel)",
   "language": "python",
   "name": "python3"
  },
  "language_info": {
   "codemirror_mode": {
    "name": "ipython",
    "version": 3
   },
   "file_extension": ".py",
   "mimetype": "text/x-python",
   "name": "python",
   "nbconvert_exporter": "python",
   "pygments_lexer": "ipython3",
   "version": "3.10.9"
  }
 },
 "nbformat": 4,
 "nbformat_minor": 5
}
